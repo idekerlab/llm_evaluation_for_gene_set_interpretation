{
 "cells": [
  {
   "cell_type": "code",
   "execution_count": 1,
   "metadata": {},
   "outputs": [
    {
     "name": "stdout",
     "output_type": "stream",
     "text": [
      "['GO:0031330', 'GO:0031329', 'GO:0044248', 'GO:0044237', 'GO:0009987', 'GO:0008150', 'GO:0008152', 'GO:0008150', 'GO:0009056', 'GO:0008152', 'GO:0008150', 'GO:0009894', 'GO:0019222', 'GO:0050789', 'GO:0008150', 'GO:0065007', 'GO:0008150', 'GO:0008152', 'GO:0008150', 'GO:0009056', 'GO:0008152', 'GO:0008150', 'GO:0031323', 'GO:0044237', 'GO:0009987', 'GO:0008150', 'GO:0008152', 'GO:0008150', 'GO:0050794', 'GO:0009987', 'GO:0008150', 'GO:0050789', 'GO:0008150', 'GO:0065007', 'GO:0008150', 'GO:0019222', 'GO:0050789', 'GO:0008150', 'GO:0065007', 'GO:0008150', 'GO:0008152', 'GO:0008150', 'GO:0031324', 'GO:0044237', 'GO:0009987', 'GO:0008150', 'GO:0008152', 'GO:0008150', 'GO:0048523', 'GO:0009987', 'GO:0008150', 'GO:0048519', 'GO:0008150', 'GO:0050789', 'GO:0008150', 'GO:0065007', 'GO:0008150', 'GO:0050794', 'GO:0009987', 'GO:0008150', 'GO:0050789', 'GO:0008150', 'GO:0065007', 'GO:0008150', 'GO:0009892', 'GO:0048519', 'GO:0008150', 'GO:0050789', 'GO:0008150', 'GO:0065007', 'GO:0008150', 'GO:0008152', 'GO:0008150', 'GO:0019222', 'GO:0050789', 'GO:0008150', 'GO:0065007', 'GO:0008150', 'GO:0008152', 'GO:0008150', 'GO:0031323', 'GO:0044237', 'GO:0009987', 'GO:0008150', 'GO:0008152', 'GO:0008150', 'GO:0050794', 'GO:0009987', 'GO:0008150', 'GO:0050789', 'GO:0008150', 'GO:0065007', 'GO:0008150', 'GO:0019222', 'GO:0050789', 'GO:0008150', 'GO:0065007', 'GO:0008150', 'GO:0008152', 'GO:0008150', 'GO:0009895', 'GO:0009892', 'GO:0048519', 'GO:0008150', 'GO:0050789', 'GO:0008150', 'GO:0065007', 'GO:0008150', 'GO:0008152', 'GO:0008150', 'GO:0019222', 'GO:0050789', 'GO:0008150', 'GO:0065007', 'GO:0008150', 'GO:0008152', 'GO:0008150', 'GO:0009056', 'GO:0008152', 'GO:0008150', 'GO:0009894', 'GO:0019222', 'GO:0050789', 'GO:0008150', 'GO:0065007', 'GO:0008150', 'GO:0008152', 'GO:0008150', 'GO:0009056', 'GO:0008152', 'GO:0008150', 'GO:0090209', 'GO:0006641', 'GO:0006639', 'GO:0006638', 'GO:0044255', 'GO:0044237', 'GO:0009987', 'GO:0008150', 'GO:0008152', 'GO:0008150', 'GO:0006629', 'GO:0044238', 'GO:0008152', 'GO:0008150', 'GO:0071704', 'GO:0008152', 'GO:0008150', 'GO:0046486', 'GO:0044255', 'GO:0044237', 'GO:0009987', 'GO:0008150', 'GO:0008152', 'GO:0008150', 'GO:0006629', 'GO:0044238', 'GO:0008152', 'GO:0008150', 'GO:0071704', 'GO:0008152', 'GO:0008150', 'GO:0031324', 'GO:0044237', 'GO:0009987', 'GO:0008150', 'GO:0008152', 'GO:0008150', 'GO:0048523', 'GO:0009987', 'GO:0008150', 'GO:0048519', 'GO:0008150', 'GO:0050789', 'GO:0008150', 'GO:0065007', 'GO:0008150', 'GO:0050794', 'GO:0009987', 'GO:0008150', 'GO:0050789', 'GO:0008150', 'GO:0065007', 'GO:0008150', 'GO:0009892', 'GO:0048519', 'GO:0008150', 'GO:0050789', 'GO:0008150', 'GO:0065007', 'GO:0008150', 'GO:0008152', 'GO:0008150', 'GO:0019222', 'GO:0050789', 'GO:0008150', 'GO:0065007', 'GO:0008150', 'GO:0008152', 'GO:0008150', 'GO:0031323', 'GO:0044237', 'GO:0009987', 'GO:0008150', 'GO:0008152', 'GO:0008150', 'GO:0050794', 'GO:0009987', 'GO:0008150', 'GO:0050789', 'GO:0008150', 'GO:0065007', 'GO:0008150', 'GO:0019222', 'GO:0050789', 'GO:0008150', 'GO:0065007', 'GO:0008150', 'GO:0008152', 'GO:0008150', 'GO:0090207', 'GO:0006641', 'GO:0006639', 'GO:0006638', 'GO:0044255', 'GO:0044237', 'GO:0009987', 'GO:0008150', 'GO:0008152', 'GO:0008150', 'GO:0006629', 'GO:0044238', 'GO:0008152', 'GO:0008150', 'GO:0071704', 'GO:0008152', 'GO:0008150', 'GO:0046486', 'GO:0044255', 'GO:0044237', 'GO:0009987', 'GO:0008150', 'GO:0008152', 'GO:0008150', 'GO:0006629', 'GO:0044238', 'GO:0008152', 'GO:0008150', 'GO:0071704', 'GO:0008152', 'GO:0008150', 'GO:0031323', 'GO:0044237', 'GO:0009987', 'GO:0008150', 'GO:0008152', 'GO:0008150', 'GO:0050794', 'GO:0009987', 'GO:0008150', 'GO:0050789', 'GO:0008150', 'GO:0065007', 'GO:0008150', 'GO:0019222', 'GO:0050789', 'GO:0008150', 'GO:0065007', 'GO:0008150', 'GO:0008152', 'GO:0008150', 'GO:0019216', 'GO:0080090', 'GO:0044238', 'GO:0008152', 'GO:0008150', 'GO:0019222', 'GO:0050789', 'GO:0008150', 'GO:0065007', 'GO:0008150', 'GO:0008152', 'GO:0008150', 'GO:0006629', 'GO:0044238', 'GO:0008152', 'GO:0008150', 'GO:0071704', 'GO:0008152', 'GO:0008150', 'GO:0045833', 'GO:0006629', 'GO:0044238', 'GO:0008152', 'GO:0008150', 'GO:0071704', 'GO:0008152', 'GO:0008150', 'GO:0009892', 'GO:0048519', 'GO:0008150', 'GO:0050789', 'GO:0008150', 'GO:0065007', 'GO:0008150', 'GO:0008152', 'GO:0008150', 'GO:0019222', 'GO:0050789', 'GO:0008150', 'GO:0065007', 'GO:0008150', 'GO:0008152', 'GO:0008150', 'GO:0019216', 'GO:0080090', 'GO:0044238', 'GO:0008152', 'GO:0008150', 'GO:0019222', 'GO:0050789', 'GO:0008150', 'GO:0065007', 'GO:0008150', 'GO:0008152', 'GO:0008150', 'GO:0006629', 'GO:0044238', 'GO:0008152', 'GO:0008150', 'GO:0071704', 'GO:0008152', 'GO:0008150', 'GO:0019433', 'GO:0006641', 'GO:0006639', 'GO:0006638', 'GO:0044255', 'GO:0044237', 'GO:0009987', 'GO:0008150', 'GO:0008152', 'GO:0008150', 'GO:0006629', 'GO:0044238', 'GO:0008152', 'GO:0008150', 'GO:0071704', 'GO:0008152', 'GO:0008150', 'GO:0046486', 'GO:0044255', 'GO:0044237', 'GO:0009987', 'GO:0008150', 'GO:0008152', 'GO:0008150', 'GO:0006629', 'GO:0044238', 'GO:0008152', 'GO:0008150', 'GO:0071704', 'GO:0008152', 'GO:0008150', 'GO:0046464', 'GO:0006638', 'GO:0044255', 'GO:0044237', 'GO:0009987', 'GO:0008150', 'GO:0008152', 'GO:0008150', 'GO:0006629', 'GO:0044238', 'GO:0008152', 'GO:0008150', 'GO:0071704', 'GO:0008152', 'GO:0008150', 'GO:0006639', 'GO:0006638', 'GO:0044255', 'GO:0044237', 'GO:0009987', 'GO:0008150', 'GO:0008152', 'GO:0008150', 'GO:0006629', 'GO:0044238', 'GO:0008152', 'GO:0008150', 'GO:0071704', 'GO:0008152', 'GO:0008150', 'GO:0046486', 'GO:0044255', 'GO:0044237', 'GO:0009987', 'GO:0008150', 'GO:0008152', 'GO:0008150', 'GO:0006629', 'GO:0044238', 'GO:0008152', 'GO:0008150', 'GO:0071704', 'GO:0008152', 'GO:0008150', 'GO:0044242', 'GO:0044255', 'GO:0044237', 'GO:0009987', 'GO:0008150', 'GO:0008152', 'GO:0008150', 'GO:0006629', 'GO:0044238', 'GO:0008152', 'GO:0008150', 'GO:0071704', 'GO:0008152', 'GO:0008150', 'GO:0016042', 'GO:1901575', 'GO:0071704', 'GO:0008152', 'GO:0008150', 'GO:0009056', 'GO:0008152', 'GO:0008150', 'GO:0006629', 'GO:0044238', 'GO:0008152', 'GO:0008150', 'GO:0071704', 'GO:0008152', 'GO:0008150', 'GO:0044248', 'GO:0044237', 'GO:0009987', 'GO:0008150', 'GO:0008152', 'GO:0008150', 'GO:0009056', 'GO:0008152', 'GO:0008150', 'GO:0046503', 'GO:0046486', 'GO:0044255', 'GO:0044237', 'GO:0009987', 'GO:0008150', 'GO:0008152', 'GO:0008150', 'GO:0006629', 'GO:0044238', 'GO:0008152', 'GO:0008150', 'GO:0071704', 'GO:0008152', 'GO:0008150', 'GO:0044242', 'GO:0044255', 'GO:0044237', 'GO:0009987', 'GO:0008150', 'GO:0008152', 'GO:0008150', 'GO:0006629', 'GO:0044238', 'GO:0008152', 'GO:0008150', 'GO:0071704', 'GO:0008152', 'GO:0008150', 'GO:0016042', 'GO:1901575', 'GO:0071704', 'GO:0008152', 'GO:0008150', 'GO:0009056', 'GO:0008152', 'GO:0008150', 'GO:0006629', 'GO:0044238', 'GO:0008152', 'GO:0008150', 'GO:0071704', 'GO:0008152', 'GO:0008150', 'GO:0044248', 'GO:0044237', 'GO:0009987', 'GO:0008150', 'GO:0008152', 'GO:0008150', 'GO:0009056', 'GO:0008152', 'GO:0008150', 'GO:0010896', 'GO:0031329', 'GO:0044248', 'GO:0044237', 'GO:0009987', 'GO:0008150', 'GO:0008152', 'GO:0008150', 'GO:0009056', 'GO:0008152', 'GO:0008150', 'GO:0009894', 'GO:0019222', 'GO:0050789', 'GO:0008150', 'GO:0065007', 'GO:0008150', 'GO:0008152', 'GO:0008150', 'GO:0009056', 'GO:0008152', 'GO:0008150', 'GO:0031323', 'GO:0044237', 'GO:0009987', 'GO:0008150', 'GO:0008152', 'GO:0008150', 'GO:0050794', 'GO:0009987', 'GO:0008150', 'GO:0050789', 'GO:0008150', 'GO:0065007', 'GO:0008150', 'GO:0019222', 'GO:0050789', 'GO:0008150', 'GO:0065007', 'GO:0008150', 'GO:0008152', 'GO:0008150', 'GO:0090207', 'GO:0006641', 'GO:0006639', 'GO:0006638', 'GO:0044255', 'GO:0044237', 'GO:0009987', 'GO:0008150', 'GO:0008152', 'GO:0008150', 'GO:0006629', 'GO:0044238', 'GO:0008152', 'GO:0008150', 'GO:0071704', 'GO:0008152', 'GO:0008150', 'GO:0046486', 'GO:0044255', 'GO:0044237', 'GO:0009987', 'GO:0008150', 'GO:0008152', 'GO:0008150', 'GO:0006629', 'GO:0044238', 'GO:0008152', 'GO:0008150', 'GO:0071704', 'GO:0008152', 'GO:0008150', 'GO:0031323', 'GO:0044237', 'GO:0009987', 'GO:0008150', 'GO:0008152', 'GO:0008150', 'GO:0050794', 'GO:0009987', 'GO:0008150', 'GO:0050789', 'GO:0008150', 'GO:0065007', 'GO:0008150', 'GO:0019222', 'GO:0050789', 'GO:0008150', 'GO:0065007', 'GO:0008150', 'GO:0008152', 'GO:0008150', 'GO:0019216', 'GO:0080090', 'GO:0044238', 'GO:0008152', 'GO:0008150', 'GO:0019222', 'GO:0050789', 'GO:0008150', 'GO:0065007', 'GO:0008150', 'GO:0008152', 'GO:0008150', 'GO:0006629', 'GO:0044238', 'GO:0008152', 'GO:0008150', 'GO:0071704', 'GO:0008152', 'GO:0008150', 'GO:0019433', 'GO:0006641', 'GO:0006639', 'GO:0006638', 'GO:0044255', 'GO:0044237', 'GO:0009987', 'GO:0008150', 'GO:0008152', 'GO:0008150', 'GO:0006629', 'GO:0044238', 'GO:0008152', 'GO:0008150', 'GO:0071704', 'GO:0008152', 'GO:0008150', 'GO:0046486', 'GO:0044255', 'GO:0044237', 'GO:0009987', 'GO:0008150', 'GO:0008152', 'GO:0008150', 'GO:0006629', 'GO:0044238', 'GO:0008152', 'GO:0008150', 'GO:0071704', 'GO:0008152', 'GO:0008150', 'GO:0046464', 'GO:0006638', 'GO:0044255', 'GO:0044237', 'GO:0009987', 'GO:0008150', 'GO:0008152', 'GO:0008150', 'GO:0006629', 'GO:0044238', 'GO:0008152', 'GO:0008150', 'GO:0071704', 'GO:0008152', 'GO:0008150', 'GO:0006639', 'GO:0006638', 'GO:0044255', 'GO:0044237', 'GO:0009987', 'GO:0008150', 'GO:0008152', 'GO:0008150', 'GO:0006629', 'GO:0044238', 'GO:0008152', 'GO:0008150', 'GO:0071704', 'GO:0008152', 'GO:0008150', 'GO:0046486', 'GO:0044255', 'GO:0044237', 'GO:0009987', 'GO:0008150', 'GO:0008152', 'GO:0008150', 'GO:0006629', 'GO:0044238', 'GO:0008152', 'GO:0008150', 'GO:0071704', 'GO:0008152', 'GO:0008150', 'GO:0044242', 'GO:0044255', 'GO:0044237', 'GO:0009987', 'GO:0008150', 'GO:0008152', 'GO:0008150', 'GO:0006629', 'GO:0044238', 'GO:0008152', 'GO:0008150', 'GO:0071704', 'GO:0008152', 'GO:0008150', 'GO:0016042', 'GO:1901575', 'GO:0071704', 'GO:0008152', 'GO:0008150', 'GO:0009056', 'GO:0008152', 'GO:0008150', 'GO:0006629', 'GO:0044238', 'GO:0008152', 'GO:0008150', 'GO:0071704', 'GO:0008152', 'GO:0008150', 'GO:0044248', 'GO:0044237', 'GO:0009987', 'GO:0008150', 'GO:0008152', 'GO:0008150', 'GO:0009056', 'GO:0008152', 'GO:0008150', 'GO:0046503', 'GO:0046486', 'GO:0044255', 'GO:0044237', 'GO:0009987', 'GO:0008150', 'GO:0008152', 'GO:0008150', 'GO:0006629', 'GO:0044238', 'GO:0008152', 'GO:0008150', 'GO:0071704', 'GO:0008152', 'GO:0008150', 'GO:0044242', 'GO:0044255', 'GO:0044237', 'GO:0009987', 'GO:0008150', 'GO:0008152', 'GO:0008150', 'GO:0006629', 'GO:0044238', 'GO:0008152', 'GO:0008150', 'GO:0071704', 'GO:0008152', 'GO:0008150', 'GO:0016042', 'GO:1901575', 'GO:0071704', 'GO:0008152', 'GO:0008150', 'GO:0009056', 'GO:0008152', 'GO:0008150', 'GO:0006629', 'GO:0044238', 'GO:0008152', 'GO:0008150', 'GO:0071704', 'GO:0008152', 'GO:0008150', 'GO:0044248', 'GO:0044237', 'GO:0009987', 'GO:0008150', 'GO:0008152', 'GO:0008150', 'GO:0009056', 'GO:0008152', 'GO:0008150', 'GO:0050994', 'GO:0016042', 'GO:1901575', 'GO:0071704', 'GO:0008152', 'GO:0008150', 'GO:0009056', 'GO:0008152', 'GO:0008150', 'GO:0006629', 'GO:0044238', 'GO:0008152', 'GO:0008150', 'GO:0071704', 'GO:0008152', 'GO:0008150', 'GO:0009894', 'GO:0019222', 'GO:0050789', 'GO:0008150', 'GO:0065007', 'GO:0008150', 'GO:0008152', 'GO:0008150', 'GO:0009056', 'GO:0008152', 'GO:0008150', 'GO:0019216', 'GO:0080090', 'GO:0044238', 'GO:0008152', 'GO:0008150', 'GO:0019222', 'GO:0050789', 'GO:0008150', 'GO:0065007', 'GO:0008150', 'GO:0008152', 'GO:0008150', 'GO:0006629', 'GO:0044238', 'GO:0008152', 'GO:0008150', 'GO:0071704', 'GO:0008152', 'GO:0008150', 'GO:0050995', 'GO:0016042', 'GO:1901575', 'GO:0071704', 'GO:0008152', 'GO:0008150', 'GO:0009056', 'GO:0008152', 'GO:0008150', 'GO:0006629', 'GO:0044238', 'GO:0008152', 'GO:0008150', 'GO:0071704', 'GO:0008152', 'GO:0008150', 'GO:0050994', 'GO:0016042', 'GO:1901575', 'GO:0071704', 'GO:0008152', 'GO:0008150', 'GO:0009056', 'GO:0008152', 'GO:0008150', 'GO:0006629', 'GO:0044238', 'GO:0008152', 'GO:0008150', 'GO:0071704', 'GO:0008152', 'GO:0008150', 'GO:0009894', 'GO:0019222', 'GO:0050789', 'GO:0008150', 'GO:0065007', 'GO:0008150', 'GO:0008152', 'GO:0008150', 'GO:0009056', 'GO:0008152', 'GO:0008150', 'GO:0019216', 'GO:0080090', 'GO:0044238', 'GO:0008152', 'GO:0008150', 'GO:0019222', 'GO:0050789', 'GO:0008150', 'GO:0065007', 'GO:0008150', 'GO:0008152', 'GO:0008150', 'GO:0006629', 'GO:0044238', 'GO:0008152', 'GO:0008150', 'GO:0071704', 'GO:0008152', 'GO:0008150', 'GO:0009895', 'GO:0009892', 'GO:0048519', 'GO:0008150', 'GO:0050789', 'GO:0008150', 'GO:0065007', 'GO:0008150', 'GO:0008152', 'GO:0008150', 'GO:0019222', 'GO:0050789', 'GO:0008150', 'GO:0065007', 'GO:0008150', 'GO:0008152', 'GO:0008150', 'GO:0009056', 'GO:0008152', 'GO:0008150', 'GO:0009894', 'GO:0019222', 'GO:0050789', 'GO:0008150', 'GO:0065007', 'GO:0008150', 'GO:0008152', 'GO:0008150', 'GO:0009056', 'GO:0008152', 'GO:0008150', 'GO:0045833', 'GO:0006629', 'GO:0044238', 'GO:0008152', 'GO:0008150', 'GO:0071704', 'GO:0008152', 'GO:0008150', 'GO:0009892', 'GO:0048519', 'GO:0008150', 'GO:0050789', 'GO:0008150', 'GO:0065007', 'GO:0008150', 'GO:0008152', 'GO:0008150', 'GO:0019222', 'GO:0050789', 'GO:0008150', 'GO:0065007', 'GO:0008150', 'GO:0008152', 'GO:0008150', 'GO:0019216', 'GO:0080090', 'GO:0044238', 'GO:0008152', 'GO:0008150', 'GO:0019222', 'GO:0050789', 'GO:0008150', 'GO:0065007', 'GO:0008150', 'GO:0008152', 'GO:0008150', 'GO:0006629', 'GO:0044238', 'GO:0008152', 'GO:0008150', 'GO:0071704', 'GO:0008152', 'GO:0008150']\n",
      "959\n"
     ]
    }
   ],
   "source": [
    "## find all parents of GO:0010898, and the lineage all the way to the root \n",
    "# load a sif network, where showing child-parent relationship\n",
    "import pandas as pd\n",
    "\n",
    "def load_ont(filename):\n",
    "    data = []\n",
    "    with open(filename, 'r') as f:\n",
    "        for line in f:\n",
    "            columns = line.strip().split('\\t')  # tab-separated values\n",
    "            if len(columns) >= 3:\n",
    "                parent = columns[0] # based on collapsed_go.symbol, the first column is parent\n",
    "                child = columns[1] # second column is child\n",
    "                interaction = columns[2] # third column is interaction type\n",
    "                if interaction == 'default':\n",
    "                    data.append({'child': child, 'parent': parent}) # Add child and parent to a dataframe\n",
    "    df = pd.DataFrame(data)\n",
    "    return df\n",
    "             \n",
    "\n",
    "def get_ancestors(child_node, edges):\n",
    "    ancestors = []\n",
    "    # Find the parents of the current node. In the 'edges' DataFrame, \n",
    "    # this is done by looking up rows where the 'child' column matches \n",
    "    # the current node, and then getting the corresponding values in the 'parent' column.\n",
    "    parents = edges.loc[edges['child'] == child_node, 'parent'].values\n",
    "\n",
    "    for parent in parents:\n",
    "        if parent not in ancestors:  # Check if the parent is already in the ancestors list\n",
    "            ancestors.append(parent)  # If not, add it to the list\n",
    "            ancestors.extend(get_ancestors(parent, edges))  # Recursively find the parent's ancestors\n",
    "\n",
    "    return ancestors\n",
    "\n",
    "\n",
    "if __name__ == '__main__':\n",
    "    GO_ID = 'GO:0010897'\n",
    "    go_network = load_ont('./data/GO_BP/collapsed_go.symbol')\n",
    "    ancestors = get_ancestors(GO_ID, go_network)\n",
    "    print(ancestors)\n",
    "    print(len(ancestors))\n",
    "    filtered_network = go_network[(go_network['child'].isin(ancestors+[GO_ID]))]\n",
    "    GO_ID_name = GO_ID.replace(':', '_')\n",
    "    filtered_network.to_csv(f'./data/GO_term_analysis/{GO_ID_name}_subhierarchy.txt', sep= '\\t', index=False)\n"
   ]
  },
  {
   "cell_type": "code",
   "execution_count": 2,
   "metadata": {},
   "outputs": [
    {
     "name": "stdout",
     "output_type": "stream",
     "text": [
      "97 41\n"
     ]
    }
   ],
   "source": [
    "print(len(filtered_network), len(set(ancestors)))"
   ]
  },
  {
   "cell_type": "code",
   "execution_count": 3,
   "metadata": {},
   "outputs": [
    {
     "name": "stdout",
     "output_type": "stream",
     "text": [
      "(42, 4)\n"
     ]
    }
   ],
   "source": [
    "# make a nodes attribute table for all nodes in the subnetwork\n",
    "GO_ID = 'GO:0010897'\n",
    "GO_ID_name = GO_ID.replace(':', '_')\n",
    "# load the GO term annotation file\n",
    "import pandas as pd\n",
    "df_csv = pd.read_csv('./data/go_terms.csv', index_col=0)\n",
    "\n",
    "terms_in_subnetwork = set(filtered_network['child'].tolist() + filtered_network['parent'].tolist())\n",
    "\n",
    "sub_nodes = df_csv.loc[df_csv['GO'].isin(terms_in_subnetwork), :]\n",
    "\n",
    "# sub_nodes.head()\n",
    "print(sub_nodes.shape)\n",
    "\n",
    "sub_nodes.to_csv(f'./data/GO_term_analysis/{GO_ID_name}_subhierarchy_nodes.txt', sep='\\t', index=False)"
   ]
  },
  {
   "cell_type": "code",
   "execution_count": 4,
   "metadata": {},
   "outputs": [
    {
     "data": {
      "text/html": [
       "<div>\n",
       "<style scoped>\n",
       "    .dataframe tbody tr th:only-of-type {\n",
       "        vertical-align: middle;\n",
       "    }\n",
       "\n",
       "    .dataframe tbody tr th {\n",
       "        vertical-align: top;\n",
       "    }\n",
       "\n",
       "    .dataframe thead th {\n",
       "        text-align: right;\n",
       "    }\n",
       "</style>\n",
       "<table border=\"1\" class=\"dataframe\">\n",
       "  <thead>\n",
       "    <tr style=\"text-align: right;\">\n",
       "      <th></th>\n",
       "      <th>GO</th>\n",
       "      <th>Genes</th>\n",
       "      <th>Gene_Count</th>\n",
       "      <th>Term_Description</th>\n",
       "    </tr>\n",
       "  </thead>\n",
       "  <tbody>\n",
       "    <tr>\n",
       "      <th>121</th>\n",
       "      <td>GO:0071704</td>\n",
       "      <td>COMT ASPSCR1 CWF19L1 SERPINI2 ACTR6 ATP5IF1 CA...</td>\n",
       "      <td>10459</td>\n",
       "      <td>organic substance metabolic process</td>\n",
       "    </tr>\n",
       "    <tr>\n",
       "      <th>312</th>\n",
       "      <td>GO:0090207</td>\n",
       "      <td>NR1H2 SIRT1 KAT5 APOA5 APOA4 PANK2 CTDNEP1 CNE...</td>\n",
       "      <td>42</td>\n",
       "      <td>regulation of triglyceride metabolic process</td>\n",
       "    </tr>\n",
       "    <tr>\n",
       "      <th>516</th>\n",
       "      <td>GO:0044242</td>\n",
       "      <td>HAO1 PLA2G7 HEXA PHYH HAO2 HEXB ABCD4 MGLL SMP...</td>\n",
       "      <td>223</td>\n",
       "      <td>cellular lipid catabolic process</td>\n",
       "    </tr>\n",
       "    <tr>\n",
       "      <th>616</th>\n",
       "      <td>GO:0009892</td>\n",
       "      <td>TRIM33 ZNF256 ZNF692 SERPINI2 CBFA2T3 ACTR6 AT...</td>\n",
       "      <td>2806</td>\n",
       "      <td>negative regulation of metabolic process</td>\n",
       "    </tr>\n",
       "    <tr>\n",
       "      <th>1025</th>\n",
       "      <td>GO:0019216</td>\n",
       "      <td>HPGD PRKAG2 ADRA2A TREM2 APOA5 TWIST1 ATP1A1 A...</td>\n",
       "      <td>303</td>\n",
       "      <td>regulation of lipid metabolic process</td>\n",
       "    </tr>\n",
       "  </tbody>\n",
       "</table>\n",
       "</div>"
      ],
      "text/plain": [
       "              GO                                              Genes  \\\n",
       "121   GO:0071704  COMT ASPSCR1 CWF19L1 SERPINI2 ACTR6 ATP5IF1 CA...   \n",
       "312   GO:0090207  NR1H2 SIRT1 KAT5 APOA5 APOA4 PANK2 CTDNEP1 CNE...   \n",
       "516   GO:0044242  HAO1 PLA2G7 HEXA PHYH HAO2 HEXB ABCD4 MGLL SMP...   \n",
       "616   GO:0009892  TRIM33 ZNF256 ZNF692 SERPINI2 CBFA2T3 ACTR6 AT...   \n",
       "1025  GO:0019216  HPGD PRKAG2 ADRA2A TREM2 APOA5 TWIST1 ATP1A1 A...   \n",
       "\n",
       "      Gene_Count                              Term_Description  \n",
       "121        10459           organic substance metabolic process  \n",
       "312           42  regulation of triglyceride metabolic process  \n",
       "516          223              cellular lipid catabolic process  \n",
       "616         2806      negative regulation of metabolic process  \n",
       "1025         303         regulation of lipid metabolic process  "
      ]
     },
     "execution_count": 4,
     "metadata": {},
     "output_type": "execute_result"
    }
   ],
   "source": [
    "sub_nodes.head()"
   ]
  },
  {
   "cell_type": "code",
   "execution_count": null,
   "metadata": {},
   "outputs": [],
   "source": []
  }
 ],
 "metadata": {
  "kernelspec": {
   "display_name": "llm",
   "language": "python",
   "name": "python3"
  },
  "language_info": {
   "codemirror_mode": {
    "name": "ipython",
    "version": 3
   },
   "file_extension": ".py",
   "mimetype": "text/x-python",
   "name": "python",
   "nbconvert_exporter": "python",
   "pygments_lexer": "ipython3",
   "version": "3.11.5"
  },
  "orig_nbformat": 4
 },
 "nbformat": 4,
 "nbformat_minor": 2
}

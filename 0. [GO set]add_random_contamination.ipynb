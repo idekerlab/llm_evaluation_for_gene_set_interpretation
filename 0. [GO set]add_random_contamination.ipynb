{
 "cells": [
  {
   "cell_type": "code",
   "execution_count": 2,
   "metadata": {},
   "outputs": [],
   "source": [
    "import pandas as pd \n",
    "import numpy as np \n",
    "import networkx as nx\n",
    "\n",
    "np.random.seed(42)\n",
    "SEED = 42"
   ]
  },
  {
   "cell_type": "markdown",
   "metadata": {},
   "source": [
    "## Create random gene sets and contaminated ones \n",
    "\n",
    "* random: same size as the selected term, draw genes from the pool that is not in the systems with direct connection with the real gene set \n",
    "\n",
    "* contaimnated: same size as the selected term, randomly perserve 50% of them (roof) and the rest 50% randomly select from the random gene set. "
   ]
  },
  {
   "cell_type": "code",
   "execution_count": 5,
   "metadata": {},
   "outputs": [],
   "source": [
    "full_GO = pd.read_csv('data/go_terms.csv', index_col=0)\n",
    "selected_go = pd.read_csv('data/GO_term_analysis/1000_selected_go_terms.csv')\n",
    "go_edges = pd.read_csv('./data/GO_BP/collapsed_go.symbol', sep='\\t', header=None, names=['parent', 'child', 'edge_type'])\n",
    "go_edges = go_edges[go_edges['edge_type'] == 'default']"
   ]
  },
  {
   "cell_type": "code",
   "execution_count": 7,
   "metadata": {},
   "outputs": [],
   "source": [
    "def find_direct_connections(go_id, edge_list):\n",
    "    direct_connections = edge_list.loc[(edge_list['parent'] == go_id), 'child'].tolist()\n",
    "    # print(len(direct_connections))\n",
    "    direct_connections.extend(edge_list.loc[(edge_list['child'] == go_id), 'parent'].tolist())\n",
    "    direct_connections = list(set(direct_connections))\n",
    "    return direct_connections\n",
    "\n",
    "# find_direct_connections(go_id, go_edges)\n"
   ]
  },
  {
   "cell_type": "code",
   "execution_count": 8,
   "metadata": {},
   "outputs": [],
   "source": [
    "def get_gene_pool(go_id, edge_list, go_terms):\n",
    "    '''\n",
    "    go_id: the go term id\n",
    "    edge_list: the edge list of the go terms\n",
    "    go_terms: the full go terms dataframe\n",
    "    '''\n",
    "    gene_pool = set(gene for genes in go_terms['Genes'].apply(lambda x: x.split(' ')) for gene in genes)\n",
    "    # print(len(gene_pool))\n",
    "    direct_connections = find_direct_connections(go_id, edge_list)\n",
    "    # exclude genes from direct connection terms\n",
    "    direct_connection_pool = go_terms[go_terms['GO'].isin(direct_connections+ [go_id])]\n",
    "    direct_connection_genes = set(gene for genes in direct_connection_pool['Genes'].apply(lambda x: x.split(' ')) for gene in genes)\n",
    "    # print(len(direct_connection_genes))\n",
    "    \n",
    "    filtered_gene_pool = gene_pool - direct_connection_genes\n",
    "    \n",
    "    current_genes = go_terms.loc[go_terms['GO'] == go_id, 'Genes'].tolist()[0].split(' ')\n",
    "    # print(len(current_genes))\n",
    "    \n",
    "    # check if theres any genes in the pool overlaps with the ones in go_id\n",
    "    # print(len(filtered_gene_pool))\n",
    "    assert len(set(current_genes).intersection(filtered_gene_pool)) == 0, 'Warning: genes in the pool overlaps with the ones in this real set'\n",
    "    return filtered_gene_pool\n",
    "\n",
    "\n",
    "def add_contamination(go_id, edge_list, go_terms, contamination_rate=0.5):\n",
    "    '''\n",
    "    contamination_rate: the percentage of genes to be contaminated\n",
    "    '''\n",
    "    random_pool = get_gene_pool(go_id, edge_list, go_terms)\n",
    "    current_genes = go_terms.loc[go_terms['GO'] == go_id, 'Genes'].tolist()[0].split(' ')\n",
    "    # print(current_genes)\n",
    "    contamination_size = int(np.ceil(len(current_genes) * contamination_rate))\n",
    "    contamination_genes = np.random.choice(list(random_pool), size=contamination_size, replace=False)\n",
    "    perserve_genes = np.random.choice(current_genes, size=len(current_genes) - contamination_size, replace=False)\n",
    "    new_set = list(perserve_genes) + list(contamination_genes)\n",
    "    assert len(new_set) == len(current_genes), 'length of new set is not the same as the original set'\n",
    "    return new_set\n"
   ]
  },
  {
   "cell_type": "code",
   "execution_count": 9,
   "metadata": {},
   "outputs": [],
   "source": [
    "# add contamination to the toy example\n",
    "selected_go['50perc_contaminated_Genes'] = selected_go.apply(lambda x: ' '.join(add_contamination(x['GO'], go_edges, full_GO, contamination_rate=0.5)), axis=1)\n",
    "selected_go['100perc_contaminated_Genes'] = selected_go.apply(lambda x: ' '.join(add_contamination(x['GO'], go_edges, full_GO, contamination_rate=1)), axis=1)\n",
    "selected_go.to_csv('data/GO_term_analysis/1000_selected_go_contaminated.csv', index=False)"
   ]
  },
  {
   "cell_type": "code",
   "execution_count": 10,
   "metadata": {},
   "outputs": [
    {
     "data": {
      "text/html": [
       "<div>\n",
       "<style scoped>\n",
       "    .dataframe tbody tr th:only-of-type {\n",
       "        vertical-align: middle;\n",
       "    }\n",
       "\n",
       "    .dataframe tbody tr th {\n",
       "        vertical-align: top;\n",
       "    }\n",
       "\n",
       "    .dataframe thead th {\n",
       "        text-align: right;\n",
       "    }\n",
       "</style>\n",
       "<table border=\"1\" class=\"dataframe\">\n",
       "  <thead>\n",
       "    <tr style=\"text-align: right;\">\n",
       "      <th></th>\n",
       "      <th>GO</th>\n",
       "      <th>Genes</th>\n",
       "      <th>Gene_Count</th>\n",
       "      <th>Term_Description</th>\n",
       "      <th>50perc_contaminated_Genes</th>\n",
       "      <th>100perc_contaminated_Genes</th>\n",
       "    </tr>\n",
       "  </thead>\n",
       "  <tbody>\n",
       "    <tr>\n",
       "      <th>0</th>\n",
       "      <td>GO:0048627</td>\n",
       "      <td>MEGF10 SDC1 WNT10B SOX15</td>\n",
       "      <td>4</td>\n",
       "      <td>myoblast development</td>\n",
       "      <td>MEGF10 WNT10B PDP2 INSL5</td>\n",
       "      <td>ENPP6 NAA80 BBS7 AJUBA</td>\n",
       "    </tr>\n",
       "    <tr>\n",
       "      <th>1</th>\n",
       "      <td>GO:1904888</td>\n",
       "      <td>CPLANE2 NEUROG1 GRHL2 TGFB3 EXT1 TGFBR2 TWIST1...</td>\n",
       "      <td>72</td>\n",
       "      <td>cranial skeletal system development</td>\n",
       "      <td>TFAP2A SIX4 MTHFD1L FGFR2 GNA11 TGFB3 IFT140 M...</td>\n",
       "      <td>LIFR ASB7 DEDD2 WSB1 USP51 OR2V2 CREBZF ELOVL4...</td>\n",
       "    </tr>\n",
       "    <tr>\n",
       "      <th>2</th>\n",
       "      <td>GO:0019585</td>\n",
       "      <td>DCXR UGT1A9 UGT2B7 PRKCE UGT1A7 UGT2A3 SORD UG...</td>\n",
       "      <td>26</td>\n",
       "      <td>glucuronate metabolic process</td>\n",
       "      <td>AKR1A1 DCXR UGT2A1 UGT2B7 UGT2A2 UGT2B28 UGT1A...</td>\n",
       "      <td>MSRB2 RAB3A DLL1 ERCC2 PIP4K2B HOXB13 TIMM50 Z...</td>\n",
       "    </tr>\n",
       "    <tr>\n",
       "      <th>3</th>\n",
       "      <td>GO:1902267</td>\n",
       "      <td>AZIN1 OAZ2 OAZ1 AZIN2 OAZ3</td>\n",
       "      <td>5</td>\n",
       "      <td>regulation of polyamine transmembrane transport</td>\n",
       "      <td>AZIN1 OAZ1 OR10A4 ZBTB10 BLNK</td>\n",
       "      <td>AP4B1 ULK4 MYCBP2 CD86 YTHDC2</td>\n",
       "    </tr>\n",
       "    <tr>\n",
       "      <th>4</th>\n",
       "      <td>GO:0019748</td>\n",
       "      <td>BDH2 CYP2A7 AKR1C1 ACMSD ATP7A ASIP DDT CYP3A4...</td>\n",
       "      <td>56</td>\n",
       "      <td>secondary metabolic process</td>\n",
       "      <td>AKR7A2 FMO1 UGT1A8 APPL1 WNT5A SULT1C4 ACMSD M...</td>\n",
       "      <td>CHRNB3 H2BC7 PSD ARL5B CLEC4C BSPH1 FREY1 POTE...</td>\n",
       "    </tr>\n",
       "  </tbody>\n",
       "</table>\n",
       "</div>"
      ],
      "text/plain": [
       "           GO                                              Genes  Gene_Count  \\\n",
       "0  GO:0048627                           MEGF10 SDC1 WNT10B SOX15           4   \n",
       "1  GO:1904888  CPLANE2 NEUROG1 GRHL2 TGFB3 EXT1 TGFBR2 TWIST1...          72   \n",
       "2  GO:0019585  DCXR UGT1A9 UGT2B7 PRKCE UGT1A7 UGT2A3 SORD UG...          26   \n",
       "3  GO:1902267                         AZIN1 OAZ2 OAZ1 AZIN2 OAZ3           5   \n",
       "4  GO:0019748  BDH2 CYP2A7 AKR1C1 ACMSD ATP7A ASIP DDT CYP3A4...          56   \n",
       "\n",
       "                                  Term_Description  \\\n",
       "0                             myoblast development   \n",
       "1              cranial skeletal system development   \n",
       "2                    glucuronate metabolic process   \n",
       "3  regulation of polyamine transmembrane transport   \n",
       "4                      secondary metabolic process   \n",
       "\n",
       "                           50perc_contaminated_Genes  \\\n",
       "0                           MEGF10 WNT10B PDP2 INSL5   \n",
       "1  TFAP2A SIX4 MTHFD1L FGFR2 GNA11 TGFB3 IFT140 M...   \n",
       "2  AKR1A1 DCXR UGT2A1 UGT2B7 UGT2A2 UGT2B28 UGT1A...   \n",
       "3                      AZIN1 OAZ1 OR10A4 ZBTB10 BLNK   \n",
       "4  AKR7A2 FMO1 UGT1A8 APPL1 WNT5A SULT1C4 ACMSD M...   \n",
       "\n",
       "                          100perc_contaminated_Genes  \n",
       "0                             ENPP6 NAA80 BBS7 AJUBA  \n",
       "1  LIFR ASB7 DEDD2 WSB1 USP51 OR2V2 CREBZF ELOVL4...  \n",
       "2  MSRB2 RAB3A DLL1 ERCC2 PIP4K2B HOXB13 TIMM50 Z...  \n",
       "3                      AP4B1 ULK4 MYCBP2 CD86 YTHDC2  \n",
       "4  CHRNB3 H2BC7 PSD ARL5B CLEC4C BSPH1 FREY1 POTE...  "
      ]
     },
     "execution_count": 10,
     "metadata": {},
     "output_type": "execute_result"
    }
   ],
   "source": [
    "selected_go.head()"
   ]
  },
  {
   "cell_type": "code",
   "execution_count": 12,
   "metadata": {},
   "outputs": [],
   "source": [
    "# extract a subset of 10 GO terms as a toy example\n",
    "import pandas as pd\n",
    "df = pd.read_csv('data/GO_term_analysis/1000_selected_go_contaminated.csv')\n",
    "# take random 10 GO terms \n",
    "\n",
    "toy = df.sample(n=10, random_state=SEED)\n",
    "toy.to_csv('data/GO_term_analysis/toy_example_w_contaminated.csv', index=False)"
   ]
  },
  {
   "cell_type": "code",
   "execution_count": 3,
   "metadata": {},
   "outputs": [
    {
     "name": "stderr",
     "output_type": "stream",
     "text": [
      "/tmp/ipykernel_547199/1707226366.py:8: FutureWarning: The frame.append method is deprecated and will be removed from pandas in a future version. Use pandas.concat instead.\n",
      "  toy = toy.append(gene_count100).reset_index(drop=True)\n"
     ]
    }
   ],
   "source": [
    "# add a gene set == 100 and run the analysis. add to the toy example file\n",
    "selected_go_terms = pd.read_csv('data/GO_term_analysis/1000_selected_go_contaminated.csv')\n",
    "\n",
    "# only one that has gene count == 100\n",
    "gene_count100 = selected_go_terms[selected_go_terms['Gene_Count'] == 100].reset_index(drop=True)\n",
    "\n",
    "toy = pd.read_csv('data/GO_term_analysis/toy_example_w_contaminated.csv')\n",
    "toy = toy.append(gene_count100).reset_index(drop=True)\n",
    "toy.to_csv('data/GO_term_analysis/toy_example_w_contaminated.csv', index=False)"
   ]
  },
  {
   "cell_type": "code",
   "execution_count": 15,
   "metadata": {},
   "outputs": [
    {
     "data": {
      "text/plain": [
       "['GO:0045940',\n",
       " 'GO:0010757',\n",
       " 'GO:2000136',\n",
       " 'GO:0002433',\n",
       " 'GO:1990874',\n",
       " 'GO:0002792',\n",
       " 'GO:1900368',\n",
       " 'GO:2000524',\n",
       " 'GO:2000556',\n",
       " 'GO:0120253',\n",
       " 'GO:0090100']"
      ]
     },
     "execution_count": 15,
     "metadata": {},
     "output_type": "execute_result"
    }
   ],
   "source": []
  },
  {
   "cell_type": "code",
   "execution_count": 25,
   "metadata": {},
   "outputs": [
    {
     "data": {
      "text/html": [
       "<div>\n",
       "<style scoped>\n",
       "    .dataframe tbody tr th:only-of-type {\n",
       "        vertical-align: middle;\n",
       "    }\n",
       "\n",
       "    .dataframe tbody tr th {\n",
       "        vertical-align: top;\n",
       "    }\n",
       "\n",
       "    .dataframe thead th {\n",
       "        text-align: right;\n",
       "    }\n",
       "</style>\n",
       "<table border=\"1\" class=\"dataframe\">\n",
       "  <thead>\n",
       "    <tr style=\"text-align: right;\">\n",
       "      <th></th>\n",
       "      <th>GO</th>\n",
       "      <th>Genes</th>\n",
       "      <th>Gene_Count</th>\n",
       "      <th>Term_Description</th>\n",
       "      <th>50perc_contaminated_Genes</th>\n",
       "      <th>100perc_contaminated_Genes</th>\n",
       "    </tr>\n",
       "  </thead>\n",
       "  <tbody>\n",
       "    <tr>\n",
       "      <th>0</th>\n",
       "      <td>GO:0061740</td>\n",
       "      <td>HSPA8 LAMP2 CLU</td>\n",
       "      <td>3</td>\n",
       "      <td>protein targeting to lysosome involved in chap...</td>\n",
       "      <td>CLU RAB28 PRAMEF19</td>\n",
       "      <td>VEZT TERF1 TTC3</td>\n",
       "    </tr>\n",
       "    <tr>\n",
       "      <th>1</th>\n",
       "      <td>GO:0045056</td>\n",
       "      <td>LRP1 PICALM CLTC USO1 VPS35 FCMR RAB5A AGER IG...</td>\n",
       "      <td>21</td>\n",
       "      <td>transcytosis</td>\n",
       "      <td>CLTC VPS35 FCGRT PTAFR RAB11B USO1 LRP1 LRP2 L...</td>\n",
       "      <td>LDAH ADH1A MAP3K6 PABIR1 AMY1C PRSS54 LGALS12 ...</td>\n",
       "    </tr>\n",
       "    <tr>\n",
       "      <th>2</th>\n",
       "      <td>GO:0141085</td>\n",
       "      <td>PPP2CA CD36 MARK4 CPTP TREM2 TLR6 ATAT1 FBXL2 ...</td>\n",
       "      <td>39</td>\n",
       "      <td>regulation of inflammasome-mediated signaling ...</td>\n",
       "      <td>PYDC2 BRCC3 USP50 MAVS IRGM PYDC1 GBP2 ZDHHC12...</td>\n",
       "      <td>TBC1D24 NIPSNAP2 IL1RL2 EGF PSMG2 GCSAML LIN7A...</td>\n",
       "    </tr>\n",
       "    <tr>\n",
       "      <th>3</th>\n",
       "      <td>GO:0036148</td>\n",
       "      <td>CRLS1 SERAC1 PLA2G4D PLA2G4F LPGAT1 LPCAT4 PLA...</td>\n",
       "      <td>10</td>\n",
       "      <td>phosphatidylglycerol acyl-chain remodeling</td>\n",
       "      <td>JMJD7-PLA2G4B LPGAT1 PLA2G2F PLA2G4F CRLS1 IMM...</td>\n",
       "      <td>EIF3B GID8 ARPC5 KLHL3 SPDEF PRMT9 PTPN9 AP4E1...</td>\n",
       "    </tr>\n",
       "    <tr>\n",
       "      <th>4</th>\n",
       "      <td>GO:1901797</td>\n",
       "      <td>MIF SIRT1 TWIST1 DYRK1A MUC1 ARMC10 MARCHF7 CD...</td>\n",
       "      <td>33</td>\n",
       "      <td>negative regulation of signal transduction by ...</td>\n",
       "      <td>MDM2 CD74 SNAI1 MUC1 TAF9 PRKN SNAI2 RNF34 HAP...</td>\n",
       "      <td>RAB40AL BAG3 CGGBP1 ZNF583 ZFYVE19 USP17L21 AT...</td>\n",
       "    </tr>\n",
       "  </tbody>\n",
       "</table>\n",
       "</div>"
      ],
      "text/plain": [
       "           GO                                              Genes  Gene_Count  \\\n",
       "0  GO:0061740                                    HSPA8 LAMP2 CLU           3   \n",
       "1  GO:0045056  LRP1 PICALM CLTC USO1 VPS35 FCMR RAB5A AGER IG...          21   \n",
       "2  GO:0141085  PPP2CA CD36 MARK4 CPTP TREM2 TLR6 ATAT1 FBXL2 ...          39   \n",
       "3  GO:0036148  CRLS1 SERAC1 PLA2G4D PLA2G4F LPGAT1 LPCAT4 PLA...          10   \n",
       "4  GO:1901797  MIF SIRT1 TWIST1 DYRK1A MUC1 ARMC10 MARCHF7 CD...          33   \n",
       "\n",
       "                                    Term_Description  \\\n",
       "0  protein targeting to lysosome involved in chap...   \n",
       "1                                       transcytosis   \n",
       "2  regulation of inflammasome-mediated signaling ...   \n",
       "3         phosphatidylglycerol acyl-chain remodeling   \n",
       "4  negative regulation of signal transduction by ...   \n",
       "\n",
       "                           50perc_contaminated_Genes  \\\n",
       "0                                 CLU RAB28 PRAMEF19   \n",
       "1  CLTC VPS35 FCGRT PTAFR RAB11B USO1 LRP1 LRP2 L...   \n",
       "2  PYDC2 BRCC3 USP50 MAVS IRGM PYDC1 GBP2 ZDHHC12...   \n",
       "3  JMJD7-PLA2G4B LPGAT1 PLA2G2F PLA2G4F CRLS1 IMM...   \n",
       "4  MDM2 CD74 SNAI1 MUC1 TAF9 PRKN SNAI2 RNF34 HAP...   \n",
       "\n",
       "                          100perc_contaminated_Genes  \n",
       "0                                    VEZT TERF1 TTC3  \n",
       "1  LDAH ADH1A MAP3K6 PABIR1 AMY1C PRSS54 LGALS12 ...  \n",
       "2  TBC1D24 NIPSNAP2 IL1RL2 EGF PSMG2 GCSAML LIN7A...  \n",
       "3  EIF3B GID8 ARPC5 KLHL3 SPDEF PRMT9 PTPN9 AP4E1...  \n",
       "4  RAB40AL BAG3 CGGBP1 ZNF583 ZFYVE19 USP17L21 AT...  "
      ]
     },
     "execution_count": 25,
     "metadata": {},
     "output_type": "execute_result"
    }
   ],
   "source": [
    "## subsetting 50 genes in this pool that are not in the toy examples \n",
    "toy = pd.read_csv('data/GO_term_analysis/toy_example_w_contaminated.csv')\n",
    "toy_terms = toy['GO'].tolist()\n",
    "\n",
    "selected_go_terms = pd.read_csv('data/GO_term_analysis/1000_selected_go_contaminated.csv')\n",
    "\n",
    "# filter out the ones that are in the toy example\n",
    "filtered_pool = selected_go_terms[~selected_go_terms['GO'].isin(toy_terms)].reset_index(drop=True)\n",
    "\n",
    "# take random 39 terms from this pool (to make it 50)\n",
    "toy_pool = filtered_pool.sample(n=89, random_state=SEED).reset_index(drop=True)\n",
    "toy_pool.to_csv('data/GO_term_analysis/model_comparison_terms.csv', index=False)\n",
    "toy_pool.head()"
   ]
  },
  {
   "cell_type": "code",
   "execution_count": 24,
   "metadata": {},
   "outputs": [
    {
     "name": "stderr",
     "output_type": "stream",
     "text": [
      "/tmp/ipykernel_547199/515370721.py:3: FutureWarning: The frame.append method is deprecated and will be removed from pandas in a future version. Use pandas.concat instead.\n",
      "  data = toy.append(toy_pool).reset_index(drop=True)\n"
     ]
    },
    {
     "data": {
      "text/plain": [
       "(array([34., 21.,  7.,  9.,  3.,  1.,  5.,  2.,  2.,  1.,  1.,  2.,  0.,\n",
       "         3.,  1.,  0.,  2.,  3.,  0.,  3.]),\n",
       " array([  3.  ,   7.85,  12.7 ,  17.55,  22.4 ,  27.25,  32.1 ,  36.95,\n",
       "         41.8 ,  46.65,  51.5 ,  56.35,  61.2 ,  66.05,  70.9 ,  75.75,\n",
       "         80.6 ,  85.45,  90.3 ,  95.15, 100.  ]),\n",
       " <BarContainer object of 20 artists>)"
      ]
     },
     "execution_count": 24,
     "metadata": {},
     "output_type": "execute_result"
    },
    {
     "data": {
      "image/png": "[encoded data removed]",
      "text/plain": [
       "<Figure size 500x500 with 1 Axes>"
      ]
     },
     "metadata": {},
     "output_type": "display_data"
    }
   ],
   "source": [
    "import matplotlib.pyplot as plt\n",
    "\n",
    "data = toy.append(toy_pool).reset_index(drop=True)\n",
    "\n",
    "plt.figure(figsize=(5,5))\n",
    "plt.hist(data['Gene_Count'], bins=20)"
   ]
  },
  {
   "cell_type": "code",
   "execution_count": null,
   "metadata": {},
   "outputs": [],
   "source": []
  }
 ],
 "metadata": {
  "kernelspec": {
   "display_name": "llm_eval",
   "language": "python",
   "name": "python3"
  },
  "language_info": {
   "codemirror_mode": {
    "name": "ipython",
    "version": 3
   },
   "file_extension": ".py",
   "mimetype": "text/x-python",
   "name": "python",
   "nbconvert_exporter": "python",
   "pygments_lexer": "ipython3",
   "version": "3.11.5"
  }
 },
 "nbformat": 4,
 "nbformat_minor": 2
}

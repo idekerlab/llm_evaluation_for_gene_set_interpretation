{
 "cells": [
  {
   "cell_type": "markdown",
   "metadata": {},
   "source": [
    "[This notebook showing example of toy GO terms]\n",
    "\n",
    "Rank all GO biological processes by the similarity with the LLM term. \n",
    "\n",
    "* % of other GO names have smaller semantic similarity with the GPT-4 name comparing to the assgined GO name\n",
    "\n"
   ]
  },
  {
   "cell_type": "code",
   "execution_count": 3,
   "metadata": {},
   "outputs": [],
   "source": [
    "from semanticSimFunctions import getSentenceEmbedding\n",
    "from transformers import AutoTokenizer, AutoModel\n",
    "import pandas as pd\n",
    "import pickle\n",
    "from sklearn.metrics.pairwise import cosine_similarity"
   ]
  },
  {
   "cell_type": "code",
   "execution_count": 1,
   "metadata": {},
   "outputs": [
    {
     "name": "stdout",
     "output_type": "stream",
     "text": [
      "(11943, 4)\n"
     ]
    }
   ],
   "source": [
    "import pandas as pd\n",
    "all_go = pd.read_csv('data/go_terms.csv', index_col=0)\n",
    "print(all_go.shape)\n"
   ]
  },
  {
   "cell_type": "markdown",
   "metadata": {},
   "source": [
    "## Step 1 get the word embeddings for all the go terms (only need to run once for all)"
   ]
  },
  {
   "cell_type": "code",
   "execution_count": 2,
   "metadata": {},
   "outputs": [
    {
     "name": "stderr",
     "output_type": "stream",
     "text": [
      "Asking to truncate to max_length but no maximum length is provided and the model has no predefined maximum length. Default to no truncation.\n"
     ]
    }
   ],
   "source": [
    "## create embeddings for all GO Terms and save the embeddings \n",
    "from semanticSimFunctions import getSentenceEmbedding\n",
    "from transformers import AutoTokenizer, AutoModel\n",
    "import pandas as pd\n",
    "\n",
    "SapBERT_tokenizer = AutoTokenizer.from_pretrained('cambridgeltl/SapBERT-from-PubMedBERT-fulltext')\n",
    "SapBERT_model = AutoModel.from_pretrained('cambridgeltl/SapBERT-from-PubMedBERT-fulltext')\n",
    "\n",
    "all_go = pd.read_csv('data/go_terms.csv', index_col=0)\n",
    "\n",
    "all_go_terms = all_go['Term_Description'].tolist()\n",
    "\n",
    "all_go_terms_embeddings_dict = {}\n",
    "for i, go_term in enumerate(all_go_terms):\n",
    "    tensor = getSentenceEmbedding(go_term, SapBERT_tokenizer, SapBERT_model)\n",
    "    all_go_terms_embeddings_dict[go_term] = tensor.numpy()  # Convert to numpy array\n",
    "\n",
    "import pickle\n",
    "with open('data/all_go_terms_embeddings_dict.pkl', 'wb') as handle:  \n",
    "    pickle.dump(all_go_terms_embeddings_dict, handle, protocol=pickle.HIGHEST_PROTOCOL)\n"
   ]
  },
  {
   "cell_type": "code",
   "execution_count": 3,
   "metadata": {},
   "outputs": [
    {
     "name": "stderr",
     "output_type": "stream",
     "text": [
      "Asking to truncate to max_length but no maximum length is provided and the model has no predefined maximum length. Default to no truncation.\n"
     ]
    }
   ],
   "source": [
    "## create embeddings for all GO Terms and save the embeddings \n",
    "from semanticSimFunctions import getSentenceEmbedding\n",
    "from transformers import AutoTokenizer, AutoModel\n",
    "import pandas as pd\n",
    "\n",
    "SapBERT_tokenizer = AutoTokenizer.from_pretrained('cambridgeltl/SapBERT-from-PubMedBERT-fulltext')\n",
    "SapBERT_model = AutoModel.from_pretrained('cambridgeltl/SapBERT-from-PubMedBERT-fulltext')\n",
    "\n",
    "for branch in ['CC', 'MF']:\n",
    "    \n",
    "    all_go = pd.read_csv(f'data/GO_term_analysis/CC_MF_branch/{branch}_go_terms.csv', index_col=0)\n",
    "\n",
    "    all_go_terms = all_go['Term_Description'].tolist()\n",
    "\n",
    "    all_go_terms_embeddings_dict = {}\n",
    "    for i, go_term in enumerate(all_go_terms):\n",
    "        tensor = getSentenceEmbedding(go_term, SapBERT_tokenizer, SapBERT_model)\n",
    "        all_go_terms_embeddings_dict[go_term] = tensor.numpy()  # Convert to numpy array\n",
    "\n",
    "    import pickle\n",
    "    with open(f'data/GO_term_analysis/CC_MF_branch/{branch}_go_terms_embeddings_dict.pkl', 'wb') as handle:  \n",
    "        pickle.dump(all_go_terms_embeddings_dict, handle, protocol=pickle.HIGHEST_PROTOCOL)\n"
   ]
  },
  {
   "cell_type": "code",
   "execution_count": 4,
   "metadata": {},
   "outputs": [
    {
     "name": "stdout",
     "output_type": "stream",
     "text": [
      "11943\n"
     ]
    }
   ],
   "source": [
    "#check if embeddings are saved correctly\n",
    "import pickle\n",
    "with open('data/all_go_terms_embeddings_dict.pkl', 'rb') as handle:\n",
    "    all_go_terms_embeddings_dict = pickle.load(handle)\n",
    "print(len(all_go_terms_embeddings_dict))\n",
    "# all_go_terms_embeddings_dict['cellular response to DNA damage stimulus']"
   ]
  },
  {
   "cell_type": "code",
   "execution_count": 5,
   "metadata": {},
   "outputs": [
    {
     "name": "stdout",
     "output_type": "stream",
     "text": [
      "1677\n",
      "3399\n"
     ]
    }
   ],
   "source": [
    "#check if embeddings are saved correctly\n",
    "import pickle\n",
    "for branch in ['CC', 'MF']:\n",
    "    with open(f'data/GO_term_analysis/CC_MF_branch/{branch}_go_terms_embeddings_dict.pkl', 'rb') as handle:\n",
    "        all_go_terms_embeddings_dict = pickle.load(handle)\n",
    "    print(len(all_go_terms_embeddings_dict))\n",
    "    "
   ]
  },
  {
   "cell_type": "markdown",
   "metadata": {},
   "source": [
    "## Step2: iterate through each GO term and its corresponsing LLM term, rank the similarity score of the LLM with all GO terms and find where is the trueGO-LLM term is among the list\n",
    "\n",
    "\n",
    "When running for the 1000 gene set, used the python function rank_GOterm_LLM_sim.py to run at the background\n",
    "\n",
    " ```\n",
    " python rank_GOterm_LLM_sim_rand.py --input_file data/rank_GOterm_LLM_sim_rand_new.py --input_file data/GO_term_analysis/LLM_processed_selected_1000_go_terms.tsv --emb_file data/all_go_terms_embeddings_dict.pkl --topn 3 --output_file data/GO_term_analysis/simrank_LLM_processed_selected_1000_go_terms.tsv --background_file data/GO_term_analysis/all_go_sim_scores_gpt4.txt\n",
    " ```\n",
    "the code at the bottom is just an example"
   ]
  },
  {
   "cell_type": "code",
   "execution_count": 3,
   "metadata": {},
   "outputs": [
    {
     "name": "stderr",
     "output_type": "stream",
     "text": [
      "  0%|          | 0/11 [00:00<?, ?it/s]Asking to truncate to max_length but no maximum length is provided and the model has no predefined maximum length. Default to no truncation.\n"
     ]
    },
    {
     "name": "stdout",
     "output_type": "stream",
     "text": [
      "454\n"
     ]
    },
    {
     "name": "stderr",
     "output_type": "stream",
     "text": [
      "  9%|▉         | 1/11 [00:08<01:25,  8.56s/it]"
     ]
    },
    {
     "name": "stdout",
     "output_type": "stream",
     "text": [
      "2468\n",
      "5539\n"
     ]
    },
    {
     "name": "stderr",
     "output_type": "stream",
     "text": [
      " 18%|█▊        | 2/11 [00:16<01:14,  8.24s/it]"
     ]
    },
    {
     "name": "stdout",
     "output_type": "stream",
     "text": [
      "11652\n",
      "45\n"
     ]
    },
    {
     "name": "stderr",
     "output_type": "stream",
     "text": [
      " 27%|██▋       | 3/11 [00:23<01:02,  7.85s/it]"
     ]
    },
    {
     "name": "stdout",
     "output_type": "stream",
     "text": [
      "6117\n",
      "156\n"
     ]
    },
    {
     "name": "stderr",
     "output_type": "stream",
     "text": [
      " 36%|███▋      | 4/11 [00:31<00:55,  7.88s/it]"
     ]
    },
    {
     "name": "stdout",
     "output_type": "stream",
     "text": [
      "10720\n",
      "917\n"
     ]
    },
    {
     "name": "stderr",
     "output_type": "stream",
     "text": [
      " 45%|████▌     | 5/11 [00:39<00:46,  7.79s/it]"
     ]
    },
    {
     "name": "stdout",
     "output_type": "stream",
     "text": [
      "5592\n",
      "10945\n"
     ]
    },
    {
     "name": "stderr",
     "output_type": "stream",
     "text": [
      " 55%|█████▍    | 6/11 [00:46<00:38,  7.66s/it]"
     ]
    },
    {
     "name": "stdout",
     "output_type": "stream",
     "text": [
      "3046\n",
      "11\n"
     ]
    },
    {
     "name": "stderr",
     "output_type": "stream",
     "text": [
      " 64%|██████▎   | 7/11 [00:55<00:31,  7.88s/it]"
     ]
    },
    {
     "name": "stdout",
     "output_type": "stream",
     "text": [
      "6049\n",
      "1185\n"
     ]
    },
    {
     "name": "stderr",
     "output_type": "stream",
     "text": [
      " 73%|███████▎  | 8/11 [01:03<00:23,  7.91s/it]"
     ]
    },
    {
     "name": "stdout",
     "output_type": "stream",
     "text": [
      "11189\n",
      "5832\n"
     ]
    },
    {
     "name": "stderr",
     "output_type": "stream",
     "text": [
      " 82%|████████▏ | 9/11 [01:10<00:15,  7.86s/it]"
     ]
    },
    {
     "name": "stdout",
     "output_type": "stream",
     "text": [
      "11104\n",
      "97\n"
     ]
    },
    {
     "name": "stderr",
     "output_type": "stream",
     "text": [
      " 91%|█████████ | 10/11 [01:18<00:07,  7.81s/it]"
     ]
    },
    {
     "name": "stdout",
     "output_type": "stream",
     "text": [
      "11626\n",
      "Saved progress after 10 rows.\n",
      "9919\n"
     ]
    },
    {
     "name": "stderr",
     "output_type": "stream",
     "text": [
      "100%|██████████| 11/11 [01:26<00:00,  7.83s/it]"
     ]
    },
    {
     "name": "stdout",
     "output_type": "stream",
     "text": [
      "9919\n",
      "DONE\n"
     ]
    },
    {
     "name": "stderr",
     "output_type": "stream",
     "text": [
      "\n"
     ]
    }
   ],
   "source": [
    "%run rank_GOterm_LLM_sim_rand.py --input_file ./data/GO_term_analysis/LLM_processed_toy_example_w_contamination_gpt_4.tsv --emb_file data/all_go_terms_embeddings_dict.pkl --topn 3 --output_file ./data/GO_term_analysis/simrank_LLM_processed_toy_example.tsv --background_file data/GO_term_analysis/all_go_sim_scores_toy.txt"
   ]
  },
  {
   "cell_type": "code",
   "execution_count": 1,
   "metadata": {},
   "outputs": [
    {
     "name": "stdout",
     "output_type": "stream",
     "text": [
      "gpt_4\n",
      "gemini_pro\n",
      "python rank_GOterm_LLM_sim_rand.py --input_file data/GO_term_analysis/model_compare/LLM_processed_model_compare_100set_gemini_pro.tsv --emb_file data/all_go_terms_embeddings_dict.pkl --topn 3 --output_file data/GO_term_analysis/model_compare/sim_rank_LLM_processed_model_compare_100set_gemini_pro.tsv\n",
      "mixtral_instruct\n",
      "python rank_GOterm_LLM_sim_rand.py --input_file data/GO_term_analysis/model_compare/LLM_processed_model_compare_100set_mixtral_instruct.tsv --emb_file data/all_go_terms_embeddings_dict.pkl --topn 3 --output_file data/GO_term_analysis/model_compare/sim_rank_LLM_processed_model_compare_100set_mixtral_instruct.tsv\n",
      "llama2_70b\n",
      "python rank_GOterm_LLM_sim_rand.py --input_file data/GO_term_analysis/model_compare/LLM_processed_model_compare_100set_llama2_70b.tsv --emb_file data/all_go_terms_embeddings_dict.pkl --topn 3 --output_file data/GO_term_analysis/model_compare/sim_rank_LLM_processed_model_compare_100set_llama2_70b.tsv\n",
      "gpt_35\n",
      "python rank_GOterm_LLM_sim_rand.py --input_file data/GO_term_analysis/model_compare/LLM_processed_model_compare_100set_gpt_35.tsv --emb_file data/all_go_terms_embeddings_dict.pkl --topn 3 --output_file data/GO_term_analysis/model_compare/sim_rank_LLM_processed_model_compare_100set_gpt_35.tsv\n"
     ]
    }
   ],
   "source": [
    "from glob import glob\n",
    "files = glob('data/GO_term_analysis/model_compare/LLM_processed_model_compare_100set*.tsv')\n",
    "# print(files)\n",
    "for file in files:\n",
    "    model = '_'.join(file.split('/')[-1].split('.')[0].split('_')[-2:])\n",
    "    print(model)\n",
    "    if model == 'gpt_4':\n",
    "        continue\n",
    "    else:\n",
    "        print(f'python rank_GOterm_LLM_sim_rand.py --input_file {file} --emb_file data/all_go_terms_embeddings_dict.pkl --topn 3 --output_file data/GO_term_analysis/model_compare/sim_rank_LLM_processed_model_compare_100set_{model}.tsv')\n",
    "    "
   ]
  },
  {
   "cell_type": "code",
   "execution_count": 4,
   "metadata": {},
   "outputs": [
    {
     "name": "stdout",
     "output_type": "stream",
     "text": [
      "python rank_GOterm_LLM_sim_rand.py --input_file data/GO_term_analysis/CC_MF_branch/LLM_processed_selected_1000_go_CCterms.tsv --emb_file data/GO_term_analysis/CC_MF_branch/CC_go_terms_embeddings_dict.pkl --topn 3 --output_file data/GO_term_analysis/CC_MF_branch/sim_rank_LLM_processed_selected_1000_go_CCterms.tsv --background_file data/GO_term_analysis/CC_MF_branch/CC_go_sim_scores.txt\n",
      "python rank_GOterm_LLM_sim_rand.py --input_file data/GO_term_analysis/CC_MF_branch/LLM_processed_selected_1000_go_MFterms.tsv --emb_file data/GO_term_analysis/CC_MF_branch/MF_go_terms_embeddings_dict.pkl --topn 3 --output_file data/GO_term_analysis/CC_MF_branch/sim_rank_LLM_processed_selected_1000_go_MFterms.tsv --background_file data/GO_term_analysis/CC_MF_branch/MF_go_sim_scores.txt\n"
     ]
    }
   ],
   "source": [
    "from glob import glob\n",
    "\n",
    "# print(files)\n",
    "for branch in ['CC', 'MF']:\n",
    "    file = glob(f'data/GO_term_analysis/CC_MF_branch/LLM_processed_selected_1000*{branch}terms.tsv')\n",
    "    \n",
    "    print(f'python rank_GOterm_LLM_sim_rand.py --input_file {file[0]} --emb_file data/GO_term_analysis/CC_MF_branch/{branch}_go_terms_embeddings_dict.pkl --topn 3 --output_file data/GO_term_analysis/CC_MF_branch/sim_rank_LLM_processed_selected_1000_go_{branch}terms.tsv --background_file data/GO_term_analysis/CC_MF_branch/{branch}_go_sim_scores.txt')\n",
    "    "
   ]
  },
  {
   "cell_type": "code",
   "execution_count": 5,
   "metadata": {},
   "outputs": [
    {
     "data": {
      "text/html": [
       "<div>\n",
       "<style scoped>\n",
       "    .dataframe tbody tr th:only-of-type {\n",
       "        vertical-align: middle;\n",
       "    }\n",
       "\n",
       "    .dataframe tbody tr th {\n",
       "        vertical-align: top;\n",
       "    }\n",
       "\n",
       "    .dataframe thead th {\n",
       "        text-align: right;\n",
       "    }\n",
       "</style>\n",
       "<table border=\"1\" class=\"dataframe\">\n",
       "  <thead>\n",
       "    <tr style=\"text-align: right;\">\n",
       "      <th></th>\n",
       "      <th>Genes</th>\n",
       "      <th>Gene_Count</th>\n",
       "      <th>Term_Description</th>\n",
       "      <th>50perc_contaminated_Genes</th>\n",
       "      <th>100perc_contaminated_Genes</th>\n",
       "      <th>gpt_4_default Name</th>\n",
       "      <th>gpt_4_default Analysis</th>\n",
       "      <th>gpt_4_default Score</th>\n",
       "      <th>gpt_4_50perc_contaminated Name</th>\n",
       "      <th>gpt_4_50perc_contaminated Analysis</th>\n",
       "      <th>...</th>\n",
       "      <th>gpt_4_100perc_contaminated Score</th>\n",
       "      <th>LLM_name_GO_term_sim</th>\n",
       "      <th>sim_rank</th>\n",
       "      <th>true_GO_term_sim_percentile</th>\n",
       "      <th>random_GO_name</th>\n",
       "      <th>random_go_llm_sim</th>\n",
       "      <th>random_sim_rank</th>\n",
       "      <th>random_sim_percentile</th>\n",
       "      <th>top_3_hits</th>\n",
       "      <th>top_3_sim</th>\n",
       "    </tr>\n",
       "    <tr>\n",
       "      <th>GO</th>\n",
       "      <th></th>\n",
       "      <th></th>\n",
       "      <th></th>\n",
       "      <th></th>\n",
       "      <th></th>\n",
       "      <th></th>\n",
       "      <th></th>\n",
       "      <th></th>\n",
       "      <th></th>\n",
       "      <th></th>\n",
       "      <th></th>\n",
       "      <th></th>\n",
       "      <th></th>\n",
       "      <th></th>\n",
       "      <th></th>\n",
       "      <th></th>\n",
       "      <th></th>\n",
       "      <th></th>\n",
       "      <th></th>\n",
       "      <th></th>\n",
       "      <th></th>\n",
       "    </tr>\n",
       "  </thead>\n",
       "  <tbody>\n",
       "    <tr>\n",
       "      <th>GO:0045940</th>\n",
       "      <td>STAR WNT4 ADM APOE CES1 STARD4 NR1D1 TNF FSHB ...</td>\n",
       "      <td>25</td>\n",
       "      <td>positive regulation of steroid metabolic process</td>\n",
       "      <td>WNT4 IL1A FSHB DAB2 IFNG ABCG1 APOA1 STAR CGA ...</td>\n",
       "      <td>CALD1 VPS29 MTRF1 MVP GTF2I CC2D1B EPHA7 SPACA...</td>\n",
       "      <td>Lipid Metabolism and Hormonal Regulation</td>\n",
       "      <td>1. Several proteins in this system, such as ST...</td>\n",
       "      <td>0.92</td>\n",
       "      <td>System of unrelated proteins</td>\n",
       "      <td>The provided list of proteins encompasses a wi...</td>\n",
       "      <td>...</td>\n",
       "      <td>0.0</td>\n",
       "      <td>0.476209</td>\n",
       "      <td>454</td>\n",
       "      <td>0.961986</td>\n",
       "      <td>regulation of post-transcriptional gene silenc...</td>\n",
       "      <td>0.354240</td>\n",
       "      <td>2468</td>\n",
       "      <td>0.793352</td>\n",
       "      <td>regulation of lipid metabolic process|lipid ho...</td>\n",
       "      <td>0.8357932|0.8153909|0.8071369</td>\n",
       "    </tr>\n",
       "    <tr>\n",
       "      <th>GO:0010757</th>\n",
       "      <td>PLAU CTSZ THBS1 SERPINF2 SERPINE1 SERPINE2 CPB...</td>\n",
       "      <td>8</td>\n",
       "      <td>negative regulation of plasminogen activation</td>\n",
       "      <td>CPB2 SERPINE1 PLAU THBS1 ZNF737 SMDT1 XPNPEP2 ...</td>\n",
       "      <td>ADAMTS17 CEP63 LRRC18 SUPT3H FUBP1 KCNK4 RPL27...</td>\n",
       "      <td>Regulation of Fibrinolysis and Extracellular M...</td>\n",
       "      <td>1. PLAU (urokinase-type plasminogen activator)...</td>\n",
       "      <td>0.92</td>\n",
       "      <td>Regulation of Fibrinolysis and Extracellular M...</td>\n",
       "      <td>1. CPB2, also known as carboxypeptidase B2 or ...</td>\n",
       "      <td>...</td>\n",
       "      <td>0.0</td>\n",
       "      <td>0.281846</td>\n",
       "      <td>5539</td>\n",
       "      <td>0.536214</td>\n",
       "      <td>negative regulation of T cell costimulation</td>\n",
       "      <td>0.125640</td>\n",
       "      <td>11652</td>\n",
       "      <td>0.024366</td>\n",
       "      <td>regulation of fibrinolysis|regulation of tissu...</td>\n",
       "      <td>0.84587914|0.73236907|0.6881492</td>\n",
       "    </tr>\n",
       "    <tr>\n",
       "      <th>GO:2000136</th>\n",
       "      <td>GNG5 TBX5 ISL1 RBPJ CTNNB1 NOTCH1 SMAD4 EYA1 B...</td>\n",
       "      <td>18</td>\n",
       "      <td>regulation of cell proliferation involved in h...</td>\n",
       "      <td>MKS1 BMP10 EYA1 SMAD4 HAND2 GNG5 RBPJ SIX1 ENG...</td>\n",
       "      <td>MGMT GPHN BANK1 NDP IL1F10 IKBKG PARD3 INCENP ...</td>\n",
       "      <td>Cardiac Development and Regulation</td>\n",
       "      <td>1. TBX5, ISL1, TBX3, HAND2, and GNG5 are trans...</td>\n",
       "      <td>0.92</td>\n",
       "      <td>Cardiac Development and Signaling Pathway Inte...</td>\n",
       "      <td>1. MKS1, EYA1, SIX1, and RBPJ are part of a de...</td>\n",
       "      <td>...</td>\n",
       "      <td>0.0</td>\n",
       "      <td>0.702308</td>\n",
       "      <td>45</td>\n",
       "      <td>0.996232</td>\n",
       "      <td>regulation of post-transcriptional gene silenc...</td>\n",
       "      <td>0.296795</td>\n",
       "      <td>6117</td>\n",
       "      <td>0.487817</td>\n",
       "      <td>regulation of cardiac muscle tissue developmen...</td>\n",
       "      <td>0.8482114|0.8481006|0.83557206</td>\n",
       "    </tr>\n",
       "    <tr>\n",
       "      <th>GO:0002433</th>\n",
       "      <td>PLPP4 LYN PRKCE APPL1 PRKCD FYN VAV1 YES1 MYO1...</td>\n",
       "      <td>22</td>\n",
       "      <td>immune response-regulating cell surface recept...</td>\n",
       "      <td>ABL1 VAV3 APPL2 LYN FGR SYK PRKCE PRKCD PLPP4 ...</td>\n",
       "      <td>JAML PRKCSH PIM1 EID2 EPO UBE4A MRPL9 ASB18 SE...</td>\n",
       "      <td>Signal Transduction and Actin Cytoskeleton Reg...</td>\n",
       "      <td>1. The Src family kinases (SFKs), including LY...</td>\n",
       "      <td>0.92</td>\n",
       "      <td>Signal Transduction and Cytoskeletal Regulatio...</td>\n",
       "      <td>1. ABL1, LYN, FGR, SYK, HCK, and SRC are non-r...</td>\n",
       "      <td>...</td>\n",
       "      <td>0.0</td>\n",
       "      <td>0.549966</td>\n",
       "      <td>156</td>\n",
       "      <td>0.986938</td>\n",
       "      <td>negative regulation of peptide secretion</td>\n",
       "      <td>0.191806</td>\n",
       "      <td>10720</td>\n",
       "      <td>0.102403</td>\n",
       "      <td>regulation of signal transduction|actin cytosk...</td>\n",
       "      <td>0.7147157|0.709465|0.7046939</td>\n",
       "    </tr>\n",
       "    <tr>\n",
       "      <th>GO:1990874</th>\n",
       "      <td>DBH NF1 ERN1 MMP2 HPGD IGFBP5 TGFB3 DDIT3 MAP3...</td>\n",
       "      <td>61</td>\n",
       "      <td>vascular associated smooth muscle cell prolife...</td>\n",
       "      <td>MAP3K7 PDGFB HPGD CDKN1A IGFBP5 EFEMP2 FGF9 TG...</td>\n",
       "      <td>GARNL3 OR1J1 SPP2 USP17L2 ARMH3 ANKRD13A HELZ ...</td>\n",
       "      <td>Cellular Stress Response and Tumor Suppression</td>\n",
       "      <td>1. Several proteins in this system, such as ER...</td>\n",
       "      <td>0.85</td>\n",
       "      <td>Vascular and Tissue Remodeling</td>\n",
       "      <td>1. Several proteins in this system, such as PD...</td>\n",
       "      <td>...</td>\n",
       "      <td>0.0</td>\n",
       "      <td>0.430808</td>\n",
       "      <td>917</td>\n",
       "      <td>0.923219</td>\n",
       "      <td>hydrocarbon catabolic process</td>\n",
       "      <td>0.306750</td>\n",
       "      <td>5592</td>\n",
       "      <td>0.531776</td>\n",
       "      <td>cellular response to stress|integrated stress ...</td>\n",
       "      <td>0.7512536|0.7383063|0.71038234</td>\n",
       "    </tr>\n",
       "  </tbody>\n",
       "</table>\n",
       "<p>5 rows × 23 columns</p>\n",
       "</div>"
      ],
      "text/plain": [
       "                                                        Genes  Gene_Count  \\\n",
       "GO                                                                          \n",
       "GO:0045940  STAR WNT4 ADM APOE CES1 STARD4 NR1D1 TNF FSHB ...          25   \n",
       "GO:0010757  PLAU CTSZ THBS1 SERPINF2 SERPINE1 SERPINE2 CPB...           8   \n",
       "GO:2000136  GNG5 TBX5 ISL1 RBPJ CTNNB1 NOTCH1 SMAD4 EYA1 B...          18   \n",
       "GO:0002433  PLPP4 LYN PRKCE APPL1 PRKCD FYN VAV1 YES1 MYO1...          22   \n",
       "GO:1990874  DBH NF1 ERN1 MMP2 HPGD IGFBP5 TGFB3 DDIT3 MAP3...          61   \n",
       "\n",
       "                                             Term_Description  \\\n",
       "GO                                                              \n",
       "GO:0045940   positive regulation of steroid metabolic process   \n",
       "GO:0010757      negative regulation of plasminogen activation   \n",
       "GO:2000136  regulation of cell proliferation involved in h...   \n",
       "GO:0002433  immune response-regulating cell surface recept...   \n",
       "GO:1990874  vascular associated smooth muscle cell prolife...   \n",
       "\n",
       "                                    50perc_contaminated_Genes  \\\n",
       "GO                                                              \n",
       "GO:0045940  WNT4 IL1A FSHB DAB2 IFNG ABCG1 APOA1 STAR CGA ...   \n",
       "GO:0010757  CPB2 SERPINE1 PLAU THBS1 ZNF737 SMDT1 XPNPEP2 ...   \n",
       "GO:2000136  MKS1 BMP10 EYA1 SMAD4 HAND2 GNG5 RBPJ SIX1 ENG...   \n",
       "GO:0002433  ABL1 VAV3 APPL2 LYN FGR SYK PRKCE PRKCD PLPP4 ...   \n",
       "GO:1990874  MAP3K7 PDGFB HPGD CDKN1A IGFBP5 EFEMP2 FGF9 TG...   \n",
       "\n",
       "                                   100perc_contaminated_Genes  \\\n",
       "GO                                                              \n",
       "GO:0045940  CALD1 VPS29 MTRF1 MVP GTF2I CC2D1B EPHA7 SPACA...   \n",
       "GO:0010757  ADAMTS17 CEP63 LRRC18 SUPT3H FUBP1 KCNK4 RPL27...   \n",
       "GO:2000136  MGMT GPHN BANK1 NDP IL1F10 IKBKG PARD3 INCENP ...   \n",
       "GO:0002433  JAML PRKCSH PIM1 EID2 EPO UBE4A MRPL9 ASB18 SE...   \n",
       "GO:1990874  GARNL3 OR1J1 SPP2 USP17L2 ARMH3 ANKRD13A HELZ ...   \n",
       "\n",
       "                                           gpt_4_default Name  \\\n",
       "GO                                                              \n",
       "GO:0045940           Lipid Metabolism and Hormonal Regulation   \n",
       "GO:0010757  Regulation of Fibrinolysis and Extracellular M...   \n",
       "GO:2000136                 Cardiac Development and Regulation   \n",
       "GO:0002433  Signal Transduction and Actin Cytoskeleton Reg...   \n",
       "GO:1990874     Cellular Stress Response and Tumor Suppression   \n",
       "\n",
       "                                       gpt_4_default Analysis  \\\n",
       "GO                                                              \n",
       "GO:0045940  1. Several proteins in this system, such as ST...   \n",
       "GO:0010757  1. PLAU (urokinase-type plasminogen activator)...   \n",
       "GO:2000136  1. TBX5, ISL1, TBX3, HAND2, and GNG5 are trans...   \n",
       "GO:0002433  1. The Src family kinases (SFKs), including LY...   \n",
       "GO:1990874  1. Several proteins in this system, such as ER...   \n",
       "\n",
       "            gpt_4_default Score  \\\n",
       "GO                                \n",
       "GO:0045940                 0.92   \n",
       "GO:0010757                 0.92   \n",
       "GO:2000136                 0.92   \n",
       "GO:0002433                 0.92   \n",
       "GO:1990874                 0.85   \n",
       "\n",
       "                               gpt_4_50perc_contaminated Name  \\\n",
       "GO                                                              \n",
       "GO:0045940                       System of unrelated proteins   \n",
       "GO:0010757  Regulation of Fibrinolysis and Extracellular M...   \n",
       "GO:2000136  Cardiac Development and Signaling Pathway Inte...   \n",
       "GO:0002433  Signal Transduction and Cytoskeletal Regulatio...   \n",
       "GO:1990874                     Vascular and Tissue Remodeling   \n",
       "\n",
       "                           gpt_4_50perc_contaminated Analysis  ...  \\\n",
       "GO                                                             ...   \n",
       "GO:0045940  The provided list of proteins encompasses a wi...  ...   \n",
       "GO:0010757  1. CPB2, also known as carboxypeptidase B2 or ...  ...   \n",
       "GO:2000136  1. MKS1, EYA1, SIX1, and RBPJ are part of a de...  ...   \n",
       "GO:0002433  1. ABL1, LYN, FGR, SYK, HCK, and SRC are non-r...  ...   \n",
       "GO:1990874  1. Several proteins in this system, such as PD...  ...   \n",
       "\n",
       "            gpt_4_100perc_contaminated Score LLM_name_GO_term_sim sim_rank  \\\n",
       "GO                                                                           \n",
       "GO:0045940                               0.0             0.476209      454   \n",
       "GO:0010757                               0.0             0.281846     5539   \n",
       "GO:2000136                               0.0             0.702308       45   \n",
       "GO:0002433                               0.0             0.549966      156   \n",
       "GO:1990874                               0.0             0.430808      917   \n",
       "\n",
       "            true_GO_term_sim_percentile  \\\n",
       "GO                                        \n",
       "GO:0045940                     0.961986   \n",
       "GO:0010757                     0.536214   \n",
       "GO:2000136                     0.996232   \n",
       "GO:0002433                     0.986938   \n",
       "GO:1990874                     0.923219   \n",
       "\n",
       "                                               random_GO_name  \\\n",
       "GO                                                              \n",
       "GO:0045940  regulation of post-transcriptional gene silenc...   \n",
       "GO:0010757        negative regulation of T cell costimulation   \n",
       "GO:2000136  regulation of post-transcriptional gene silenc...   \n",
       "GO:0002433           negative regulation of peptide secretion   \n",
       "GO:1990874                      hydrocarbon catabolic process   \n",
       "\n",
       "            random_go_llm_sim  random_sim_rank random_sim_percentile  \\\n",
       "GO                                                                     \n",
       "GO:0045940           0.354240             2468              0.793352   \n",
       "GO:0010757           0.125640            11652              0.024366   \n",
       "GO:2000136           0.296795             6117              0.487817   \n",
       "GO:0002433           0.191806            10720              0.102403   \n",
       "GO:1990874           0.306750             5592              0.531776   \n",
       "\n",
       "                                                   top_3_hits  \\\n",
       "GO                                                              \n",
       "GO:0045940  regulation of lipid metabolic process|lipid ho...   \n",
       "GO:0010757  regulation of fibrinolysis|regulation of tissu...   \n",
       "GO:2000136  regulation of cardiac muscle tissue developmen...   \n",
       "GO:0002433  regulation of signal transduction|actin cytosk...   \n",
       "GO:1990874  cellular response to stress|integrated stress ...   \n",
       "\n",
       "                                  top_3_sim  \n",
       "GO                                           \n",
       "GO:0045940    0.8357932|0.8153909|0.8071369  \n",
       "GO:0010757  0.84587914|0.73236907|0.6881492  \n",
       "GO:2000136   0.8482114|0.8481006|0.83557206  \n",
       "GO:0002433     0.7147157|0.709465|0.7046939  \n",
       "GO:1990874   0.7512536|0.7383063|0.71038234  \n",
       "\n",
       "[5 rows x 23 columns]"
      ]
     },
     "execution_count": 5,
     "metadata": {},
     "output_type": "execute_result"
    }
   ],
   "source": [
    "# sanity check\n",
    "df = pd.read_csv('data/GO_term_analysis/simrank_LLM_processed_toy_example.tsv', sep='\\t', index_col=0)\n",
    "df.head()"
   ]
  },
  {
   "cell_type": "markdown",
   "metadata": {},
   "source": [
    "### Check the rank similarity result of the 1000 gene sets "
   ]
  },
  {
   "cell_type": "code",
   "execution_count": 2,
   "metadata": {},
   "outputs": [
    {
     "name": "stdout",
     "output_type": "stream",
     "text": [
      "0\n",
      "0\n",
      "0\n",
      "26\n",
      "26\n"
     ]
    }
   ],
   "source": [
    "import pandas as pd\n",
    "\n",
    "rank_sim_df = pd.read_csv('data/GO_term_analysis/simrank_LLM_processed_selected_1000_go_terms.tsv', sep='\\t')\n",
    "## if duplicate\n",
    "print(sum(rank_sim_df.duplicated(subset=['GO'])))\n",
    "print(sum(rank_sim_df.duplicated(subset=['gpt_4_default Analysis'])))\n",
    "\n",
    "#if nan\n",
    "\n",
    "print(sum(rank_sim_df['true_GO_term_sim_percentile'].isna()))\n",
    "\n",
    "# check how many gpt4 names are 'System of unrelated proteins'\n",
    "print(sum(rank_sim_df['gpt_4_default Name'] == 'System of unrelated proteins'))\n",
    "# for each of them set the semantic similarity to 0, rank to max number of GO terms, and percentile to 0\n",
    "rank_sim_df.loc[rank_sim_df['gpt_4_default Name'] == 'System of unrelated proteins', 'LLM_name_GO_term_sim'] = 0\n",
    "rank_sim_df.loc[rank_sim_df['gpt_4_default Name'] == 'System of unrelated proteins', 'sim_rank'] = 11943\n",
    "rank_sim_df.loc[rank_sim_df['gpt_4_default Name'] == 'System of unrelated proteins', 'true_GO_term_sim_percentile'] = 0\n",
    "\n",
    "print(sum(rank_sim_df['true_GO_term_sim_percentile']==0))\n",
    "rank_sim_df.to_csv('data/GO_term_analysis/simrank_LLM_processed_selected_1000_go_terms.tsv', sep='\\t', index=False)\n"
   ]
  },
  {
   "cell_type": "code",
   "execution_count": 8,
   "metadata": {},
   "outputs": [
    {
     "data": {
      "text/plain": [
       "Index(['GO', 'Genes', 'Gene_Count', 'Term_Description', 'gpt_4_default Name',\n",
       "       'gpt_4_default Analysis', 'gpt_4_default Score',\n",
       "       'gpt_4_default Score Bin', 'LLM_name_GO_term_sim', 'sim_rank',\n",
       "       'true_GO_term_sim_percentile', 'random_GO_name', 'random_go_llm_sim',\n",
       "       'random_sim_rank', 'random_sim_percentile', 'top_3_hits', 'top_3_sim'],\n",
       "      dtype='object')"
      ]
     },
     "execution_count": 8,
     "metadata": {},
     "output_type": "execute_result"
    }
   ],
   "source": [
    "# change column order and remove the contaminated genes columns\n",
    "rank_sim_df = rank_sim_df[['GO', 'Genes', 'Gene_Count', 'Term_Description',\n",
    "       'gpt_4_default Name', 'gpt_4_default Analysis', 'gpt_4_default Score', 'gpt_4_default Score Bin',\n",
    "       'LLM_name_GO_term_sim', 'sim_rank', 'true_GO_term_sim_percentile',\n",
    "       'random_GO_name', 'random_go_llm_sim', 'random_sim_rank',\n",
    "       'random_sim_percentile', 'top_3_hits', 'top_3_sim']]\n",
    "rank_sim_df.columns"
   ]
  },
  {
   "cell_type": "code",
   "execution_count": 7,
   "metadata": {},
   "outputs": [],
   "source": [
    "rank_sim_df.to_csv('data/GO_term_analysis/simrank_LLM_processed_selected_1000_go_terms.tsv', sep='\\t', index=False)"
   ]
  },
  {
   "cell_type": "code",
   "execution_count": 24,
   "metadata": {},
   "outputs": [
    {
     "name": "stdout",
     "output_type": "stream",
     "text": [
      "half of the sample have the percentile score higher than:  0.9794858913170896\n",
      "number of GO terms in top 10%:  685\n",
      "number of GO terms in bottom 10%:  41\n",
      "number of GO terms ranked top 10:  123\n"
     ]
    }
   ],
   "source": [
    "\n",
    "## half point of the similarity distribution\n",
    "rank_sim_sorted = rank_sim_df.sort_values(by='true_GO_term_sim_percentile', ascending=False)\n",
    "print('half of the sample have the percentile score higher than: ',rank_sim_sorted.iloc[500-1]['true_GO_term_sim_percentile'])\n",
    "\n",
    "## number of GO terms in top 10% of similarities\n",
    "print('number of GO terms in top 10%: ', sum(1-rank_sim_df['true_GO_term_sim_percentile'] <= 0.1))\n",
    "print('number of GO terms in bottom 10%: ', sum(1-rank_sim_df['true_GO_term_sim_percentile'] >= 0.9))\n",
    "\n",
    "## number of GO terms ranked top 10 of similarities\n",
    "\n",
    "print('number of GO terms ranked top 10: ', sum(rank_sim_df['sim_rank'] <= 10))"
   ]
  },
  {
   "cell_type": "code",
   "execution_count": 10,
   "metadata": {},
   "outputs": [
    {
     "name": "stdout",
     "output_type": "stream",
     "text": [
      "lipid metabolic process \n",
      " negative regulation of triglyceride catabolic process\n"
     ]
    },
    {
     "data": {
      "text/plain": [
       "0.40103704"
      ]
     },
     "execution_count": 10,
     "metadata": {},
     "output_type": "execute_result"
    }
   ],
   "source": [
    "# pick the example and calculate the similarity between the top 1st hit and the GO term \n",
    "df = pd.read_csv('data/GO_term_analysis/simrank_LLM_processed_selected_1000_go_terms.tsv', sep='\\t')\n",
    "example = 'GO:0010897'\n",
    "example_top_1st_hit = df.loc[df['GO'] == example, 'top_3_hits'].values[0].split('|')[0]\n",
    "example_name = df.loc[df['GO'] == example, 'Term_Description'].values[0]\n",
    "print(example_top_1st_hit, '\\n', example_name)\n",
    "#find the term in the embedding list \n",
    "with open('data/all_go_terms_embeddings_dict.pkl', 'rb') as handle:\n",
    "    all_go_terms_embeddings_dict = pickle.load(handle)\n",
    "top_hit_embedding = all_go_terms_embeddings_dict[example_top_1st_hit]\n",
    "go_term_embedding = all_go_terms_embeddings_dict[example_name]\n",
    "cosine_similarity(top_hit_embedding, go_term_embedding)[0][0]\n"
   ]
  },
  {
   "cell_type": "code",
   "execution_count": 25,
   "metadata": {},
   "outputs": [
    {
     "name": "stdout",
     "output_type": "stream",
     "text": [
      "26\n",
      "count    26.000000\n",
      "mean     23.500000\n",
      "std      25.842987\n",
      "min       3.000000\n",
      "25%       5.250000\n",
      "50%      11.000000\n",
      "75%      32.750000\n",
      "max      84.000000\n",
      "Name: Gene_Count, dtype: float64\n"
     ]
    }
   ],
   "source": [
    "# create a table for ones that output 'System of unrelated proteins'\n",
    "\n",
    "unnamed_sets = rank_sim_df.loc[rank_sim_df['gpt_4_default Name'] == 'System of unrelated proteins']\n",
    "print(len(unnamed_sets)) ## 26 out of the 1000 GO terms are unnamed\n",
    "# check the size \n",
    "print(unnamed_sets['Gene_Count'].describe()) # the unnamed sets are not dependent on the size \n",
    "\n",
    "unnamed_sets.to_csv('data/GO_term_analysis/sets_no_gpt4name.tsv', sep='\\t', index=False)"
   ]
  },
  {
   "cell_type": "code",
   "execution_count": 29,
   "metadata": {},
   "outputs": [
    {
     "name": "stdout",
     "output_type": "stream",
     "text": [
      "1\n"
     ]
    }
   ],
   "source": [
    "# filter out the unnamed sets\n",
    "rank_sim_df_filter = rank_sim_df.loc[rank_sim_df['gpt_4_default Name'] != 'System of unrelated proteins']\n",
    "# check anything with score ==0\n",
    "print(sum(rank_sim_df_filter['gpt_4_default Score'] == 0))"
   ]
  },
  {
   "cell_type": "code",
   "execution_count": null,
   "metadata": {},
   "outputs": [],
   "source": []
  },
  {
   "cell_type": "markdown",
   "metadata": {},
   "source": [
    "### MF and CC branch similarity"
   ]
  },
  {
   "cell_type": "code",
   "execution_count": 1,
   "metadata": {},
   "outputs": [
    {
     "name": "stdout",
     "output_type": "stream",
     "text": [
      "CC\n",
      "0\n",
      "0\n",
      "0\n",
      "17\n",
      "17\n",
      "17\n",
      "MF\n",
      "0\n",
      "0\n",
      "0\n",
      "8\n",
      "8\n",
      "8\n"
     ]
    }
   ],
   "source": [
    "import pandas as pd\n",
    "\n",
    "for branch in ['CC', 'MF']:\n",
    "    print(branch)\n",
    "    all_go = pd.read_csv(f'data/GO_term_analysis/CC_MF_branch/{branch}_go_terms.csv', index_col=0)\n",
    "    # filtered go terms to size range 3-100 \n",
    "    # since we picked term size from 3-100, it makes more sense to filter the go term pool to that size range\n",
    "    min = 3\n",
    "    max = 100\n",
    "    filtered_go = all_go[(all_go['Gene_Count'] >= min) & (all_go['Gene_Count'] <= max)]\n",
    "    max_rank = filtered_go.shape[0]\n",
    "    \n",
    "    rank_sim_df = pd.read_csv(f'data/GO_term_analysis/CC_MF_branch/sim_rank_LLM_processed_selected_1000_go_{branch}terms.tsv', sep='\\t')\n",
    "    ## if duplicate\n",
    "    print(sum(rank_sim_df.duplicated(subset=['GO'])))\n",
    "    print(sum(rank_sim_df.duplicated(subset=['gpt_4_default Analysis'])))\n",
    "\n",
    "    #if nan\n",
    "\n",
    "    print(sum(rank_sim_df['true_GO_term_sim_percentile'].isna()))\n",
    "\n",
    "    # check how many gpt4 names are 'System of unrelated proteins'\n",
    "    print(sum(rank_sim_df['gpt_4_default Name'] == 'System of unrelated proteins'))\n",
    "    print(sum(rank_sim_df['gpt_4_default Score'] == 0))\n",
    "    # for each of them set the semantic similarity to 0, rank to max number of GO terms, and percentile to 1\n",
    "    rank_sim_df.loc[rank_sim_df['gpt_4_default Name'] == 'System of unrelated proteins', 'LLM_name_GO_term_sim'] = 0\n",
    "    rank_sim_df.loc[rank_sim_df['gpt_4_default Name'] == 'System of unrelated proteins', 'sim_rank'] = max_rank\n",
    "    rank_sim_df.loc[rank_sim_df['gpt_4_default Name'] == 'System of unrelated proteins', 'true_GO_term_sim_percentile'] = 0\n",
    "\n",
    "    print(sum(rank_sim_df['true_GO_term_sim_percentile']==0))\n",
    "\n",
    "    rank_sim_df.to_csv(f'data/GO_term_analysis/CC_MF_branch/sim_rank_LLM_processed_selected_1000_go_{branch}terms.tsv', sep='\\t', index=False)\n"
   ]
  },
  {
   "cell_type": "code",
   "execution_count": null,
   "metadata": {},
   "outputs": [],
   "source": []
  },
  {
   "cell_type": "code",
   "execution_count": null,
   "metadata": {},
   "outputs": [],
   "source": []
  },
  {
   "cell_type": "code",
   "execution_count": null,
   "metadata": {},
   "outputs": [],
   "source": []
  }
 ],
 "metadata": {
  "kernelspec": {
   "display_name": "Python 3 (ipykernel)",
   "language": "python",
   "name": "python3"
  },
  "language_info": {
   "codemirror_mode": {
    "name": "ipython",
    "version": 3
   },
   "file_extension": ".py",
   "mimetype": "text/x-python",
   "name": "python",
   "nbconvert_exporter": "python",
   "pygments_lexer": "ipython3",
   "version": "3.11.5"
  }
 },
 "nbformat": 4,
 "nbformat_minor": 4
}

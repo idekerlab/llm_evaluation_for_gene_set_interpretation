{
 "cells": [
  {
   "cell_type": "code",
   "execution_count": 4,
   "id": "d787ec75-5fc2-44f4-b62a-6128bed29618",
   "metadata": {
    "tags": []
   },
   "outputs": [],
   "source": [
    "library(plyr)\n",
    "library(tidyverse)\n",
    "library(ggpubr)\n",
    "library(plotly)\n",
    "library(caret)\n",
    "library(htmlwidgets)\n",
    "source(\"utils/plot_theme.r\")"
   ]
  },
  {
   "cell_type": "code",
   "execution_count": 2,
   "id": "0ca2d177-8755-4434-bb06-4afcacc9c2a5",
   "metadata": {},
   "outputs": [],
   "source": [
    "enrichr_adj_pval_thresh = 0.05\n"
   ]
  },
  {
   "cell_type": "code",
   "execution_count": 3,
   "id": "515aa1cb-89f6-4a06-ba39-09c35ac9c843",
   "metadata": {},
   "outputs": [
    {
     "name": "stderr",
     "output_type": "stream",
     "text": [
      "\u001b[1m\u001b[22mNew names:\n",
      "\u001b[36m•\u001b[39m `` -> `...1`\n",
      "\u001b[36m•\u001b[39m `...1` -> `...2`\n",
      "\u001b[1mRows: \u001b[22m\u001b[34m300\u001b[39m \u001b[1mColumns: \u001b[22m\u001b[34m25\u001b[39m\n",
      "\u001b[36m──\u001b[39m \u001b[1mColumn specification\u001b[22m \u001b[36m──────────────────────────────────────────────────────────────────────────────────────────────────────────────────────────────────────────────────────────────────────────────────────────────\u001b[39m\n",
      "\u001b[1mDelimiter:\u001b[22m \"\\t\"\n",
      "\u001b[31mchr\u001b[39m (13): Source, GeneSetID, GeneSetName, GeneList, LLM Name, LLM Analysis, ...\n",
      "\u001b[32mdbl\u001b[39m (10): ...1, ...2, Unnamed: 0, n_Genes, Score, Rank, P-value, Adjusted P-...\n",
      "\u001b[33mlgl\u001b[39m  (2): LLM_success_TF, enrichr_success_TF\n",
      "\n",
      "\u001b[36mℹ\u001b[39m Use `spec()` to retrieve the full column specification for this data.\n",
      "\u001b[36mℹ\u001b[39m Specify the column types or set `show_col_types = FALSE` to quiet this message.\n"
     ]
    }
   ],
   "source": [
    "geneSets_DF = read_delim(file = \"data/omics_revamped_LLM_Enrichr_simVals_failure_refs_DF.tsv\",\n",
    "                         delim = \"\\t\")"
   ]
  },
  {
   "cell_type": "code",
   "execution_count": 5,
   "id": "1d562f83-79b4-465b-869e-bd28476586a6",
   "metadata": {},
   "outputs": [],
   "source": [
    "geneSets_DF$LLM_success_TF = as.factor(geneSets_DF$LLM_success_TF)"
   ]
  },
  {
   "cell_type": "code",
   "execution_count": 6,
   "id": "2b0fb26a-dba4-4c9d-ad55-01a100f2960b",
   "metadata": {},
   "outputs": [
    {
     "data": {
      "text/html": [
       "<style>\n",
       ".list-inline {list-style: none; margin:0; padding: 0}\n",
       ".list-inline>li {display: inline-block}\n",
       ".list-inline>li:not(:last-child)::after {content: \"\\00b7\"; padding: 0 .5ex}\n",
       "</style>\n",
       "<ol class=list-inline><li>'...1'</li><li>'...2'</li><li>'Unnamed: 0'</li><li>'Source'</li><li>'GeneSetID'</li><li>'GeneSetName'</li><li>'GeneList'</li><li>'n_Genes'</li><li>'LLM Name'</li><li>'LLM Analysis'</li><li>'Score'</li><li>'Rank'</li><li>'Overlap'</li><li>'P-value'</li><li>'Adjusted P-value'</li><li>'Genes'</li><li>'Term'</li><li>'GO term'</li><li>'GO ID'</li><li>'GO_term_genes'</li><li>'LLM_name_GO_term_sim'</li><li>'enrichr_JI'</li><li>'LLM_success_TF'</li><li>'enrichr_success_TF'</li><li>'References'</li></ol>\n"
      ],
      "text/latex": [
       "\\begin{enumerate*}\n",
       "\\item '...1'\n",
       "\\item '...2'\n",
       "\\item 'Unnamed: 0'\n",
       "\\item 'Source'\n",
       "\\item 'GeneSetID'\n",
       "\\item 'GeneSetName'\n",
       "\\item 'GeneList'\n",
       "\\item 'n\\_Genes'\n",
       "\\item 'LLM Name'\n",
       "\\item 'LLM Analysis'\n",
       "\\item 'Score'\n",
       "\\item 'Rank'\n",
       "\\item 'Overlap'\n",
       "\\item 'P-value'\n",
       "\\item 'Adjusted P-value'\n",
       "\\item 'Genes'\n",
       "\\item 'Term'\n",
       "\\item 'GO term'\n",
       "\\item 'GO ID'\n",
       "\\item 'GO\\_term\\_genes'\n",
       "\\item 'LLM\\_name\\_GO\\_term\\_sim'\n",
       "\\item 'enrichr\\_JI'\n",
       "\\item 'LLM\\_success\\_TF'\n",
       "\\item 'enrichr\\_success\\_TF'\n",
       "\\item 'References'\n",
       "\\end{enumerate*}\n"
      ],
      "text/markdown": [
       "1. '...1'\n",
       "2. '...2'\n",
       "3. 'Unnamed: 0'\n",
       "4. 'Source'\n",
       "5. 'GeneSetID'\n",
       "6. 'GeneSetName'\n",
       "7. 'GeneList'\n",
       "8. 'n_Genes'\n",
       "9. 'LLM Name'\n",
       "10. 'LLM Analysis'\n",
       "11. 'Score'\n",
       "12. 'Rank'\n",
       "13. 'Overlap'\n",
       "14. 'P-value'\n",
       "15. 'Adjusted P-value'\n",
       "16. 'Genes'\n",
       "17. 'Term'\n",
       "18. 'GO term'\n",
       "19. 'GO ID'\n",
       "20. 'GO_term_genes'\n",
       "21. 'LLM_name_GO_term_sim'\n",
       "22. 'enrichr_JI'\n",
       "23. 'LLM_success_TF'\n",
       "24. 'enrichr_success_TF'\n",
       "25. 'References'\n",
       "\n",
       "\n"
      ],
      "text/plain": [
       " [1] \"...1\"                 \"...2\"                 \"Unnamed: 0\"          \n",
       " [4] \"Source\"               \"GeneSetID\"            \"GeneSetName\"         \n",
       " [7] \"GeneList\"             \"n_Genes\"              \"LLM Name\"            \n",
       "[10] \"LLM Analysis\"         \"Score\"                \"Rank\"                \n",
       "[13] \"Overlap\"              \"P-value\"              \"Adjusted P-value\"    \n",
       "[16] \"Genes\"                \"Term\"                 \"GO term\"             \n",
       "[19] \"GO ID\"                \"GO_term_genes\"        \"LLM_name_GO_term_sim\"\n",
       "[22] \"enrichr_JI\"           \"LLM_success_TF\"       \"enrichr_success_TF\"  \n",
       "[25] \"References\"          "
      ]
     },
     "metadata": {},
     "output_type": "display_data"
    }
   ],
   "source": [
    "colnames(geneSets_DF)"
   ]
  },
  {
   "cell_type": "code",
   "execution_count": 7,
   "id": "67843057-f564-405d-833b-40642ecdb35e",
   "metadata": {},
   "outputs": [],
   "source": [
    "JI_threshList = seq(0, 1, 0.05) #seq(0, 1, 0.01)"
   ]
  },
  {
   "cell_type": "code",
   "execution_count": 13,
   "id": "5f96286b-b76d-4df4-823e-42a242369768",
   "metadata": {},
   "outputs": [],
   "source": [
    "JI_thresh_eval_DF = data_frame(JI_thresh = JI_threshList, perc_success = NaN, accuracy = NaN, perc_meetsThresh = NaN)"
   ]
  },
  {
   "cell_type": "raw",
   "id": "816f76fa-d992-404a-8178-7961138cf801",
   "metadata": {},
   "source": [
    "success \n",
    "p-value < pVal thresh\n",
    "AND\n",
    "JI < thresh"
   ]
  },
  {
   "cell_type": "code",
   "execution_count": 14,
   "id": "49280265-44bc-4f35-8432-c06ac2607377",
   "metadata": {
    "collapsed": true,
    "jupyter": {
     "outputs_hidden": true
    },
    "tags": []
   },
   "outputs": [
    {
     "name": "stderr",
     "output_type": "stream",
     "text": [
      "Warning message in confusionMatrix.default(JI_threshCol, geneSets_DF$LLM_success_TF):\n",
      "“Levels are not in the same order for reference and data. Refactoring data to match.”\n",
      "Warning message in confusionMatrix.default(JI_threshCol, geneSets_DF$LLM_success_TF):\n",
      "“Levels are not in the same order for reference and data. Refactoring data to match.”\n",
      "Warning message in confusionMatrix.default(JI_threshCol, geneSets_DF$LLM_success_TF):\n",
      "“Levels are not in the same order for reference and data. Refactoring data to match.”\n",
      "Warning message in confusionMatrix.default(JI_threshCol, geneSets_DF$LLM_success_TF):\n",
      "“Levels are not in the same order for reference and data. Refactoring data to match.”\n",
      "Warning message in confusionMatrix.default(JI_threshCol, geneSets_DF$LLM_success_TF):\n",
      "“Levels are not in the same order for reference and data. Refactoring data to match.”\n",
      "Warning message in confusionMatrix.default(JI_threshCol, geneSets_DF$LLM_success_TF):\n",
      "“Levels are not in the same order for reference and data. Refactoring data to match.”\n",
      "Warning message in confusionMatrix.default(JI_threshCol, geneSets_DF$LLM_success_TF):\n",
      "“Levels are not in the same order for reference and data. Refactoring data to match.”\n",
      "Warning message in confusionMatrix.default(JI_threshCol, geneSets_DF$LLM_success_TF):\n",
      "“Levels are not in the same order for reference and data. Refactoring data to match.”\n",
      "Warning message in confusionMatrix.default(JI_threshCol, geneSets_DF$LLM_success_TF):\n",
      "“Levels are not in the same order for reference and data. Refactoring data to match.”\n",
      "Warning message in confusionMatrix.default(JI_threshCol, geneSets_DF$LLM_success_TF):\n",
      "“Levels are not in the same order for reference and data. Refactoring data to match.”\n",
      "Warning message in confusionMatrix.default(JI_threshCol, geneSets_DF$LLM_success_TF):\n",
      "“Levels are not in the same order for reference and data. Refactoring data to match.”\n",
      "Warning message in confusionMatrix.default(JI_threshCol, geneSets_DF$LLM_success_TF):\n",
      "“Levels are not in the same order for reference and data. Refactoring data to match.”\n",
      "Warning message in confusionMatrix.default(JI_threshCol, geneSets_DF$LLM_success_TF):\n",
      "“Levels are not in the same order for reference and data. Refactoring data to match.”\n",
      "Warning message in confusionMatrix.default(JI_threshCol, geneSets_DF$LLM_success_TF):\n",
      "“Levels are not in the same order for reference and data. Refactoring data to match.”\n",
      "Warning message in confusionMatrix.default(JI_threshCol, geneSets_DF$LLM_success_TF):\n",
      "“Levels are not in the same order for reference and data. Refactoring data to match.”\n"
     ]
    }
   ],
   "source": [
    "for (JI_threshInd in c(1:length(JI_threshList))){\n",
    "    JI_thresh = JI_threshList[JI_threshInd]\n",
    "    \n",
    "    JI_threshCol = ((geneSets_DF$`Adjusted P-value` <= enrichr_adj_pval_thresh) & (geneSets_DF$enrichr_JI >= JI_thresh)) \n",
    "\n",
    "    JI_thresh_eval_DF$perc_success[JI_threshInd] = sum(JI_threshCol)/nrow(geneSets_DF)\n",
    "    \n",
    "    JI_threshOnlyCol = (geneSets_DF$enrichr_JI >= JI_thresh) \n",
    "\n",
    "    JI_thresh_eval_DF$perc_meetsThresh[JI_threshInd] = 100*sum(JI_threshOnlyCol)/nrow(geneSets_DF)\n",
    "    \n",
    "    \n",
    "    JI_threshCol = JI_threshCol %>% as.factor()\n",
    "    \n",
    "    c = confusionMatrix(JI_threshCol, geneSets_DF$LLM_success_TF)\n",
    "    JI_thresh_eval_DF$accuracy[JI_threshInd] = c$overall[\"Accuracy\"]\n",
    "    \n",
    "    }"
   ]
  },
  {
   "cell_type": "code",
   "execution_count": 33,
   "id": "d25beb87-fca8-476b-b428-8de59b60d22f",
   "metadata": {},
   "outputs": [],
   "source": [
    "g2 = ggscatter(data = JI_thresh_eval_DF,\n",
    "          x = \"JI_thresh\",\n",
    "          y = \"perc_meetsThresh\", \n",
    "          xlab = \"Required overlap with enriched GO terms\",\n",
    "        ylab = \"Percentage of omics gene sets with required overlap with GO\") +\n",
    "geom_line()+\n",
    "geom_vline(xintercept = 0.1, color = \"red\", linetype=\"dotted\")+\n",
    "theme_pubr()"
   ]
  },
  {
   "cell_type": "code",
   "execution_count": 34,
   "id": "8766a926-9b9f-404a-a967-04acf216a71b",
   "metadata": {},
   "outputs": [
    {
     "data": {
      "image/png": "[encoded data removed]",
      "text/plain": [
       "plot without title"
      ]
     },
     "metadata": {
      "image/png": {
       "height": 420,
       "width": 420
      }
     },
     "output_type": "display_data"
    }
   ],
   "source": [
    "g2\n"
   ]
  },
  {
   "cell_type": "code",
   "execution_count": 35,
   "id": "a348ad42-e29c-4d0f-9f39-c0812490d96b",
   "metadata": {},
   "outputs": [],
   "source": [
    "ggsave(filename = \"figures/OmicsRevamped_Enrichment_success_onlyThreshold.png\", plot = g2,width = 5, height = 3)"
   ]
  },
  {
   "cell_type": "code",
   "execution_count": 36,
   "id": "db255ea6-4b3d-4d1a-be03-0a5ff11c6bff",
   "metadata": {},
   "outputs": [],
   "source": [
    "ggsave(filename = \"figures/OmicsRevamped_Enrichment_success_onlyThreshold.svg\", plot = g2,width = 5, height = 3)"
   ]
  },
  {
   "cell_type": "code",
   "execution_count": null,
   "id": "7200af48-d539-435f-ad9d-7758d286ebfb",
   "metadata": {},
   "outputs": [],
   "source": [
    "g2 = ggscatter(data = JI_thresh_eval_DF,\n",
    "          x = \"JI_thresh\",\n",
    "          y = \"perc_success\", \n",
    "          xlab = \"JI threshold\",\n",
    "        ylab = \"% success\") +\n",
    "geom_vline(xintercept = 0.1, color = \"red\", linetype=\"dotted\")+\n",
    "theme_pubr()\n"
   ]
  },
  {
   "cell_type": "code",
   "execution_count": null,
   "id": "5e8f43ea-fdcc-4f21-ac1d-457c5077d870",
   "metadata": {},
   "outputs": [],
   "source": [
    "g2"
   ]
  },
  {
   "cell_type": "code",
   "execution_count": null,
   "id": "d58515bb-4a13-470d-97a6-41bfa9b25f58",
   "metadata": {},
   "outputs": [],
   "source": []
  },
  {
   "cell_type": "code",
   "execution_count": null,
   "id": "21658dba-1881-4ccd-b054-c0444263c745",
   "metadata": {},
   "outputs": [],
   "source": []
  },
  {
   "cell_type": "code",
   "execution_count": null,
   "id": "5f970012-9341-4f64-a4bd-507825dcfdb3",
   "metadata": {},
   "outputs": [],
   "source": [
    "g2_plotly = ggplotly(g2)"
   ]
  },
  {
   "cell_type": "code",
   "execution_count": null,
   "id": "0b9d53b6-6aab-437d-9a4d-c830fb799660",
   "metadata": {},
   "outputs": [],
   "source": [
    "g2_plotly"
   ]
  },
  {
   "cell_type": "code",
   "execution_count": null,
   "id": "f2d66cdd-4b3a-4fbf-ac84-0649e36280b3",
   "metadata": {},
   "outputs": [],
   "source": [
    "htmlwidgets::saveWidget(\n",
    "                widget = g2_plotly, #the plotly object\n",
    "                file = \"figures/OmicsRevamped_Enrichment_success.html\", #the path & file name\n",
    "                selfcontained = TRUE #creates a single html file\n",
    "                )"
   ]
  },
  {
   "cell_type": "code",
   "execution_count": null,
   "id": "e4109400-ea37-4c72-b801-7d19bcf40967",
   "metadata": {},
   "outputs": [],
   "source": [
    "geneSets_DF$enrichr_success_TF_0.1 = ((geneSets_DF$`Adjusted P-value` <= enrichr_adj_pval_thresh) & (geneSets_DF$enrichr_JI >= 0.1)) "
   ]
  },
  {
   "cell_type": "code",
   "execution_count": null,
   "id": "ef92d890-8d8d-4aca-81c3-b74f534aed86",
   "metadata": {},
   "outputs": [],
   "source": [
    "write_delim(x = geneSets_DF, file = \"data/omics_revamped_LLM_Enrichr_simVals_failure_refs_newThresh_DF.tsv\" , \n",
    "            delim = \"\\t\")"
   ]
  },
  {
   "cell_type": "code",
   "execution_count": null,
   "id": "261c38a4-853b-4897-8d99-5cdbc23e7059",
   "metadata": {},
   "outputs": [],
   "source": [
    "table(geneSets_DF[, c(\"enrichr_success_TF_0.1\", \"LLM_success_TF\")])"
   ]
  },
  {
   "cell_type": "code",
   "execution_count": null,
   "id": "172051fb-fa48-47f4-b28d-96dd36d40bc7",
   "metadata": {},
   "outputs": [],
   "source": [
    "table(geneSets_DF[, c(\"enrichr_success_TF_0.1\", \"Source\")])"
   ]
  },
  {
   "cell_type": "code",
   "execution_count": null,
   "id": "2ff807f1-2eb8-4fd9-8aae-0065abd29812",
   "metadata": {},
   "outputs": [],
   "source": [
    "geneSets_DF$enrichr_success_TF_0.03 = ((geneSets_DF$`Adjusted P-value` <= enrichr_adj_pval_thresh) & (geneSets_DF$enrichr_JI >= 0.03)) "
   ]
  },
  {
   "cell_type": "code",
   "execution_count": null,
   "id": "8a132782-1f8b-40c1-ad1b-77c8ab1aeb4e",
   "metadata": {},
   "outputs": [],
   "source": [
    "geneSets_DF$enrichr_success_TF_0.06 = ((geneSets_DF$`Adjusted P-value` <= enrichr_adj_pval_thresh) & (geneSets_DF$enrichr_JI >= 0.06)) "
   ]
  },
  {
   "cell_type": "code",
   "execution_count": null,
   "id": "7ab5abb8-8e80-4d40-810a-f04e294b4beb",
   "metadata": {},
   "outputs": [],
   "source": [
    "table(geneSets_DF[, c(\"enrichr_success_TF_0.06\", \"LLM_success_TF\")])"
   ]
  },
  {
   "cell_type": "code",
   "execution_count": null,
   "id": "51be017f-46c8-4dc4-895a-7c24fc55085f",
   "metadata": {},
   "outputs": [],
   "source": [
    "51/(51+141)"
   ]
  },
  {
   "cell_type": "code",
   "execution_count": null,
   "id": "1fcec9d7-d998-4af4-a303-cec4d8ce6b87",
   "metadata": {},
   "outputs": [],
   "source": [
    "26/(26+141)"
   ]
  },
  {
   "cell_type": "code",
   "execution_count": null,
   "id": "c40e05b2-3bd1-4113-a6fe-25fc028df062",
   "metadata": {},
   "outputs": [],
   "source": [
    "table(geneSets_DF[, c(\"enrichr_success_TF_0.03\", \"LLM_success_TF\")])"
   ]
  },
  {
   "cell_type": "code",
   "execution_count": null,
   "id": "a9f8f66c-c3fb-45c2-a7f4-a1e0fc4fea46",
   "metadata": {},
   "outputs": [],
   "source": [
    "table(geneSets_DF[, c(\"enrichr_success_TF\", \"LLM_success_TF\")])"
   ]
  },
  {
   "cell_type": "code",
   "execution_count": null,
   "id": "5b1b6117-ec81-4472-a5b1-1c5f9fd4a6ac",
   "metadata": {},
   "outputs": [],
   "source": [
    "94/(94+73)"
   ]
  },
  {
   "cell_type": "code",
   "execution_count": null,
   "id": "9bf059b2-1c0c-4a49-b70c-893cb301b53e",
   "metadata": {},
   "outputs": [],
   "source": [
    "0.1"
   ]
  },
  {
   "cell_type": "code",
   "execution_count": null,
   "id": "4c4e15d7-8db1-489a-a836-ab7df0e9099c",
   "metadata": {},
   "outputs": [],
   "source": []
  }
 ],
 "metadata": {
  "kernelspec": {
   "display_name": "R",
   "language": "R",
   "name": "r"
  },
  "language_info": {
   "codemirror_mode": "r",
   "file_extension": ".r",
   "mimetype": "text/x-r-source",
   "name": "R",
   "pygments_lexer": "r",
   "version": "4.3.2"
  }
 },
 "nbformat": 4,
 "nbformat_minor": 5
}

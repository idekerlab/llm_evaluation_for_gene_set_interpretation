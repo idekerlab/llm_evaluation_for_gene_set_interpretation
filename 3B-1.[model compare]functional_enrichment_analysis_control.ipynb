{
 "cells": [
  {
   "cell_type": "code",
   "execution_count": 4,
   "metadata": {},
   "outputs": [
    {
     "name": "stdout",
     "output_type": "stream",
     "text": [
      "The autoreload extension is already loaded. To reload it, use:\n",
      "  %reload_ext autoreload\n"
     ]
    }
   ],
   "source": [
    "%load_ext autoreload\n",
    "%autoreload 2\n",
    "import pandas as pd\n",
    "from tqdm import tqdm\n",
    "import requests\n",
    "\n"
   ]
  },
  {
   "cell_type": "markdown",
   "metadata": {},
   "source": [
    "# Run g:profiler for functional enrichment analysis"
   ]
  },
  {
   "cell_type": "code",
   "execution_count": 5,
   "metadata": {},
   "outputs": [
    {
     "name": "stdout",
     "output_type": "stream",
     "text": [
      "Genes\n"
     ]
    },
    {
     "name": "stderr",
     "output_type": "stream",
     "text": [
      "100%|██████████| 100/100 [02:20<00:00,  1.41s/it]\n"
     ]
    },
    {
     "name": "stdout",
     "output_type": "stream",
     "text": [
      "50perc_contaminated_Genes\n"
     ]
    },
    {
     "name": "stderr",
     "output_type": "stream",
     "text": [
      " 56%|█████▌    | 56/100 [01:13<00:43,  1.00it/s]"
     ]
    },
    {
     "name": "stdout",
     "output_type": "stream",
     "text": [
      "No significant enriched term found for query index: GO:0043377\n"
     ]
    },
    {
     "name": "stderr",
     "output_type": "stream",
     "text": [
      "100%|██████████| 100/100 [02:14<00:00,  1.34s/it]\n"
     ]
    },
    {
     "name": "stdout",
     "output_type": "stream",
     "text": [
      "100perc_contaminated_Genes\n"
     ]
    },
    {
     "name": "stderr",
     "output_type": "stream",
     "text": [
      "  2%|▏         | 2/100 [00:01<01:33,  1.05it/s]"
     ]
    },
    {
     "name": "stdout",
     "output_type": "stream",
     "text": [
      "No significant enriched term found for query index: GO:0045056\n"
     ]
    },
    {
     "name": "stderr",
     "output_type": "stream",
     "text": [
      "  4%|▍         | 4/100 [00:04<01:48,  1.13s/it]"
     ]
    },
    {
     "name": "stdout",
     "output_type": "stream",
     "text": [
      "No significant enriched term found for query index: GO:0036148\n"
     ]
    },
    {
     "name": "stderr",
     "output_type": "stream",
     "text": [
      "  5%|▌         | 5/100 [00:05<01:54,  1.20s/it]"
     ]
    },
    {
     "name": "stdout",
     "output_type": "stream",
     "text": [
      "No significant enriched term found for query index: GO:1901797\n"
     ]
    },
    {
     "name": "stderr",
     "output_type": "stream",
     "text": [
      "  6%|▌         | 6/100 [00:07<02:12,  1.41s/it]"
     ]
    },
    {
     "name": "stdout",
     "output_type": "stream",
     "text": [
      "No significant enriched term found for query index: GO:0014896\n"
     ]
    },
    {
     "name": "stderr",
     "output_type": "stream",
     "text": [
      "  7%|▋         | 7/100 [00:08<01:58,  1.27s/it]"
     ]
    },
    {
     "name": "stdout",
     "output_type": "stream",
     "text": [
      "No significant enriched term found for query index: GO:1903025\n"
     ]
    },
    {
     "name": "stderr",
     "output_type": "stream",
     "text": [
      "  8%|▊         | 8/100 [00:10<02:09,  1.41s/it]"
     ]
    },
    {
     "name": "stdout",
     "output_type": "stream",
     "text": [
      "No significant enriched term found for query index: GO:0043406\n"
     ]
    },
    {
     "name": "stderr",
     "output_type": "stream",
     "text": [
      "  9%|▉         | 9/100 [00:11<02:05,  1.38s/it]"
     ]
    },
    {
     "name": "stdout",
     "output_type": "stream",
     "text": [
      "No significant enriched term found for query index: GO:0071459\n"
     ]
    },
    {
     "name": "stderr",
     "output_type": "stream",
     "text": [
      " 10%|█         | 10/100 [00:12<01:55,  1.29s/it]"
     ]
    },
    {
     "name": "stdout",
     "output_type": "stream",
     "text": [
      "No significant enriched term found for query index: GO:0072734\n"
     ]
    },
    {
     "name": "stderr",
     "output_type": "stream",
     "text": [
      " 11%|█         | 11/100 [00:13<01:47,  1.20s/it]"
     ]
    },
    {
     "name": "stdout",
     "output_type": "stream",
     "text": [
      "No significant enriched term found for query index: GO:0036017\n"
     ]
    },
    {
     "name": "stderr",
     "output_type": "stream",
     "text": [
      " 13%|█▎        | 13/100 [00:15<01:26,  1.01it/s]"
     ]
    },
    {
     "name": "stdout",
     "output_type": "stream",
     "text": [
      "No significant enriched term found for query index: GO:0032075\n"
     ]
    },
    {
     "name": "stderr",
     "output_type": "stream",
     "text": [
      " 14%|█▍        | 14/100 [00:16<01:20,  1.07it/s]"
     ]
    },
    {
     "name": "stdout",
     "output_type": "stream",
     "text": [
      "No significant enriched term found for query index: GO:0015760\n"
     ]
    },
    {
     "name": "stderr",
     "output_type": "stream",
     "text": [
      " 15%|█▌        | 15/100 [00:17<01:38,  1.15s/it]"
     ]
    },
    {
     "name": "stdout",
     "output_type": "stream",
     "text": [
      "No significant enriched term found for query index: GO:1904377\n"
     ]
    },
    {
     "name": "stderr",
     "output_type": "stream",
     "text": [
      " 16%|█▌        | 16/100 [00:19<01:59,  1.43s/it]"
     ]
    },
    {
     "name": "stdout",
     "output_type": "stream",
     "text": [
      "No significant enriched term found for query index: GO:0042775\n"
     ]
    },
    {
     "name": "stderr",
     "output_type": "stream",
     "text": [
      " 17%|█▋        | 17/100 [00:20<01:48,  1.31s/it]"
     ]
    },
    {
     "name": "stdout",
     "output_type": "stream",
     "text": [
      "No significant enriched term found for query index: GO:1900153\n"
     ]
    },
    {
     "name": "stderr",
     "output_type": "stream",
     "text": [
      " 18%|█▊        | 18/100 [00:21<01:41,  1.24s/it]"
     ]
    },
    {
     "name": "stdout",
     "output_type": "stream",
     "text": [
      "No significant enriched term found for query index: GO:0036303\n"
     ]
    },
    {
     "name": "stderr",
     "output_type": "stream",
     "text": [
      " 21%|██        | 21/100 [00:24<01:24,  1.07s/it]"
     ]
    },
    {
     "name": "stdout",
     "output_type": "stream",
     "text": [
      "No significant enriched term found for query index: GO:0015816\n"
     ]
    },
    {
     "name": "stderr",
     "output_type": "stream",
     "text": [
      " 23%|██▎       | 23/100 [00:26<01:21,  1.06s/it]"
     ]
    },
    {
     "name": "stdout",
     "output_type": "stream",
     "text": [
      "No significant enriched term found for query index: GO:0060020\n"
     ]
    },
    {
     "name": "stderr",
     "output_type": "stream",
     "text": [
      " 24%|██▍       | 24/100 [00:28<01:33,  1.23s/it]"
     ]
    },
    {
     "name": "stdout",
     "output_type": "stream",
     "text": [
      "No significant enriched term found for query index: GO:0006406\n"
     ]
    },
    {
     "name": "stderr",
     "output_type": "stream",
     "text": [
      " 25%|██▌       | 25/100 [00:29<01:36,  1.29s/it]"
     ]
    },
    {
     "name": "stdout",
     "output_type": "stream",
     "text": [
      "No significant enriched term found for query index: GO:0048857\n"
     ]
    },
    {
     "name": "stderr",
     "output_type": "stream",
     "text": [
      " 26%|██▌       | 26/100 [00:31<01:36,  1.31s/it]"
     ]
    },
    {
     "name": "stdout",
     "output_type": "stream",
     "text": [
      "No significant enriched term found for query index: GO:1905806\n"
     ]
    },
    {
     "name": "stderr",
     "output_type": "stream",
     "text": [
      " 30%|███       | 30/100 [00:36<01:29,  1.29s/it]"
     ]
    },
    {
     "name": "stdout",
     "output_type": "stream",
     "text": [
      "No significant enriched term found for query index: GO:0036257\n"
     ]
    },
    {
     "name": "stderr",
     "output_type": "stream",
     "text": [
      " 31%|███       | 31/100 [00:37<01:28,  1.28s/it]"
     ]
    },
    {
     "name": "stdout",
     "output_type": "stream",
     "text": [
      "No significant enriched term found for query index: GO:0007039\n"
     ]
    },
    {
     "name": "stderr",
     "output_type": "stream",
     "text": [
      " 32%|███▏      | 32/100 [00:38<01:27,  1.29s/it]"
     ]
    },
    {
     "name": "stdout",
     "output_type": "stream",
     "text": [
      "No significant enriched term found for query index: GO:1900047\n"
     ]
    },
    {
     "name": "stderr",
     "output_type": "stream",
     "text": [
      " 34%|███▍      | 34/100 [00:40<01:12,  1.10s/it]"
     ]
    },
    {
     "name": "stdout",
     "output_type": "stream",
     "text": [
      "No significant enriched term found for query index: GO:0140009\n"
     ]
    },
    {
     "name": "stderr",
     "output_type": "stream",
     "text": [
      " 36%|███▌      | 36/100 [00:43<01:17,  1.21s/it]"
     ]
    },
    {
     "name": "stdout",
     "output_type": "stream",
     "text": [
      "No significant enriched term found for query index: GO:0097350\n"
     ]
    },
    {
     "name": "stderr",
     "output_type": "stream",
     "text": [
      " 37%|███▋      | 37/100 [00:44<01:13,  1.17s/it]"
     ]
    },
    {
     "name": "stdout",
     "output_type": "stream",
     "text": [
      "No significant enriched term found for query index: GO:0045959\n"
     ]
    },
    {
     "name": "stderr",
     "output_type": "stream",
     "text": [
      " 39%|███▉      | 39/100 [00:46<01:05,  1.07s/it]"
     ]
    },
    {
     "name": "stdout",
     "output_type": "stream",
     "text": [
      "No significant enriched term found for query index: GO:0072488\n"
     ]
    },
    {
     "name": "stderr",
     "output_type": "stream",
     "text": [
      " 41%|████      | 41/100 [00:48<01:00,  1.03s/it]"
     ]
    },
    {
     "name": "stdout",
     "output_type": "stream",
     "text": [
      "No significant enriched term found for query index: GO:0035754\n"
     ]
    },
    {
     "name": "stderr",
     "output_type": "stream",
     "text": [
      " 42%|████▏     | 42/100 [00:49<01:00,  1.04s/it]"
     ]
    },
    {
     "name": "stdout",
     "output_type": "stream",
     "text": [
      "No significant enriched term found for query index: GO:0070294\n"
     ]
    },
    {
     "name": "stderr",
     "output_type": "stream",
     "text": [
      " 43%|████▎     | 43/100 [00:50<00:59,  1.04s/it]"
     ]
    },
    {
     "name": "stdout",
     "output_type": "stream",
     "text": [
      "No significant enriched term found for query index: GO:1905668\n"
     ]
    },
    {
     "name": "stderr",
     "output_type": "stream",
     "text": [
      " 44%|████▍     | 44/100 [00:50<00:50,  1.10it/s]"
     ]
    },
    {
     "name": "stdout",
     "output_type": "stream",
     "text": [
      "No significant enriched term found for query index: GO:1902083\n"
     ]
    },
    {
     "name": "stderr",
     "output_type": "stream",
     "text": [
      " 45%|████▌     | 45/100 [00:51<00:51,  1.06it/s]"
     ]
    },
    {
     "name": "stdout",
     "output_type": "stream",
     "text": [
      "No significant enriched term found for query index: GO:0001711\n"
     ]
    },
    {
     "name": "stderr",
     "output_type": "stream",
     "text": [
      " 47%|████▋     | 47/100 [00:54<01:09,  1.32s/it]"
     ]
    },
    {
     "name": "stdout",
     "output_type": "stream",
     "text": [
      "No significant enriched term found for query index: GO:0016079\n"
     ]
    },
    {
     "name": "stderr",
     "output_type": "stream",
     "text": [
      " 48%|████▊     | 48/100 [00:55<01:00,  1.17s/it]"
     ]
    },
    {
     "name": "stdout",
     "output_type": "stream",
     "text": [
      "No significant enriched term found for query index: GO:0048294\n"
     ]
    },
    {
     "name": "stderr",
     "output_type": "stream",
     "text": [
      " 50%|█████     | 50/100 [00:57<00:53,  1.06s/it]"
     ]
    },
    {
     "name": "stdout",
     "output_type": "stream",
     "text": [
      "No significant enriched term found for query index: GO:0033860\n"
     ]
    },
    {
     "name": "stderr",
     "output_type": "stream",
     "text": [
      " 51%|█████     | 51/100 [00:58<00:50,  1.04s/it]"
     ]
    },
    {
     "name": "stdout",
     "output_type": "stream",
     "text": [
      "No significant enriched term found for query index: GO:0014744\n"
     ]
    },
    {
     "name": "stderr",
     "output_type": "stream",
     "text": [
      " 52%|█████▏    | 52/100 [00:59<00:49,  1.02s/it]"
     ]
    },
    {
     "name": "stdout",
     "output_type": "stream",
     "text": [
      "No significant enriched term found for query index: GO:0000338\n"
     ]
    },
    {
     "name": "stderr",
     "output_type": "stream",
     "text": [
      " 53%|█████▎    | 53/100 [01:00<00:46,  1.01it/s]"
     ]
    },
    {
     "name": "stdout",
     "output_type": "stream",
     "text": [
      "No significant enriched term found for query index: GO:0060696\n"
     ]
    },
    {
     "name": "stderr",
     "output_type": "stream",
     "text": [
      " 54%|█████▍    | 54/100 [01:01<00:48,  1.06s/it]"
     ]
    },
    {
     "name": "stdout",
     "output_type": "stream",
     "text": [
      "No significant enriched term found for query index: GO:0019885\n"
     ]
    },
    {
     "name": "stderr",
     "output_type": "stream",
     "text": [
      " 55%|█████▌    | 55/100 [01:02<00:46,  1.04s/it]"
     ]
    },
    {
     "name": "stdout",
     "output_type": "stream",
     "text": [
      "No significant enriched term found for query index: GO:0003166\n"
     ]
    },
    {
     "name": "stderr",
     "output_type": "stream",
     "text": [
      " 57%|█████▋    | 57/100 [01:05<00:56,  1.30s/it]"
     ]
    },
    {
     "name": "stdout",
     "output_type": "stream",
     "text": [
      "No significant enriched term found for query index: GO:0035825\n"
     ]
    },
    {
     "name": "stderr",
     "output_type": "stream",
     "text": [
      " 58%|█████▊    | 58/100 [01:06<00:51,  1.22s/it]"
     ]
    },
    {
     "name": "stdout",
     "output_type": "stream",
     "text": [
      "No significant enriched term found for query index: GO:0007063\n"
     ]
    },
    {
     "name": "stderr",
     "output_type": "stream",
     "text": [
      " 59%|█████▉    | 59/100 [01:07<00:49,  1.21s/it]"
     ]
    },
    {
     "name": "stdout",
     "output_type": "stream",
     "text": [
      "No significant enriched term found for query index: GO:0051036\n"
     ]
    },
    {
     "name": "stderr",
     "output_type": "stream",
     "text": [
      " 60%|██████    | 60/100 [01:09<00:53,  1.33s/it]"
     ]
    },
    {
     "name": "stdout",
     "output_type": "stream",
     "text": [
      "No significant enriched term found for query index: GO:0071715\n"
     ]
    },
    {
     "name": "stderr",
     "output_type": "stream",
     "text": [
      " 63%|██████▎   | 63/100 [01:13<00:47,  1.29s/it]"
     ]
    },
    {
     "name": "stdout",
     "output_type": "stream",
     "text": [
      "No significant enriched term found for query index: GO:0006515\n"
     ]
    },
    {
     "name": "stderr",
     "output_type": "stream",
     "text": [
      " 64%|██████▍   | 64/100 [01:14<00:44,  1.24s/it]"
     ]
    },
    {
     "name": "stdout",
     "output_type": "stream",
     "text": [
      "No significant enriched term found for query index: GO:1901550\n"
     ]
    },
    {
     "name": "stderr",
     "output_type": "stream",
     "text": [
      " 66%|██████▌   | 66/100 [01:15<00:33,  1.01it/s]"
     ]
    },
    {
     "name": "stdout",
     "output_type": "stream",
     "text": [
      "No significant enriched term found for query index: GO:1901079\n"
     ]
    },
    {
     "name": "stderr",
     "output_type": "stream",
     "text": [
      " 67%|██████▋   | 67/100 [01:17<00:36,  1.12s/it]"
     ]
    },
    {
     "name": "stdout",
     "output_type": "stream",
     "text": [
      "No significant enriched term found for query index: GO:1900087\n"
     ]
    },
    {
     "name": "stderr",
     "output_type": "stream",
     "text": [
      " 68%|██████▊   | 68/100 [01:18<00:32,  1.02s/it]"
     ]
    },
    {
     "name": "stdout",
     "output_type": "stream",
     "text": [
      "No significant enriched term found for query index: GO:0051884\n"
     ]
    },
    {
     "name": "stderr",
     "output_type": "stream",
     "text": [
      " 69%|██████▉   | 69/100 [01:19<00:39,  1.26s/it]"
     ]
    },
    {
     "name": "stdout",
     "output_type": "stream",
     "text": [
      "No significant enriched term found for query index: GO:0001892\n"
     ]
    },
    {
     "name": "stderr",
     "output_type": "stream",
     "text": [
      " 70%|███████   | 70/100 [01:20<00:36,  1.21s/it]"
     ]
    },
    {
     "name": "stdout",
     "output_type": "stream",
     "text": [
      "No significant enriched term found for query index: GO:2000344\n"
     ]
    },
    {
     "name": "stderr",
     "output_type": "stream",
     "text": [
      " 71%|███████   | 71/100 [01:21<00:33,  1.15s/it]"
     ]
    },
    {
     "name": "stdout",
     "output_type": "stream",
     "text": [
      "No significant enriched term found for query index: GO:0035930\n"
     ]
    },
    {
     "name": "stderr",
     "output_type": "stream",
     "text": [
      " 72%|███████▏  | 72/100 [01:23<00:31,  1.12s/it]"
     ]
    },
    {
     "name": "stdout",
     "output_type": "stream",
     "text": [
      "No significant enriched term found for query index: GO:0009744\n"
     ]
    },
    {
     "name": "stderr",
     "output_type": "stream",
     "text": [
      " 74%|███████▍  | 74/100 [01:25<00:28,  1.09s/it]"
     ]
    },
    {
     "name": "stdout",
     "output_type": "stream",
     "text": [
      "No significant enriched term found for query index: GO:0033141\n"
     ]
    },
    {
     "name": "stderr",
     "output_type": "stream",
     "text": [
      " 75%|███████▌  | 75/100 [01:26<00:26,  1.07s/it]"
     ]
    },
    {
     "name": "stdout",
     "output_type": "stream",
     "text": [
      "No significant enriched term found for query index: GO:0003357\n"
     ]
    },
    {
     "name": "stderr",
     "output_type": "stream",
     "text": [
      " 76%|███████▌  | 76/100 [01:27<00:25,  1.04s/it]"
     ]
    },
    {
     "name": "stdout",
     "output_type": "stream",
     "text": [
      "No significant enriched term found for query index: GO:0070202\n"
     ]
    },
    {
     "name": "stderr",
     "output_type": "stream",
     "text": [
      " 78%|███████▊  | 78/100 [01:30<00:28,  1.29s/it]"
     ]
    },
    {
     "name": "stdout",
     "output_type": "stream",
     "text": [
      "No significant enriched term found for query index: GO:0010232\n"
     ]
    },
    {
     "name": "stderr",
     "output_type": "stream",
     "text": [
      " 81%|████████  | 81/100 [01:33<00:22,  1.17s/it]"
     ]
    },
    {
     "name": "stdout",
     "output_type": "stream",
     "text": [
      "No significant enriched term found for query index: GO:0090659\n"
     ]
    },
    {
     "name": "stderr",
     "output_type": "stream",
     "text": [
      " 82%|████████▏ | 82/100 [01:34<00:20,  1.12s/it]"
     ]
    },
    {
     "name": "stdout",
     "output_type": "stream",
     "text": [
      "No significant enriched term found for query index: GO:0140588\n"
     ]
    },
    {
     "name": "stderr",
     "output_type": "stream",
     "text": [
      " 85%|████████▌ | 85/100 [01:37<00:16,  1.13s/it]"
     ]
    },
    {
     "name": "stdout",
     "output_type": "stream",
     "text": [
      "No significant enriched term found for query index: GO:0000022\n"
     ]
    },
    {
     "name": "stderr",
     "output_type": "stream",
     "text": [
      " 86%|████████▌ | 86/100 [01:38<00:15,  1.12s/it]"
     ]
    },
    {
     "name": "stdout",
     "output_type": "stream",
     "text": [
      "No significant enriched term found for query index: GO:1905278\n"
     ]
    },
    {
     "name": "stderr",
     "output_type": "stream",
     "text": [
      " 87%|████████▋ | 87/100 [01:39<00:14,  1.08s/it]"
     ]
    },
    {
     "name": "stdout",
     "output_type": "stream",
     "text": [
      "No significant enriched term found for query index: GO:0060768\n"
     ]
    },
    {
     "name": "stderr",
     "output_type": "stream",
     "text": [
      " 88%|████████▊ | 88/100 [01:41<00:14,  1.25s/it]"
     ]
    },
    {
     "name": "stdout",
     "output_type": "stream",
     "text": [
      "No significant enriched term found for query index: GO:0045599\n"
     ]
    },
    {
     "name": "stderr",
     "output_type": "stream",
     "text": [
      " 89%|████████▉ | 89/100 [01:42<00:12,  1.16s/it]"
     ]
    },
    {
     "name": "stdout",
     "output_type": "stream",
     "text": [
      "No significant enriched term found for query index: GO:0051657\n"
     ]
    },
    {
     "name": "stderr",
     "output_type": "stream",
     "text": [
      " 90%|█████████ | 90/100 [01:43<00:11,  1.20s/it]"
     ]
    },
    {
     "name": "stdout",
     "output_type": "stream",
     "text": [
      "No significant enriched term found for query index: GO:0045940\n"
     ]
    },
    {
     "name": "stderr",
     "output_type": "stream",
     "text": [
      " 91%|█████████ | 91/100 [01:44<00:09,  1.08s/it]"
     ]
    },
    {
     "name": "stdout",
     "output_type": "stream",
     "text": [
      "No significant enriched term found for query index: GO:0010757\n"
     ]
    },
    {
     "name": "stderr",
     "output_type": "stream",
     "text": [
      " 92%|█████████▏| 92/100 [01:45<00:09,  1.16s/it]"
     ]
    },
    {
     "name": "stdout",
     "output_type": "stream",
     "text": [
      "No significant enriched term found for query index: GO:2000136\n"
     ]
    },
    {
     "name": "stderr",
     "output_type": "stream",
     "text": [
      " 93%|█████████▎| 93/100 [01:46<00:07,  1.14s/it]"
     ]
    },
    {
     "name": "stdout",
     "output_type": "stream",
     "text": [
      "No significant enriched term found for query index: GO:0002433\n"
     ]
    },
    {
     "name": "stderr",
     "output_type": "stream",
     "text": [
      " 94%|█████████▍| 94/100 [01:48<00:07,  1.31s/it]"
     ]
    },
    {
     "name": "stdout",
     "output_type": "stream",
     "text": [
      "No significant enriched term found for query index: GO:1990874\n"
     ]
    },
    {
     "name": "stderr",
     "output_type": "stream",
     "text": [
      " 95%|█████████▌| 95/100 [01:49<00:06,  1.32s/it]"
     ]
    },
    {
     "name": "stdout",
     "output_type": "stream",
     "text": [
      "No significant enriched term found for query index: GO:0002792\n"
     ]
    },
    {
     "name": "stderr",
     "output_type": "stream",
     "text": [
      " 96%|█████████▌| 96/100 [01:51<00:05,  1.32s/it]"
     ]
    },
    {
     "name": "stdout",
     "output_type": "stream",
     "text": [
      "No significant enriched term found for query index: GO:1900368\n"
     ]
    },
    {
     "name": "stderr",
     "output_type": "stream",
     "text": [
      " 98%|█████████▊| 98/100 [01:53<00:02,  1.23s/it]"
     ]
    },
    {
     "name": "stdout",
     "output_type": "stream",
     "text": [
      "No significant enriched term found for query index: GO:2000556\n"
     ]
    },
    {
     "name": "stderr",
     "output_type": "stream",
     "text": [
      "100%|██████████| 100/100 [01:55<00:00,  1.16s/it]"
     ]
    },
    {
     "name": "stdout",
     "output_type": "stream",
     "text": [
      "No significant enriched term found for query index: GO:0090100\n"
     ]
    },
    {
     "name": "stderr",
     "output_type": "stream",
     "text": [
      "\n"
     ]
    },
    {
     "data": {
      "text/html": [
       "<div>\n",
       "<style scoped>\n",
       "    .dataframe tbody tr th:only-of-type {\n",
       "        vertical-align: middle;\n",
       "    }\n",
       "\n",
       "    .dataframe tbody tr th {\n",
       "        vertical-align: top;\n",
       "    }\n",
       "\n",
       "    .dataframe thead th {\n",
       "        text-align: right;\n",
       "    }\n",
       "</style>\n",
       "<table border=\"1\" class=\"dataframe\">\n",
       "  <thead>\n",
       "    <tr style=\"text-align: right;\">\n",
       "      <th></th>\n",
       "      <th>Genes</th>\n",
       "      <th>Gene_Count</th>\n",
       "      <th>Term_Description</th>\n",
       "      <th>50perc_contaminated_Genes</th>\n",
       "      <th>100perc_contaminated_Genes</th>\n",
       "      <th>Genes enriched term id</th>\n",
       "      <th>Genes enriched term description</th>\n",
       "      <th>Genes adj p-value</th>\n",
       "      <th>Genes overlap size</th>\n",
       "      <th>50perc_contaminated_Genes enriched term id</th>\n",
       "      <th>50perc_contaminated_Genes enriched term description</th>\n",
       "      <th>50perc_contaminated_Genes adj p-value</th>\n",
       "      <th>50perc_contaminated_Genes overlap size</th>\n",
       "      <th>100perc_contaminated_Genes enriched term id</th>\n",
       "      <th>100perc_contaminated_Genes enriched term description</th>\n",
       "      <th>100perc_contaminated_Genes adj p-value</th>\n",
       "      <th>100perc_contaminated_Genes overlap size</th>\n",
       "    </tr>\n",
       "    <tr>\n",
       "      <th>GO</th>\n",
       "      <th></th>\n",
       "      <th></th>\n",
       "      <th></th>\n",
       "      <th></th>\n",
       "      <th></th>\n",
       "      <th></th>\n",
       "      <th></th>\n",
       "      <th></th>\n",
       "      <th></th>\n",
       "      <th></th>\n",
       "      <th></th>\n",
       "      <th></th>\n",
       "      <th></th>\n",
       "      <th></th>\n",
       "      <th></th>\n",
       "      <th></th>\n",
       "      <th></th>\n",
       "    </tr>\n",
       "  </thead>\n",
       "  <tbody>\n",
       "    <tr>\n",
       "      <th>GO:0061740</th>\n",
       "      <td>HSPA8 LAMP2 CLU</td>\n",
       "      <td>3</td>\n",
       "      <td>protein targeting to lysosome involved in chap...</td>\n",
       "      <td>CLU RAB28 PRAMEF19</td>\n",
       "      <td>VEZT TERF1 TTC3</td>\n",
       "      <td>GO:0061740</td>\n",
       "      <td>protein targeting to lysosome involved in chap...</td>\n",
       "      <td>3.064270e-10</td>\n",
       "      <td>3</td>\n",
       "      <td>GO:1902847</td>\n",
       "      <td>regulation of neuronal signal transduction</td>\n",
       "      <td>2.574771e-02</td>\n",
       "      <td>1</td>\n",
       "      <td>GO:1904790</td>\n",
       "      <td>regulation of shelterin complex assembly</td>\n",
       "      <td>0.003833</td>\n",
       "      <td>1</td>\n",
       "    </tr>\n",
       "    <tr>\n",
       "      <th>GO:0045056</th>\n",
       "      <td>LRP1 PICALM CLTC USO1 VPS35 FCMR RAB5A AGER IG...</td>\n",
       "      <td>21</td>\n",
       "      <td>transcytosis</td>\n",
       "      <td>CLTC VPS35 FCGRT PTAFR RAB11B USO1 LRP1 LRP2 L...</td>\n",
       "      <td>LDAH ADH1A MAP3K6 PABIR1 AMY1C PRSS54 LGALS12 ...</td>\n",
       "      <td>GO:0045056</td>\n",
       "      <td>transcytosis</td>\n",
       "      <td>3.498308e-67</td>\n",
       "      <td>21</td>\n",
       "      <td>GO:0045056</td>\n",
       "      <td>transcytosis</td>\n",
       "      <td>5.724565e-23</td>\n",
       "      <td>10</td>\n",
       "      <td>None</td>\n",
       "      <td>None</td>\n",
       "      <td>1.000000</td>\n",
       "      <td>None</td>\n",
       "    </tr>\n",
       "    <tr>\n",
       "      <th>GO:0141085</th>\n",
       "      <td>PPP2CA CD36 MARK4 CPTP TREM2 TLR6 ATAT1 FBXL2 ...</td>\n",
       "      <td>39</td>\n",
       "      <td>regulation of inflammasome-mediated signaling ...</td>\n",
       "      <td>PYDC2 BRCC3 USP50 MAVS IRGM PYDC1 GBP2 ZDHHC12...</td>\n",
       "      <td>TBC1D24 NIPSNAP2 IL1RL2 EGF PSMG2 GCSAML LIN7A...</td>\n",
       "      <td>GO:0141085</td>\n",
       "      <td>regulation of inflammasome-mediated signaling ...</td>\n",
       "      <td>1.084389e-109</td>\n",
       "      <td>37</td>\n",
       "      <td>GO:0141085</td>\n",
       "      <td>regulation of inflammasome-mediated signaling ...</td>\n",
       "      <td>3.625356e-35</td>\n",
       "      <td>17</td>\n",
       "      <td>GO:0035090</td>\n",
       "      <td>maintenance of apical/basal cell polarity</td>\n",
       "      <td>0.000592</td>\n",
       "      <td>3</td>\n",
       "    </tr>\n",
       "    <tr>\n",
       "      <th>GO:0036148</th>\n",
       "      <td>CRLS1 SERAC1 PLA2G4D PLA2G4F LPGAT1 LPCAT4 PLA...</td>\n",
       "      <td>10</td>\n",
       "      <td>phosphatidylglycerol acyl-chain remodeling</td>\n",
       "      <td>JMJD7-PLA2G4B LPGAT1 PLA2G2F PLA2G4F CRLS1 IMM...</td>\n",
       "      <td>EIF3B GID8 ARPC5 KLHL3 SPDEF PRMT9 PTPN9 AP4E1...</td>\n",
       "      <td>GO:0036148</td>\n",
       "      <td>phosphatidylglycerol acyl-chain remodeling</td>\n",
       "      <td>1.246454e-30</td>\n",
       "      <td>9</td>\n",
       "      <td>GO:0036148</td>\n",
       "      <td>phosphatidylglycerol acyl-chain remodeling</td>\n",
       "      <td>1.981667e-09</td>\n",
       "      <td>4</td>\n",
       "      <td>None</td>\n",
       "      <td>None</td>\n",
       "      <td>1.000000</td>\n",
       "      <td>None</td>\n",
       "    </tr>\n",
       "    <tr>\n",
       "      <th>GO:1901797</th>\n",
       "      <td>MIF SIRT1 TWIST1 DYRK1A MUC1 ARMC10 MARCHF7 CD...</td>\n",
       "      <td>33</td>\n",
       "      <td>negative regulation of signal transduction by ...</td>\n",
       "      <td>MDM2 CD74 SNAI1 MUC1 TAF9 PRKN SNAI2 RNF34 HAP...</td>\n",
       "      <td>RAB40AL BAG3 CGGBP1 ZNF583 ZFYVE19 USP17L21 AT...</td>\n",
       "      <td>GO:1901797</td>\n",
       "      <td>negative regulation of signal transduction by ...</td>\n",
       "      <td>1.627076e-101</td>\n",
       "      <td>33</td>\n",
       "      <td>GO:1901797</td>\n",
       "      <td>negative regulation of signal transduction by ...</td>\n",
       "      <td>7.630649e-35</td>\n",
       "      <td>16</td>\n",
       "      <td>None</td>\n",
       "      <td>None</td>\n",
       "      <td>1.000000</td>\n",
       "      <td>None</td>\n",
       "    </tr>\n",
       "  </tbody>\n",
       "</table>\n",
       "</div>"
      ],
      "text/plain": [
       "                                                        Genes  Gene_Count  \\\n",
       "GO                                                                          \n",
       "GO:0061740                                    HSPA8 LAMP2 CLU           3   \n",
       "GO:0045056  LRP1 PICALM CLTC USO1 VPS35 FCMR RAB5A AGER IG...          21   \n",
       "GO:0141085  PPP2CA CD36 MARK4 CPTP TREM2 TLR6 ATAT1 FBXL2 ...          39   \n",
       "GO:0036148  CRLS1 SERAC1 PLA2G4D PLA2G4F LPGAT1 LPCAT4 PLA...          10   \n",
       "GO:1901797  MIF SIRT1 TWIST1 DYRK1A MUC1 ARMC10 MARCHF7 CD...          33   \n",
       "\n",
       "                                             Term_Description  \\\n",
       "GO                                                              \n",
       "GO:0061740  protein targeting to lysosome involved in chap...   \n",
       "GO:0045056                                       transcytosis   \n",
       "GO:0141085  regulation of inflammasome-mediated signaling ...   \n",
       "GO:0036148         phosphatidylglycerol acyl-chain remodeling   \n",
       "GO:1901797  negative regulation of signal transduction by ...   \n",
       "\n",
       "                                    50perc_contaminated_Genes  \\\n",
       "GO                                                              \n",
       "GO:0061740                                 CLU RAB28 PRAMEF19   \n",
       "GO:0045056  CLTC VPS35 FCGRT PTAFR RAB11B USO1 LRP1 LRP2 L...   \n",
       "GO:0141085  PYDC2 BRCC3 USP50 MAVS IRGM PYDC1 GBP2 ZDHHC12...   \n",
       "GO:0036148  JMJD7-PLA2G4B LPGAT1 PLA2G2F PLA2G4F CRLS1 IMM...   \n",
       "GO:1901797  MDM2 CD74 SNAI1 MUC1 TAF9 PRKN SNAI2 RNF34 HAP...   \n",
       "\n",
       "                                   100perc_contaminated_Genes  \\\n",
       "GO                                                              \n",
       "GO:0061740                                    VEZT TERF1 TTC3   \n",
       "GO:0045056  LDAH ADH1A MAP3K6 PABIR1 AMY1C PRSS54 LGALS12 ...   \n",
       "GO:0141085  TBC1D24 NIPSNAP2 IL1RL2 EGF PSMG2 GCSAML LIN7A...   \n",
       "GO:0036148  EIF3B GID8 ARPC5 KLHL3 SPDEF PRMT9 PTPN9 AP4E1...   \n",
       "GO:1901797  RAB40AL BAG3 CGGBP1 ZNF583 ZFYVE19 USP17L21 AT...   \n",
       "\n",
       "           Genes enriched term id  \\\n",
       "GO                                  \n",
       "GO:0061740             GO:0061740   \n",
       "GO:0045056             GO:0045056   \n",
       "GO:0141085             GO:0141085   \n",
       "GO:0036148             GO:0036148   \n",
       "GO:1901797             GO:1901797   \n",
       "\n",
       "                              Genes enriched term description  \\\n",
       "GO                                                              \n",
       "GO:0061740  protein targeting to lysosome involved in chap...   \n",
       "GO:0045056                                       transcytosis   \n",
       "GO:0141085  regulation of inflammasome-mediated signaling ...   \n",
       "GO:0036148         phosphatidylglycerol acyl-chain remodeling   \n",
       "GO:1901797  negative regulation of signal transduction by ...   \n",
       "\n",
       "            Genes adj p-value Genes overlap size  \\\n",
       "GO                                                 \n",
       "GO:0061740       3.064270e-10                  3   \n",
       "GO:0045056       3.498308e-67                 21   \n",
       "GO:0141085      1.084389e-109                 37   \n",
       "GO:0036148       1.246454e-30                  9   \n",
       "GO:1901797      1.627076e-101                 33   \n",
       "\n",
       "           50perc_contaminated_Genes enriched term id  \\\n",
       "GO                                                      \n",
       "GO:0061740                                 GO:1902847   \n",
       "GO:0045056                                 GO:0045056   \n",
       "GO:0141085                                 GO:0141085   \n",
       "GO:0036148                                 GO:0036148   \n",
       "GO:1901797                                 GO:1901797   \n",
       "\n",
       "           50perc_contaminated_Genes enriched term description  \\\n",
       "GO                                                               \n",
       "GO:0061740         regulation of neuronal signal transduction    \n",
       "GO:0045056                                       transcytosis    \n",
       "GO:0141085  regulation of inflammasome-mediated signaling ...    \n",
       "GO:0036148         phosphatidylglycerol acyl-chain remodeling    \n",
       "GO:1901797  negative regulation of signal transduction by ...    \n",
       "\n",
       "            50perc_contaminated_Genes adj p-value  \\\n",
       "GO                                                  \n",
       "GO:0061740                           2.574771e-02   \n",
       "GO:0045056                           5.724565e-23   \n",
       "GO:0141085                           3.625356e-35   \n",
       "GO:0036148                           1.981667e-09   \n",
       "GO:1901797                           7.630649e-35   \n",
       "\n",
       "           50perc_contaminated_Genes overlap size  \\\n",
       "GO                                                  \n",
       "GO:0061740                                      1   \n",
       "GO:0045056                                     10   \n",
       "GO:0141085                                     17   \n",
       "GO:0036148                                      4   \n",
       "GO:1901797                                     16   \n",
       "\n",
       "           100perc_contaminated_Genes enriched term id  \\\n",
       "GO                                                       \n",
       "GO:0061740                                  GO:1904790   \n",
       "GO:0045056                                        None   \n",
       "GO:0141085                                  GO:0035090   \n",
       "GO:0036148                                        None   \n",
       "GO:1901797                                        None   \n",
       "\n",
       "           100perc_contaminated_Genes enriched term description  \\\n",
       "GO                                                                \n",
       "GO:0061740           regulation of shelterin complex assembly     \n",
       "GO:0045056                                               None     \n",
       "GO:0141085          maintenance of apical/basal cell polarity     \n",
       "GO:0036148                                               None     \n",
       "GO:1901797                                               None     \n",
       "\n",
       "            100perc_contaminated_Genes adj p-value  \\\n",
       "GO                                                   \n",
       "GO:0061740                                0.003833   \n",
       "GO:0045056                                1.000000   \n",
       "GO:0141085                                0.000592   \n",
       "GO:0036148                                1.000000   \n",
       "GO:1901797                                1.000000   \n",
       "\n",
       "           100perc_contaminated_Genes overlap size  \n",
       "GO                                                  \n",
       "GO:0061740                                       1  \n",
       "GO:0045056                                    None  \n",
       "GO:0141085                                       3  \n",
       "GO:0036148                                    None  \n",
       "GO:1901797                                    None  "
      ]
     },
     "execution_count": 5,
     "metadata": {},
     "output_type": "execute_result"
    }
   ],
   "source": [
    "# Load your GO table and query gene sets\n",
    "\n",
    "query_sets = pd.read_csv('data/GO_term_analysis/100_selected_go_contaminated.csv', index_col=0)\n",
    "\n",
    "res_df = query_sets.copy()\n",
    "\n",
    "# Iterate over each gene column\n",
    "gene_cols = [col for col in query_sets.columns if col.endswith('Genes')]\n",
    "for gene_col in gene_cols:\n",
    "    print(gene_col)\n",
    "    res_df[f'{gene_col} enriched term id'] = None\n",
    "    res_df[f'{gene_col} enriched term description'] = None\n",
    "    res_df[f'{gene_col} adj p-value'] = 1\n",
    "    res_df[f'{gene_col} overlap size'] = None\n",
    "\n",
    "    for query_index, query_row in tqdm(query_sets.iterrows(), total=query_sets.shape[0]):\n",
    "            query_genes = query_row[gene_col].split()\n",
    "            r = requests.post(\n",
    "                url='https://biit.cs.ut.ee/gprofiler/api/gost/profile',\n",
    "                json={\n",
    "                    'organism': 'hsapiens',\n",
    "                    'query': query_genes,\n",
    "                    'sources': ['GO:BP'],\n",
    "                    'user_threshold': 0.05,\n",
    "                    'significance_threshold_method': 'fdr',\n",
    "                    'all_results': True  # I am doing my own filtering\n",
    "                }\n",
    "            )\n",
    "            if r.status_code == 200:\n",
    "                results = r.json().get('result', [])\n",
    "                if results:\n",
    "                    significant_results = [res for res in results if res['p_value'] <= 0.05]\n",
    "                    if significant_results:\n",
    "                        best_result = significant_results[0]  # Select the first significant result\n",
    "                        res_df.loc[query_index, f'{gene_col} enriched term id'] = best_result['native']\n",
    "                        res_df.loc[query_index, f'{gene_col} enriched term description'] = best_result['name']\n",
    "                        res_df.loc[query_index, f'{gene_col} adj p-value'] = best_result['p_value']\n",
    "                        res_df.loc[query_index, f'{gene_col} overlap size'] = best_result['intersection_size']\n",
    "                    else:\n",
    "                        print('No significant enriched term found for query index:', query_index)\n",
    "                else:\n",
    "                    print('No results found for query index:', query_index)\n",
    "            else:\n",
    "                print(f'Request failed for query index {query_index} with status code {r.status_code}')\n",
    "                continue\n",
    "# res_df.to_csv(f'data/GO_term_analysis/100_GO_terms_enricher_res.tsv', sep='\\t', index=True)\n",
    "res_df.head()"
   ]
  },
  {
   "cell_type": "code",
   "execution_count": 6,
   "metadata": {},
   "outputs": [
    {
     "name": "stdout",
     "output_type": "stream",
     "text": [
      "91 of the enriched term ids are equal to the queried GO id\n",
      "0 of the real GO term returns NO enriched term\n",
      "1 of the contaminated GO term returns NO enriched term\n",
      "73 of the random GO term returns NO enriched term\n"
     ]
    }
   ],
   "source": [
    "# check if the enriched term id equals to the index \n",
    "print(sum(res_df['Genes enriched term id'] == res_df.index), 'of the enriched term ids are equal to the queried GO id')\n",
    "# check number of Nones in the enriched term id column\n",
    "print(sum(res_df['Genes enriched term id'].isna()), 'of the real GO term returns NO enriched term')\n",
    "print(sum(res_df['50perc_contaminated_Genes enriched term id'].isna()), 'of the contaminated GO term returns NO enriched term')\n",
    "print(sum(res_df['100perc_contaminated_Genes enriched term id'].isna()), 'of the random GO term returns NO enriched term')"
   ]
  },
  {
   "cell_type": "code",
   "execution_count": 7,
   "metadata": {},
   "outputs": [
    {
     "name": "stdout",
     "output_type": "stream",
     "text": [
      "same set of genes\n",
      "same set of genes\n",
      "same set of genes\n",
      "enriched term GO:1904811 not in the go table!\n",
      "same set of genes\n",
      "same set of genes\n",
      "enriched term GO:1905276 not in the go table!\n",
      "different set of genes\n",
      "queried term GO:2000136   regulation of cell proliferation involved in heart morphogenesis\n",
      "enriched term GO:0061323   cell proliferation involved in heart morphogenesis\n",
      "queried genes GNG5 TBX5 ISL1 RBPJ CTNNB1 NOTCH1 SMAD4 EYA1 BMP10 SOX9 HES1 ENG MKS1 SIX1 TBX3 HAND2 PIM1 BMPR2\n",
      "enriched genes TGFBR2 NOTCH1 GNG5 BMPR2 ENG EYA1 CTNNB1 BMP10 ISL1 SIX1 TBX5 HES1 PIM1 SMAD4 RBPJ SOX9 MKS1 HAND2 TBX3\n",
      "-------------------\n",
      "same set of genes\n"
     ]
    }
   ],
   "source": [
    "def fill_duplicate_enrich(res_df, go_table_path = 'data/new_GO_BP/go_terms.csv'):\n",
    "    go_table = pd.read_csv(go_table_path, index_col=0)\n",
    "    go_table.set_index('GO', inplace=True)\n",
    "    \n",
    "    unmatched = res_df.loc[res_df['Genes enriched term id'] != res_df.index, :]\n",
    "    for i, row in unmatched.iterrows():\n",
    "        enriched_GO_id = row['Genes enriched term id']\n",
    "        query_genes = row['Genes'].split(' ')\n",
    "        if enriched_GO_id not in go_table.index.values:\n",
    "            print(f'enriched term {enriched_GO_id} not in the go table!')\n",
    "            continue\n",
    "        else:\n",
    "            enriched_genes = go_table.loc[enriched_GO_id, ['Genes']].values[0].split(' ')\n",
    "        if set(query_genes) == set(enriched_genes):\n",
    "            print('same set of genes')\n",
    "            res_df.loc[i, 'Genes enriched term id'] = i\n",
    "            res_df.loc[i, 'Genes enriched term description'] = go_table.loc[enriched_GO_id, 'Term_Description']\n",
    "            continue\n",
    "        else:\n",
    "            print('different set of genes')\n",
    "            print('queried term', i, ' ', row['Term_Description'])\n",
    "            print('enriched term', row['Genes enriched term id'], ' ', row['Genes enriched term description'])\n",
    "            print('queried genes', row['Genes'])\n",
    "            print('enriched genes', go_table.loc[enriched_GO_id, 'Genes'])\n",
    "            print('-------------------')\n",
    "            \n",
    "    return res_df\n",
    "\n",
    "new_res_df = fill_duplicate_enrich(res_df)"
   ]
  },
  {
   "cell_type": "code",
   "execution_count": 8,
   "metadata": {},
   "outputs": [
    {
     "name": "stdout",
     "output_type": "stream",
     "text": [
      "97 of the enriched term ids are equal to the queried GO id\n"
     ]
    }
   ],
   "source": [
    "print(sum(new_res_df['Genes enriched term id'] == new_res_df.index), 'of the enriched term ids are equal to the queried GO id')"
   ]
  },
  {
   "cell_type": "code",
   "execution_count": null,
   "metadata": {},
   "outputs": [],
   "source": [
    "new_res_df.to_csv(f'data/GO_term_analysis/100_GO_terms_gprofiler_res.tsv', sep='\\t', index=True)"
   ]
  },
  {
   "cell_type": "code",
   "execution_count": 9,
   "metadata": {},
   "outputs": [
    {
     "data": {
      "text/html": [
       "<div>\n",
       "<style scoped>\n",
       "    .dataframe tbody tr th:only-of-type {\n",
       "        vertical-align: middle;\n",
       "    }\n",
       "\n",
       "    .dataframe tbody tr th {\n",
       "        vertical-align: top;\n",
       "    }\n",
       "\n",
       "    .dataframe thead th {\n",
       "        text-align: right;\n",
       "    }\n",
       "</style>\n",
       "<table border=\"1\" class=\"dataframe\">\n",
       "  <thead>\n",
       "    <tr style=\"text-align: right;\">\n",
       "      <th></th>\n",
       "      <th>Gene set type</th>\n",
       "      <th>Unassigned GO terms</th>\n",
       "      <th>Assigned GO terms</th>\n",
       "    </tr>\n",
       "  </thead>\n",
       "  <tbody>\n",
       "    <tr>\n",
       "      <th>0</th>\n",
       "      <td>Genes</td>\n",
       "      <td>0</td>\n",
       "      <td>100</td>\n",
       "    </tr>\n",
       "    <tr>\n",
       "      <th>1</th>\n",
       "      <td>50perc_contaminated_Genes</td>\n",
       "      <td>1</td>\n",
       "      <td>99</td>\n",
       "    </tr>\n",
       "    <tr>\n",
       "      <th>2</th>\n",
       "      <td>100perc_contaminated_Genes</td>\n",
       "      <td>73</td>\n",
       "      <td>27</td>\n",
       "    </tr>\n",
       "  </tbody>\n",
       "</table>\n",
       "</div>"
      ],
      "text/plain": [
       "                Gene set type Unassigned GO terms Assigned GO terms\n",
       "0                       Genes                   0               100\n",
       "1   50perc_contaminated_Genes                   1                99\n",
       "2  100perc_contaminated_Genes                  73                27"
      ]
     },
     "execution_count": 9,
     "metadata": {},
     "output_type": "execute_result"
    }
   ],
   "source": [
    "## check the go term enrichment analysis result \n",
    "import pandas as pd\n",
    "enrichr_res = pd.read_csv('./data/GO_term_analysis/100_GO_terms_gprofiler_res.tsv', sep='\\t')\n",
    "genes_col = [col for col in enrichr_res.columns if col.endswith('Genes')]\n",
    "# create the count table\n",
    "\n",
    "p_cutoff = 0.05\n",
    "count_table = pd.DataFrame(columns=['Gene set type','Unassigned GO terms', 'Assigned GO terms'])\n",
    "\n",
    "for col in genes_col: \n",
    "    num_enriched = sum(enrichr_res[f'{col} adj p-value'] <= p_cutoff)\n",
    "    num_unassigned = sum(enrichr_res[f'{col} adj p-value'] > p_cutoff)\n",
    "    count_row = pd.DataFrame({'Gene set type': col, 'Unassigned GO terms': num_unassigned, 'Assigned GO terms': num_enriched}, index=[0])\n",
    "    count_table = pd.concat([count_table, count_row], ignore_index=True)\n",
    "\n",
    "count_table\n"
   ]
  },
  {
   "cell_type": "code",
   "execution_count": 10,
   "metadata": {},
   "outputs": [
    {
     "data": {
      "image/png": "[encoded data removed]",
      "text/plain": [
       "<Figure size 200x300 with 1 Axes>"
      ]
     },
     "metadata": {},
     "output_type": "display_data"
    }
   ],
   "source": [
    "import matplotlib.pyplot as plt\n",
    "import seaborn as sns\n",
    "\n",
    "# Defining the custom order for Score Types and Models\n",
    "score_type_order = ['Real', 'Contaminated', 'Random']\n",
    "\n",
    "color_palette = ['#A5AA99','#e39cc5','#af549e', '#6c2167']\n",
    "\n",
    "fig, ax = plt.subplots(figsize=(2,3))\n",
    "\n",
    "plt.rcParams['svg.fonttype'] = 'none'\n",
    "# Plotting the new stacked bar plot\n",
    "count_table.plot(kind='bar', stacked=True, ax=ax,  x='Gene set type',y=['Unassigned GO terms', 'Assigned GO terms'], color=['#A5AA99','#6c2167'], width=0.8, legend=False)\n",
    "ax.set_xticklabels(['Real', '50/50 Mix', 'Random'], rotation=45)\n",
    "ax.set_xlabel('g:Profiler\\nFunctional Enrichment')\n",
    "ax.set_ylabel('Number of GO gene sets')\n",
    "        \n",
    "plt.tight_layout()\n",
    "\n",
    "# update labels \n",
    "handles, labels = ax.get_legend_handles_labels()\n",
    "labels = ['Name Not Assigned', 'GO Term Assigned']\n",
    "\n",
    "fig.legend(handles, labels, title='Score Bin', loc='upper left', bbox_to_anchor=(0.9,1), fontsize=7)\n",
    "\n",
    "sns.despine(left=True)\n",
    "# Saving the figure\n",
    "# plt.savefig('figures/model_compare/functional_enrichment_gProfiler.svg', dpi=300, bbox_inches='tight')\n",
    "plt.show()\n"
   ]
  },
  {
   "cell_type": "code",
   "execution_count": null,
   "metadata": {},
   "outputs": [],
   "source": []
  },
  {
   "cell_type": "markdown",
   "metadata": {},
   "source": [
    "## ALTERNATIVE\n",
    "\n",
    "functional enrichment using Enrichr"
   ]
  },
  {
   "cell_type": "code",
   "execution_count": null,
   "metadata": {},
   "outputs": [],
   "source": [
    "go_file = pd.read_csv('data/go_terms.csv', index_col=0)\n",
    "go_file.head()"
   ]
  },
  {
   "cell_type": "code",
   "execution_count": 25,
   "metadata": {},
   "outputs": [],
   "source": [
    "# create my own GO library from the 11.15.2023 version of the GO database\n",
    "go_file = pd.read_csv('data/go_terms.csv', index_col=0)\n",
    "# go_file.head()\n",
    "# Transform the data to GMT format\n",
    "gmt_data = go_file.apply(lambda x: f\"{x['Term_Description']}({x['GO']})\\t\\t\" + \"\\t\".join(x['Genes'].split()), axis=1)\n",
    "\n",
    "# Create a string from the transformed data\n",
    "gmt_content = \"\\t\\n\".join(gmt_data)\n",
    "# Specify the path for the new GMT file\n",
    "gmt_file_path = 'data/GO_BP_20231115.gmt'\n",
    "\n",
    "# Write the data to a GMT file\n",
    "with open(gmt_file_path, 'w') as file:\n",
    "    file.write(gmt_content)\n",
    "\n",
    "\n"
   ]
  },
  {
   "cell_type": "code",
   "execution_count": null,
   "metadata": {},
   "outputs": [],
   "source": [
    "gmt_file_path = 'data/GO_BP_20231115.gmt'\n",
    "gmt_go = gp.read_gmt(gmt_file_path)\n",
    "gmt_go\n"
   ]
  },
  {
   "cell_type": "code",
   "execution_count": 107,
   "metadata": {},
   "outputs": [
    {
     "name": "stdout",
     "output_type": "stream",
     "text": [
      "['Genes', '50perc_contaminated_Genes', '100perc_contaminated_Genes']\n"
     ]
    }
   ],
   "source": [
    "df = pd.read_csv('data/GO_term_analysis/100_selected_go_contaminated.csv', index_col=0)\n",
    "\n",
    "gene_cols = [col for col in df.columns if col.endswith('Genes')]\n",
    "print(gene_cols)\n",
    "\n",
    "# print(df.shape)\n",
    "geneSeparator = ' '"
   ]
  },
  {
   "cell_type": "code",
   "execution_count": 108,
   "metadata": {},
   "outputs": [
    {
     "name": "stdout",
     "output_type": "stream",
     "text": [
      "Genes\n"
     ]
    },
    {
     "name": "stderr",
     "output_type": "stream",
     "text": [
      "100%|██████████| 100/100 [10:41<00:00,  6.41s/it]\n"
     ]
    },
    {
     "name": "stdout",
     "output_type": "stream",
     "text": [
      "50perc_contaminated_Genes\n"
     ]
    },
    {
     "name": "stderr",
     "output_type": "stream",
     "text": [
      "100%|██████████| 100/100 [10:20<00:00,  6.20s/it]\n"
     ]
    },
    {
     "name": "stdout",
     "output_type": "stream",
     "text": [
      "100perc_contaminated_Genes\n"
     ]
    },
    {
     "name": "stderr",
     "output_type": "stream",
     "text": [
      "100%|██████████| 100/100 [09:31<00:00,  5.72s/it]\n"
     ]
    }
   ],
   "source": [
    "import gseapy as gp\n",
    "enrich_res_df = df.copy()\n",
    "for col in gene_cols:\n",
    "    df[f'{col} enriched term id'] = None\n",
    "    df[f'{col} enriched term description'] = None\n",
    "    df[f'{col} adj p-value'] = 1\n",
    "    df[f'{col} overlap over enriched'] = 0\n",
    "    df[f'{col} overlaping genes'] = None\n",
    "    print(col)\n",
    "    for i, row in tqdm(df.iterrows(), total=df.shape[0]):\n",
    "        # print(i)\n",
    "        genes = row[col].split(geneSeparator)\n",
    "        # print(genes)\n",
    "        enr = gp.enrich(gene_list=genes,\n",
    "                        gene_sets='./data/GO_BP_20231115.gmt',\n",
    "                        outdir=None,\n",
    "                        verbose=False)\n",
    "        enr_res = enr.results\n",
    "        # print(enr_res)\n",
    "        enr_res = enr_res.sort_values(by='Adjusted P-value', ascending=True, ignore_index=True)\n",
    "        # print(enr_res)  \n",
    "        top_term = enr_res['Term'][0]\n",
    "        \n",
    "        term_description = top_term.split('(')[0]\n",
    "        term_id = top_term.split('(')[1].replace(')', '')\n",
    "        adj_pval = enr_res['Adjusted P-value'][0]\n",
    "        overlap = enr_res['Overlap'][0]\n",
    "        overlap_genes = ','.join(enr_res['Genes'][0].split(';'))\n",
    "            # print(term_description,term_id, adj_pval, overlap, overlap_genes)\n",
    "        enrich_res_df.loc[i, f'{col} enriched term id'] = term_id\n",
    "        enrich_res_df.loc[i, f'{col} enriched term description'] = term_description\n",
    "        enrich_res_df.loc[i, f'{col} adj p-value'] = adj_pval\n",
    "        enrich_res_df.loc[i, f'{col} overlap over enriched'] = overlap\n",
    "        enrich_res_df.loc[i, f'{col} overlaping genes'] = overlap_genes\n",
    "\n",
    "    enrich_res_df.to_csv(f'data/GO_term_analysis/100_GO_terms_enricher_res.tsv', sep='\\t', index=True)\n",
    "            "
   ]
  },
  {
   "cell_type": "code",
   "execution_count": 4,
   "metadata": {},
   "outputs": [
    {
     "name": "stdout",
     "output_type": "stream",
     "text": [
      "92 of the enriched term ids are equal to the queried GO id\n",
      "0 of the real GO term failed to return enriched term\n",
      "3 of the contaminated GO term failed to return enriched term\n",
      "85 of the random GO term failed to return enriched term\n"
     ]
    }
   ],
   "source": [
    "cutoff = 0.05\n",
    "# check if the enriched term id equals to the index \n",
    "print(sum(enrich_res_df['Genes enriched term id'] == enrich_res_df.index), 'of the enriched term ids are equal to the queried GO id')\n",
    "# check number of Nones in the enriched term id column\n",
    "print(sum(enrich_res_df['Genes adj p-value']>cutoff), 'of the real GO term failed to return enriched term')\n",
    "print(sum(enrich_res_df['50perc_contaminated_Genes adj p-value']>cutoff), 'of the contaminated GO term failed to return enriched term')\n",
    "print(sum(enrich_res_df['100perc_contaminated_Genes adj p-value']>cutoff), 'of the random GO term failed to return enriched term')"
   ]
  },
  {
   "cell_type": "code",
   "execution_count": 20,
   "metadata": {},
   "outputs": [
    {
     "name": "stdout",
     "output_type": "stream",
     "text": [
      "same set of genes\n",
      "same set of genes\n",
      "same set of genes\n",
      "same set of genes\n",
      "same set of genes\n",
      "same set of genes\n",
      "same set of genes\n",
      "same set of genes\n"
     ]
    }
   ],
   "source": [
    "# check for the 9 umatched GO terms, are htey the go terms with the same set of genes but different names\n",
    "def fill_duplicate_enrich(res_df, go_table_path = 'data/go_terms.csv'):\n",
    "    go_table = pd.read_csv(go_table_path, index_col=0)\n",
    "    go_table.set_index('GO', inplace=True)\n",
    "    \n",
    "    unmatched = res_df.loc[res_df['Genes enriched term id'] != res_df.index, :]\n",
    "    for i, row in unmatched.iterrows():\n",
    "        enriched_GO_id = row['Genes enriched term id']\n",
    "        query_genes = row['Genes'].split(' ')\n",
    "        if enriched_GO_id not in go_table.index.values:\n",
    "            print(f'enriched term {enriched_GO_id} not in the go table!')\n",
    "        \n",
    "        else:\n",
    "            enriched_genes = go_table.loc[enriched_GO_id, ['Genes']].values[0].split(' ')\n",
    "        if set(query_genes) == set(enriched_genes):\n",
    "            print('same set of genes')\n",
    "            res_df.loc[i, 'Genes enriched term id'] = i\n",
    "            res_df.loc[i, 'Genes enriched term description'] = go_table.loc[enriched_GO_id, 'Term_Description']\n",
    "            continue\n",
    "        else:\n",
    "            print('different set of genes')\n",
    "            print('queried term', i, ' ', row['Term_Description'])\n",
    "            print('enriched term', row['Genes enriched term id'], ' ', row['Genes enriched term description'])\n",
    "            print('queried genes', row['Genes'])\n",
    "            print('enriched genes', go_table.loc[enriched_GO_id, 'Genes'])\n",
    "            print('-------------------')\n",
    "            \n",
    "    return res_df\n",
    "\n",
    "enrich_res_df = pd.read_csv('data/GO_term_analysis/100_GO_terms_enricher_res.tsv', sep='\\t', index_col=0)\n",
    "enrich_res_df = fill_duplicate_enrich(enrich_res_df)"
   ]
  },
  {
   "cell_type": "code",
   "execution_count": 22,
   "metadata": {},
   "outputs": [
    {
     "name": "stdout",
     "output_type": "stream",
     "text": [
      "100 of the enriched term ids are equal to the queried GO id\n",
      "0 of the real GO term failed to return enriched term\n",
      "3 of the contaminated GO term failed to return enriched term\n",
      "85 of the random GO term failed to return enriched term\n"
     ]
    }
   ],
   "source": [
    "cutoff = 0.05\n",
    "# check if the enriched term id equals to the index \n",
    "print(sum(enrich_res_df['Genes enriched term id'] == enrich_res_df.index), 'of the enriched term ids are equal to the queried GO id')\n",
    "# check number of Nones in the enriched term id column\n",
    "print(sum(enrich_res_df['Genes adj p-value']>cutoff), 'of the real GO term failed to return enriched term')\n",
    "print(sum(enrich_res_df['50perc_contaminated_Genes adj p-value']>cutoff), 'of the contaminated GO term failed to return enriched term')\n",
    "print(sum(enrich_res_df['100perc_contaminated_Genes adj p-value']>cutoff), 'of the random GO term failed to return enriched term')\n",
    "\n",
    "enrich_res_df.to_csv(f'data/GO_term_analysis/100_GO_terms_enricher_res.tsv', sep='\\t', index=True)"
   ]
  },
  {
   "cell_type": "code",
   "execution_count": 36,
   "metadata": {},
   "outputs": [
    {
     "data": {
      "text/html": [
       "<div>\n",
       "<style scoped>\n",
       "    .dataframe tbody tr th:only-of-type {\n",
       "        vertical-align: middle;\n",
       "    }\n",
       "\n",
       "    .dataframe tbody tr th {\n",
       "        vertical-align: top;\n",
       "    }\n",
       "\n",
       "    .dataframe thead th {\n",
       "        text-align: right;\n",
       "    }\n",
       "</style>\n",
       "<table border=\"1\" class=\"dataframe\">\n",
       "  <thead>\n",
       "    <tr style=\"text-align: right;\">\n",
       "      <th></th>\n",
       "      <th>100perc_contaminated_Genes</th>\n",
       "      <th>100perc_contaminated_Genes enriched term id</th>\n",
       "      <th>100perc_contaminated_Genes enriched term description</th>\n",
       "      <th>100perc_contaminated_Genes adj p-value</th>\n",
       "      <th>100perc_contaminated_Genes overlap over enriched</th>\n",
       "      <th>100perc_contaminated_Genes overlaping genes</th>\n",
       "    </tr>\n",
       "    <tr>\n",
       "      <th>GO</th>\n",
       "      <th></th>\n",
       "      <th></th>\n",
       "      <th></th>\n",
       "      <th></th>\n",
       "      <th></th>\n",
       "      <th></th>\n",
       "    </tr>\n",
       "  </thead>\n",
       "  <tbody>\n",
       "    <tr>\n",
       "      <th>GO:0061740</th>\n",
       "      <td>VEZT TERF1 TTC3</td>\n",
       "      <td>GO:0032214</td>\n",
       "      <td>negative regulation of telomere maintenance vi...</td>\n",
       "      <td>0.013348</td>\n",
       "      <td>1/2</td>\n",
       "      <td>TERF1</td>\n",
       "    </tr>\n",
       "    <tr>\n",
       "      <th>GO:0141085</th>\n",
       "      <td>TBC1D24 NIPSNAP2 IL1RL2 EGF PSMG2 GCSAML LIN7A...</td>\n",
       "      <td>GO:0045199</td>\n",
       "      <td>maintenance of epithelial cell apical/basal po...</td>\n",
       "      <td>0.002576</td>\n",
       "      <td>3/11</td>\n",
       "      <td>LHX2,WDR1,LIN7A</td>\n",
       "    </tr>\n",
       "    <tr>\n",
       "      <th>GO:0008292</th>\n",
       "      <td>CDH11 SLC22A8 RHOBTB2</td>\n",
       "      <td>GO:0003189</td>\n",
       "      <td>aortic valve formation</td>\n",
       "      <td>0.046875</td>\n",
       "      <td>1/2</td>\n",
       "      <td>CDH11</td>\n",
       "    </tr>\n",
       "    <tr>\n",
       "      <th>GO:0048840</th>\n",
       "      <td>TSTD1 SCGN BORA MARVELD3 ERO1A STX5 TSPAN4 EDE...</td>\n",
       "      <td>GO:0035966</td>\n",
       "      <td>response to topologically incorrect protein</td>\n",
       "      <td>0.019772</td>\n",
       "      <td>3/157</td>\n",
       "      <td>ERO1A,EDEM1,DNAJB5</td>\n",
       "    </tr>\n",
       "    <tr>\n",
       "      <th>GO:0006105</th>\n",
       "      <td>AKAP12 LBR PPP3CB CHRNA10 SNAP23 ATP6V0D2 PCGF1</td>\n",
       "      <td>GO:0007268</td>\n",
       "      <td>chemical synaptic transmission</td>\n",
       "      <td>0.025191</td>\n",
       "      <td>4/739</td>\n",
       "      <td>PPP3CB,SNAP23,AKAP12,CHRNA10</td>\n",
       "    </tr>\n",
       "    <tr>\n",
       "      <th>GO:0000296</th>\n",
       "      <td>SPACA5 CAMSAP3 KNL1</td>\n",
       "      <td>GO:0010256</td>\n",
       "      <td>endomembrane system organization</td>\n",
       "      <td>0.012853</td>\n",
       "      <td>3/594</td>\n",
       "      <td>CAMSAP3,KNL1,SPACA5</td>\n",
       "    </tr>\n",
       "    <tr>\n",
       "      <th>GO:2000347</th>\n",
       "      <td>ATP6V1G1 ZNF821 OR8J3 COX16 NCF4 ATP6V0A2 H1-4...</td>\n",
       "      <td>GO:0036295</td>\n",
       "      <td>cellular response to increased oxygen levels</td>\n",
       "      <td>0.007050</td>\n",
       "      <td>2/12</td>\n",
       "      <td>ATP6V1G1,ATP6V0A2</td>\n",
       "    </tr>\n",
       "    <tr>\n",
       "      <th>GO:1903651</th>\n",
       "      <td>MRPS16 NDUFAF6 KARS1 CD300C SLC35F4</td>\n",
       "      <td>GO:0045575</td>\n",
       "      <td>basophil activation</td>\n",
       "      <td>0.046691</td>\n",
       "      <td>1/3</td>\n",
       "      <td>KARS1</td>\n",
       "    </tr>\n",
       "    <tr>\n",
       "      <th>GO:1902966</th>\n",
       "      <td>PLXNA3 PTH2R OR2S2 TRIM17 MTHFR RFTN2 BHMT2 CA...</td>\n",
       "      <td>GO:0006555</td>\n",
       "      <td>methionine metabolic process</td>\n",
       "      <td>0.002844</td>\n",
       "      <td>2/16</td>\n",
       "      <td>BHMT2,MTHFR</td>\n",
       "    </tr>\n",
       "    <tr>\n",
       "      <th>GO:0043377</th>\n",
       "      <td>SPSB1 DEFB135 MTIF3</td>\n",
       "      <td>GO:0070124</td>\n",
       "      <td>mitochondrial translational initiation</td>\n",
       "      <td>0.022909</td>\n",
       "      <td>1/2</td>\n",
       "      <td>MTIF3</td>\n",
       "    </tr>\n",
       "    <tr>\n",
       "      <th>GO:0070316</th>\n",
       "      <td>RP9 ZC3HC1 SEL1L OR2T8 ACAD9 SERINC5 HRH4 GUSB...</td>\n",
       "      <td>GO:0042558</td>\n",
       "      <td>pteridine-containing compound metabolic process</td>\n",
       "      <td>0.048325</td>\n",
       "      <td>3/32</td>\n",
       "      <td>SPR,FTCD,PRKG2</td>\n",
       "    </tr>\n",
       "    <tr>\n",
       "      <th>GO:0010899</th>\n",
       "      <td>VPS52 CAPZA1 ALDH9A1</td>\n",
       "      <td>GO:0010668</td>\n",
       "      <td>ectodermal cell differentiation</td>\n",
       "      <td>0.035412</td>\n",
       "      <td>1/6</td>\n",
       "      <td>VPS52</td>\n",
       "    </tr>\n",
       "    <tr>\n",
       "      <th>GO:0014043</th>\n",
       "      <td>SELENOP SNAI2 TRAPPC11</td>\n",
       "      <td>GO:0048208</td>\n",
       "      <td>COPII vesicle coating</td>\n",
       "      <td>0.042321</td>\n",
       "      <td>1/25</td>\n",
       "      <td>TRAPPC11</td>\n",
       "    </tr>\n",
       "    <tr>\n",
       "      <th>GO:0086091</th>\n",
       "      <td>GTF2A1L CCT3 C7 MT1E SP4 SEC23IP CNTNAP3B NUMB...</td>\n",
       "      <td>GO:1904816</td>\n",
       "      <td>positive regulation of protein localization to...</td>\n",
       "      <td>0.044724</td>\n",
       "      <td>2/12</td>\n",
       "      <td>CCT3,CCT8</td>\n",
       "    </tr>\n",
       "    <tr>\n",
       "      <th>GO:2000556</th>\n",
       "      <td>PTH2 MGAT4C POM121 KRTAP4-9 DEFA1 SRPRA U2AF1 F2</td>\n",
       "      <td>GO:0051873</td>\n",
       "      <td>killing by host of symbiont cells</td>\n",
       "      <td>0.033254</td>\n",
       "      <td>2/28</td>\n",
       "      <td>F2,DEFA1</td>\n",
       "    </tr>\n",
       "  </tbody>\n",
       "</table>\n",
       "</div>"
      ],
      "text/plain": [
       "                                   100perc_contaminated_Genes  \\\n",
       "GO                                                              \n",
       "GO:0061740                                    VEZT TERF1 TTC3   \n",
       "GO:0141085  TBC1D24 NIPSNAP2 IL1RL2 EGF PSMG2 GCSAML LIN7A...   \n",
       "GO:0008292                              CDH11 SLC22A8 RHOBTB2   \n",
       "GO:0048840  TSTD1 SCGN BORA MARVELD3 ERO1A STX5 TSPAN4 EDE...   \n",
       "GO:0006105    AKAP12 LBR PPP3CB CHRNA10 SNAP23 ATP6V0D2 PCGF1   \n",
       "GO:0000296                                SPACA5 CAMSAP3 KNL1   \n",
       "GO:2000347  ATP6V1G1 ZNF821 OR8J3 COX16 NCF4 ATP6V0A2 H1-4...   \n",
       "GO:1903651                MRPS16 NDUFAF6 KARS1 CD300C SLC35F4   \n",
       "GO:1902966  PLXNA3 PTH2R OR2S2 TRIM17 MTHFR RFTN2 BHMT2 CA...   \n",
       "GO:0043377                                SPSB1 DEFB135 MTIF3   \n",
       "GO:0070316  RP9 ZC3HC1 SEL1L OR2T8 ACAD9 SERINC5 HRH4 GUSB...   \n",
       "GO:0010899                               VPS52 CAPZA1 ALDH9A1   \n",
       "GO:0014043                             SELENOP SNAI2 TRAPPC11   \n",
       "GO:0086091  GTF2A1L CCT3 C7 MT1E SP4 SEC23IP CNTNAP3B NUMB...   \n",
       "GO:2000556   PTH2 MGAT4C POM121 KRTAP4-9 DEFA1 SRPRA U2AF1 F2   \n",
       "\n",
       "           100perc_contaminated_Genes enriched term id  \\\n",
       "GO                                                       \n",
       "GO:0061740                                  GO:0032214   \n",
       "GO:0141085                                  GO:0045199   \n",
       "GO:0008292                                  GO:0003189   \n",
       "GO:0048840                                  GO:0035966   \n",
       "GO:0006105                                  GO:0007268   \n",
       "GO:0000296                                  GO:0010256   \n",
       "GO:2000347                                  GO:0036295   \n",
       "GO:1903651                                  GO:0045575   \n",
       "GO:1902966                                  GO:0006555   \n",
       "GO:0043377                                  GO:0070124   \n",
       "GO:0070316                                  GO:0042558   \n",
       "GO:0010899                                  GO:0010668   \n",
       "GO:0014043                                  GO:0048208   \n",
       "GO:0086091                                  GO:1904816   \n",
       "GO:2000556                                  GO:0051873   \n",
       "\n",
       "           100perc_contaminated_Genes enriched term description  \\\n",
       "GO                                                                \n",
       "GO:0061740  negative regulation of telomere maintenance vi...     \n",
       "GO:0141085  maintenance of epithelial cell apical/basal po...     \n",
       "GO:0008292                             aortic valve formation     \n",
       "GO:0048840        response to topologically incorrect protein     \n",
       "GO:0006105                     chemical synaptic transmission     \n",
       "GO:0000296                   endomembrane system organization     \n",
       "GO:2000347       cellular response to increased oxygen levels     \n",
       "GO:1903651                                basophil activation     \n",
       "GO:1902966                       methionine metabolic process     \n",
       "GO:0043377             mitochondrial translational initiation     \n",
       "GO:0070316    pteridine-containing compound metabolic process     \n",
       "GO:0010899                    ectodermal cell differentiation     \n",
       "GO:0014043                              COPII vesicle coating     \n",
       "GO:0086091  positive regulation of protein localization to...     \n",
       "GO:2000556                  killing by host of symbiont cells     \n",
       "\n",
       "            100perc_contaminated_Genes adj p-value  \\\n",
       "GO                                                   \n",
       "GO:0061740                                0.013348   \n",
       "GO:0141085                                0.002576   \n",
       "GO:0008292                                0.046875   \n",
       "GO:0048840                                0.019772   \n",
       "GO:0006105                                0.025191   \n",
       "GO:0000296                                0.012853   \n",
       "GO:2000347                                0.007050   \n",
       "GO:1903651                                0.046691   \n",
       "GO:1902966                                0.002844   \n",
       "GO:0043377                                0.022909   \n",
       "GO:0070316                                0.048325   \n",
       "GO:0010899                                0.035412   \n",
       "GO:0014043                                0.042321   \n",
       "GO:0086091                                0.044724   \n",
       "GO:2000556                                0.033254   \n",
       "\n",
       "           100perc_contaminated_Genes overlap over enriched  \\\n",
       "GO                                                            \n",
       "GO:0061740                                              1/2   \n",
       "GO:0141085                                             3/11   \n",
       "GO:0008292                                              1/2   \n",
       "GO:0048840                                            3/157   \n",
       "GO:0006105                                            4/739   \n",
       "GO:0000296                                            3/594   \n",
       "GO:2000347                                             2/12   \n",
       "GO:1903651                                              1/3   \n",
       "GO:1902966                                             2/16   \n",
       "GO:0043377                                              1/2   \n",
       "GO:0070316                                             3/32   \n",
       "GO:0010899                                              1/6   \n",
       "GO:0014043                                             1/25   \n",
       "GO:0086091                                             2/12   \n",
       "GO:2000556                                             2/28   \n",
       "\n",
       "           100perc_contaminated_Genes overlaping genes  \n",
       "GO                                                      \n",
       "GO:0061740                                       TERF1  \n",
       "GO:0141085                             LHX2,WDR1,LIN7A  \n",
       "GO:0008292                                       CDH11  \n",
       "GO:0048840                          ERO1A,EDEM1,DNAJB5  \n",
       "GO:0006105                PPP3CB,SNAP23,AKAP12,CHRNA10  \n",
       "GO:0000296                         CAMSAP3,KNL1,SPACA5  \n",
       "GO:2000347                           ATP6V1G1,ATP6V0A2  \n",
       "GO:1903651                                       KARS1  \n",
       "GO:1902966                                 BHMT2,MTHFR  \n",
       "GO:0043377                                       MTIF3  \n",
       "GO:0070316                              SPR,FTCD,PRKG2  \n",
       "GO:0010899                                       VPS52  \n",
       "GO:0014043                                    TRAPPC11  \n",
       "GO:0086091                                   CCT3,CCT8  \n",
       "GO:2000556                                    F2,DEFA1  "
      ]
     },
     "execution_count": 36,
     "metadata": {},
     "output_type": "execute_result"
    }
   ],
   "source": [
    "cutoff = 0.05\n",
    "col_keep = [col for col in enrich_res_df.columns if '100perc_contaminated' in col]\n",
    "false_pos_enrichr = enrich_res_df.loc[enrich_res_df['100perc_contaminated_Genes adj p-value']<cutoff, col_keep ]\n",
    "false_pos_idx = false_pos_enrichr.index.values\n",
    "false_pos_enrichr"
   ]
  },
  {
   "cell_type": "code",
   "execution_count": null,
   "metadata": {},
   "outputs": [],
   "source": []
  }
 ],
 "metadata": {
  "kernelspec": {
   "display_name": "llm_eval",
   "language": "python",
   "name": "python3"
  },
  "language_info": {
   "codemirror_mode": {
    "name": "ipython",
    "version": 3
   },
   "file_extension": ".py",
   "mimetype": "text/x-python",
   "name": "python",
   "nbconvert_exporter": "python",
   "pygments_lexer": "ipython3",
   "version": "3.11.5"
  }
 },
 "nbformat": 4,
 "nbformat_minor": 2
}

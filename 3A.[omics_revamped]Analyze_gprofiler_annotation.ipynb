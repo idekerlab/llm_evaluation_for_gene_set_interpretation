{
 "cells": [
  {
   "cell_type": "markdown",
   "metadata": {},
   "source": [
    "## g:profiler enrichment analysis evaluation \n",
    "\n",
    "updated the gene name. \n",
    "    \n",
    "1. pick the smallest p val\n",
    "    * pick the smallest p , then add JI requirement\n",
    "    \n"
   ]
  },
  {
   "cell_type": "code",
   "execution_count": 10,
   "metadata": {},
   "outputs": [],
   "source": [
    "LLM_score_thresh = 0.01 # only drop the ones LLM does not assign a name \n",
    "adj_pval_thresh = 0.05\n",
    "JI_thresh = 0.05"
   ]
  },
  {
   "cell_type": "code",
   "execution_count": 11,
   "metadata": {},
   "outputs": [
    {
     "name": "stdout",
     "output_type": "stream",
     "text": [
      "The autoreload extension is already loaded. To reload it, use:\n",
      "  %reload_ext autoreload\n"
     ]
    }
   ],
   "source": [
    "import pandas as pd\n",
    "import matplotlib.pyplot as plt\n",
    "import seaborn as sns\n",
    "plt.rcParams['svg.fonttype'] = 'none'\n",
    "plt.rcParams.update({'font.size': 7, 'font.family': 'sans-serif'})\n",
    "plt.rcParams['xtick.labelsize'] = 7\n",
    "plt.rcParams['ytick.labelsize'] = 7\n",
    "plt.rcParams['axes.labelsize'] = 7\n",
    "plt.rcParams['axes.titlesize'] = 7\n",
    "\n",
    "from utils.analyze_enrichment_utils import *\n",
    "%load_ext autoreload\n",
    "%autoreload 2"
   ]
  },
  {
   "cell_type": "markdown",
   "metadata": {},
   "source": [
    "### Data files from other analyses:\n",
    " - inputfile: LLM analyzed + gProfiler enrichment analysis on updated gene symbols\n",
    " - LLM coverage analysis - used GPT-4 to review the analysis text to determine which genes met the criteria that they are \"definite\" supports, not conjecture.\n",
    " - Best matching GO terms to LLM names, used to estimate how many genes match the name, enabling the computation of a JI"
   ]
  },
  {
   "cell_type": "code",
   "execution_count": 12,
   "metadata": {},
   "outputs": [
    {
     "data": {
      "text/html": [
       "<div>\n",
       "<style scoped>\n",
       "    .dataframe tbody tr th:only-of-type {\n",
       "        vertical-align: middle;\n",
       "    }\n",
       "\n",
       "    .dataframe tbody tr th {\n",
       "        vertical-align: top;\n",
       "    }\n",
       "\n",
       "    .dataframe thead th {\n",
       "        text-align: right;\n",
       "    }\n",
       "</style>\n",
       "<table border=\"1\" class=\"dataframe\">\n",
       "  <thead>\n",
       "    <tr style=\"text-align: right;\">\n",
       "      <th></th>\n",
       "      <th>Source</th>\n",
       "      <th>GeneSetID</th>\n",
       "      <th>GeneSetName</th>\n",
       "      <th>GeneList</th>\n",
       "      <th>updated GeneList</th>\n",
       "      <th>n_Genes</th>\n",
       "      <th>LLM Name</th>\n",
       "      <th>LLM Analysis</th>\n",
       "      <th>Score</th>\n",
       "      <th>Term</th>\n",
       "      <th>GO ID</th>\n",
       "      <th>Adjusted P-value</th>\n",
       "      <th>intersection_size</th>\n",
       "      <th>term_size</th>\n",
       "      <th>query_size</th>\n",
       "      <th>intersections</th>\n",
       "      <th>gprofiler_JI</th>\n",
       "      <th>gprofiler_coverage</th>\n",
       "    </tr>\n",
       "  </thead>\n",
       "  <tbody>\n",
       "    <tr>\n",
       "      <th>0</th>\n",
       "      <td>NeST</td>\n",
       "      <td>Cluster1-10</td>\n",
       "      <td>Cluster1-10</td>\n",
       "      <td>CTRL HSD17B14 KIAA0232 PAQR8 PLA2G1B RNF145 SG...</td>\n",
       "      <td>CTRL HSD17B14 KIAA0232 PAQR8 PLA2G1B RNF145 SG...</td>\n",
       "      <td>12</td>\n",
       "      <td>Lipid Metabolism and Membrane Dynamics</td>\n",
       "      <td>1. CTRL, or carboxyl-terminal esterase/lipase,...</td>\n",
       "      <td>0.85</td>\n",
       "      <td>L-leucine import across plasma membrane</td>\n",
       "      <td>GO:1903801</td>\n",
       "      <td>0.080467</td>\n",
       "      <td>1</td>\n",
       "      <td>5</td>\n",
       "      <td>10</td>\n",
       "      <td>SLC7A8</td>\n",
       "      <td>0.071429</td>\n",
       "      <td>0.1</td>\n",
       "    </tr>\n",
       "  </tbody>\n",
       "</table>\n",
       "</div>"
      ],
      "text/plain": [
       "  Source    GeneSetID  GeneSetName  \\\n",
       "0   NeST  Cluster1-10  Cluster1-10   \n",
       "\n",
       "                                            GeneList  \\\n",
       "0  CTRL HSD17B14 KIAA0232 PAQR8 PLA2G1B RNF145 SG...   \n",
       "\n",
       "                                    updated GeneList  n_Genes  \\\n",
       "0  CTRL HSD17B14 KIAA0232 PAQR8 PLA2G1B RNF145 SG...       12   \n",
       "\n",
       "                                 LLM Name  \\\n",
       "0  Lipid Metabolism and Membrane Dynamics   \n",
       "\n",
       "                                        LLM Analysis  Score  \\\n",
       "0  1. CTRL, or carboxyl-terminal esterase/lipase,...   0.85   \n",
       "\n",
       "                                      Term       GO ID  Adjusted P-value  \\\n",
       "0  L-leucine import across plasma membrane  GO:1903801          0.080467   \n",
       "\n",
       "   intersection_size  term_size  query_size intersections  gprofiler_JI  \\\n",
       "0                  1          5          10        SLC7A8      0.071429   \n",
       "\n",
       "   gprofiler_coverage  \n",
       "0                 0.1  "
      ]
     },
     "execution_count": 12,
     "metadata": {},
     "output_type": "execute_result"
    }
   ],
   "source": [
    "\n",
    "import pandas as pd\n",
    "from utils.analyze_enrichment_utils import cal_JI_coverage\n",
    "\n",
    "group_col = [\"Source\", \"GeneSetID\", \"GeneSetName\", \"GeneList\"] # group by these columns in future steps\n",
    "\n",
    "## input file: LLM analyzed + gProfiler enrichment\n",
    "updated_name_llm_file = 'data/omics_revamped_LLM_gprofiler_new_gene_name_DF.tsv'\n",
    "\n",
    "# Read the TSV file into a Pandas DataFrame\n",
    "LLM_genes_DF = pd.read_csv(updated_name_llm_file, delimiter=\"\\t\")\n",
    "# make sure intersection_size, term_size, query_size are integers\n",
    "LLM_genes_DF['intersection_size'] = LLM_genes_DF['intersection_size'].apply(lambda x: int(x))\n",
    "LLM_genes_DF['term_size'] = LLM_genes_DF['term_size'].apply(lambda x: int(x))\n",
    "LLM_genes_DF['query_size'] = LLM_genes_DF['query_size'].apply(lambda x: int(x))\n",
    "#LLM_genes_DF.shape\n",
    "LLM_genes_DF = cal_JI_coverage(LLM_genes_DF)\n",
    "LLM_genes_DF.head(1)"
   ]
  },
  {
   "cell_type": "code",
   "execution_count": 13,
   "metadata": {},
   "outputs": [],
   "source": [
    "## load the LLM coverage data as a common df to merge\n",
    "llm_coverage_df = pd.read_csv(\"data/omics_revamped_LLM_genecounts_DF.tsv\", sep=\"\\t\")\n",
    "\n",
    "llm_JI_file = 'data/omics_revamped_LLM_w_best_matching_GO_terms_for_JI.tsv'\n",
    "llm_ji_df = pd.read_csv(llm_JI_file, sep=\"\\t\")"
   ]
  },
  {
   "cell_type": "code",
   "execution_count": 14,
   "metadata": {},
   "outputs": [
    {
     "name": "stdout",
     "output_type": "stream",
     "text": [
      "(53452, 23)\n",
      "(53452, 28)\n",
      "Index(['Source', 'GeneSetID', 'GeneSetName', 'GeneList', 'updated GeneList',\n",
      "       'n_Genes', 'LLM Name', 'LLM Analysis', 'Score', 'Term', 'GO ID',\n",
      "       'Adjusted P-value', 'intersection_size', 'term_size', 'query_size',\n",
      "       'intersections', 'gprofiler_JI', 'gprofiler_coverage',\n",
      "       'Supporting Genes', 'Supporting Count', 'LLM Support Analysis',\n",
      "       'GenesMentionedInText', 'LLM_coverage', 'LLM_best_matching_GO',\n",
      "       'best_matching_GO_ID', 'best_matching_GO_term_genes',\n",
      "       'best_matching_GO_term_size', 'LLM_JI'],\n",
      "      dtype='object')\n"
     ]
    }
   ],
   "source": [
    "# merge with the LLM coverage data\n",
    "merged_genes_DF = pd.merge(LLM_genes_DF, llm_coverage_df, on=['Source','GeneSetID','GeneSetName', 'GeneList', 'n_Genes'], how='left')\n",
    "print(merged_genes_DF.shape)\n",
    "# print(merged_genes_DF.columns)\n",
    "\n",
    "\n",
    "# merge with the LLM JI data\n",
    "\n",
    "merged_genes_DF = pd.merge(merged_genes_DF, llm_ji_df, on=['Source','GeneSetID','GeneList','n_Genes', 'LLM Name','Supporting Count'], how='left')\n",
    "print(merged_genes_DF.shape)\n",
    "print(merged_genes_DF.columns)"
   ]
  },
  {
   "cell_type": "markdown",
   "metadata": {},
   "source": [
    "# Pick Best APV\n",
    "\n",
    " - Select the best GO by the smallest p-value\n",
    " - Filter by p-value. \n",
    "\n",
    "If we later apply a coverage threshold to generate this curve, the curve will not change if the threshold is changed because the enriched term is not picked based on the coverage threshold"
   ]
  },
  {
   "cell_type": "code",
   "execution_count": 15,
   "metadata": {},
   "outputs": [
    {
     "name": "stdout",
     "output_type": "stream",
     "text": [
      "LLM_success_TF        True  False  Total\n",
      "gprofiler_success_TF                    \n",
      "True                   124    105    229\n",
      "False                   11     60     71\n",
      "Total                  135    165    300\n"
     ]
    },
    {
     "data": {
      "text/html": [
       "<div>\n",
       "<style scoped>\n",
       "    .dataframe tbody tr th:only-of-type {\n",
       "        vertical-align: middle;\n",
       "    }\n",
       "\n",
       "    .dataframe tbody tr th {\n",
       "        vertical-align: top;\n",
       "    }\n",
       "\n",
       "    .dataframe thead th {\n",
       "        text-align: right;\n",
       "    }\n",
       "</style>\n",
       "<table border=\"1\" class=\"dataframe\">\n",
       "  <thead>\n",
       "    <tr style=\"text-align: right;\">\n",
       "      <th></th>\n",
       "      <th>n_Genes</th>\n",
       "      <th>GeneList</th>\n",
       "      <th>LLM Name</th>\n",
       "      <th>Score</th>\n",
       "      <th>Term</th>\n",
       "      <th>GO ID</th>\n",
       "      <th>Adjusted P-value</th>\n",
       "      <th>intersection_size</th>\n",
       "      <th>term_size</th>\n",
       "      <th>intersections</th>\n",
       "      <th>gprofiler_coverage</th>\n",
       "      <th>LLM_coverage</th>\n",
       "      <th>gprofiler_JI</th>\n",
       "      <th>LLM_success_TF</th>\n",
       "      <th>gprofiler_success_TF</th>\n",
       "    </tr>\n",
       "  </thead>\n",
       "  <tbody>\n",
       "    <tr>\n",
       "      <th>0</th>\n",
       "      <td>24</td>\n",
       "      <td>CITED2 COL5A1 CRABP2 KCTD12 MDFIC MMP2 NRP1 OR...</td>\n",
       "      <td>Cellular Matrix Remodeling and Tissue Development</td>\n",
       "      <td>0.85</td>\n",
       "      <td>collagen metabolic process</td>\n",
       "      <td>GO:0032963</td>\n",
       "      <td>0.005761</td>\n",
       "      <td>4</td>\n",
       "      <td>101</td>\n",
       "      <td>COL5A1,MMP2,VIM,CST3</td>\n",
       "      <td>0.181818</td>\n",
       "      <td>0.21</td>\n",
       "      <td>0.033613</td>\n",
       "      <td>True</td>\n",
       "      <td>True</td>\n",
       "    </tr>\n",
       "    <tr>\n",
       "      <th>1</th>\n",
       "      <td>47</td>\n",
       "      <td>1060P11.3 ADM AHR AMIGO2 ARL4C ATP10D CAV2 CD4...</td>\n",
       "      <td>Cellular Adhesion and Extracellular Matrix Int...</td>\n",
       "      <td>0.85</td>\n",
       "      <td>inflammatory response</td>\n",
       "      <td>GO:0006954</td>\n",
       "      <td>0.001123</td>\n",
       "      <td>11</td>\n",
       "      <td>829</td>\n",
       "      <td>1060P11.3,ADM,CAV2,CDC42EP3,EMP1,LPAR6,TRIB2,A...</td>\n",
       "      <td>0.250000</td>\n",
       "      <td>0.13</td>\n",
       "      <td>0.012761</td>\n",
       "      <td>True</td>\n",
       "      <td>True</td>\n",
       "    </tr>\n",
       "    <tr>\n",
       "      <th>2</th>\n",
       "      <td>59</td>\n",
       "      <td>ABAT ASS1 CHI3L1 CHST2 CLDN3 EIF5B FRZB GAL HE...</td>\n",
       "      <td>System of unrelated proteins</td>\n",
       "      <td>0.00</td>\n",
       "      <td>actomyosin structure organization</td>\n",
       "      <td>GO:0031032</td>\n",
       "      <td>0.005933</td>\n",
       "      <td>6</td>\n",
       "      <td>204</td>\n",
       "      <td>AKR1B1,CAPN3,DKK1,MARCKS,MTUS1,OPN3</td>\n",
       "      <td>0.113208</td>\n",
       "      <td>NaN</td>\n",
       "      <td>0.023904</td>\n",
       "      <td>False</td>\n",
       "      <td>True</td>\n",
       "    </tr>\n",
       "    <tr>\n",
       "      <th>3</th>\n",
       "      <td>9</td>\n",
       "      <td>AMIGO2 AREG GAS6 GPR37 IFT57 PELI1 SQLE AKAP12...</td>\n",
       "      <td>System of unrelated proteins</td>\n",
       "      <td>0.00</td>\n",
       "      <td>regulation of oligodendrocyte apoptotic process</td>\n",
       "      <td>GO:1900141</td>\n",
       "      <td>0.000143</td>\n",
       "      <td>2</td>\n",
       "      <td>2</td>\n",
       "      <td>GAS6,AKAP12</td>\n",
       "      <td>0.222222</td>\n",
       "      <td>NaN</td>\n",
       "      <td>0.222222</td>\n",
       "      <td>False</td>\n",
       "      <td>True</td>\n",
       "    </tr>\n",
       "    <tr>\n",
       "      <th>4</th>\n",
       "      <td>15</td>\n",
       "      <td>1060P11.3 CPE EFNB2 HIST1H2AC IL1R2 INHBB LYPD...</td>\n",
       "      <td>System of unrelated proteins</td>\n",
       "      <td>0.00</td>\n",
       "      <td>cellular response to interleukin-1</td>\n",
       "      <td>GO:0071347</td>\n",
       "      <td>0.000712</td>\n",
       "      <td>4</td>\n",
       "      <td>106</td>\n",
       "      <td>H2AC6,IL1R2,NUP93,SOX9</td>\n",
       "      <td>0.285714</td>\n",
       "      <td>NaN</td>\n",
       "      <td>0.034483</td>\n",
       "      <td>False</td>\n",
       "      <td>True</td>\n",
       "    </tr>\n",
       "  </tbody>\n",
       "</table>\n",
       "</div>"
      ],
      "text/plain": [
       "   n_Genes                                           GeneList  \\\n",
       "0       24  CITED2 COL5A1 CRABP2 KCTD12 MDFIC MMP2 NRP1 OR...   \n",
       "1       47  1060P11.3 ADM AHR AMIGO2 ARL4C ATP10D CAV2 CD4...   \n",
       "2       59  ABAT ASS1 CHI3L1 CHST2 CLDN3 EIF5B FRZB GAL HE...   \n",
       "3        9  AMIGO2 AREG GAS6 GPR37 IFT57 PELI1 SQLE AKAP12...   \n",
       "4       15  1060P11.3 CPE EFNB2 HIST1H2AC IL1R2 INHBB LYPD...   \n",
       "\n",
       "                                            LLM Name  Score  \\\n",
       "0  Cellular Matrix Remodeling and Tissue Development   0.85   \n",
       "1  Cellular Adhesion and Extracellular Matrix Int...   0.85   \n",
       "2                       System of unrelated proteins   0.00   \n",
       "3                       System of unrelated proteins   0.00   \n",
       "4                       System of unrelated proteins   0.00   \n",
       "\n",
       "                                              Term       GO ID  \\\n",
       "0                       collagen metabolic process  GO:0032963   \n",
       "1                            inflammatory response  GO:0006954   \n",
       "2                actomyosin structure organization  GO:0031032   \n",
       "3  regulation of oligodendrocyte apoptotic process  GO:1900141   \n",
       "4               cellular response to interleukin-1  GO:0071347   \n",
       "\n",
       "   Adjusted P-value  intersection_size  term_size  \\\n",
       "0          0.005761                  4        101   \n",
       "1          0.001123                 11        829   \n",
       "2          0.005933                  6        204   \n",
       "3          0.000143                  2          2   \n",
       "4          0.000712                  4        106   \n",
       "\n",
       "                                       intersections  gprofiler_coverage  \\\n",
       "0                               COL5A1,MMP2,VIM,CST3            0.181818   \n",
       "1  1060P11.3,ADM,CAV2,CDC42EP3,EMP1,LPAR6,TRIB2,A...            0.250000   \n",
       "2                AKR1B1,CAPN3,DKK1,MARCKS,MTUS1,OPN3            0.113208   \n",
       "3                                        GAS6,AKAP12            0.222222   \n",
       "4                             H2AC6,IL1R2,NUP93,SOX9            0.285714   \n",
       "\n",
       "   LLM_coverage  gprofiler_JI  LLM_success_TF  gprofiler_success_TF  \n",
       "0          0.21      0.033613            True                  True  \n",
       "1          0.13      0.012761            True                  True  \n",
       "2           NaN      0.023904           False                  True  \n",
       "3           NaN      0.222222           False                  True  \n",
       "4           NaN      0.034483           False                  True  "
      ]
     },
     "execution_count": 15,
     "metadata": {},
     "output_type": "execute_result"
    }
   ],
   "source": [
    "from utils.analyze_enrichment_utils import get_min_adj_p_value\n",
    "%reload_ext autoreload\n",
    "%autoreload 2\n",
    "\n",
    "coverage_thresh = 0.2\n",
    "\n",
    "# Grouping the DataFrame by the specified columns\n",
    "grouped = merged_genes_DF.groupby(group_col)\n",
    "\n",
    "# Apply the function to each group and reset the index\n",
    "reduced_LLM_genes_APV_only_DF = grouped.apply(lambda x: get_min_adj_p_value(x, sortCol='gprofiler_JI')).reset_index(drop=True)\n",
    "\n",
    "# Add the 'LLM_success_TF' and 'gprofiler_success_TF' columns\n",
    "reduced_LLM_genes_APV_only_DF['LLM_success_TF'] = ((reduced_LLM_genes_APV_only_DF['Score'] >= LLM_score_thresh))\n",
    "reduced_LLM_genes_APV_only_DF['gprofiler_success_TF'] = ~((reduced_LLM_genes_APV_only_DF['Adjusted P-value'] > adj_pval_thresh)) # enrichment criteria\n",
    "\n",
    "print(create_success_contingency_table(reduced_LLM_genes_APV_only_DF))\n",
    "\n",
    "result_df = select_rows_and_columns(reduced_LLM_genes_APV_only_DF, 5)\n",
    "result_df\n"
   ]
  },
  {
   "cell_type": "code",
   "execution_count": 7,
   "metadata": {},
   "outputs": [],
   "source": [
    "# save the DataFrame to a TSV file\n",
    "reduced_LLM_genes_APV_only_DF.to_csv(\"data/omics_revamped_LLM_gprofiler_new_gene_name_DF_APV_only.tsv\", sep=\"\\t\", index=False)"
   ]
  },
  {
   "cell_type": "code",
   "execution_count": 16,
   "metadata": {},
   "outputs": [
    {
     "name": "stdout",
     "output_type": "stream",
     "text": [
      "coverage threshold: 0.0, enrichment: 229.0, LLM: 135.0\n",
      "coverage threshold: 0.05, enrichment: 84.0, LLM: 62.0\n",
      "coverage threshold: 0.1, enrichment: 33.0, LLM: 42.0\n",
      "coverage threshold: 0.2, enrichment: 4.0, LLM: 21.0\n"
     ]
    },
    {
     "name": "stderr",
     "output_type": "stream",
     "text": [
      "/cellar/users/mhu/Projects/llm_evaluation_for_gene_set_interpretation/utils/analyze_enrichment_utils.py:190: UserWarning: Attempt to set non-positive ylim on a log-scaled axis will be ignored.\n",
      "  plt.ylim(-8, 300)\n"
     ]
    },
    {
     "data": {
      "image/png": "[encoded data removed]",
      "text/plain": [
       "<Figure size 300x300 with 1 Axes>"
      ]
     },
     "metadata": {},
     "output_type": "display_data"
    }
   ],
   "source": [
    "from utils.analyze_enrichment_utils import plot_thresholding_res\n",
    "%reload_ext autoreload\n",
    "%autoreload 2\n",
    "\n",
    "plot_thresholding_res(reduced_LLM_genes_APV_only_DF, 'gprofiler_JI', 'LLM_JI',coverage_thresh_list = np.arange(0.0, 1.1, 0.05), enrich_adj_pval_thresh = adj_pval_thresh, LLM_score_thresh = LLM_score_thresh, highlight_coverage = [0.0, 0.05, 0.1, 0.2],figsize=(3,3), ax_label_keyword= 'JI', log_scale=True)"
   ]
  },
  {
   "cell_type": "markdown",
   "metadata": {},
   "source": [
    "# Pick GO term with best APV then filter by JI thresholds \n",
    " - Select the best GO term by the smallest p-value\n",
    "      - If there are multiple GO terms with the same smallest p-value, then pick the term with the highest JI.\n",
    " - Filter by both the p-value and JI thresholds.\n"
   ]
  },
  {
   "cell_type": "code",
   "execution_count": 17,
   "metadata": {},
   "outputs": [
    {
     "name": "stdout",
     "output_type": "stream",
     "text": [
      "JI threshold: 0.0\n",
      "LLM_success_TF        True  False  Total\n",
      "gprofiler_success_TF                    \n",
      "True                   124    105    229\n",
      "False                   11     60     71\n",
      "Total                  135    165    300\n",
      "JI threshold: 0.05\n",
      "LLM_success_TF        True  False  Total\n",
      "gprofiler_success_TF                    \n",
      "True                    33     51     84\n",
      "False                   29    187    216\n",
      "Total                   62    238    300\n",
      "JI threshold: 0.1\n",
      "LLM_success_TF        True  False  Total\n",
      "gprofiler_success_TF                    \n",
      "True                    11     22     33\n",
      "False                   31    236    267\n",
      "Total                   42    258    300\n",
      "JI threshold: 0.2\n",
      "LLM_success_TF        True  False  Total\n",
      "gprofiler_success_TF                    \n",
      "True                     0      4      4\n",
      "False                   21    275    296\n",
      "Total                   21    279    300\n"
     ]
    }
   ],
   "source": [
    "from utils.analyze_enrichment_utils import get_min_adj_p_value\n",
    "%reload_ext autoreload\n",
    "%autoreload 2\n",
    "\n",
    "JI_thresh_list = [0.0, 0.05, 0.1, 0.2]\n",
    "for JI_thresh in JI_thresh_list:\n",
    "    print(f\"JI threshold: {JI_thresh}\")\n",
    "    # Grouping the DataFrame by the specified columns\n",
    "    grouped = merged_genes_DF.groupby(group_col)\n",
    "\n",
    "    # Apply the function to each group and reset the index\n",
    "    reduced_LLM_genes_APV_thred_JI_DF = grouped.apply(lambda x: get_min_adj_p_value(x, sortCol='gprofiler_JI')).reset_index(drop=True)\n",
    "\n",
    "\n",
    "    # Add the 'LLM_success_TF' and 'gprofiler_success_TF' columns\n",
    "    reduced_LLM_genes_APV_thred_JI_DF['LLM_success_TF'] = ((reduced_LLM_genes_APV_thred_JI_DF ['Score'] >= LLM_score_thresh)& (reduced_LLM_genes_APV_thred_JI_DF ['LLM_JI'] >= JI_thresh)) # LLM creteria\n",
    "    reduced_LLM_genes_APV_thred_JI_DF['gprofiler_success_TF'] = ~((reduced_LLM_genes_APV_thred_JI_DF ['Adjusted P-value'] > adj_pval_thresh) | (reduced_LLM_genes_APV_thred_JI_DF['gprofiler_JI'] < JI_thresh)) # enrichment criteria\n",
    "\n",
    "\n",
    "    print(create_success_contingency_table(reduced_LLM_genes_APV_thred_JI_DF))\n",
    "\n"
   ]
  },
  {
   "cell_type": "code",
   "execution_count": null,
   "metadata": {},
   "outputs": [],
   "source": []
  },
  {
   "cell_type": "markdown",
   "metadata": {},
   "source": [
    "# Heatmap for example"
   ]
  },
  {
   "cell_type": "code",
   "execution_count": 18,
   "metadata": {},
   "outputs": [
    {
     "data": {
      "image/png": "[encoded data removed]",
      "text/plain": [
       "<Figure size 320x60 with 1 Axes>"
      ]
     },
     "metadata": {},
     "output_type": "display_data"
    }
   ],
   "source": [
    "# find the GeneSetID: Cluster2-105 from the full table\n",
    "example = merged_genes_DF.loc[\n",
    "merged_genes_DF['GeneSetID'] == 'Cluster2-105'].iloc[[0,2]] # one is the most significant, one is more similar name\n",
    "# example\n",
    "geneList = example['GeneList'].values[0].split(' ')\n",
    "\n",
    "new_cols = ['Name', 'Supporting Genes','Named by']\n",
    "new_df = pd.DataFrame(columns=new_cols)\n",
    "\n",
    "# LLM supporting genes\n",
    "llm_supporting_genes = example['Supporting Genes'].values[0].split(' ')\n",
    "# Join the LLM supporting genes list into a single string\n",
    "llm_supporting_genes_str = ', '.join(llm_supporting_genes)\n",
    "llm_name_row = pd.DataFrame({'Name': [example['LLM Name'].values[0]], 'Supporting Genes': llm_supporting_genes_str, 'Named by': ['GPT-4']})\n",
    "new_df = pd.concat([new_df, llm_name_row], ignore_index=True)\n",
    "\n",
    "for go_term in example['Term'].values:\n",
    "    intersection = example.loc[example['Term'] == go_term, 'intersections'].values[0].split(',')\n",
    "    # Join the intersection list into a single string\n",
    "    intersection_str = ', '.join(intersection)\n",
    "    new_row = pd.DataFrame({'Name': [go_term], 'Supporting Genes': intersection_str, 'Named by': ['g:Profiler']})\n",
    "    new_df = pd.concat([new_df, new_row], ignore_index=True)\n",
    "\n",
    "\n",
    "new_df = new_df.reset_index(drop=True)\n",
    "# new_df\n",
    "# geneList\n",
    "# plot a heatmap, where columns are the genes and rows are the gene sets, heat at the intersections\n",
    "\n",
    "# column is all the genes in the target gene set \n",
    "genes = set(geneList)\n",
    "genes = sorted(genes)\n",
    "\n",
    "# Create a binary matrix\n",
    "matrix = pd.DataFrame(0, index=new_df['Name'], columns=genes)\n",
    "for idx, row in new_df.iterrows():\n",
    "    supporting_genes = row['Supporting Genes'].split(', ')\n",
    "    matrix.loc[row['Name'], supporting_genes] = 1\n",
    "\n",
    "# Calculate appropriate figure size based on the number of genes and gene sets\n",
    "fig_height =len(new_df['Name']) * 0.2\n",
    "fig_width= len(genes) * 0.2\n",
    "\n",
    "# Plot the heatmap with square cells and adjusted figure size\n",
    "plt.figure(figsize=(fig_width, fig_height))\n",
    "ax = sns.heatmap(matrix, cmap=['#c0c0c0', '#ffbd00'], cbar=False, linewidths=.5, annot=False, square=True)\n",
    "# Move the x-axis labels to the top\n",
    "ax.xaxis.set_ticks_position('top')\n",
    "ax.xaxis.set_label_position('top')\n",
    "\n",
    "# Adjust the font size of the labels\n",
    "ax.set_xticklabels(ax.get_xticklabels(), rotation=45, ha='left')\n",
    "ax.set_yticklabels(ax.get_yticklabels(), rotation=0, ha='right')\n",
    "\n",
    "\n",
    "plt.xlabel('')\n",
    "plt.ylabel('')\n",
    "plt.savefig('figures/omics_LLM_gprofiler_CULLIN_example_gene_intersection_heatmap.svg', dpi=300)\n",
    "plt.show()"
   ]
  },
  {
   "cell_type": "code",
   "execution_count": null,
   "metadata": {},
   "outputs": [],
   "source": []
  }
 ],
 "metadata": {
  "kernelspec": {
   "display_name": "llm_eval",
   "language": "python",
   "name": "python3"
  },
  "language_info": {
   "codemirror_mode": {
    "name": "ipython",
    "version": 3
   },
   "file_extension": ".py",
   "mimetype": "text/x-python",
   "name": "python",
   "nbconvert_exporter": "python",
   "pygments_lexer": "ipython3",
   "version": "3.11.5"
  }
 },
 "nbformat": 4,
 "nbformat_minor": 2
}

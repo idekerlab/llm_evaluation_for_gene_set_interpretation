{
 "cells": [
  {
   "cell_type": "code",
   "execution_count": 1,
   "metadata": {},
   "outputs": [],
   "source": [
    "import pandas as pd\n",
    "import numpy as np\n",
    "import matplotlib.pyplot as plt\n",
    "import matplotlib as mpl\n",
    "import seaborn as sns\n",
    "from glob import glob\n",
    "import re\n",
    "from scipy.stats import wilcoxon, mannwhitneyu\n",
    "\n",
    "# Set default configuration for all plots\n",
    "plt.rcParams['svg.fonttype'] = 'none'\n",
    "plt.rcParams.update({'font.size': 7, 'font.family': 'sans-serif'})\n",
    "plt.rcParams['xtick.labelsize'] = 7\n",
    "plt.rcParams['ytick.labelsize'] = 7\n",
    "plt.rcParams['axes.labelsize'] = 7\n",
    "plt.rcParams['axes.titlesize'] = 7\n",
    "plt.rcParams['axes.linewidth'] = 0.5\n",
    "plt.rcParams['hatch.linewidth'] = 0.5\n",
    "plt.rcParams['xtick.major.width'] = 0.4\n",
    "plt.rcParams['ytick.major.width'] = 0.4\n",
    "plt.rcParams['xtick.minor.width'] = 0.3\n",
    "plt.rcParams['ytick.minor.width'] = 0.3\n",
    "plt.rcParams['legend.frameon'] = False\n",
    "plt.rcParams['xtick.major.size'] = 3\n",
    "plt.rcParams['ytick.major.size'] = 3\n",
    "plt.rcParams['xtick.minor.size'] = 2\n",
    "plt.rcParams['ytick.minor.size'] = 2\n",
    "plt.rcParams['xtick.major.pad'] = 1\n",
    "plt.rcParams['ytick.major.pad'] = 1\n",
    "plt.rcParams['axes.labelpad'] = 1\n",
    "plt.rcParams['patch.linewidth'] = 0.25\n",
    "plt.figsize = (2,2)    \n",
    "\n",
    "%load_ext autoreload\n",
    "%autoreload 2\n",
    "%matplotlib inline"
   ]
  },
  {
   "cell_type": "code",
   "execution_count": 2,
   "metadata": {},
   "outputs": [],
   "source": [
    "# open the file \n",
    "files= glob('data/GO_term_analysis/model_compare/sim_rank_*.tsv')\n"
   ]
  },
  {
   "cell_type": "code",
   "execution_count": 3,
   "metadata": {},
   "outputs": [
    {
     "data": {
      "text/plain": [
       "['data/GO_term_analysis/model_compare/sim_rank_LLM_processed_model_compare_100set_gpt_4.tsv',\n",
       " 'data/GO_term_analysis/model_compare/sim_rank_LLM_processed_model_compare_100set_mixtral_instruct.tsv',\n",
       " 'data/GO_term_analysis/model_compare/sim_rank_LLM_processed_model_compare_100set_llama2_70b.tsv',\n",
       " 'data/GO_term_analysis/model_compare/sim_rank_LLM_processed_model_compare_100set_gemini_pro.tsv',\n",
       " 'data/GO_term_analysis/model_compare/sim_rank_LLM_processed_model_compare_100set_gpt_35.tsv']"
      ]
     },
     "execution_count": 3,
     "metadata": {},
     "output_type": "execute_result"
    }
   ],
   "source": [
    "files"
   ]
  },
  {
   "cell_type": "code",
   "execution_count": 13,
   "metadata": {},
   "outputs": [
    {
     "name": "stdout",
     "output_type": "stream",
     "text": [
      "(100, 6)\n",
      "(200, 6)\n",
      "(300, 6)\n",
      "(400, 6)\n",
      "(500, 6)\n"
     ]
    }
   ],
   "source": [
    "## combine files and sort by semantic similarity score\n",
    "all_names_df = pd.DataFrame()\n",
    "for file in files:\n",
    "    df = pd.read_csv(file, sep='\\t')\n",
    "    model_name = '_'.join(file.split('/')[-1].split('.')[0].split('_')[-2:])\n",
    "    # print(model_name)\n",
    "    if model_name == 'gpt_35':\n",
    "        prefix = 'gpt_3.5'\n",
    "    else:\n",
    "        prefix = model_name\n",
    "        \n",
    "    #rename the column\n",
    "    df.rename(columns={f'{prefix}_default Name': 'LLM name', f'{prefix}_default Score': 'LLM Score'}, inplace=True)\n",
    "    df = df.loc[:,['GO', 'Term_Description','LLM name', 'LLM Score','LLM_name_GO_term_sim']]\n",
    "    df.loc[:,'Model'] = prefix\n",
    "    all_names_df = pd.concat([all_names_df, df])\n",
    "    print(all_names_df.shape)\n",
    "all_names_df.sort_values(by='LLM_name_GO_term_sim', ascending=False, inplace=True)\n",
    "\n",
    "output_df = pd.concat([all_names_df.head(5), all_names_df.tail(5)])\n",
    "output_df.to_csv('data/GO_term_analysis/model_compare/all_model_top_bottom_5_GO_terms.tsv', sep='\\t', index=False) # Table 1 in the manuscript"
   ]
  },
  {
   "cell_type": "code",
   "execution_count": 4,
   "metadata": {},
   "outputs": [
    {
     "data": {
      "text/html": [
       "<div>\n",
       "<style scoped>\n",
       "    .dataframe tbody tr th:only-of-type {\n",
       "        vertical-align: middle;\n",
       "    }\n",
       "\n",
       "    .dataframe tbody tr th {\n",
       "        vertical-align: top;\n",
       "    }\n",
       "\n",
       "    .dataframe thead th {\n",
       "        text-align: right;\n",
       "    }\n",
       "</style>\n",
       "<table border=\"1\" class=\"dataframe\">\n",
       "  <thead>\n",
       "    <tr style=\"text-align: right;\">\n",
       "      <th></th>\n",
       "      <th>GO</th>\n",
       "      <th>LLM_name_GO_term_sim</th>\n",
       "      <th>model</th>\n",
       "    </tr>\n",
       "  </thead>\n",
       "  <tbody>\n",
       "    <tr>\n",
       "      <th>0</th>\n",
       "      <td>GO:0014744</td>\n",
       "      <td>0.483668</td>\n",
       "      <td>GPT-4</td>\n",
       "    </tr>\n",
       "    <tr>\n",
       "      <th>1</th>\n",
       "      <td>GO:0000338</td>\n",
       "      <td>0.391335</td>\n",
       "      <td>GPT-4</td>\n",
       "    </tr>\n",
       "    <tr>\n",
       "      <th>2</th>\n",
       "      <td>GO:0060696</td>\n",
       "      <td>0.479061</td>\n",
       "      <td>GPT-4</td>\n",
       "    </tr>\n",
       "    <tr>\n",
       "      <th>3</th>\n",
       "      <td>GO:0019885</td>\n",
       "      <td>0.752696</td>\n",
       "      <td>GPT-4</td>\n",
       "    </tr>\n",
       "    <tr>\n",
       "      <th>4</th>\n",
       "      <td>GO:0003166</td>\n",
       "      <td>0.548072</td>\n",
       "      <td>GPT-4</td>\n",
       "    </tr>\n",
       "  </tbody>\n",
       "</table>\n",
       "</div>"
      ],
      "text/plain": [
       "           GO  LLM_name_GO_term_sim  model\n",
       "0  GO:0014744              0.483668  GPT-4\n",
       "1  GO:0000338              0.391335  GPT-4\n",
       "2  GO:0060696              0.479061  GPT-4\n",
       "3  GO:0019885              0.752696  GPT-4\n",
       "4  GO:0003166              0.548072  GPT-4"
      ]
     },
     "execution_count": 4,
     "metadata": {},
     "output_type": "execute_result"
    }
   ],
   "source": [
    "combined_df = pd.DataFrame()\n",
    "for file in files:\n",
    "    df = pd.read_csv(file, sep='\\t')\n",
    "    #if the default Name is 'system of unrelated proteins' remove it from the dataframe\n",
    "\n",
    "    model_name = '_'.join(file.split('/')[-1].split('.')[0].split('_')[-2:])\n",
    "    # print(model_name)\n",
    "    if model_name == 'gpt_35':\n",
    "        prefix = 'gpt_3.5'\n",
    "    else:\n",
    "        prefix = model_name\n",
    "    df = df[df[f'{prefix}_default Name'] != 'System of unrelated proteins']\n",
    "    # print(df.shape)\n",
    "    sem_sim = df.loc[:, ['GO', 'LLM_name_GO_term_sim']]\n",
    "    # sem_sim = df.loc[:, ['GO', 'true_GO_term_sim_percentile']]\n",
    "    sem_sim['model'] = model_name\n",
    "    combined_df = pd.concat([combined_df, sem_sim])\n",
    "combined_df['model'] = combined_df['model'].map({'gpt_4': 'GPT-4', 'gemini_pro': 'Gemini Pro','gpt_35':'GPT-3.5', 'mixtral_instruct': 'Mixtral Instruct', 'llama2_70b': 'Llama2 70b'})\n",
    "combined_df.head()"
   ]
  },
  {
   "cell_type": "code",
   "execution_count": 5,
   "metadata": {},
   "outputs": [
    {
     "name": "stderr",
     "output_type": "stream",
     "text": [
      "/tmp/ipykernel_666107/1754759280.py:18: FutureWarning: Passing `palette` without assigning `hue` is deprecated.\n",
      "  sns.swarmplot(x='model', y='LLM_name_GO_term_sim', data=combined_df, ax=ax, order=order, palette=['#6CBE4C', '#9C80BB', '#65AFAF', '#E07A5F', '#4579BD'], size=1.75, alpha=1)\n"
     ]
    },
    {
     "name": "stdout",
     "output_type": "stream",
     "text": [
      "model:  GPT-4 median:  0.49406657499999995\n",
      "model:  Gemini Pro median:  0.45542836\n",
      "model:  GPT-3.5 median:  0.502566115\n",
      "model:  Mixtral Instruct median:  0.45095879\n",
      "model:  Llama2 70b median:  0.4035816\n",
      "GPT-4 vs Llama2 70b: p = 0.0023234923501029865\n",
      "GPT-3.5 vs Llama2 70b: p = 0.0008411283006340667\n",
      "Mixtral Instruct vs Llama2 70b: p = 0.01350122051667856\n"
     ]
    },
    {
     "name": "stderr",
     "output_type": "stream",
     "text": [
      "/tmp/ipykernel_666107/1754759280.py:53: UserWarning: FixedFormatter should only be used together with FixedLocator\n",
      "  ax.set_xticklabels(['GPT-4', 'Gemini\\nPro', 'GPT-3.5','Mixtral\\nInstruct', 'Llama2\\n70b'],rotation=0, ha='center')\n"
     ]
    },
    {
     "data": {
      "image/png": "[encoded data removed]",
      "text/plain": [
       "<Figure size 250x250 with 1 Axes>"
      ]
     },
     "metadata": {},
     "output_type": "display_data"
    }
   ],
   "source": [
    "fig, ax = plt.subplots(figsize=(2.5,2.5))\n",
    "order = ['GPT-4', 'Gemini Pro', 'GPT-3.5','Mixtral Instruct', 'Llama2 70b']\n",
    "# Perform Mann-Whitney U tests\n",
    "p_values = {}\n",
    "for i in range(len(order)):\n",
    "    for j in range(i+1, len(order)):\n",
    "        model1 = order[i]\n",
    "        model2 = order[j]\n",
    "        data1 = combined_df[combined_df['model'] == model1]['LLM_name_GO_term_sim']\n",
    "        data2 = combined_df[combined_df['model'] == model2]['LLM_name_GO_term_sim']\n",
    "        stat, p = mannwhitneyu(data1, data2)\n",
    "        p_values[(model1, model2)] = p\n",
    "        \n",
    "#855C75,#D9AF6B,#AF6458,#736F4C,#526A83,#625377,#68855C,#9C9C5E,#A06177,#8C785D,#467378,#7C7C7C\n",
    "# sns.violinplot(x='model', y='LLM_name_GO_term_sim', data=combined_df, ax=ax, order=order, inner='quartiles', linewidth=0.5, width=0.8,cut=0, palette=['#d88c9a','#f2d0a9','#f1e3d3','#99c1b9','#d2b7e5'], edgecolor='black')\n",
    "\n",
    "# Add swarm plot\n",
    "sns.swarmplot(x='model', y='LLM_name_GO_term_sim', data=combined_df, ax=ax, order=order, palette=['#6CBE4C', '#9C80BB', '#65AFAF', '#E07A5F', '#4579BD'], size=1.75, alpha=1)\n",
    "# add median line \n",
    "medians = combined_df.groupby(['model'])['LLM_name_GO_term_sim'].median()\n",
    "for i in range(len(order)):\n",
    "    print('model: ', order[i], 'median: ', medians[order[i]])\n",
    "    ax.plot([i-0.25, i+0.25], [medians[order[i]], medians[order[i]]], lw=1, color='black')\n",
    "\n",
    "\n",
    "# Determine the maximum y-value\n",
    "max_y = max(combined_df['LLM_name_GO_term_sim']) + 0.03  # Adjust the 0.03 if needed\n",
    "\n",
    "# Offset for each bar to prevent overlap\n",
    "bar_offset = max_y * 0.05  \n",
    "i = 0\n",
    "# Loop through your p-values and add bars for each significant pair\n",
    "for index, ((model1, model2), p_value) in enumerate(p_values.items()):\n",
    "    if p_value < 0.05:  # Only plot bars for significant differences\n",
    "        bar_start = order.index(model1)  # x-coordinate for model1\n",
    "        bar_end = order.index(model2)    # x-coordinate for model2\n",
    "\n",
    "        # Adjust y-coordinate for the bar to avoid overlap\n",
    "        y_coord = max_y + bar_offset + (i * bar_offset)\n",
    "\n",
    "        # Plot the horizontal line for the significance bar\n",
    "        ax.plot([bar_start, bar_end], [y_coord, y_coord], color='black', lw=0.5)\n",
    "\n",
    "        # Add text for significance level\n",
    "        significance_text = \"****\" if p_value < 0.0001 else \"***\" if p_value < 0.001 else \"**\" if p_value < 0.01 else \"*\"\n",
    "        ax.text((bar_start + bar_end) / 2, y_coord - 0.01, significance_text, ha='center')\n",
    "        print(f'{model1} vs {model2}: p = {p_value}')\n",
    "        i += 1\n",
    "\n",
    "\n",
    "ax.set_ylabel('Semantic similarity \\n between LLM name and GO term name')\n",
    "ax.set_xlabel('')\n",
    "ax.set_xticklabels(['GPT-4', 'Gemini\\nPro', 'GPT-3.5','Mixtral\\nInstruct', 'Llama2\\n70b'],rotation=0, ha='center')\n",
    "sns.despine()\n",
    "# plt.savefig('figures/model_compare/compare_raw_semantic_similarity_swamp_only.svg', bbox_inches='tight')\n",
    "plt.show()\n"
   ]
  },
  {
   "cell_type": "code",
   "execution_count": null,
   "metadata": {},
   "outputs": [],
   "source": []
  },
  {
   "cell_type": "markdown",
   "metadata": {},
   "source": [
    "# Compare the semantic similarity vs confidence score"
   ]
  },
  {
   "cell_type": "code",
   "execution_count": 92,
   "metadata": {},
   "outputs": [
    {
     "data": {
      "image/png": "[encoded data removed]",
      "text/plain": [
       "<Figure size 250x250 with 2 Axes>"
      ]
     },
     "metadata": {},
     "output_type": "display_data"
    }
   ],
   "source": [
    "import pandas as pd\n",
    "import numpy as np\n",
    "import matplotlib.pyplot as plt\n",
    "import seaborn as sns\n",
    "from scipy.stats import pearsonr\n",
    "\n",
    "# Load the data\n",
    "input_file = 'data/GO_term_analysis/model_compare/sim_rank_LLM_processed_model_compare_100set_gpt_4.tsv'\n",
    "df = pd.read_csv(input_file, sep='\\t')\n",
    "\n",
    "# Separate the data\n",
    "zero_df = df[df['gpt_4_default Name'] == 'System of unrelated proteins']\n",
    "non_zero_df = df[df['gpt_4_default Name'] != 'System of unrelated proteins']\n",
    "\n",
    "\n",
    "# Create subplots\n",
    "fig, (ax0, ax1) = plt.subplots(1, 2, sharey=True, figsize=(2.5,2.5), gridspec_kw={'width_ratios': [1, 3]})\n",
    "fig.subplots_adjust(wspace=0.01)\n",
    "\n",
    "# First plot for zeros\n",
    "sns.scatterplot(x = 'gpt_4_default Score', y = 'LLM_name_GO_term_sim',data=zero_df, alpha=1, s=8, ax=ax0, color = '#A5AA99')\n",
    "ax0.set_xlim(-0.05, 0.05)\n",
    "ax0.set_xlabel('')\n",
    "ax0.spines['right'].set_visible(False)\n",
    "ax0.yaxis.tick_left()\n",
    "#remove y-axis label\n",
    "ax0.set_ylabel('')\n",
    "sns.despine(ax=ax0)\n",
    "\n",
    "# Define the color palette\n",
    "palette = {\n",
    "    'Low Confidence': '#bc6c25',\n",
    "    'Medium Confidence': '#0077b6',\n",
    "    'High Confidence': '#e63946'\n",
    "}\n",
    "\n",
    "# Second plot for non-zeros\n",
    "sns.scatterplot(x = 'gpt_4_default Score', y = 'LLM_name_GO_term_sim',data=non_zero_df, hue = 'gpt_4_default Score Bin',palette=palette, alpha=1, s=8, ax=ax1, legend=False)\n",
    "# plot best fit line\n",
    "m, b = np.polyfit(non_zero_df['gpt_4_default Score'], non_zero_df['LLM_name_GO_term_sim'], 1)\n",
    "ax1.plot(non_zero_df['gpt_4_default Score'], m*non_zero_df['gpt_4_default Score'] + b, color='grey', lw=0.75)\n",
    "\n",
    "ax1.set_xlim(0.80, 1.0)\n",
    "ax1.set_xlabel('')\n",
    "ax1.tick_params(labelright=False)  # don't put tick labels at the right\n",
    "# remove ticks\n",
    "ax1.yaxis.set_ticks_position('none')\n",
    "sns.despine(ax=ax1, left=True)\n",
    "\n",
    "\n",
    "# Add correlation coefficient\n",
    "r, p = pearsonr(non_zero_df['gpt_4_default Score'], non_zero_df['LLM_name_GO_term_sim'])\n",
    "fig.text(0.15, 0.9, f'y = {m:.2f}x + {b:.2f}', ha='left', va='center', fontsize=7)\n",
    "fig.text(0.15, 0.95, f'R = {r:.2f}', ha='left', va='center', fontsize=7)\n",
    "fig.text(0.15, 0.85, f'p = {p:.2e}', ha='left', va='center', fontsize=7)\n",
    "\n",
    "# Add common x-label and y-label\n",
    "fig.text(0.5, 0.01, 'GPT-4 confidence score', ha='center', va='center')\n",
    "fig.text(0, 0.5, 'Semantic similarity\\nbetween LLM name and GO name', ha='center', va='center', rotation='vertical')\n",
    "\n",
    "# Add the slanted lines to indicate the break at the bottom\n",
    "d = .25  # proportion of vertical to horizontal extent of the slanted line\n",
    "kwargs = dict(marker=[(-d, -1), (d, 1)], markersize=7,\n",
    "              linestyle=\"none\", color='black', mec='k', mew=1, clip_on=False)\n",
    "ax0.plot([1, 1], [0, 0], transform=ax0.transAxes, **kwargs)\n",
    "ax1.plot([0, 0], [0, 0], transform=ax1.transAxes, **kwargs)\n",
    "\n",
    "# Adjust the layout\n",
    "plt.tight_layout(w_pad=0.05)\n",
    "# remove legend, will add it later\n",
    "plt.legend('') \n",
    "# save \n",
    "plt.savefig('figures/model_compare/compare_semantic_similarity_vs_raw_confidence_score_scatter_GPT4_split.svg', bbox_inches='tight')\n",
    "# Show the plot\n",
    "plt.show()"
   ]
  },
  {
   "cell_type": "code",
   "execution_count": null,
   "metadata": {},
   "outputs": [],
   "source": []
  }
 ],
 "metadata": {
  "kernelspec": {
   "display_name": "llm_eval",
   "language": "python",
   "name": "python3"
  },
  "language_info": {
   "codemirror_mode": {
    "name": "ipython",
    "version": 3
   },
   "file_extension": ".py",
   "mimetype": "text/x-python",
   "name": "python",
   "nbconvert_exporter": "python",
   "pygments_lexer": "ipython3",
   "version": "3.11.5"
  }
 },
 "nbformat": 4,
 "nbformat_minor": 2
}

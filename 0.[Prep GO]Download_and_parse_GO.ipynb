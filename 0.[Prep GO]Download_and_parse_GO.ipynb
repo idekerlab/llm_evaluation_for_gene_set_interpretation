{
 "cells": [
  {
   "cell_type": "markdown",
   "metadata": {},
   "source": [
    "# Notebook for download GO and select 1000 terms for the analysis "
   ]
  },
  {
   "attachments": {},
   "cell_type": "markdown",
   "metadata": {},
   "source": [
    "## Step1: Dowload and process GO_BP terms "
   ]
  },
  {
   "cell_type": "code",
   "execution_count": null,
   "metadata": {},
   "outputs": [],
   "source": [
    "### this function will download go-basic.obo and parse it filtering for biological process branch\n",
    "# it will output these two files that will be used in the next step:\n",
    "# collapsed_go.symbol (a network format of GO terms)\n",
    "# goID_2_name.tab (a mapping of GO terms to their names)\n",
    "\n",
    "outdir = 'data/GO_BP/'\n",
    "namespace = 'biological_process'\n",
    "\n",
    "%run process_the_gene_ontology.py $outdir --namespace $namespace --gobasic $go_basics --goahuman $goahuman"
   ]
  },
  {
   "cell_type": "code",
   "execution_count": 4,
   "metadata": {},
   "outputs": [],
   "source": [
    "import networkx as nx\n",
    "import pandas as pd\n",
    "# function specific to loading the collapsed_go.symbol type file\n",
    "def load_go(filename): \n",
    "    # Create an empty directed graph\n",
    "    G = nx.DiGraph()\n",
    "\n",
    "    with open(filename, 'r') as f:\n",
    "        for line in f:\n",
    "            columns = line.strip().split('\\t')  # tab-separated values\n",
    "            if len(columns) >= 3:\n",
    "                parent = columns[0] # based on collapsed_go.symbol, the first column is parent\n",
    "                child = columns[1] # second column is child\n",
    "                interaction = columns[2] # third column is interaction type\n",
    "                # Add an edge to the graph\n",
    "                G.add_edge(parent, child, interaction=interaction)\n",
    "\n",
    "    # Get the set of all genes\n",
    "    hiergeneset = set(n for n in G.nodes() if not n.startswith('GO:'))\n",
    "\n",
    "    # Get term statistics\n",
    "    df = get_termStats(G, hiergeneset)\n",
    "\n",
    "    return df\n",
    "\n",
    "def get_termStats(G, hiergeneset):\n",
    "    clusters = list(set(list(G.nodes())) - hiergeneset) #\n",
    "    tsize_list = []\n",
    "    cgene_list = []\n",
    "    for c in clusters:\n",
    "        infoset = nx.descendants(G, c) # get all the descendants of the cluster\n",
    "        cgeneset = infoset.intersection(hiergeneset) # get the genes that are in the cluster\n",
    "        tsize_list.append(len(cgeneset)) \n",
    "        cgene_list.append(list(cgeneset))\n",
    "\n",
    "    df = pd.DataFrame(index=clusters)\n",
    "    df['Genes'] = [' '.join(genes) for genes in cgene_list] # convert list to string separated by space\n",
    "    df['Gene_Count'] = tsize_list # number of genes in the cluster\n",
    "    return df\n"
   ]
  },
  {
   "cell_type": "code",
   "execution_count": 3,
   "metadata": {},
   "outputs": [
    {
     "name": "stdout",
     "output_type": "stream",
     "text": [
      "(11943, 3)\n",
      "GO                  0\n",
      "Genes               0\n",
      "Gene_Count          0\n",
      "Term_Description    0\n",
      "dtype: int64\n"
     ]
    },
    {
     "data": {
      "text/html": [
       "<div>\n",
       "<style scoped>\n",
       "    .dataframe tbody tr th:only-of-type {\n",
       "        vertical-align: middle;\n",
       "    }\n",
       "\n",
       "    .dataframe tbody tr th {\n",
       "        vertical-align: top;\n",
       "    }\n",
       "\n",
       "    .dataframe thead th {\n",
       "        text-align: right;\n",
       "    }\n",
       "</style>\n",
       "<table border=\"1\" class=\"dataframe\">\n",
       "  <thead>\n",
       "    <tr style=\"text-align: right;\">\n",
       "      <th></th>\n",
       "      <th>GO</th>\n",
       "      <th>Genes</th>\n",
       "      <th>Gene_Count</th>\n",
       "      <th>Term_Description</th>\n",
       "    </tr>\n",
       "  </thead>\n",
       "  <tbody>\n",
       "    <tr>\n",
       "      <th>0</th>\n",
       "      <td>GO:0006311</td>\n",
       "      <td>TEX11 PRDM9 RNF212</td>\n",
       "      <td>3</td>\n",
       "      <td>meiotic gene conversion</td>\n",
       "    </tr>\n",
       "    <tr>\n",
       "      <th>1</th>\n",
       "      <td>GO:0006855</td>\n",
       "      <td>ABCB11 ABCC4 ABCC3 SLC29A2 SLC37A3 SLC19A1 SLC...</td>\n",
       "      <td>16</td>\n",
       "      <td>xenobiotic transmembrane transport</td>\n",
       "    </tr>\n",
       "    <tr>\n",
       "      <th>2</th>\n",
       "      <td>GO:0006890</td>\n",
       "      <td>GOLPH3L ARCN1 GBF1 KDELR1 BET1L PICK1 COPZ2 SC...</td>\n",
       "      <td>52</td>\n",
       "      <td>retrograde vesicle-mediated transport, Golgi t...</td>\n",
       "    </tr>\n",
       "    <tr>\n",
       "      <th>3</th>\n",
       "      <td>GO:1900372</td>\n",
       "      <td>PARP1 FLCN RD3 PID1</td>\n",
       "      <td>4</td>\n",
       "      <td>negative regulation of purine nucleotide biosy...</td>\n",
       "    </tr>\n",
       "    <tr>\n",
       "      <th>4</th>\n",
       "      <td>GO:0031645</td>\n",
       "      <td>LPIN1 HCRT GPR35 EIF2AK3 GLRA1 MTNR1B CCN3 MTM...</td>\n",
       "      <td>16</td>\n",
       "      <td>negative regulation of nervous system process</td>\n",
       "    </tr>\n",
       "  </tbody>\n",
       "</table>\n",
       "</div>"
      ],
      "text/plain": [
       "           GO                                              Genes  Gene_Count  \\\n",
       "0  GO:0006311                                 TEX11 PRDM9 RNF212           3   \n",
       "1  GO:0006855  ABCB11 ABCC4 ABCC3 SLC29A2 SLC37A3 SLC19A1 SLC...          16   \n",
       "2  GO:0006890  GOLPH3L ARCN1 GBF1 KDELR1 BET1L PICK1 COPZ2 SC...          52   \n",
       "3  GO:1900372                                PARP1 FLCN RD3 PID1           4   \n",
       "4  GO:0031645  LPIN1 HCRT GPR35 EIF2AK3 GLRA1 MTNR1B CCN3 MTM...          16   \n",
       "\n",
       "                                    Term_Description  \n",
       "0                            meiotic gene conversion  \n",
       "1                 xenobiotic transmembrane transport  \n",
       "2  retrograde vesicle-mediated transport, Golgi t...  \n",
       "3  negative regulation of purine nucleotide biosy...  \n",
       "4      negative regulation of nervous system process  "
      ]
     },
     "execution_count": 3,
     "metadata": {},
     "output_type": "execute_result"
    }
   ],
   "source": [
    "## use case\n",
    "## GO version: latest 2023-11-15\n",
    "\n",
    "go_terms = load_go('./data/GO_BP/collapsed_go.symbol')\n",
    "go_terms = go_terms.reset_index().rename(columns={'index': 'GO'}) # rename the index column to column name GO\n",
    "print(go_terms.shape)\n",
    "\n",
    "# add the go term description\n",
    "term_des = pd.read_table('./data/GO_BP/goID_2_name.tab',\n",
    "                                        header=None,\n",
    "                                        names=['Term', 'Term_Description'],\n",
    "                                        index_col=0)\n",
    "go_terms_des = go_terms.merge(term_des, left_on='GO', right_index=True, how='left')\n",
    "\n",
    "# check if there are any missing values\n",
    "print(go_terms_des.isnull().sum())\n",
    "\n",
    "go_terms_des.to_csv('data/go_terms.csv')\n",
    "go_terms_des.head()"
   ]
  },
  {
   "cell_type": "code",
   "execution_count": 5,
   "metadata": {},
   "outputs": [
    {
     "name": "stdout",
     "output_type": "stream",
     "text": [
      "(1677, 3)\n",
      "GO                  0\n",
      "Genes               0\n",
      "Gene_Count          0\n",
      "Term_Description    0\n",
      "dtype: int64\n",
      "(3399, 3)\n",
      "GO                  0\n",
      "Genes               0\n",
      "Gene_Count          0\n",
      "Term_Description    0\n",
      "dtype: int64\n"
     ]
    }
   ],
   "source": [
    "## use case\n",
    "## GO version: latest 2023-11-15\n",
    "for branch in ['CC', 'MF']:\n",
    "    \n",
    "    go_terms = load_go(f'./data/GO_{branch}/collapsed_go.symbol')\n",
    "    go_terms = go_terms.reset_index().rename(columns={'index': 'GO'}) # rename the index column to column name GO\n",
    "    print(go_terms.shape)\n",
    "\n",
    "    # add the go term description\n",
    "    term_des = pd.read_table(f'./data/GO_{branch}/goID_2_name.tab',\n",
    "                                            header=None,\n",
    "                                            names=['Term', 'Term_Description'],\n",
    "                                            index_col=0)\n",
    "    go_terms_des = go_terms.merge(term_des, left_on='GO', right_index=True, how='left')\n",
    "\n",
    "    # check if there are any missing values\n",
    "    print(go_terms_des.isnull().sum())\n",
    "\n",
    "    go_terms_des.to_csv(f'data/GO_term_analysis/CC_MF_branch/{branch}_go_terms.csv')\n",
    "    "
   ]
  },
  {
   "cell_type": "markdown",
   "metadata": {},
   "source": [
    "## Step 2: Understand GO size distribution and select 1000 GO "
   ]
  },
  {
   "cell_type": "code",
   "execution_count": 6,
   "metadata": {},
   "outputs": [
    {
     "data": {
      "image/png": "[encoded data removed]",
      "text/plain": [
       "<Figure size 800x800 with 1 Axes>"
      ]
     },
     "metadata": {},
     "output_type": "display_data"
    },
    {
     "data": {
      "image/png": "[encoded data removed]",
      "text/plain": [
       "<Figure size 1600x800 with 2 Axes>"
      ]
     },
     "metadata": {},
     "output_type": "display_data"
    }
   ],
   "source": [
    "import matplotlib.pyplot as plt\n",
    "import pandas as pd\n",
    "go_terms = pd.read_csv('data/go_terms.csv', sep = ',',index_col=0)\n",
    "\n",
    "plt.figure(figsize=(8,8))\n",
    "plt.hist(go_terms['Gene_Count'], bins=50)\n",
    "\n",
    "# subplots\n",
    "fig, (ax1, ax2) = plt.subplots(1,2, figsize=(16,8))\n",
    "ax1.hist(go_terms[(go_terms['Gene_Count'] <= 150)]['Gene_Count'], bins=50)\n",
    "ax2.hist(go_terms[(go_terms['Gene_Count'] > 150)]['Gene_Count'], bins=50)\n",
    "plt.show()\n"
   ]
  },
  {
   "cell_type": "code",
   "execution_count": 3,
   "metadata": {},
   "outputs": [
    {
     "data": {
      "text/plain": [
       "0.746043707611153"
      ]
     },
     "execution_count": 3,
     "metadata": {},
     "output_type": "execute_result"
    }
   ],
   "source": [
    "# if we randomly select GO terms between 3-100, what percentage of terms will be in the pool?\n",
    "go_terms[(go_terms['Gene_Count'] >= 3) & (go_terms['Gene_Count'] <= 100)].shape[0]/go_terms.shape[0]\n",
    "\n"
   ]
  },
  {
   "cell_type": "code",
   "execution_count": 2,
   "metadata": {},
   "outputs": [
    {
     "name": "stdout",
     "output_type": "stream",
     "text": [
      "        Gene_Count\n",
      "count  8910.000000\n",
      "mean     20.143098\n",
      "std      21.781439\n",
      "min       3.000000\n",
      "25%       5.000000\n",
      "50%      11.000000\n",
      "75%      26.000000\n",
      "max     100.000000\n",
      "(8910, 4)\n"
     ]
    },
    {
     "data": {
      "text/plain": [
       "(array([195., 116., 103.,  64.,  70.,  43.,  35.,  30.,  23.,  27.,  13.,\n",
       "         22.,  16.,  14.,  14.,  14.,   7.,  14.,  19.,  11.,  14.,   7.,\n",
       "          8.,   9.,   6.,   5.,   5.,   8.,   5.,   7.,   5.,   3.,   5.,\n",
       "          3.,   5.,   5.,   7.,   3.,   4.,   3.,   3.,   3.,   4.,   7.,\n",
       "          4.,   2.,   3.,   2.,   3.,   2.]),\n",
       " array([  3.  ,   4.94,   6.88,   8.82,  10.76,  12.7 ,  14.64,  16.58,\n",
       "         18.52,  20.46,  22.4 ,  24.34,  26.28,  28.22,  30.16,  32.1 ,\n",
       "         34.04,  35.98,  37.92,  39.86,  41.8 ,  43.74,  45.68,  47.62,\n",
       "         49.56,  51.5 ,  53.44,  55.38,  57.32,  59.26,  61.2 ,  63.14,\n",
       "         65.08,  67.02,  68.96,  70.9 ,  72.84,  74.78,  76.72,  78.66,\n",
       "         80.6 ,  82.54,  84.48,  86.42,  88.36,  90.3 ,  92.24,  94.18,\n",
       "         96.12,  98.06, 100.  ]),\n",
       " <BarContainer object of 50 artists>)"
      ]
     },
     "execution_count": 2,
     "metadata": {},
     "output_type": "execute_result"
    },
    {
     "data": {
      "image/png": "[encoded data removed]",
      "text/plain": [
       "<Figure size 1600x800 with 2 Axes>"
      ]
     },
     "metadata": {},
     "output_type": "display_data"
    }
   ],
   "source": [
    "## randomly select 1000 GO terms from the pool between 3-100\n",
    "import random\n",
    "import pandas as pd\n",
    "import numpy as np\n",
    "import matplotlib.pyplot as plt\n",
    "\n",
    "SEED = 42\n",
    "min = 3\n",
    "max = 100\n",
    "\n",
    "go_terms = pd.read_csv('data/go_terms.csv', sep = ',',index_col=0)\n",
    "go_filtered = go_terms[(go_terms['Gene_Count'] >= min) & (go_terms['Gene_Count'] <= max)]\n",
    "print(go_filtered.describe())\n",
    "print(go_filtered.shape)\n",
    "\n",
    "# randomly select 1000 GO terms from the pool between min and max\n",
    "\n",
    "selected_go = go_filtered.sample(n=1000, random_state=SEED)\n",
    "\n",
    "selected_go.to_csv('data/GO_term_analysis/1000_selected_go_terms.csv', index=False)\n",
    "\n",
    "# quick check of the distribution of the selected GO terms\n",
    "fig, (ax1, ax2) = plt.subplots(1,2, figsize=(16,8))\n",
    "ax1.hist(go_filtered['Gene_Count'], bins=50)\n",
    "ax2.hist(selected_go['Gene_Count'], bins=50)"
   ]
  },
  {
   "cell_type": "code",
   "execution_count": 4,
   "metadata": {},
   "outputs": [
    {
     "name": "stdout",
     "output_type": "stream",
     "text": [
      "        Gene_Count\n",
      "count  1000.000000\n",
      "mean     20.413000\n",
      "std      21.789613\n",
      "min       3.000000\n",
      "25%       6.000000\n",
      "50%      11.000000\n",
      "75%      28.000000\n",
      "max     100.000000\n"
     ]
    },
    {
     "data": {
      "text/html": [
       "<div>\n",
       "<style scoped>\n",
       "    .dataframe tbody tr th:only-of-type {\n",
       "        vertical-align: middle;\n",
       "    }\n",
       "\n",
       "    .dataframe tbody tr th {\n",
       "        vertical-align: top;\n",
       "    }\n",
       "\n",
       "    .dataframe thead th {\n",
       "        text-align: right;\n",
       "    }\n",
       "</style>\n",
       "<table border=\"1\" class=\"dataframe\">\n",
       "  <thead>\n",
       "    <tr style=\"text-align: right;\">\n",
       "      <th></th>\n",
       "      <th>GO</th>\n",
       "      <th>Genes</th>\n",
       "      <th>Gene_Count</th>\n",
       "      <th>Term_Description</th>\n",
       "    </tr>\n",
       "  </thead>\n",
       "  <tbody>\n",
       "    <tr>\n",
       "      <th>6107</th>\n",
       "      <td>GO:0048627</td>\n",
       "      <td>MEGF10 SDC1 WNT10B SOX15</td>\n",
       "      <td>4</td>\n",
       "      <td>myoblast development</td>\n",
       "    </tr>\n",
       "    <tr>\n",
       "      <th>1986</th>\n",
       "      <td>GO:1904888</td>\n",
       "      <td>CPLANE2 NEUROG1 GRHL2 TGFB3 EXT1 TGFBR2 TWIST1...</td>\n",
       "      <td>72</td>\n",
       "      <td>cranial skeletal system development</td>\n",
       "    </tr>\n",
       "    <tr>\n",
       "      <th>6624</th>\n",
       "      <td>GO:0019585</td>\n",
       "      <td>DCXR UGT1A9 UGT2B7 PRKCE UGT1A7 UGT2A3 SORD UG...</td>\n",
       "      <td>26</td>\n",
       "      <td>glucuronate metabolic process</td>\n",
       "    </tr>\n",
       "    <tr>\n",
       "      <th>10759</th>\n",
       "      <td>GO:1902267</td>\n",
       "      <td>AZIN1 OAZ2 OAZ1 AZIN2 OAZ3</td>\n",
       "      <td>5</td>\n",
       "      <td>regulation of polyamine transmembrane transport</td>\n",
       "    </tr>\n",
       "    <tr>\n",
       "      <th>4053</th>\n",
       "      <td>GO:0019748</td>\n",
       "      <td>BDH2 CYP2A7 AKR1C1 ACMSD ATP7A ASIP DDT CYP3A4...</td>\n",
       "      <td>56</td>\n",
       "      <td>secondary metabolic process</td>\n",
       "    </tr>\n",
       "  </tbody>\n",
       "</table>\n",
       "</div>"
      ],
      "text/plain": [
       "               GO                                              Genes  \\\n",
       "6107   GO:0048627                           MEGF10 SDC1 WNT10B SOX15   \n",
       "1986   GO:1904888  CPLANE2 NEUROG1 GRHL2 TGFB3 EXT1 TGFBR2 TWIST1...   \n",
       "6624   GO:0019585  DCXR UGT1A9 UGT2B7 PRKCE UGT1A7 UGT2A3 SORD UG...   \n",
       "10759  GO:1902267                         AZIN1 OAZ2 OAZ1 AZIN2 OAZ3   \n",
       "4053   GO:0019748  BDH2 CYP2A7 AKR1C1 ACMSD ATP7A ASIP DDT CYP3A4...   \n",
       "\n",
       "       Gene_Count                                 Term_Description  \n",
       "6107            4                             myoblast development  \n",
       "1986           72              cranial skeletal system development  \n",
       "6624           26                    glucuronate metabolic process  \n",
       "10759           5  regulation of polyamine transmembrane transport  \n",
       "4053           56                      secondary metabolic process  "
      ]
     },
     "execution_count": 4,
     "metadata": {},
     "output_type": "execute_result"
    }
   ],
   "source": [
    "print(selected_go.describe())\n",
    "selected_go.head()"
   ]
  },
  {
   "cell_type": "code",
   "execution_count": 10,
   "metadata": {},
   "outputs": [
    {
     "name": "stdout",
     "output_type": "stream",
     "text": [
      "        Gene_Count\n",
      "count  1160.000000\n",
      "mean     18.095690\n",
      "std      21.995928\n",
      "min       3.000000\n",
      "25%       5.000000\n",
      "50%       9.000000\n",
      "75%      20.000000\n",
      "max     100.000000\n",
      "CC has 1160 of GO terms between 3 and 100\n",
      "        Gene_Count\n",
      "count  2414.000000\n",
      "mean     15.081607\n",
      "std      17.861081\n",
      "min       3.000000\n",
      "25%       4.000000\n",
      "50%       8.000000\n",
      "75%      18.000000\n",
      "max     100.000000\n",
      "MF has 2414 of GO terms between 3 and 100\n"
     ]
    },
    {
     "data": {
      "image/png": "[encoded data removed]",
      "text/plain": [
       "<Figure size 800x400 with 2 Axes>"
      ]
     },
     "metadata": {},
     "output_type": "display_data"
    },
    {
     "data": {
      "image/png": "[encoded data removed]",
      "text/plain": [
       "<Figure size 800x400 with 2 Axes>"
      ]
     },
     "metadata": {},
     "output_type": "display_data"
    }
   ],
   "source": [
    "## randomly select 1000 GO terms from the pool between 3-100 for CC and MF\n",
    "import random\n",
    "import pandas as pd\n",
    "import numpy as np\n",
    "import matplotlib.pyplot as plt\n",
    "\n",
    "SEED = 42\n",
    "min = 3\n",
    "max = 100\n",
    "for branch in ['CC', 'MF']:\n",
    "    go_terms = pd.read_csv(f'data/GO_term_analysis/CC_MF_branch/{branch}_go_terms.csv', sep = ',', index_col=0)\n",
    "    go_filtered = go_terms[(go_terms['Gene_Count'] >= min) & (go_terms['Gene_Count'] <= max)]\n",
    "    print(go_filtered.describe())\n",
    "    print(f'{branch} has {go_filtered.shape[0]} of GO terms between {min} and {max}')\n",
    "\n",
    "    # randomly select 1000 GO terms from the pool between min and max\n",
    "\n",
    "    selected_go = go_filtered.sample(n=1000, random_state=SEED)\n",
    "    assert selected_go.shape[0] == 1000\n",
    "    selected_go.to_csv(f'data/GO_term_analysis/CC_MF_branch/{branch}_1000_selected_go_terms.csv', index=False)\n",
    "\n",
    "    # quick check of the distribution of the selected GO terms\n",
    "    fig, (ax1, ax2) = plt.subplots(1,2, figsize=(8,4))\n",
    "    ax1.hist(go_filtered['Gene_Count'], bins=50)\n",
    "    ax2.hist(selected_go['Gene_Count'], bins=50)"
   ]
  },
  {
   "cell_type": "code",
   "execution_count": null,
   "metadata": {},
   "outputs": [],
   "source": []
  }
 ],
 "metadata": {
  "kernelspec": {
   "display_name": "llm",
   "language": "python",
   "name": "python3"
  },
  "language_info": {
   "codemirror_mode": {
    "name": "ipython",
    "version": 3
   },
   "file_extension": ".py",
   "mimetype": "text/x-python",
   "name": "python",
   "nbconvert_exporter": "python",
   "pygments_lexer": "ipython3",
   "version": "3.11.5"
  },
  "orig_nbformat": 4
 },
 "nbformat": 4,
 "nbformat_minor": 2
}

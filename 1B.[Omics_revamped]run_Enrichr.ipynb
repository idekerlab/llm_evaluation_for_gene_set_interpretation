{
 "cells": [
  {
   "cell_type": "raw",
   "id": "c64a0bfd-4de3-44dd-a77c-a72c7b47f645",
   "metadata": {},
   "source": [
    "runs Enrichr for 'omics gene set"
   ]
  },
  {
   "cell_type": "code",
   "execution_count": null,
   "id": "c155029f-b60c-44f3-a7a0-b64253493a2c",
   "metadata": {},
   "outputs": [],
   "source": [
    "# https://gseapy.readthedocs.io/en/latest/gseapy_example.html"
   ]
  },
  {
   "cell_type": "code",
   "execution_count": 1,
   "id": "96571de6-823d-4010-9b5c-949615ba060a",
   "metadata": {},
   "outputs": [],
   "source": [
    "%load_ext autoreload\n",
    "%autoreload 2\n",
    "import pandas as pd\n",
    "import gseapy as gp"
   ]
  },
  {
   "cell_type": "code",
   "execution_count": 2,
   "id": "3e522d64-5c7d-4335-baaa-804f1eeeaca6",
   "metadata": {},
   "outputs": [],
   "source": [
    "enrichr_adj_pval_thresh = 0.05"
   ]
  },
  {
   "cell_type": "code",
   "execution_count": 3,
   "id": "5467d3a5-6097-4a81-a0cd-a58b609bf5fb",
   "metadata": {},
   "outputs": [],
   "source": [
    "pd.set_option('display.max_columns', None)"
   ]
  },
  {
   "cell_type": "code",
   "execution_count": 4,
   "id": "08f1ef55-04a1-4ba9-9331-34ace90805c1",
   "metadata": {},
   "outputs": [],
   "source": [
    "dbs = gp.get_library_name()\n"
   ]
  },
  {
   "cell_type": "code",
   "execution_count": 5,
   "id": "60dd4f4c-31bf-4b29-bd8a-62446e9b0624",
   "metadata": {},
   "outputs": [],
   "source": [
    "go_bp = gp.get_library(name = 'GO_Biological_Process_2023', organism = 'human')"
   ]
  },
  {
   "cell_type": "markdown",
   "id": "c4006f12-345b-48b7-8880-4b54e8d9f8b5",
   "metadata": {},
   "source": [
    "## Read in naming file"
   ]
  },
  {
   "cell_type": "code",
   "execution_count": 6,
   "id": "7111f86e-d3b5-4424-ab64-926e4a707e5d",
   "metadata": {},
   "outputs": [],
   "source": [
    "inputFile = 'data/omics_revamped_LLM_DF.tsv'"
   ]
  },
  {
   "cell_type": "code",
   "execution_count": 7,
   "id": "9bda9e33-1164-4b09-aa44-bb71cee2e30d",
   "metadata": {},
   "outputs": [],
   "source": [
    "outputFile = 'data/omics_revamped_LLM_Enrichr_DF.tsv' "
   ]
  },
  {
   "cell_type": "code",
   "execution_count": 8,
   "id": "671d9293-4553-4ed4-9799-114961eb5cbf",
   "metadata": {},
   "outputs": [],
   "source": [
    "genesets_LLM = pd.read_csv(inputFile, sep = \"\\t\") "
   ]
  },
  {
   "cell_type": "code",
   "execution_count": 9,
   "id": "b0a289a3-3eb3-44db-b8d4-b4bdd281d136",
   "metadata": {
    "tags": []
   },
   "outputs": [],
   "source": [
    "# genesets_LLM.GeneSetID.unique()"
   ]
  },
  {
   "cell_type": "code",
   "execution_count": 10,
   "id": "6f4be3c8-0fdc-4b59-895b-d1016ba7db52",
   "metadata": {},
   "outputs": [],
   "source": [
    "# Remove \"HALLMARK_\" prefix for MSigDB gene sets\n",
    "genesets_LLM['GeneSetName'] = genesets_LLM['GeneSetName'].str.removeprefix(\"HALLMARK_\").str.replace('_', ' ')\n"
   ]
  },
  {
   "cell_type": "code",
   "execution_count": 12,
   "id": "c5663eb2-4ebe-45ef-8d58-bbf155d8a9e8",
   "metadata": {},
   "outputs": [],
   "source": [
    "columnsToKeep = ['Source', 'GeneSetID', 'GeneSetName', 'GeneList', 'n_Genes', 'LLM Name',\n",
    "       'LLM Analysis', 'Score']\n",
    "geneSeparator = \" \""
   ]
  },
  {
   "cell_type": "code",
   "execution_count": 13,
   "id": "44cbc132-9812-4652-a2d4-ad2c313fcfeb",
   "metadata": {},
   "outputs": [],
   "source": [
    "LLM_DF = genesets_LLM"
   ]
  },
  {
   "cell_type": "code",
   "execution_count": 14,
   "id": "aaaf87a1-171f-4b94-a7f1-70a75b3cea17",
   "metadata": {},
   "outputs": [],
   "source": [
    "nGeneSets = LLM_DF.shape[0]"
   ]
  },
  {
   "cell_type": "code",
   "execution_count": 16,
   "id": "75409c4f-0bfd-48de-afc1-292a0fce9da1",
   "metadata": {},
   "outputs": [],
   "source": [
    "LLM_repeated_DF = LLM_DF[LLM_DF[['Source', 'GeneSetID', 'GeneSetName', 'GeneList']].duplicated() == True]\n"
   ]
  },
  {
   "cell_type": "markdown",
   "id": "f66485e2-8b7e-4feb-b638-d5c893b92f46",
   "metadata": {
    "tags": []
   },
   "source": [
    "## Go through each system and run Enrichr "
   ]
  },
  {
   "cell_type": "code",
   "execution_count": 18,
   "id": "ea2d86be-1de9-4019-8e4f-a5269a4b851f",
   "metadata": {},
   "outputs": [],
   "source": [
    "# Each system will have multiple rows"
   ]
  },
  {
   "cell_type": "code",
   "execution_count": 19,
   "id": "4536e230-bab3-433d-a0d1-33969a9d4e3e",
   "metadata": {},
   "outputs": [],
   "source": [
    "additionalCols = ['Rank', 'Overlap', 'P-value', 'Adjusted P-value', 'Genes', 'Term', 'GO term', 'GO ID' ]"
   ]
  },
  {
   "cell_type": "code",
   "execution_count": 20,
   "id": "f8897f4d-be79-401d-826c-63173909dba9",
   "metadata": {},
   "outputs": [],
   "source": [
    "expandedColumnsToKeep =columnsToKeep;\n",
    "expandedColumnsToKeep.extend(additionalCols)"
   ]
  },
  {
   "cell_type": "code",
   "execution_count": 21,
   "id": "63805a5e-982a-4ff4-8011-1cec7684452f",
   "metadata": {},
   "outputs": [],
   "source": [
    "expanded_LLM_genes_DF = pd.DataFrame(columns=expandedColumnsToKeep)"
   ]
  },
  {
   "cell_type": "code",
   "execution_count": 22,
   "id": "1bcc2bdc-42f9-44fa-bca3-9c39076e1c8f",
   "metadata": {},
   "outputs": [],
   "source": [
    "genesCol = 'GeneList'"
   ]
  },
  {
   "cell_type": "code",
   "execution_count": 23,
   "id": "9368f41a-5b50-461a-8f2d-10214e61d92f",
   "metadata": {
    "collapsed": true,
    "jupyter": {
     "outputs_hidden": true
    },
    "tags": []
   },
   "outputs": [
    {
     "name": "stdout",
     "output_type": "stream",
     "text": [
      "0\n",
      "1\n",
      "2\n",
      "3\n",
      "4\n",
      "5\n",
      "6\n",
      "7\n",
      "8\n",
      "9\n",
      "10\n",
      "11\n",
      "12\n",
      "13\n",
      "14\n",
      "15\n",
      "16\n",
      "17\n",
      "18\n",
      "19\n",
      "20\n",
      "21\n",
      "22\n",
      "23\n",
      "24\n",
      "25\n",
      "26\n",
      "27\n",
      "28\n",
      "29\n",
      "30\n",
      "31\n",
      "32\n",
      "33\n",
      "34\n",
      "35\n",
      "36\n",
      "37\n",
      "38\n",
      "39\n",
      "40\n",
      "41\n",
      "42\n",
      "43\n",
      "44\n",
      "45\n",
      "46\n",
      "47\n",
      "48\n",
      "49\n",
      "50\n",
      "51\n",
      "52\n",
      "53\n",
      "54\n",
      "55\n",
      "56\n",
      "57\n",
      "58\n",
      "59\n",
      "60\n",
      "61\n",
      "62\n",
      "63\n",
      "64\n",
      "65\n",
      "66\n",
      "67\n",
      "68\n",
      "69\n",
      "70\n",
      "71\n",
      "72\n",
      "73\n",
      "74\n",
      "75\n",
      "76\n",
      "77\n",
      "78\n",
      "79\n",
      "80\n",
      "81\n",
      "82\n",
      "83\n",
      "84\n",
      "85\n",
      "86\n",
      "87\n",
      "88\n",
      "89\n",
      "90\n",
      "91\n",
      "92\n",
      "93\n",
      "94\n",
      "95\n",
      "96\n",
      "97\n",
      "98\n",
      "99\n",
      "100\n",
      "101\n",
      "102\n",
      "103\n",
      "104\n",
      "105\n",
      "106\n",
      "107\n",
      "108\n",
      "109\n",
      "110\n",
      "111\n",
      "112\n",
      "113\n",
      "114\n",
      "115\n",
      "116\n",
      "117\n",
      "118\n",
      "119\n",
      "120\n",
      "121\n",
      "122\n",
      "123\n",
      "124\n",
      "125\n",
      "126\n",
      "127\n",
      "128\n",
      "129\n",
      "130\n",
      "131\n",
      "132\n",
      "133\n",
      "134\n",
      "135\n",
      "136\n",
      "137\n",
      "138\n",
      "139\n",
      "140\n",
      "141\n",
      "142\n",
      "143\n",
      "144\n",
      "145\n",
      "146\n",
      "147\n",
      "148\n",
      "149\n",
      "150\n",
      "151\n",
      "152\n",
      "153\n",
      "154\n",
      "155\n",
      "156\n",
      "157\n",
      "158\n",
      "159\n",
      "160\n",
      "161\n",
      "162\n",
      "163\n",
      "164\n",
      "165\n",
      "166\n",
      "167\n",
      "168\n",
      "169\n",
      "170\n",
      "171\n",
      "172\n",
      "173\n",
      "174\n",
      "175\n",
      "176\n",
      "177\n",
      "178\n",
      "179\n",
      "180\n",
      "181\n",
      "182\n",
      "183\n",
      "184\n",
      "185\n",
      "186\n",
      "187\n",
      "188\n",
      "189\n",
      "190\n",
      "191\n",
      "192\n",
      "193\n",
      "194\n",
      "195\n",
      "196\n",
      "197\n",
      "198\n",
      "199\n",
      "200\n",
      "201\n",
      "202\n",
      "203\n",
      "204\n",
      "205\n",
      "206\n",
      "207\n",
      "208\n",
      "209\n",
      "210\n",
      "211\n",
      "212\n",
      "213\n",
      "214\n",
      "215\n",
      "216\n",
      "217\n",
      "218\n",
      "219\n",
      "220\n",
      "221\n",
      "222\n",
      "223\n",
      "224\n",
      "225\n",
      "226\n",
      "227\n",
      "228\n",
      "229\n",
      "230\n",
      "231\n",
      "232\n",
      "233\n",
      "234\n",
      "235\n",
      "236\n",
      "237\n",
      "238\n",
      "239\n",
      "240\n",
      "241\n",
      "242\n",
      "243\n",
      "244\n",
      "245\n",
      "246\n",
      "247\n",
      "248\n",
      "249\n",
      "250\n",
      "251\n",
      "252\n",
      "253\n",
      "254\n",
      "255\n",
      "256\n",
      "257\n",
      "258\n",
      "259\n",
      "260\n",
      "261\n",
      "262\n",
      "263\n",
      "264\n",
      "265\n",
      "266\n",
      "267\n",
      "268\n",
      "269\n",
      "270\n",
      "271\n",
      "272\n",
      "273\n",
      "274\n",
      "275\n",
      "276\n",
      "277\n",
      "278\n",
      "279\n",
      "280\n",
      "281\n",
      "282\n",
      "283\n",
      "284\n",
      "285\n",
      "286\n",
      "287\n",
      "288\n",
      "289\n",
      "290\n",
      "291\n",
      "292\n",
      "293\n",
      "294\n",
      "295\n",
      "296\n",
      "297\n",
      "298\n",
      "299\n"
     ]
    }
   ],
   "source": [
    "for geneSetInd in range(nGeneSets):\n",
    "    print(geneSetInd)\n",
    "    geneSetRow = LLM_DF.iloc[geneSetInd]\n",
    "    geneSetGenes = geneSetRow[genesCol].split(geneSeparator)\n",
    "\n",
    "    # Perform enrichment analysis\n",
    "    enr = gp.enrichr(gene_list=geneSetGenes, # or \"./tests/data/gene_list.txt\",\n",
    "                 gene_sets=['GO_Biological_Process_2023'],\n",
    "                 organism='human', # don't forget to set organism to the one you desired! e.g. Yeast\n",
    "                 outdir=None, # don't write to disk\n",
    "                )\n",
    "    \n",
    "    # threshold\n",
    "    # sigRes_DF =  enr.results.loc[enr.results['Adjusted P-value'] <=0.1]\n",
    "    sigRes_DF = enr.results # remove thresholding, because want a name for each one\n",
    "    sigRes_DF = sigRes_DF.sort_values('Adjusted P-value')\n",
    "    if sigRes_DF.shape[0] == 0:\n",
    "        \n",
    "        print([geneSetInd, ' has not enirchment'])\n",
    "        #continue # skip to next gene set\n",
    "        sigRes_DF.loc[0, ['Term', 'GO term', 'GO ID', 'nothing']] = 'NaN'\n",
    "        sigRes_DF.loc[0, ['Rank']]  = 1\n",
    "        sigRes_DF.loc[0, ['Overlap']]  = 0\n",
    "        sigRes_DF.loc[0, ['P-value']]  = 1\n",
    "        sigRes_DF.loc[0, ['Adjusted P-value']]  = 1\n",
    "        sigRes_DF.loc[0, ['Genes']]  = ''\n",
    "        \n",
    "    else:\n",
    "        expandedCols = sigRes_DF[\"Term\"].str.split('(', expand = True)\n",
    "        \n",
    "        if expandedCols.shape[1] == 3:\n",
    "            sigRes_DF[['GO term', 'GO ID', 'nothing']] = expandedCols\n",
    "        else: # ==2\n",
    "            sigRes_DF[['GO term', 'GO ID']] = expandedCols\n",
    "\n",
    "        sigRes_DF[['GO ID', 'nothing']] = sigRes_DF[\"GO ID\"].str.split(')', expand = True)\n",
    "        \n",
    "\n",
    "        # Get ranking of enriched GO terms\n",
    "        sigRes_DF['Rank'] = sigRes_DF.reset_index().index\n",
    "\n",
    "        if sigRes_DF.loc[0, 'Adjusted P-value'] > enrichr_adj_pval_thresh: # nothing significant\n",
    "            sigRes_DF = sigRes_DF.loc[[0],:]\n",
    "        else: # there are sig. terms\n",
    "            sigRes_DF = sigRes_DF[sigRes_DF['Adjusted P-value'] <=enrichr_adj_pval_thresh]\n",
    "        \n",
    "            \n",
    "        \n",
    "    \n",
    "    # Doing what should be a simple colbind \n",
    "    geneSetRow_DF = geneSetRow.to_frame().T\n",
    "    geneSetRow_repeated_DF = geneSetRow_DF.loc[geneSetRow_DF.index.repeat(sigRes_DF.shape[0])]\n",
    "    geneSetRow_repeated_DF = geneSetRow_repeated_DF.reset_index()\n",
    "    \n",
    "    # system_Row_sigRes = systemRow_repeated_DF.join(sigRes_DF)\n",
    "    geneSetRowRow_sigRes = pd.concat([geneSetRow_repeated_DF, sigRes_DF],axis=1)\n",
    "    \n",
    "    # Doing what should be a simple  rowbind\n",
    "    if expanded_LLM_genes_DF.shape[0] == 0:\n",
    "        expanded_LLM_genes_DF = geneSetRowRow_sigRes[expandedColumnsToKeep]\n",
    "    else:\n",
    "        expanded_LLM_genes_DF =  pd.concat([expanded_LLM_genes_DF, geneSetRowRow_sigRes[expandedColumnsToKeep]],axis=0)\n",
    "    \n",
    "    if (geneSetInd%10 == 1):\n",
    "        expanded_LLM_genes_DF.to_csv(outputFile, sep = \"\\t\") # Save to not loose work"
   ]
  },
  {
   "cell_type": "code",
   "execution_count": null,
   "id": "bc61e3c9-5474-4a1b-a851-a083b9d47bdb",
   "metadata": {},
   "outputs": [],
   "source": []
  },
  {
   "cell_type": "code",
   "execution_count": 24,
   "id": "3ec148a9-210c-4a0e-a237-6e6f48adeb23",
   "metadata": {},
   "outputs": [],
   "source": [
    "def get_goterm_genes(goterm):\n",
    "    if goterm in go_bp:\n",
    "        return \" \".join(go_bp[goterm])\n",
    "    else:\n",
    "        return \"\""
   ]
  },
  {
   "cell_type": "code",
   "execution_count": 25,
   "id": "dfb453f7-761a-4f0b-bf4f-92eb45ce878f",
   "metadata": {},
   "outputs": [],
   "source": [
    "expanded_LLM_genes_DF['GO_term_genes'] = [get_goterm_genes(goterm) for goterm in expanded_LLM_genes_DF['Term']]"
   ]
  },
  {
   "cell_type": "code",
   "execution_count": 26,
   "id": "0390f34d-f3c1-4957-a556-7c7c4525d616",
   "metadata": {},
   "outputs": [],
   "source": [
    "expanded_LLM_genes_DF.to_csv(outputFile, sep = \"\\t\") # Too large "
   ]
  },
  {
   "cell_type": "code",
   "execution_count": 28,
   "id": "f7868462-e893-482d-9527-fe98e39346c0",
   "metadata": {},
   "outputs": [],
   "source": [
    "expanded_LLM_genes_copy_DF = expanded_LLM_genes_DF;"
   ]
  },
  {
   "cell_type": "code",
   "execution_count": 29,
   "id": "2f8651a1-e604-4ff6-bc89-2188e46a2ee4",
   "metadata": {},
   "outputs": [],
   "source": [
    "def select_min_rows(df, group_vars, min_var):\n",
    "    # Convert the target column to numeric, non-numeric values become NaN\n",
    "    df[min_var] = pd.to_numeric(df[min_var], errors='coerce')\n",
    "\n",
    "    # Reset index of the DataFrame\n",
    "    df_reset = df.reset_index()\n",
    "\n",
    "    # Get the indices of the minimum values in the grouped DataFrame\n",
    "    min_indices = df_reset.groupby(group_vars)[min_var].idxmin()\n",
    "\n",
    "    # Use these indices to select rows from the reset DataFrame\n",
    "    return df_reset.loc[min_indices].set_index('index')"
   ]
  },
  {
   "cell_type": "code",
   "execution_count": 30,
   "id": "f5661b7c-6fa4-4d06-a047-fdef347b5f09",
   "metadata": {
    "tags": []
   },
   "outputs": [],
   "source": [
    "reduced_LLM_genes_DF = select_min_rows(expanded_LLM_genes_copy_DF, ['Source', 'GeneSetID', 'GeneSetName', 'GeneList'], 'Adjusted P-value')"
   ]
  },
  {
   "cell_type": "code",
   "execution_count": 32,
   "id": "378a746c-44f2-4f6d-885a-4e704251a0e7",
   "metadata": {},
   "outputs": [],
   "source": [
    "reduced_LLM_genes_DF.to_csv('data/omics_revamped_LLM_Enrichr_reduced_DF.tsv' , sep = \"\\t\")"
   ]
  },
  {
   "cell_type": "code",
   "execution_count": 33,
   "id": "6baac4ca-be7e-405c-ad71-21352906dfe7",
   "metadata": {},
   "outputs": [
    {
     "data": {
      "text/plain": [
       "set()"
      ]
     },
     "execution_count": 33,
     "metadata": {},
     "output_type": "execute_result"
    }
   ],
   "source": [
    "set(LLM_DF.GeneSetID.to_list()).difference(set(reduced_LLM_genes_DF.GeneSetID.to_list()))"
   ]
  },
  {
   "cell_type": "code",
   "execution_count": 34,
   "id": "59d6b599-2906-4d63-935f-6cf364c38840",
   "metadata": {},
   "outputs": [
    {
     "data": {
      "text/html": [
       "<div>\n",
       "<style scoped>\n",
       "    .dataframe tbody tr th:only-of-type {\n",
       "        vertical-align: middle;\n",
       "    }\n",
       "\n",
       "    .dataframe tbody tr th {\n",
       "        vertical-align: top;\n",
       "    }\n",
       "\n",
       "    .dataframe thead th {\n",
       "        text-align: right;\n",
       "    }\n",
       "</style>\n",
       "<table border=\"1\" class=\"dataframe\">\n",
       "  <thead>\n",
       "    <tr style=\"text-align: right;\">\n",
       "      <th></th>\n",
       "      <th>Source</th>\n",
       "      <th>GeneSetID</th>\n",
       "      <th>GeneSetName</th>\n",
       "      <th>GeneList</th>\n",
       "      <th>n_Genes</th>\n",
       "      <th>LLM Name</th>\n",
       "      <th>LLM Analysis</th>\n",
       "      <th>Score</th>\n",
       "      <th>Rank</th>\n",
       "      <th>Overlap</th>\n",
       "      <th>P-value</th>\n",
       "      <th>Adjusted P-value</th>\n",
       "      <th>Genes</th>\n",
       "      <th>Term</th>\n",
       "      <th>GO term</th>\n",
       "      <th>GO ID</th>\n",
       "      <th>GO_term_genes</th>\n",
       "    </tr>\n",
       "    <tr>\n",
       "      <th>index</th>\n",
       "      <th></th>\n",
       "      <th></th>\n",
       "      <th></th>\n",
       "      <th></th>\n",
       "      <th></th>\n",
       "      <th></th>\n",
       "      <th></th>\n",
       "      <th></th>\n",
       "      <th></th>\n",
       "      <th></th>\n",
       "      <th></th>\n",
       "      <th></th>\n",
       "      <th></th>\n",
       "      <th></th>\n",
       "      <th></th>\n",
       "      <th></th>\n",
       "      <th></th>\n",
       "    </tr>\n",
       "  </thead>\n",
       "  <tbody>\n",
       "  </tbody>\n",
       "</table>\n",
       "</div>"
      ],
      "text/plain": [
       "Empty DataFrame\n",
       "Columns: [Source, GeneSetID, GeneSetName, GeneList, n_Genes, LLM Name, LLM Analysis, Score, Rank, Overlap, P-value, Adjusted P-value, Genes, Term, GO term, GO ID, GO_term_genes]\n",
       "Index: []"
      ]
     },
     "execution_count": 34,
     "metadata": {},
     "output_type": "execute_result"
    }
   ],
   "source": [
    "# reduced_LLM_genes_DF[reduced_LLM_genes_DF[['Source', 'GeneSetID', 'GeneSetName', 'GeneList']].duplicated() == True]\n"
   ]
  },
  {
   "cell_type": "code",
   "execution_count": null,
   "id": "a1567471-ae53-4733-a905-1749aa8805cf",
   "metadata": {},
   "outputs": [],
   "source": []
  }
 ],
 "metadata": {
  "kernelspec": {
   "display_name": "llm_eval",
   "language": "python",
   "name": "llm_eval"
  },
  "language_info": {
   "codemirror_mode": {
    "name": "ipython",
    "version": 3
   },
   "file_extension": ".py",
   "mimetype": "text/x-python",
   "name": "python",
   "nbconvert_exporter": "python",
   "pygments_lexer": "ipython3",
   "version": "3.11.5"
  }
 },
 "nbformat": 4,
 "nbformat_minor": 5
}

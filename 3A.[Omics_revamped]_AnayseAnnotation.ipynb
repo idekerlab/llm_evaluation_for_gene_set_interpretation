{
 "cells": [
  {
   "cell_type": "code",
   "execution_count": 1,
   "id": "fa27e593-6e05-43b5-af14-5cdcbd477fc7",
   "metadata": {
    "collapsed": true,
    "jupyter": {
     "outputs_hidden": true
    },
    "tags": [],
    "vscode": {
     "languageId": "r"
    }
   },
   "outputs": [
    {
     "name": "stderr",
     "output_type": "stream",
     "text": [
      "── \u001b[1mAttaching core tidyverse packages\u001b[22m ──────────────────────── tidyverse 2.0.0 ──\n",
      "\u001b[32m✔\u001b[39m \u001b[34mdplyr    \u001b[39m 1.1.4     \u001b[32m✔\u001b[39m \u001b[34mreadr    \u001b[39m 2.1.5\n",
      "\u001b[32m✔\u001b[39m \u001b[34mforcats  \u001b[39m 1.0.0     \u001b[32m✔\u001b[39m \u001b[34mstringr  \u001b[39m 1.5.1\n",
      "\u001b[32m✔\u001b[39m \u001b[34mggplot2  \u001b[39m 3.4.4     \u001b[32m✔\u001b[39m \u001b[34mtibble   \u001b[39m 3.2.1\n",
      "\u001b[32m✔\u001b[39m \u001b[34mlubridate\u001b[39m 1.9.3     \u001b[32m✔\u001b[39m \u001b[34mtidyr    \u001b[39m 1.3.0\n",
      "\u001b[32m✔\u001b[39m \u001b[34mpurrr    \u001b[39m 1.0.2     \n",
      "── \u001b[1mConflicts\u001b[22m ────────────────────────────────────────── tidyverse_conflicts() ──\n",
      "\u001b[31m✖\u001b[39m \u001b[34mdplyr\u001b[39m::\u001b[32marrange()\u001b[39m   masks \u001b[34mplyr\u001b[39m::arrange()\n",
      "\u001b[31m✖\u001b[39m \u001b[34mpurrr\u001b[39m::\u001b[32mcompact()\u001b[39m   masks \u001b[34mplyr\u001b[39m::compact()\n",
      "\u001b[31m✖\u001b[39m \u001b[34mdplyr\u001b[39m::\u001b[32mcount()\u001b[39m     masks \u001b[34mplyr\u001b[39m::count()\n",
      "\u001b[31m✖\u001b[39m \u001b[34mdplyr\u001b[39m::\u001b[32mdesc()\u001b[39m      masks \u001b[34mplyr\u001b[39m::desc()\n",
      "\u001b[31m✖\u001b[39m \u001b[34mdplyr\u001b[39m::\u001b[32mfailwith()\u001b[39m  masks \u001b[34mplyr\u001b[39m::failwith()\n",
      "\u001b[31m✖\u001b[39m \u001b[34mdplyr\u001b[39m::\u001b[32mfilter()\u001b[39m    masks \u001b[34mstats\u001b[39m::filter()\n",
      "\u001b[31m✖\u001b[39m \u001b[34mdplyr\u001b[39m::\u001b[32mid()\u001b[39m        masks \u001b[34mplyr\u001b[39m::id()\n",
      "\u001b[31m✖\u001b[39m \u001b[34mdplyr\u001b[39m::\u001b[32mlag()\u001b[39m       masks \u001b[34mstats\u001b[39m::lag()\n",
      "\u001b[31m✖\u001b[39m \u001b[34mdplyr\u001b[39m::\u001b[32mmutate()\u001b[39m    masks \u001b[34mplyr\u001b[39m::mutate()\n",
      "\u001b[31m✖\u001b[39m \u001b[34mdplyr\u001b[39m::\u001b[32mrename()\u001b[39m    masks \u001b[34mplyr\u001b[39m::rename()\n",
      "\u001b[31m✖\u001b[39m \u001b[34mdplyr\u001b[39m::\u001b[32msummarise()\u001b[39m masks \u001b[34mplyr\u001b[39m::summarise()\n",
      "\u001b[31m✖\u001b[39m \u001b[34mdplyr\u001b[39m::\u001b[32msummarize()\u001b[39m masks \u001b[34mplyr\u001b[39m::summarize()\n",
      "\u001b[36mℹ\u001b[39m Use the conflicted package (\u001b[3m\u001b[34m<http://conflicted.r-lib.org/>\u001b[39m\u001b[23m) to force all conflicts to become errors\n",
      "\n",
      "Attaching package: ‘ggpubr’\n",
      "\n",
      "\n",
      "The following object is masked from ‘package:plyr’:\n",
      "\n",
      "    mutate\n",
      "\n",
      "\n"
     ]
    }
   ],
   "source": [
    "library(plyr, quietly = TRUE)\n",
    "library(tidyverse, quietly = TRUE)\n",
    "library(ggpubr)"
   ]
  },
  {
   "cell_type": "code",
   "execution_count": 2,
   "id": "ad6b72ff-10d3-4929-ae41-7177f4952a9c",
   "metadata": {
    "vscode": {
     "languageId": "r"
    }
   },
   "outputs": [],
   "source": [
    "LLM_score_thresh = 0.8\n",
    "enrichr_adj_pval_thresh = 0.05\n",
    "enrichr_JI_thresh = 0.2"
   ]
  },
  {
   "cell_type": "code",
   "execution_count": 3,
   "id": "ca5c0967-332d-4a2a-85c6-a8c93df69014",
   "metadata": {
    "tags": [],
    "vscode": {
     "languageId": "r"
    }
   },
   "outputs": [
    {
     "name": "stderr",
     "output_type": "stream",
     "text": [
      "\u001b[1m\u001b[22mNew names:\n",
      "\u001b[36m•\u001b[39m `` -> `...1`\n",
      "\u001b[1mRows: \u001b[22m\u001b[34m11310\u001b[39m \u001b[1mColumns: \u001b[22m\u001b[34m20\u001b[39m\n",
      "\u001b[36m──\u001b[39m \u001b[1mColumn specification\u001b[22m \u001b[36m────────────────────────────────────────────────────────\u001b[39m\n",
      "\u001b[1mDelimiter:\u001b[22m \"\\t\"\n",
      "\u001b[31mchr\u001b[39m (12): Source, GeneSetID, GeneSetName, GeneList, LLM Name, LLM Analysis, ...\n",
      "\u001b[32mdbl\u001b[39m  (8): ...1, Unnamed: 0, n_Genes, Score, Rank, P-value, Adjusted P-value,...\n",
      "\n",
      "\u001b[36mℹ\u001b[39m Use `spec()` to retrieve the full column specification for this data.\n",
      "\u001b[36mℹ\u001b[39m Specify the column types or set `show_col_types = FALSE` to quiet this message.\n"
     ]
    }
   ],
   "source": [
    "LLM_genes_DF = read_delim(file = \"data/omics_revamped_LLM_Enrichr_simVals_DF.tsv\", delim = \"\\t\")"
   ]
  },
  {
   "cell_type": "code",
   "execution_count": 4,
   "id": "3e7d9608-9c4c-4e1b-badf-5fa7f05425cd",
   "metadata": {
    "vscode": {
     "languageId": "r"
    }
   },
   "outputs": [
    {
     "data": {
      "text/html": [
       "<style>\n",
       ".list-inline {list-style: none; margin:0; padding: 0}\n",
       ".list-inline>li {display: inline-block}\n",
       ".list-inline>li:not(:last-child)::after {content: \"\\00b7\"; padding: 0 .5ex}\n",
       "</style>\n",
       "<ol class=list-inline><li>11310</li><li>20</li></ol>\n"
      ],
      "text/latex": [
       "\\begin{enumerate*}\n",
       "\\item 11310\n",
       "\\item 20\n",
       "\\end{enumerate*}\n"
      ],
      "text/markdown": [
       "1. 11310\n",
       "2. 20\n",
       "\n",
       "\n"
      ],
      "text/plain": [
       "[1] 11310    20"
      ]
     },
     "metadata": {},
     "output_type": "display_data"
    }
   ],
   "source": [
    "dim(LLM_genes_DF)"
   ]
  },
  {
   "cell_type": "code",
   "execution_count": 5,
   "id": "de7fa0db-9bd5-4a98-b787-cfcc47c8248b",
   "metadata": {
    "vscode": {
     "languageId": "r"
    }
   },
   "outputs": [],
   "source": [
    "get_JI = function(GeneList, enrichr_genes){\n",
    "    # assume separation is the same\n",
    "    geneSetGenes = str_split(string = GeneList, pattern = \" \")[[1]]\n",
    "    enrichRGenes = str_split(string = enrichr_genes, pattern = \" \")[[1]]\n",
    "    JI = length(intersect(geneSetGenes, enrichRGenes))/ length(union(geneSetGenes, enrichRGenes))\n",
    "    \n",
    "    return(JI)\n",
    "    }   "
   ]
  },
  {
   "cell_type": "code",
   "execution_count": 6,
   "id": "61077a14-1a29-450f-a3f3-968b63a3806f",
   "metadata": {
    "vscode": {
     "languageId": "r"
    }
   },
   "outputs": [],
   "source": [
    "LLM_genes_DF = LLM_genes_DF %>%\n",
    "rowwise() %>%\n",
    "mutate(enrichr_JI = get_JI(GeneList, GO_term_genes))"
   ]
  },
  {
   "cell_type": "code",
   "execution_count": null,
   "id": "ad0f0bad-fe4d-474e-8894-243ecd4a01ed",
   "metadata": {
    "tags": [],
    "vscode": {
     "languageId": "r"
    }
   },
   "outputs": [],
   "source": [
    "#LLM_genes_reduced_DF = LLM_genes_DF %>%\n",
    "#group_by(\"Source\", \"GeneSetID\", \"GeneSetName\")"
   ]
  },
  {
   "cell_type": "code",
   "execution_count": 7,
   "id": "98f9d7c7-0d04-4f11-af22-2434eae6f24f",
   "metadata": {
    "tags": [],
    "vscode": {
     "languageId": "r"
    }
   },
   "outputs": [],
   "source": [
    "## New 240613\n",
    "reduced_LLM_genes_orig_DF = LLM_genes_DF %>%\n",
    "group_by(Source, GeneSetID, GeneSetName, GeneList) %>%\n",
    "arrange(`Adjusted P-value`) %>%\n",
    "filter(((n() > 1) & (enrichr_JI >= enrichr_JI_thresh) ) |\n",
    "       (`Adjusted P-value` > enrichr_adj_pval_thresh) |\n",
    "       (`Adjusted P-value` <= enrichr_adj_pval_thresh)) %>%\n",
    "slice(1)\n",
    "\n",
    "#filter() %>%\n",
    "#arrange(`Adjusted P-value`) %>%\n",
    "#slice(1)\n"
   ]
  },
  {
   "cell_type": "code",
   "execution_count": 8,
   "id": "415d22d7-860a-4abf-8f57-b1bb5253a18a",
   "metadata": {
    "vscode": {
     "languageId": "r"
    }
   },
   "outputs": [
    {
     "data": {
      "text/html": [
       "<style>\n",
       ".list-inline {list-style: none; margin:0; padding: 0}\n",
       ".list-inline>li {display: inline-block}\n",
       ".list-inline>li:not(:last-child)::after {content: \"\\00b7\"; padding: 0 .5ex}\n",
       "</style>\n",
       "<ol class=list-inline><li>300</li><li>21</li></ol>\n"
      ],
      "text/latex": [
       "\\begin{enumerate*}\n",
       "\\item 300\n",
       "\\item 21\n",
       "\\end{enumerate*}\n"
      ],
      "text/markdown": [
       "1. 300\n",
       "2. 21\n",
       "\n",
       "\n"
      ],
      "text/plain": [
       "[1] 300  21"
      ]
     },
     "metadata": {},
     "output_type": "display_data"
    }
   ],
   "source": [
    "dim(reduced_LLM_genes_orig_DF)"
   ]
  },
  {
   "cell_type": "code",
   "execution_count": null,
   "id": "a90881a8-745e-4867-8d24-ddfdbf69626c",
   "metadata": {
    "vscode": {
     "languageId": "r"
    }
   },
   "outputs": [],
   "source": [
    "## Original used in paper\n",
    "# reduced_LLM_genes_orig_DF = LLM_genes_DF %>%\n",
    "# group_by(Source, GeneSetID, GeneSetName, GeneList) %>%\n",
    "# slice(which.max(enrichr_JI))"
   ]
  },
  {
   "cell_type": "code",
   "execution_count": null,
   "id": "26abcd54-3d54-423b-ae1e-43a538272b32",
   "metadata": {
    "vscode": {
     "languageId": "r"
    }
   },
   "outputs": [],
   "source": [
    "dim(reduced_LLM_genes_orig_DF)"
   ]
  },
  {
   "cell_type": "code",
   "execution_count": 9,
   "id": "37bddf44-5cee-4122-a002-a94cb79cb001",
   "metadata": {
    "vscode": {
     "languageId": "r"
    }
   },
   "outputs": [],
   "source": [
    "reduced_LLM_genes_DF = reduced_LLM_genes_orig_DF %>%\n",
    "rowwise() %>%\n",
    "mutate(enrichr_JI = get_JI(GeneList, GO_term_genes)) %>%\n",
    "mutate(LLM_success_TF = ifelse(Score < 0.8, FALSE, TRUE),\n",
    "       enrichr_success_TF = ifelse(((`Adjusted P-value` > enrichr_adj_pval_thresh) | (enrichr_JI < enrichr_JI_thresh)), FALSE, TRUE))"
   ]
  },
  {
   "cell_type": "code",
   "execution_count": 10,
   "id": "011933cc-c697-4d8b-a3b4-1dc6a9bd137d",
   "metadata": {
    "vscode": {
     "languageId": "r"
    }
   },
   "outputs": [],
   "source": [
    "write_delim(x = reduced_LLM_genes_DF, file = \"data/omics_revamped_LLM_Enrichr_simVals_failure_240613_firstJI_DF.tsv\", delim = \"\\t\")"
   ]
  },
  {
   "cell_type": "code",
   "execution_count": null,
   "id": "26ece7ae-bc33-4f52-a05e-bb9b655c9c78",
   "metadata": {
    "vscode": {
     "languageId": "r"
    }
   },
   "outputs": [],
   "source": []
  },
  {
   "cell_type": "code",
   "execution_count": null,
   "id": "fe3511e7-1ab6-4f77-baad-c779155e7cd6",
   "metadata": {
    "vscode": {
     "languageId": "r"
    }
   },
   "outputs": [],
   "source": [
    "reduced_LLM_genes_DF = read_delim(file = \"data/omics_revamped_LLM_Enrichr_simVals_failure_240613_firstJI_DF.tsv\", delim = \"\\t\")"
   ]
  },
  {
   "cell_type": "code",
   "execution_count": 11,
   "id": "86136e20-1647-4d07-b384-9aad2cf5bd8e",
   "metadata": {
    "vscode": {
     "languageId": "r"
    }
   },
   "outputs": [],
   "source": [
    "reduced_LLM_genes_DF = reduced_LLM_genes_DF %>%\n",
    "mutate(enrichr_adj_pVal = `Adjusted P-value`)"
   ]
  },
  {
   "cell_type": "code",
   "execution_count": 12,
   "id": "eaa28c7a-804f-4408-994f-cad9b04c1f9b",
   "metadata": {
    "vscode": {
     "languageId": "r"
    }
   },
   "outputs": [
    {
     "data": {
      "text/plain": [
       "              Source\n",
       "LLM_success_TF L1000 NeST Viral_Infections\n",
       "         FALSE    80   46               41\n",
       "         TRUE     46   80                7"
      ]
     },
     "metadata": {},
     "output_type": "display_data"
    }
   ],
   "source": [
    "table(reduced_LLM_genes_DF[,c(\"LLM_success_TF\", \"Source\")])"
   ]
  },
  {
   "cell_type": "code",
   "execution_count": null,
   "id": "5f38229d-844f-4cab-b481-c6c0868bdd2a",
   "metadata": {
    "vscode": {
     "languageId": "r"
    }
   },
   "outputs": [],
   "source": []
  }
 ],
 "metadata": {
  "kernelspec": {
   "display_name": "R",
   "language": "R",
   "name": "r"
  },
  "language_info": {
   "codemirror_mode": "r",
   "file_extension": ".r",
   "mimetype": "text/x-r-source",
   "name": "R",
   "pygments_lexer": "r",
   "version": "4.3.2"
  }
 },
 "nbformat": 4,
 "nbformat_minor": 5
}

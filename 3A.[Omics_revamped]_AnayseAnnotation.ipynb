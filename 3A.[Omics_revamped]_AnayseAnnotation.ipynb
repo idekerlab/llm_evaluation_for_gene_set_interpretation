{
 "cells": [
  {
   "cell_type": "code",
   "execution_count": 1,
   "id": "fa27e593-6e05-43b5-af14-5cdcbd477fc7",
   "metadata": {
    "tags": [],
    "vscode": {
     "languageId": "r"
    }
   },
   "outputs": [
    {
     "name": "stderr",
     "output_type": "stream",
     "text": [
      "── \u001b[1mAttaching core tidyverse packages\u001b[22m ──────────────────────── tidyverse 2.0.0 ──\n",
      "\u001b[32m✔\u001b[39m \u001b[34mdplyr    \u001b[39m 1.1.4     \u001b[32m✔\u001b[39m \u001b[34mreadr    \u001b[39m 2.1.5\n",
      "\u001b[32m✔\u001b[39m \u001b[34mforcats  \u001b[39m 1.0.0     \u001b[32m✔\u001b[39m \u001b[34mstringr  \u001b[39m 1.5.1\n",
      "\u001b[32m✔\u001b[39m \u001b[34mggplot2  \u001b[39m 3.4.4     \u001b[32m✔\u001b[39m \u001b[34mtibble   \u001b[39m 3.2.1\n",
      "\u001b[32m✔\u001b[39m \u001b[34mlubridate\u001b[39m 1.9.3     \u001b[32m✔\u001b[39m \u001b[34mtidyr    \u001b[39m 1.3.0\n",
      "\u001b[32m✔\u001b[39m \u001b[34mpurrr    \u001b[39m 1.0.2     \n",
      "── \u001b[1mConflicts\u001b[22m ────────────────────────────────────────── tidyverse_conflicts() ──\n",
      "\u001b[31m✖\u001b[39m \u001b[34mdplyr\u001b[39m::\u001b[32marrange()\u001b[39m   masks \u001b[34mplyr\u001b[39m::arrange()\n",
      "\u001b[31m✖\u001b[39m \u001b[34mpurrr\u001b[39m::\u001b[32mcompact()\u001b[39m   masks \u001b[34mplyr\u001b[39m::compact()\n",
      "\u001b[31m✖\u001b[39m \u001b[34mdplyr\u001b[39m::\u001b[32mcount()\u001b[39m     masks \u001b[34mplyr\u001b[39m::count()\n",
      "\u001b[31m✖\u001b[39m \u001b[34mdplyr\u001b[39m::\u001b[32mdesc()\u001b[39m      masks \u001b[34mplyr\u001b[39m::desc()\n",
      "\u001b[31m✖\u001b[39m \u001b[34mdplyr\u001b[39m::\u001b[32mfailwith()\u001b[39m  masks \u001b[34mplyr\u001b[39m::failwith()\n",
      "\u001b[31m✖\u001b[39m \u001b[34mdplyr\u001b[39m::\u001b[32mfilter()\u001b[39m    masks \u001b[34mstats\u001b[39m::filter()\n",
      "\u001b[31m✖\u001b[39m \u001b[34mdplyr\u001b[39m::\u001b[32mid()\u001b[39m        masks \u001b[34mplyr\u001b[39m::id()\n",
      "\u001b[31m✖\u001b[39m \u001b[34mdplyr\u001b[39m::\u001b[32mlag()\u001b[39m       masks \u001b[34mstats\u001b[39m::lag()\n",
      "\u001b[31m✖\u001b[39m \u001b[34mdplyr\u001b[39m::\u001b[32mmutate()\u001b[39m    masks \u001b[34mplyr\u001b[39m::mutate()\n",
      "\u001b[31m✖\u001b[39m \u001b[34mdplyr\u001b[39m::\u001b[32mrename()\u001b[39m    masks \u001b[34mplyr\u001b[39m::rename()\n",
      "\u001b[31m✖\u001b[39m \u001b[34mdplyr\u001b[39m::\u001b[32msummarise()\u001b[39m masks \u001b[34mplyr\u001b[39m::summarise()\n",
      "\u001b[31m✖\u001b[39m \u001b[34mdplyr\u001b[39m::\u001b[32msummarize()\u001b[39m masks \u001b[34mplyr\u001b[39m::summarize()\n",
      "\u001b[36mℹ\u001b[39m Use the conflicted package (\u001b[3m\u001b[34m<http://conflicted.r-lib.org/>\u001b[39m\u001b[23m) to force all conflicts to become errors\n",
      "\n",
      "Attaching package: ‘ggpubr’\n",
      "\n",
      "\n",
      "The following object is masked from ‘package:plyr’:\n",
      "\n",
      "    mutate\n",
      "\n",
      "\n"
     ]
    }
   ],
   "source": [
    "library(plyr, quietly = TRUE)\n",
    "library(tidyverse, quietly = TRUE)\n",
    "library(ggpubr)"
   ]
  },
  {
   "cell_type": "code",
   "execution_count": 2,
   "id": "ad6b72ff-10d3-4929-ae41-7177f4952a9c",
   "metadata": {
    "vscode": {
     "languageId": "r"
    }
   },
   "outputs": [],
   "source": [
    "LLM_score_thresh = 0.8\n",
    "enrichr_adj_pval_thresh = 0.05\n",
    "enrichr_JI_thresh = 0.1"
   ]
  },
  {
   "cell_type": "code",
   "execution_count": 3,
   "id": "ca5c0967-332d-4a2a-85c6-a8c93df69014",
   "metadata": {
    "tags": [],
    "vscode": {
     "languageId": "r"
    }
   },
   "outputs": [
    {
     "name": "stderr",
     "output_type": "stream",
     "text": [
      "\u001b[1m\u001b[22mNew names:\n",
      "\u001b[36m•\u001b[39m `` -> `...1`\n",
      "\u001b[1mRows: \u001b[22m\u001b[34m11310\u001b[39m \u001b[1mColumns: \u001b[22m\u001b[34m20\u001b[39m\n",
      "\u001b[36m──\u001b[39m \u001b[1mColumn specification\u001b[22m \u001b[36m────────────────────────────────────────────────────────\u001b[39m\n",
      "\u001b[1mDelimiter:\u001b[22m \"\\t\"\n",
      "\u001b[31mchr\u001b[39m (12): Source, GeneSetID, GeneSetName, GeneList, LLM Name, LLM Analysis, ...\n",
      "\u001b[32mdbl\u001b[39m  (8): ...1, Unnamed: 0, n_Genes, Score, Rank, P-value, Adjusted P-value,...\n",
      "\n",
      "\u001b[36mℹ\u001b[39m Use `spec()` to retrieve the full column specification for this data.\n",
      "\u001b[36mℹ\u001b[39m Specify the column types or set `show_col_types = FALSE` to quiet this message.\n"
     ]
    }
   ],
   "source": [
    "LLM_genes_DF = read_delim(file = \"data/omics_revamped_LLM_Enrichr_simVals_DF.tsv\", delim = \"\\t\") %>%\n",
    "mutate(enrichr_adj_pVal = `Adjusted P-value`)   \n"
   ]
  },
  {
   "cell_type": "code",
   "execution_count": 4,
   "id": "3e7d9608-9c4c-4e1b-badf-5fa7f05425cd",
   "metadata": {
    "vscode": {
     "languageId": "r"
    }
   },
   "outputs": [
    {
     "data": {
      "text/html": [
       "<style>\n",
       ".list-inline {list-style: none; margin:0; padding: 0}\n",
       ".list-inline>li {display: inline-block}\n",
       ".list-inline>li:not(:last-child)::after {content: \"\\00b7\"; padding: 0 .5ex}\n",
       "</style>\n",
       "<ol class=list-inline><li>11310</li><li>21</li></ol>\n"
      ],
      "text/latex": [
       "\\begin{enumerate*}\n",
       "\\item 11310\n",
       "\\item 21\n",
       "\\end{enumerate*}\n"
      ],
      "text/markdown": [
       "1. 11310\n",
       "2. 21\n",
       "\n",
       "\n"
      ],
      "text/plain": [
       "[1] 11310    21"
      ]
     },
     "metadata": {},
     "output_type": "display_data"
    }
   ],
   "source": [
    "dim(LLM_genes_DF)"
   ]
  },
  {
   "cell_type": "code",
   "execution_count": 5,
   "id": "de7fa0db-9bd5-4a98-b787-cfcc47c8248b",
   "metadata": {
    "vscode": {
     "languageId": "r"
    }
   },
   "outputs": [],
   "source": [
    "get_JI = function(GeneList, enrichr_genes){\n",
    "    # assume separation is the same\n",
    "    geneSetGenes = str_split(string = GeneList, pattern = \" \")[[1]]\n",
    "    enrichRGenes = str_split(string = enrichr_genes, pattern = \" \")[[1]]\n",
    "    JI = length(intersect(geneSetGenes, enrichRGenes))/ length(union(geneSetGenes, enrichRGenes))\n",
    "    \n",
    "    return(JI)\n",
    "    }   "
   ]
  },
  {
   "cell_type": "code",
   "execution_count": null,
   "id": "e84f4209-8272-4e87-9e77-6ba42e680c7e",
   "metadata": {},
   "outputs": [],
   "source": []
  },
  {
   "cell_type": "code",
   "execution_count": 6,
   "id": "e5a726d7-499b-458b-adce-a3ad0613066e",
   "metadata": {},
   "outputs": [],
   "source": [
    "## Unified function to filter and select the appropriate row\n",
    "filter_and_select <- function(df, method = \"Best APV\") {\n",
    "    if (method == \"Best JI\") {\n",
    "        # used in original revised paper\n",
    "        filtered <- df %>%\n",
    "            slice(which.max(enrichr_JI))\n",
    "    }\n",
    "    \n",
    "    if (method == \"Best APV\") {\n",
    "        filtered <- df %>%\n",
    "            filter((enrichr_JI >= enrichr_JI_thresh) & (enrichr_adj_pVal <= enrichr_adj_pval_thresh))\n",
    "    }\n",
    "    \n",
    "    ## For any method if no term meets JI and APV then simply select the one with minimum APV\n",
    "    if (nrow(filtered) > 0) {\n",
    "        return(filtered %>% slice(which.min(enrichr_adj_pVal)))\n",
    "            \n",
    "    } else {\n",
    "        return(df %>% slice(which.min(enrichr_adj_pVal)))\n",
    "    }\n",
    "}"
   ]
  },
  {
   "cell_type": "code",
   "execution_count": 7,
   "id": "01f8a53b-1092-435b-a569-95cc0e0b087d",
   "metadata": {},
   "outputs": [],
   "source": [
    "## GET JI\n",
    "LLM_genes_DF = LLM_genes_DF %>%\n",
    "rowwise() %>%\n",
    "mutate(enrichr_JI = get_JI(GeneList, GO_term_genes))"
   ]
  },
  {
   "cell_type": "code",
   "execution_count": 8,
   "id": "87d4c206-105f-4700-b1e1-7873c3eb0518",
   "metadata": {
    "tags": []
   },
   "outputs": [],
   "source": [
    "## Select term based on criteria\n",
    "LLM_genes_selectedTerms_DF <- LLM_genes_DF %>%\n",
    "  group_by(Source, GeneSetID, GeneSetName, GeneList) %>%\n",
    "  do(filter_and_select(.,\"Best APV\" )) %>%\n",
    "  ungroup()\n"
   ]
  },
  {
   "cell_type": "code",
   "execution_count": 9,
   "id": "e68b48be-6e9e-4e0c-a28b-a94a7e44057b",
   "metadata": {},
   "outputs": [
    {
     "data": {
      "text/html": [
       "<style>\n",
       ".list-inline {list-style: none; margin:0; padding: 0}\n",
       ".list-inline>li {display: inline-block}\n",
       ".list-inline>li:not(:last-child)::after {content: \"\\00b7\"; padding: 0 .5ex}\n",
       "</style>\n",
       "<ol class=list-inline><li>300</li><li>22</li></ol>\n"
      ],
      "text/latex": [
       "\\begin{enumerate*}\n",
       "\\item 300\n",
       "\\item 22\n",
       "\\end{enumerate*}\n"
      ],
      "text/markdown": [
       "1. 300\n",
       "2. 22\n",
       "\n",
       "\n"
      ],
      "text/plain": [
       "[1] 300  22"
      ]
     },
     "metadata": {},
     "output_type": "display_data"
    }
   ],
   "source": [
    "dim(LLM_genes_selectedTerms_DF)"
   ]
  },
  {
   "cell_type": "code",
   "execution_count": 10,
   "id": "cdfd4c6e-5b1e-484b-b96e-4ab6cb6322ec",
   "metadata": {},
   "outputs": [],
   "source": [
    "## Rename column and apply \"success\" condition\n",
    "LLM_genes_selectedTerms_DF = LLM_genes_selectedTerms_DF %>%\n",
    "rowwise() %>%\n",
    "mutate(\n",
    "    LLM_success_TF = ifelse(Score >= LLM_score_thresh, TRUE, FALSE),\n",
    "    enrichr_success_TF = ifelse(!((enrichr_adj_pVal > enrichr_adj_pval_thresh) | (enrichr_JI < enrichr_JI_thresh)), TRUE, FALSE))\n",
    "        \n",
    "    \n",
    "\n",
    "# NOTE: the score will be selected in 6A based on curve"
   ]
  },
  {
   "cell_type": "code",
   "execution_count": 11,
   "id": "415d22d7-860a-4abf-8f57-b1bb5253a18a",
   "metadata": {
    "vscode": {
     "languageId": "r"
    }
   },
   "outputs": [
    {
     "data": {
      "text/html": [
       "<style>\n",
       ".list-inline {list-style: none; margin:0; padding: 0}\n",
       ".list-inline>li {display: inline-block}\n",
       ".list-inline>li:not(:last-child)::after {content: \"\\00b7\"; padding: 0 .5ex}\n",
       "</style>\n",
       "<ol class=list-inline><li>300</li><li>24</li></ol>\n"
      ],
      "text/latex": [
       "\\begin{enumerate*}\n",
       "\\item 300\n",
       "\\item 24\n",
       "\\end{enumerate*}\n"
      ],
      "text/markdown": [
       "1. 300\n",
       "2. 24\n",
       "\n",
       "\n"
      ],
      "text/plain": [
       "[1] 300  24"
      ]
     },
     "metadata": {},
     "output_type": "display_data"
    }
   ],
   "source": [
    "dim(LLM_genes_selectedTerms_DF)"
   ]
  },
  {
   "cell_type": "code",
   "execution_count": 12,
   "id": "011933cc-c697-4d8b-a3b4-1dc6a9bd137d",
   "metadata": {
    "vscode": {
     "languageId": "r"
    }
   },
   "outputs": [],
   "source": [
    "write_delim(x = LLM_genes_selectedTerms_DF, file = \"data/omics_revamped_LLM_Enrichr_simVals_failure_240625_maxAPV_DF.tsv\", delim = \"\\t\")"
   ]
  },
  {
   "cell_type": "code",
   "execution_count": 13,
   "id": "26ece7ae-bc33-4f52-a05e-bb9b655c9c78",
   "metadata": {
    "vscode": {
     "languageId": "r"
    }
   },
   "outputs": [],
   "source": [
    "LLM_genes_selectedTerms_DF = LLM_genes_selectedTerms_DF %>%\n",
    "mutate(enrichr_success_TF_0.1 = ifelse(((enrichr_adj_pVal > enrichr_adj_pval_thresh) | (enrichr_JI < 0.1)), FALSE, TRUE))"
   ]
  },
  {
   "cell_type": "code",
   "execution_count": 14,
   "id": "5f38229d-844f-4cab-b481-c6c0868bdd2a",
   "metadata": {
    "vscode": {
     "languageId": "r"
    }
   },
   "outputs": [
    {
     "data": {
      "text/plain": [
       "                      LLM_success_TF\n",
       "enrichr_success_TF_0.1 FALSE TRUE\n",
       "                 FALSE   163   97\n",
       "                 TRUE      4   36"
      ]
     },
     "metadata": {},
     "output_type": "display_data"
    }
   ],
   "source": [
    "table(LLM_genes_selectedTerms_DF[,c(\"enrichr_success_TF_0.1\", \"LLM_success_TF\")])\n"
   ]
  },
  {
   "cell_type": "code",
   "execution_count": null,
   "id": "a3cc5cec-1bc5-4de7-9bf9-c48da7a8b883",
   "metadata": {},
   "outputs": [],
   "source": [
    "LLM_success_TF      True  False  Total\n",
    "enrichr_success_TF                    \n",
    "True                  36      4     40\n",
    "False                 97    163    260\n",
    "Total                133    167    300"
   ]
  }
 ],
 "metadata": {
  "kernelspec": {
   "display_name": "R",
   "language": "R",
   "name": "r"
  },
  "language_info": {
   "codemirror_mode": "r",
   "file_extension": ".r",
   "mimetype": "text/x-r-source",
   "name": "R",
   "pygments_lexer": "r",
   "version": "4.3.2"
  }
 },
 "nbformat": 4,
 "nbformat_minor": 5
}

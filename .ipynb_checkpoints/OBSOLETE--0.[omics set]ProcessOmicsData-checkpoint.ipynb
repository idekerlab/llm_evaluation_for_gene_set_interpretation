{
 "cells": [
  {
   "cell_type": "code",
   "execution_count": 1,
   "id": "9fa86f76-d230-4ce8-a385-ab8dfcc07406",
   "metadata": {
    "tags": []
   },
   "outputs": [
    {
     "name": "stderr",
     "output_type": "stream",
     "text": [
      "── \u001b[1mAttaching core tidyverse packages\u001b[22m ──────────────────────── tidyverse 2.0.0 ──\n",
      "\u001b[32m✔\u001b[39m \u001b[34mdplyr    \u001b[39m 1.1.4     \u001b[32m✔\u001b[39m \u001b[34mreadr    \u001b[39m 2.1.5\n",
      "\u001b[32m✔\u001b[39m \u001b[34mforcats  \u001b[39m 1.0.0     \u001b[32m✔\u001b[39m \u001b[34mstringr  \u001b[39m 1.5.1\n",
      "\u001b[32m✔\u001b[39m \u001b[34mggplot2  \u001b[39m 3.4.4     \u001b[32m✔\u001b[39m \u001b[34mtibble   \u001b[39m 3.2.1\n",
      "\u001b[32m✔\u001b[39m \u001b[34mlubridate\u001b[39m 1.9.3     \u001b[32m✔\u001b[39m \u001b[34mtidyr    \u001b[39m 1.3.0\n",
      "\u001b[32m✔\u001b[39m \u001b[34mpurrr    \u001b[39m 1.0.2     \n",
      "── \u001b[1mConflicts\u001b[22m ────────────────────────────────────────── tidyverse_conflicts() ──\n",
      "\u001b[31m✖\u001b[39m \u001b[34mdplyr\u001b[39m::\u001b[32marrange()\u001b[39m   masks \u001b[34mplyr\u001b[39m::arrange()\n",
      "\u001b[31m✖\u001b[39m \u001b[34mpurrr\u001b[39m::\u001b[32mcompact()\u001b[39m   masks \u001b[34mplyr\u001b[39m::compact()\n",
      "\u001b[31m✖\u001b[39m \u001b[34mdplyr\u001b[39m::\u001b[32mcount()\u001b[39m     masks \u001b[34mplyr\u001b[39m::count()\n",
      "\u001b[31m✖\u001b[39m \u001b[34mdplyr\u001b[39m::\u001b[32mdesc()\u001b[39m      masks \u001b[34mplyr\u001b[39m::desc()\n",
      "\u001b[31m✖\u001b[39m \u001b[34mdplyr\u001b[39m::\u001b[32mfailwith()\u001b[39m  masks \u001b[34mplyr\u001b[39m::failwith()\n",
      "\u001b[31m✖\u001b[39m \u001b[34mdplyr\u001b[39m::\u001b[32mfilter()\u001b[39m    masks \u001b[34mstats\u001b[39m::filter()\n",
      "\u001b[31m✖\u001b[39m \u001b[34mdplyr\u001b[39m::\u001b[32mid()\u001b[39m        masks \u001b[34mplyr\u001b[39m::id()\n",
      "\u001b[31m✖\u001b[39m \u001b[34mdplyr\u001b[39m::\u001b[32mlag()\u001b[39m       masks \u001b[34mstats\u001b[39m::lag()\n",
      "\u001b[31m✖\u001b[39m \u001b[34mdplyr\u001b[39m::\u001b[32mmutate()\u001b[39m    masks \u001b[34mplyr\u001b[39m::mutate()\n",
      "\u001b[31m✖\u001b[39m \u001b[34mdplyr\u001b[39m::\u001b[32mrename()\u001b[39m    masks \u001b[34mplyr\u001b[39m::rename()\n",
      "\u001b[31m✖\u001b[39m \u001b[34mdplyr\u001b[39m::\u001b[32msummarise()\u001b[39m masks \u001b[34mplyr\u001b[39m::summarise()\n",
      "\u001b[31m✖\u001b[39m \u001b[34mdplyr\u001b[39m::\u001b[32msummarize()\u001b[39m masks \u001b[34mplyr\u001b[39m::summarize()\n",
      "\u001b[36mℹ\u001b[39m Use the conflicted package (\u001b[3m\u001b[34m<http://conflicted.r-lib.org/>\u001b[39m\u001b[23m) to force all conflicts to become errors\n"
     ]
    },
    {
     "ename": "ERROR",
     "evalue": "Error in library(tidyjson, quietly = TRUE): there is no package called ‘tidyjson’\n",
     "output_type": "error",
     "traceback": [
      "Error in library(tidyjson, quietly = TRUE): there is no package called ‘tidyjson’\nTraceback:\n",
      "1. library(tidyjson, quietly = TRUE)"
     ]
    }
   ],
   "source": [
    "library(plyr, quietly = TRUE)\n",
    "library(tidyverse,  quietly = TRUE)\n",
    "library(tidyjson,  quietly = TRUE)\n",
    "library(readxl)"
   ]
  },
  {
   "cell_type": "code",
   "execution_count": 2,
   "id": "1f00ce09-2373-4010-8d0a-aad04a468e78",
   "metadata": {},
   "outputs": [],
   "source": [
    "`%ni%` <- Negate(`%in%`)"
   ]
  },
  {
   "cell_type": "code",
   "execution_count": 3,
   "id": "fe317316-8b8b-4c91-b1de-330f3c9e5f6a",
   "metadata": {},
   "outputs": [],
   "source": [
    "# get name genes number  source"
   ]
  },
  {
   "cell_type": "code",
   "execution_count": 4,
   "id": "3f9b065c-eb80-437e-86ec-7c7e880fc4e9",
   "metadata": {
    "tags": []
   },
   "outputs": [],
   "source": [
    "genesets_colnames = c(\"Source\", \"GeneSetID\", \"GeneSetName\", \"GeneList\", \"n_Genes\")\n",
    "genesets_MAT = matrix(nrow = 0, ncol = length(genesets_colnames))\n",
    "colnames(genesets_MAT) = genesets_colnames\n",
    "genesets_DF = as_tibble(genesets_MAT) %>%\n",
    "  mutate(across(everything(), as.character))\n",
    "genesets_DF$n_Genes = as.integer(genesets_DF$n_Genes)"
   ]
  },
  {
   "cell_type": "code",
   "execution_count": 5,
   "id": "1e1d5b21-6289-4dc9-986d-9808aed54bad",
   "metadata": {},
   "outputs": [],
   "source": [
    "genesets_empty_DF = genesets_DF"
   ]
  },
  {
   "cell_type": "markdown",
   "id": "05d19b89-2fe7-4b6a-a3f2-8004c7c271e8",
   "metadata": {},
   "source": [
    "### MSigDB"
   ]
  },
  {
   "cell_type": "code",
   "execution_count": null,
   "id": "dce7d8e8-5271-41f7-9491-973d7e49e240",
   "metadata": {},
   "outputs": [],
   "source": [
    "msigdb_path = \"data/human_geneSets/\""
   ]
  },
  {
   "cell_type": "code",
   "execution_count": null,
   "id": "b0cf7bb3-ab8c-48df-93af-83f73870669d",
   "metadata": {},
   "outputs": [],
   "source": [
    "# read in the MSigDB .json file\n",
    "MSigDB_hallmark = read_json(\"data/h.all.v2023.1.Hs.json\", format = \"json\")[[2]][[1]]"
   ]
  },
  {
   "cell_type": "code",
   "execution_count": null,
   "id": "48937e73-92c7-44fb-bc9d-1bce1fe5533d",
   "metadata": {},
   "outputs": [],
   "source": [
    "MSigDB_geneSets = names(MSigDB_hallmark)"
   ]
  },
  {
   "cell_type": "code",
   "execution_count": null,
   "id": "17901b42-fd31-478a-b8cb-334d555ae77a",
   "metadata": {},
   "outputs": [],
   "source": [
    "for (MSigDB_geneSet in MSigDB_geneSets){\n",
    "    MSigDB_geneSet_genes = MSigDB_hallmark[[MSigDB_geneSet]]$geneSymbols %>% unlist()\n",
    "    MSigDB_geneSet_n_Genes = length(MSigDB_geneSet_genes)\n",
    "    genesets_DF = genesets_DF %>% \n",
    "    add_row(tibble_row(Source = \"MSigDB\",\n",
    "            GeneSetID = MSigDB_geneSet,           \n",
    "            GeneSetName = MSigDB_geneSet, \n",
    "            GeneList = str_c(MSigDB_geneSet_genes,  collapse = \" \"),\n",
    "            n_Genes = MSigDB_geneSet_n_Genes))\n",
    "    }"
   ]
  },
  {
   "cell_type": "code",
   "execution_count": null,
   "id": "420739cb-9c1c-4ad2-8904-f77e2922fbf5",
   "metadata": {
    "tags": []
   },
   "outputs": [],
   "source": [
    "genesets_DF %>% subset(n_Genes < 200) %>% nrow()"
   ]
  },
  {
   "cell_type": "code",
   "execution_count": null,
   "id": "0410d45f-4616-4d26-b754-1311a1699652",
   "metadata": {},
   "outputs": [],
   "source": [
    "genesets_DF %>% subset(n_Genes <= 100) %>% nrow()"
   ]
  },
  {
   "cell_type": "code",
   "execution_count": null,
   "id": "119c7247-5d71-4fc6-94e2-a831945961b2",
   "metadata": {},
   "outputs": [],
   "source": [
    "dim(genesets_DF)"
   ]
  },
  {
   "cell_type": "code",
   "execution_count": null,
   "id": "c4ab5234-d241-4ab3-9837-d8c245443aff",
   "metadata": {},
   "outputs": [],
   "source": [
    "genesets_DF$n_Genes %>% max()"
   ]
  },
  {
   "cell_type": "markdown",
   "id": "b8594e43-67bf-4fbd-9f15-cfe029c98096",
   "metadata": {},
   "source": [
    "### NeST"
   ]
  },
  {
   "cell_type": "code",
   "execution_count": null,
   "id": "9c04a784-b991-44fb-85de-4886785bc2be",
   "metadata": {},
   "outputs": [],
   "source": [
    "NeST_systems_Orig = read_delim(\"data/NeST_table.txt\", delim = \"\\t\") %>% pull(`NEST ID`)"
   ]
  },
  {
   "cell_type": "code",
   "execution_count": null,
   "id": "86f5f50a-7193-418e-a093-661f48b3f39f",
   "metadata": {},
   "outputs": [],
   "source": [
    "NeST_All_DF = read_delim(file = \"data/NeST_table_All.csv\", delim = \",\" )"
   ]
  },
  {
   "cell_type": "code",
   "execution_count": null,
   "id": "de6c6f8e-bf36-488d-aeaa-87d8008e4c38",
   "metadata": {},
   "outputs": [],
   "source": [
    "NeST_Orig_DF = NeST_All_DF %>%\n",
    "subset(`NEST ID` %in% NeST_systems_Orig) %>%\n",
    "subset(Size_All <= 200)"
   ]
  },
  {
   "cell_type": "code",
   "execution_count": null,
   "id": "0502253b-ee1f-4401-9475-9a2d174b4ed0",
   "metadata": {},
   "outputs": [],
   "source": [
    "setdiff(NeST_systems_Orig, NeST_Orig_DF$`NEST ID`)"
   ]
  },
  {
   "cell_type": "code",
   "execution_count": null,
   "id": "68febf67-6a30-4eb6-9960-c96810718f7c",
   "metadata": {},
   "outputs": [],
   "source": [
    "n_toSample = 50 - nrow(NeST_Orig_DF)"
   ]
  },
  {
   "cell_type": "code",
   "execution_count": null,
   "id": "f7a4b994-272b-44df-a8cf-6542ac0cf68f",
   "metadata": {},
   "outputs": [],
   "source": [
    "NeST_added_DF = NeST_All_DF %>%\n",
    "subset(`NEST ID` %ni% NeST_systems_Orig) %>%\n",
    "subset(Size_All <= 200) %>%\n",
    "subset(str_detect(name_new, \"NEST\", negate = TRUE)) %>%\n",
    "slice_sample(n = n_toSample) "
   ]
  },
  {
   "cell_type": "code",
   "execution_count": null,
   "id": "c1274ecf-5973-4b5d-a775-4a330cb035c2",
   "metadata": {},
   "outputs": [],
   "source": [
    "write_delim(x = NeST_added_DF, file = \"data/NeST_added_DF.txt\", delim = \"\\t\")"
   ]
  },
  {
   "cell_type": "code",
   "execution_count": null,
   "id": "2d6c9d42-907e-495c-87ba-a63cc192aa2e",
   "metadata": {},
   "outputs": [],
   "source": [
    "NeST_added_DF"
   ]
  },
  {
   "cell_type": "code",
   "execution_count": null,
   "id": "30724ae6-e48a-4e39-8aeb-8f8352390854",
   "metadata": {},
   "outputs": [],
   "source": [
    "NeST_toUse_DF = rbind(NeST_Orig_DF, NeST_added_DF) %>%\n",
    "select(c(\"NEST ID\", \"name_new\", \"All_Genes\", \"Size_All\"))  %>%\n",
    "rowwise() %>%\n",
    "mutate(Source  = \"NeST\", \n",
    "       All_Genes = str_replace_all(string = All_Genes, pattern  = \",\", replacement =  \" \")) %>%\n",
    "rename(GeneSetID = `NEST ID`,\n",
    "       GeneSetName = name_new, \n",
    "       GeneList = All_Genes, \n",
    "       n_Genes = Size_All)"
   ]
  },
  {
   "cell_type": "code",
   "execution_count": null,
   "id": "8af1700b-0fca-4c4e-b0fe-9cac02da342b",
   "metadata": {},
   "outputs": [],
   "source": [
    "genesets_DF = genesets_DF %>% rbind(NeST_toUse_DF)"
   ]
  },
  {
   "cell_type": "code",
   "execution_count": null,
   "id": "cbec14ba-1a36-4b40-8566-d79627af9666",
   "metadata": {},
   "outputs": [],
   "source": [
    "dim(genesets_DF)"
   ]
  },
  {
   "cell_type": "code",
   "execution_count": null,
   "id": "d754591f-57e6-4d22-a8b4-da7d2face25f",
   "metadata": {
    "tags": []
   },
   "outputs": [],
   "source": [
    "head(genesets_DF)"
   ]
  },
  {
   "cell_type": "markdown",
   "id": "d2a5ee32-4bf6-4dc2-8aac-b5014579dcc4",
   "metadata": {},
   "source": [
    "### Gene expression"
   ]
  },
  {
   "cell_type": "code",
   "execution_count": null,
   "id": "97f213ff-81cd-486d-bcb5-c12fea9489e5",
   "metadata": {},
   "outputs": [],
   "source": [
    "# https://doi.org/10.1016/j.cell.2022.05.013"
   ]
  },
  {
   "cell_type": "code",
   "execution_count": null,
   "id": "25cd88c5-5091-418f-801b-e59a105d951f",
   "metadata": {},
   "outputs": [],
   "source": [
    "geneExpression_DF = read_xlsx(path = \"data/1-s2.0-S0092867422005979-mmc3.xlsx\", sheet = \"gene expression clusters\")"
   ]
  },
  {
   "cell_type": "code",
   "execution_count": null,
   "id": "05bde802-7cd5-40c4-b4c0-993947348e03",
   "metadata": {},
   "outputs": [],
   "source": [
    "geneExpression_DF = read_xlsx(path = \"data/1-s2.0-S0092867422005979-mmc3.xlsx\", sheet = \"gene expression clusters\") %>%\n",
    "subset(!is.na(manual_annotation))  %>%\n",
    "select(c(\"members\", \"manual_annotation\")) %>%\n",
    "rowwise() %>%\n",
    "mutate(Source  = \"Gene Expression\", \n",
    "       members = str_replace_all(string = members, pattern  = \",\", replacement =  \" \"),\n",
    "       n_Genes = length(str_split(string = members, pattern = \" \")[[1]])) %>%\n",
    "rename(GeneSetName = manual_annotation, \n",
    "       GeneList = members) %>%\n",
    "mutate(GeneSetID =  GeneSetName) %>%\n",
    "subset(n_Genes <= 200)\n"
   ]
  },
  {
   "cell_type": "code",
   "execution_count": null,
   "id": "13320cd9-f741-411e-aa09-4dbf444e8848",
   "metadata": {},
   "outputs": [],
   "source": [
    "dim(genesets_DF)"
   ]
  },
  {
   "cell_type": "code",
   "execution_count": null,
   "id": "bb7fdb0f-e9b0-47a2-bae2-058d6e7394df",
   "metadata": {},
   "outputs": [],
   "source": [
    "genesets_DF = genesets_DF %>% rbind(geneExpression_DF)"
   ]
  },
  {
   "cell_type": "code",
   "execution_count": null,
   "id": "7b100e06-3ec4-4242-a620-d0050504af85",
   "metadata": {},
   "outputs": [],
   "source": [
    "dim(genesets_DF)"
   ]
  },
  {
   "cell_type": "markdown",
   "id": "74798c84-2dc6-46ae-be89-26b39fd46f15",
   "metadata": {},
   "source": [
    "### Perturbation"
   ]
  },
  {
   "cell_type": "code",
   "execution_count": null,
   "id": "5571b5dc-b76a-4db4-b1d8-cb36c5fd77e2",
   "metadata": {},
   "outputs": [],
   "source": [
    "perturbation_DF = read_xlsx(path = \"data/1-s2.0-S0092867422005979-mmc3.xlsx\", sheet = \"perturbation clusters\") %>%\n",
    "subset(!is.na(manual_annotation))  %>%\n",
    "select(c(\"members\", \"manual_annotation\")) %>%\n",
    "rowwise() %>%\n",
    "mutate(Source  = \"Perturbation\", \n",
    "       members = str_replace_all(string = members, pattern  = \",\", replacement =  \" \"),\n",
    "       n_Genes = length(str_split(string = members, pattern = \" \")[[1]])) %>%\n",
    "rename(GeneSetName = manual_annotation, \n",
    "       GeneList = members)%>%\n",
    "mutate(GeneSetID =  GeneSetName) %>%\n",
    "subset(n_Genes <= 200)"
   ]
  },
  {
   "cell_type": "code",
   "execution_count": null,
   "id": "c6885c9c-6818-4382-a8bd-8bec24f6a414",
   "metadata": {},
   "outputs": [],
   "source": [
    "dim(perturbation_DF)"
   ]
  },
  {
   "cell_type": "code",
   "execution_count": null,
   "id": "4766359b-cd88-400b-9c8c-ecff2ab70833",
   "metadata": {},
   "outputs": [],
   "source": [
    "genesets_DF = genesets_DF %>% rbind(perturbation_DF)"
   ]
  },
  {
   "cell_type": "code",
   "execution_count": null,
   "id": "5c9ed194-6ff7-4aee-bfa5-9d1b0fe3173d",
   "metadata": {},
   "outputs": [],
   "source": [
    "dim(genesets_DF)"
   ]
  },
  {
   "cell_type": "code",
   "execution_count": null,
   "id": "6b6039a2-3083-4a12-beb8-b5b2c0418e64",
   "metadata": {},
   "outputs": [],
   "source": [
    "250 - 173 "
   ]
  },
  {
   "cell_type": "markdown",
   "id": "4e149766-71c7-4f20-b9db-ea05a78cbd4f",
   "metadata": {},
   "source": [
    "### Disease"
   ]
  },
  {
   "cell_type": "code",
   "execution_count": 6,
   "id": "5965bda8-967e-43ff-bae9-f73f6618cd10",
   "metadata": {
    "tags": []
   },
   "outputs": [
    {
     "name": "stderr",
     "output_type": "stream",
     "text": [
      "\n",
      "Attaching package: ‘disgenet2r’\n",
      "\n",
      "\n",
      "The following object is masked from ‘package:tidyr’:\n",
      "\n",
      "    extract\n",
      "\n",
      "\n"
     ]
    }
   ],
   "source": [
    "library(disgenet2r)\n",
    "library(getPass)"
   ]
  },
  {
   "cell_type": "code",
   "execution_count": 7,
   "id": "54421556-c77f-479b-898e-c56d8e35ace9",
   "metadata": {},
   "outputs": [
    {
     "name": "stdin",
     "output_type": "stream",
     "text": [
      "Enter the password:  ········\n"
     ]
    }
   ],
   "source": [
    "pass = getPass::getPass(\"Enter the password: \")"
   ]
  },
  {
   "cell_type": "code",
   "execution_count": 8,
   "id": "7f5753a9-d0fb-4625-a82b-60d093c71c63",
   "metadata": {},
   "outputs": [],
   "source": [
    "disgenet_api_key <- get_disgenet_api_key(\n",
    "                  email = \"salkhairy@ucsd.edu\", \n",
    "                  password = pass )"
   ]
  },
  {
   "cell_type": "code",
   "execution_count": 9,
   "id": "bb67f98f-3539-48d8-b66c-003eb178674e",
   "metadata": {},
   "outputs": [],
   "source": [
    "Sys.setenv(DISGENET_API_KEY= disgenet_api_key)"
   ]
  },
  {
   "cell_type": "code",
   "execution_count": 10,
   "id": "2fe64f9c-0441-4b70-aaf4-1c61aa59c1ce",
   "metadata": {},
   "outputs": [
    {
     "name": "stderr",
     "output_type": "stream",
     "text": [
      "\u001b[1mRows: \u001b[22m\u001b[34m30170\u001b[39m \u001b[1mColumns: \u001b[22m\u001b[34m7\u001b[39m\n",
      "\u001b[36m──\u001b[39m \u001b[1mColumn specification\u001b[22m \u001b[36m────────────────────────────────────────────────────────\u001b[39m\n",
      "\u001b[1mDelimiter:\u001b[22m \"\\t\"\n",
      "\u001b[31mchr\u001b[39m (5): diseaseId, diseaseName, diseaseType, diseaseClass, diseaseSemanticType\n",
      "\u001b[32mdbl\u001b[39m (2): NofGenes, NofPmids\n",
      "\n",
      "\u001b[36mℹ\u001b[39m Use `spec()` to retrieve the full column specification for this data.\n",
      "\u001b[36mℹ\u001b[39m Specify the column types or set `show_col_types = FALSE` to quiet this message.\n"
     ]
    }
   ],
   "source": [
    "diseaseId_All_DF = read_delim(\"data/disease_associations.tsv\", delim = \"\\t\")\n"
   ]
  },
  {
   "cell_type": "code",
   "execution_count": 11,
   "id": "67105c81-d236-46b3-9f94-a518545423fe",
   "metadata": {},
   "outputs": [],
   "source": [
    "diseaseId_All_list_names = diseaseId_All_DF$diseaseName\n",
    "names(diseaseId_All_list_names) = diseaseId_All_DF$diseaseId"
   ]
  },
  {
   "cell_type": "code",
   "execution_count": 12,
   "id": "e41b9dd2-791d-4282-8f72-387ceeacf3aa",
   "metadata": {},
   "outputs": [
    {
     "data": {
      "text/html": [
       "<style>\n",
       ".dl-inline {width: auto; margin:0; padding: 0}\n",
       ".dl-inline>dt, .dl-inline>dd {float: none; width: auto; display: inline-block}\n",
       ".dl-inline>dt::after {content: \":\\0020\"; padding-right: .5ex}\n",
       ".dl-inline>dt:not(:first-of-type) {padding-left: .5ex}\n",
       "</style><dl class=dl-inline><dt>C0000727</dt><dd>'Abdomen, Acute'</dd><dt>C0000729</dt><dd>'Abdominal Cramps'</dd><dt>C0000731</dt><dd>'Abdomen distended'</dd><dt>C0000734</dt><dd>'Abdominal mass'</dd></dl>\n"
      ],
      "text/latex": [
       "\\begin{description*}\n",
       "\\item[C0000727] 'Abdomen, Acute'\n",
       "\\item[C0000729] 'Abdominal Cramps'\n",
       "\\item[C0000731] 'Abdomen distended'\n",
       "\\item[C0000734] 'Abdominal mass'\n",
       "\\end{description*}\n"
      ],
      "text/markdown": [
       "C0000727\n",
       ":   'Abdomen, Acute'C0000729\n",
       ":   'Abdominal Cramps'C0000731\n",
       ":   'Abdomen distended'C0000734\n",
       ":   'Abdominal mass'\n",
       "\n"
      ],
      "text/plain": [
       "           C0000727            C0000729            C0000731            C0000734 \n",
       "   \"Abdomen, Acute\"  \"Abdominal Cramps\" \"Abdomen distended\"    \"Abdominal mass\" "
      ]
     },
     "metadata": {},
     "output_type": "display_data"
    }
   ],
   "source": [
    "diseaseId_All_list_names[1:4]"
   ]
  },
  {
   "cell_type": "code",
   "execution_count": 13,
   "id": "cf1b5857-4a57-44d8-8703-e5c958903bfa",
   "metadata": {},
   "outputs": [],
   "source": [
    "# Read disease list\n",
    "diseaseId_All_list = diseaseId_All_DF %>%\n",
    "subset(diseaseType == \"disease\") %>%\n",
    "subset(between(x = NofGenes, left = 3, right = 100)) %>%\n",
    "subset(NofPmids > 1) %>%\n",
    "pull(diseaseId)"
   ]
  },
  {
   "cell_type": "code",
   "execution_count": 14,
   "id": "debcc17e-95d0-453f-93a6-0dfcbfa60efe",
   "metadata": {},
   "outputs": [
    {
     "data": {
      "text/html": [
       "<style>\n",
       ".list-inline {list-style: none; margin:0; padding: 0}\n",
       ".list-inline>li {display: inline-block}\n",
       ".list-inline>li:not(:last-child)::after {content: \"\\00b7\"; padding: 0 .5ex}\n",
       "</style>\n",
       "<ol class=list-inline><li>5</li><li>100</li></ol>\n"
      ],
      "text/latex": [
       "\\begin{enumerate*}\n",
       "\\item 5\n",
       "\\item 100\n",
       "\\end{enumerate*}\n"
      ],
      "text/markdown": [
       "1. 5\n",
       "2. 100\n",
       "\n",
       "\n"
      ],
      "text/plain": [
       "[1]   5 100"
      ]
     },
     "metadata": {},
     "output_type": "display_data"
    }
   ],
   "source": [
    "diseaseId_All_DF %>% subset(diseaseId %in% diseaseId_All_list) %>% pull(\"NofGenes\") %>% range()"
   ]
  },
  {
   "cell_type": "code",
   "execution_count": 15,
   "id": "e4ea5767-4581-4910-8ddc-ca3e39c4e8a0",
   "metadata": {},
   "outputs": [],
   "source": [
    "# Sample \n",
    "diseaseId_list = sample(x = diseaseId_All_list, size = 500, replace = FALSE) # not all of them are successful in getting gene list"
   ]
  },
  {
   "cell_type": "code",
   "execution_count": 16,
   "id": "674a1fad-213f-47c1-8e3f-c50ed683a0ad",
   "metadata": {},
   "outputs": [],
   "source": [
    "disease_DF = genesets_empty_DF\n",
    "an.error.occured <- FALSE\n"
   ]
  },
  {
   "cell_type": "code",
   "execution_count": 17,
   "id": "95708990-0802-474b-b09e-66a3811f26ca",
   "metadata": {
    "collapsed": true,
    "jupyter": {
     "outputs_hidden": true
    },
    "tags": []
   },
   "outputs": [
    {
     "data": {
      "text/html": [
       "\n",
       "<table style=\"width: 100%;\"><tr><td>disease2gene {disgenet2r}</td><td style=\"text-align: right;\">R Documentation</td></tr></table>\n",
       "\n",
       "<h2 id='disease2gene'>Retrieves genes associated to a disease, or list of diseases and generates an <code>DataGeNET.DGN</code></h2>\n",
       "\n",
       "<h3>Description</h3>\n",
       "\n",
       "<p>Given the disease identifier for one or multiple diseases retrieves their associated genes\n",
       "from DisGeNET and creates an object of type <code>DataGeNET.DGN</code>.\n",
       "</p>\n",
       "\n",
       "\n",
       "<h3>Usage</h3>\n",
       "\n",
       "<pre><code class='language-R'>disease2gene(\n",
       "  disease,\n",
       "  vocabulary = \"UMLS\",\n",
       "  database = \"CURATED\",\n",
       "  score = c(0, 1),\n",
       "  api_key = NULL,\n",
       "  verbose = FALSE,\n",
       "  warnings = TRUE\n",
       ")\n",
       "</code></pre>\n",
       "\n",
       "\n",
       "<h3>Arguments</h3>\n",
       "\n",
       "<table>\n",
       "<tr><td><code id=\"disease2gene_:_disease\">disease</code></td>\n",
       "<td>\n",
       "<p>A disease or a list of disease identifiers (CUIs, MeSH, OMIMs...)</p>\n",
       "</td></tr>\n",
       "<tr><td><code id=\"disease2gene_:_vocabulary\">vocabulary</code></td>\n",
       "<td>\n",
       "<p>The vocabulary of the disease identifier(s)\n",
       "Select one of the available:  <code>UMLS</code> (UMLS), <code>OMIM</code> (OMIM),\n",
       "<code>MESH</code> (MeSH), <code>DO</code> (Disease Ontology),\n",
       "<code>NCI</code> (NCI thesaurus), <code>ORDO</code> (Orphanet),\n",
       "<code>ICD9CM</code> (ICD9-CM) or <code>EFO</code> (EFO). Default <code>'UMLS'</code>.</p>\n",
       "</td></tr>\n",
       "<tr><td><code id=\"disease2gene_:_database\">database</code></td>\n",
       "<td>\n",
       "<p>Name of the database that will be queried. It can take the values:\n",
       "<code>'CTD_human'</code> to use Comparative Toxicogenomics Database, human data;\n",
       "<code>'UNIPROT'</code> to use Universal Protein Resource;\n",
       "<code>'CLINGEN'</code> to use Clinical Genome Resource;\n",
       "<code>'CGI'</code> to use Cancer Genome Interpreter;\n",
       "<code>'ORPHANET'</code>, to use Orphanet, the portal for rare diseases and orphan drugs;\n",
       "<code>'PSYGENET'</code> to use PSYGENET;\n",
       "<code>'GENOMICS_ENGLAND'</code> to use Genomics England PanelApp;\n",
       "<code>'CURATED'</code> to use expert curated, human databases;\n",
       "<code>'HPO'</code> to use HPO;\n",
       "<code>'INFERRED'</code> to use inferred data from HPO, GWASDB, GWASCAT, and CLINVAR;\n",
       "<code>'CTD_rat'</code> to use Comparative Toxicogenomics Database, rat data;\n",
       "<code>'CTD_mouse'</code> to use Comparative Toxicogenomics Database, mouse data;\n",
       "<code>'RGD'</code>, to use Rat Genome Database;\n",
       "<code>'MGD'</code>, to use the Mouse Genome Database;\n",
       "<code>'ANIMAL_MODELS'</code> to use the expert curated, animal models data;\n",
       "<code>'GWASCAT'</code> to use the NHGRI-EBI GWAS Catalog;\n",
       "<code>'GWASDB'</code> to use the GWAS Database GWASdb;\n",
       "<code>'CLINVAR'</code> to use ClinVar, a public archive of relationships\n",
       "among sequence variation and human phenotype;\n",
       "<code>'BEFREE'</code> to use text mining data, generated using BeFree System;\n",
       "<code>'ALL'</code> to use all these databases. Default <code>'CURATED'</code>.</p>\n",
       "</td></tr>\n",
       "<tr><td><code id=\"disease2gene_:_score\">score</code></td>\n",
       "<td>\n",
       "<p>A vector with two elements: 1) initial value of score 2) final value of score</p>\n",
       "</td></tr>\n",
       "<tr><td><code id=\"disease2gene_:_verbose\">verbose</code></td>\n",
       "<td>\n",
       "<p>By default <code>FALSE</code>. Change it to <code>TRUE</code> to get a\n",
       "on-time log from the function.</p>\n",
       "</td></tr>\n",
       "<tr><td><code id=\"disease2gene_:_warnings\">warnings</code></td>\n",
       "<td>\n",
       "<p>By default <code>TRUE</code>. Change it to <code>FALSE</code> to don't see\n",
       "the warnings.</p>\n",
       "</td></tr>\n",
       "</table>\n",
       "\n",
       "\n",
       "<h3>Value</h3>\n",
       "\n",
       "<p>An object of class <code>DataGeNET.DGN</code>\n",
       "</p>\n",
       "\n",
       "\n",
       "<h3>Examples</h3>\n",
       "\n",
       "<pre><code class='language-R'>dis_res &lt;- disease2gene( \"C0028754\", database = \"CURATED\" , score = c(0,1))\n",
       "</code></pre>\n",
       "\n",
       "<hr /><div style=\"text-align: center;\">[Package <em>disgenet2r</em> version 0.99.3 ]</div>\n",
       "</div>"
      ],
      "text/latex": [
       "\\inputencoding{utf8}\n",
       "\\HeaderA{disease2gene}{Retrieves genes associated to a disease, or list of diseases and generates an \\code{DataGeNET.DGN}}{disease2gene}\n",
       "%\n",
       "\\begin{Description}\n",
       "Given the disease identifier for one or multiple diseases retrieves their associated genes\n",
       "from DisGeNET and creates an object of type \\code{DataGeNET.DGN}.\n",
       "\\end{Description}\n",
       "%\n",
       "\\begin{Usage}\n",
       "\\begin{verbatim}\n",
       "disease2gene(\n",
       "  disease,\n",
       "  vocabulary = \"UMLS\",\n",
       "  database = \"CURATED\",\n",
       "  score = c(0, 1),\n",
       "  api_key = NULL,\n",
       "  verbose = FALSE,\n",
       "  warnings = TRUE\n",
       ")\n",
       "\\end{verbatim}\n",
       "\\end{Usage}\n",
       "%\n",
       "\\begin{Arguments}\n",
       "\\begin{ldescription}\n",
       "\\item[\\code{disease}] A disease or a list of disease identifiers (CUIs, MeSH, OMIMs...)\n",
       "\n",
       "\\item[\\code{vocabulary}] The vocabulary of the disease identifier(s)\n",
       "Select one of the available:  \\code{UMLS} (UMLS), \\code{OMIM} (OMIM),\n",
       "\\code{MESH} (MeSH), \\code{DO} (Disease Ontology),\n",
       "\\code{NCI} (NCI thesaurus), \\code{ORDO} (Orphanet),\n",
       "\\code{ICD9CM} (ICD9-CM) or \\code{EFO} (EFO). Default \\code{'UMLS'}.\n",
       "\n",
       "\\item[\\code{database}] Name of the database that will be queried. It can take the values:\n",
       "\\code{'CTD\\_human'} to use Comparative Toxicogenomics Database, human data;\n",
       "\\code{'UNIPROT'} to use Universal Protein Resource;\n",
       "\\code{'CLINGEN'} to use Clinical Genome Resource;\n",
       "\\code{'CGI'} to use Cancer Genome Interpreter;\n",
       "\\code{'ORPHANET'}, to use Orphanet, the portal for rare diseases and orphan drugs;\n",
       "\\code{'PSYGENET'} to use PSYGENET;\n",
       "\\code{'GENOMICS\\_ENGLAND'} to use Genomics England PanelApp;\n",
       "\\code{'CURATED'} to use expert curated, human databases;\n",
       "\\code{'HPO'} to use HPO;\n",
       "\\code{'INFERRED'} to use inferred data from HPO, GWASDB, GWASCAT, and CLINVAR;\n",
       "\\code{'CTD\\_rat'} to use Comparative Toxicogenomics Database, rat data;\n",
       "\\code{'CTD\\_mouse'} to use Comparative Toxicogenomics Database, mouse data;\n",
       "\\code{'RGD'}, to use Rat Genome Database;\n",
       "\\code{'MGD'}, to use the Mouse Genome Database;\n",
       "\\code{'ANIMAL\\_MODELS'} to use the expert curated, animal models data;\n",
       "\\code{'GWASCAT'} to use the NHGRI-EBI GWAS Catalog;\n",
       "\\code{'GWASDB'} to use the GWAS Database GWASdb;\n",
       "\\code{'CLINVAR'} to use ClinVar, a public archive of relationships\n",
       "among sequence variation and human phenotype;\n",
       "\\code{'BEFREE'} to use text mining data, generated using BeFree System;\n",
       "\\code{'ALL'} to use all these databases. Default \\code{'CURATED'}.\n",
       "\n",
       "\\item[\\code{score}] A vector with two elements: 1) initial value of score 2) final value of score\n",
       "\n",
       "\\item[\\code{verbose}] By default \\code{FALSE}. Change it to \\code{TRUE} to get a\n",
       "on-time log from the function.\n",
       "\n",
       "\\item[\\code{warnings}] By default \\code{TRUE}. Change it to \\code{FALSE} to don't see\n",
       "the warnings.\n",
       "\\end{ldescription}\n",
       "\\end{Arguments}\n",
       "%\n",
       "\\begin{Value}\n",
       "An object of class \\code{DataGeNET.DGN}\n",
       "\\end{Value}\n",
       "%\n",
       "\\begin{Examples}\n",
       "\\begin{ExampleCode}\n",
       "dis_res <- disease2gene( \"C0028754\", database = \"CURATED\" , score = c(0,1))\n",
       "\\end{ExampleCode}\n",
       "\\end{Examples}"
      ],
      "text/plain": [
       "disease2gene            package:disgenet2r             R Documentation\n",
       "\n",
       "_\bR_\be_\bt_\br_\bi_\be_\bv_\be_\bs _\bg_\be_\bn_\be_\bs _\ba_\bs_\bs_\bo_\bc_\bi_\ba_\bt_\be_\bd _\bt_\bo _\ba _\bd_\bi_\bs_\be_\ba_\bs_\be, _\bo_\br _\bl_\bi_\bs_\bt _\bo_\bf _\bd_\bi_\bs_\be_\ba_\bs_\be_\bs _\ba_\bn_\bd\n",
       "_\bg_\be_\bn_\be_\br_\ba_\bt_\be_\bs _\ba_\bn '_\bD_\ba_\bt_\ba_\bG_\be_\bN_\bE_\bT._\bD_\bG_\bN'\n",
       "\n",
       "_\bD_\be_\bs_\bc_\br_\bi_\bp_\bt_\bi_\bo_\bn:\n",
       "\n",
       "     Given the disease identifier for one or multiple diseases\n",
       "     retrieves their associated genes from DisGeNET and creates an\n",
       "     object of type ‘DataGeNET.DGN’.\n",
       "\n",
       "_\bU_\bs_\ba_\bg_\be:\n",
       "\n",
       "     disease2gene(\n",
       "       disease,\n",
       "       vocabulary = \"UMLS\",\n",
       "       database = \"CURATED\",\n",
       "       score = c(0, 1),\n",
       "       api_key = NULL,\n",
       "       verbose = FALSE,\n",
       "       warnings = TRUE\n",
       "     )\n",
       "     \n",
       "_\bA_\br_\bg_\bu_\bm_\be_\bn_\bt_\bs:\n",
       "\n",
       " disease: A disease or a list of disease identifiers (CUIs, MeSH,\n",
       "          OMIMs...)\n",
       "\n",
       "vocabulary: The vocabulary of the disease identifier(s) Select one of\n",
       "          the available: ‘UMLS’ (UMLS), ‘OMIM’ (OMIM), ‘MESH’ (MeSH),\n",
       "          ‘DO’ (Disease Ontology), ‘NCI’ (NCI thesaurus), ‘ORDO’\n",
       "          (Orphanet), ‘ICD9CM’ (ICD9-CM) or ‘EFO’ (EFO). Default\n",
       "          ‘'UMLS'’.\n",
       "\n",
       "database: Name of the database that will be queried. It can take the\n",
       "          values: ‘'CTD_human'’ to use Comparative Toxicogenomics\n",
       "          Database, human data; ‘'UNIPROT'’ to use Universal Protein\n",
       "          Resource; ‘'CLINGEN'’ to use Clinical Genome Resource;\n",
       "          ‘'CGI'’ to use Cancer Genome Interpreter; ‘'ORPHANET'’, to\n",
       "          use Orphanet, the portal for rare diseases and orphan drugs;\n",
       "          ‘'PSYGENET'’ to use PSYGENET; ‘'GENOMICS_ENGLAND'’ to use\n",
       "          Genomics England PanelApp; ‘'CURATED'’ to use expert curated,\n",
       "          human databases; ‘'HPO'’ to use HPO; ‘'INFERRED'’ to use\n",
       "          inferred data from HPO, GWASDB, GWASCAT, and CLINVAR;\n",
       "          ‘'CTD_rat'’ to use Comparative Toxicogenomics Database, rat\n",
       "          data; ‘'CTD_mouse'’ to use Comparative Toxicogenomics\n",
       "          Database, mouse data; ‘'RGD'’, to use Rat Genome Database;\n",
       "          ‘'MGD'’, to use the Mouse Genome Database; ‘'ANIMAL_MODELS'’\n",
       "          to use the expert curated, animal models data; ‘'GWASCAT'’ to\n",
       "          use the NHGRI-EBI GWAS Catalog; ‘'GWASDB'’ to use the GWAS\n",
       "          Database GWASdb; ‘'CLINVAR'’ to use ClinVar, a public archive\n",
       "          of relationships among sequence variation and human\n",
       "          phenotype; ‘'BEFREE'’ to use text mining data, generated\n",
       "          using BeFree System; ‘'ALL'’ to use all these databases.\n",
       "          Default ‘'CURATED'’.\n",
       "\n",
       "   score: A vector with two elements: 1) initial value of score 2)\n",
       "          final value of score\n",
       "\n",
       " verbose: By default ‘FALSE’. Change it to ‘TRUE’ to get a on-time log\n",
       "          from the function.\n",
       "\n",
       "warnings: By default ‘TRUE’. Change it to ‘FALSE’ to don't see the\n",
       "          warnings.\n",
       "\n",
       "_\bV_\ba_\bl_\bu_\be:\n",
       "\n",
       "     An object of class ‘DataGeNET.DGN’\n",
       "\n",
       "_\bE_\bx_\ba_\bm_\bp_\bl_\be_\bs:\n",
       "\n",
       "     dis_res <- disease2gene( \"C0028754\", database = \"CURATED\" , score = c(0,1))\n",
       "     "
      ]
     },
     "metadata": {},
     "output_type": "display_data"
    }
   ],
   "source": [
    "?disease2gene"
   ]
  },
  {
   "cell_type": "code",
   "execution_count": 18,
   "id": "b2854b5e-569f-41ad-aef9-b9509678017e",
   "metadata": {
    "collapsed": true,
    "jupyter": {
     "outputs_hidden": true
    },
    "tags": []
   },
   "outputs": [
    {
     "name": "stdout",
     "output_type": "stream",
     "text": [
      "[1] 1\n",
      "$category\n",
      "[1] \"Client error\"\n",
      "\n",
      "$reason\n",
      "[1] \"Not Found\"\n",
      "\n",
      "$message\n",
      "[1] \"Client error: (404) Not Found\"\n",
      "\n"
     ]
    },
    {
     "name": "stderr",
     "output_type": "stream",
     "text": [
      "No encoding supplied: defaulting to UTF-8.\n",
      "\n"
     ]
    },
    {
     "name": "stdout",
     "output_type": "stream",
     "text": [
      "[1] \"{\\\"detail\\\":\\\"The query didn't return any results\\\",\\\"status_code\\\":404}\"\n",
      "[1] \"no results for the query\"\n",
      "[1] 2\n",
      "$category\n",
      "[1] \"Client error\"\n",
      "\n",
      "$reason\n",
      "[1] \"Not Found\"\n",
      "\n",
      "$message\n",
      "[1] \"Client error: (404) Not Found\"\n",
      "\n"
     ]
    },
    {
     "name": "stderr",
     "output_type": "stream",
     "text": [
      "No encoding supplied: defaulting to UTF-8.\n",
      "\n"
     ]
    },
    {
     "name": "stdout",
     "output_type": "stream",
     "text": [
      "[1] \"{\\\"detail\\\":\\\"The query didn't return any results\\\",\\\"status_code\\\":404}\"\n",
      "[1] \"no results for the query\"\n",
      "[1] 3\n",
      "$category\n",
      "[1] \"Client error\"\n",
      "\n",
      "$reason\n",
      "[1] \"Not Found\"\n",
      "\n",
      "$message\n",
      "[1] \"Client error: (404) Not Found\"\n",
      "\n"
     ]
    },
    {
     "name": "stderr",
     "output_type": "stream",
     "text": [
      "No encoding supplied: defaulting to UTF-8.\n",
      "\n"
     ]
    },
    {
     "name": "stdout",
     "output_type": "stream",
     "text": [
      "[1] \"{\\\"detail\\\":\\\"The query didn't return any results\\\",\\\"status_code\\\":404}\"\n",
      "[1] \"no results for the query\"\n",
      "[1] 4\n",
      "$category\n",
      "[1] \"Client error\"\n",
      "\n",
      "$reason\n",
      "[1] \"Not Found\"\n",
      "\n",
      "$message\n",
      "[1] \"Client error: (404) Not Found\"\n",
      "\n"
     ]
    },
    {
     "name": "stderr",
     "output_type": "stream",
     "text": [
      "No encoding supplied: defaulting to UTF-8.\n",
      "\n"
     ]
    },
    {
     "name": "stdout",
     "output_type": "stream",
     "text": [
      "[1] \"{\\\"detail\\\":\\\"The query didn't return any results\\\",\\\"status_code\\\":404}\"\n",
      "[1] \"no results for the query\"\n",
      "[1] 5\n",
      "$category\n",
      "[1] \"Client error\"\n",
      "\n",
      "$reason\n",
      "[1] \"Not Found\"\n",
      "\n",
      "$message\n",
      "[1] \"Client error: (404) Not Found\"\n",
      "\n"
     ]
    },
    {
     "name": "stderr",
     "output_type": "stream",
     "text": [
      "No encoding supplied: defaulting to UTF-8.\n",
      "\n"
     ]
    },
    {
     "name": "stdout",
     "output_type": "stream",
     "text": [
      "[1] \"{\\\"detail\\\":\\\"The query didn't return any results\\\",\\\"status_code\\\":404}\"\n",
      "[1] \"no results for the query\"\n",
      "[1] 6\n",
      "$category\n",
      "[1] \"Client error\"\n",
      "\n",
      "$reason\n",
      "[1] \"Not Found\"\n",
      "\n",
      "$message\n",
      "[1] \"Client error: (404) Not Found\"\n",
      "\n"
     ]
    },
    {
     "name": "stderr",
     "output_type": "stream",
     "text": [
      "No encoding supplied: defaulting to UTF-8.\n",
      "\n"
     ]
    },
    {
     "name": "stdout",
     "output_type": "stream",
     "text": [
      "[1] \"{\\\"detail\\\":\\\"The query didn't return any results\\\",\\\"status_code\\\":404}\"\n",
      "[1] \"no results for the query\"\n",
      "[1] 7\n",
      "$category\n",
      "[1] \"Client error\"\n",
      "\n",
      "$reason\n",
      "[1] \"Not Found\"\n",
      "\n",
      "$message\n",
      "[1] \"Client error: (404) Not Found\"\n",
      "\n"
     ]
    },
    {
     "name": "stderr",
     "output_type": "stream",
     "text": [
      "No encoding supplied: defaulting to UTF-8.\n",
      "\n"
     ]
    },
    {
     "name": "stdout",
     "output_type": "stream",
     "text": [
      "[1] \"{\\\"detail\\\":\\\"The query didn't return any results\\\",\\\"status_code\\\":404}\"\n",
      "[1] \"no results for the query\"\n",
      "[1] 8\n",
      "$category\n",
      "[1] \"Client error\"\n",
      "\n",
      "$reason\n",
      "[1] \"Not Found\"\n",
      "\n",
      "$message\n",
      "[1] \"Client error: (404) Not Found\"\n",
      "\n"
     ]
    },
    {
     "name": "stderr",
     "output_type": "stream",
     "text": [
      "No encoding supplied: defaulting to UTF-8.\n",
      "\n"
     ]
    },
    {
     "name": "stdout",
     "output_type": "stream",
     "text": [
      "[1] \"{\\\"detail\\\":\\\"The query didn't return any results\\\",\\\"status_code\\\":404}\"\n",
      "[1] \"no results for the query\"\n",
      "[1] 9\n",
      "$category\n",
      "[1] \"Client error\"\n",
      "\n",
      "$reason\n",
      "[1] \"Not Found\"\n",
      "\n",
      "$message\n",
      "[1] \"Client error: (404) Not Found\"\n",
      "\n"
     ]
    },
    {
     "name": "stderr",
     "output_type": "stream",
     "text": [
      "No encoding supplied: defaulting to UTF-8.\n",
      "\n"
     ]
    },
    {
     "name": "stdout",
     "output_type": "stream",
     "text": [
      "[1] \"{\\\"detail\\\":\\\"The query didn't return any results\\\",\\\"status_code\\\":404}\"\n",
      "[1] \"no results for the query\"\n",
      "[1] 10\n",
      "$category\n",
      "[1] \"Client error\"\n",
      "\n",
      "$reason\n",
      "[1] \"Not Found\"\n",
      "\n",
      "$message\n",
      "[1] \"Client error: (404) Not Found\"\n",
      "\n"
     ]
    },
    {
     "name": "stderr",
     "output_type": "stream",
     "text": [
      "No encoding supplied: defaulting to UTF-8.\n",
      "\n"
     ]
    },
    {
     "name": "stdout",
     "output_type": "stream",
     "text": [
      "[1] \"{\\\"detail\\\":\\\"The query didn't return any results\\\",\\\"status_code\\\":404}\"\n",
      "[1] \"no results for the query\"\n",
      "[1] 11\n",
      "$category\n",
      "[1] \"Client error\"\n",
      "\n",
      "$reason\n",
      "[1] \"Not Found\"\n",
      "\n",
      "$message\n",
      "[1] \"Client error: (404) Not Found\"\n",
      "\n"
     ]
    },
    {
     "name": "stderr",
     "output_type": "stream",
     "text": [
      "No encoding supplied: defaulting to UTF-8.\n",
      "\n"
     ]
    },
    {
     "name": "stdout",
     "output_type": "stream",
     "text": [
      "[1] \"{\\\"detail\\\":\\\"The query didn't return any results\\\",\\\"status_code\\\":404}\"\n",
      "[1] \"no results for the query\"\n",
      "[1] 12\n",
      "$category\n",
      "[1] \"Client error\"\n",
      "\n",
      "$reason\n",
      "[1] \"Not Found\"\n",
      "\n",
      "$message\n",
      "[1] \"Client error: (404) Not Found\"\n",
      "\n"
     ]
    },
    {
     "name": "stderr",
     "output_type": "stream",
     "text": [
      "No encoding supplied: defaulting to UTF-8.\n",
      "\n"
     ]
    },
    {
     "name": "stdout",
     "output_type": "stream",
     "text": [
      "[1] \"{\\\"detail\\\":\\\"The query didn't return any results\\\",\\\"status_code\\\":404}\"\n",
      "[1] \"no results for the query\"\n",
      "[1] 13\n",
      "$category\n",
      "[1] \"Client error\"\n",
      "\n",
      "$reason\n",
      "[1] \"Not Found\"\n",
      "\n",
      "$message\n",
      "[1] \"Client error: (404) Not Found\"\n",
      "\n"
     ]
    },
    {
     "name": "stderr",
     "output_type": "stream",
     "text": [
      "No encoding supplied: defaulting to UTF-8.\n",
      "\n"
     ]
    },
    {
     "name": "stdout",
     "output_type": "stream",
     "text": [
      "[1] \"{\\\"detail\\\":\\\"The query didn't return any results\\\",\\\"status_code\\\":404}\"\n",
      "[1] \"no results for the query\"\n",
      "[1] 14\n",
      "$category\n",
      "[1] \"Client error\"\n",
      "\n",
      "$reason\n",
      "[1] \"Not Found\"\n",
      "\n",
      "$message\n",
      "[1] \"Client error: (404) Not Found\"\n",
      "\n"
     ]
    },
    {
     "name": "stderr",
     "output_type": "stream",
     "text": [
      "No encoding supplied: defaulting to UTF-8.\n",
      "\n"
     ]
    },
    {
     "name": "stdout",
     "output_type": "stream",
     "text": [
      "[1] \"{\\\"detail\\\":\\\"The query didn't return any results\\\",\\\"status_code\\\":404}\"\n",
      "[1] \"no results for the query\"\n",
      "[1] 15\n",
      "$category\n",
      "[1] \"Client error\"\n",
      "\n",
      "$reason\n",
      "[1] \"Not Found\"\n",
      "\n",
      "$message\n",
      "[1] \"Client error: (404) Not Found\"\n",
      "\n"
     ]
    },
    {
     "name": "stderr",
     "output_type": "stream",
     "text": [
      "No encoding supplied: defaulting to UTF-8.\n",
      "\n"
     ]
    },
    {
     "name": "stdout",
     "output_type": "stream",
     "text": [
      "[1] \"{\\\"detail\\\":\\\"The query didn't return any results\\\",\\\"status_code\\\":404}\"\n",
      "[1] \"no results for the query\"\n",
      "[1] 16\n",
      "$category\n",
      "[1] \"Client error\"\n",
      "\n",
      "$reason\n",
      "[1] \"Not Found\"\n",
      "\n",
      "$message\n",
      "[1] \"Client error: (404) Not Found\"\n",
      "\n"
     ]
    },
    {
     "name": "stderr",
     "output_type": "stream",
     "text": [
      "No encoding supplied: defaulting to UTF-8.\n",
      "\n"
     ]
    },
    {
     "name": "stdout",
     "output_type": "stream",
     "text": [
      "[1] \"{\\\"detail\\\":\\\"The query didn't return any results\\\",\\\"status_code\\\":404}\"\n",
      "[1] \"no results for the query\"\n",
      "[1] 17\n",
      "$category\n",
      "[1] \"Client error\"\n",
      "\n",
      "$reason\n",
      "[1] \"Not Found\"\n",
      "\n",
      "$message\n",
      "[1] \"Client error: (404) Not Found\"\n",
      "\n"
     ]
    },
    {
     "name": "stderr",
     "output_type": "stream",
     "text": [
      "No encoding supplied: defaulting to UTF-8.\n",
      "\n"
     ]
    },
    {
     "name": "stdout",
     "output_type": "stream",
     "text": [
      "[1] \"{\\\"detail\\\":\\\"The query didn't return any results\\\",\\\"status_code\\\":404}\"\n",
      "[1] \"no results for the query\"\n",
      "[1] 18\n",
      "$category\n",
      "[1] \"Client error\"\n",
      "\n",
      "$reason\n",
      "[1] \"Not Found\"\n",
      "\n",
      "$message\n",
      "[1] \"Client error: (404) Not Found\"\n",
      "\n"
     ]
    },
    {
     "name": "stderr",
     "output_type": "stream",
     "text": [
      "No encoding supplied: defaulting to UTF-8.\n",
      "\n"
     ]
    },
    {
     "name": "stdout",
     "output_type": "stream",
     "text": [
      "[1] \"{\\\"detail\\\":\\\"The query didn't return any results\\\",\\\"status_code\\\":404}\"\n",
      "[1] \"no results for the query\"\n",
      "[1] 19\n",
      "$category\n",
      "[1] \"Client error\"\n",
      "\n",
      "$reason\n",
      "[1] \"Not Found\"\n",
      "\n",
      "$message\n",
      "[1] \"Client error: (404) Not Found\"\n",
      "\n"
     ]
    },
    {
     "name": "stderr",
     "output_type": "stream",
     "text": [
      "No encoding supplied: defaulting to UTF-8.\n",
      "\n"
     ]
    },
    {
     "name": "stdout",
     "output_type": "stream",
     "text": [
      "[1] \"{\\\"detail\\\":\\\"The query didn't return any results\\\",\\\"status_code\\\":404}\"\n",
      "[1] \"no results for the query\"\n",
      "[1] 20\n",
      "$category\n",
      "[1] \"Client error\"\n",
      "\n",
      "$reason\n",
      "[1] \"Not Found\"\n",
      "\n",
      "$message\n",
      "[1] \"Client error: (404) Not Found\"\n",
      "\n"
     ]
    },
    {
     "name": "stderr",
     "output_type": "stream",
     "text": [
      "No encoding supplied: defaulting to UTF-8.\n",
      "\n"
     ]
    },
    {
     "name": "stdout",
     "output_type": "stream",
     "text": [
      "[1] \"{\\\"detail\\\":\\\"The query didn't return any results\\\",\\\"status_code\\\":404}\"\n",
      "[1] \"no results for the query\"\n",
      "[1] 21\n",
      "$category\n",
      "[1] \"Client error\"\n",
      "\n",
      "$reason\n",
      "[1] \"Not Found\"\n",
      "\n",
      "$message\n",
      "[1] \"Client error: (404) Not Found\"\n",
      "\n"
     ]
    },
    {
     "name": "stderr",
     "output_type": "stream",
     "text": [
      "No encoding supplied: defaulting to UTF-8.\n",
      "\n"
     ]
    },
    {
     "name": "stdout",
     "output_type": "stream",
     "text": [
      "[1] \"{\\\"detail\\\":\\\"The query didn't return any results\\\",\\\"status_code\\\":404}\"\n",
      "[1] \"no results for the query\"\n",
      "[1] 22\n",
      "$category\n",
      "[1] \"Client error\"\n",
      "\n",
      "$reason\n",
      "[1] \"Not Found\"\n",
      "\n",
      "$message\n",
      "[1] \"Client error: (404) Not Found\"\n",
      "\n"
     ]
    },
    {
     "name": "stderr",
     "output_type": "stream",
     "text": [
      "No encoding supplied: defaulting to UTF-8.\n",
      "\n"
     ]
    },
    {
     "name": "stdout",
     "output_type": "stream",
     "text": [
      "[1] \"{\\\"detail\\\":\\\"The query didn't return any results\\\",\\\"status_code\\\":404}\"\n",
      "[1] \"no results for the query\"\n",
      "[1] 23\n",
      "$category\n",
      "[1] \"Client error\"\n",
      "\n",
      "$reason\n",
      "[1] \"Not Found\"\n",
      "\n",
      "$message\n",
      "[1] \"Client error: (404) Not Found\"\n",
      "\n"
     ]
    },
    {
     "name": "stderr",
     "output_type": "stream",
     "text": [
      "No encoding supplied: defaulting to UTF-8.\n",
      "\n"
     ]
    },
    {
     "name": "stdout",
     "output_type": "stream",
     "text": [
      "[1] \"{\\\"detail\\\":\\\"The query didn't return any results\\\",\\\"status_code\\\":404}\"\n",
      "[1] \"no results for the query\"\n",
      "[1] 24\n",
      "$category\n",
      "[1] \"Client error\"\n",
      "\n",
      "$reason\n",
      "[1] \"Not Found\"\n",
      "\n",
      "$message\n",
      "[1] \"Client error: (404) Not Found\"\n",
      "\n"
     ]
    },
    {
     "name": "stderr",
     "output_type": "stream",
     "text": [
      "No encoding supplied: defaulting to UTF-8.\n",
      "\n"
     ]
    },
    {
     "name": "stdout",
     "output_type": "stream",
     "text": [
      "[1] \"{\\\"detail\\\":\\\"The query didn't return any results\\\",\\\"status_code\\\":404}\"\n",
      "[1] \"no results for the query\"\n",
      "[1] 25\n",
      "$category\n",
      "[1] \"Client error\"\n",
      "\n",
      "$reason\n",
      "[1] \"Not Found\"\n",
      "\n",
      "$message\n",
      "[1] \"Client error: (404) Not Found\"\n",
      "\n"
     ]
    },
    {
     "name": "stderr",
     "output_type": "stream",
     "text": [
      "No encoding supplied: defaulting to UTF-8.\n",
      "\n"
     ]
    },
    {
     "name": "stdout",
     "output_type": "stream",
     "text": [
      "[1] \"{\\\"detail\\\":\\\"The query didn't return any results\\\",\\\"status_code\\\":404}\"\n",
      "[1] \"no results for the query\"\n",
      "[1] 26\n",
      "$category\n",
      "[1] \"Client error\"\n",
      "\n",
      "$reason\n",
      "[1] \"Not Found\"\n",
      "\n",
      "$message\n",
      "[1] \"Client error: (404) Not Found\"\n",
      "\n"
     ]
    },
    {
     "name": "stderr",
     "output_type": "stream",
     "text": [
      "No encoding supplied: defaulting to UTF-8.\n",
      "\n"
     ]
    },
    {
     "name": "stdout",
     "output_type": "stream",
     "text": [
      "[1] \"{\\\"detail\\\":\\\"The query didn't return any results\\\",\\\"status_code\\\":404}\"\n",
      "[1] \"no results for the query\"\n",
      "[1] 27\n",
      "$category\n",
      "[1] \"Client error\"\n",
      "\n",
      "$reason\n",
      "[1] \"Not Found\"\n",
      "\n",
      "$message\n",
      "[1] \"Client error: (404) Not Found\"\n",
      "\n"
     ]
    },
    {
     "name": "stderr",
     "output_type": "stream",
     "text": [
      "No encoding supplied: defaulting to UTF-8.\n",
      "\n"
     ]
    },
    {
     "name": "stdout",
     "output_type": "stream",
     "text": [
      "[1] \"{\\\"detail\\\":\\\"The query didn't return any results\\\",\\\"status_code\\\":404}\"\n",
      "[1] \"no results for the query\"\n",
      "[1] 28\n",
      "$category\n",
      "[1] \"Client error\"\n",
      "\n",
      "$reason\n",
      "[1] \"Not Found\"\n",
      "\n",
      "$message\n",
      "[1] \"Client error: (404) Not Found\"\n",
      "\n"
     ]
    },
    {
     "name": "stderr",
     "output_type": "stream",
     "text": [
      "No encoding supplied: defaulting to UTF-8.\n",
      "\n"
     ]
    },
    {
     "name": "stdout",
     "output_type": "stream",
     "text": [
      "[1] \"{\\\"detail\\\":\\\"The query didn't return any results\\\",\\\"status_code\\\":404}\"\n",
      "[1] \"no results for the query\"\n",
      "[1] 29\n",
      "[1] 30\n",
      "$category\n",
      "[1] \"Client error\"\n",
      "\n",
      "$reason\n",
      "[1] \"Not Found\"\n",
      "\n",
      "$message\n",
      "[1] \"Client error: (404) Not Found\"\n",
      "\n"
     ]
    },
    {
     "name": "stderr",
     "output_type": "stream",
     "text": [
      "No encoding supplied: defaulting to UTF-8.\n",
      "\n"
     ]
    },
    {
     "name": "stdout",
     "output_type": "stream",
     "text": [
      "[1] \"{\\\"detail\\\":\\\"The query didn't return any results\\\",\\\"status_code\\\":404}\"\n",
      "[1] \"no results for the query\"\n",
      "[1] 31\n",
      "$category\n",
      "[1] \"Client error\"\n",
      "\n",
      "$reason\n",
      "[1] \"Not Found\"\n",
      "\n",
      "$message\n",
      "[1] \"Client error: (404) Not Found\"\n",
      "\n"
     ]
    },
    {
     "name": "stderr",
     "output_type": "stream",
     "text": [
      "No encoding supplied: defaulting to UTF-8.\n",
      "\n"
     ]
    },
    {
     "name": "stdout",
     "output_type": "stream",
     "text": [
      "[1] \"{\\\"detail\\\":\\\"The query didn't return any results\\\",\\\"status_code\\\":404}\"\n",
      "[1] \"no results for the query\"\n",
      "[1] 32\n",
      "$category\n",
      "[1] \"Client error\"\n",
      "\n",
      "$reason\n",
      "[1] \"Not Found\"\n",
      "\n",
      "$message\n",
      "[1] \"Client error: (404) Not Found\"\n",
      "\n"
     ]
    },
    {
     "name": "stderr",
     "output_type": "stream",
     "text": [
      "No encoding supplied: defaulting to UTF-8.\n",
      "\n"
     ]
    },
    {
     "name": "stdout",
     "output_type": "stream",
     "text": [
      "[1] \"{\\\"detail\\\":\\\"The query didn't return any results\\\",\\\"status_code\\\":404}\"\n",
      "[1] \"no results for the query\"\n",
      "[1] 33\n",
      "$category\n",
      "[1] \"Client error\"\n",
      "\n",
      "$reason\n",
      "[1] \"Not Found\"\n",
      "\n",
      "$message\n",
      "[1] \"Client error: (404) Not Found\"\n",
      "\n"
     ]
    },
    {
     "name": "stderr",
     "output_type": "stream",
     "text": [
      "No encoding supplied: defaulting to UTF-8.\n",
      "\n"
     ]
    },
    {
     "name": "stdout",
     "output_type": "stream",
     "text": [
      "[1] \"{\\\"detail\\\":\\\"The query didn't return any results\\\",\\\"status_code\\\":404}\"\n",
      "[1] \"no results for the query\"\n",
      "[1] 34\n",
      "$category\n",
      "[1] \"Client error\"\n",
      "\n",
      "$reason\n",
      "[1] \"Not Found\"\n",
      "\n",
      "$message\n",
      "[1] \"Client error: (404) Not Found\"\n",
      "\n"
     ]
    },
    {
     "name": "stderr",
     "output_type": "stream",
     "text": [
      "No encoding supplied: defaulting to UTF-8.\n",
      "\n"
     ]
    },
    {
     "name": "stdout",
     "output_type": "stream",
     "text": [
      "[1] \"{\\\"detail\\\":\\\"The query didn't return any results\\\",\\\"status_code\\\":404}\"\n",
      "[1] \"no results for the query\"\n",
      "[1] 35\n",
      "$category\n",
      "[1] \"Client error\"\n",
      "\n",
      "$reason\n",
      "[1] \"Not Found\"\n",
      "\n",
      "$message\n",
      "[1] \"Client error: (404) Not Found\"\n",
      "\n"
     ]
    },
    {
     "name": "stderr",
     "output_type": "stream",
     "text": [
      "No encoding supplied: defaulting to UTF-8.\n",
      "\n"
     ]
    },
    {
     "name": "stdout",
     "output_type": "stream",
     "text": [
      "[1] \"{\\\"detail\\\":\\\"The query didn't return any results\\\",\\\"status_code\\\":404}\"\n",
      "[1] \"no results for the query\"\n",
      "[1] 36\n",
      "$category\n",
      "[1] \"Client error\"\n",
      "\n",
      "$reason\n",
      "[1] \"Not Found\"\n",
      "\n",
      "$message\n",
      "[1] \"Client error: (404) Not Found\"\n",
      "\n"
     ]
    },
    {
     "name": "stderr",
     "output_type": "stream",
     "text": [
      "No encoding supplied: defaulting to UTF-8.\n",
      "\n"
     ]
    },
    {
     "name": "stdout",
     "output_type": "stream",
     "text": [
      "[1] \"{\\\"detail\\\":\\\"The query didn't return any results\\\",\\\"status_code\\\":404}\"\n",
      "[1] \"no results for the query\"\n",
      "[1] 37\n",
      "$category\n",
      "[1] \"Client error\"\n",
      "\n",
      "$reason\n",
      "[1] \"Not Found\"\n",
      "\n",
      "$message\n",
      "[1] \"Client error: (404) Not Found\"\n",
      "\n"
     ]
    },
    {
     "name": "stderr",
     "output_type": "stream",
     "text": [
      "No encoding supplied: defaulting to UTF-8.\n",
      "\n"
     ]
    },
    {
     "name": "stdout",
     "output_type": "stream",
     "text": [
      "[1] \"{\\\"detail\\\":\\\"The query didn't return any results\\\",\\\"status_code\\\":404}\"\n",
      "[1] \"no results for the query\"\n",
      "[1] 38\n",
      "$category\n",
      "[1] \"Client error\"\n",
      "\n",
      "$reason\n",
      "[1] \"Not Found\"\n",
      "\n",
      "$message\n",
      "[1] \"Client error: (404) Not Found\"\n",
      "\n"
     ]
    },
    {
     "name": "stderr",
     "output_type": "stream",
     "text": [
      "No encoding supplied: defaulting to UTF-8.\n",
      "\n"
     ]
    },
    {
     "name": "stdout",
     "output_type": "stream",
     "text": [
      "[1] \"{\\\"detail\\\":\\\"The query didn't return any results\\\",\\\"status_code\\\":404}\"\n",
      "[1] \"no results for the query\"\n",
      "[1] 39\n",
      "$category\n",
      "[1] \"Client error\"\n",
      "\n",
      "$reason\n",
      "[1] \"Not Found\"\n",
      "\n",
      "$message\n",
      "[1] \"Client error: (404) Not Found\"\n",
      "\n"
     ]
    },
    {
     "name": "stderr",
     "output_type": "stream",
     "text": [
      "No encoding supplied: defaulting to UTF-8.\n",
      "\n"
     ]
    },
    {
     "name": "stdout",
     "output_type": "stream",
     "text": [
      "[1] \"{\\\"detail\\\":\\\"The query didn't return any results\\\",\\\"status_code\\\":404}\"\n",
      "[1] \"no results for the query\"\n",
      "[1] 40\n",
      "$category\n",
      "[1] \"Client error\"\n",
      "\n",
      "$reason\n",
      "[1] \"Not Found\"\n",
      "\n",
      "$message\n",
      "[1] \"Client error: (404) Not Found\"\n",
      "\n"
     ]
    },
    {
     "name": "stderr",
     "output_type": "stream",
     "text": [
      "No encoding supplied: defaulting to UTF-8.\n",
      "\n"
     ]
    },
    {
     "name": "stdout",
     "output_type": "stream",
     "text": [
      "[1] \"{\\\"detail\\\":\\\"The query didn't return any results\\\",\\\"status_code\\\":404}\"\n",
      "[1] \"no results for the query\"\n",
      "[1] 41\n",
      "$category\n",
      "[1] \"Client error\"\n",
      "\n",
      "$reason\n",
      "[1] \"Not Found\"\n",
      "\n",
      "$message\n",
      "[1] \"Client error: (404) Not Found\"\n",
      "\n"
     ]
    },
    {
     "name": "stderr",
     "output_type": "stream",
     "text": [
      "No encoding supplied: defaulting to UTF-8.\n",
      "\n"
     ]
    },
    {
     "name": "stdout",
     "output_type": "stream",
     "text": [
      "[1] \"{\\\"detail\\\":\\\"The query didn't return any results\\\",\\\"status_code\\\":404}\"\n",
      "[1] \"no results for the query\"\n",
      "[1] 42\n",
      "$category\n",
      "[1] \"Client error\"\n",
      "\n",
      "$reason\n",
      "[1] \"Not Found\"\n",
      "\n",
      "$message\n",
      "[1] \"Client error: (404) Not Found\"\n",
      "\n"
     ]
    },
    {
     "name": "stderr",
     "output_type": "stream",
     "text": [
      "No encoding supplied: defaulting to UTF-8.\n",
      "\n"
     ]
    },
    {
     "name": "stdout",
     "output_type": "stream",
     "text": [
      "[1] \"{\\\"detail\\\":\\\"The query didn't return any results\\\",\\\"status_code\\\":404}\"\n",
      "[1] \"no results for the query\"\n",
      "[1] 43\n",
      "[1] 44\n",
      "$category\n",
      "[1] \"Client error\"\n",
      "\n",
      "$reason\n",
      "[1] \"Not Found\"\n",
      "\n",
      "$message\n",
      "[1] \"Client error: (404) Not Found\"\n",
      "\n"
     ]
    },
    {
     "name": "stderr",
     "output_type": "stream",
     "text": [
      "No encoding supplied: defaulting to UTF-8.\n",
      "\n"
     ]
    },
    {
     "name": "stdout",
     "output_type": "stream",
     "text": [
      "[1] \"{\\\"detail\\\":\\\"The query didn't return any results\\\",\\\"status_code\\\":404}\"\n",
      "[1] \"no results for the query\"\n",
      "[1] 45\n",
      "$category\n",
      "[1] \"Client error\"\n",
      "\n",
      "$reason\n",
      "[1] \"Not Found\"\n",
      "\n",
      "$message\n",
      "[1] \"Client error: (404) Not Found\"\n",
      "\n"
     ]
    },
    {
     "name": "stderr",
     "output_type": "stream",
     "text": [
      "No encoding supplied: defaulting to UTF-8.\n",
      "\n"
     ]
    },
    {
     "name": "stdout",
     "output_type": "stream",
     "text": [
      "[1] \"{\\\"detail\\\":\\\"The query didn't return any results\\\",\\\"status_code\\\":404}\"\n",
      "[1] \"no results for the query\"\n",
      "[1] 46\n",
      "$category\n",
      "[1] \"Client error\"\n",
      "\n",
      "$reason\n",
      "[1] \"Not Found\"\n",
      "\n",
      "$message\n",
      "[1] \"Client error: (404) Not Found\"\n",
      "\n"
     ]
    },
    {
     "name": "stderr",
     "output_type": "stream",
     "text": [
      "No encoding supplied: defaulting to UTF-8.\n",
      "\n"
     ]
    },
    {
     "name": "stdout",
     "output_type": "stream",
     "text": [
      "[1] \"{\\\"detail\\\":\\\"The query didn't return any results\\\",\\\"status_code\\\":404}\"\n",
      "[1] \"no results for the query\"\n",
      "[1] 47\n",
      "$category\n",
      "[1] \"Client error\"\n",
      "\n",
      "$reason\n",
      "[1] \"Not Found\"\n",
      "\n",
      "$message\n",
      "[1] \"Client error: (404) Not Found\"\n",
      "\n"
     ]
    },
    {
     "name": "stderr",
     "output_type": "stream",
     "text": [
      "No encoding supplied: defaulting to UTF-8.\n",
      "\n"
     ]
    },
    {
     "name": "stdout",
     "output_type": "stream",
     "text": [
      "[1] \"{\\\"detail\\\":\\\"The query didn't return any results\\\",\\\"status_code\\\":404}\"\n",
      "[1] \"no results for the query\"\n",
      "[1] 48\n",
      "[1] 49\n",
      "$category\n",
      "[1] \"Client error\"\n",
      "\n",
      "$reason\n",
      "[1] \"Not Found\"\n",
      "\n",
      "$message\n",
      "[1] \"Client error: (404) Not Found\"\n",
      "\n"
     ]
    },
    {
     "name": "stderr",
     "output_type": "stream",
     "text": [
      "No encoding supplied: defaulting to UTF-8.\n",
      "\n"
     ]
    },
    {
     "name": "stdout",
     "output_type": "stream",
     "text": [
      "[1] \"{\\\"detail\\\":\\\"The query didn't return any results\\\",\\\"status_code\\\":404}\"\n",
      "[1] \"no results for the query\"\n",
      "[1] 50\n",
      "[1] 51\n",
      "$category\n",
      "[1] \"Client error\"\n",
      "\n",
      "$reason\n",
      "[1] \"Not Found\"\n",
      "\n",
      "$message\n",
      "[1] \"Client error: (404) Not Found\"\n",
      "\n"
     ]
    },
    {
     "name": "stderr",
     "output_type": "stream",
     "text": [
      "No encoding supplied: defaulting to UTF-8.\n",
      "\n"
     ]
    },
    {
     "name": "stdout",
     "output_type": "stream",
     "text": [
      "[1] \"{\\\"detail\\\":\\\"The query didn't return any results\\\",\\\"status_code\\\":404}\"\n",
      "[1] \"no results for the query\"\n",
      "[1] 52\n",
      "$category\n",
      "[1] \"Client error\"\n",
      "\n",
      "$reason\n",
      "[1] \"Not Found\"\n",
      "\n",
      "$message\n",
      "[1] \"Client error: (404) Not Found\"\n",
      "\n"
     ]
    },
    {
     "name": "stderr",
     "output_type": "stream",
     "text": [
      "No encoding supplied: defaulting to UTF-8.\n",
      "\n"
     ]
    },
    {
     "name": "stdout",
     "output_type": "stream",
     "text": [
      "[1] \"{\\\"detail\\\":\\\"The query didn't return any results\\\",\\\"status_code\\\":404}\"\n",
      "[1] \"no results for the query\"\n",
      "[1] 53\n",
      "[1] 54\n",
      "$category\n",
      "[1] \"Client error\"\n",
      "\n",
      "$reason\n",
      "[1] \"Not Found\"\n",
      "\n",
      "$message\n",
      "[1] \"Client error: (404) Not Found\"\n",
      "\n"
     ]
    },
    {
     "name": "stderr",
     "output_type": "stream",
     "text": [
      "No encoding supplied: defaulting to UTF-8.\n",
      "\n"
     ]
    },
    {
     "name": "stdout",
     "output_type": "stream",
     "text": [
      "[1] \"{\\\"detail\\\":\\\"The query didn't return any results\\\",\\\"status_code\\\":404}\"\n",
      "[1] \"no results for the query\"\n",
      "[1] 55\n",
      "$category\n",
      "[1] \"Client error\"\n",
      "\n",
      "$reason\n",
      "[1] \"Not Found\"\n",
      "\n",
      "$message\n",
      "[1] \"Client error: (404) Not Found\"\n",
      "\n"
     ]
    },
    {
     "name": "stderr",
     "output_type": "stream",
     "text": [
      "No encoding supplied: defaulting to UTF-8.\n",
      "\n"
     ]
    },
    {
     "name": "stdout",
     "output_type": "stream",
     "text": [
      "[1] \"{\\\"detail\\\":\\\"The query didn't return any results\\\",\\\"status_code\\\":404}\"\n",
      "[1] \"no results for the query\"\n",
      "[1] 56\n",
      "$category\n",
      "[1] \"Client error\"\n",
      "\n",
      "$reason\n",
      "[1] \"Not Found\"\n",
      "\n",
      "$message\n",
      "[1] \"Client error: (404) Not Found\"\n",
      "\n"
     ]
    },
    {
     "name": "stderr",
     "output_type": "stream",
     "text": [
      "No encoding supplied: defaulting to UTF-8.\n",
      "\n"
     ]
    },
    {
     "name": "stdout",
     "output_type": "stream",
     "text": [
      "[1] \"{\\\"detail\\\":\\\"The query didn't return any results\\\",\\\"status_code\\\":404}\"\n",
      "[1] \"no results for the query\"\n",
      "[1] 57\n",
      "$category\n",
      "[1] \"Client error\"\n",
      "\n",
      "$reason\n",
      "[1] \"Not Found\"\n",
      "\n",
      "$message\n",
      "[1] \"Client error: (404) Not Found\"\n",
      "\n"
     ]
    },
    {
     "name": "stderr",
     "output_type": "stream",
     "text": [
      "No encoding supplied: defaulting to UTF-8.\n",
      "\n"
     ]
    },
    {
     "name": "stdout",
     "output_type": "stream",
     "text": [
      "[1] \"{\\\"detail\\\":\\\"The query didn't return any results\\\",\\\"status_code\\\":404}\"\n",
      "[1] \"no results for the query\"\n",
      "[1] 58\n",
      "$category\n",
      "[1] \"Client error\"\n",
      "\n",
      "$reason\n",
      "[1] \"Not Found\"\n",
      "\n",
      "$message\n",
      "[1] \"Client error: (404) Not Found\"\n",
      "\n"
     ]
    },
    {
     "name": "stderr",
     "output_type": "stream",
     "text": [
      "No encoding supplied: defaulting to UTF-8.\n",
      "\n"
     ]
    },
    {
     "name": "stdout",
     "output_type": "stream",
     "text": [
      "[1] \"{\\\"detail\\\":\\\"The query didn't return any results\\\",\\\"status_code\\\":404}\"\n",
      "[1] \"no results for the query\"\n",
      "[1] 59\n",
      "$category\n",
      "[1] \"Client error\"\n",
      "\n",
      "$reason\n",
      "[1] \"Not Found\"\n",
      "\n",
      "$message\n",
      "[1] \"Client error: (404) Not Found\"\n",
      "\n"
     ]
    },
    {
     "name": "stderr",
     "output_type": "stream",
     "text": [
      "No encoding supplied: defaulting to UTF-8.\n",
      "\n"
     ]
    },
    {
     "name": "stdout",
     "output_type": "stream",
     "text": [
      "[1] \"{\\\"detail\\\":\\\"The query didn't return any results\\\",\\\"status_code\\\":404}\"\n",
      "[1] \"no results for the query\"\n",
      "[1] 60\n",
      "$category\n",
      "[1] \"Client error\"\n",
      "\n",
      "$reason\n",
      "[1] \"Not Found\"\n",
      "\n",
      "$message\n",
      "[1] \"Client error: (404) Not Found\"\n",
      "\n"
     ]
    },
    {
     "name": "stderr",
     "output_type": "stream",
     "text": [
      "No encoding supplied: defaulting to UTF-8.\n",
      "\n"
     ]
    },
    {
     "name": "stdout",
     "output_type": "stream",
     "text": [
      "[1] \"{\\\"detail\\\":\\\"The query didn't return any results\\\",\\\"status_code\\\":404}\"\n",
      "[1] \"no results for the query\"\n",
      "[1] 61\n",
      "$category\n",
      "[1] \"Client error\"\n",
      "\n",
      "$reason\n",
      "[1] \"Not Found\"\n",
      "\n",
      "$message\n",
      "[1] \"Client error: (404) Not Found\"\n",
      "\n"
     ]
    },
    {
     "name": "stderr",
     "output_type": "stream",
     "text": [
      "No encoding supplied: defaulting to UTF-8.\n",
      "\n"
     ]
    },
    {
     "name": "stdout",
     "output_type": "stream",
     "text": [
      "[1] \"{\\\"detail\\\":\\\"The query didn't return any results\\\",\\\"status_code\\\":404}\"\n",
      "[1] \"no results for the query\"\n",
      "[1] 62\n",
      "$category\n",
      "[1] \"Client error\"\n",
      "\n",
      "$reason\n",
      "[1] \"Not Found\"\n",
      "\n",
      "$message\n",
      "[1] \"Client error: (404) Not Found\"\n",
      "\n"
     ]
    },
    {
     "name": "stderr",
     "output_type": "stream",
     "text": [
      "No encoding supplied: defaulting to UTF-8.\n",
      "\n"
     ]
    },
    {
     "name": "stdout",
     "output_type": "stream",
     "text": [
      "[1] \"{\\\"detail\\\":\\\"The query didn't return any results\\\",\\\"status_code\\\":404}\"\n",
      "[1] \"no results for the query\"\n",
      "[1] 63\n",
      "$category\n",
      "[1] \"Client error\"\n",
      "\n",
      "$reason\n",
      "[1] \"Not Found\"\n",
      "\n",
      "$message\n",
      "[1] \"Client error: (404) Not Found\"\n",
      "\n"
     ]
    },
    {
     "name": "stderr",
     "output_type": "stream",
     "text": [
      "No encoding supplied: defaulting to UTF-8.\n",
      "\n"
     ]
    },
    {
     "name": "stdout",
     "output_type": "stream",
     "text": [
      "[1] \"{\\\"detail\\\":\\\"The query didn't return any results\\\",\\\"status_code\\\":404}\"\n",
      "[1] \"no results for the query\"\n",
      "[1] 64\n",
      "$category\n",
      "[1] \"Client error\"\n",
      "\n",
      "$reason\n",
      "[1] \"Not Found\"\n",
      "\n",
      "$message\n",
      "[1] \"Client error: (404) Not Found\"\n",
      "\n"
     ]
    },
    {
     "name": "stderr",
     "output_type": "stream",
     "text": [
      "No encoding supplied: defaulting to UTF-8.\n",
      "\n"
     ]
    },
    {
     "name": "stdout",
     "output_type": "stream",
     "text": [
      "[1] \"{\\\"detail\\\":\\\"The query didn't return any results\\\",\\\"status_code\\\":404}\"\n",
      "[1] \"no results for the query\"\n",
      "[1] 65\n",
      "[1] 66\n",
      "$category\n",
      "[1] \"Client error\"\n",
      "\n",
      "$reason\n",
      "[1] \"Not Found\"\n",
      "\n",
      "$message\n",
      "[1] \"Client error: (404) Not Found\"\n",
      "\n"
     ]
    },
    {
     "name": "stderr",
     "output_type": "stream",
     "text": [
      "No encoding supplied: defaulting to UTF-8.\n",
      "\n"
     ]
    },
    {
     "name": "stdout",
     "output_type": "stream",
     "text": [
      "[1] \"{\\\"detail\\\":\\\"The query didn't return any results\\\",\\\"status_code\\\":404}\"\n",
      "[1] \"no results for the query\"\n",
      "[1] 67\n",
      "$category\n",
      "[1] \"Client error\"\n",
      "\n",
      "$reason\n",
      "[1] \"Not Found\"\n",
      "\n",
      "$message\n",
      "[1] \"Client error: (404) Not Found\"\n",
      "\n"
     ]
    },
    {
     "name": "stderr",
     "output_type": "stream",
     "text": [
      "No encoding supplied: defaulting to UTF-8.\n",
      "\n"
     ]
    },
    {
     "name": "stdout",
     "output_type": "stream",
     "text": [
      "[1] \"{\\\"detail\\\":\\\"The query didn't return any results\\\",\\\"status_code\\\":404}\"\n",
      "[1] \"no results for the query\"\n",
      "[1] 68\n",
      "$category\n",
      "[1] \"Client error\"\n",
      "\n",
      "$reason\n",
      "[1] \"Not Found\"\n",
      "\n",
      "$message\n",
      "[1] \"Client error: (404) Not Found\"\n",
      "\n"
     ]
    },
    {
     "name": "stderr",
     "output_type": "stream",
     "text": [
      "No encoding supplied: defaulting to UTF-8.\n",
      "\n"
     ]
    },
    {
     "name": "stdout",
     "output_type": "stream",
     "text": [
      "[1] \"{\\\"detail\\\":\\\"The query didn't return any results\\\",\\\"status_code\\\":404}\"\n",
      "[1] \"no results for the query\"\n",
      "[1] 69\n",
      "$category\n",
      "[1] \"Client error\"\n",
      "\n",
      "$reason\n",
      "[1] \"Not Found\"\n",
      "\n",
      "$message\n",
      "[1] \"Client error: (404) Not Found\"\n",
      "\n"
     ]
    },
    {
     "name": "stderr",
     "output_type": "stream",
     "text": [
      "No encoding supplied: defaulting to UTF-8.\n",
      "\n"
     ]
    },
    {
     "name": "stdout",
     "output_type": "stream",
     "text": [
      "[1] \"{\\\"detail\\\":\\\"The query didn't return any results\\\",\\\"status_code\\\":404}\"\n",
      "[1] \"no results for the query\"\n",
      "[1] 70\n",
      "$category\n",
      "[1] \"Client error\"\n",
      "\n",
      "$reason\n",
      "[1] \"Not Found\"\n",
      "\n",
      "$message\n",
      "[1] \"Client error: (404) Not Found\"\n",
      "\n"
     ]
    },
    {
     "name": "stderr",
     "output_type": "stream",
     "text": [
      "No encoding supplied: defaulting to UTF-8.\n",
      "\n"
     ]
    },
    {
     "name": "stdout",
     "output_type": "stream",
     "text": [
      "[1] \"{\\\"detail\\\":\\\"The query didn't return any results\\\",\\\"status_code\\\":404}\"\n",
      "[1] \"no results for the query\"\n",
      "[1] 71\n",
      "$category\n",
      "[1] \"Client error\"\n",
      "\n",
      "$reason\n",
      "[1] \"Not Found\"\n",
      "\n",
      "$message\n",
      "[1] \"Client error: (404) Not Found\"\n",
      "\n"
     ]
    },
    {
     "name": "stderr",
     "output_type": "stream",
     "text": [
      "No encoding supplied: defaulting to UTF-8.\n",
      "\n"
     ]
    },
    {
     "name": "stdout",
     "output_type": "stream",
     "text": [
      "[1] \"{\\\"detail\\\":\\\"The query didn't return any results\\\",\\\"status_code\\\":404}\"\n",
      "[1] \"no results for the query\"\n",
      "[1] 72\n",
      "$category\n",
      "[1] \"Client error\"\n",
      "\n",
      "$reason\n",
      "[1] \"Not Found\"\n",
      "\n",
      "$message\n",
      "[1] \"Client error: (404) Not Found\"\n",
      "\n"
     ]
    },
    {
     "name": "stderr",
     "output_type": "stream",
     "text": [
      "No encoding supplied: defaulting to UTF-8.\n",
      "\n"
     ]
    },
    {
     "name": "stdout",
     "output_type": "stream",
     "text": [
      "[1] \"{\\\"detail\\\":\\\"The query didn't return any results\\\",\\\"status_code\\\":404}\"\n",
      "[1] \"no results for the query\"\n",
      "[1] 73\n",
      "$category\n",
      "[1] \"Client error\"\n",
      "\n",
      "$reason\n",
      "[1] \"Not Found\"\n",
      "\n",
      "$message\n",
      "[1] \"Client error: (404) Not Found\"\n",
      "\n"
     ]
    },
    {
     "name": "stderr",
     "output_type": "stream",
     "text": [
      "No encoding supplied: defaulting to UTF-8.\n",
      "\n"
     ]
    },
    {
     "name": "stdout",
     "output_type": "stream",
     "text": [
      "[1] \"{\\\"detail\\\":\\\"The query didn't return any results\\\",\\\"status_code\\\":404}\"\n",
      "[1] \"no results for the query\"\n",
      "[1] 74\n",
      "$category\n",
      "[1] \"Client error\"\n",
      "\n",
      "$reason\n",
      "[1] \"Not Found\"\n",
      "\n",
      "$message\n",
      "[1] \"Client error: (404) Not Found\"\n",
      "\n"
     ]
    },
    {
     "name": "stderr",
     "output_type": "stream",
     "text": [
      "No encoding supplied: defaulting to UTF-8.\n",
      "\n"
     ]
    },
    {
     "name": "stdout",
     "output_type": "stream",
     "text": [
      "[1] \"{\\\"detail\\\":\\\"The query didn't return any results\\\",\\\"status_code\\\":404}\"\n",
      "[1] \"no results for the query\"\n",
      "[1] 75\n",
      "$category\n",
      "[1] \"Client error\"\n",
      "\n",
      "$reason\n",
      "[1] \"Not Found\"\n",
      "\n",
      "$message\n",
      "[1] \"Client error: (404) Not Found\"\n",
      "\n"
     ]
    },
    {
     "name": "stderr",
     "output_type": "stream",
     "text": [
      "No encoding supplied: defaulting to UTF-8.\n",
      "\n"
     ]
    },
    {
     "name": "stdout",
     "output_type": "stream",
     "text": [
      "[1] \"{\\\"detail\\\":\\\"The query didn't return any results\\\",\\\"status_code\\\":404}\"\n",
      "[1] \"no results for the query\"\n",
      "[1] 76\n",
      "[1] 77\n",
      "$category\n",
      "[1] \"Client error\"\n",
      "\n",
      "$reason\n",
      "[1] \"Not Found\"\n",
      "\n",
      "$message\n",
      "[1] \"Client error: (404) Not Found\"\n",
      "\n"
     ]
    },
    {
     "name": "stderr",
     "output_type": "stream",
     "text": [
      "No encoding supplied: defaulting to UTF-8.\n",
      "\n"
     ]
    },
    {
     "name": "stdout",
     "output_type": "stream",
     "text": [
      "[1] \"{\\\"detail\\\":\\\"The query didn't return any results\\\",\\\"status_code\\\":404}\"\n",
      "[1] \"no results for the query\"\n",
      "[1] 78\n",
      "$category\n",
      "[1] \"Client error\"\n",
      "\n",
      "$reason\n",
      "[1] \"Not Found\"\n",
      "\n",
      "$message\n",
      "[1] \"Client error: (404) Not Found\"\n",
      "\n"
     ]
    },
    {
     "name": "stderr",
     "output_type": "stream",
     "text": [
      "No encoding supplied: defaulting to UTF-8.\n",
      "\n"
     ]
    },
    {
     "name": "stdout",
     "output_type": "stream",
     "text": [
      "[1] \"{\\\"detail\\\":\\\"The query didn't return any results\\\",\\\"status_code\\\":404}\"\n",
      "[1] \"no results for the query\"\n",
      "[1] 79\n",
      "$category\n",
      "[1] \"Client error\"\n",
      "\n",
      "$reason\n",
      "[1] \"Not Found\"\n",
      "\n",
      "$message\n",
      "[1] \"Client error: (404) Not Found\"\n",
      "\n"
     ]
    },
    {
     "name": "stderr",
     "output_type": "stream",
     "text": [
      "No encoding supplied: defaulting to UTF-8.\n",
      "\n"
     ]
    },
    {
     "name": "stdout",
     "output_type": "stream",
     "text": [
      "[1] \"{\\\"detail\\\":\\\"The query didn't return any results\\\",\\\"status_code\\\":404}\"\n",
      "[1] \"no results for the query\"\n",
      "[1] 80\n",
      "$category\n",
      "[1] \"Client error\"\n",
      "\n",
      "$reason\n",
      "[1] \"Not Found\"\n",
      "\n",
      "$message\n",
      "[1] \"Client error: (404) Not Found\"\n",
      "\n"
     ]
    },
    {
     "name": "stderr",
     "output_type": "stream",
     "text": [
      "No encoding supplied: defaulting to UTF-8.\n",
      "\n"
     ]
    },
    {
     "name": "stdout",
     "output_type": "stream",
     "text": [
      "[1] \"{\\\"detail\\\":\\\"The query didn't return any results\\\",\\\"status_code\\\":404}\"\n",
      "[1] \"no results for the query\"\n",
      "[1] 81\n",
      "$category\n",
      "[1] \"Client error\"\n",
      "\n",
      "$reason\n",
      "[1] \"Not Found\"\n",
      "\n",
      "$message\n",
      "[1] \"Client error: (404) Not Found\"\n",
      "\n"
     ]
    },
    {
     "name": "stderr",
     "output_type": "stream",
     "text": [
      "No encoding supplied: defaulting to UTF-8.\n",
      "\n"
     ]
    },
    {
     "name": "stdout",
     "output_type": "stream",
     "text": [
      "[1] \"{\\\"detail\\\":\\\"The query didn't return any results\\\",\\\"status_code\\\":404}\"\n",
      "[1] \"no results for the query\"\n",
      "[1] 82\n",
      "[1] 83\n",
      "$category\n",
      "[1] \"Client error\"\n",
      "\n",
      "$reason\n",
      "[1] \"Not Found\"\n",
      "\n",
      "$message\n",
      "[1] \"Client error: (404) Not Found\"\n",
      "\n"
     ]
    },
    {
     "name": "stderr",
     "output_type": "stream",
     "text": [
      "No encoding supplied: defaulting to UTF-8.\n",
      "\n"
     ]
    },
    {
     "name": "stdout",
     "output_type": "stream",
     "text": [
      "[1] \"{\\\"detail\\\":\\\"The query didn't return any results\\\",\\\"status_code\\\":404}\"\n",
      "[1] \"no results for the query\"\n",
      "[1] 84\n",
      "$category\n",
      "[1] \"Client error\"\n",
      "\n",
      "$reason\n",
      "[1] \"Not Found\"\n",
      "\n",
      "$message\n",
      "[1] \"Client error: (404) Not Found\"\n",
      "\n"
     ]
    },
    {
     "name": "stderr",
     "output_type": "stream",
     "text": [
      "No encoding supplied: defaulting to UTF-8.\n",
      "\n"
     ]
    },
    {
     "name": "stdout",
     "output_type": "stream",
     "text": [
      "[1] \"{\\\"detail\\\":\\\"The query didn't return any results\\\",\\\"status_code\\\":404}\"\n",
      "[1] \"no results for the query\"\n",
      "[1] 85\n",
      "$category\n",
      "[1] \"Client error\"\n",
      "\n",
      "$reason\n",
      "[1] \"Not Found\"\n",
      "\n",
      "$message\n",
      "[1] \"Client error: (404) Not Found\"\n",
      "\n"
     ]
    },
    {
     "name": "stderr",
     "output_type": "stream",
     "text": [
      "No encoding supplied: defaulting to UTF-8.\n",
      "\n"
     ]
    },
    {
     "name": "stdout",
     "output_type": "stream",
     "text": [
      "[1] \"{\\\"detail\\\":\\\"The query didn't return any results\\\",\\\"status_code\\\":404}\"\n",
      "[1] \"no results for the query\"\n",
      "[1] 86\n",
      "$category\n",
      "[1] \"Client error\"\n",
      "\n",
      "$reason\n",
      "[1] \"Not Found\"\n",
      "\n",
      "$message\n",
      "[1] \"Client error: (404) Not Found\"\n",
      "\n"
     ]
    },
    {
     "name": "stderr",
     "output_type": "stream",
     "text": [
      "No encoding supplied: defaulting to UTF-8.\n",
      "\n"
     ]
    },
    {
     "name": "stdout",
     "output_type": "stream",
     "text": [
      "[1] \"{\\\"detail\\\":\\\"The query didn't return any results\\\",\\\"status_code\\\":404}\"\n",
      "[1] \"no results for the query\"\n",
      "[1] 87\n",
      "$category\n",
      "[1] \"Client error\"\n",
      "\n",
      "$reason\n",
      "[1] \"Not Found\"\n",
      "\n",
      "$message\n",
      "[1] \"Client error: (404) Not Found\"\n",
      "\n"
     ]
    },
    {
     "name": "stderr",
     "output_type": "stream",
     "text": [
      "No encoding supplied: defaulting to UTF-8.\n",
      "\n"
     ]
    },
    {
     "name": "stdout",
     "output_type": "stream",
     "text": [
      "[1] \"{\\\"detail\\\":\\\"The query didn't return any results\\\",\\\"status_code\\\":404}\"\n",
      "[1] \"no results for the query\"\n",
      "[1] 88\n",
      "$category\n",
      "[1] \"Client error\"\n",
      "\n",
      "$reason\n",
      "[1] \"Not Found\"\n",
      "\n",
      "$message\n",
      "[1] \"Client error: (404) Not Found\"\n",
      "\n"
     ]
    },
    {
     "name": "stderr",
     "output_type": "stream",
     "text": [
      "No encoding supplied: defaulting to UTF-8.\n",
      "\n"
     ]
    },
    {
     "name": "stdout",
     "output_type": "stream",
     "text": [
      "[1] \"{\\\"detail\\\":\\\"The query didn't return any results\\\",\\\"status_code\\\":404}\"\n",
      "[1] \"no results for the query\"\n",
      "[1] 89\n",
      "$category\n",
      "[1] \"Client error\"\n",
      "\n",
      "$reason\n",
      "[1] \"Not Found\"\n",
      "\n",
      "$message\n",
      "[1] \"Client error: (404) Not Found\"\n",
      "\n"
     ]
    },
    {
     "name": "stderr",
     "output_type": "stream",
     "text": [
      "No encoding supplied: defaulting to UTF-8.\n",
      "\n"
     ]
    },
    {
     "name": "stdout",
     "output_type": "stream",
     "text": [
      "[1] \"{\\\"detail\\\":\\\"The query didn't return any results\\\",\\\"status_code\\\":404}\"\n",
      "[1] \"no results for the query\"\n",
      "[1] 90\n",
      "$category\n",
      "[1] \"Client error\"\n",
      "\n",
      "$reason\n",
      "[1] \"Not Found\"\n",
      "\n",
      "$message\n",
      "[1] \"Client error: (404) Not Found\"\n",
      "\n"
     ]
    },
    {
     "name": "stderr",
     "output_type": "stream",
     "text": [
      "No encoding supplied: defaulting to UTF-8.\n",
      "\n"
     ]
    },
    {
     "name": "stdout",
     "output_type": "stream",
     "text": [
      "[1] \"{\\\"detail\\\":\\\"The query didn't return any results\\\",\\\"status_code\\\":404}\"\n",
      "[1] \"no results for the query\"\n",
      "[1] 91\n",
      "$category\n",
      "[1] \"Client error\"\n",
      "\n",
      "$reason\n",
      "[1] \"Not Found\"\n",
      "\n",
      "$message\n",
      "[1] \"Client error: (404) Not Found\"\n",
      "\n"
     ]
    },
    {
     "name": "stderr",
     "output_type": "stream",
     "text": [
      "No encoding supplied: defaulting to UTF-8.\n",
      "\n"
     ]
    },
    {
     "name": "stdout",
     "output_type": "stream",
     "text": [
      "[1] \"{\\\"detail\\\":\\\"The query didn't return any results\\\",\\\"status_code\\\":404}\"\n",
      "[1] \"no results for the query\"\n",
      "[1] 92\n",
      "[1] 93\n",
      "$category\n",
      "[1] \"Client error\"\n",
      "\n",
      "$reason\n",
      "[1] \"Not Found\"\n",
      "\n",
      "$message\n",
      "[1] \"Client error: (404) Not Found\"\n",
      "\n"
     ]
    },
    {
     "name": "stderr",
     "output_type": "stream",
     "text": [
      "No encoding supplied: defaulting to UTF-8.\n",
      "\n"
     ]
    },
    {
     "name": "stdout",
     "output_type": "stream",
     "text": [
      "[1] \"{\\\"detail\\\":\\\"The query didn't return any results\\\",\\\"status_code\\\":404}\"\n",
      "[1] \"no results for the query\"\n",
      "[1] 94\n",
      "$category\n",
      "[1] \"Client error\"\n",
      "\n",
      "$reason\n",
      "[1] \"Not Found\"\n",
      "\n",
      "$message\n",
      "[1] \"Client error: (404) Not Found\"\n",
      "\n"
     ]
    },
    {
     "name": "stderr",
     "output_type": "stream",
     "text": [
      "No encoding supplied: defaulting to UTF-8.\n",
      "\n"
     ]
    },
    {
     "name": "stdout",
     "output_type": "stream",
     "text": [
      "[1] \"{\\\"detail\\\":\\\"The query didn't return any results\\\",\\\"status_code\\\":404}\"\n",
      "[1] \"no results for the query\"\n",
      "[1] 95\n",
      "$category\n",
      "[1] \"Client error\"\n",
      "\n",
      "$reason\n",
      "[1] \"Not Found\"\n",
      "\n",
      "$message\n",
      "[1] \"Client error: (404) Not Found\"\n",
      "\n"
     ]
    },
    {
     "name": "stderr",
     "output_type": "stream",
     "text": [
      "No encoding supplied: defaulting to UTF-8.\n",
      "\n"
     ]
    },
    {
     "name": "stdout",
     "output_type": "stream",
     "text": [
      "[1] \"{\\\"detail\\\":\\\"The query didn't return any results\\\",\\\"status_code\\\":404}\"\n",
      "[1] \"no results for the query\"\n",
      "[1] 96\n",
      "[1] 97\n",
      "$category\n",
      "[1] \"Client error\"\n",
      "\n",
      "$reason\n",
      "[1] \"Not Found\"\n",
      "\n",
      "$message\n",
      "[1] \"Client error: (404) Not Found\"\n",
      "\n"
     ]
    },
    {
     "name": "stderr",
     "output_type": "stream",
     "text": [
      "No encoding supplied: defaulting to UTF-8.\n",
      "\n"
     ]
    },
    {
     "name": "stdout",
     "output_type": "stream",
     "text": [
      "[1] \"{\\\"detail\\\":\\\"The query didn't return any results\\\",\\\"status_code\\\":404}\"\n",
      "[1] \"no results for the query\"\n",
      "[1] 98\n",
      "[1] 99\n",
      "$category\n",
      "[1] \"Client error\"\n",
      "\n",
      "$reason\n",
      "[1] \"Not Found\"\n",
      "\n",
      "$message\n",
      "[1] \"Client error: (404) Not Found\"\n",
      "\n"
     ]
    },
    {
     "name": "stderr",
     "output_type": "stream",
     "text": [
      "No encoding supplied: defaulting to UTF-8.\n",
      "\n"
     ]
    },
    {
     "name": "stdout",
     "output_type": "stream",
     "text": [
      "[1] \"{\\\"detail\\\":\\\"The query didn't return any results\\\",\\\"status_code\\\":404}\"\n",
      "[1] \"no results for the query\"\n",
      "[1] 100\n",
      "$category\n",
      "[1] \"Client error\"\n",
      "\n",
      "$reason\n",
      "[1] \"Not Found\"\n",
      "\n",
      "$message\n",
      "[1] \"Client error: (404) Not Found\"\n",
      "\n"
     ]
    },
    {
     "name": "stderr",
     "output_type": "stream",
     "text": [
      "No encoding supplied: defaulting to UTF-8.\n",
      "\n"
     ]
    },
    {
     "name": "stdout",
     "output_type": "stream",
     "text": [
      "[1] \"{\\\"detail\\\":\\\"The query didn't return any results\\\",\\\"status_code\\\":404}\"\n",
      "[1] \"no results for the query\"\n",
      "[1] 101\n",
      "$category\n",
      "[1] \"Client error\"\n",
      "\n",
      "$reason\n",
      "[1] \"Not Found\"\n",
      "\n",
      "$message\n",
      "[1] \"Client error: (404) Not Found\"\n",
      "\n"
     ]
    },
    {
     "name": "stderr",
     "output_type": "stream",
     "text": [
      "No encoding supplied: defaulting to UTF-8.\n",
      "\n"
     ]
    },
    {
     "name": "stdout",
     "output_type": "stream",
     "text": [
      "[1] \"{\\\"detail\\\":\\\"The query didn't return any results\\\",\\\"status_code\\\":404}\"\n",
      "[1] \"no results for the query\"\n",
      "[1] 102\n",
      "[1] 103\n",
      "[1] 104\n",
      "$category\n",
      "[1] \"Client error\"\n",
      "\n",
      "$reason\n",
      "[1] \"Not Found\"\n",
      "\n",
      "$message\n",
      "[1] \"Client error: (404) Not Found\"\n",
      "\n"
     ]
    },
    {
     "name": "stderr",
     "output_type": "stream",
     "text": [
      "No encoding supplied: defaulting to UTF-8.\n",
      "\n"
     ]
    },
    {
     "name": "stdout",
     "output_type": "stream",
     "text": [
      "[1] \"{\\\"detail\\\":\\\"The query didn't return any results\\\",\\\"status_code\\\":404}\"\n",
      "[1] \"no results for the query\"\n",
      "[1] 105\n",
      "$category\n",
      "[1] \"Client error\"\n",
      "\n",
      "$reason\n",
      "[1] \"Not Found\"\n",
      "\n",
      "$message\n",
      "[1] \"Client error: (404) Not Found\"\n",
      "\n"
     ]
    },
    {
     "name": "stderr",
     "output_type": "stream",
     "text": [
      "No encoding supplied: defaulting to UTF-8.\n",
      "\n"
     ]
    },
    {
     "name": "stdout",
     "output_type": "stream",
     "text": [
      "[1] \"{\\\"detail\\\":\\\"The query didn't return any results\\\",\\\"status_code\\\":404}\"\n",
      "[1] \"no results for the query\"\n",
      "[1] 106\n",
      "$category\n",
      "[1] \"Client error\"\n",
      "\n",
      "$reason\n",
      "[1] \"Not Found\"\n",
      "\n",
      "$message\n",
      "[1] \"Client error: (404) Not Found\"\n",
      "\n"
     ]
    },
    {
     "name": "stderr",
     "output_type": "stream",
     "text": [
      "No encoding supplied: defaulting to UTF-8.\n",
      "\n"
     ]
    },
    {
     "name": "stdout",
     "output_type": "stream",
     "text": [
      "[1] \"{\\\"detail\\\":\\\"The query didn't return any results\\\",\\\"status_code\\\":404}\"\n",
      "[1] \"no results for the query\"\n",
      "[1] 107\n",
      "$category\n",
      "[1] \"Client error\"\n",
      "\n",
      "$reason\n",
      "[1] \"Not Found\"\n",
      "\n",
      "$message\n",
      "[1] \"Client error: (404) Not Found\"\n",
      "\n"
     ]
    },
    {
     "name": "stderr",
     "output_type": "stream",
     "text": [
      "No encoding supplied: defaulting to UTF-8.\n",
      "\n"
     ]
    },
    {
     "name": "stdout",
     "output_type": "stream",
     "text": [
      "[1] \"{\\\"detail\\\":\\\"The query didn't return any results\\\",\\\"status_code\\\":404}\"\n",
      "[1] \"no results for the query\"\n",
      "[1] 108\n",
      "$category\n",
      "[1] \"Client error\"\n",
      "\n",
      "$reason\n",
      "[1] \"Not Found\"\n",
      "\n",
      "$message\n",
      "[1] \"Client error: (404) Not Found\"\n",
      "\n"
     ]
    },
    {
     "name": "stderr",
     "output_type": "stream",
     "text": [
      "No encoding supplied: defaulting to UTF-8.\n",
      "\n"
     ]
    },
    {
     "name": "stdout",
     "output_type": "stream",
     "text": [
      "[1] \"{\\\"detail\\\":\\\"The query didn't return any results\\\",\\\"status_code\\\":404}\"\n",
      "[1] \"no results for the query\"\n",
      "[1] 109\n",
      "$category\n",
      "[1] \"Client error\"\n",
      "\n",
      "$reason\n",
      "[1] \"Not Found\"\n",
      "\n",
      "$message\n",
      "[1] \"Client error: (404) Not Found\"\n",
      "\n"
     ]
    },
    {
     "name": "stderr",
     "output_type": "stream",
     "text": [
      "No encoding supplied: defaulting to UTF-8.\n",
      "\n"
     ]
    },
    {
     "name": "stdout",
     "output_type": "stream",
     "text": [
      "[1] \"{\\\"detail\\\":\\\"The query didn't return any results\\\",\\\"status_code\\\":404}\"\n",
      "[1] \"no results for the query\"\n",
      "[1] 110\n",
      "$category\n",
      "[1] \"Client error\"\n",
      "\n",
      "$reason\n",
      "[1] \"Not Found\"\n",
      "\n",
      "$message\n",
      "[1] \"Client error: (404) Not Found\"\n",
      "\n"
     ]
    },
    {
     "name": "stderr",
     "output_type": "stream",
     "text": [
      "No encoding supplied: defaulting to UTF-8.\n",
      "\n"
     ]
    },
    {
     "name": "stdout",
     "output_type": "stream",
     "text": [
      "[1] \"{\\\"detail\\\":\\\"The query didn't return any results\\\",\\\"status_code\\\":404}\"\n",
      "[1] \"no results for the query\"\n",
      "[1] 111\n",
      "$category\n",
      "[1] \"Client error\"\n",
      "\n",
      "$reason\n",
      "[1] \"Not Found\"\n",
      "\n",
      "$message\n",
      "[1] \"Client error: (404) Not Found\"\n",
      "\n"
     ]
    },
    {
     "name": "stderr",
     "output_type": "stream",
     "text": [
      "No encoding supplied: defaulting to UTF-8.\n",
      "\n"
     ]
    },
    {
     "name": "stdout",
     "output_type": "stream",
     "text": [
      "[1] \"{\\\"detail\\\":\\\"The query didn't return any results\\\",\\\"status_code\\\":404}\"\n",
      "[1] \"no results for the query\"\n",
      "[1] 112\n",
      "$category\n",
      "[1] \"Client error\"\n",
      "\n",
      "$reason\n",
      "[1] \"Not Found\"\n",
      "\n",
      "$message\n",
      "[1] \"Client error: (404) Not Found\"\n",
      "\n"
     ]
    },
    {
     "name": "stderr",
     "output_type": "stream",
     "text": [
      "No encoding supplied: defaulting to UTF-8.\n",
      "\n"
     ]
    },
    {
     "name": "stdout",
     "output_type": "stream",
     "text": [
      "[1] \"{\\\"detail\\\":\\\"The query didn't return any results\\\",\\\"status_code\\\":404}\"\n",
      "[1] \"no results for the query\"\n",
      "[1] 113\n",
      "$category\n",
      "[1] \"Client error\"\n",
      "\n",
      "$reason\n",
      "[1] \"Not Found\"\n",
      "\n",
      "$message\n",
      "[1] \"Client error: (404) Not Found\"\n",
      "\n"
     ]
    },
    {
     "name": "stderr",
     "output_type": "stream",
     "text": [
      "No encoding supplied: defaulting to UTF-8.\n",
      "\n"
     ]
    },
    {
     "name": "stdout",
     "output_type": "stream",
     "text": [
      "[1] \"{\\\"detail\\\":\\\"The query didn't return any results\\\",\\\"status_code\\\":404}\"\n",
      "[1] \"no results for the query\"\n",
      "[1] 114\n",
      "$category\n",
      "[1] \"Client error\"\n",
      "\n",
      "$reason\n",
      "[1] \"Not Found\"\n",
      "\n",
      "$message\n",
      "[1] \"Client error: (404) Not Found\"\n",
      "\n"
     ]
    },
    {
     "name": "stderr",
     "output_type": "stream",
     "text": [
      "No encoding supplied: defaulting to UTF-8.\n",
      "\n"
     ]
    },
    {
     "name": "stdout",
     "output_type": "stream",
     "text": [
      "[1] \"{\\\"detail\\\":\\\"The query didn't return any results\\\",\\\"status_code\\\":404}\"\n",
      "[1] \"no results for the query\"\n",
      "[1] 115\n",
      "$category\n",
      "[1] \"Client error\"\n",
      "\n",
      "$reason\n",
      "[1] \"Not Found\"\n",
      "\n",
      "$message\n",
      "[1] \"Client error: (404) Not Found\"\n",
      "\n"
     ]
    },
    {
     "name": "stderr",
     "output_type": "stream",
     "text": [
      "No encoding supplied: defaulting to UTF-8.\n",
      "\n"
     ]
    },
    {
     "name": "stdout",
     "output_type": "stream",
     "text": [
      "[1] \"{\\\"detail\\\":\\\"The query didn't return any results\\\",\\\"status_code\\\":404}\"\n",
      "[1] \"no results for the query\"\n",
      "[1] 116\n",
      "$category\n",
      "[1] \"Client error\"\n",
      "\n",
      "$reason\n",
      "[1] \"Not Found\"\n",
      "\n",
      "$message\n",
      "[1] \"Client error: (404) Not Found\"\n",
      "\n"
     ]
    },
    {
     "name": "stderr",
     "output_type": "stream",
     "text": [
      "No encoding supplied: defaulting to UTF-8.\n",
      "\n"
     ]
    },
    {
     "name": "stdout",
     "output_type": "stream",
     "text": [
      "[1] \"{\\\"detail\\\":\\\"The query didn't return any results\\\",\\\"status_code\\\":404}\"\n",
      "[1] \"no results for the query\"\n",
      "[1] 117\n",
      "$category\n",
      "[1] \"Client error\"\n",
      "\n",
      "$reason\n",
      "[1] \"Not Found\"\n",
      "\n",
      "$message\n",
      "[1] \"Client error: (404) Not Found\"\n",
      "\n"
     ]
    },
    {
     "name": "stderr",
     "output_type": "stream",
     "text": [
      "No encoding supplied: defaulting to UTF-8.\n",
      "\n"
     ]
    },
    {
     "name": "stdout",
     "output_type": "stream",
     "text": [
      "[1] \"{\\\"detail\\\":\\\"The query didn't return any results\\\",\\\"status_code\\\":404}\"\n",
      "[1] \"no results for the query\"\n",
      "[1] 118\n",
      "$category\n",
      "[1] \"Client error\"\n",
      "\n",
      "$reason\n",
      "[1] \"Not Found\"\n",
      "\n",
      "$message\n",
      "[1] \"Client error: (404) Not Found\"\n",
      "\n"
     ]
    },
    {
     "name": "stderr",
     "output_type": "stream",
     "text": [
      "No encoding supplied: defaulting to UTF-8.\n",
      "\n"
     ]
    },
    {
     "name": "stdout",
     "output_type": "stream",
     "text": [
      "[1] \"{\\\"detail\\\":\\\"The query didn't return any results\\\",\\\"status_code\\\":404}\"\n",
      "[1] \"no results for the query\"\n",
      "[1] 119\n",
      "[1] 120\n",
      "$category\n",
      "[1] \"Client error\"\n",
      "\n",
      "$reason\n",
      "[1] \"Not Found\"\n",
      "\n",
      "$message\n",
      "[1] \"Client error: (404) Not Found\"\n",
      "\n"
     ]
    },
    {
     "name": "stderr",
     "output_type": "stream",
     "text": [
      "No encoding supplied: defaulting to UTF-8.\n",
      "\n"
     ]
    },
    {
     "name": "stdout",
     "output_type": "stream",
     "text": [
      "[1] \"{\\\"detail\\\":\\\"The query didn't return any results\\\",\\\"status_code\\\":404}\"\n",
      "[1] \"no results for the query\"\n",
      "[1] 121\n",
      "$category\n",
      "[1] \"Client error\"\n",
      "\n",
      "$reason\n",
      "[1] \"Not Found\"\n",
      "\n",
      "$message\n",
      "[1] \"Client error: (404) Not Found\"\n",
      "\n"
     ]
    },
    {
     "name": "stderr",
     "output_type": "stream",
     "text": [
      "No encoding supplied: defaulting to UTF-8.\n",
      "\n"
     ]
    },
    {
     "name": "stdout",
     "output_type": "stream",
     "text": [
      "[1] \"{\\\"detail\\\":\\\"The query didn't return any results\\\",\\\"status_code\\\":404}\"\n",
      "[1] \"no results for the query\"\n",
      "[1] 122\n",
      "$category\n",
      "[1] \"Client error\"\n",
      "\n",
      "$reason\n",
      "[1] \"Not Found\"\n",
      "\n",
      "$message\n",
      "[1] \"Client error: (404) Not Found\"\n",
      "\n"
     ]
    },
    {
     "name": "stderr",
     "output_type": "stream",
     "text": [
      "No encoding supplied: defaulting to UTF-8.\n",
      "\n"
     ]
    },
    {
     "name": "stdout",
     "output_type": "stream",
     "text": [
      "[1] \"{\\\"detail\\\":\\\"The query didn't return any results\\\",\\\"status_code\\\":404}\"\n",
      "[1] \"no results for the query\"\n",
      "[1] 123\n",
      "$category\n",
      "[1] \"Client error\"\n",
      "\n",
      "$reason\n",
      "[1] \"Not Found\"\n",
      "\n",
      "$message\n",
      "[1] \"Client error: (404) Not Found\"\n",
      "\n"
     ]
    },
    {
     "name": "stderr",
     "output_type": "stream",
     "text": [
      "No encoding supplied: defaulting to UTF-8.\n",
      "\n"
     ]
    },
    {
     "name": "stdout",
     "output_type": "stream",
     "text": [
      "[1] \"{\\\"detail\\\":\\\"The query didn't return any results\\\",\\\"status_code\\\":404}\"\n",
      "[1] \"no results for the query\"\n",
      "[1] 124\n",
      "$category\n",
      "[1] \"Client error\"\n",
      "\n",
      "$reason\n",
      "[1] \"Not Found\"\n",
      "\n",
      "$message\n",
      "[1] \"Client error: (404) Not Found\"\n",
      "\n"
     ]
    },
    {
     "name": "stderr",
     "output_type": "stream",
     "text": [
      "No encoding supplied: defaulting to UTF-8.\n",
      "\n"
     ]
    },
    {
     "name": "stdout",
     "output_type": "stream",
     "text": [
      "[1] \"{\\\"detail\\\":\\\"The query didn't return any results\\\",\\\"status_code\\\":404}\"\n",
      "[1] \"no results for the query\"\n",
      "[1] 125\n",
      "$category\n",
      "[1] \"Client error\"\n",
      "\n",
      "$reason\n",
      "[1] \"Not Found\"\n",
      "\n",
      "$message\n",
      "[1] \"Client error: (404) Not Found\"\n",
      "\n"
     ]
    },
    {
     "name": "stderr",
     "output_type": "stream",
     "text": [
      "No encoding supplied: defaulting to UTF-8.\n",
      "\n"
     ]
    },
    {
     "name": "stdout",
     "output_type": "stream",
     "text": [
      "[1] \"{\\\"detail\\\":\\\"The query didn't return any results\\\",\\\"status_code\\\":404}\"\n",
      "[1] \"no results for the query\"\n",
      "[1] 126\n",
      "$category\n",
      "[1] \"Client error\"\n",
      "\n",
      "$reason\n",
      "[1] \"Not Found\"\n",
      "\n",
      "$message\n",
      "[1] \"Client error: (404) Not Found\"\n",
      "\n"
     ]
    },
    {
     "name": "stderr",
     "output_type": "stream",
     "text": [
      "No encoding supplied: defaulting to UTF-8.\n",
      "\n"
     ]
    },
    {
     "name": "stdout",
     "output_type": "stream",
     "text": [
      "[1] \"{\\\"detail\\\":\\\"The query didn't return any results\\\",\\\"status_code\\\":404}\"\n",
      "[1] \"no results for the query\"\n",
      "[1] 127\n",
      "$category\n",
      "[1] \"Client error\"\n",
      "\n",
      "$reason\n",
      "[1] \"Not Found\"\n",
      "\n",
      "$message\n",
      "[1] \"Client error: (404) Not Found\"\n",
      "\n"
     ]
    },
    {
     "name": "stderr",
     "output_type": "stream",
     "text": [
      "No encoding supplied: defaulting to UTF-8.\n",
      "\n"
     ]
    },
    {
     "name": "stdout",
     "output_type": "stream",
     "text": [
      "[1] \"{\\\"detail\\\":\\\"The query didn't return any results\\\",\\\"status_code\\\":404}\"\n",
      "[1] \"no results for the query\"\n",
      "[1] 128\n",
      "$category\n",
      "[1] \"Client error\"\n",
      "\n",
      "$reason\n",
      "[1] \"Not Found\"\n",
      "\n",
      "$message\n",
      "[1] \"Client error: (404) Not Found\"\n",
      "\n"
     ]
    },
    {
     "name": "stderr",
     "output_type": "stream",
     "text": [
      "No encoding supplied: defaulting to UTF-8.\n",
      "\n"
     ]
    },
    {
     "name": "stdout",
     "output_type": "stream",
     "text": [
      "[1] \"{\\\"detail\\\":\\\"The query didn't return any results\\\",\\\"status_code\\\":404}\"\n",
      "[1] \"no results for the query\"\n",
      "[1] 129\n",
      "$category\n",
      "[1] \"Client error\"\n",
      "\n",
      "$reason\n",
      "[1] \"Not Found\"\n",
      "\n",
      "$message\n",
      "[1] \"Client error: (404) Not Found\"\n",
      "\n"
     ]
    },
    {
     "name": "stderr",
     "output_type": "stream",
     "text": [
      "No encoding supplied: defaulting to UTF-8.\n",
      "\n"
     ]
    },
    {
     "name": "stdout",
     "output_type": "stream",
     "text": [
      "[1] \"{\\\"detail\\\":\\\"The query didn't return any results\\\",\\\"status_code\\\":404}\"\n",
      "[1] \"no results for the query\"\n",
      "[1] 130\n",
      "$category\n",
      "[1] \"Client error\"\n",
      "\n",
      "$reason\n",
      "[1] \"Not Found\"\n",
      "\n",
      "$message\n",
      "[1] \"Client error: (404) Not Found\"\n",
      "\n"
     ]
    },
    {
     "name": "stderr",
     "output_type": "stream",
     "text": [
      "No encoding supplied: defaulting to UTF-8.\n",
      "\n"
     ]
    },
    {
     "name": "stdout",
     "output_type": "stream",
     "text": [
      "[1] \"{\\\"detail\\\":\\\"The query didn't return any results\\\",\\\"status_code\\\":404}\"\n",
      "[1] \"no results for the query\"\n",
      "[1] 131\n",
      "$category\n",
      "[1] \"Client error\"\n",
      "\n",
      "$reason\n",
      "[1] \"Not Found\"\n",
      "\n",
      "$message\n",
      "[1] \"Client error: (404) Not Found\"\n",
      "\n"
     ]
    },
    {
     "name": "stderr",
     "output_type": "stream",
     "text": [
      "No encoding supplied: defaulting to UTF-8.\n",
      "\n"
     ]
    },
    {
     "name": "stdout",
     "output_type": "stream",
     "text": [
      "[1] \"{\\\"detail\\\":\\\"The query didn't return any results\\\",\\\"status_code\\\":404}\"\n",
      "[1] \"no results for the query\"\n",
      "[1] 132\n",
      "$category\n",
      "[1] \"Client error\"\n",
      "\n",
      "$reason\n",
      "[1] \"Not Found\"\n",
      "\n",
      "$message\n",
      "[1] \"Client error: (404) Not Found\"\n",
      "\n"
     ]
    },
    {
     "name": "stderr",
     "output_type": "stream",
     "text": [
      "No encoding supplied: defaulting to UTF-8.\n",
      "\n"
     ]
    },
    {
     "name": "stdout",
     "output_type": "stream",
     "text": [
      "[1] \"{\\\"detail\\\":\\\"The query didn't return any results\\\",\\\"status_code\\\":404}\"\n",
      "[1] \"no results for the query\"\n",
      "[1] 133\n",
      "[1] 134\n",
      "$category\n",
      "[1] \"Client error\"\n",
      "\n",
      "$reason\n",
      "[1] \"Not Found\"\n",
      "\n",
      "$message\n",
      "[1] \"Client error: (404) Not Found\"\n",
      "\n"
     ]
    },
    {
     "name": "stderr",
     "output_type": "stream",
     "text": [
      "No encoding supplied: defaulting to UTF-8.\n",
      "\n"
     ]
    },
    {
     "name": "stdout",
     "output_type": "stream",
     "text": [
      "[1] \"{\\\"detail\\\":\\\"The query didn't return any results\\\",\\\"status_code\\\":404}\"\n",
      "[1] \"no results for the query\"\n",
      "[1] 135\n",
      "$category\n",
      "[1] \"Client error\"\n",
      "\n",
      "$reason\n",
      "[1] \"Not Found\"\n",
      "\n",
      "$message\n",
      "[1] \"Client error: (404) Not Found\"\n",
      "\n"
     ]
    },
    {
     "name": "stderr",
     "output_type": "stream",
     "text": [
      "No encoding supplied: defaulting to UTF-8.\n",
      "\n"
     ]
    },
    {
     "name": "stdout",
     "output_type": "stream",
     "text": [
      "[1] \"{\\\"detail\\\":\\\"The query didn't return any results\\\",\\\"status_code\\\":404}\"\n",
      "[1] \"no results for the query\"\n",
      "[1] 136\n",
      "$category\n",
      "[1] \"Client error\"\n",
      "\n",
      "$reason\n",
      "[1] \"Not Found\"\n",
      "\n",
      "$message\n",
      "[1] \"Client error: (404) Not Found\"\n",
      "\n"
     ]
    },
    {
     "name": "stderr",
     "output_type": "stream",
     "text": [
      "No encoding supplied: defaulting to UTF-8.\n",
      "\n"
     ]
    },
    {
     "name": "stdout",
     "output_type": "stream",
     "text": [
      "[1] \"{\\\"detail\\\":\\\"The query didn't return any results\\\",\\\"status_code\\\":404}\"\n",
      "[1] \"no results for the query\"\n",
      "[1] 137\n",
      "$category\n",
      "[1] \"Client error\"\n",
      "\n",
      "$reason\n",
      "[1] \"Not Found\"\n",
      "\n",
      "$message\n",
      "[1] \"Client error: (404) Not Found\"\n",
      "\n"
     ]
    },
    {
     "name": "stderr",
     "output_type": "stream",
     "text": [
      "No encoding supplied: defaulting to UTF-8.\n",
      "\n"
     ]
    },
    {
     "name": "stdout",
     "output_type": "stream",
     "text": [
      "[1] \"{\\\"detail\\\":\\\"The query didn't return any results\\\",\\\"status_code\\\":404}\"\n",
      "[1] \"no results for the query\"\n",
      "[1] 138\n",
      "$category\n",
      "[1] \"Client error\"\n",
      "\n",
      "$reason\n",
      "[1] \"Not Found\"\n",
      "\n",
      "$message\n",
      "[1] \"Client error: (404) Not Found\"\n",
      "\n"
     ]
    },
    {
     "name": "stderr",
     "output_type": "stream",
     "text": [
      "No encoding supplied: defaulting to UTF-8.\n",
      "\n"
     ]
    },
    {
     "name": "stdout",
     "output_type": "stream",
     "text": [
      "[1] \"{\\\"detail\\\":\\\"The query didn't return any results\\\",\\\"status_code\\\":404}\"\n",
      "[1] \"no results for the query\"\n",
      "[1] 139\n",
      "[1] 140\n",
      "$category\n",
      "[1] \"Client error\"\n",
      "\n",
      "$reason\n",
      "[1] \"Not Found\"\n",
      "\n",
      "$message\n",
      "[1] \"Client error: (404) Not Found\"\n",
      "\n"
     ]
    },
    {
     "name": "stderr",
     "output_type": "stream",
     "text": [
      "No encoding supplied: defaulting to UTF-8.\n",
      "\n"
     ]
    },
    {
     "name": "stdout",
     "output_type": "stream",
     "text": [
      "[1] \"{\\\"detail\\\":\\\"The query didn't return any results\\\",\\\"status_code\\\":404}\"\n",
      "[1] \"no results for the query\"\n",
      "[1] 141\n",
      "$category\n",
      "[1] \"Client error\"\n",
      "\n",
      "$reason\n",
      "[1] \"Not Found\"\n",
      "\n",
      "$message\n",
      "[1] \"Client error: (404) Not Found\"\n",
      "\n"
     ]
    },
    {
     "name": "stderr",
     "output_type": "stream",
     "text": [
      "No encoding supplied: defaulting to UTF-8.\n",
      "\n"
     ]
    },
    {
     "name": "stdout",
     "output_type": "stream",
     "text": [
      "[1] \"{\\\"detail\\\":\\\"The query didn't return any results\\\",\\\"status_code\\\":404}\"\n",
      "[1] \"no results for the query\"\n",
      "[1] 142\n",
      "[1] 143\n",
      "$category\n",
      "[1] \"Client error\"\n",
      "\n",
      "$reason\n",
      "[1] \"Not Found\"\n",
      "\n",
      "$message\n",
      "[1] \"Client error: (404) Not Found\"\n",
      "\n"
     ]
    },
    {
     "name": "stderr",
     "output_type": "stream",
     "text": [
      "No encoding supplied: defaulting to UTF-8.\n",
      "\n"
     ]
    },
    {
     "name": "stdout",
     "output_type": "stream",
     "text": [
      "[1] \"{\\\"detail\\\":\\\"The query didn't return any results\\\",\\\"status_code\\\":404}\"\n",
      "[1] \"no results for the query\"\n",
      "[1] 144\n",
      "$category\n",
      "[1] \"Client error\"\n",
      "\n",
      "$reason\n",
      "[1] \"Not Found\"\n",
      "\n",
      "$message\n",
      "[1] \"Client error: (404) Not Found\"\n",
      "\n"
     ]
    },
    {
     "name": "stderr",
     "output_type": "stream",
     "text": [
      "No encoding supplied: defaulting to UTF-8.\n",
      "\n"
     ]
    },
    {
     "name": "stdout",
     "output_type": "stream",
     "text": [
      "[1] \"{\\\"detail\\\":\\\"The query didn't return any results\\\",\\\"status_code\\\":404}\"\n",
      "[1] \"no results for the query\"\n",
      "[1] 145\n",
      "$category\n",
      "[1] \"Client error\"\n",
      "\n",
      "$reason\n",
      "[1] \"Not Found\"\n",
      "\n",
      "$message\n",
      "[1] \"Client error: (404) Not Found\"\n",
      "\n"
     ]
    },
    {
     "name": "stderr",
     "output_type": "stream",
     "text": [
      "No encoding supplied: defaulting to UTF-8.\n",
      "\n"
     ]
    },
    {
     "name": "stdout",
     "output_type": "stream",
     "text": [
      "[1] \"{\\\"detail\\\":\\\"The query didn't return any results\\\",\\\"status_code\\\":404}\"\n",
      "[1] \"no results for the query\"\n",
      "[1] 146\n",
      "$category\n",
      "[1] \"Client error\"\n",
      "\n",
      "$reason\n",
      "[1] \"Not Found\"\n",
      "\n",
      "$message\n",
      "[1] \"Client error: (404) Not Found\"\n",
      "\n"
     ]
    },
    {
     "name": "stderr",
     "output_type": "stream",
     "text": [
      "No encoding supplied: defaulting to UTF-8.\n",
      "\n"
     ]
    },
    {
     "name": "stdout",
     "output_type": "stream",
     "text": [
      "[1] \"{\\\"detail\\\":\\\"The query didn't return any results\\\",\\\"status_code\\\":404}\"\n",
      "[1] \"no results for the query\"\n",
      "[1] 147\n",
      "$category\n",
      "[1] \"Client error\"\n",
      "\n",
      "$reason\n",
      "[1] \"Not Found\"\n",
      "\n",
      "$message\n",
      "[1] \"Client error: (404) Not Found\"\n",
      "\n"
     ]
    },
    {
     "name": "stderr",
     "output_type": "stream",
     "text": [
      "No encoding supplied: defaulting to UTF-8.\n",
      "\n"
     ]
    },
    {
     "name": "stdout",
     "output_type": "stream",
     "text": [
      "[1] \"{\\\"detail\\\":\\\"The query didn't return any results\\\",\\\"status_code\\\":404}\"\n",
      "[1] \"no results for the query\"\n",
      "[1] 148\n",
      "$category\n",
      "[1] \"Client error\"\n",
      "\n",
      "$reason\n",
      "[1] \"Not Found\"\n",
      "\n",
      "$message\n",
      "[1] \"Client error: (404) Not Found\"\n",
      "\n"
     ]
    },
    {
     "name": "stderr",
     "output_type": "stream",
     "text": [
      "No encoding supplied: defaulting to UTF-8.\n",
      "\n"
     ]
    },
    {
     "name": "stdout",
     "output_type": "stream",
     "text": [
      "[1] \"{\\\"detail\\\":\\\"The query didn't return any results\\\",\\\"status_code\\\":404}\"\n",
      "[1] \"no results for the query\"\n",
      "[1] 149\n",
      "$category\n",
      "[1] \"Client error\"\n",
      "\n",
      "$reason\n",
      "[1] \"Not Found\"\n",
      "\n",
      "$message\n",
      "[1] \"Client error: (404) Not Found\"\n",
      "\n"
     ]
    },
    {
     "name": "stderr",
     "output_type": "stream",
     "text": [
      "No encoding supplied: defaulting to UTF-8.\n",
      "\n"
     ]
    },
    {
     "name": "stdout",
     "output_type": "stream",
     "text": [
      "[1] \"{\\\"detail\\\":\\\"The query didn't return any results\\\",\\\"status_code\\\":404}\"\n",
      "[1] \"no results for the query\"\n",
      "[1] 150\n",
      "$category\n",
      "[1] \"Client error\"\n",
      "\n",
      "$reason\n",
      "[1] \"Not Found\"\n",
      "\n",
      "$message\n",
      "[1] \"Client error: (404) Not Found\"\n",
      "\n"
     ]
    },
    {
     "name": "stderr",
     "output_type": "stream",
     "text": [
      "No encoding supplied: defaulting to UTF-8.\n",
      "\n"
     ]
    },
    {
     "name": "stdout",
     "output_type": "stream",
     "text": [
      "[1] \"{\\\"detail\\\":\\\"The query didn't return any results\\\",\\\"status_code\\\":404}\"\n",
      "[1] \"no results for the query\"\n",
      "[1] 151\n",
      "$category\n",
      "[1] \"Client error\"\n",
      "\n",
      "$reason\n",
      "[1] \"Not Found\"\n",
      "\n",
      "$message\n",
      "[1] \"Client error: (404) Not Found\"\n",
      "\n"
     ]
    },
    {
     "name": "stderr",
     "output_type": "stream",
     "text": [
      "No encoding supplied: defaulting to UTF-8.\n",
      "\n"
     ]
    },
    {
     "name": "stdout",
     "output_type": "stream",
     "text": [
      "[1] \"{\\\"detail\\\":\\\"The query didn't return any results\\\",\\\"status_code\\\":404}\"\n",
      "[1] \"no results for the query\"\n",
      "[1] 152\n",
      "$category\n",
      "[1] \"Client error\"\n",
      "\n",
      "$reason\n",
      "[1] \"Not Found\"\n",
      "\n",
      "$message\n",
      "[1] \"Client error: (404) Not Found\"\n",
      "\n"
     ]
    },
    {
     "name": "stderr",
     "output_type": "stream",
     "text": [
      "No encoding supplied: defaulting to UTF-8.\n",
      "\n"
     ]
    },
    {
     "name": "stdout",
     "output_type": "stream",
     "text": [
      "[1] \"{\\\"detail\\\":\\\"The query didn't return any results\\\",\\\"status_code\\\":404}\"\n",
      "[1] \"no results for the query\"\n",
      "[1] 153\n",
      "$category\n",
      "[1] \"Client error\"\n",
      "\n",
      "$reason\n",
      "[1] \"Not Found\"\n",
      "\n",
      "$message\n",
      "[1] \"Client error: (404) Not Found\"\n",
      "\n"
     ]
    },
    {
     "name": "stderr",
     "output_type": "stream",
     "text": [
      "No encoding supplied: defaulting to UTF-8.\n",
      "\n"
     ]
    },
    {
     "name": "stdout",
     "output_type": "stream",
     "text": [
      "[1] \"{\\\"detail\\\":\\\"The query didn't return any results\\\",\\\"status_code\\\":404}\"\n",
      "[1] \"no results for the query\"\n",
      "[1] 154\n",
      "$category\n",
      "[1] \"Client error\"\n",
      "\n",
      "$reason\n",
      "[1] \"Not Found\"\n",
      "\n",
      "$message\n",
      "[1] \"Client error: (404) Not Found\"\n",
      "\n"
     ]
    },
    {
     "name": "stderr",
     "output_type": "stream",
     "text": [
      "No encoding supplied: defaulting to UTF-8.\n",
      "\n"
     ]
    },
    {
     "name": "stdout",
     "output_type": "stream",
     "text": [
      "[1] \"{\\\"detail\\\":\\\"The query didn't return any results\\\",\\\"status_code\\\":404}\"\n",
      "[1] \"no results for the query\"\n",
      "[1] 155\n",
      "$category\n",
      "[1] \"Client error\"\n",
      "\n",
      "$reason\n",
      "[1] \"Not Found\"\n",
      "\n",
      "$message\n",
      "[1] \"Client error: (404) Not Found\"\n",
      "\n"
     ]
    },
    {
     "name": "stderr",
     "output_type": "stream",
     "text": [
      "No encoding supplied: defaulting to UTF-8.\n",
      "\n"
     ]
    },
    {
     "name": "stdout",
     "output_type": "stream",
     "text": [
      "[1] \"{\\\"detail\\\":\\\"The query didn't return any results\\\",\\\"status_code\\\":404}\"\n",
      "[1] \"no results for the query\"\n",
      "[1] 156\n",
      "$category\n",
      "[1] \"Client error\"\n",
      "\n",
      "$reason\n",
      "[1] \"Not Found\"\n",
      "\n",
      "$message\n",
      "[1] \"Client error: (404) Not Found\"\n",
      "\n"
     ]
    },
    {
     "name": "stderr",
     "output_type": "stream",
     "text": [
      "No encoding supplied: defaulting to UTF-8.\n",
      "\n"
     ]
    },
    {
     "name": "stdout",
     "output_type": "stream",
     "text": [
      "[1] \"{\\\"detail\\\":\\\"The query didn't return any results\\\",\\\"status_code\\\":404}\"\n",
      "[1] \"no results for the query\"\n",
      "[1] 157\n",
      "$category\n",
      "[1] \"Client error\"\n",
      "\n",
      "$reason\n",
      "[1] \"Not Found\"\n",
      "\n",
      "$message\n",
      "[1] \"Client error: (404) Not Found\"\n",
      "\n"
     ]
    },
    {
     "name": "stderr",
     "output_type": "stream",
     "text": [
      "No encoding supplied: defaulting to UTF-8.\n",
      "\n"
     ]
    },
    {
     "name": "stdout",
     "output_type": "stream",
     "text": [
      "[1] \"{\\\"detail\\\":\\\"The query didn't return any results\\\",\\\"status_code\\\":404}\"\n",
      "[1] \"no results for the query\"\n",
      "[1] 158\n",
      "$category\n",
      "[1] \"Client error\"\n",
      "\n",
      "$reason\n",
      "[1] \"Not Found\"\n",
      "\n",
      "$message\n",
      "[1] \"Client error: (404) Not Found\"\n",
      "\n"
     ]
    },
    {
     "name": "stderr",
     "output_type": "stream",
     "text": [
      "No encoding supplied: defaulting to UTF-8.\n",
      "\n"
     ]
    },
    {
     "name": "stdout",
     "output_type": "stream",
     "text": [
      "[1] \"{\\\"detail\\\":\\\"The query didn't return any results\\\",\\\"status_code\\\":404}\"\n",
      "[1] \"no results for the query\"\n",
      "[1] 159\n",
      "$category\n",
      "[1] \"Client error\"\n",
      "\n",
      "$reason\n",
      "[1] \"Not Found\"\n",
      "\n",
      "$message\n",
      "[1] \"Client error: (404) Not Found\"\n",
      "\n"
     ]
    },
    {
     "name": "stderr",
     "output_type": "stream",
     "text": [
      "No encoding supplied: defaulting to UTF-8.\n",
      "\n"
     ]
    },
    {
     "name": "stdout",
     "output_type": "stream",
     "text": [
      "[1] \"{\\\"detail\\\":\\\"The query didn't return any results\\\",\\\"status_code\\\":404}\"\n",
      "[1] \"no results for the query\"\n",
      "[1] 160\n",
      "$category\n",
      "[1] \"Client error\"\n",
      "\n",
      "$reason\n",
      "[1] \"Not Found\"\n",
      "\n",
      "$message\n",
      "[1] \"Client error: (404) Not Found\"\n",
      "\n"
     ]
    },
    {
     "name": "stderr",
     "output_type": "stream",
     "text": [
      "No encoding supplied: defaulting to UTF-8.\n",
      "\n"
     ]
    },
    {
     "name": "stdout",
     "output_type": "stream",
     "text": [
      "[1] \"{\\\"detail\\\":\\\"The query didn't return any results\\\",\\\"status_code\\\":404}\"\n",
      "[1] \"no results for the query\"\n",
      "[1] 161\n",
      "$category\n",
      "[1] \"Client error\"\n",
      "\n",
      "$reason\n",
      "[1] \"Not Found\"\n",
      "\n",
      "$message\n",
      "[1] \"Client error: (404) Not Found\"\n",
      "\n"
     ]
    },
    {
     "name": "stderr",
     "output_type": "stream",
     "text": [
      "No encoding supplied: defaulting to UTF-8.\n",
      "\n"
     ]
    },
    {
     "name": "stdout",
     "output_type": "stream",
     "text": [
      "[1] \"{\\\"detail\\\":\\\"The query didn't return any results\\\",\\\"status_code\\\":404}\"\n",
      "[1] \"no results for the query\"\n",
      "[1] 162\n",
      "$category\n",
      "[1] \"Client error\"\n",
      "\n",
      "$reason\n",
      "[1] \"Not Found\"\n",
      "\n",
      "$message\n",
      "[1] \"Client error: (404) Not Found\"\n",
      "\n"
     ]
    },
    {
     "name": "stderr",
     "output_type": "stream",
     "text": [
      "No encoding supplied: defaulting to UTF-8.\n",
      "\n"
     ]
    },
    {
     "name": "stdout",
     "output_type": "stream",
     "text": [
      "[1] \"{\\\"detail\\\":\\\"The query didn't return any results\\\",\\\"status_code\\\":404}\"\n",
      "[1] \"no results for the query\"\n",
      "[1] 163\n",
      "$category\n",
      "[1] \"Client error\"\n",
      "\n",
      "$reason\n",
      "[1] \"Not Found\"\n",
      "\n",
      "$message\n",
      "[1] \"Client error: (404) Not Found\"\n",
      "\n"
     ]
    },
    {
     "name": "stderr",
     "output_type": "stream",
     "text": [
      "No encoding supplied: defaulting to UTF-8.\n",
      "\n"
     ]
    },
    {
     "name": "stdout",
     "output_type": "stream",
     "text": [
      "[1] \"{\\\"detail\\\":\\\"The query didn't return any results\\\",\\\"status_code\\\":404}\"\n",
      "[1] \"no results for the query\"\n",
      "[1] 164\n",
      "$category\n",
      "[1] \"Client error\"\n",
      "\n",
      "$reason\n",
      "[1] \"Not Found\"\n",
      "\n",
      "$message\n",
      "[1] \"Client error: (404) Not Found\"\n",
      "\n"
     ]
    },
    {
     "name": "stderr",
     "output_type": "stream",
     "text": [
      "No encoding supplied: defaulting to UTF-8.\n",
      "\n"
     ]
    },
    {
     "name": "stdout",
     "output_type": "stream",
     "text": [
      "[1] \"{\\\"detail\\\":\\\"The query didn't return any results\\\",\\\"status_code\\\":404}\"\n",
      "[1] \"no results for the query\"\n",
      "[1] 165\n",
      "$category\n",
      "[1] \"Client error\"\n",
      "\n",
      "$reason\n",
      "[1] \"Not Found\"\n",
      "\n",
      "$message\n",
      "[1] \"Client error: (404) Not Found\"\n",
      "\n"
     ]
    },
    {
     "name": "stderr",
     "output_type": "stream",
     "text": [
      "No encoding supplied: defaulting to UTF-8.\n",
      "\n"
     ]
    },
    {
     "name": "stdout",
     "output_type": "stream",
     "text": [
      "[1] \"{\\\"detail\\\":\\\"The query didn't return any results\\\",\\\"status_code\\\":404}\"\n",
      "[1] \"no results for the query\"\n",
      "[1] 166\n",
      "$category\n",
      "[1] \"Client error\"\n",
      "\n",
      "$reason\n",
      "[1] \"Not Found\"\n",
      "\n",
      "$message\n",
      "[1] \"Client error: (404) Not Found\"\n",
      "\n"
     ]
    },
    {
     "name": "stderr",
     "output_type": "stream",
     "text": [
      "No encoding supplied: defaulting to UTF-8.\n",
      "\n"
     ]
    },
    {
     "name": "stdout",
     "output_type": "stream",
     "text": [
      "[1] \"{\\\"detail\\\":\\\"The query didn't return any results\\\",\\\"status_code\\\":404}\"\n",
      "[1] \"no results for the query\"\n",
      "[1] 167\n",
      "$category\n",
      "[1] \"Client error\"\n",
      "\n",
      "$reason\n",
      "[1] \"Not Found\"\n",
      "\n",
      "$message\n",
      "[1] \"Client error: (404) Not Found\"\n",
      "\n"
     ]
    },
    {
     "name": "stderr",
     "output_type": "stream",
     "text": [
      "No encoding supplied: defaulting to UTF-8.\n",
      "\n"
     ]
    },
    {
     "name": "stdout",
     "output_type": "stream",
     "text": [
      "[1] \"{\\\"detail\\\":\\\"The query didn't return any results\\\",\\\"status_code\\\":404}\"\n",
      "[1] \"no results for the query\"\n",
      "[1] 168\n",
      "$category\n",
      "[1] \"Client error\"\n",
      "\n",
      "$reason\n",
      "[1] \"Not Found\"\n",
      "\n",
      "$message\n",
      "[1] \"Client error: (404) Not Found\"\n",
      "\n"
     ]
    },
    {
     "name": "stderr",
     "output_type": "stream",
     "text": [
      "No encoding supplied: defaulting to UTF-8.\n",
      "\n"
     ]
    },
    {
     "name": "stdout",
     "output_type": "stream",
     "text": [
      "[1] \"{\\\"detail\\\":\\\"The query didn't return any results\\\",\\\"status_code\\\":404}\"\n",
      "[1] \"no results for the query\"\n",
      "[1] 169\n",
      "[1] 170\n",
      "$category\n",
      "[1] \"Client error\"\n",
      "\n",
      "$reason\n",
      "[1] \"Not Found\"\n",
      "\n",
      "$message\n",
      "[1] \"Client error: (404) Not Found\"\n",
      "\n"
     ]
    },
    {
     "name": "stderr",
     "output_type": "stream",
     "text": [
      "No encoding supplied: defaulting to UTF-8.\n",
      "\n"
     ]
    },
    {
     "name": "stdout",
     "output_type": "stream",
     "text": [
      "[1] \"{\\\"detail\\\":\\\"The query didn't return any results\\\",\\\"status_code\\\":404}\"\n",
      "[1] \"no results for the query\"\n",
      "[1] 171\n",
      "$category\n",
      "[1] \"Client error\"\n",
      "\n",
      "$reason\n",
      "[1] \"Not Found\"\n",
      "\n",
      "$message\n",
      "[1] \"Client error: (404) Not Found\"\n",
      "\n"
     ]
    },
    {
     "name": "stderr",
     "output_type": "stream",
     "text": [
      "No encoding supplied: defaulting to UTF-8.\n",
      "\n"
     ]
    },
    {
     "name": "stdout",
     "output_type": "stream",
     "text": [
      "[1] \"{\\\"detail\\\":\\\"The query didn't return any results\\\",\\\"status_code\\\":404}\"\n",
      "[1] \"no results for the query\"\n",
      "[1] 172\n",
      "$category\n",
      "[1] \"Client error\"\n",
      "\n",
      "$reason\n",
      "[1] \"Not Found\"\n",
      "\n",
      "$message\n",
      "[1] \"Client error: (404) Not Found\"\n",
      "\n"
     ]
    },
    {
     "name": "stderr",
     "output_type": "stream",
     "text": [
      "No encoding supplied: defaulting to UTF-8.\n",
      "\n"
     ]
    },
    {
     "name": "stdout",
     "output_type": "stream",
     "text": [
      "[1] \"{\\\"detail\\\":\\\"The query didn't return any results\\\",\\\"status_code\\\":404}\"\n",
      "[1] \"no results for the query\"\n",
      "[1] 173\n",
      "$category\n",
      "[1] \"Client error\"\n",
      "\n",
      "$reason\n",
      "[1] \"Not Found\"\n",
      "\n",
      "$message\n",
      "[1] \"Client error: (404) Not Found\"\n",
      "\n"
     ]
    },
    {
     "name": "stderr",
     "output_type": "stream",
     "text": [
      "No encoding supplied: defaulting to UTF-8.\n",
      "\n"
     ]
    },
    {
     "name": "stdout",
     "output_type": "stream",
     "text": [
      "[1] \"{\\\"detail\\\":\\\"The query didn't return any results\\\",\\\"status_code\\\":404}\"\n",
      "[1] \"no results for the query\"\n",
      "[1] 174\n",
      "$category\n",
      "[1] \"Client error\"\n",
      "\n",
      "$reason\n",
      "[1] \"Not Found\"\n",
      "\n",
      "$message\n",
      "[1] \"Client error: (404) Not Found\"\n",
      "\n"
     ]
    },
    {
     "name": "stderr",
     "output_type": "stream",
     "text": [
      "No encoding supplied: defaulting to UTF-8.\n",
      "\n"
     ]
    },
    {
     "name": "stdout",
     "output_type": "stream",
     "text": [
      "[1] \"{\\\"detail\\\":\\\"The query didn't return any results\\\",\\\"status_code\\\":404}\"\n",
      "[1] \"no results for the query\"\n",
      "[1] 175\n",
      "$category\n",
      "[1] \"Client error\"\n",
      "\n",
      "$reason\n",
      "[1] \"Not Found\"\n",
      "\n",
      "$message\n",
      "[1] \"Client error: (404) Not Found\"\n",
      "\n"
     ]
    },
    {
     "name": "stderr",
     "output_type": "stream",
     "text": [
      "No encoding supplied: defaulting to UTF-8.\n",
      "\n"
     ]
    },
    {
     "name": "stdout",
     "output_type": "stream",
     "text": [
      "[1] \"{\\\"detail\\\":\\\"The query didn't return any results\\\",\\\"status_code\\\":404}\"\n",
      "[1] \"no results for the query\"\n",
      "[1] 176\n",
      "$category\n",
      "[1] \"Client error\"\n",
      "\n",
      "$reason\n",
      "[1] \"Not Found\"\n",
      "\n",
      "$message\n",
      "[1] \"Client error: (404) Not Found\"\n",
      "\n"
     ]
    },
    {
     "name": "stderr",
     "output_type": "stream",
     "text": [
      "No encoding supplied: defaulting to UTF-8.\n",
      "\n"
     ]
    },
    {
     "name": "stdout",
     "output_type": "stream",
     "text": [
      "[1] \"{\\\"detail\\\":\\\"The query didn't return any results\\\",\\\"status_code\\\":404}\"\n",
      "[1] \"no results for the query\"\n",
      "[1] 177\n",
      "$category\n",
      "[1] \"Client error\"\n",
      "\n",
      "$reason\n",
      "[1] \"Not Found\"\n",
      "\n",
      "$message\n",
      "[1] \"Client error: (404) Not Found\"\n",
      "\n"
     ]
    },
    {
     "name": "stderr",
     "output_type": "stream",
     "text": [
      "No encoding supplied: defaulting to UTF-8.\n",
      "\n"
     ]
    },
    {
     "name": "stdout",
     "output_type": "stream",
     "text": [
      "[1] \"{\\\"detail\\\":\\\"The query didn't return any results\\\",\\\"status_code\\\":404}\"\n",
      "[1] \"no results for the query\"\n",
      "[1] 178\n",
      "$category\n",
      "[1] \"Client error\"\n",
      "\n",
      "$reason\n",
      "[1] \"Not Found\"\n",
      "\n",
      "$message\n",
      "[1] \"Client error: (404) Not Found\"\n",
      "\n"
     ]
    },
    {
     "name": "stderr",
     "output_type": "stream",
     "text": [
      "No encoding supplied: defaulting to UTF-8.\n",
      "\n"
     ]
    },
    {
     "name": "stdout",
     "output_type": "stream",
     "text": [
      "[1] \"{\\\"detail\\\":\\\"The query didn't return any results\\\",\\\"status_code\\\":404}\"\n",
      "[1] \"no results for the query\"\n",
      "[1] 179\n",
      "$category\n",
      "[1] \"Client error\"\n",
      "\n",
      "$reason\n",
      "[1] \"Not Found\"\n",
      "\n",
      "$message\n",
      "[1] \"Client error: (404) Not Found\"\n",
      "\n"
     ]
    },
    {
     "name": "stderr",
     "output_type": "stream",
     "text": [
      "No encoding supplied: defaulting to UTF-8.\n",
      "\n"
     ]
    },
    {
     "name": "stdout",
     "output_type": "stream",
     "text": [
      "[1] \"{\\\"detail\\\":\\\"The query didn't return any results\\\",\\\"status_code\\\":404}\"\n",
      "[1] \"no results for the query\"\n",
      "[1] 180\n",
      "[1] 181\n",
      "$category\n",
      "[1] \"Client error\"\n",
      "\n",
      "$reason\n",
      "[1] \"Not Found\"\n",
      "\n",
      "$message\n",
      "[1] \"Client error: (404) Not Found\"\n",
      "\n"
     ]
    },
    {
     "name": "stderr",
     "output_type": "stream",
     "text": [
      "No encoding supplied: defaulting to UTF-8.\n",
      "\n"
     ]
    },
    {
     "name": "stdout",
     "output_type": "stream",
     "text": [
      "[1] \"{\\\"detail\\\":\\\"The query didn't return any results\\\",\\\"status_code\\\":404}\"\n",
      "[1] \"no results for the query\"\n",
      "[1] 182\n",
      "$category\n",
      "[1] \"Client error\"\n",
      "\n",
      "$reason\n",
      "[1] \"Not Found\"\n",
      "\n",
      "$message\n",
      "[1] \"Client error: (404) Not Found\"\n",
      "\n"
     ]
    },
    {
     "name": "stderr",
     "output_type": "stream",
     "text": [
      "No encoding supplied: defaulting to UTF-8.\n",
      "\n"
     ]
    },
    {
     "name": "stdout",
     "output_type": "stream",
     "text": [
      "[1] \"{\\\"detail\\\":\\\"The query didn't return any results\\\",\\\"status_code\\\":404}\"\n",
      "[1] \"no results for the query\"\n",
      "[1] 183\n",
      "$category\n",
      "[1] \"Client error\"\n",
      "\n",
      "$reason\n",
      "[1] \"Not Found\"\n",
      "\n",
      "$message\n",
      "[1] \"Client error: (404) Not Found\"\n",
      "\n"
     ]
    },
    {
     "name": "stderr",
     "output_type": "stream",
     "text": [
      "No encoding supplied: defaulting to UTF-8.\n",
      "\n"
     ]
    },
    {
     "name": "stdout",
     "output_type": "stream",
     "text": [
      "[1] \"{\\\"detail\\\":\\\"The query didn't return any results\\\",\\\"status_code\\\":404}\"\n",
      "[1] \"no results for the query\"\n",
      "[1] 184\n",
      "[1] 185\n",
      "$category\n",
      "[1] \"Client error\"\n",
      "\n",
      "$reason\n",
      "[1] \"Not Found\"\n",
      "\n",
      "$message\n",
      "[1] \"Client error: (404) Not Found\"\n",
      "\n"
     ]
    },
    {
     "name": "stderr",
     "output_type": "stream",
     "text": [
      "No encoding supplied: defaulting to UTF-8.\n",
      "\n"
     ]
    },
    {
     "name": "stdout",
     "output_type": "stream",
     "text": [
      "[1] \"{\\\"detail\\\":\\\"The query didn't return any results\\\",\\\"status_code\\\":404}\"\n",
      "[1] \"no results for the query\"\n",
      "[1] 186\n",
      "$category\n",
      "[1] \"Client error\"\n",
      "\n",
      "$reason\n",
      "[1] \"Not Found\"\n",
      "\n",
      "$message\n",
      "[1] \"Client error: (404) Not Found\"\n",
      "\n"
     ]
    },
    {
     "name": "stderr",
     "output_type": "stream",
     "text": [
      "No encoding supplied: defaulting to UTF-8.\n",
      "\n"
     ]
    },
    {
     "name": "stdout",
     "output_type": "stream",
     "text": [
      "[1] \"{\\\"detail\\\":\\\"The query didn't return any results\\\",\\\"status_code\\\":404}\"\n",
      "[1] \"no results for the query\"\n",
      "[1] 187\n",
      "$category\n",
      "[1] \"Client error\"\n",
      "\n",
      "$reason\n",
      "[1] \"Not Found\"\n",
      "\n",
      "$message\n",
      "[1] \"Client error: (404) Not Found\"\n",
      "\n"
     ]
    },
    {
     "name": "stderr",
     "output_type": "stream",
     "text": [
      "No encoding supplied: defaulting to UTF-8.\n",
      "\n"
     ]
    },
    {
     "name": "stdout",
     "output_type": "stream",
     "text": [
      "[1] \"{\\\"detail\\\":\\\"The query didn't return any results\\\",\\\"status_code\\\":404}\"\n",
      "[1] \"no results for the query\"\n",
      "[1] 188\n",
      "[1] 189\n",
      "$category\n",
      "[1] \"Client error\"\n",
      "\n",
      "$reason\n",
      "[1] \"Not Found\"\n",
      "\n",
      "$message\n",
      "[1] \"Client error: (404) Not Found\"\n",
      "\n"
     ]
    },
    {
     "name": "stderr",
     "output_type": "stream",
     "text": [
      "No encoding supplied: defaulting to UTF-8.\n",
      "\n"
     ]
    },
    {
     "name": "stdout",
     "output_type": "stream",
     "text": [
      "[1] \"{\\\"detail\\\":\\\"The query didn't return any results\\\",\\\"status_code\\\":404}\"\n",
      "[1] \"no results for the query\"\n",
      "[1] 190\n",
      "$category\n",
      "[1] \"Client error\"\n",
      "\n",
      "$reason\n",
      "[1] \"Not Found\"\n",
      "\n",
      "$message\n",
      "[1] \"Client error: (404) Not Found\"\n",
      "\n"
     ]
    },
    {
     "name": "stderr",
     "output_type": "stream",
     "text": [
      "No encoding supplied: defaulting to UTF-8.\n",
      "\n"
     ]
    },
    {
     "name": "stdout",
     "output_type": "stream",
     "text": [
      "[1] \"{\\\"detail\\\":\\\"The query didn't return any results\\\",\\\"status_code\\\":404}\"\n",
      "[1] \"no results for the query\"\n",
      "[1] 191\n",
      "$category\n",
      "[1] \"Client error\"\n",
      "\n",
      "$reason\n",
      "[1] \"Not Found\"\n",
      "\n",
      "$message\n",
      "[1] \"Client error: (404) Not Found\"\n",
      "\n"
     ]
    },
    {
     "name": "stderr",
     "output_type": "stream",
     "text": [
      "No encoding supplied: defaulting to UTF-8.\n",
      "\n"
     ]
    },
    {
     "name": "stdout",
     "output_type": "stream",
     "text": [
      "[1] \"{\\\"detail\\\":\\\"The query didn't return any results\\\",\\\"status_code\\\":404}\"\n",
      "[1] \"no results for the query\"\n",
      "[1] 192\n",
      "$category\n",
      "[1] \"Client error\"\n",
      "\n",
      "$reason\n",
      "[1] \"Not Found\"\n",
      "\n",
      "$message\n",
      "[1] \"Client error: (404) Not Found\"\n",
      "\n"
     ]
    },
    {
     "name": "stderr",
     "output_type": "stream",
     "text": [
      "No encoding supplied: defaulting to UTF-8.\n",
      "\n"
     ]
    },
    {
     "name": "stdout",
     "output_type": "stream",
     "text": [
      "[1] \"{\\\"detail\\\":\\\"The query didn't return any results\\\",\\\"status_code\\\":404}\"\n",
      "[1] \"no results for the query\"\n",
      "[1] 193\n",
      "$category\n",
      "[1] \"Client error\"\n",
      "\n",
      "$reason\n",
      "[1] \"Not Found\"\n",
      "\n",
      "$message\n",
      "[1] \"Client error: (404) Not Found\"\n",
      "\n"
     ]
    },
    {
     "name": "stderr",
     "output_type": "stream",
     "text": [
      "No encoding supplied: defaulting to UTF-8.\n",
      "\n"
     ]
    },
    {
     "name": "stdout",
     "output_type": "stream",
     "text": [
      "[1] \"{\\\"detail\\\":\\\"The query didn't return any results\\\",\\\"status_code\\\":404}\"\n",
      "[1] \"no results for the query\"\n",
      "[1] 194\n",
      "[1] 195\n",
      "$category\n",
      "[1] \"Client error\"\n",
      "\n",
      "$reason\n",
      "[1] \"Not Found\"\n",
      "\n",
      "$message\n",
      "[1] \"Client error: (404) Not Found\"\n",
      "\n"
     ]
    },
    {
     "name": "stderr",
     "output_type": "stream",
     "text": [
      "No encoding supplied: defaulting to UTF-8.\n",
      "\n"
     ]
    },
    {
     "name": "stdout",
     "output_type": "stream",
     "text": [
      "[1] \"{\\\"detail\\\":\\\"The query didn't return any results\\\",\\\"status_code\\\":404}\"\n",
      "[1] \"no results for the query\"\n",
      "[1] 196\n",
      "$category\n",
      "[1] \"Client error\"\n",
      "\n",
      "$reason\n",
      "[1] \"Not Found\"\n",
      "\n",
      "$message\n",
      "[1] \"Client error: (404) Not Found\"\n",
      "\n"
     ]
    },
    {
     "name": "stderr",
     "output_type": "stream",
     "text": [
      "No encoding supplied: defaulting to UTF-8.\n",
      "\n"
     ]
    },
    {
     "name": "stdout",
     "output_type": "stream",
     "text": [
      "[1] \"{\\\"detail\\\":\\\"The query didn't return any results\\\",\\\"status_code\\\":404}\"\n",
      "[1] \"no results for the query\"\n",
      "[1] 197\n",
      "$category\n",
      "[1] \"Client error\"\n",
      "\n",
      "$reason\n",
      "[1] \"Not Found\"\n",
      "\n",
      "$message\n",
      "[1] \"Client error: (404) Not Found\"\n",
      "\n"
     ]
    },
    {
     "name": "stderr",
     "output_type": "stream",
     "text": [
      "No encoding supplied: defaulting to UTF-8.\n",
      "\n"
     ]
    },
    {
     "name": "stdout",
     "output_type": "stream",
     "text": [
      "[1] \"{\\\"detail\\\":\\\"The query didn't return any results\\\",\\\"status_code\\\":404}\"\n",
      "[1] \"no results for the query\"\n",
      "[1] 198\n",
      "$category\n",
      "[1] \"Client error\"\n",
      "\n",
      "$reason\n",
      "[1] \"Not Found\"\n",
      "\n",
      "$message\n",
      "[1] \"Client error: (404) Not Found\"\n",
      "\n"
     ]
    },
    {
     "name": "stderr",
     "output_type": "stream",
     "text": [
      "No encoding supplied: defaulting to UTF-8.\n",
      "\n"
     ]
    },
    {
     "name": "stdout",
     "output_type": "stream",
     "text": [
      "[1] \"{\\\"detail\\\":\\\"The query didn't return any results\\\",\\\"status_code\\\":404}\"\n",
      "[1] \"no results for the query\"\n",
      "[1] 199\n",
      "$category\n",
      "[1] \"Client error\"\n",
      "\n",
      "$reason\n",
      "[1] \"Not Found\"\n",
      "\n",
      "$message\n",
      "[1] \"Client error: (404) Not Found\"\n",
      "\n"
     ]
    },
    {
     "name": "stderr",
     "output_type": "stream",
     "text": [
      "No encoding supplied: defaulting to UTF-8.\n",
      "\n"
     ]
    },
    {
     "name": "stdout",
     "output_type": "stream",
     "text": [
      "[1] \"{\\\"detail\\\":\\\"The query didn't return any results\\\",\\\"status_code\\\":404}\"\n",
      "[1] \"no results for the query\"\n",
      "[1] 200\n",
      "$category\n",
      "[1] \"Client error\"\n",
      "\n",
      "$reason\n",
      "[1] \"Not Found\"\n",
      "\n",
      "$message\n",
      "[1] \"Client error: (404) Not Found\"\n",
      "\n"
     ]
    },
    {
     "name": "stderr",
     "output_type": "stream",
     "text": [
      "No encoding supplied: defaulting to UTF-8.\n",
      "\n"
     ]
    },
    {
     "name": "stdout",
     "output_type": "stream",
     "text": [
      "[1] \"{\\\"detail\\\":\\\"The query didn't return any results\\\",\\\"status_code\\\":404}\"\n",
      "[1] \"no results for the query\"\n",
      "[1] 201\n",
      "$category\n",
      "[1] \"Client error\"\n",
      "\n",
      "$reason\n",
      "[1] \"Not Found\"\n",
      "\n",
      "$message\n",
      "[1] \"Client error: (404) Not Found\"\n",
      "\n"
     ]
    },
    {
     "name": "stderr",
     "output_type": "stream",
     "text": [
      "No encoding supplied: defaulting to UTF-8.\n",
      "\n"
     ]
    },
    {
     "name": "stdout",
     "output_type": "stream",
     "text": [
      "[1] \"{\\\"detail\\\":\\\"The query didn't return any results\\\",\\\"status_code\\\":404}\"\n",
      "[1] \"no results for the query\"\n",
      "[1] 202\n",
      "[1] 203\n",
      "$category\n",
      "[1] \"Client error\"\n",
      "\n",
      "$reason\n",
      "[1] \"Not Found\"\n",
      "\n",
      "$message\n",
      "[1] \"Client error: (404) Not Found\"\n",
      "\n"
     ]
    },
    {
     "name": "stderr",
     "output_type": "stream",
     "text": [
      "No encoding supplied: defaulting to UTF-8.\n",
      "\n"
     ]
    },
    {
     "name": "stdout",
     "output_type": "stream",
     "text": [
      "[1] \"{\\\"detail\\\":\\\"The query didn't return any results\\\",\\\"status_code\\\":404}\"\n",
      "[1] \"no results for the query\"\n",
      "[1] 204\n",
      "$category\n",
      "[1] \"Client error\"\n",
      "\n",
      "$reason\n",
      "[1] \"Not Found\"\n",
      "\n",
      "$message\n",
      "[1] \"Client error: (404) Not Found\"\n",
      "\n"
     ]
    },
    {
     "name": "stderr",
     "output_type": "stream",
     "text": [
      "No encoding supplied: defaulting to UTF-8.\n",
      "\n"
     ]
    },
    {
     "name": "stdout",
     "output_type": "stream",
     "text": [
      "[1] \"{\\\"detail\\\":\\\"The query didn't return any results\\\",\\\"status_code\\\":404}\"\n",
      "[1] \"no results for the query\"\n",
      "[1] 205\n",
      "[1] 206\n",
      "[1] 207\n",
      "$category\n",
      "[1] \"Client error\"\n",
      "\n",
      "$reason\n",
      "[1] \"Not Found\"\n",
      "\n",
      "$message\n",
      "[1] \"Client error: (404) Not Found\"\n",
      "\n"
     ]
    },
    {
     "name": "stderr",
     "output_type": "stream",
     "text": [
      "No encoding supplied: defaulting to UTF-8.\n",
      "\n"
     ]
    },
    {
     "name": "stdout",
     "output_type": "stream",
     "text": [
      "[1] \"{\\\"detail\\\":\\\"The query didn't return any results\\\",\\\"status_code\\\":404}\"\n",
      "[1] \"no results for the query\"\n",
      "[1] 208\n",
      "$category\n",
      "[1] \"Client error\"\n",
      "\n",
      "$reason\n",
      "[1] \"Not Found\"\n",
      "\n",
      "$message\n",
      "[1] \"Client error: (404) Not Found\"\n",
      "\n"
     ]
    },
    {
     "name": "stderr",
     "output_type": "stream",
     "text": [
      "No encoding supplied: defaulting to UTF-8.\n",
      "\n"
     ]
    },
    {
     "name": "stdout",
     "output_type": "stream",
     "text": [
      "[1] \"{\\\"detail\\\":\\\"The query didn't return any results\\\",\\\"status_code\\\":404}\"\n",
      "[1] \"no results for the query\"\n",
      "[1] 209\n",
      "$category\n",
      "[1] \"Client error\"\n",
      "\n",
      "$reason\n",
      "[1] \"Not Found\"\n",
      "\n",
      "$message\n",
      "[1] \"Client error: (404) Not Found\"\n",
      "\n"
     ]
    },
    {
     "name": "stderr",
     "output_type": "stream",
     "text": [
      "No encoding supplied: defaulting to UTF-8.\n",
      "\n"
     ]
    },
    {
     "name": "stdout",
     "output_type": "stream",
     "text": [
      "[1] \"{\\\"detail\\\":\\\"The query didn't return any results\\\",\\\"status_code\\\":404}\"\n",
      "[1] \"no results for the query\"\n",
      "[1] 210\n",
      "$category\n",
      "[1] \"Client error\"\n",
      "\n",
      "$reason\n",
      "[1] \"Not Found\"\n",
      "\n",
      "$message\n",
      "[1] \"Client error: (404) Not Found\"\n",
      "\n"
     ]
    },
    {
     "name": "stderr",
     "output_type": "stream",
     "text": [
      "No encoding supplied: defaulting to UTF-8.\n",
      "\n"
     ]
    },
    {
     "name": "stdout",
     "output_type": "stream",
     "text": [
      "[1] \"{\\\"detail\\\":\\\"The query didn't return any results\\\",\\\"status_code\\\":404}\"\n",
      "[1] \"no results for the query\"\n",
      "[1] 211\n",
      "$category\n",
      "[1] \"Client error\"\n",
      "\n",
      "$reason\n",
      "[1] \"Not Found\"\n",
      "\n",
      "$message\n",
      "[1] \"Client error: (404) Not Found\"\n",
      "\n"
     ]
    },
    {
     "name": "stderr",
     "output_type": "stream",
     "text": [
      "No encoding supplied: defaulting to UTF-8.\n",
      "\n"
     ]
    },
    {
     "name": "stdout",
     "output_type": "stream",
     "text": [
      "[1] \"{\\\"detail\\\":\\\"The query didn't return any results\\\",\\\"status_code\\\":404}\"\n",
      "[1] \"no results for the query\"\n",
      "[1] 212\n",
      "$category\n",
      "[1] \"Client error\"\n",
      "\n",
      "$reason\n",
      "[1] \"Not Found\"\n",
      "\n",
      "$message\n",
      "[1] \"Client error: (404) Not Found\"\n",
      "\n"
     ]
    },
    {
     "name": "stderr",
     "output_type": "stream",
     "text": [
      "No encoding supplied: defaulting to UTF-8.\n",
      "\n"
     ]
    },
    {
     "name": "stdout",
     "output_type": "stream",
     "text": [
      "[1] \"{\\\"detail\\\":\\\"The query didn't return any results\\\",\\\"status_code\\\":404}\"\n",
      "[1] \"no results for the query\"\n",
      "[1] 213\n",
      "$category\n",
      "[1] \"Client error\"\n",
      "\n",
      "$reason\n",
      "[1] \"Not Found\"\n",
      "\n",
      "$message\n",
      "[1] \"Client error: (404) Not Found\"\n",
      "\n"
     ]
    },
    {
     "name": "stderr",
     "output_type": "stream",
     "text": [
      "No encoding supplied: defaulting to UTF-8.\n",
      "\n"
     ]
    },
    {
     "name": "stdout",
     "output_type": "stream",
     "text": [
      "[1] \"{\\\"detail\\\":\\\"The query didn't return any results\\\",\\\"status_code\\\":404}\"\n",
      "[1] \"no results for the query\"\n",
      "[1] 214\n",
      "[1] 215\n",
      "$category\n",
      "[1] \"Client error\"\n",
      "\n",
      "$reason\n",
      "[1] \"Not Found\"\n",
      "\n",
      "$message\n",
      "[1] \"Client error: (404) Not Found\"\n",
      "\n"
     ]
    },
    {
     "name": "stderr",
     "output_type": "stream",
     "text": [
      "No encoding supplied: defaulting to UTF-8.\n",
      "\n"
     ]
    },
    {
     "name": "stdout",
     "output_type": "stream",
     "text": [
      "[1] \"{\\\"detail\\\":\\\"The query didn't return any results\\\",\\\"status_code\\\":404}\"\n",
      "[1] \"no results for the query\"\n",
      "[1] 216\n",
      "$category\n",
      "[1] \"Client error\"\n",
      "\n",
      "$reason\n",
      "[1] \"Not Found\"\n",
      "\n",
      "$message\n",
      "[1] \"Client error: (404) Not Found\"\n",
      "\n"
     ]
    },
    {
     "name": "stderr",
     "output_type": "stream",
     "text": [
      "No encoding supplied: defaulting to UTF-8.\n",
      "\n"
     ]
    },
    {
     "name": "stdout",
     "output_type": "stream",
     "text": [
      "[1] \"{\\\"detail\\\":\\\"The query didn't return any results\\\",\\\"status_code\\\":404}\"\n",
      "[1] \"no results for the query\"\n",
      "[1] 217\n",
      "$category\n",
      "[1] \"Client error\"\n",
      "\n",
      "$reason\n",
      "[1] \"Not Found\"\n",
      "\n",
      "$message\n",
      "[1] \"Client error: (404) Not Found\"\n",
      "\n"
     ]
    },
    {
     "name": "stderr",
     "output_type": "stream",
     "text": [
      "No encoding supplied: defaulting to UTF-8.\n",
      "\n"
     ]
    },
    {
     "name": "stdout",
     "output_type": "stream",
     "text": [
      "[1] \"{\\\"detail\\\":\\\"The query didn't return any results\\\",\\\"status_code\\\":404}\"\n",
      "[1] \"no results for the query\"\n",
      "[1] 218\n",
      "$category\n",
      "[1] \"Client error\"\n",
      "\n",
      "$reason\n",
      "[1] \"Not Found\"\n",
      "\n",
      "$message\n",
      "[1] \"Client error: (404) Not Found\"\n",
      "\n"
     ]
    },
    {
     "name": "stderr",
     "output_type": "stream",
     "text": [
      "No encoding supplied: defaulting to UTF-8.\n",
      "\n"
     ]
    },
    {
     "name": "stdout",
     "output_type": "stream",
     "text": [
      "[1] \"{\\\"detail\\\":\\\"The query didn't return any results\\\",\\\"status_code\\\":404}\"\n",
      "[1] \"no results for the query\"\n",
      "[1] 219\n",
      "$category\n",
      "[1] \"Client error\"\n",
      "\n",
      "$reason\n",
      "[1] \"Not Found\"\n",
      "\n",
      "$message\n",
      "[1] \"Client error: (404) Not Found\"\n",
      "\n"
     ]
    },
    {
     "name": "stderr",
     "output_type": "stream",
     "text": [
      "No encoding supplied: defaulting to UTF-8.\n",
      "\n"
     ]
    },
    {
     "name": "stdout",
     "output_type": "stream",
     "text": [
      "[1] \"{\\\"detail\\\":\\\"The query didn't return any results\\\",\\\"status_code\\\":404}\"\n",
      "[1] \"no results for the query\"\n",
      "[1] 220\n",
      "$category\n",
      "[1] \"Client error\"\n",
      "\n",
      "$reason\n",
      "[1] \"Not Found\"\n",
      "\n",
      "$message\n",
      "[1] \"Client error: (404) Not Found\"\n",
      "\n"
     ]
    },
    {
     "name": "stderr",
     "output_type": "stream",
     "text": [
      "No encoding supplied: defaulting to UTF-8.\n",
      "\n"
     ]
    },
    {
     "name": "stdout",
     "output_type": "stream",
     "text": [
      "[1] \"{\\\"detail\\\":\\\"The query didn't return any results\\\",\\\"status_code\\\":404}\"\n",
      "[1] \"no results for the query\"\n",
      "[1] 221\n",
      "$category\n",
      "[1] \"Client error\"\n",
      "\n",
      "$reason\n",
      "[1] \"Not Found\"\n",
      "\n",
      "$message\n",
      "[1] \"Client error: (404) Not Found\"\n",
      "\n"
     ]
    },
    {
     "name": "stderr",
     "output_type": "stream",
     "text": [
      "No encoding supplied: defaulting to UTF-8.\n",
      "\n"
     ]
    },
    {
     "name": "stdout",
     "output_type": "stream",
     "text": [
      "[1] \"{\\\"detail\\\":\\\"The query didn't return any results\\\",\\\"status_code\\\":404}\"\n",
      "[1] \"no results for the query\"\n",
      "[1] 222\n",
      "$category\n",
      "[1] \"Client error\"\n",
      "\n",
      "$reason\n",
      "[1] \"Not Found\"\n",
      "\n",
      "$message\n",
      "[1] \"Client error: (404) Not Found\"\n",
      "\n"
     ]
    },
    {
     "name": "stderr",
     "output_type": "stream",
     "text": [
      "No encoding supplied: defaulting to UTF-8.\n",
      "\n"
     ]
    },
    {
     "name": "stdout",
     "output_type": "stream",
     "text": [
      "[1] \"{\\\"detail\\\":\\\"The query didn't return any results\\\",\\\"status_code\\\":404}\"\n",
      "[1] \"no results for the query\"\n",
      "[1] 223\n",
      "$category\n",
      "[1] \"Client error\"\n",
      "\n",
      "$reason\n",
      "[1] \"Not Found\"\n",
      "\n",
      "$message\n",
      "[1] \"Client error: (404) Not Found\"\n",
      "\n"
     ]
    },
    {
     "name": "stderr",
     "output_type": "stream",
     "text": [
      "No encoding supplied: defaulting to UTF-8.\n",
      "\n"
     ]
    },
    {
     "name": "stdout",
     "output_type": "stream",
     "text": [
      "[1] \"{\\\"detail\\\":\\\"The query didn't return any results\\\",\\\"status_code\\\":404}\"\n",
      "[1] \"no results for the query\"\n",
      "[1] 224\n",
      "[1] 225\n",
      "$category\n",
      "[1] \"Client error\"\n",
      "\n",
      "$reason\n",
      "[1] \"Not Found\"\n",
      "\n",
      "$message\n",
      "[1] \"Client error: (404) Not Found\"\n",
      "\n"
     ]
    },
    {
     "name": "stderr",
     "output_type": "stream",
     "text": [
      "No encoding supplied: defaulting to UTF-8.\n",
      "\n"
     ]
    },
    {
     "name": "stdout",
     "output_type": "stream",
     "text": [
      "[1] \"{\\\"detail\\\":\\\"The query didn't return any results\\\",\\\"status_code\\\":404}\"\n",
      "[1] \"no results for the query\"\n",
      "[1] 226\n",
      "[1] 227\n",
      "$category\n",
      "[1] \"Client error\"\n",
      "\n",
      "$reason\n",
      "[1] \"Not Found\"\n",
      "\n",
      "$message\n",
      "[1] \"Client error: (404) Not Found\"\n",
      "\n"
     ]
    },
    {
     "name": "stderr",
     "output_type": "stream",
     "text": [
      "No encoding supplied: defaulting to UTF-8.\n",
      "\n"
     ]
    },
    {
     "name": "stdout",
     "output_type": "stream",
     "text": [
      "[1] \"{\\\"detail\\\":\\\"The query didn't return any results\\\",\\\"status_code\\\":404}\"\n",
      "[1] \"no results for the query\"\n",
      "[1] 228\n",
      "[1] 229\n",
      "$category\n",
      "[1] \"Client error\"\n",
      "\n",
      "$reason\n",
      "[1] \"Not Found\"\n",
      "\n",
      "$message\n",
      "[1] \"Client error: (404) Not Found\"\n",
      "\n"
     ]
    },
    {
     "name": "stderr",
     "output_type": "stream",
     "text": [
      "No encoding supplied: defaulting to UTF-8.\n",
      "\n"
     ]
    },
    {
     "name": "stdout",
     "output_type": "stream",
     "text": [
      "[1] \"{\\\"detail\\\":\\\"The query didn't return any results\\\",\\\"status_code\\\":404}\"\n",
      "[1] \"no results for the query\"\n",
      "[1] 230\n",
      "$category\n",
      "[1] \"Client error\"\n",
      "\n",
      "$reason\n",
      "[1] \"Not Found\"\n",
      "\n",
      "$message\n",
      "[1] \"Client error: (404) Not Found\"\n",
      "\n"
     ]
    },
    {
     "name": "stderr",
     "output_type": "stream",
     "text": [
      "No encoding supplied: defaulting to UTF-8.\n",
      "\n"
     ]
    },
    {
     "name": "stdout",
     "output_type": "stream",
     "text": [
      "[1] \"{\\\"detail\\\":\\\"The query didn't return any results\\\",\\\"status_code\\\":404}\"\n",
      "[1] \"no results for the query\"\n",
      "[1] 231\n",
      "[1] 232\n",
      "$category\n",
      "[1] \"Client error\"\n",
      "\n",
      "$reason\n",
      "[1] \"Not Found\"\n",
      "\n",
      "$message\n",
      "[1] \"Client error: (404) Not Found\"\n",
      "\n"
     ]
    },
    {
     "name": "stderr",
     "output_type": "stream",
     "text": [
      "No encoding supplied: defaulting to UTF-8.\n",
      "\n"
     ]
    },
    {
     "name": "stdout",
     "output_type": "stream",
     "text": [
      "[1] \"{\\\"detail\\\":\\\"The query didn't return any results\\\",\\\"status_code\\\":404}\"\n",
      "[1] \"no results for the query\"\n",
      "[1] 233\n",
      "$category\n",
      "[1] \"Client error\"\n",
      "\n",
      "$reason\n",
      "[1] \"Not Found\"\n",
      "\n",
      "$message\n",
      "[1] \"Client error: (404) Not Found\"\n",
      "\n"
     ]
    },
    {
     "name": "stderr",
     "output_type": "stream",
     "text": [
      "No encoding supplied: defaulting to UTF-8.\n",
      "\n"
     ]
    },
    {
     "name": "stdout",
     "output_type": "stream",
     "text": [
      "[1] \"{\\\"detail\\\":\\\"The query didn't return any results\\\",\\\"status_code\\\":404}\"\n",
      "[1] \"no results for the query\"\n",
      "[1] 234\n",
      "$category\n",
      "[1] \"Client error\"\n",
      "\n",
      "$reason\n",
      "[1] \"Not Found\"\n",
      "\n",
      "$message\n",
      "[1] \"Client error: (404) Not Found\"\n",
      "\n"
     ]
    },
    {
     "name": "stderr",
     "output_type": "stream",
     "text": [
      "No encoding supplied: defaulting to UTF-8.\n",
      "\n"
     ]
    },
    {
     "name": "stdout",
     "output_type": "stream",
     "text": [
      "[1] \"{\\\"detail\\\":\\\"The query didn't return any results\\\",\\\"status_code\\\":404}\"\n",
      "[1] \"no results for the query\"\n",
      "[1] 235\n",
      "$category\n",
      "[1] \"Client error\"\n",
      "\n",
      "$reason\n",
      "[1] \"Not Found\"\n",
      "\n",
      "$message\n",
      "[1] \"Client error: (404) Not Found\"\n",
      "\n"
     ]
    },
    {
     "name": "stderr",
     "output_type": "stream",
     "text": [
      "No encoding supplied: defaulting to UTF-8.\n",
      "\n"
     ]
    },
    {
     "name": "stdout",
     "output_type": "stream",
     "text": [
      "[1] \"{\\\"detail\\\":\\\"The query didn't return any results\\\",\\\"status_code\\\":404}\"\n",
      "[1] \"no results for the query\"\n",
      "[1] 236\n",
      "$category\n",
      "[1] \"Client error\"\n",
      "\n",
      "$reason\n",
      "[1] \"Not Found\"\n",
      "\n",
      "$message\n",
      "[1] \"Client error: (404) Not Found\"\n",
      "\n"
     ]
    },
    {
     "name": "stderr",
     "output_type": "stream",
     "text": [
      "No encoding supplied: defaulting to UTF-8.\n",
      "\n"
     ]
    },
    {
     "name": "stdout",
     "output_type": "stream",
     "text": [
      "[1] \"{\\\"detail\\\":\\\"The query didn't return any results\\\",\\\"status_code\\\":404}\"\n",
      "[1] \"no results for the query\"\n",
      "[1] 237\n",
      "$category\n",
      "[1] \"Client error\"\n",
      "\n",
      "$reason\n",
      "[1] \"Not Found\"\n",
      "\n",
      "$message\n",
      "[1] \"Client error: (404) Not Found\"\n",
      "\n"
     ]
    },
    {
     "name": "stderr",
     "output_type": "stream",
     "text": [
      "No encoding supplied: defaulting to UTF-8.\n",
      "\n"
     ]
    },
    {
     "name": "stdout",
     "output_type": "stream",
     "text": [
      "[1] \"{\\\"detail\\\":\\\"The query didn't return any results\\\",\\\"status_code\\\":404}\"\n",
      "[1] \"no results for the query\"\n",
      "[1] 238\n",
      "$category\n",
      "[1] \"Client error\"\n",
      "\n",
      "$reason\n",
      "[1] \"Not Found\"\n",
      "\n",
      "$message\n",
      "[1] \"Client error: (404) Not Found\"\n",
      "\n"
     ]
    },
    {
     "name": "stderr",
     "output_type": "stream",
     "text": [
      "No encoding supplied: defaulting to UTF-8.\n",
      "\n"
     ]
    },
    {
     "name": "stdout",
     "output_type": "stream",
     "text": [
      "[1] \"{\\\"detail\\\":\\\"The query didn't return any results\\\",\\\"status_code\\\":404}\"\n",
      "[1] \"no results for the query\"\n",
      "[1] 239\n",
      "[1] 240\n",
      "$category\n",
      "[1] \"Client error\"\n",
      "\n",
      "$reason\n",
      "[1] \"Not Found\"\n",
      "\n",
      "$message\n",
      "[1] \"Client error: (404) Not Found\"\n",
      "\n"
     ]
    },
    {
     "name": "stderr",
     "output_type": "stream",
     "text": [
      "No encoding supplied: defaulting to UTF-8.\n",
      "\n"
     ]
    },
    {
     "name": "stdout",
     "output_type": "stream",
     "text": [
      "[1] \"{\\\"detail\\\":\\\"The query didn't return any results\\\",\\\"status_code\\\":404}\"\n",
      "[1] \"no results for the query\"\n",
      "[1] 241\n",
      "$category\n",
      "[1] \"Client error\"\n",
      "\n",
      "$reason\n",
      "[1] \"Not Found\"\n",
      "\n",
      "$message\n",
      "[1] \"Client error: (404) Not Found\"\n",
      "\n"
     ]
    },
    {
     "name": "stderr",
     "output_type": "stream",
     "text": [
      "No encoding supplied: defaulting to UTF-8.\n",
      "\n"
     ]
    },
    {
     "name": "stdout",
     "output_type": "stream",
     "text": [
      "[1] \"{\\\"detail\\\":\\\"The query didn't return any results\\\",\\\"status_code\\\":404}\"\n",
      "[1] \"no results for the query\"\n",
      "[1] 242\n",
      "[1] 243\n",
      "$category\n",
      "[1] \"Client error\"\n",
      "\n",
      "$reason\n",
      "[1] \"Not Found\"\n",
      "\n",
      "$message\n",
      "[1] \"Client error: (404) Not Found\"\n",
      "\n"
     ]
    },
    {
     "name": "stderr",
     "output_type": "stream",
     "text": [
      "No encoding supplied: defaulting to UTF-8.\n",
      "\n"
     ]
    },
    {
     "name": "stdout",
     "output_type": "stream",
     "text": [
      "[1] \"{\\\"detail\\\":\\\"The query didn't return any results\\\",\\\"status_code\\\":404}\"\n",
      "[1] \"no results for the query\"\n",
      "[1] 244\n",
      "$category\n",
      "[1] \"Client error\"\n",
      "\n",
      "$reason\n",
      "[1] \"Not Found\"\n",
      "\n",
      "$message\n",
      "[1] \"Client error: (404) Not Found\"\n",
      "\n"
     ]
    },
    {
     "name": "stderr",
     "output_type": "stream",
     "text": [
      "No encoding supplied: defaulting to UTF-8.\n",
      "\n"
     ]
    },
    {
     "name": "stdout",
     "output_type": "stream",
     "text": [
      "[1] \"{\\\"detail\\\":\\\"The query didn't return any results\\\",\\\"status_code\\\":404}\"\n",
      "[1] \"no results for the query\"\n",
      "[1] 245\n",
      "$category\n",
      "[1] \"Client error\"\n",
      "\n",
      "$reason\n",
      "[1] \"Not Found\"\n",
      "\n",
      "$message\n",
      "[1] \"Client error: (404) Not Found\"\n",
      "\n"
     ]
    },
    {
     "name": "stderr",
     "output_type": "stream",
     "text": [
      "No encoding supplied: defaulting to UTF-8.\n",
      "\n"
     ]
    },
    {
     "name": "stdout",
     "output_type": "stream",
     "text": [
      "[1] \"{\\\"detail\\\":\\\"The query didn't return any results\\\",\\\"status_code\\\":404}\"\n",
      "[1] \"no results for the query\"\n",
      "[1] 246\n",
      "$category\n",
      "[1] \"Client error\"\n",
      "\n",
      "$reason\n",
      "[1] \"Not Found\"\n",
      "\n",
      "$message\n",
      "[1] \"Client error: (404) Not Found\"\n",
      "\n"
     ]
    },
    {
     "name": "stderr",
     "output_type": "stream",
     "text": [
      "No encoding supplied: defaulting to UTF-8.\n",
      "\n"
     ]
    },
    {
     "name": "stdout",
     "output_type": "stream",
     "text": [
      "[1] \"{\\\"detail\\\":\\\"The query didn't return any results\\\",\\\"status_code\\\":404}\"\n",
      "[1] \"no results for the query\"\n",
      "[1] 247\n",
      "[1] 248\n",
      "$category\n",
      "[1] \"Client error\"\n",
      "\n",
      "$reason\n",
      "[1] \"Not Found\"\n",
      "\n",
      "$message\n",
      "[1] \"Client error: (404) Not Found\"\n",
      "\n"
     ]
    },
    {
     "name": "stderr",
     "output_type": "stream",
     "text": [
      "No encoding supplied: defaulting to UTF-8.\n",
      "\n"
     ]
    },
    {
     "name": "stdout",
     "output_type": "stream",
     "text": [
      "[1] \"{\\\"detail\\\":\\\"The query didn't return any results\\\",\\\"status_code\\\":404}\"\n",
      "[1] \"no results for the query\"\n",
      "[1] 249\n",
      "$category\n",
      "[1] \"Client error\"\n",
      "\n",
      "$reason\n",
      "[1] \"Not Found\"\n",
      "\n",
      "$message\n",
      "[1] \"Client error: (404) Not Found\"\n",
      "\n"
     ]
    },
    {
     "name": "stderr",
     "output_type": "stream",
     "text": [
      "No encoding supplied: defaulting to UTF-8.\n",
      "\n"
     ]
    },
    {
     "name": "stdout",
     "output_type": "stream",
     "text": [
      "[1] \"{\\\"detail\\\":\\\"The query didn't return any results\\\",\\\"status_code\\\":404}\"\n",
      "[1] \"no results for the query\"\n",
      "[1] 250\n",
      "$category\n",
      "[1] \"Client error\"\n",
      "\n",
      "$reason\n",
      "[1] \"Not Found\"\n",
      "\n",
      "$message\n",
      "[1] \"Client error: (404) Not Found\"\n",
      "\n"
     ]
    },
    {
     "name": "stderr",
     "output_type": "stream",
     "text": [
      "No encoding supplied: defaulting to UTF-8.\n",
      "\n"
     ]
    },
    {
     "name": "stdout",
     "output_type": "stream",
     "text": [
      "[1] \"{\\\"detail\\\":\\\"The query didn't return any results\\\",\\\"status_code\\\":404}\"\n",
      "[1] \"no results for the query\"\n",
      "[1] 251\n",
      "$category\n",
      "[1] \"Client error\"\n",
      "\n",
      "$reason\n",
      "[1] \"Not Found\"\n",
      "\n",
      "$message\n",
      "[1] \"Client error: (404) Not Found\"\n",
      "\n"
     ]
    },
    {
     "name": "stderr",
     "output_type": "stream",
     "text": [
      "No encoding supplied: defaulting to UTF-8.\n",
      "\n"
     ]
    },
    {
     "name": "stdout",
     "output_type": "stream",
     "text": [
      "[1] \"{\\\"detail\\\":\\\"The query didn't return any results\\\",\\\"status_code\\\":404}\"\n",
      "[1] \"no results for the query\"\n",
      "[1] 252\n",
      "[1] 253\n",
      "$category\n",
      "[1] \"Client error\"\n",
      "\n",
      "$reason\n",
      "[1] \"Not Found\"\n",
      "\n",
      "$message\n",
      "[1] \"Client error: (404) Not Found\"\n",
      "\n"
     ]
    },
    {
     "name": "stderr",
     "output_type": "stream",
     "text": [
      "No encoding supplied: defaulting to UTF-8.\n",
      "\n"
     ]
    },
    {
     "name": "stdout",
     "output_type": "stream",
     "text": [
      "[1] \"{\\\"detail\\\":\\\"The query didn't return any results\\\",\\\"status_code\\\":404}\"\n",
      "[1] \"no results for the query\"\n",
      "[1] 254\n",
      "$category\n",
      "[1] \"Client error\"\n",
      "\n",
      "$reason\n",
      "[1] \"Not Found\"\n",
      "\n",
      "$message\n",
      "[1] \"Client error: (404) Not Found\"\n",
      "\n"
     ]
    },
    {
     "name": "stderr",
     "output_type": "stream",
     "text": [
      "No encoding supplied: defaulting to UTF-8.\n",
      "\n"
     ]
    },
    {
     "name": "stdout",
     "output_type": "stream",
     "text": [
      "[1] \"{\\\"detail\\\":\\\"The query didn't return any results\\\",\\\"status_code\\\":404}\"\n",
      "[1] \"no results for the query\"\n",
      "[1] 255\n",
      "$category\n",
      "[1] \"Client error\"\n",
      "\n",
      "$reason\n",
      "[1] \"Not Found\"\n",
      "\n",
      "$message\n",
      "[1] \"Client error: (404) Not Found\"\n",
      "\n"
     ]
    },
    {
     "name": "stderr",
     "output_type": "stream",
     "text": [
      "No encoding supplied: defaulting to UTF-8.\n",
      "\n"
     ]
    },
    {
     "name": "stdout",
     "output_type": "stream",
     "text": [
      "[1] \"{\\\"detail\\\":\\\"The query didn't return any results\\\",\\\"status_code\\\":404}\"\n",
      "[1] \"no results for the query\"\n",
      "[1] 256\n",
      "$category\n",
      "[1] \"Client error\"\n",
      "\n",
      "$reason\n",
      "[1] \"Not Found\"\n",
      "\n",
      "$message\n",
      "[1] \"Client error: (404) Not Found\"\n",
      "\n"
     ]
    },
    {
     "name": "stderr",
     "output_type": "stream",
     "text": [
      "No encoding supplied: defaulting to UTF-8.\n",
      "\n"
     ]
    },
    {
     "name": "stdout",
     "output_type": "stream",
     "text": [
      "[1] \"{\\\"detail\\\":\\\"The query didn't return any results\\\",\\\"status_code\\\":404}\"\n",
      "[1] \"no results for the query\"\n",
      "[1] 257\n",
      "$category\n",
      "[1] \"Client error\"\n",
      "\n",
      "$reason\n",
      "[1] \"Not Found\"\n",
      "\n",
      "$message\n",
      "[1] \"Client error: (404) Not Found\"\n",
      "\n"
     ]
    },
    {
     "name": "stderr",
     "output_type": "stream",
     "text": [
      "No encoding supplied: defaulting to UTF-8.\n",
      "\n"
     ]
    },
    {
     "name": "stdout",
     "output_type": "stream",
     "text": [
      "[1] \"{\\\"detail\\\":\\\"The query didn't return any results\\\",\\\"status_code\\\":404}\"\n",
      "[1] \"no results for the query\"\n",
      "[1] 258\n",
      "$category\n",
      "[1] \"Client error\"\n",
      "\n",
      "$reason\n",
      "[1] \"Not Found\"\n",
      "\n",
      "$message\n",
      "[1] \"Client error: (404) Not Found\"\n",
      "\n"
     ]
    },
    {
     "name": "stderr",
     "output_type": "stream",
     "text": [
      "No encoding supplied: defaulting to UTF-8.\n",
      "\n"
     ]
    },
    {
     "name": "stdout",
     "output_type": "stream",
     "text": [
      "[1] \"{\\\"detail\\\":\\\"The query didn't return any results\\\",\\\"status_code\\\":404}\"\n",
      "[1] \"no results for the query\"\n",
      "[1] 259\n",
      "$category\n",
      "[1] \"Client error\"\n",
      "\n",
      "$reason\n",
      "[1] \"Not Found\"\n",
      "\n",
      "$message\n",
      "[1] \"Client error: (404) Not Found\"\n",
      "\n"
     ]
    },
    {
     "name": "stderr",
     "output_type": "stream",
     "text": [
      "No encoding supplied: defaulting to UTF-8.\n",
      "\n"
     ]
    },
    {
     "name": "stdout",
     "output_type": "stream",
     "text": [
      "[1] \"{\\\"detail\\\":\\\"The query didn't return any results\\\",\\\"status_code\\\":404}\"\n",
      "[1] \"no results for the query\"\n",
      "[1] 260\n",
      "$category\n",
      "[1] \"Client error\"\n",
      "\n",
      "$reason\n",
      "[1] \"Not Found\"\n",
      "\n",
      "$message\n",
      "[1] \"Client error: (404) Not Found\"\n",
      "\n"
     ]
    },
    {
     "name": "stderr",
     "output_type": "stream",
     "text": [
      "No encoding supplied: defaulting to UTF-8.\n",
      "\n"
     ]
    },
    {
     "name": "stdout",
     "output_type": "stream",
     "text": [
      "[1] \"{\\\"detail\\\":\\\"The query didn't return any results\\\",\\\"status_code\\\":404}\"\n",
      "[1] \"no results for the query\"\n",
      "[1] 261\n",
      "[1] 262\n",
      "[1] 263\n",
      "$category\n",
      "[1] \"Client error\"\n",
      "\n",
      "$reason\n",
      "[1] \"Not Found\"\n",
      "\n",
      "$message\n",
      "[1] \"Client error: (404) Not Found\"\n",
      "\n"
     ]
    },
    {
     "name": "stderr",
     "output_type": "stream",
     "text": [
      "No encoding supplied: defaulting to UTF-8.\n",
      "\n"
     ]
    },
    {
     "name": "stdout",
     "output_type": "stream",
     "text": [
      "[1] \"{\\\"detail\\\":\\\"The query didn't return any results\\\",\\\"status_code\\\":404}\"\n",
      "[1] \"no results for the query\"\n",
      "[1] 264\n",
      "$category\n",
      "[1] \"Client error\"\n",
      "\n",
      "$reason\n",
      "[1] \"Not Found\"\n",
      "\n",
      "$message\n",
      "[1] \"Client error: (404) Not Found\"\n",
      "\n"
     ]
    },
    {
     "name": "stderr",
     "output_type": "stream",
     "text": [
      "No encoding supplied: defaulting to UTF-8.\n",
      "\n"
     ]
    },
    {
     "name": "stdout",
     "output_type": "stream",
     "text": [
      "[1] \"{\\\"detail\\\":\\\"The query didn't return any results\\\",\\\"status_code\\\":404}\"\n",
      "[1] \"no results for the query\"\n",
      "[1] 265\n",
      "$category\n",
      "[1] \"Client error\"\n",
      "\n",
      "$reason\n",
      "[1] \"Not Found\"\n",
      "\n",
      "$message\n",
      "[1] \"Client error: (404) Not Found\"\n",
      "\n"
     ]
    },
    {
     "name": "stderr",
     "output_type": "stream",
     "text": [
      "No encoding supplied: defaulting to UTF-8.\n",
      "\n"
     ]
    },
    {
     "name": "stdout",
     "output_type": "stream",
     "text": [
      "[1] \"{\\\"detail\\\":\\\"The query didn't return any results\\\",\\\"status_code\\\":404}\"\n",
      "[1] \"no results for the query\"\n",
      "[1] 266\n",
      "[1] 267\n",
      "$category\n",
      "[1] \"Client error\"\n",
      "\n",
      "$reason\n",
      "[1] \"Not Found\"\n",
      "\n",
      "$message\n",
      "[1] \"Client error: (404) Not Found\"\n",
      "\n"
     ]
    },
    {
     "name": "stderr",
     "output_type": "stream",
     "text": [
      "No encoding supplied: defaulting to UTF-8.\n",
      "\n"
     ]
    },
    {
     "name": "stdout",
     "output_type": "stream",
     "text": [
      "[1] \"{\\\"detail\\\":\\\"The query didn't return any results\\\",\\\"status_code\\\":404}\"\n",
      "[1] \"no results for the query\"\n",
      "[1] 268\n",
      "$category\n",
      "[1] \"Client error\"\n",
      "\n",
      "$reason\n",
      "[1] \"Not Found\"\n",
      "\n",
      "$message\n",
      "[1] \"Client error: (404) Not Found\"\n",
      "\n"
     ]
    },
    {
     "name": "stderr",
     "output_type": "stream",
     "text": [
      "No encoding supplied: defaulting to UTF-8.\n",
      "\n"
     ]
    },
    {
     "name": "stdout",
     "output_type": "stream",
     "text": [
      "[1] \"{\\\"detail\\\":\\\"The query didn't return any results\\\",\\\"status_code\\\":404}\"\n",
      "[1] \"no results for the query\"\n",
      "[1] 269\n",
      "$category\n",
      "[1] \"Client error\"\n",
      "\n",
      "$reason\n",
      "[1] \"Not Found\"\n",
      "\n",
      "$message\n",
      "[1] \"Client error: (404) Not Found\"\n",
      "\n"
     ]
    },
    {
     "name": "stderr",
     "output_type": "stream",
     "text": [
      "No encoding supplied: defaulting to UTF-8.\n",
      "\n"
     ]
    },
    {
     "name": "stdout",
     "output_type": "stream",
     "text": [
      "[1] \"{\\\"detail\\\":\\\"The query didn't return any results\\\",\\\"status_code\\\":404}\"\n",
      "[1] \"no results for the query\"\n",
      "[1] 270\n",
      "[1] 271\n",
      "$category\n",
      "[1] \"Client error\"\n",
      "\n",
      "$reason\n",
      "[1] \"Not Found\"\n",
      "\n",
      "$message\n",
      "[1] \"Client error: (404) Not Found\"\n",
      "\n"
     ]
    },
    {
     "name": "stderr",
     "output_type": "stream",
     "text": [
      "No encoding supplied: defaulting to UTF-8.\n",
      "\n"
     ]
    },
    {
     "name": "stdout",
     "output_type": "stream",
     "text": [
      "[1] \"{\\\"detail\\\":\\\"The query didn't return any results\\\",\\\"status_code\\\":404}\"\n",
      "[1] \"no results for the query\"\n",
      "[1] 272\n",
      "$category\n",
      "[1] \"Client error\"\n",
      "\n",
      "$reason\n",
      "[1] \"Not Found\"\n",
      "\n",
      "$message\n",
      "[1] \"Client error: (404) Not Found\"\n",
      "\n"
     ]
    },
    {
     "name": "stderr",
     "output_type": "stream",
     "text": [
      "No encoding supplied: defaulting to UTF-8.\n",
      "\n"
     ]
    },
    {
     "name": "stdout",
     "output_type": "stream",
     "text": [
      "[1] \"{\\\"detail\\\":\\\"The query didn't return any results\\\",\\\"status_code\\\":404}\"\n",
      "[1] \"no results for the query\"\n",
      "[1] 273\n",
      "$category\n",
      "[1] \"Client error\"\n",
      "\n",
      "$reason\n",
      "[1] \"Not Found\"\n",
      "\n",
      "$message\n",
      "[1] \"Client error: (404) Not Found\"\n",
      "\n"
     ]
    },
    {
     "name": "stderr",
     "output_type": "stream",
     "text": [
      "No encoding supplied: defaulting to UTF-8.\n",
      "\n"
     ]
    },
    {
     "name": "stdout",
     "output_type": "stream",
     "text": [
      "[1] \"{\\\"detail\\\":\\\"The query didn't return any results\\\",\\\"status_code\\\":404}\"\n",
      "[1] \"no results for the query\"\n",
      "[1] 274\n",
      "$category\n",
      "[1] \"Client error\"\n",
      "\n",
      "$reason\n",
      "[1] \"Not Found\"\n",
      "\n",
      "$message\n",
      "[1] \"Client error: (404) Not Found\"\n",
      "\n"
     ]
    },
    {
     "name": "stderr",
     "output_type": "stream",
     "text": [
      "No encoding supplied: defaulting to UTF-8.\n",
      "\n"
     ]
    },
    {
     "name": "stdout",
     "output_type": "stream",
     "text": [
      "[1] \"{\\\"detail\\\":\\\"The query didn't return any results\\\",\\\"status_code\\\":404}\"\n",
      "[1] \"no results for the query\"\n",
      "[1] 275\n",
      "$category\n",
      "[1] \"Client error\"\n",
      "\n",
      "$reason\n",
      "[1] \"Not Found\"\n",
      "\n",
      "$message\n",
      "[1] \"Client error: (404) Not Found\"\n",
      "\n"
     ]
    },
    {
     "name": "stderr",
     "output_type": "stream",
     "text": [
      "No encoding supplied: defaulting to UTF-8.\n",
      "\n"
     ]
    },
    {
     "name": "stdout",
     "output_type": "stream",
     "text": [
      "[1] \"{\\\"detail\\\":\\\"The query didn't return any results\\\",\\\"status_code\\\":404}\"\n",
      "[1] \"no results for the query\"\n",
      "[1] 276\n",
      "$category\n",
      "[1] \"Client error\"\n",
      "\n",
      "$reason\n",
      "[1] \"Not Found\"\n",
      "\n",
      "$message\n",
      "[1] \"Client error: (404) Not Found\"\n",
      "\n"
     ]
    },
    {
     "name": "stderr",
     "output_type": "stream",
     "text": [
      "No encoding supplied: defaulting to UTF-8.\n",
      "\n"
     ]
    },
    {
     "name": "stdout",
     "output_type": "stream",
     "text": [
      "[1] \"{\\\"detail\\\":\\\"The query didn't return any results\\\",\\\"status_code\\\":404}\"\n",
      "[1] \"no results for the query\"\n",
      "[1] 277\n",
      "$category\n",
      "[1] \"Client error\"\n",
      "\n",
      "$reason\n",
      "[1] \"Not Found\"\n",
      "\n",
      "$message\n",
      "[1] \"Client error: (404) Not Found\"\n",
      "\n"
     ]
    },
    {
     "name": "stderr",
     "output_type": "stream",
     "text": [
      "No encoding supplied: defaulting to UTF-8.\n",
      "\n"
     ]
    },
    {
     "name": "stdout",
     "output_type": "stream",
     "text": [
      "[1] \"{\\\"detail\\\":\\\"The query didn't return any results\\\",\\\"status_code\\\":404}\"\n",
      "[1] \"no results for the query\"\n",
      "[1] 278\n",
      "$category\n",
      "[1] \"Client error\"\n",
      "\n",
      "$reason\n",
      "[1] \"Not Found\"\n",
      "\n",
      "$message\n",
      "[1] \"Client error: (404) Not Found\"\n",
      "\n"
     ]
    },
    {
     "name": "stderr",
     "output_type": "stream",
     "text": [
      "No encoding supplied: defaulting to UTF-8.\n",
      "\n"
     ]
    },
    {
     "name": "stdout",
     "output_type": "stream",
     "text": [
      "[1] \"{\\\"detail\\\":\\\"The query didn't return any results\\\",\\\"status_code\\\":404}\"\n",
      "[1] \"no results for the query\"\n",
      "[1] 279\n",
      "$category\n",
      "[1] \"Client error\"\n",
      "\n",
      "$reason\n",
      "[1] \"Not Found\"\n",
      "\n",
      "$message\n",
      "[1] \"Client error: (404) Not Found\"\n",
      "\n"
     ]
    },
    {
     "name": "stderr",
     "output_type": "stream",
     "text": [
      "No encoding supplied: defaulting to UTF-8.\n",
      "\n"
     ]
    },
    {
     "name": "stdout",
     "output_type": "stream",
     "text": [
      "[1] \"{\\\"detail\\\":\\\"The query didn't return any results\\\",\\\"status_code\\\":404}\"\n",
      "[1] \"no results for the query\"\n",
      "[1] 280\n",
      "$category\n",
      "[1] \"Client error\"\n",
      "\n",
      "$reason\n",
      "[1] \"Not Found\"\n",
      "\n",
      "$message\n",
      "[1] \"Client error: (404) Not Found\"\n",
      "\n"
     ]
    },
    {
     "name": "stderr",
     "output_type": "stream",
     "text": [
      "No encoding supplied: defaulting to UTF-8.\n",
      "\n"
     ]
    },
    {
     "name": "stdout",
     "output_type": "stream",
     "text": [
      "[1] \"{\\\"detail\\\":\\\"The query didn't return any results\\\",\\\"status_code\\\":404}\"\n",
      "[1] \"no results for the query\"\n",
      "[1] 281\n",
      "[1] 282\n",
      "$category\n",
      "[1] \"Client error\"\n",
      "\n",
      "$reason\n",
      "[1] \"Not Found\"\n",
      "\n",
      "$message\n",
      "[1] \"Client error: (404) Not Found\"\n",
      "\n"
     ]
    },
    {
     "name": "stderr",
     "output_type": "stream",
     "text": [
      "No encoding supplied: defaulting to UTF-8.\n",
      "\n"
     ]
    },
    {
     "name": "stdout",
     "output_type": "stream",
     "text": [
      "[1] \"{\\\"detail\\\":\\\"The query didn't return any results\\\",\\\"status_code\\\":404}\"\n",
      "[1] \"no results for the query\"\n",
      "[1] 283\n",
      "$category\n",
      "[1] \"Client error\"\n",
      "\n",
      "$reason\n",
      "[1] \"Not Found\"\n",
      "\n",
      "$message\n",
      "[1] \"Client error: (404) Not Found\"\n",
      "\n"
     ]
    },
    {
     "name": "stderr",
     "output_type": "stream",
     "text": [
      "No encoding supplied: defaulting to UTF-8.\n",
      "\n"
     ]
    },
    {
     "name": "stdout",
     "output_type": "stream",
     "text": [
      "[1] \"{\\\"detail\\\":\\\"The query didn't return any results\\\",\\\"status_code\\\":404}\"\n",
      "[1] \"no results for the query\"\n",
      "[1] 284\n",
      "$category\n",
      "[1] \"Client error\"\n",
      "\n",
      "$reason\n",
      "[1] \"Not Found\"\n",
      "\n",
      "$message\n",
      "[1] \"Client error: (404) Not Found\"\n",
      "\n"
     ]
    },
    {
     "name": "stderr",
     "output_type": "stream",
     "text": [
      "No encoding supplied: defaulting to UTF-8.\n",
      "\n"
     ]
    },
    {
     "name": "stdout",
     "output_type": "stream",
     "text": [
      "[1] \"{\\\"detail\\\":\\\"The query didn't return any results\\\",\\\"status_code\\\":404}\"\n",
      "[1] \"no results for the query\"\n",
      "[1] 285\n",
      "$category\n",
      "[1] \"Client error\"\n",
      "\n",
      "$reason\n",
      "[1] \"Not Found\"\n",
      "\n",
      "$message\n",
      "[1] \"Client error: (404) Not Found\"\n",
      "\n"
     ]
    },
    {
     "name": "stderr",
     "output_type": "stream",
     "text": [
      "No encoding supplied: defaulting to UTF-8.\n",
      "\n"
     ]
    },
    {
     "name": "stdout",
     "output_type": "stream",
     "text": [
      "[1] \"{\\\"detail\\\":\\\"The query didn't return any results\\\",\\\"status_code\\\":404}\"\n",
      "[1] \"no results for the query\"\n",
      "[1] 286\n",
      "$category\n",
      "[1] \"Client error\"\n",
      "\n",
      "$reason\n",
      "[1] \"Not Found\"\n",
      "\n",
      "$message\n",
      "[1] \"Client error: (404) Not Found\"\n",
      "\n"
     ]
    },
    {
     "name": "stderr",
     "output_type": "stream",
     "text": [
      "No encoding supplied: defaulting to UTF-8.\n",
      "\n"
     ]
    },
    {
     "name": "stdout",
     "output_type": "stream",
     "text": [
      "[1] \"{\\\"detail\\\":\\\"The query didn't return any results\\\",\\\"status_code\\\":404}\"\n",
      "[1] \"no results for the query\"\n",
      "[1] 287\n",
      "$category\n",
      "[1] \"Client error\"\n",
      "\n",
      "$reason\n",
      "[1] \"Not Found\"\n",
      "\n",
      "$message\n",
      "[1] \"Client error: (404) Not Found\"\n",
      "\n"
     ]
    },
    {
     "name": "stderr",
     "output_type": "stream",
     "text": [
      "No encoding supplied: defaulting to UTF-8.\n",
      "\n"
     ]
    },
    {
     "name": "stdout",
     "output_type": "stream",
     "text": [
      "[1] \"{\\\"detail\\\":\\\"The query didn't return any results\\\",\\\"status_code\\\":404}\"\n",
      "[1] \"no results for the query\"\n",
      "[1] 288\n",
      "[1] 289\n",
      "$category\n",
      "[1] \"Client error\"\n",
      "\n",
      "$reason\n",
      "[1] \"Not Found\"\n",
      "\n",
      "$message\n",
      "[1] \"Client error: (404) Not Found\"\n",
      "\n"
     ]
    },
    {
     "name": "stderr",
     "output_type": "stream",
     "text": [
      "No encoding supplied: defaulting to UTF-8.\n",
      "\n"
     ]
    },
    {
     "name": "stdout",
     "output_type": "stream",
     "text": [
      "[1] \"{\\\"detail\\\":\\\"The query didn't return any results\\\",\\\"status_code\\\":404}\"\n",
      "[1] \"no results for the query\"\n",
      "[1] 290\n",
      "$category\n",
      "[1] \"Client error\"\n",
      "\n",
      "$reason\n",
      "[1] \"Not Found\"\n",
      "\n",
      "$message\n",
      "[1] \"Client error: (404) Not Found\"\n",
      "\n"
     ]
    },
    {
     "name": "stderr",
     "output_type": "stream",
     "text": [
      "No encoding supplied: defaulting to UTF-8.\n",
      "\n"
     ]
    },
    {
     "name": "stdout",
     "output_type": "stream",
     "text": [
      "[1] \"{\\\"detail\\\":\\\"The query didn't return any results\\\",\\\"status_code\\\":404}\"\n",
      "[1] \"no results for the query\"\n",
      "[1] 291\n",
      "$category\n",
      "[1] \"Client error\"\n",
      "\n",
      "$reason\n",
      "[1] \"Not Found\"\n",
      "\n",
      "$message\n",
      "[1] \"Client error: (404) Not Found\"\n",
      "\n"
     ]
    },
    {
     "name": "stderr",
     "output_type": "stream",
     "text": [
      "No encoding supplied: defaulting to UTF-8.\n",
      "\n"
     ]
    },
    {
     "name": "stdout",
     "output_type": "stream",
     "text": [
      "[1] \"{\\\"detail\\\":\\\"The query didn't return any results\\\",\\\"status_code\\\":404}\"\n",
      "[1] \"no results for the query\"\n",
      "[1] 292\n",
      "$category\n",
      "[1] \"Client error\"\n",
      "\n",
      "$reason\n",
      "[1] \"Not Found\"\n",
      "\n",
      "$message\n",
      "[1] \"Client error: (404) Not Found\"\n",
      "\n"
     ]
    },
    {
     "name": "stderr",
     "output_type": "stream",
     "text": [
      "No encoding supplied: defaulting to UTF-8.\n",
      "\n"
     ]
    },
    {
     "name": "stdout",
     "output_type": "stream",
     "text": [
      "[1] \"{\\\"detail\\\":\\\"The query didn't return any results\\\",\\\"status_code\\\":404}\"\n",
      "[1] \"no results for the query\"\n",
      "[1] 293\n",
      "$category\n",
      "[1] \"Client error\"\n",
      "\n",
      "$reason\n",
      "[1] \"Not Found\"\n",
      "\n",
      "$message\n",
      "[1] \"Client error: (404) Not Found\"\n",
      "\n"
     ]
    },
    {
     "name": "stderr",
     "output_type": "stream",
     "text": [
      "No encoding supplied: defaulting to UTF-8.\n",
      "\n"
     ]
    },
    {
     "name": "stdout",
     "output_type": "stream",
     "text": [
      "[1] \"{\\\"detail\\\":\\\"The query didn't return any results\\\",\\\"status_code\\\":404}\"\n",
      "[1] \"no results for the query\"\n",
      "[1] 294\n",
      "[1] 295\n",
      "$category\n",
      "[1] \"Client error\"\n",
      "\n",
      "$reason\n",
      "[1] \"Not Found\"\n",
      "\n",
      "$message\n",
      "[1] \"Client error: (404) Not Found\"\n",
      "\n"
     ]
    },
    {
     "name": "stderr",
     "output_type": "stream",
     "text": [
      "No encoding supplied: defaulting to UTF-8.\n",
      "\n"
     ]
    },
    {
     "name": "stdout",
     "output_type": "stream",
     "text": [
      "[1] \"{\\\"detail\\\":\\\"The query didn't return any results\\\",\\\"status_code\\\":404}\"\n",
      "[1] \"no results for the query\"\n",
      "[1] 296\n",
      "$category\n",
      "[1] \"Client error\"\n",
      "\n",
      "$reason\n",
      "[1] \"Not Found\"\n",
      "\n",
      "$message\n",
      "[1] \"Client error: (404) Not Found\"\n",
      "\n"
     ]
    },
    {
     "name": "stderr",
     "output_type": "stream",
     "text": [
      "No encoding supplied: defaulting to UTF-8.\n",
      "\n"
     ]
    },
    {
     "name": "stdout",
     "output_type": "stream",
     "text": [
      "[1] \"{\\\"detail\\\":\\\"The query didn't return any results\\\",\\\"status_code\\\":404}\"\n",
      "[1] \"no results for the query\"\n",
      "[1] 297\n",
      "$category\n",
      "[1] \"Client error\"\n",
      "\n",
      "$reason\n",
      "[1] \"Not Found\"\n",
      "\n",
      "$message\n",
      "[1] \"Client error: (404) Not Found\"\n",
      "\n"
     ]
    },
    {
     "name": "stderr",
     "output_type": "stream",
     "text": [
      "No encoding supplied: defaulting to UTF-8.\n",
      "\n"
     ]
    },
    {
     "name": "stdout",
     "output_type": "stream",
     "text": [
      "[1] \"{\\\"detail\\\":\\\"The query didn't return any results\\\",\\\"status_code\\\":404}\"\n",
      "[1] \"no results for the query\"\n",
      "[1] 298\n",
      "$category\n",
      "[1] \"Client error\"\n",
      "\n",
      "$reason\n",
      "[1] \"Not Found\"\n",
      "\n",
      "$message\n",
      "[1] \"Client error: (404) Not Found\"\n",
      "\n"
     ]
    },
    {
     "name": "stderr",
     "output_type": "stream",
     "text": [
      "No encoding supplied: defaulting to UTF-8.\n",
      "\n"
     ]
    },
    {
     "name": "stdout",
     "output_type": "stream",
     "text": [
      "[1] \"{\\\"detail\\\":\\\"The query didn't return any results\\\",\\\"status_code\\\":404}\"\n",
      "[1] \"no results for the query\"\n",
      "[1] 299\n",
      "$category\n",
      "[1] \"Client error\"\n",
      "\n",
      "$reason\n",
      "[1] \"Not Found\"\n",
      "\n",
      "$message\n",
      "[1] \"Client error: (404) Not Found\"\n",
      "\n"
     ]
    },
    {
     "name": "stderr",
     "output_type": "stream",
     "text": [
      "No encoding supplied: defaulting to UTF-8.\n",
      "\n"
     ]
    },
    {
     "name": "stdout",
     "output_type": "stream",
     "text": [
      "[1] \"{\\\"detail\\\":\\\"The query didn't return any results\\\",\\\"status_code\\\":404}\"\n",
      "[1] \"no results for the query\"\n",
      "[1] 300\n",
      "[1] 301\n",
      "[1] 302\n",
      "$category\n",
      "[1] \"Client error\"\n",
      "\n",
      "$reason\n",
      "[1] \"Not Found\"\n",
      "\n",
      "$message\n",
      "[1] \"Client error: (404) Not Found\"\n",
      "\n"
     ]
    },
    {
     "name": "stderr",
     "output_type": "stream",
     "text": [
      "No encoding supplied: defaulting to UTF-8.\n",
      "\n"
     ]
    },
    {
     "name": "stdout",
     "output_type": "stream",
     "text": [
      "[1] \"{\\\"detail\\\":\\\"The query didn't return any results\\\",\\\"status_code\\\":404}\"\n",
      "[1] \"no results for the query\"\n",
      "[1] 303\n",
      "$category\n",
      "[1] \"Client error\"\n",
      "\n",
      "$reason\n",
      "[1] \"Not Found\"\n",
      "\n",
      "$message\n",
      "[1] \"Client error: (404) Not Found\"\n",
      "\n"
     ]
    },
    {
     "name": "stderr",
     "output_type": "stream",
     "text": [
      "No encoding supplied: defaulting to UTF-8.\n",
      "\n"
     ]
    },
    {
     "name": "stdout",
     "output_type": "stream",
     "text": [
      "[1] \"{\\\"detail\\\":\\\"The query didn't return any results\\\",\\\"status_code\\\":404}\"\n",
      "[1] \"no results for the query\"\n",
      "[1] 304\n",
      "$category\n",
      "[1] \"Client error\"\n",
      "\n",
      "$reason\n",
      "[1] \"Not Found\"\n",
      "\n",
      "$message\n",
      "[1] \"Client error: (404) Not Found\"\n",
      "\n"
     ]
    },
    {
     "name": "stderr",
     "output_type": "stream",
     "text": [
      "No encoding supplied: defaulting to UTF-8.\n",
      "\n"
     ]
    },
    {
     "name": "stdout",
     "output_type": "stream",
     "text": [
      "[1] \"{\\\"detail\\\":\\\"The query didn't return any results\\\",\\\"status_code\\\":404}\"\n",
      "[1] \"no results for the query\"\n",
      "[1] 305\n",
      "$category\n",
      "[1] \"Client error\"\n",
      "\n",
      "$reason\n",
      "[1] \"Not Found\"\n",
      "\n",
      "$message\n",
      "[1] \"Client error: (404) Not Found\"\n",
      "\n"
     ]
    },
    {
     "name": "stderr",
     "output_type": "stream",
     "text": [
      "No encoding supplied: defaulting to UTF-8.\n",
      "\n"
     ]
    },
    {
     "name": "stdout",
     "output_type": "stream",
     "text": [
      "[1] \"{\\\"detail\\\":\\\"The query didn't return any results\\\",\\\"status_code\\\":404}\"\n",
      "[1] \"no results for the query\"\n",
      "[1] 306\n",
      "$category\n",
      "[1] \"Client error\"\n",
      "\n",
      "$reason\n",
      "[1] \"Not Found\"\n",
      "\n",
      "$message\n",
      "[1] \"Client error: (404) Not Found\"\n",
      "\n"
     ]
    },
    {
     "name": "stderr",
     "output_type": "stream",
     "text": [
      "No encoding supplied: defaulting to UTF-8.\n",
      "\n"
     ]
    },
    {
     "name": "stdout",
     "output_type": "stream",
     "text": [
      "[1] \"{\\\"detail\\\":\\\"The query didn't return any results\\\",\\\"status_code\\\":404}\"\n",
      "[1] \"no results for the query\"\n",
      "[1] 307\n",
      "$category\n",
      "[1] \"Client error\"\n",
      "\n",
      "$reason\n",
      "[1] \"Not Found\"\n",
      "\n",
      "$message\n",
      "[1] \"Client error: (404) Not Found\"\n",
      "\n"
     ]
    },
    {
     "name": "stderr",
     "output_type": "stream",
     "text": [
      "No encoding supplied: defaulting to UTF-8.\n",
      "\n"
     ]
    },
    {
     "name": "stdout",
     "output_type": "stream",
     "text": [
      "[1] \"{\\\"detail\\\":\\\"The query didn't return any results\\\",\\\"status_code\\\":404}\"\n",
      "[1] \"no results for the query\"\n",
      "[1] 308\n",
      "$category\n",
      "[1] \"Client error\"\n",
      "\n",
      "$reason\n",
      "[1] \"Not Found\"\n",
      "\n",
      "$message\n",
      "[1] \"Client error: (404) Not Found\"\n",
      "\n"
     ]
    },
    {
     "name": "stderr",
     "output_type": "stream",
     "text": [
      "No encoding supplied: defaulting to UTF-8.\n",
      "\n"
     ]
    },
    {
     "name": "stdout",
     "output_type": "stream",
     "text": [
      "[1] \"{\\\"detail\\\":\\\"The query didn't return any results\\\",\\\"status_code\\\":404}\"\n",
      "[1] \"no results for the query\"\n",
      "[1] 309\n",
      "$category\n",
      "[1] \"Client error\"\n",
      "\n",
      "$reason\n",
      "[1] \"Not Found\"\n",
      "\n",
      "$message\n",
      "[1] \"Client error: (404) Not Found\"\n",
      "\n"
     ]
    },
    {
     "name": "stderr",
     "output_type": "stream",
     "text": [
      "No encoding supplied: defaulting to UTF-8.\n",
      "\n"
     ]
    },
    {
     "name": "stdout",
     "output_type": "stream",
     "text": [
      "[1] \"{\\\"detail\\\":\\\"The query didn't return any results\\\",\\\"status_code\\\":404}\"\n",
      "[1] \"no results for the query\"\n",
      "[1] 310\n",
      "$category\n",
      "[1] \"Client error\"\n",
      "\n",
      "$reason\n",
      "[1] \"Not Found\"\n",
      "\n",
      "$message\n",
      "[1] \"Client error: (404) Not Found\"\n",
      "\n"
     ]
    },
    {
     "name": "stderr",
     "output_type": "stream",
     "text": [
      "No encoding supplied: defaulting to UTF-8.\n",
      "\n"
     ]
    },
    {
     "name": "stdout",
     "output_type": "stream",
     "text": [
      "[1] \"{\\\"detail\\\":\\\"The query didn't return any results\\\",\\\"status_code\\\":404}\"\n",
      "[1] \"no results for the query\"\n",
      "[1] 311\n",
      "[1] 312\n",
      "[1] 313\n",
      "$category\n",
      "[1] \"Client error\"\n",
      "\n",
      "$reason\n",
      "[1] \"Not Found\"\n",
      "\n",
      "$message\n",
      "[1] \"Client error: (404) Not Found\"\n",
      "\n"
     ]
    },
    {
     "name": "stderr",
     "output_type": "stream",
     "text": [
      "No encoding supplied: defaulting to UTF-8.\n",
      "\n"
     ]
    },
    {
     "name": "stdout",
     "output_type": "stream",
     "text": [
      "[1] \"{\\\"detail\\\":\\\"The query didn't return any results\\\",\\\"status_code\\\":404}\"\n",
      "[1] \"no results for the query\"\n",
      "[1] 314\n",
      "$category\n",
      "[1] \"Client error\"\n",
      "\n",
      "$reason\n",
      "[1] \"Not Found\"\n",
      "\n",
      "$message\n",
      "[1] \"Client error: (404) Not Found\"\n",
      "\n"
     ]
    },
    {
     "name": "stderr",
     "output_type": "stream",
     "text": [
      "No encoding supplied: defaulting to UTF-8.\n",
      "\n"
     ]
    },
    {
     "name": "stdout",
     "output_type": "stream",
     "text": [
      "[1] \"{\\\"detail\\\":\\\"The query didn't return any results\\\",\\\"status_code\\\":404}\"\n",
      "[1] \"no results for the query\"\n",
      "[1] 315\n",
      "$category\n",
      "[1] \"Client error\"\n",
      "\n",
      "$reason\n",
      "[1] \"Not Found\"\n",
      "\n",
      "$message\n",
      "[1] \"Client error: (404) Not Found\"\n",
      "\n"
     ]
    },
    {
     "name": "stderr",
     "output_type": "stream",
     "text": [
      "No encoding supplied: defaulting to UTF-8.\n",
      "\n"
     ]
    },
    {
     "name": "stdout",
     "output_type": "stream",
     "text": [
      "[1] \"{\\\"detail\\\":\\\"The query didn't return any results\\\",\\\"status_code\\\":404}\"\n",
      "[1] \"no results for the query\"\n",
      "[1] 316\n",
      "$category\n",
      "[1] \"Client error\"\n",
      "\n",
      "$reason\n",
      "[1] \"Not Found\"\n",
      "\n",
      "$message\n",
      "[1] \"Client error: (404) Not Found\"\n",
      "\n"
     ]
    },
    {
     "name": "stderr",
     "output_type": "stream",
     "text": [
      "No encoding supplied: defaulting to UTF-8.\n",
      "\n"
     ]
    },
    {
     "name": "stdout",
     "output_type": "stream",
     "text": [
      "[1] \"{\\\"detail\\\":\\\"The query didn't return any results\\\",\\\"status_code\\\":404}\"\n",
      "[1] \"no results for the query\"\n",
      "[1] 317\n",
      "$category\n",
      "[1] \"Client error\"\n",
      "\n",
      "$reason\n",
      "[1] \"Not Found\"\n",
      "\n",
      "$message\n",
      "[1] \"Client error: (404) Not Found\"\n",
      "\n"
     ]
    },
    {
     "name": "stderr",
     "output_type": "stream",
     "text": [
      "No encoding supplied: defaulting to UTF-8.\n",
      "\n"
     ]
    },
    {
     "name": "stdout",
     "output_type": "stream",
     "text": [
      "[1] \"{\\\"detail\\\":\\\"The query didn't return any results\\\",\\\"status_code\\\":404}\"\n",
      "[1] \"no results for the query\"\n",
      "[1] 318\n",
      "$category\n",
      "[1] \"Client error\"\n",
      "\n",
      "$reason\n",
      "[1] \"Not Found\"\n",
      "\n",
      "$message\n",
      "[1] \"Client error: (404) Not Found\"\n",
      "\n"
     ]
    },
    {
     "name": "stderr",
     "output_type": "stream",
     "text": [
      "No encoding supplied: defaulting to UTF-8.\n",
      "\n"
     ]
    },
    {
     "name": "stdout",
     "output_type": "stream",
     "text": [
      "[1] \"{\\\"detail\\\":\\\"The query didn't return any results\\\",\\\"status_code\\\":404}\"\n",
      "[1] \"no results for the query\"\n",
      "[1] 319\n",
      "$category\n",
      "[1] \"Client error\"\n",
      "\n",
      "$reason\n",
      "[1] \"Not Found\"\n",
      "\n",
      "$message\n",
      "[1] \"Client error: (404) Not Found\"\n",
      "\n"
     ]
    },
    {
     "name": "stderr",
     "output_type": "stream",
     "text": [
      "No encoding supplied: defaulting to UTF-8.\n",
      "\n"
     ]
    },
    {
     "name": "stdout",
     "output_type": "stream",
     "text": [
      "[1] \"{\\\"detail\\\":\\\"The query didn't return any results\\\",\\\"status_code\\\":404}\"\n",
      "[1] \"no results for the query\"\n",
      "[1] 320\n",
      "$category\n",
      "[1] \"Client error\"\n",
      "\n",
      "$reason\n",
      "[1] \"Not Found\"\n",
      "\n",
      "$message\n",
      "[1] \"Client error: (404) Not Found\"\n",
      "\n"
     ]
    },
    {
     "name": "stderr",
     "output_type": "stream",
     "text": [
      "No encoding supplied: defaulting to UTF-8.\n",
      "\n"
     ]
    },
    {
     "name": "stdout",
     "output_type": "stream",
     "text": [
      "[1] \"{\\\"detail\\\":\\\"The query didn't return any results\\\",\\\"status_code\\\":404}\"\n",
      "[1] \"no results for the query\"\n",
      "[1] 321\n",
      "$category\n",
      "[1] \"Client error\"\n",
      "\n",
      "$reason\n",
      "[1] \"Not Found\"\n",
      "\n",
      "$message\n",
      "[1] \"Client error: (404) Not Found\"\n",
      "\n"
     ]
    },
    {
     "name": "stderr",
     "output_type": "stream",
     "text": [
      "No encoding supplied: defaulting to UTF-8.\n",
      "\n"
     ]
    },
    {
     "name": "stdout",
     "output_type": "stream",
     "text": [
      "[1] \"{\\\"detail\\\":\\\"The query didn't return any results\\\",\\\"status_code\\\":404}\"\n",
      "[1] \"no results for the query\"\n",
      "[1] 322\n",
      "$category\n",
      "[1] \"Client error\"\n",
      "\n",
      "$reason\n",
      "[1] \"Not Found\"\n",
      "\n",
      "$message\n",
      "[1] \"Client error: (404) Not Found\"\n",
      "\n"
     ]
    },
    {
     "name": "stderr",
     "output_type": "stream",
     "text": [
      "No encoding supplied: defaulting to UTF-8.\n",
      "\n"
     ]
    },
    {
     "name": "stdout",
     "output_type": "stream",
     "text": [
      "[1] \"{\\\"detail\\\":\\\"The query didn't return any results\\\",\\\"status_code\\\":404}\"\n",
      "[1] \"no results for the query\"\n",
      "[1] 323\n",
      "[1] 324\n",
      "$category\n",
      "[1] \"Client error\"\n",
      "\n",
      "$reason\n",
      "[1] \"Not Found\"\n",
      "\n",
      "$message\n",
      "[1] \"Client error: (404) Not Found\"\n",
      "\n"
     ]
    },
    {
     "name": "stderr",
     "output_type": "stream",
     "text": [
      "No encoding supplied: defaulting to UTF-8.\n",
      "\n"
     ]
    },
    {
     "name": "stdout",
     "output_type": "stream",
     "text": [
      "[1] \"{\\\"detail\\\":\\\"The query didn't return any results\\\",\\\"status_code\\\":404}\"\n",
      "[1] \"no results for the query\"\n",
      "[1] 325\n",
      "$category\n",
      "[1] \"Client error\"\n",
      "\n",
      "$reason\n",
      "[1] \"Not Found\"\n",
      "\n",
      "$message\n",
      "[1] \"Client error: (404) Not Found\"\n",
      "\n"
     ]
    },
    {
     "name": "stderr",
     "output_type": "stream",
     "text": [
      "No encoding supplied: defaulting to UTF-8.\n",
      "\n"
     ]
    },
    {
     "name": "stdout",
     "output_type": "stream",
     "text": [
      "[1] \"{\\\"detail\\\":\\\"The query didn't return any results\\\",\\\"status_code\\\":404}\"\n",
      "[1] \"no results for the query\"\n",
      "[1] 326\n",
      "$category\n",
      "[1] \"Client error\"\n",
      "\n",
      "$reason\n",
      "[1] \"Not Found\"\n",
      "\n",
      "$message\n",
      "[1] \"Client error: (404) Not Found\"\n",
      "\n"
     ]
    },
    {
     "name": "stderr",
     "output_type": "stream",
     "text": [
      "No encoding supplied: defaulting to UTF-8.\n",
      "\n"
     ]
    },
    {
     "name": "stdout",
     "output_type": "stream",
     "text": [
      "[1] \"{\\\"detail\\\":\\\"The query didn't return any results\\\",\\\"status_code\\\":404}\"\n",
      "[1] \"no results for the query\"\n",
      "[1] 327\n",
      "$category\n",
      "[1] \"Client error\"\n",
      "\n",
      "$reason\n",
      "[1] \"Not Found\"\n",
      "\n",
      "$message\n",
      "[1] \"Client error: (404) Not Found\"\n",
      "\n"
     ]
    },
    {
     "name": "stderr",
     "output_type": "stream",
     "text": [
      "No encoding supplied: defaulting to UTF-8.\n",
      "\n"
     ]
    },
    {
     "name": "stdout",
     "output_type": "stream",
     "text": [
      "[1] \"{\\\"detail\\\":\\\"The query didn't return any results\\\",\\\"status_code\\\":404}\"\n",
      "[1] \"no results for the query\"\n",
      "[1] 328\n",
      "$category\n",
      "[1] \"Client error\"\n",
      "\n",
      "$reason\n",
      "[1] \"Not Found\"\n",
      "\n",
      "$message\n",
      "[1] \"Client error: (404) Not Found\"\n",
      "\n"
     ]
    },
    {
     "name": "stderr",
     "output_type": "stream",
     "text": [
      "No encoding supplied: defaulting to UTF-8.\n",
      "\n"
     ]
    },
    {
     "name": "stdout",
     "output_type": "stream",
     "text": [
      "[1] \"{\\\"detail\\\":\\\"The query didn't return any results\\\",\\\"status_code\\\":404}\"\n",
      "[1] \"no results for the query\"\n",
      "[1] 329\n",
      "$category\n",
      "[1] \"Client error\"\n",
      "\n",
      "$reason\n",
      "[1] \"Not Found\"\n",
      "\n",
      "$message\n",
      "[1] \"Client error: (404) Not Found\"\n",
      "\n"
     ]
    },
    {
     "name": "stderr",
     "output_type": "stream",
     "text": [
      "No encoding supplied: defaulting to UTF-8.\n",
      "\n"
     ]
    },
    {
     "name": "stdout",
     "output_type": "stream",
     "text": [
      "[1] \"{\\\"detail\\\":\\\"The query didn't return any results\\\",\\\"status_code\\\":404}\"\n",
      "[1] \"no results for the query\"\n",
      "[1] 330\n",
      "$category\n",
      "[1] \"Client error\"\n",
      "\n",
      "$reason\n",
      "[1] \"Not Found\"\n",
      "\n",
      "$message\n",
      "[1] \"Client error: (404) Not Found\"\n",
      "\n"
     ]
    },
    {
     "name": "stderr",
     "output_type": "stream",
     "text": [
      "No encoding supplied: defaulting to UTF-8.\n",
      "\n"
     ]
    },
    {
     "name": "stdout",
     "output_type": "stream",
     "text": [
      "[1] \"{\\\"detail\\\":\\\"The query didn't return any results\\\",\\\"status_code\\\":404}\"\n",
      "[1] \"no results for the query\"\n",
      "[1] 331\n",
      "$category\n",
      "[1] \"Client error\"\n",
      "\n",
      "$reason\n",
      "[1] \"Not Found\"\n",
      "\n",
      "$message\n",
      "[1] \"Client error: (404) Not Found\"\n",
      "\n"
     ]
    },
    {
     "name": "stderr",
     "output_type": "stream",
     "text": [
      "No encoding supplied: defaulting to UTF-8.\n",
      "\n"
     ]
    },
    {
     "name": "stdout",
     "output_type": "stream",
     "text": [
      "[1] \"{\\\"detail\\\":\\\"The query didn't return any results\\\",\\\"status_code\\\":404}\"\n",
      "[1] \"no results for the query\"\n",
      "[1] 332\n",
      "$category\n",
      "[1] \"Client error\"\n",
      "\n",
      "$reason\n",
      "[1] \"Not Found\"\n",
      "\n",
      "$message\n",
      "[1] \"Client error: (404) Not Found\"\n",
      "\n"
     ]
    },
    {
     "name": "stderr",
     "output_type": "stream",
     "text": [
      "No encoding supplied: defaulting to UTF-8.\n",
      "\n"
     ]
    },
    {
     "name": "stdout",
     "output_type": "stream",
     "text": [
      "[1] \"{\\\"detail\\\":\\\"The query didn't return any results\\\",\\\"status_code\\\":404}\"\n",
      "[1] \"no results for the query\"\n",
      "[1] 333\n",
      "$category\n",
      "[1] \"Client error\"\n",
      "\n",
      "$reason\n",
      "[1] \"Not Found\"\n",
      "\n",
      "$message\n",
      "[1] \"Client error: (404) Not Found\"\n",
      "\n"
     ]
    },
    {
     "name": "stderr",
     "output_type": "stream",
     "text": [
      "No encoding supplied: defaulting to UTF-8.\n",
      "\n"
     ]
    },
    {
     "name": "stdout",
     "output_type": "stream",
     "text": [
      "[1] \"{\\\"detail\\\":\\\"The query didn't return any results\\\",\\\"status_code\\\":404}\"\n",
      "[1] \"no results for the query\"\n",
      "[1] 334\n",
      "$category\n",
      "[1] \"Client error\"\n",
      "\n",
      "$reason\n",
      "[1] \"Not Found\"\n",
      "\n",
      "$message\n",
      "[1] \"Client error: (404) Not Found\"\n",
      "\n"
     ]
    },
    {
     "name": "stderr",
     "output_type": "stream",
     "text": [
      "No encoding supplied: defaulting to UTF-8.\n",
      "\n"
     ]
    },
    {
     "name": "stdout",
     "output_type": "stream",
     "text": [
      "[1] \"{\\\"detail\\\":\\\"The query didn't return any results\\\",\\\"status_code\\\":404}\"\n",
      "[1] \"no results for the query\"\n",
      "[1] 335\n",
      "$category\n",
      "[1] \"Client error\"\n",
      "\n",
      "$reason\n",
      "[1] \"Not Found\"\n",
      "\n",
      "$message\n",
      "[1] \"Client error: (404) Not Found\"\n",
      "\n"
     ]
    },
    {
     "name": "stderr",
     "output_type": "stream",
     "text": [
      "No encoding supplied: defaulting to UTF-8.\n",
      "\n"
     ]
    },
    {
     "name": "stdout",
     "output_type": "stream",
     "text": [
      "[1] \"{\\\"detail\\\":\\\"The query didn't return any results\\\",\\\"status_code\\\":404}\"\n",
      "[1] \"no results for the query\"\n",
      "[1] 336\n",
      "$category\n",
      "[1] \"Client error\"\n",
      "\n",
      "$reason\n",
      "[1] \"Not Found\"\n",
      "\n",
      "$message\n",
      "[1] \"Client error: (404) Not Found\"\n",
      "\n"
     ]
    },
    {
     "name": "stderr",
     "output_type": "stream",
     "text": [
      "No encoding supplied: defaulting to UTF-8.\n",
      "\n"
     ]
    },
    {
     "name": "stdout",
     "output_type": "stream",
     "text": [
      "[1] \"{\\\"detail\\\":\\\"The query didn't return any results\\\",\\\"status_code\\\":404}\"\n",
      "[1] \"no results for the query\"\n",
      "[1] 337\n",
      "$category\n",
      "[1] \"Client error\"\n",
      "\n",
      "$reason\n",
      "[1] \"Not Found\"\n",
      "\n",
      "$message\n",
      "[1] \"Client error: (404) Not Found\"\n",
      "\n"
     ]
    },
    {
     "name": "stderr",
     "output_type": "stream",
     "text": [
      "No encoding supplied: defaulting to UTF-8.\n",
      "\n"
     ]
    },
    {
     "name": "stdout",
     "output_type": "stream",
     "text": [
      "[1] \"{\\\"detail\\\":\\\"The query didn't return any results\\\",\\\"status_code\\\":404}\"\n",
      "[1] \"no results for the query\"\n",
      "[1] 338\n",
      "$category\n",
      "[1] \"Client error\"\n",
      "\n",
      "$reason\n",
      "[1] \"Not Found\"\n",
      "\n",
      "$message\n",
      "[1] \"Client error: (404) Not Found\"\n",
      "\n"
     ]
    },
    {
     "name": "stderr",
     "output_type": "stream",
     "text": [
      "No encoding supplied: defaulting to UTF-8.\n",
      "\n"
     ]
    },
    {
     "name": "stdout",
     "output_type": "stream",
     "text": [
      "[1] \"{\\\"detail\\\":\\\"The query didn't return any results\\\",\\\"status_code\\\":404}\"\n",
      "[1] \"no results for the query\"\n",
      "[1] 339\n",
      "$category\n",
      "[1] \"Client error\"\n",
      "\n",
      "$reason\n",
      "[1] \"Not Found\"\n",
      "\n",
      "$message\n",
      "[1] \"Client error: (404) Not Found\"\n",
      "\n"
     ]
    },
    {
     "name": "stderr",
     "output_type": "stream",
     "text": [
      "No encoding supplied: defaulting to UTF-8.\n",
      "\n"
     ]
    },
    {
     "name": "stdout",
     "output_type": "stream",
     "text": [
      "[1] \"{\\\"detail\\\":\\\"The query didn't return any results\\\",\\\"status_code\\\":404}\"\n",
      "[1] \"no results for the query\"\n",
      "[1] 340\n",
      "$category\n",
      "[1] \"Client error\"\n",
      "\n",
      "$reason\n",
      "[1] \"Not Found\"\n",
      "\n",
      "$message\n",
      "[1] \"Client error: (404) Not Found\"\n",
      "\n"
     ]
    },
    {
     "name": "stderr",
     "output_type": "stream",
     "text": [
      "No encoding supplied: defaulting to UTF-8.\n",
      "\n"
     ]
    },
    {
     "name": "stdout",
     "output_type": "stream",
     "text": [
      "[1] \"{\\\"detail\\\":\\\"The query didn't return any results\\\",\\\"status_code\\\":404}\"\n",
      "[1] \"no results for the query\"\n",
      "[1] 341\n",
      "$category\n",
      "[1] \"Client error\"\n",
      "\n",
      "$reason\n",
      "[1] \"Not Found\"\n",
      "\n",
      "$message\n",
      "[1] \"Client error: (404) Not Found\"\n",
      "\n"
     ]
    },
    {
     "name": "stderr",
     "output_type": "stream",
     "text": [
      "No encoding supplied: defaulting to UTF-8.\n",
      "\n"
     ]
    },
    {
     "name": "stdout",
     "output_type": "stream",
     "text": [
      "[1] \"{\\\"detail\\\":\\\"The query didn't return any results\\\",\\\"status_code\\\":404}\"\n",
      "[1] \"no results for the query\"\n",
      "[1] 342\n",
      "$category\n",
      "[1] \"Client error\"\n",
      "\n",
      "$reason\n",
      "[1] \"Not Found\"\n",
      "\n",
      "$message\n",
      "[1] \"Client error: (404) Not Found\"\n",
      "\n"
     ]
    },
    {
     "name": "stderr",
     "output_type": "stream",
     "text": [
      "No encoding supplied: defaulting to UTF-8.\n",
      "\n"
     ]
    },
    {
     "name": "stdout",
     "output_type": "stream",
     "text": [
      "[1] \"{\\\"detail\\\":\\\"The query didn't return any results\\\",\\\"status_code\\\":404}\"\n",
      "[1] \"no results for the query\"\n",
      "[1] 343\n",
      "[1] 344\n",
      "[1] 345\n",
      "$category\n",
      "[1] \"Client error\"\n",
      "\n",
      "$reason\n",
      "[1] \"Not Found\"\n",
      "\n",
      "$message\n",
      "[1] \"Client error: (404) Not Found\"\n",
      "\n"
     ]
    },
    {
     "name": "stderr",
     "output_type": "stream",
     "text": [
      "No encoding supplied: defaulting to UTF-8.\n",
      "\n"
     ]
    },
    {
     "name": "stdout",
     "output_type": "stream",
     "text": [
      "[1] \"{\\\"detail\\\":\\\"The query didn't return any results\\\",\\\"status_code\\\":404}\"\n",
      "[1] \"no results for the query\"\n",
      "[1] 346\n",
      "[1] 347\n",
      "$category\n",
      "[1] \"Client error\"\n",
      "\n",
      "$reason\n",
      "[1] \"Not Found\"\n",
      "\n",
      "$message\n",
      "[1] \"Client error: (404) Not Found\"\n",
      "\n"
     ]
    },
    {
     "name": "stderr",
     "output_type": "stream",
     "text": [
      "No encoding supplied: defaulting to UTF-8.\n",
      "\n"
     ]
    },
    {
     "name": "stdout",
     "output_type": "stream",
     "text": [
      "[1] \"{\\\"detail\\\":\\\"The query didn't return any results\\\",\\\"status_code\\\":404}\"\n",
      "[1] \"no results for the query\"\n",
      "[1] 348\n",
      "$category\n",
      "[1] \"Client error\"\n",
      "\n",
      "$reason\n",
      "[1] \"Not Found\"\n",
      "\n",
      "$message\n",
      "[1] \"Client error: (404) Not Found\"\n",
      "\n"
     ]
    },
    {
     "name": "stderr",
     "output_type": "stream",
     "text": [
      "No encoding supplied: defaulting to UTF-8.\n",
      "\n"
     ]
    },
    {
     "name": "stdout",
     "output_type": "stream",
     "text": [
      "[1] \"{\\\"detail\\\":\\\"The query didn't return any results\\\",\\\"status_code\\\":404}\"\n",
      "[1] \"no results for the query\"\n",
      "[1] 349\n",
      "$category\n",
      "[1] \"Client error\"\n",
      "\n",
      "$reason\n",
      "[1] \"Not Found\"\n",
      "\n",
      "$message\n",
      "[1] \"Client error: (404) Not Found\"\n",
      "\n"
     ]
    },
    {
     "name": "stderr",
     "output_type": "stream",
     "text": [
      "No encoding supplied: defaulting to UTF-8.\n",
      "\n"
     ]
    },
    {
     "name": "stdout",
     "output_type": "stream",
     "text": [
      "[1] \"{\\\"detail\\\":\\\"The query didn't return any results\\\",\\\"status_code\\\":404}\"\n",
      "[1] \"no results for the query\"\n",
      "[1] 350\n",
      "[1] 351\n",
      "$category\n",
      "[1] \"Client error\"\n",
      "\n",
      "$reason\n",
      "[1] \"Not Found\"\n",
      "\n",
      "$message\n",
      "[1] \"Client error: (404) Not Found\"\n",
      "\n"
     ]
    },
    {
     "name": "stderr",
     "output_type": "stream",
     "text": [
      "No encoding supplied: defaulting to UTF-8.\n",
      "\n"
     ]
    },
    {
     "name": "stdout",
     "output_type": "stream",
     "text": [
      "[1] \"{\\\"detail\\\":\\\"The query didn't return any results\\\",\\\"status_code\\\":404}\"\n",
      "[1] \"no results for the query\"\n",
      "[1] 352\n",
      "[1] 353\n",
      "$category\n",
      "[1] \"Client error\"\n",
      "\n",
      "$reason\n",
      "[1] \"Not Found\"\n",
      "\n",
      "$message\n",
      "[1] \"Client error: (404) Not Found\"\n",
      "\n"
     ]
    },
    {
     "name": "stderr",
     "output_type": "stream",
     "text": [
      "No encoding supplied: defaulting to UTF-8.\n",
      "\n"
     ]
    },
    {
     "name": "stdout",
     "output_type": "stream",
     "text": [
      "[1] \"{\\\"detail\\\":\\\"The query didn't return any results\\\",\\\"status_code\\\":404}\"\n",
      "[1] \"no results for the query\"\n",
      "[1] 354\n",
      "$category\n",
      "[1] \"Client error\"\n",
      "\n",
      "$reason\n",
      "[1] \"Not Found\"\n",
      "\n",
      "$message\n",
      "[1] \"Client error: (404) Not Found\"\n",
      "\n"
     ]
    },
    {
     "name": "stderr",
     "output_type": "stream",
     "text": [
      "No encoding supplied: defaulting to UTF-8.\n",
      "\n"
     ]
    },
    {
     "name": "stdout",
     "output_type": "stream",
     "text": [
      "[1] \"{\\\"detail\\\":\\\"The query didn't return any results\\\",\\\"status_code\\\":404}\"\n",
      "[1] \"no results for the query\"\n",
      "[1] 355\n",
      "$category\n",
      "[1] \"Client error\"\n",
      "\n",
      "$reason\n",
      "[1] \"Not Found\"\n",
      "\n",
      "$message\n",
      "[1] \"Client error: (404) Not Found\"\n",
      "\n"
     ]
    },
    {
     "name": "stderr",
     "output_type": "stream",
     "text": [
      "No encoding supplied: defaulting to UTF-8.\n",
      "\n"
     ]
    },
    {
     "name": "stdout",
     "output_type": "stream",
     "text": [
      "[1] \"{\\\"detail\\\":\\\"The query didn't return any results\\\",\\\"status_code\\\":404}\"\n",
      "[1] \"no results for the query\"\n",
      "[1] 356\n",
      "$category\n",
      "[1] \"Client error\"\n",
      "\n",
      "$reason\n",
      "[1] \"Not Found\"\n",
      "\n",
      "$message\n",
      "[1] \"Client error: (404) Not Found\"\n",
      "\n"
     ]
    },
    {
     "name": "stderr",
     "output_type": "stream",
     "text": [
      "No encoding supplied: defaulting to UTF-8.\n",
      "\n"
     ]
    },
    {
     "name": "stdout",
     "output_type": "stream",
     "text": [
      "[1] \"{\\\"detail\\\":\\\"The query didn't return any results\\\",\\\"status_code\\\":404}\"\n",
      "[1] \"no results for the query\"\n",
      "[1] 357\n",
      "$category\n",
      "[1] \"Client error\"\n",
      "\n",
      "$reason\n",
      "[1] \"Not Found\"\n",
      "\n",
      "$message\n",
      "[1] \"Client error: (404) Not Found\"\n",
      "\n"
     ]
    },
    {
     "name": "stderr",
     "output_type": "stream",
     "text": [
      "No encoding supplied: defaulting to UTF-8.\n",
      "\n"
     ]
    },
    {
     "name": "stdout",
     "output_type": "stream",
     "text": [
      "[1] \"{\\\"detail\\\":\\\"The query didn't return any results\\\",\\\"status_code\\\":404}\"\n",
      "[1] \"no results for the query\"\n",
      "[1] 358\n",
      "[1] 359\n",
      "$category\n",
      "[1] \"Client error\"\n",
      "\n",
      "$reason\n",
      "[1] \"Not Found\"\n",
      "\n",
      "$message\n",
      "[1] \"Client error: (404) Not Found\"\n",
      "\n"
     ]
    },
    {
     "name": "stderr",
     "output_type": "stream",
     "text": [
      "No encoding supplied: defaulting to UTF-8.\n",
      "\n"
     ]
    },
    {
     "name": "stdout",
     "output_type": "stream",
     "text": [
      "[1] \"{\\\"detail\\\":\\\"The query didn't return any results\\\",\\\"status_code\\\":404}\"\n",
      "[1] \"no results for the query\"\n",
      "[1] 360\n",
      "$category\n",
      "[1] \"Client error\"\n",
      "\n",
      "$reason\n",
      "[1] \"Not Found\"\n",
      "\n",
      "$message\n",
      "[1] \"Client error: (404) Not Found\"\n",
      "\n"
     ]
    },
    {
     "name": "stderr",
     "output_type": "stream",
     "text": [
      "No encoding supplied: defaulting to UTF-8.\n",
      "\n"
     ]
    },
    {
     "name": "stdout",
     "output_type": "stream",
     "text": [
      "[1] \"{\\\"detail\\\":\\\"The query didn't return any results\\\",\\\"status_code\\\":404}\"\n",
      "[1] \"no results for the query\"\n",
      "[1] 361\n",
      "$category\n",
      "[1] \"Client error\"\n",
      "\n",
      "$reason\n",
      "[1] \"Not Found\"\n",
      "\n",
      "$message\n",
      "[1] \"Client error: (404) Not Found\"\n",
      "\n"
     ]
    },
    {
     "name": "stderr",
     "output_type": "stream",
     "text": [
      "No encoding supplied: defaulting to UTF-8.\n",
      "\n"
     ]
    },
    {
     "name": "stdout",
     "output_type": "stream",
     "text": [
      "[1] \"{\\\"detail\\\":\\\"The query didn't return any results\\\",\\\"status_code\\\":404}\"\n",
      "[1] \"no results for the query\"\n",
      "[1] 362\n",
      "$category\n",
      "[1] \"Client error\"\n",
      "\n",
      "$reason\n",
      "[1] \"Not Found\"\n",
      "\n",
      "$message\n",
      "[1] \"Client error: (404) Not Found\"\n",
      "\n"
     ]
    },
    {
     "name": "stderr",
     "output_type": "stream",
     "text": [
      "No encoding supplied: defaulting to UTF-8.\n",
      "\n"
     ]
    },
    {
     "name": "stdout",
     "output_type": "stream",
     "text": [
      "[1] \"{\\\"detail\\\":\\\"The query didn't return any results\\\",\\\"status_code\\\":404}\"\n",
      "[1] \"no results for the query\"\n",
      "[1] 363\n",
      "$category\n",
      "[1] \"Client error\"\n",
      "\n",
      "$reason\n",
      "[1] \"Not Found\"\n",
      "\n",
      "$message\n",
      "[1] \"Client error: (404) Not Found\"\n",
      "\n"
     ]
    },
    {
     "name": "stderr",
     "output_type": "stream",
     "text": [
      "No encoding supplied: defaulting to UTF-8.\n",
      "\n"
     ]
    },
    {
     "name": "stdout",
     "output_type": "stream",
     "text": [
      "[1] \"{\\\"detail\\\":\\\"The query didn't return any results\\\",\\\"status_code\\\":404}\"\n",
      "[1] \"no results for the query\"\n",
      "[1] 364\n",
      "$category\n",
      "[1] \"Client error\"\n",
      "\n",
      "$reason\n",
      "[1] \"Not Found\"\n",
      "\n",
      "$message\n",
      "[1] \"Client error: (404) Not Found\"\n",
      "\n"
     ]
    },
    {
     "name": "stderr",
     "output_type": "stream",
     "text": [
      "No encoding supplied: defaulting to UTF-8.\n",
      "\n"
     ]
    },
    {
     "name": "stdout",
     "output_type": "stream",
     "text": [
      "[1] \"{\\\"detail\\\":\\\"The query didn't return any results\\\",\\\"status_code\\\":404}\"\n",
      "[1] \"no results for the query\"\n",
      "[1] 365\n",
      "$category\n",
      "[1] \"Client error\"\n",
      "\n",
      "$reason\n",
      "[1] \"Not Found\"\n",
      "\n",
      "$message\n",
      "[1] \"Client error: (404) Not Found\"\n",
      "\n"
     ]
    },
    {
     "name": "stderr",
     "output_type": "stream",
     "text": [
      "No encoding supplied: defaulting to UTF-8.\n",
      "\n"
     ]
    },
    {
     "name": "stdout",
     "output_type": "stream",
     "text": [
      "[1] \"{\\\"detail\\\":\\\"The query didn't return any results\\\",\\\"status_code\\\":404}\"\n",
      "[1] \"no results for the query\"\n",
      "[1] 366\n",
      "[1] 367\n",
      "$category\n",
      "[1] \"Client error\"\n",
      "\n",
      "$reason\n",
      "[1] \"Not Found\"\n",
      "\n",
      "$message\n",
      "[1] \"Client error: (404) Not Found\"\n",
      "\n"
     ]
    },
    {
     "name": "stderr",
     "output_type": "stream",
     "text": [
      "No encoding supplied: defaulting to UTF-8.\n",
      "\n"
     ]
    },
    {
     "name": "stdout",
     "output_type": "stream",
     "text": [
      "[1] \"{\\\"detail\\\":\\\"The query didn't return any results\\\",\\\"status_code\\\":404}\"\n",
      "[1] \"no results for the query\"\n",
      "[1] 368\n",
      "$category\n",
      "[1] \"Client error\"\n",
      "\n",
      "$reason\n",
      "[1] \"Not Found\"\n",
      "\n",
      "$message\n",
      "[1] \"Client error: (404) Not Found\"\n",
      "\n"
     ]
    },
    {
     "name": "stderr",
     "output_type": "stream",
     "text": [
      "No encoding supplied: defaulting to UTF-8.\n",
      "\n"
     ]
    },
    {
     "name": "stdout",
     "output_type": "stream",
     "text": [
      "[1] \"{\\\"detail\\\":\\\"The query didn't return any results\\\",\\\"status_code\\\":404}\"\n",
      "[1] \"no results for the query\"\n",
      "[1] 369\n",
      "$category\n",
      "[1] \"Client error\"\n",
      "\n",
      "$reason\n",
      "[1] \"Not Found\"\n",
      "\n",
      "$message\n",
      "[1] \"Client error: (404) Not Found\"\n",
      "\n"
     ]
    },
    {
     "name": "stderr",
     "output_type": "stream",
     "text": [
      "No encoding supplied: defaulting to UTF-8.\n",
      "\n"
     ]
    },
    {
     "name": "stdout",
     "output_type": "stream",
     "text": [
      "[1] \"{\\\"detail\\\":\\\"The query didn't return any results\\\",\\\"status_code\\\":404}\"\n",
      "[1] \"no results for the query\"\n",
      "[1] 370\n",
      "$category\n",
      "[1] \"Client error\"\n",
      "\n",
      "$reason\n",
      "[1] \"Not Found\"\n",
      "\n",
      "$message\n",
      "[1] \"Client error: (404) Not Found\"\n",
      "\n"
     ]
    },
    {
     "name": "stderr",
     "output_type": "stream",
     "text": [
      "No encoding supplied: defaulting to UTF-8.\n",
      "\n"
     ]
    },
    {
     "name": "stdout",
     "output_type": "stream",
     "text": [
      "[1] \"{\\\"detail\\\":\\\"The query didn't return any results\\\",\\\"status_code\\\":404}\"\n",
      "[1] \"no results for the query\"\n",
      "[1] 371\n",
      "[1] 372\n",
      "$category\n",
      "[1] \"Client error\"\n",
      "\n",
      "$reason\n",
      "[1] \"Not Found\"\n",
      "\n",
      "$message\n",
      "[1] \"Client error: (404) Not Found\"\n",
      "\n"
     ]
    },
    {
     "name": "stderr",
     "output_type": "stream",
     "text": [
      "No encoding supplied: defaulting to UTF-8.\n",
      "\n"
     ]
    },
    {
     "name": "stdout",
     "output_type": "stream",
     "text": [
      "[1] \"{\\\"detail\\\":\\\"The query didn't return any results\\\",\\\"status_code\\\":404}\"\n",
      "[1] \"no results for the query\"\n",
      "[1] 373\n",
      "$category\n",
      "[1] \"Client error\"\n",
      "\n",
      "$reason\n",
      "[1] \"Not Found\"\n",
      "\n",
      "$message\n",
      "[1] \"Client error: (404) Not Found\"\n",
      "\n"
     ]
    },
    {
     "name": "stderr",
     "output_type": "stream",
     "text": [
      "No encoding supplied: defaulting to UTF-8.\n",
      "\n"
     ]
    },
    {
     "name": "stdout",
     "output_type": "stream",
     "text": [
      "[1] \"{\\\"detail\\\":\\\"The query didn't return any results\\\",\\\"status_code\\\":404}\"\n",
      "[1] \"no results for the query\"\n",
      "[1] 374\n",
      "[1] 375\n",
      "$category\n",
      "[1] \"Client error\"\n",
      "\n",
      "$reason\n",
      "[1] \"Not Found\"\n",
      "\n",
      "$message\n",
      "[1] \"Client error: (404) Not Found\"\n",
      "\n"
     ]
    },
    {
     "name": "stderr",
     "output_type": "stream",
     "text": [
      "No encoding supplied: defaulting to UTF-8.\n",
      "\n"
     ]
    },
    {
     "name": "stdout",
     "output_type": "stream",
     "text": [
      "[1] \"{\\\"detail\\\":\\\"The query didn't return any results\\\",\\\"status_code\\\":404}\"\n",
      "[1] \"no results for the query\"\n",
      "[1] 376\n",
      "[1] 377\n",
      "$category\n",
      "[1] \"Client error\"\n",
      "\n",
      "$reason\n",
      "[1] \"Not Found\"\n",
      "\n",
      "$message\n",
      "[1] \"Client error: (404) Not Found\"\n",
      "\n"
     ]
    },
    {
     "name": "stderr",
     "output_type": "stream",
     "text": [
      "No encoding supplied: defaulting to UTF-8.\n",
      "\n"
     ]
    },
    {
     "name": "stdout",
     "output_type": "stream",
     "text": [
      "[1] \"{\\\"detail\\\":\\\"The query didn't return any results\\\",\\\"status_code\\\":404}\"\n",
      "[1] \"no results for the query\"\n",
      "[1] 378\n",
      "$category\n",
      "[1] \"Client error\"\n",
      "\n",
      "$reason\n",
      "[1] \"Not Found\"\n",
      "\n",
      "$message\n",
      "[1] \"Client error: (404) Not Found\"\n",
      "\n"
     ]
    },
    {
     "name": "stderr",
     "output_type": "stream",
     "text": [
      "No encoding supplied: defaulting to UTF-8.\n",
      "\n"
     ]
    },
    {
     "name": "stdout",
     "output_type": "stream",
     "text": [
      "[1] \"{\\\"detail\\\":\\\"The query didn't return any results\\\",\\\"status_code\\\":404}\"\n",
      "[1] \"no results for the query\"\n",
      "[1] 379\n",
      "$category\n",
      "[1] \"Client error\"\n",
      "\n",
      "$reason\n",
      "[1] \"Not Found\"\n",
      "\n",
      "$message\n",
      "[1] \"Client error: (404) Not Found\"\n",
      "\n"
     ]
    },
    {
     "name": "stderr",
     "output_type": "stream",
     "text": [
      "No encoding supplied: defaulting to UTF-8.\n",
      "\n"
     ]
    },
    {
     "name": "stdout",
     "output_type": "stream",
     "text": [
      "[1] \"{\\\"detail\\\":\\\"The query didn't return any results\\\",\\\"status_code\\\":404}\"\n",
      "[1] \"no results for the query\"\n",
      "[1] 380\n",
      "[1] 381\n",
      "$category\n",
      "[1] \"Client error\"\n",
      "\n",
      "$reason\n",
      "[1] \"Not Found\"\n",
      "\n",
      "$message\n",
      "[1] \"Client error: (404) Not Found\"\n",
      "\n"
     ]
    },
    {
     "name": "stderr",
     "output_type": "stream",
     "text": [
      "No encoding supplied: defaulting to UTF-8.\n",
      "\n"
     ]
    },
    {
     "name": "stdout",
     "output_type": "stream",
     "text": [
      "[1] \"{\\\"detail\\\":\\\"The query didn't return any results\\\",\\\"status_code\\\":404}\"\n",
      "[1] \"no results for the query\"\n",
      "[1] 382\n",
      "$category\n",
      "[1] \"Client error\"\n",
      "\n",
      "$reason\n",
      "[1] \"Not Found\"\n",
      "\n",
      "$message\n",
      "[1] \"Client error: (404) Not Found\"\n",
      "\n"
     ]
    },
    {
     "name": "stderr",
     "output_type": "stream",
     "text": [
      "No encoding supplied: defaulting to UTF-8.\n",
      "\n"
     ]
    },
    {
     "name": "stdout",
     "output_type": "stream",
     "text": [
      "[1] \"{\\\"detail\\\":\\\"The query didn't return any results\\\",\\\"status_code\\\":404}\"\n",
      "[1] \"no results for the query\"\n",
      "[1] 383\n",
      "$category\n",
      "[1] \"Client error\"\n",
      "\n",
      "$reason\n",
      "[1] \"Not Found\"\n",
      "\n",
      "$message\n",
      "[1] \"Client error: (404) Not Found\"\n",
      "\n"
     ]
    },
    {
     "name": "stderr",
     "output_type": "stream",
     "text": [
      "No encoding supplied: defaulting to UTF-8.\n",
      "\n"
     ]
    },
    {
     "name": "stdout",
     "output_type": "stream",
     "text": [
      "[1] \"{\\\"detail\\\":\\\"The query didn't return any results\\\",\\\"status_code\\\":404}\"\n",
      "[1] \"no results for the query\"\n",
      "[1] 384\n",
      "$category\n",
      "[1] \"Client error\"\n",
      "\n",
      "$reason\n",
      "[1] \"Not Found\"\n",
      "\n",
      "$message\n",
      "[1] \"Client error: (404) Not Found\"\n",
      "\n"
     ]
    },
    {
     "name": "stderr",
     "output_type": "stream",
     "text": [
      "No encoding supplied: defaulting to UTF-8.\n",
      "\n"
     ]
    },
    {
     "name": "stdout",
     "output_type": "stream",
     "text": [
      "[1] \"{\\\"detail\\\":\\\"The query didn't return any results\\\",\\\"status_code\\\":404}\"\n",
      "[1] \"no results for the query\"\n",
      "[1] 385\n",
      "$category\n",
      "[1] \"Client error\"\n",
      "\n",
      "$reason\n",
      "[1] \"Not Found\"\n",
      "\n",
      "$message\n",
      "[1] \"Client error: (404) Not Found\"\n",
      "\n"
     ]
    },
    {
     "name": "stderr",
     "output_type": "stream",
     "text": [
      "No encoding supplied: defaulting to UTF-8.\n",
      "\n"
     ]
    },
    {
     "name": "stdout",
     "output_type": "stream",
     "text": [
      "[1] \"{\\\"detail\\\":\\\"The query didn't return any results\\\",\\\"status_code\\\":404}\"\n",
      "[1] \"no results for the query\"\n",
      "[1] 386\n",
      "$category\n",
      "[1] \"Client error\"\n",
      "\n",
      "$reason\n",
      "[1] \"Not Found\"\n",
      "\n",
      "$message\n",
      "[1] \"Client error: (404) Not Found\"\n",
      "\n"
     ]
    },
    {
     "name": "stderr",
     "output_type": "stream",
     "text": [
      "No encoding supplied: defaulting to UTF-8.\n",
      "\n"
     ]
    },
    {
     "name": "stdout",
     "output_type": "stream",
     "text": [
      "[1] \"{\\\"detail\\\":\\\"The query didn't return any results\\\",\\\"status_code\\\":404}\"\n",
      "[1] \"no results for the query\"\n",
      "[1] 387\n",
      "$category\n",
      "[1] \"Client error\"\n",
      "\n",
      "$reason\n",
      "[1] \"Not Found\"\n",
      "\n",
      "$message\n",
      "[1] \"Client error: (404) Not Found\"\n",
      "\n"
     ]
    },
    {
     "name": "stderr",
     "output_type": "stream",
     "text": [
      "No encoding supplied: defaulting to UTF-8.\n",
      "\n"
     ]
    },
    {
     "name": "stdout",
     "output_type": "stream",
     "text": [
      "[1] \"{\\\"detail\\\":\\\"The query didn't return any results\\\",\\\"status_code\\\":404}\"\n",
      "[1] \"no results for the query\"\n",
      "[1] 388\n",
      "$category\n",
      "[1] \"Client error\"\n",
      "\n",
      "$reason\n",
      "[1] \"Not Found\"\n",
      "\n",
      "$message\n",
      "[1] \"Client error: (404) Not Found\"\n",
      "\n"
     ]
    },
    {
     "name": "stderr",
     "output_type": "stream",
     "text": [
      "No encoding supplied: defaulting to UTF-8.\n",
      "\n"
     ]
    },
    {
     "name": "stdout",
     "output_type": "stream",
     "text": [
      "[1] \"{\\\"detail\\\":\\\"The query didn't return any results\\\",\\\"status_code\\\":404}\"\n",
      "[1] \"no results for the query\"\n",
      "[1] 389\n",
      "$category\n",
      "[1] \"Client error\"\n",
      "\n",
      "$reason\n",
      "[1] \"Not Found\"\n",
      "\n",
      "$message\n",
      "[1] \"Client error: (404) Not Found\"\n",
      "\n"
     ]
    },
    {
     "name": "stderr",
     "output_type": "stream",
     "text": [
      "No encoding supplied: defaulting to UTF-8.\n",
      "\n"
     ]
    },
    {
     "name": "stdout",
     "output_type": "stream",
     "text": [
      "[1] \"{\\\"detail\\\":\\\"The query didn't return any results\\\",\\\"status_code\\\":404}\"\n",
      "[1] \"no results for the query\"\n",
      "[1] 390\n",
      "$category\n",
      "[1] \"Client error\"\n",
      "\n",
      "$reason\n",
      "[1] \"Not Found\"\n",
      "\n",
      "$message\n",
      "[1] \"Client error: (404) Not Found\"\n",
      "\n"
     ]
    },
    {
     "name": "stderr",
     "output_type": "stream",
     "text": [
      "No encoding supplied: defaulting to UTF-8.\n",
      "\n"
     ]
    },
    {
     "name": "stdout",
     "output_type": "stream",
     "text": [
      "[1] \"{\\\"detail\\\":\\\"The query didn't return any results\\\",\\\"status_code\\\":404}\"\n",
      "[1] \"no results for the query\"\n",
      "[1] 391\n",
      "$category\n",
      "[1] \"Client error\"\n",
      "\n",
      "$reason\n",
      "[1] \"Not Found\"\n",
      "\n",
      "$message\n",
      "[1] \"Client error: (404) Not Found\"\n",
      "\n"
     ]
    },
    {
     "name": "stderr",
     "output_type": "stream",
     "text": [
      "No encoding supplied: defaulting to UTF-8.\n",
      "\n"
     ]
    },
    {
     "name": "stdout",
     "output_type": "stream",
     "text": [
      "[1] \"{\\\"detail\\\":\\\"The query didn't return any results\\\",\\\"status_code\\\":404}\"\n",
      "[1] \"no results for the query\"\n",
      "[1] 392\n",
      "$category\n",
      "[1] \"Client error\"\n",
      "\n",
      "$reason\n",
      "[1] \"Not Found\"\n",
      "\n",
      "$message\n",
      "[1] \"Client error: (404) Not Found\"\n",
      "\n"
     ]
    },
    {
     "name": "stderr",
     "output_type": "stream",
     "text": [
      "No encoding supplied: defaulting to UTF-8.\n",
      "\n"
     ]
    },
    {
     "name": "stdout",
     "output_type": "stream",
     "text": [
      "[1] \"{\\\"detail\\\":\\\"The query didn't return any results\\\",\\\"status_code\\\":404}\"\n",
      "[1] \"no results for the query\"\n",
      "[1] 393\n",
      "$category\n",
      "[1] \"Client error\"\n",
      "\n",
      "$reason\n",
      "[1] \"Not Found\"\n",
      "\n",
      "$message\n",
      "[1] \"Client error: (404) Not Found\"\n",
      "\n"
     ]
    },
    {
     "name": "stderr",
     "output_type": "stream",
     "text": [
      "No encoding supplied: defaulting to UTF-8.\n",
      "\n"
     ]
    },
    {
     "name": "stdout",
     "output_type": "stream",
     "text": [
      "[1] \"{\\\"detail\\\":\\\"The query didn't return any results\\\",\\\"status_code\\\":404}\"\n",
      "[1] \"no results for the query\"\n",
      "[1] 394\n",
      "$category\n",
      "[1] \"Client error\"\n",
      "\n",
      "$reason\n",
      "[1] \"Not Found\"\n",
      "\n",
      "$message\n",
      "[1] \"Client error: (404) Not Found\"\n",
      "\n"
     ]
    },
    {
     "name": "stderr",
     "output_type": "stream",
     "text": [
      "No encoding supplied: defaulting to UTF-8.\n",
      "\n"
     ]
    },
    {
     "name": "stdout",
     "output_type": "stream",
     "text": [
      "[1] \"{\\\"detail\\\":\\\"The query didn't return any results\\\",\\\"status_code\\\":404}\"\n",
      "[1] \"no results for the query\"\n",
      "[1] 395\n",
      "$category\n",
      "[1] \"Client error\"\n",
      "\n",
      "$reason\n",
      "[1] \"Not Found\"\n",
      "\n",
      "$message\n",
      "[1] \"Client error: (404) Not Found\"\n",
      "\n"
     ]
    },
    {
     "name": "stderr",
     "output_type": "stream",
     "text": [
      "No encoding supplied: defaulting to UTF-8.\n",
      "\n"
     ]
    },
    {
     "name": "stdout",
     "output_type": "stream",
     "text": [
      "[1] \"{\\\"detail\\\":\\\"The query didn't return any results\\\",\\\"status_code\\\":404}\"\n",
      "[1] \"no results for the query\"\n",
      "[1] 396\n",
      "$category\n",
      "[1] \"Client error\"\n",
      "\n",
      "$reason\n",
      "[1] \"Not Found\"\n",
      "\n",
      "$message\n",
      "[1] \"Client error: (404) Not Found\"\n",
      "\n"
     ]
    },
    {
     "name": "stderr",
     "output_type": "stream",
     "text": [
      "No encoding supplied: defaulting to UTF-8.\n",
      "\n"
     ]
    },
    {
     "name": "stdout",
     "output_type": "stream",
     "text": [
      "[1] \"{\\\"detail\\\":\\\"The query didn't return any results\\\",\\\"status_code\\\":404}\"\n",
      "[1] \"no results for the query\"\n",
      "[1] 397\n",
      "[1] 398\n",
      "$category\n",
      "[1] \"Client error\"\n",
      "\n",
      "$reason\n",
      "[1] \"Not Found\"\n",
      "\n",
      "$message\n",
      "[1] \"Client error: (404) Not Found\"\n",
      "\n"
     ]
    },
    {
     "name": "stderr",
     "output_type": "stream",
     "text": [
      "No encoding supplied: defaulting to UTF-8.\n",
      "\n"
     ]
    },
    {
     "name": "stdout",
     "output_type": "stream",
     "text": [
      "[1] \"{\\\"detail\\\":\\\"The query didn't return any results\\\",\\\"status_code\\\":404}\"\n",
      "[1] \"no results for the query\"\n",
      "[1] 399\n",
      "$category\n",
      "[1] \"Client error\"\n",
      "\n",
      "$reason\n",
      "[1] \"Not Found\"\n",
      "\n",
      "$message\n",
      "[1] \"Client error: (404) Not Found\"\n",
      "\n"
     ]
    },
    {
     "name": "stderr",
     "output_type": "stream",
     "text": [
      "No encoding supplied: defaulting to UTF-8.\n",
      "\n"
     ]
    },
    {
     "name": "stdout",
     "output_type": "stream",
     "text": [
      "[1] \"{\\\"detail\\\":\\\"The query didn't return any results\\\",\\\"status_code\\\":404}\"\n",
      "[1] \"no results for the query\"\n",
      "[1] 400\n",
      "$category\n",
      "[1] \"Client error\"\n",
      "\n",
      "$reason\n",
      "[1] \"Not Found\"\n",
      "\n",
      "$message\n",
      "[1] \"Client error: (404) Not Found\"\n",
      "\n"
     ]
    },
    {
     "name": "stderr",
     "output_type": "stream",
     "text": [
      "No encoding supplied: defaulting to UTF-8.\n",
      "\n"
     ]
    },
    {
     "name": "stdout",
     "output_type": "stream",
     "text": [
      "[1] \"{\\\"detail\\\":\\\"The query didn't return any results\\\",\\\"status_code\\\":404}\"\n",
      "[1] \"no results for the query\"\n",
      "[1] 401\n",
      "$category\n",
      "[1] \"Client error\"\n",
      "\n",
      "$reason\n",
      "[1] \"Not Found\"\n",
      "\n",
      "$message\n",
      "[1] \"Client error: (404) Not Found\"\n",
      "\n"
     ]
    },
    {
     "name": "stderr",
     "output_type": "stream",
     "text": [
      "No encoding supplied: defaulting to UTF-8.\n",
      "\n"
     ]
    },
    {
     "name": "stdout",
     "output_type": "stream",
     "text": [
      "[1] \"{\\\"detail\\\":\\\"The query didn't return any results\\\",\\\"status_code\\\":404}\"\n",
      "[1] \"no results for the query\"\n",
      "[1] 402\n",
      "$category\n",
      "[1] \"Client error\"\n",
      "\n",
      "$reason\n",
      "[1] \"Not Found\"\n",
      "\n",
      "$message\n",
      "[1] \"Client error: (404) Not Found\"\n",
      "\n"
     ]
    },
    {
     "name": "stderr",
     "output_type": "stream",
     "text": [
      "No encoding supplied: defaulting to UTF-8.\n",
      "\n"
     ]
    },
    {
     "name": "stdout",
     "output_type": "stream",
     "text": [
      "[1] \"{\\\"detail\\\":\\\"The query didn't return any results\\\",\\\"status_code\\\":404}\"\n",
      "[1] \"no results for the query\"\n",
      "[1] 403\n",
      "$category\n",
      "[1] \"Client error\"\n",
      "\n",
      "$reason\n",
      "[1] \"Not Found\"\n",
      "\n",
      "$message\n",
      "[1] \"Client error: (404) Not Found\"\n",
      "\n"
     ]
    },
    {
     "name": "stderr",
     "output_type": "stream",
     "text": [
      "No encoding supplied: defaulting to UTF-8.\n",
      "\n"
     ]
    },
    {
     "name": "stdout",
     "output_type": "stream",
     "text": [
      "[1] \"{\\\"detail\\\":\\\"The query didn't return any results\\\",\\\"status_code\\\":404}\"\n",
      "[1] \"no results for the query\"\n",
      "[1] 404\n",
      "$category\n",
      "[1] \"Client error\"\n",
      "\n",
      "$reason\n",
      "[1] \"Not Found\"\n",
      "\n",
      "$message\n",
      "[1] \"Client error: (404) Not Found\"\n",
      "\n"
     ]
    },
    {
     "name": "stderr",
     "output_type": "stream",
     "text": [
      "No encoding supplied: defaulting to UTF-8.\n",
      "\n"
     ]
    },
    {
     "name": "stdout",
     "output_type": "stream",
     "text": [
      "[1] \"{\\\"detail\\\":\\\"The query didn't return any results\\\",\\\"status_code\\\":404}\"\n",
      "[1] \"no results for the query\"\n",
      "[1] 405\n",
      "$category\n",
      "[1] \"Client error\"\n",
      "\n",
      "$reason\n",
      "[1] \"Not Found\"\n",
      "\n",
      "$message\n",
      "[1] \"Client error: (404) Not Found\"\n",
      "\n"
     ]
    },
    {
     "name": "stderr",
     "output_type": "stream",
     "text": [
      "No encoding supplied: defaulting to UTF-8.\n",
      "\n"
     ]
    },
    {
     "name": "stdout",
     "output_type": "stream",
     "text": [
      "[1] \"{\\\"detail\\\":\\\"The query didn't return any results\\\",\\\"status_code\\\":404}\"\n",
      "[1] \"no results for the query\"\n",
      "[1] 406\n",
      "$category\n",
      "[1] \"Client error\"\n",
      "\n",
      "$reason\n",
      "[1] \"Not Found\"\n",
      "\n",
      "$message\n",
      "[1] \"Client error: (404) Not Found\"\n",
      "\n"
     ]
    },
    {
     "name": "stderr",
     "output_type": "stream",
     "text": [
      "No encoding supplied: defaulting to UTF-8.\n",
      "\n"
     ]
    },
    {
     "name": "stdout",
     "output_type": "stream",
     "text": [
      "[1] \"{\\\"detail\\\":\\\"The query didn't return any results\\\",\\\"status_code\\\":404}\"\n",
      "[1] \"no results for the query\"\n",
      "[1] 407\n",
      "$category\n",
      "[1] \"Client error\"\n",
      "\n",
      "$reason\n",
      "[1] \"Not Found\"\n",
      "\n",
      "$message\n",
      "[1] \"Client error: (404) Not Found\"\n",
      "\n"
     ]
    },
    {
     "name": "stderr",
     "output_type": "stream",
     "text": [
      "No encoding supplied: defaulting to UTF-8.\n",
      "\n"
     ]
    },
    {
     "name": "stdout",
     "output_type": "stream",
     "text": [
      "[1] \"{\\\"detail\\\":\\\"The query didn't return any results\\\",\\\"status_code\\\":404}\"\n",
      "[1] \"no results for the query\"\n",
      "[1] 408\n",
      "[1] 409\n",
      "$category\n",
      "[1] \"Client error\"\n",
      "\n",
      "$reason\n",
      "[1] \"Not Found\"\n",
      "\n",
      "$message\n",
      "[1] \"Client error: (404) Not Found\"\n",
      "\n"
     ]
    },
    {
     "name": "stderr",
     "output_type": "stream",
     "text": [
      "No encoding supplied: defaulting to UTF-8.\n",
      "\n"
     ]
    },
    {
     "name": "stdout",
     "output_type": "stream",
     "text": [
      "[1] \"{\\\"detail\\\":\\\"The query didn't return any results\\\",\\\"status_code\\\":404}\"\n",
      "[1] \"no results for the query\"\n",
      "[1] 410\n",
      "$category\n",
      "[1] \"Client error\"\n",
      "\n",
      "$reason\n",
      "[1] \"Not Found\"\n",
      "\n",
      "$message\n",
      "[1] \"Client error: (404) Not Found\"\n",
      "\n"
     ]
    },
    {
     "name": "stderr",
     "output_type": "stream",
     "text": [
      "No encoding supplied: defaulting to UTF-8.\n",
      "\n"
     ]
    },
    {
     "name": "stdout",
     "output_type": "stream",
     "text": [
      "[1] \"{\\\"detail\\\":\\\"The query didn't return any results\\\",\\\"status_code\\\":404}\"\n",
      "[1] \"no results for the query\"\n",
      "[1] 411\n",
      "$category\n",
      "[1] \"Client error\"\n",
      "\n",
      "$reason\n",
      "[1] \"Not Found\"\n",
      "\n",
      "$message\n",
      "[1] \"Client error: (404) Not Found\"\n",
      "\n"
     ]
    },
    {
     "name": "stderr",
     "output_type": "stream",
     "text": [
      "No encoding supplied: defaulting to UTF-8.\n",
      "\n"
     ]
    },
    {
     "name": "stdout",
     "output_type": "stream",
     "text": [
      "[1] \"{\\\"detail\\\":\\\"The query didn't return any results\\\",\\\"status_code\\\":404}\"\n",
      "[1] \"no results for the query\"\n",
      "[1] 412\n",
      "$category\n",
      "[1] \"Client error\"\n",
      "\n",
      "$reason\n",
      "[1] \"Not Found\"\n",
      "\n",
      "$message\n",
      "[1] \"Client error: (404) Not Found\"\n",
      "\n"
     ]
    },
    {
     "name": "stderr",
     "output_type": "stream",
     "text": [
      "No encoding supplied: defaulting to UTF-8.\n",
      "\n"
     ]
    },
    {
     "name": "stdout",
     "output_type": "stream",
     "text": [
      "[1] \"{\\\"detail\\\":\\\"The query didn't return any results\\\",\\\"status_code\\\":404}\"\n",
      "[1] \"no results for the query\"\n",
      "[1] 413\n",
      "$category\n",
      "[1] \"Client error\"\n",
      "\n",
      "$reason\n",
      "[1] \"Not Found\"\n",
      "\n",
      "$message\n",
      "[1] \"Client error: (404) Not Found\"\n",
      "\n"
     ]
    },
    {
     "name": "stderr",
     "output_type": "stream",
     "text": [
      "No encoding supplied: defaulting to UTF-8.\n",
      "\n"
     ]
    },
    {
     "name": "stdout",
     "output_type": "stream",
     "text": [
      "[1] \"{\\\"detail\\\":\\\"The query didn't return any results\\\",\\\"status_code\\\":404}\"\n",
      "[1] \"no results for the query\"\n",
      "[1] 414\n",
      "$category\n",
      "[1] \"Client error\"\n",
      "\n",
      "$reason\n",
      "[1] \"Not Found\"\n",
      "\n",
      "$message\n",
      "[1] \"Client error: (404) Not Found\"\n",
      "\n"
     ]
    },
    {
     "name": "stderr",
     "output_type": "stream",
     "text": [
      "No encoding supplied: defaulting to UTF-8.\n",
      "\n"
     ]
    },
    {
     "name": "stdout",
     "output_type": "stream",
     "text": [
      "[1] \"{\\\"detail\\\":\\\"The query didn't return any results\\\",\\\"status_code\\\":404}\"\n",
      "[1] \"no results for the query\"\n",
      "[1] 415\n",
      "$category\n",
      "[1] \"Client error\"\n",
      "\n",
      "$reason\n",
      "[1] \"Not Found\"\n",
      "\n",
      "$message\n",
      "[1] \"Client error: (404) Not Found\"\n",
      "\n"
     ]
    },
    {
     "name": "stderr",
     "output_type": "stream",
     "text": [
      "No encoding supplied: defaulting to UTF-8.\n",
      "\n"
     ]
    },
    {
     "name": "stdout",
     "output_type": "stream",
     "text": [
      "[1] \"{\\\"detail\\\":\\\"The query didn't return any results\\\",\\\"status_code\\\":404}\"\n",
      "[1] \"no results for the query\"\n",
      "[1] 416\n",
      "$category\n",
      "[1] \"Client error\"\n",
      "\n",
      "$reason\n",
      "[1] \"Not Found\"\n",
      "\n",
      "$message\n",
      "[1] \"Client error: (404) Not Found\"\n",
      "\n"
     ]
    },
    {
     "name": "stderr",
     "output_type": "stream",
     "text": [
      "No encoding supplied: defaulting to UTF-8.\n",
      "\n"
     ]
    },
    {
     "name": "stdout",
     "output_type": "stream",
     "text": [
      "[1] \"{\\\"detail\\\":\\\"The query didn't return any results\\\",\\\"status_code\\\":404}\"\n",
      "[1] \"no results for the query\"\n",
      "[1] 417\n",
      "$category\n",
      "[1] \"Client error\"\n",
      "\n",
      "$reason\n",
      "[1] \"Not Found\"\n",
      "\n",
      "$message\n",
      "[1] \"Client error: (404) Not Found\"\n",
      "\n"
     ]
    },
    {
     "name": "stderr",
     "output_type": "stream",
     "text": [
      "No encoding supplied: defaulting to UTF-8.\n",
      "\n"
     ]
    },
    {
     "name": "stdout",
     "output_type": "stream",
     "text": [
      "[1] \"{\\\"detail\\\":\\\"The query didn't return any results\\\",\\\"status_code\\\":404}\"\n",
      "[1] \"no results for the query\"\n",
      "[1] 418\n",
      "$category\n",
      "[1] \"Client error\"\n",
      "\n",
      "$reason\n",
      "[1] \"Not Found\"\n",
      "\n",
      "$message\n",
      "[1] \"Client error: (404) Not Found\"\n",
      "\n"
     ]
    },
    {
     "name": "stderr",
     "output_type": "stream",
     "text": [
      "No encoding supplied: defaulting to UTF-8.\n",
      "\n"
     ]
    },
    {
     "name": "stdout",
     "output_type": "stream",
     "text": [
      "[1] \"{\\\"detail\\\":\\\"The query didn't return any results\\\",\\\"status_code\\\":404}\"\n",
      "[1] \"no results for the query\"\n",
      "[1] 419\n",
      "$category\n",
      "[1] \"Client error\"\n",
      "\n",
      "$reason\n",
      "[1] \"Not Found\"\n",
      "\n",
      "$message\n",
      "[1] \"Client error: (404) Not Found\"\n",
      "\n"
     ]
    },
    {
     "name": "stderr",
     "output_type": "stream",
     "text": [
      "No encoding supplied: defaulting to UTF-8.\n",
      "\n"
     ]
    },
    {
     "name": "stdout",
     "output_type": "stream",
     "text": [
      "[1] \"{\\\"detail\\\":\\\"The query didn't return any results\\\",\\\"status_code\\\":404}\"\n",
      "[1] \"no results for the query\"\n",
      "[1] 420\n",
      "$category\n",
      "[1] \"Client error\"\n",
      "\n",
      "$reason\n",
      "[1] \"Not Found\"\n",
      "\n",
      "$message\n",
      "[1] \"Client error: (404) Not Found\"\n",
      "\n"
     ]
    },
    {
     "name": "stderr",
     "output_type": "stream",
     "text": [
      "No encoding supplied: defaulting to UTF-8.\n",
      "\n"
     ]
    },
    {
     "name": "stdout",
     "output_type": "stream",
     "text": [
      "[1] \"{\\\"detail\\\":\\\"The query didn't return any results\\\",\\\"status_code\\\":404}\"\n",
      "[1] \"no results for the query\"\n",
      "[1] 421\n",
      "$category\n",
      "[1] \"Client error\"\n",
      "\n",
      "$reason\n",
      "[1] \"Not Found\"\n",
      "\n",
      "$message\n",
      "[1] \"Client error: (404) Not Found\"\n",
      "\n"
     ]
    },
    {
     "name": "stderr",
     "output_type": "stream",
     "text": [
      "No encoding supplied: defaulting to UTF-8.\n",
      "\n"
     ]
    },
    {
     "name": "stdout",
     "output_type": "stream",
     "text": [
      "[1] \"{\\\"detail\\\":\\\"The query didn't return any results\\\",\\\"status_code\\\":404}\"\n",
      "[1] \"no results for the query\"\n",
      "[1] 422\n",
      "$category\n",
      "[1] \"Client error\"\n",
      "\n",
      "$reason\n",
      "[1] \"Not Found\"\n",
      "\n",
      "$message\n",
      "[1] \"Client error: (404) Not Found\"\n",
      "\n"
     ]
    },
    {
     "name": "stderr",
     "output_type": "stream",
     "text": [
      "No encoding supplied: defaulting to UTF-8.\n",
      "\n"
     ]
    },
    {
     "name": "stdout",
     "output_type": "stream",
     "text": [
      "[1] \"{\\\"detail\\\":\\\"The query didn't return any results\\\",\\\"status_code\\\":404}\"\n",
      "[1] \"no results for the query\"\n",
      "[1] 423\n",
      "$category\n",
      "[1] \"Client error\"\n",
      "\n",
      "$reason\n",
      "[1] \"Not Found\"\n",
      "\n",
      "$message\n",
      "[1] \"Client error: (404) Not Found\"\n",
      "\n"
     ]
    },
    {
     "name": "stderr",
     "output_type": "stream",
     "text": [
      "No encoding supplied: defaulting to UTF-8.\n",
      "\n"
     ]
    },
    {
     "name": "stdout",
     "output_type": "stream",
     "text": [
      "[1] \"{\\\"detail\\\":\\\"The query didn't return any results\\\",\\\"status_code\\\":404}\"\n",
      "[1] \"no results for the query\"\n",
      "[1] 424\n",
      "$category\n",
      "[1] \"Client error\"\n",
      "\n",
      "$reason\n",
      "[1] \"Not Found\"\n",
      "\n",
      "$message\n",
      "[1] \"Client error: (404) Not Found\"\n",
      "\n"
     ]
    },
    {
     "name": "stderr",
     "output_type": "stream",
     "text": [
      "No encoding supplied: defaulting to UTF-8.\n",
      "\n"
     ]
    },
    {
     "name": "stdout",
     "output_type": "stream",
     "text": [
      "[1] \"{\\\"detail\\\":\\\"The query didn't return any results\\\",\\\"status_code\\\":404}\"\n",
      "[1] \"no results for the query\"\n",
      "[1] 425\n",
      "$category\n",
      "[1] \"Client error\"\n",
      "\n",
      "$reason\n",
      "[1] \"Not Found\"\n",
      "\n",
      "$message\n",
      "[1] \"Client error: (404) Not Found\"\n",
      "\n"
     ]
    },
    {
     "name": "stderr",
     "output_type": "stream",
     "text": [
      "No encoding supplied: defaulting to UTF-8.\n",
      "\n"
     ]
    },
    {
     "name": "stdout",
     "output_type": "stream",
     "text": [
      "[1] \"{\\\"detail\\\":\\\"The query didn't return any results\\\",\\\"status_code\\\":404}\"\n",
      "[1] \"no results for the query\"\n",
      "[1] 426\n",
      "$category\n",
      "[1] \"Client error\"\n",
      "\n",
      "$reason\n",
      "[1] \"Not Found\"\n",
      "\n",
      "$message\n",
      "[1] \"Client error: (404) Not Found\"\n",
      "\n"
     ]
    },
    {
     "name": "stderr",
     "output_type": "stream",
     "text": [
      "No encoding supplied: defaulting to UTF-8.\n",
      "\n"
     ]
    },
    {
     "name": "stdout",
     "output_type": "stream",
     "text": [
      "[1] \"{\\\"detail\\\":\\\"The query didn't return any results\\\",\\\"status_code\\\":404}\"\n",
      "[1] \"no results for the query\"\n",
      "[1] 427\n",
      "$category\n",
      "[1] \"Client error\"\n",
      "\n",
      "$reason\n",
      "[1] \"Not Found\"\n",
      "\n",
      "$message\n",
      "[1] \"Client error: (404) Not Found\"\n",
      "\n"
     ]
    },
    {
     "name": "stderr",
     "output_type": "stream",
     "text": [
      "No encoding supplied: defaulting to UTF-8.\n",
      "\n"
     ]
    },
    {
     "name": "stdout",
     "output_type": "stream",
     "text": [
      "[1] \"{\\\"detail\\\":\\\"The query didn't return any results\\\",\\\"status_code\\\":404}\"\n",
      "[1] \"no results for the query\"\n",
      "[1] 428\n",
      "$category\n",
      "[1] \"Client error\"\n",
      "\n",
      "$reason\n",
      "[1] \"Not Found\"\n",
      "\n",
      "$message\n",
      "[1] \"Client error: (404) Not Found\"\n",
      "\n"
     ]
    },
    {
     "name": "stderr",
     "output_type": "stream",
     "text": [
      "No encoding supplied: defaulting to UTF-8.\n",
      "\n"
     ]
    },
    {
     "name": "stdout",
     "output_type": "stream",
     "text": [
      "[1] \"{\\\"detail\\\":\\\"The query didn't return any results\\\",\\\"status_code\\\":404}\"\n",
      "[1] \"no results for the query\"\n",
      "[1] 429\n",
      "$category\n",
      "[1] \"Client error\"\n",
      "\n",
      "$reason\n",
      "[1] \"Not Found\"\n",
      "\n",
      "$message\n",
      "[1] \"Client error: (404) Not Found\"\n",
      "\n"
     ]
    },
    {
     "name": "stderr",
     "output_type": "stream",
     "text": [
      "No encoding supplied: defaulting to UTF-8.\n",
      "\n"
     ]
    },
    {
     "name": "stdout",
     "output_type": "stream",
     "text": [
      "[1] \"{\\\"detail\\\":\\\"The query didn't return any results\\\",\\\"status_code\\\":404}\"\n",
      "[1] \"no results for the query\"\n",
      "[1] 430\n",
      "$category\n",
      "[1] \"Client error\"\n",
      "\n",
      "$reason\n",
      "[1] \"Not Found\"\n",
      "\n",
      "$message\n",
      "[1] \"Client error: (404) Not Found\"\n",
      "\n"
     ]
    },
    {
     "name": "stderr",
     "output_type": "stream",
     "text": [
      "No encoding supplied: defaulting to UTF-8.\n",
      "\n"
     ]
    },
    {
     "name": "stdout",
     "output_type": "stream",
     "text": [
      "[1] \"{\\\"detail\\\":\\\"The query didn't return any results\\\",\\\"status_code\\\":404}\"\n",
      "[1] \"no results for the query\"\n",
      "[1] 431\n",
      "$category\n",
      "[1] \"Client error\"\n",
      "\n",
      "$reason\n",
      "[1] \"Not Found\"\n",
      "\n",
      "$message\n",
      "[1] \"Client error: (404) Not Found\"\n",
      "\n"
     ]
    },
    {
     "name": "stderr",
     "output_type": "stream",
     "text": [
      "No encoding supplied: defaulting to UTF-8.\n",
      "\n"
     ]
    },
    {
     "name": "stdout",
     "output_type": "stream",
     "text": [
      "[1] \"{\\\"detail\\\":\\\"The query didn't return any results\\\",\\\"status_code\\\":404}\"\n",
      "[1] \"no results for the query\"\n",
      "[1] 432\n",
      "$category\n",
      "[1] \"Client error\"\n",
      "\n",
      "$reason\n",
      "[1] \"Not Found\"\n",
      "\n",
      "$message\n",
      "[1] \"Client error: (404) Not Found\"\n",
      "\n"
     ]
    },
    {
     "name": "stderr",
     "output_type": "stream",
     "text": [
      "No encoding supplied: defaulting to UTF-8.\n",
      "\n"
     ]
    },
    {
     "name": "stdout",
     "output_type": "stream",
     "text": [
      "[1] \"{\\\"detail\\\":\\\"The query didn't return any results\\\",\\\"status_code\\\":404}\"\n",
      "[1] \"no results for the query\"\n",
      "[1] 433\n",
      "$category\n",
      "[1] \"Client error\"\n",
      "\n",
      "$reason\n",
      "[1] \"Not Found\"\n",
      "\n",
      "$message\n",
      "[1] \"Client error: (404) Not Found\"\n",
      "\n"
     ]
    },
    {
     "name": "stderr",
     "output_type": "stream",
     "text": [
      "No encoding supplied: defaulting to UTF-8.\n",
      "\n"
     ]
    },
    {
     "name": "stdout",
     "output_type": "stream",
     "text": [
      "[1] \"{\\\"detail\\\":\\\"The query didn't return any results\\\",\\\"status_code\\\":404}\"\n",
      "[1] \"no results for the query\"\n",
      "[1] 434\n",
      "[1] 435\n",
      "$category\n",
      "[1] \"Client error\"\n",
      "\n",
      "$reason\n",
      "[1] \"Not Found\"\n",
      "\n",
      "$message\n",
      "[1] \"Client error: (404) Not Found\"\n",
      "\n"
     ]
    },
    {
     "name": "stderr",
     "output_type": "stream",
     "text": [
      "No encoding supplied: defaulting to UTF-8.\n",
      "\n"
     ]
    },
    {
     "name": "stdout",
     "output_type": "stream",
     "text": [
      "[1] \"{\\\"detail\\\":\\\"The query didn't return any results\\\",\\\"status_code\\\":404}\"\n",
      "[1] \"no results for the query\"\n",
      "[1] 436\n",
      "$category\n",
      "[1] \"Client error\"\n",
      "\n",
      "$reason\n",
      "[1] \"Not Found\"\n",
      "\n",
      "$message\n",
      "[1] \"Client error: (404) Not Found\"\n",
      "\n"
     ]
    },
    {
     "name": "stderr",
     "output_type": "stream",
     "text": [
      "No encoding supplied: defaulting to UTF-8.\n",
      "\n"
     ]
    },
    {
     "name": "stdout",
     "output_type": "stream",
     "text": [
      "[1] \"{\\\"detail\\\":\\\"The query didn't return any results\\\",\\\"status_code\\\":404}\"\n",
      "[1] \"no results for the query\"\n",
      "[1] 437\n",
      "$category\n",
      "[1] \"Client error\"\n",
      "\n",
      "$reason\n",
      "[1] \"Not Found\"\n",
      "\n",
      "$message\n",
      "[1] \"Client error: (404) Not Found\"\n",
      "\n"
     ]
    },
    {
     "name": "stderr",
     "output_type": "stream",
     "text": [
      "No encoding supplied: defaulting to UTF-8.\n",
      "\n"
     ]
    },
    {
     "name": "stdout",
     "output_type": "stream",
     "text": [
      "[1] \"{\\\"detail\\\":\\\"The query didn't return any results\\\",\\\"status_code\\\":404}\"\n",
      "[1] \"no results for the query\"\n",
      "[1] 438\n",
      "$category\n",
      "[1] \"Client error\"\n",
      "\n",
      "$reason\n",
      "[1] \"Not Found\"\n",
      "\n",
      "$message\n",
      "[1] \"Client error: (404) Not Found\"\n",
      "\n"
     ]
    },
    {
     "name": "stderr",
     "output_type": "stream",
     "text": [
      "No encoding supplied: defaulting to UTF-8.\n",
      "\n"
     ]
    },
    {
     "name": "stdout",
     "output_type": "stream",
     "text": [
      "[1] \"{\\\"detail\\\":\\\"The query didn't return any results\\\",\\\"status_code\\\":404}\"\n",
      "[1] \"no results for the query\"\n",
      "[1] 439\n",
      "$category\n",
      "[1] \"Client error\"\n",
      "\n",
      "$reason\n",
      "[1] \"Not Found\"\n",
      "\n",
      "$message\n",
      "[1] \"Client error: (404) Not Found\"\n",
      "\n"
     ]
    },
    {
     "name": "stderr",
     "output_type": "stream",
     "text": [
      "No encoding supplied: defaulting to UTF-8.\n",
      "\n"
     ]
    },
    {
     "name": "stdout",
     "output_type": "stream",
     "text": [
      "[1] \"{\\\"detail\\\":\\\"The query didn't return any results\\\",\\\"status_code\\\":404}\"\n",
      "[1] \"no results for the query\"\n",
      "[1] 440\n",
      "$category\n",
      "[1] \"Client error\"\n",
      "\n",
      "$reason\n",
      "[1] \"Not Found\"\n",
      "\n",
      "$message\n",
      "[1] \"Client error: (404) Not Found\"\n",
      "\n"
     ]
    },
    {
     "name": "stderr",
     "output_type": "stream",
     "text": [
      "No encoding supplied: defaulting to UTF-8.\n",
      "\n"
     ]
    },
    {
     "name": "stdout",
     "output_type": "stream",
     "text": [
      "[1] \"{\\\"detail\\\":\\\"The query didn't return any results\\\",\\\"status_code\\\":404}\"\n",
      "[1] \"no results for the query\"\n",
      "[1] 441\n",
      "$category\n",
      "[1] \"Client error\"\n",
      "\n",
      "$reason\n",
      "[1] \"Not Found\"\n",
      "\n",
      "$message\n",
      "[1] \"Client error: (404) Not Found\"\n",
      "\n"
     ]
    },
    {
     "name": "stderr",
     "output_type": "stream",
     "text": [
      "No encoding supplied: defaulting to UTF-8.\n",
      "\n"
     ]
    },
    {
     "name": "stdout",
     "output_type": "stream",
     "text": [
      "[1] \"{\\\"detail\\\":\\\"The query didn't return any results\\\",\\\"status_code\\\":404}\"\n",
      "[1] \"no results for the query\"\n",
      "[1] 442\n",
      "[1] 443\n",
      "$category\n",
      "[1] \"Client error\"\n",
      "\n",
      "$reason\n",
      "[1] \"Not Found\"\n",
      "\n",
      "$message\n",
      "[1] \"Client error: (404) Not Found\"\n",
      "\n"
     ]
    },
    {
     "name": "stderr",
     "output_type": "stream",
     "text": [
      "No encoding supplied: defaulting to UTF-8.\n",
      "\n"
     ]
    },
    {
     "name": "stdout",
     "output_type": "stream",
     "text": [
      "[1] \"{\\\"detail\\\":\\\"The query didn't return any results\\\",\\\"status_code\\\":404}\"\n",
      "[1] \"no results for the query\"\n",
      "[1] 444\n",
      "$category\n",
      "[1] \"Client error\"\n",
      "\n",
      "$reason\n",
      "[1] \"Not Found\"\n",
      "\n",
      "$message\n",
      "[1] \"Client error: (404) Not Found\"\n",
      "\n"
     ]
    },
    {
     "name": "stderr",
     "output_type": "stream",
     "text": [
      "No encoding supplied: defaulting to UTF-8.\n",
      "\n"
     ]
    },
    {
     "name": "stdout",
     "output_type": "stream",
     "text": [
      "[1] \"{\\\"detail\\\":\\\"The query didn't return any results\\\",\\\"status_code\\\":404}\"\n",
      "[1] \"no results for the query\"\n",
      "[1] 445\n",
      "$category\n",
      "[1] \"Client error\"\n",
      "\n",
      "$reason\n",
      "[1] \"Not Found\"\n",
      "\n",
      "$message\n",
      "[1] \"Client error: (404) Not Found\"\n",
      "\n"
     ]
    },
    {
     "name": "stderr",
     "output_type": "stream",
     "text": [
      "No encoding supplied: defaulting to UTF-8.\n",
      "\n"
     ]
    },
    {
     "name": "stdout",
     "output_type": "stream",
     "text": [
      "[1] \"{\\\"detail\\\":\\\"The query didn't return any results\\\",\\\"status_code\\\":404}\"\n",
      "[1] \"no results for the query\"\n",
      "[1] 446\n",
      "$category\n",
      "[1] \"Client error\"\n",
      "\n",
      "$reason\n",
      "[1] \"Not Found\"\n",
      "\n",
      "$message\n",
      "[1] \"Client error: (404) Not Found\"\n",
      "\n"
     ]
    },
    {
     "name": "stderr",
     "output_type": "stream",
     "text": [
      "No encoding supplied: defaulting to UTF-8.\n",
      "\n"
     ]
    },
    {
     "name": "stdout",
     "output_type": "stream",
     "text": [
      "[1] \"{\\\"detail\\\":\\\"The query didn't return any results\\\",\\\"status_code\\\":404}\"\n",
      "[1] \"no results for the query\"\n",
      "[1] 447\n",
      "$category\n",
      "[1] \"Client error\"\n",
      "\n",
      "$reason\n",
      "[1] \"Not Found\"\n",
      "\n",
      "$message\n",
      "[1] \"Client error: (404) Not Found\"\n",
      "\n"
     ]
    },
    {
     "name": "stderr",
     "output_type": "stream",
     "text": [
      "No encoding supplied: defaulting to UTF-8.\n",
      "\n"
     ]
    },
    {
     "name": "stdout",
     "output_type": "stream",
     "text": [
      "[1] \"{\\\"detail\\\":\\\"The query didn't return any results\\\",\\\"status_code\\\":404}\"\n",
      "[1] \"no results for the query\"\n",
      "[1] 448\n",
      "$category\n",
      "[1] \"Client error\"\n",
      "\n",
      "$reason\n",
      "[1] \"Not Found\"\n",
      "\n",
      "$message\n",
      "[1] \"Client error: (404) Not Found\"\n",
      "\n"
     ]
    },
    {
     "name": "stderr",
     "output_type": "stream",
     "text": [
      "No encoding supplied: defaulting to UTF-8.\n",
      "\n"
     ]
    },
    {
     "name": "stdout",
     "output_type": "stream",
     "text": [
      "[1] \"{\\\"detail\\\":\\\"The query didn't return any results\\\",\\\"status_code\\\":404}\"\n",
      "[1] \"no results for the query\"\n",
      "[1] 449\n",
      "$category\n",
      "[1] \"Client error\"\n",
      "\n",
      "$reason\n",
      "[1] \"Not Found\"\n",
      "\n",
      "$message\n",
      "[1] \"Client error: (404) Not Found\"\n",
      "\n"
     ]
    },
    {
     "name": "stderr",
     "output_type": "stream",
     "text": [
      "No encoding supplied: defaulting to UTF-8.\n",
      "\n"
     ]
    },
    {
     "name": "stdout",
     "output_type": "stream",
     "text": [
      "[1] \"{\\\"detail\\\":\\\"The query didn't return any results\\\",\\\"status_code\\\":404}\"\n",
      "[1] \"no results for the query\"\n",
      "[1] 450\n",
      "[1] 451\n",
      "$category\n",
      "[1] \"Client error\"\n",
      "\n",
      "$reason\n",
      "[1] \"Not Found\"\n",
      "\n",
      "$message\n",
      "[1] \"Client error: (404) Not Found\"\n",
      "\n"
     ]
    },
    {
     "name": "stderr",
     "output_type": "stream",
     "text": [
      "No encoding supplied: defaulting to UTF-8.\n",
      "\n"
     ]
    },
    {
     "name": "stdout",
     "output_type": "stream",
     "text": [
      "[1] \"{\\\"detail\\\":\\\"The query didn't return any results\\\",\\\"status_code\\\":404}\"\n",
      "[1] \"no results for the query\"\n",
      "[1] 452\n",
      "$category\n",
      "[1] \"Client error\"\n",
      "\n",
      "$reason\n",
      "[1] \"Not Found\"\n",
      "\n",
      "$message\n",
      "[1] \"Client error: (404) Not Found\"\n",
      "\n"
     ]
    },
    {
     "name": "stderr",
     "output_type": "stream",
     "text": [
      "No encoding supplied: defaulting to UTF-8.\n",
      "\n"
     ]
    },
    {
     "name": "stdout",
     "output_type": "stream",
     "text": [
      "[1] \"{\\\"detail\\\":\\\"The query didn't return any results\\\",\\\"status_code\\\":404}\"\n",
      "[1] \"no results for the query\"\n",
      "[1] 453\n",
      "$category\n",
      "[1] \"Client error\"\n",
      "\n",
      "$reason\n",
      "[1] \"Not Found\"\n",
      "\n",
      "$message\n",
      "[1] \"Client error: (404) Not Found\"\n",
      "\n"
     ]
    },
    {
     "name": "stderr",
     "output_type": "stream",
     "text": [
      "No encoding supplied: defaulting to UTF-8.\n",
      "\n"
     ]
    },
    {
     "name": "stdout",
     "output_type": "stream",
     "text": [
      "[1] \"{\\\"detail\\\":\\\"The query didn't return any results\\\",\\\"status_code\\\":404}\"\n",
      "[1] \"no results for the query\"\n",
      "[1] 454\n",
      "$category\n",
      "[1] \"Client error\"\n",
      "\n",
      "$reason\n",
      "[1] \"Not Found\"\n",
      "\n",
      "$message\n",
      "[1] \"Client error: (404) Not Found\"\n",
      "\n"
     ]
    },
    {
     "name": "stderr",
     "output_type": "stream",
     "text": [
      "No encoding supplied: defaulting to UTF-8.\n",
      "\n"
     ]
    },
    {
     "name": "stdout",
     "output_type": "stream",
     "text": [
      "[1] \"{\\\"detail\\\":\\\"The query didn't return any results\\\",\\\"status_code\\\":404}\"\n",
      "[1] \"no results for the query\"\n",
      "[1] 455\n",
      "$category\n",
      "[1] \"Client error\"\n",
      "\n",
      "$reason\n",
      "[1] \"Not Found\"\n",
      "\n",
      "$message\n",
      "[1] \"Client error: (404) Not Found\"\n",
      "\n"
     ]
    },
    {
     "name": "stderr",
     "output_type": "stream",
     "text": [
      "No encoding supplied: defaulting to UTF-8.\n",
      "\n"
     ]
    },
    {
     "name": "stdout",
     "output_type": "stream",
     "text": [
      "[1] \"{\\\"detail\\\":\\\"The query didn't return any results\\\",\\\"status_code\\\":404}\"\n",
      "[1] \"no results for the query\"\n",
      "[1] 456\n",
      "$category\n",
      "[1] \"Client error\"\n",
      "\n",
      "$reason\n",
      "[1] \"Not Found\"\n",
      "\n",
      "$message\n",
      "[1] \"Client error: (404) Not Found\"\n",
      "\n"
     ]
    },
    {
     "name": "stderr",
     "output_type": "stream",
     "text": [
      "No encoding supplied: defaulting to UTF-8.\n",
      "\n"
     ]
    },
    {
     "name": "stdout",
     "output_type": "stream",
     "text": [
      "[1] \"{\\\"detail\\\":\\\"The query didn't return any results\\\",\\\"status_code\\\":404}\"\n",
      "[1] \"no results for the query\"\n",
      "[1] 457\n",
      "$category\n",
      "[1] \"Client error\"\n",
      "\n",
      "$reason\n",
      "[1] \"Not Found\"\n",
      "\n",
      "$message\n",
      "[1] \"Client error: (404) Not Found\"\n",
      "\n"
     ]
    },
    {
     "name": "stderr",
     "output_type": "stream",
     "text": [
      "No encoding supplied: defaulting to UTF-8.\n",
      "\n"
     ]
    },
    {
     "name": "stdout",
     "output_type": "stream",
     "text": [
      "[1] \"{\\\"detail\\\":\\\"The query didn't return any results\\\",\\\"status_code\\\":404}\"\n",
      "[1] \"no results for the query\"\n",
      "[1] 458\n",
      "$category\n",
      "[1] \"Client error\"\n",
      "\n",
      "$reason\n",
      "[1] \"Not Found\"\n",
      "\n",
      "$message\n",
      "[1] \"Client error: (404) Not Found\"\n",
      "\n"
     ]
    },
    {
     "name": "stderr",
     "output_type": "stream",
     "text": [
      "No encoding supplied: defaulting to UTF-8.\n",
      "\n"
     ]
    },
    {
     "name": "stdout",
     "output_type": "stream",
     "text": [
      "[1] \"{\\\"detail\\\":\\\"The query didn't return any results\\\",\\\"status_code\\\":404}\"\n",
      "[1] \"no results for the query\"\n",
      "[1] 459\n",
      "[1] 460\n",
      "[1] 461\n",
      "$category\n",
      "[1] \"Client error\"\n",
      "\n",
      "$reason\n",
      "[1] \"Not Found\"\n",
      "\n",
      "$message\n",
      "[1] \"Client error: (404) Not Found\"\n",
      "\n"
     ]
    },
    {
     "name": "stderr",
     "output_type": "stream",
     "text": [
      "No encoding supplied: defaulting to UTF-8.\n",
      "\n"
     ]
    },
    {
     "name": "stdout",
     "output_type": "stream",
     "text": [
      "[1] \"{\\\"detail\\\":\\\"The query didn't return any results\\\",\\\"status_code\\\":404}\"\n",
      "[1] \"no results for the query\"\n",
      "[1] 462\n",
      "$category\n",
      "[1] \"Client error\"\n",
      "\n",
      "$reason\n",
      "[1] \"Not Found\"\n",
      "\n",
      "$message\n",
      "[1] \"Client error: (404) Not Found\"\n",
      "\n"
     ]
    },
    {
     "name": "stderr",
     "output_type": "stream",
     "text": [
      "No encoding supplied: defaulting to UTF-8.\n",
      "\n"
     ]
    },
    {
     "name": "stdout",
     "output_type": "stream",
     "text": [
      "[1] \"{\\\"detail\\\":\\\"The query didn't return any results\\\",\\\"status_code\\\":404}\"\n",
      "[1] \"no results for the query\"\n",
      "[1] 463\n",
      "$category\n",
      "[1] \"Client error\"\n",
      "\n",
      "$reason\n",
      "[1] \"Not Found\"\n",
      "\n",
      "$message\n",
      "[1] \"Client error: (404) Not Found\"\n",
      "\n"
     ]
    },
    {
     "name": "stderr",
     "output_type": "stream",
     "text": [
      "No encoding supplied: defaulting to UTF-8.\n",
      "\n"
     ]
    },
    {
     "name": "stdout",
     "output_type": "stream",
     "text": [
      "[1] \"{\\\"detail\\\":\\\"The query didn't return any results\\\",\\\"status_code\\\":404}\"\n",
      "[1] \"no results for the query\"\n",
      "[1] 464\n",
      "$category\n",
      "[1] \"Client error\"\n",
      "\n",
      "$reason\n",
      "[1] \"Not Found\"\n",
      "\n",
      "$message\n",
      "[1] \"Client error: (404) Not Found\"\n",
      "\n"
     ]
    },
    {
     "name": "stderr",
     "output_type": "stream",
     "text": [
      "No encoding supplied: defaulting to UTF-8.\n",
      "\n"
     ]
    },
    {
     "name": "stdout",
     "output_type": "stream",
     "text": [
      "[1] \"{\\\"detail\\\":\\\"The query didn't return any results\\\",\\\"status_code\\\":404}\"\n",
      "[1] \"no results for the query\"\n",
      "[1] 465\n",
      "$category\n",
      "[1] \"Client error\"\n",
      "\n",
      "$reason\n",
      "[1] \"Not Found\"\n",
      "\n",
      "$message\n",
      "[1] \"Client error: (404) Not Found\"\n",
      "\n"
     ]
    },
    {
     "name": "stderr",
     "output_type": "stream",
     "text": [
      "No encoding supplied: defaulting to UTF-8.\n",
      "\n"
     ]
    },
    {
     "name": "stdout",
     "output_type": "stream",
     "text": [
      "[1] \"{\\\"detail\\\":\\\"The query didn't return any results\\\",\\\"status_code\\\":404}\"\n",
      "[1] \"no results for the query\"\n",
      "[1] 466\n",
      "$category\n",
      "[1] \"Client error\"\n",
      "\n",
      "$reason\n",
      "[1] \"Not Found\"\n",
      "\n",
      "$message\n",
      "[1] \"Client error: (404) Not Found\"\n",
      "\n"
     ]
    },
    {
     "name": "stderr",
     "output_type": "stream",
     "text": [
      "No encoding supplied: defaulting to UTF-8.\n",
      "\n"
     ]
    },
    {
     "name": "stdout",
     "output_type": "stream",
     "text": [
      "[1] \"{\\\"detail\\\":\\\"The query didn't return any results\\\",\\\"status_code\\\":404}\"\n",
      "[1] \"no results for the query\"\n",
      "[1] 467\n",
      "$category\n",
      "[1] \"Client error\"\n",
      "\n",
      "$reason\n",
      "[1] \"Not Found\"\n",
      "\n",
      "$message\n",
      "[1] \"Client error: (404) Not Found\"\n",
      "\n"
     ]
    },
    {
     "name": "stderr",
     "output_type": "stream",
     "text": [
      "No encoding supplied: defaulting to UTF-8.\n",
      "\n"
     ]
    },
    {
     "name": "stdout",
     "output_type": "stream",
     "text": [
      "[1] \"{\\\"detail\\\":\\\"The query didn't return any results\\\",\\\"status_code\\\":404}\"\n",
      "[1] \"no results for the query\"\n",
      "[1] 468\n",
      "$category\n",
      "[1] \"Client error\"\n",
      "\n",
      "$reason\n",
      "[1] \"Not Found\"\n",
      "\n",
      "$message\n",
      "[1] \"Client error: (404) Not Found\"\n",
      "\n"
     ]
    },
    {
     "name": "stderr",
     "output_type": "stream",
     "text": [
      "No encoding supplied: defaulting to UTF-8.\n",
      "\n"
     ]
    },
    {
     "name": "stdout",
     "output_type": "stream",
     "text": [
      "[1] \"{\\\"detail\\\":\\\"The query didn't return any results\\\",\\\"status_code\\\":404}\"\n",
      "[1] \"no results for the query\"\n",
      "[1] 469\n",
      "[1] 470\n",
      "$category\n",
      "[1] \"Client error\"\n",
      "\n",
      "$reason\n",
      "[1] \"Not Found\"\n",
      "\n",
      "$message\n",
      "[1] \"Client error: (404) Not Found\"\n",
      "\n"
     ]
    },
    {
     "name": "stderr",
     "output_type": "stream",
     "text": [
      "No encoding supplied: defaulting to UTF-8.\n",
      "\n"
     ]
    },
    {
     "name": "stdout",
     "output_type": "stream",
     "text": [
      "[1] \"{\\\"detail\\\":\\\"The query didn't return any results\\\",\\\"status_code\\\":404}\"\n",
      "[1] \"no results for the query\"\n",
      "[1] 471\n",
      "$category\n",
      "[1] \"Client error\"\n",
      "\n",
      "$reason\n",
      "[1] \"Not Found\"\n",
      "\n",
      "$message\n",
      "[1] \"Client error: (404) Not Found\"\n",
      "\n"
     ]
    },
    {
     "name": "stderr",
     "output_type": "stream",
     "text": [
      "No encoding supplied: defaulting to UTF-8.\n",
      "\n"
     ]
    },
    {
     "name": "stdout",
     "output_type": "stream",
     "text": [
      "[1] \"{\\\"detail\\\":\\\"The query didn't return any results\\\",\\\"status_code\\\":404}\"\n",
      "[1] \"no results for the query\"\n",
      "[1] 472\n",
      "$category\n",
      "[1] \"Client error\"\n",
      "\n",
      "$reason\n",
      "[1] \"Not Found\"\n",
      "\n",
      "$message\n",
      "[1] \"Client error: (404) Not Found\"\n",
      "\n"
     ]
    },
    {
     "name": "stderr",
     "output_type": "stream",
     "text": [
      "No encoding supplied: defaulting to UTF-8.\n",
      "\n"
     ]
    },
    {
     "name": "stdout",
     "output_type": "stream",
     "text": [
      "[1] \"{\\\"detail\\\":\\\"The query didn't return any results\\\",\\\"status_code\\\":404}\"\n",
      "[1] \"no results for the query\"\n",
      "[1] 473\n",
      "$category\n",
      "[1] \"Client error\"\n",
      "\n",
      "$reason\n",
      "[1] \"Not Found\"\n",
      "\n",
      "$message\n",
      "[1] \"Client error: (404) Not Found\"\n",
      "\n"
     ]
    },
    {
     "name": "stderr",
     "output_type": "stream",
     "text": [
      "No encoding supplied: defaulting to UTF-8.\n",
      "\n"
     ]
    },
    {
     "name": "stdout",
     "output_type": "stream",
     "text": [
      "[1] \"{\\\"detail\\\":\\\"The query didn't return any results\\\",\\\"status_code\\\":404}\"\n",
      "[1] \"no results for the query\"\n",
      "[1] 474\n",
      "$category\n",
      "[1] \"Client error\"\n",
      "\n",
      "$reason\n",
      "[1] \"Not Found\"\n",
      "\n",
      "$message\n",
      "[1] \"Client error: (404) Not Found\"\n",
      "\n"
     ]
    },
    {
     "name": "stderr",
     "output_type": "stream",
     "text": [
      "No encoding supplied: defaulting to UTF-8.\n",
      "\n"
     ]
    },
    {
     "name": "stdout",
     "output_type": "stream",
     "text": [
      "[1] \"{\\\"detail\\\":\\\"The query didn't return any results\\\",\\\"status_code\\\":404}\"\n",
      "[1] \"no results for the query\"\n",
      "[1] 475\n",
      "$category\n",
      "[1] \"Client error\"\n",
      "\n",
      "$reason\n",
      "[1] \"Not Found\"\n",
      "\n",
      "$message\n",
      "[1] \"Client error: (404) Not Found\"\n",
      "\n"
     ]
    },
    {
     "name": "stderr",
     "output_type": "stream",
     "text": [
      "No encoding supplied: defaulting to UTF-8.\n",
      "\n"
     ]
    },
    {
     "name": "stdout",
     "output_type": "stream",
     "text": [
      "[1] \"{\\\"detail\\\":\\\"The query didn't return any results\\\",\\\"status_code\\\":404}\"\n",
      "[1] \"no results for the query\"\n",
      "[1] 476\n",
      "$category\n",
      "[1] \"Client error\"\n",
      "\n",
      "$reason\n",
      "[1] \"Not Found\"\n",
      "\n",
      "$message\n",
      "[1] \"Client error: (404) Not Found\"\n",
      "\n"
     ]
    },
    {
     "name": "stderr",
     "output_type": "stream",
     "text": [
      "No encoding supplied: defaulting to UTF-8.\n",
      "\n"
     ]
    },
    {
     "name": "stdout",
     "output_type": "stream",
     "text": [
      "[1] \"{\\\"detail\\\":\\\"The query didn't return any results\\\",\\\"status_code\\\":404}\"\n",
      "[1] \"no results for the query\"\n",
      "[1] 477\n",
      "$category\n",
      "[1] \"Client error\"\n",
      "\n",
      "$reason\n",
      "[1] \"Not Found\"\n",
      "\n",
      "$message\n",
      "[1] \"Client error: (404) Not Found\"\n",
      "\n"
     ]
    },
    {
     "name": "stderr",
     "output_type": "stream",
     "text": [
      "No encoding supplied: defaulting to UTF-8.\n",
      "\n"
     ]
    },
    {
     "name": "stdout",
     "output_type": "stream",
     "text": [
      "[1] \"{\\\"detail\\\":\\\"The query didn't return any results\\\",\\\"status_code\\\":404}\"\n",
      "[1] \"no results for the query\"\n",
      "[1] 478\n",
      "$category\n",
      "[1] \"Client error\"\n",
      "\n",
      "$reason\n",
      "[1] \"Not Found\"\n",
      "\n",
      "$message\n",
      "[1] \"Client error: (404) Not Found\"\n",
      "\n"
     ]
    },
    {
     "name": "stderr",
     "output_type": "stream",
     "text": [
      "No encoding supplied: defaulting to UTF-8.\n",
      "\n"
     ]
    },
    {
     "name": "stdout",
     "output_type": "stream",
     "text": [
      "[1] \"{\\\"detail\\\":\\\"The query didn't return any results\\\",\\\"status_code\\\":404}\"\n",
      "[1] \"no results for the query\"\n",
      "[1] 479\n",
      "$category\n",
      "[1] \"Client error\"\n",
      "\n",
      "$reason\n",
      "[1] \"Not Found\"\n",
      "\n",
      "$message\n",
      "[1] \"Client error: (404) Not Found\"\n",
      "\n"
     ]
    },
    {
     "name": "stderr",
     "output_type": "stream",
     "text": [
      "No encoding supplied: defaulting to UTF-8.\n",
      "\n"
     ]
    },
    {
     "name": "stdout",
     "output_type": "stream",
     "text": [
      "[1] \"{\\\"detail\\\":\\\"The query didn't return any results\\\",\\\"status_code\\\":404}\"\n",
      "[1] \"no results for the query\"\n",
      "[1] 480\n",
      "$category\n",
      "[1] \"Client error\"\n",
      "\n",
      "$reason\n",
      "[1] \"Not Found\"\n",
      "\n",
      "$message\n",
      "[1] \"Client error: (404) Not Found\"\n",
      "\n"
     ]
    },
    {
     "name": "stderr",
     "output_type": "stream",
     "text": [
      "No encoding supplied: defaulting to UTF-8.\n",
      "\n"
     ]
    },
    {
     "name": "stdout",
     "output_type": "stream",
     "text": [
      "[1] \"{\\\"detail\\\":\\\"The query didn't return any results\\\",\\\"status_code\\\":404}\"\n",
      "[1] \"no results for the query\"\n",
      "[1] 481\n",
      "$category\n",
      "[1] \"Client error\"\n",
      "\n",
      "$reason\n",
      "[1] \"Not Found\"\n",
      "\n",
      "$message\n",
      "[1] \"Client error: (404) Not Found\"\n",
      "\n"
     ]
    },
    {
     "name": "stderr",
     "output_type": "stream",
     "text": [
      "No encoding supplied: defaulting to UTF-8.\n",
      "\n"
     ]
    },
    {
     "name": "stdout",
     "output_type": "stream",
     "text": [
      "[1] \"{\\\"detail\\\":\\\"The query didn't return any results\\\",\\\"status_code\\\":404}\"\n",
      "[1] \"no results for the query\"\n",
      "[1] 482\n",
      "$category\n",
      "[1] \"Client error\"\n",
      "\n",
      "$reason\n",
      "[1] \"Not Found\"\n",
      "\n",
      "$message\n",
      "[1] \"Client error: (404) Not Found\"\n",
      "\n"
     ]
    },
    {
     "name": "stderr",
     "output_type": "stream",
     "text": [
      "No encoding supplied: defaulting to UTF-8.\n",
      "\n"
     ]
    },
    {
     "name": "stdout",
     "output_type": "stream",
     "text": [
      "[1] \"{\\\"detail\\\":\\\"The query didn't return any results\\\",\\\"status_code\\\":404}\"\n",
      "[1] \"no results for the query\"\n",
      "[1] 483\n",
      "$category\n",
      "[1] \"Client error\"\n",
      "\n",
      "$reason\n",
      "[1] \"Not Found\"\n",
      "\n",
      "$message\n",
      "[1] \"Client error: (404) Not Found\"\n",
      "\n"
     ]
    },
    {
     "name": "stderr",
     "output_type": "stream",
     "text": [
      "No encoding supplied: defaulting to UTF-8.\n",
      "\n"
     ]
    },
    {
     "name": "stdout",
     "output_type": "stream",
     "text": [
      "[1] \"{\\\"detail\\\":\\\"The query didn't return any results\\\",\\\"status_code\\\":404}\"\n",
      "[1] \"no results for the query\"\n",
      "[1] 484\n",
      "$category\n",
      "[1] \"Client error\"\n",
      "\n",
      "$reason\n",
      "[1] \"Not Found\"\n",
      "\n",
      "$message\n",
      "[1] \"Client error: (404) Not Found\"\n",
      "\n"
     ]
    },
    {
     "name": "stderr",
     "output_type": "stream",
     "text": [
      "No encoding supplied: defaulting to UTF-8.\n",
      "\n"
     ]
    },
    {
     "name": "stdout",
     "output_type": "stream",
     "text": [
      "[1] \"{\\\"detail\\\":\\\"The query didn't return any results\\\",\\\"status_code\\\":404}\"\n",
      "[1] \"no results for the query\"\n",
      "[1] 485\n",
      "$category\n",
      "[1] \"Client error\"\n",
      "\n",
      "$reason\n",
      "[1] \"Not Found\"\n",
      "\n",
      "$message\n",
      "[1] \"Client error: (404) Not Found\"\n",
      "\n"
     ]
    },
    {
     "name": "stderr",
     "output_type": "stream",
     "text": [
      "No encoding supplied: defaulting to UTF-8.\n",
      "\n"
     ]
    },
    {
     "name": "stdout",
     "output_type": "stream",
     "text": [
      "[1] \"{\\\"detail\\\":\\\"The query didn't return any results\\\",\\\"status_code\\\":404}\"\n",
      "[1] \"no results for the query\"\n",
      "[1] 486\n",
      "$category\n",
      "[1] \"Client error\"\n",
      "\n",
      "$reason\n",
      "[1] \"Not Found\"\n",
      "\n",
      "$message\n",
      "[1] \"Client error: (404) Not Found\"\n",
      "\n"
     ]
    },
    {
     "name": "stderr",
     "output_type": "stream",
     "text": [
      "No encoding supplied: defaulting to UTF-8.\n",
      "\n"
     ]
    },
    {
     "name": "stdout",
     "output_type": "stream",
     "text": [
      "[1] \"{\\\"detail\\\":\\\"The query didn't return any results\\\",\\\"status_code\\\":404}\"\n",
      "[1] \"no results for the query\"\n",
      "[1] 487\n",
      "[1] 488\n",
      "$category\n",
      "[1] \"Client error\"\n",
      "\n",
      "$reason\n",
      "[1] \"Not Found\"\n",
      "\n",
      "$message\n",
      "[1] \"Client error: (404) Not Found\"\n",
      "\n"
     ]
    },
    {
     "name": "stderr",
     "output_type": "stream",
     "text": [
      "No encoding supplied: defaulting to UTF-8.\n",
      "\n"
     ]
    },
    {
     "name": "stdout",
     "output_type": "stream",
     "text": [
      "[1] \"{\\\"detail\\\":\\\"The query didn't return any results\\\",\\\"status_code\\\":404}\"\n",
      "[1] \"no results for the query\"\n",
      "[1] 489\n",
      "[1] 490\n",
      "$category\n",
      "[1] \"Client error\"\n",
      "\n",
      "$reason\n",
      "[1] \"Not Found\"\n",
      "\n",
      "$message\n",
      "[1] \"Client error: (404) Not Found\"\n",
      "\n"
     ]
    },
    {
     "name": "stderr",
     "output_type": "stream",
     "text": [
      "No encoding supplied: defaulting to UTF-8.\n",
      "\n"
     ]
    },
    {
     "name": "stdout",
     "output_type": "stream",
     "text": [
      "[1] \"{\\\"detail\\\":\\\"The query didn't return any results\\\",\\\"status_code\\\":404}\"\n",
      "[1] \"no results for the query\"\n",
      "[1] 491\n",
      "$category\n",
      "[1] \"Client error\"\n",
      "\n",
      "$reason\n",
      "[1] \"Not Found\"\n",
      "\n",
      "$message\n",
      "[1] \"Client error: (404) Not Found\"\n",
      "\n"
     ]
    },
    {
     "name": "stderr",
     "output_type": "stream",
     "text": [
      "No encoding supplied: defaulting to UTF-8.\n",
      "\n"
     ]
    },
    {
     "name": "stdout",
     "output_type": "stream",
     "text": [
      "[1] \"{\\\"detail\\\":\\\"The query didn't return any results\\\",\\\"status_code\\\":404}\"\n",
      "[1] \"no results for the query\"\n",
      "[1] 492\n",
      "$category\n",
      "[1] \"Client error\"\n",
      "\n",
      "$reason\n",
      "[1] \"Not Found\"\n",
      "\n",
      "$message\n",
      "[1] \"Client error: (404) Not Found\"\n",
      "\n"
     ]
    },
    {
     "name": "stderr",
     "output_type": "stream",
     "text": [
      "No encoding supplied: defaulting to UTF-8.\n",
      "\n"
     ]
    },
    {
     "name": "stdout",
     "output_type": "stream",
     "text": [
      "[1] \"{\\\"detail\\\":\\\"The query didn't return any results\\\",\\\"status_code\\\":404}\"\n",
      "[1] \"no results for the query\"\n",
      "[1] 493\n",
      "$category\n",
      "[1] \"Client error\"\n",
      "\n",
      "$reason\n",
      "[1] \"Not Found\"\n",
      "\n",
      "$message\n",
      "[1] \"Client error: (404) Not Found\"\n",
      "\n"
     ]
    },
    {
     "name": "stderr",
     "output_type": "stream",
     "text": [
      "No encoding supplied: defaulting to UTF-8.\n",
      "\n"
     ]
    },
    {
     "name": "stdout",
     "output_type": "stream",
     "text": [
      "[1] \"{\\\"detail\\\":\\\"The query didn't return any results\\\",\\\"status_code\\\":404}\"\n",
      "[1] \"no results for the query\"\n",
      "[1] 494\n",
      "$category\n",
      "[1] \"Client error\"\n",
      "\n",
      "$reason\n",
      "[1] \"Not Found\"\n",
      "\n",
      "$message\n",
      "[1] \"Client error: (404) Not Found\"\n",
      "\n"
     ]
    },
    {
     "name": "stderr",
     "output_type": "stream",
     "text": [
      "No encoding supplied: defaulting to UTF-8.\n",
      "\n"
     ]
    },
    {
     "name": "stdout",
     "output_type": "stream",
     "text": [
      "[1] \"{\\\"detail\\\":\\\"The query didn't return any results\\\",\\\"status_code\\\":404}\"\n",
      "[1] \"no results for the query\"\n",
      "[1] 495\n",
      "$category\n",
      "[1] \"Client error\"\n",
      "\n",
      "$reason\n",
      "[1] \"Not Found\"\n",
      "\n",
      "$message\n",
      "[1] \"Client error: (404) Not Found\"\n",
      "\n"
     ]
    },
    {
     "name": "stderr",
     "output_type": "stream",
     "text": [
      "No encoding supplied: defaulting to UTF-8.\n",
      "\n"
     ]
    },
    {
     "name": "stdout",
     "output_type": "stream",
     "text": [
      "[1] \"{\\\"detail\\\":\\\"The query didn't return any results\\\",\\\"status_code\\\":404}\"\n",
      "[1] \"no results for the query\"\n",
      "[1] 496\n",
      "[1] 497\n",
      "$category\n",
      "[1] \"Client error\"\n",
      "\n",
      "$reason\n",
      "[1] \"Not Found\"\n",
      "\n",
      "$message\n",
      "[1] \"Client error: (404) Not Found\"\n",
      "\n"
     ]
    },
    {
     "name": "stderr",
     "output_type": "stream",
     "text": [
      "No encoding supplied: defaulting to UTF-8.\n",
      "\n"
     ]
    },
    {
     "name": "stdout",
     "output_type": "stream",
     "text": [
      "[1] \"{\\\"detail\\\":\\\"The query didn't return any results\\\",\\\"status_code\\\":404}\"\n",
      "[1] \"no results for the query\"\n",
      "[1] 498\n",
      "$category\n",
      "[1] \"Client error\"\n",
      "\n",
      "$reason\n",
      "[1] \"Not Found\"\n",
      "\n",
      "$message\n",
      "[1] \"Client error: (404) Not Found\"\n",
      "\n"
     ]
    },
    {
     "name": "stderr",
     "output_type": "stream",
     "text": [
      "No encoding supplied: defaulting to UTF-8.\n",
      "\n"
     ]
    },
    {
     "name": "stdout",
     "output_type": "stream",
     "text": [
      "[1] \"{\\\"detail\\\":\\\"The query didn't return any results\\\",\\\"status_code\\\":404}\"\n",
      "[1] \"no results for the query\"\n",
      "[1] 499\n",
      "$category\n",
      "[1] \"Client error\"\n",
      "\n",
      "$reason\n",
      "[1] \"Not Found\"\n",
      "\n",
      "$message\n",
      "[1] \"Client error: (404) Not Found\"\n",
      "\n"
     ]
    },
    {
     "name": "stderr",
     "output_type": "stream",
     "text": [
      "No encoding supplied: defaulting to UTF-8.\n",
      "\n"
     ]
    },
    {
     "name": "stdout",
     "output_type": "stream",
     "text": [
      "[1] \"{\\\"detail\\\":\\\"The query didn't return any results\\\",\\\"status_code\\\":404}\"\n",
      "[1] \"no results for the query\"\n",
      "[1] 500\n",
      "$category\n",
      "[1] \"Client error\"\n",
      "\n",
      "$reason\n",
      "[1] \"Not Found\"\n",
      "\n",
      "$message\n",
      "[1] \"Client error: (404) Not Found\"\n",
      "\n"
     ]
    },
    {
     "name": "stderr",
     "output_type": "stream",
     "text": [
      "No encoding supplied: defaulting to UTF-8.\n",
      "\n"
     ]
    },
    {
     "name": "stdout",
     "output_type": "stream",
     "text": [
      "[1] \"{\\\"detail\\\":\\\"The query didn't return any results\\\",\\\"status_code\\\":404}\"\n",
      "[1] \"no results for the query\"\n"
     ]
    }
   ],
   "source": [
    "for (diseaseId_ind in c(1:length(diseaseIbetween))){\n",
    "    print(diseaseId_ind)\n",
    "    diseaseId = diseaseId_list[diseaseId_ind]\n",
    "    diseaseName = diseaseId_All_list_names[diseaseId]\n",
    "    \n",
    "    tryCatch( { dis_res <- disease2gene( diseaseId_list[diseaseId_ind], database = \"MGD\" ) } #CURATED\n",
    "          , error = function(e) {an.error.occured <<- TRUE} )\n",
    "    \n",
    "    if (class(dis_res) == 'character'){next}\n",
    "        \n",
    "    geneList = dis_res@qresult %>% pull(gene_symbol)\n",
    "    \n",
    "    disease_DF = disease_DF %>% \n",
    "    add_row(tibble_row(Source = \"Disease\",\n",
    "            GeneSetID = diseaseId,\n",
    "            GeneSetName = diseaseName, \n",
    "            GeneList = str_c(geneList,  collapse = \" \"),\n",
    "            n_Genes = length(geneList)))\n",
    "    }"
   ]
  },
  {
   "cell_type": "code",
   "execution_count": 19,
   "id": "073b57d8-b716-4aa5-8a14-10b4a4705a4d",
   "metadata": {
    "tags": []
   },
   "outputs": [
    {
     "data": {
      "text/html": [
       "<strong>C0000727:</strong> 'Abdomen, Acute'"
      ],
      "text/latex": [
       "\\textbf{C0000727:} 'Abdomen, Acute'"
      ],
      "text/markdown": [
       "**C0000727:** 'Abdomen, Acute'"
      ],
      "text/plain": [
       "        C0000727 \n",
       "\"Abdomen, Acute\" "
      ]
     },
     "metadata": {},
     "output_type": "display_data"
    }
   ],
   "source": [
    "diseaseId_All_list_names['C0000727']"
   ]
  },
  {
   "cell_type": "code",
   "execution_count": null,
   "id": "f8368b01-ec5c-4df6-9c5a-aca2d2f52901",
   "metadata": {},
   "outputs": [],
   "source": [
    "diseaseId"
   ]
  },
  {
   "cell_type": "code",
   "execution_count": 32,
   "id": "55271619-a5cd-4bcd-9397-124f546de72b",
   "metadata": {},
   "outputs": [
    {
     "data": {
      "text/html": [
       "64"
      ],
      "text/latex": [
       "64"
      ],
      "text/markdown": [
       "64"
      ],
      "text/plain": [
       "[1] 64"
      ]
     },
     "metadata": {},
     "output_type": "display_data"
    }
   ],
   "source": [
    "nrow(disease_DF)"
   ]
  },
  {
   "cell_type": "code",
   "execution_count": 29,
   "id": "ba391f2e-117f-4e0d-823b-211e939c1102",
   "metadata": {},
   "outputs": [],
   "source": [
    "disease_toUse_DF = disease_DF %>% \n",
    "subset(between(x = n_Genes, left = 3, right = 100)) %>%\n",
    "head(n = 60)"
   ]
  },
  {
   "cell_type": "code",
   "execution_count": 30,
   "id": "aa604a7d-9ef2-4cce-8974-bbeea0b7fa9b",
   "metadata": {
    "collapsed": true,
    "jupyter": {
     "outputs_hidden": true
    },
    "tags": []
   },
   "outputs": [
    {
     "data": {
      "text/html": [
       "<table class=\"dataframe\">\n",
       "<caption>A tibble: 13 × 5</caption>\n",
       "<thead>\n",
       "\t<tr><th scope=col>Source</th><th scope=col>GeneSetID</th><th scope=col>GeneSetName</th><th scope=col>GeneList</th><th scope=col>n_Genes</th></tr>\n",
       "\t<tr><th scope=col>&lt;chr&gt;</th><th scope=col>&lt;chr&gt;</th><th scope=col>&lt;chr&gt;</th><th scope=col>&lt;chr&gt;</th><th scope=col>&lt;int&gt;</th></tr>\n",
       "</thead>\n",
       "<tbody>\n",
       "\t<tr><td>Disease</td><td>C0268362</td><td>Osteogenesis imperfecta type III (disorder)                    </td><td>COL1A1 COL1A2 SMPD3                                                                                                                                                                      </td><td> 3</td></tr>\n",
       "\t<tr><td>Disease</td><td>C1847800</td><td>Waardenburg Syndrome Type 1                                    </td><td>PAX3 MITF AEBP2                                                                                                                                                                          </td><td> 3</td></tr>\n",
       "\t<tr><td>Disease</td><td>C2874190</td><td>Pituitary short stature                                        </td><td>CSHL1 NR5A1 GHRH GNRH1 GNRHR KISS1 TACR3 KISS1R                                                                                                                                          </td><td> 8</td></tr>\n",
       "\t<tr><td>Disease</td><td>C0347915</td><td>Congenital malformation syndromes associated with short stature</td><td>KRAS ATR CENPJ PTPN11 RAF1 RIT1 SOS1 CEP63 LZTR1                                                                                                                                         </td><td> 9</td></tr>\n",
       "\t<tr><td>Disease</td><td>C0220662</td><td>ARTHROGRYPOSIS, DISTAL, TYPE 1                                 </td><td>TNNI2 FBN2 ECEL1                                                                                                                                                                         </td><td> 3</td></tr>\n",
       "\t<tr><td>Disease</td><td>C1305122</td><td>Thoracoabdominal aortic aneurysm, ruptured                     </td><td>KLF15 EFEMP2 ATP7A                                                                                                                                                                       </td><td> 3</td></tr>\n",
       "\t<tr><td>Disease</td><td>C0206157</td><td>Myopathies, Nemaline                                           </td><td>KLHL41 POMT1 B4GAT1 CHKB FKTN ITGA7 LMNA POMGNT1 FKRP LARGE1                                                                                                                             </td><td>10</td></tr>\n",
       "\t<tr><td>Disease</td><td>C0242342</td><td>Sheehan Syndrome                                               </td><td>CSHL1 NR5A1 GHRH GNRH1 GNRHR KISS1 TACR3 KISS1R                                                                                                                                          </td><td> 8</td></tr>\n",
       "\t<tr><td>Disease</td><td>C1408174</td><td>Hypertrophic neuropathy of infancy                             </td><td>NDRG1 FGD4 COX6A1 DYNC1H1 EGR2 KIF1B GARS1 GJB1 LMNA MPZ NEFL PMP22 GDAP1 DHTKD1 SH3TC2 SBF2 MTMR2 LRSAM1 FIG4 MFN2 SLC12A6                                                              </td><td>21</td></tr>\n",
       "\t<tr><td>Disease</td><td>C0265554</td><td>Ectrodactyly                                                   </td><td>DLX5 DLX6 MAP3K20                                                                                                                                                                        </td><td> 3</td></tr>\n",
       "\t<tr><td>Disease</td><td>C0022797</td><td>Adult Neuronal Ceroid Lipofuscinosis                           </td><td>CLN6 TPP1 CLN3 CLCN3 CLCN6 CLN5 CTSD CLN8 MFSD8 PPT1                                                                                                                                     </td><td>10</td></tr>\n",
       "\t<tr><td>Disease</td><td>C1844020</td><td>HETEROTAXY, VISCERAL, 1, X-LINKED                              </td><td>ZIC3 MMP21 C1orf127 AP1B1 DNAH5 MEGF8 ANKS6 TBC1D32 DNAI1 WDR62 C2orf74 CCDC39 DNAAF3 PCSK5 ARMC4 CFC1 CC2D2A RFX3 CFC1B CPLANE2 BICC1 IFT74 CEP290 DNAH11 FOXH1 TMEM67 DRC1 ACVR2B SLIT2</td><td>29</td></tr>\n",
       "\t<tr><td>Disease</td><td>C2875300</td><td>Peroneal muscular atrophy (axonal type) (hypertrophic type)    </td><td>NDRG1 FGD4 COX6A1 DYNC1H1 EGR2 KIF1B GARS1 GJB1 LMNA MPZ NEFL PMP22 GDAP1 DHTKD1 SH3TC2 SBF2 MTMR2 LRSAM1 FIG4 MFN2 SLC12A6                                                              </td><td>21</td></tr>\n",
       "</tbody>\n",
       "</table>\n"
      ],
      "text/latex": [
       "A tibble: 13 × 5\n",
       "\\begin{tabular}{lllll}\n",
       " Source & GeneSetID & GeneSetName & GeneList & n\\_Genes\\\\\n",
       " <chr> & <chr> & <chr> & <chr> & <int>\\\\\n",
       "\\hline\n",
       "\t Disease & C0268362 & Osteogenesis imperfecta type III (disorder)                     & COL1A1 COL1A2 SMPD3                                                                                                                                                                       &  3\\\\\n",
       "\t Disease & C1847800 & Waardenburg Syndrome Type 1                                     & PAX3 MITF AEBP2                                                                                                                                                                           &  3\\\\\n",
       "\t Disease & C2874190 & Pituitary short stature                                         & CSHL1 NR5A1 GHRH GNRH1 GNRHR KISS1 TACR3 KISS1R                                                                                                                                           &  8\\\\\n",
       "\t Disease & C0347915 & Congenital malformation syndromes associated with short stature & KRAS ATR CENPJ PTPN11 RAF1 RIT1 SOS1 CEP63 LZTR1                                                                                                                                          &  9\\\\\n",
       "\t Disease & C0220662 & ARTHROGRYPOSIS, DISTAL, TYPE 1                                  & TNNI2 FBN2 ECEL1                                                                                                                                                                          &  3\\\\\n",
       "\t Disease & C1305122 & Thoracoabdominal aortic aneurysm, ruptured                      & KLF15 EFEMP2 ATP7A                                                                                                                                                                        &  3\\\\\n",
       "\t Disease & C0206157 & Myopathies, Nemaline                                            & KLHL41 POMT1 B4GAT1 CHKB FKTN ITGA7 LMNA POMGNT1 FKRP LARGE1                                                                                                                              & 10\\\\\n",
       "\t Disease & C0242342 & Sheehan Syndrome                                                & CSHL1 NR5A1 GHRH GNRH1 GNRHR KISS1 TACR3 KISS1R                                                                                                                                           &  8\\\\\n",
       "\t Disease & C1408174 & Hypertrophic neuropathy of infancy                              & NDRG1 FGD4 COX6A1 DYNC1H1 EGR2 KIF1B GARS1 GJB1 LMNA MPZ NEFL PMP22 GDAP1 DHTKD1 SH3TC2 SBF2 MTMR2 LRSAM1 FIG4 MFN2 SLC12A6                                                               & 21\\\\\n",
       "\t Disease & C0265554 & Ectrodactyly                                                    & DLX5 DLX6 MAP3K20                                                                                                                                                                         &  3\\\\\n",
       "\t Disease & C0022797 & Adult Neuronal Ceroid Lipofuscinosis                            & CLN6 TPP1 CLN3 CLCN3 CLCN6 CLN5 CTSD CLN8 MFSD8 PPT1                                                                                                                                      & 10\\\\\n",
       "\t Disease & C1844020 & HETEROTAXY, VISCERAL, 1, X-LINKED                               & ZIC3 MMP21 C1orf127 AP1B1 DNAH5 MEGF8 ANKS6 TBC1D32 DNAI1 WDR62 C2orf74 CCDC39 DNAAF3 PCSK5 ARMC4 CFC1 CC2D2A RFX3 CFC1B CPLANE2 BICC1 IFT74 CEP290 DNAH11 FOXH1 TMEM67 DRC1 ACVR2B SLIT2 & 29\\\\\n",
       "\t Disease & C2875300 & Peroneal muscular atrophy (axonal type) (hypertrophic type)     & NDRG1 FGD4 COX6A1 DYNC1H1 EGR2 KIF1B GARS1 GJB1 LMNA MPZ NEFL PMP22 GDAP1 DHTKD1 SH3TC2 SBF2 MTMR2 LRSAM1 FIG4 MFN2 SLC12A6                                                               & 21\\\\\n",
       "\\end{tabular}\n"
      ],
      "text/markdown": [
       "\n",
       "A tibble: 13 × 5\n",
       "\n",
       "| Source &lt;chr&gt; | GeneSetID &lt;chr&gt; | GeneSetName &lt;chr&gt; | GeneList &lt;chr&gt; | n_Genes &lt;int&gt; |\n",
       "|---|---|---|---|---|\n",
       "| Disease | C0268362 | Osteogenesis imperfecta type III (disorder)                     | COL1A1 COL1A2 SMPD3                                                                                                                                                                       |  3 |\n",
       "| Disease | C1847800 | Waardenburg Syndrome Type 1                                     | PAX3 MITF AEBP2                                                                                                                                                                           |  3 |\n",
       "| Disease | C2874190 | Pituitary short stature                                         | CSHL1 NR5A1 GHRH GNRH1 GNRHR KISS1 TACR3 KISS1R                                                                                                                                           |  8 |\n",
       "| Disease | C0347915 | Congenital malformation syndromes associated with short stature | KRAS ATR CENPJ PTPN11 RAF1 RIT1 SOS1 CEP63 LZTR1                                                                                                                                          |  9 |\n",
       "| Disease | C0220662 | ARTHROGRYPOSIS, DISTAL, TYPE 1                                  | TNNI2 FBN2 ECEL1                                                                                                                                                                          |  3 |\n",
       "| Disease | C1305122 | Thoracoabdominal aortic aneurysm, ruptured                      | KLF15 EFEMP2 ATP7A                                                                                                                                                                        |  3 |\n",
       "| Disease | C0206157 | Myopathies, Nemaline                                            | KLHL41 POMT1 B4GAT1 CHKB FKTN ITGA7 LMNA POMGNT1 FKRP LARGE1                                                                                                                              | 10 |\n",
       "| Disease | C0242342 | Sheehan Syndrome                                                | CSHL1 NR5A1 GHRH GNRH1 GNRHR KISS1 TACR3 KISS1R                                                                                                                                           |  8 |\n",
       "| Disease | C1408174 | Hypertrophic neuropathy of infancy                              | NDRG1 FGD4 COX6A1 DYNC1H1 EGR2 KIF1B GARS1 GJB1 LMNA MPZ NEFL PMP22 GDAP1 DHTKD1 SH3TC2 SBF2 MTMR2 LRSAM1 FIG4 MFN2 SLC12A6                                                               | 21 |\n",
       "| Disease | C0265554 | Ectrodactyly                                                    | DLX5 DLX6 MAP3K20                                                                                                                                                                         |  3 |\n",
       "| Disease | C0022797 | Adult Neuronal Ceroid Lipofuscinosis                            | CLN6 TPP1 CLN3 CLCN3 CLCN6 CLN5 CTSD CLN8 MFSD8 PPT1                                                                                                                                      | 10 |\n",
       "| Disease | C1844020 | HETEROTAXY, VISCERAL, 1, X-LINKED                               | ZIC3 MMP21 C1orf127 AP1B1 DNAH5 MEGF8 ANKS6 TBC1D32 DNAI1 WDR62 C2orf74 CCDC39 DNAAF3 PCSK5 ARMC4 CFC1 CC2D2A RFX3 CFC1B CPLANE2 BICC1 IFT74 CEP290 DNAH11 FOXH1 TMEM67 DRC1 ACVR2B SLIT2 | 29 |\n",
       "| Disease | C2875300 | Peroneal muscular atrophy (axonal type) (hypertrophic type)     | NDRG1 FGD4 COX6A1 DYNC1H1 EGR2 KIF1B GARS1 GJB1 LMNA MPZ NEFL PMP22 GDAP1 DHTKD1 SH3TC2 SBF2 MTMR2 LRSAM1 FIG4 MFN2 SLC12A6                                                               | 21 |\n",
       "\n"
      ],
      "text/plain": [
       "   Source  GeneSetID\n",
       "1  Disease C0268362 \n",
       "2  Disease C1847800 \n",
       "3  Disease C2874190 \n",
       "4  Disease C0347915 \n",
       "5  Disease C0220662 \n",
       "6  Disease C1305122 \n",
       "7  Disease C0206157 \n",
       "8  Disease C0242342 \n",
       "9  Disease C1408174 \n",
       "10 Disease C0265554 \n",
       "11 Disease C0022797 \n",
       "12 Disease C1844020 \n",
       "13 Disease C2875300 \n",
       "   GeneSetName                                                    \n",
       "1  Osteogenesis imperfecta type III (disorder)                    \n",
       "2  Waardenburg Syndrome Type 1                                    \n",
       "3  Pituitary short stature                                        \n",
       "4  Congenital malformation syndromes associated with short stature\n",
       "5  ARTHROGRYPOSIS, DISTAL, TYPE 1                                 \n",
       "6  Thoracoabdominal aortic aneurysm, ruptured                     \n",
       "7  Myopathies, Nemaline                                           \n",
       "8  Sheehan Syndrome                                               \n",
       "9  Hypertrophic neuropathy of infancy                             \n",
       "10 Ectrodactyly                                                   \n",
       "11 Adult Neuronal Ceroid Lipofuscinosis                           \n",
       "12 HETEROTAXY, VISCERAL, 1, X-LINKED                              \n",
       "13 Peroneal muscular atrophy (axonal type) (hypertrophic type)    \n",
       "   GeneList                                                                                                                                                                                 \n",
       "1  COL1A1 COL1A2 SMPD3                                                                                                                                                                      \n",
       "2  PAX3 MITF AEBP2                                                                                                                                                                          \n",
       "3  CSHL1 NR5A1 GHRH GNRH1 GNRHR KISS1 TACR3 KISS1R                                                                                                                                          \n",
       "4  KRAS ATR CENPJ PTPN11 RAF1 RIT1 SOS1 CEP63 LZTR1                                                                                                                                         \n",
       "5  TNNI2 FBN2 ECEL1                                                                                                                                                                         \n",
       "6  KLF15 EFEMP2 ATP7A                                                                                                                                                                       \n",
       "7  KLHL41 POMT1 B4GAT1 CHKB FKTN ITGA7 LMNA POMGNT1 FKRP LARGE1                                                                                                                             \n",
       "8  CSHL1 NR5A1 GHRH GNRH1 GNRHR KISS1 TACR3 KISS1R                                                                                                                                          \n",
       "9  NDRG1 FGD4 COX6A1 DYNC1H1 EGR2 KIF1B GARS1 GJB1 LMNA MPZ NEFL PMP22 GDAP1 DHTKD1 SH3TC2 SBF2 MTMR2 LRSAM1 FIG4 MFN2 SLC12A6                                                              \n",
       "10 DLX5 DLX6 MAP3K20                                                                                                                                                                        \n",
       "11 CLN6 TPP1 CLN3 CLCN3 CLCN6 CLN5 CTSD CLN8 MFSD8 PPT1                                                                                                                                     \n",
       "12 ZIC3 MMP21 C1orf127 AP1B1 DNAH5 MEGF8 ANKS6 TBC1D32 DNAI1 WDR62 C2orf74 CCDC39 DNAAF3 PCSK5 ARMC4 CFC1 CC2D2A RFX3 CFC1B CPLANE2 BICC1 IFT74 CEP290 DNAH11 FOXH1 TMEM67 DRC1 ACVR2B SLIT2\n",
       "13 NDRG1 FGD4 COX6A1 DYNC1H1 EGR2 KIF1B GARS1 GJB1 LMNA MPZ NEFL PMP22 GDAP1 DHTKD1 SH3TC2 SBF2 MTMR2 LRSAM1 FIG4 MFN2 SLC12A6                                                              \n",
       "   n_Genes\n",
       "1   3     \n",
       "2   3     \n",
       "3   8     \n",
       "4   9     \n",
       "5   3     \n",
       "6   3     \n",
       "7  10     \n",
       "8   8     \n",
       "9  21     \n",
       "10  3     \n",
       "11 10     \n",
       "12 29     \n",
       "13 21     "
      ]
     },
     "metadata": {},
     "output_type": "display_data"
    }
   ],
   "source": [
    "disease_toUse_DF"
   ]
  },
  {
   "cell_type": "code",
   "execution_count": 26,
   "id": "0c3b7915-a933-48cb-82d7-20540db42a88",
   "metadata": {},
   "outputs": [],
   "source": [
    "write_delim(x = disease_toUse_DF,file = \"data/disease_toUse_DF.txt\" , delim = \"\\t\")"
   ]
  },
  {
   "cell_type": "code",
   "execution_count": 31,
   "id": "13885508-61a9-4256-9cd5-9d5773026831",
   "metadata": {},
   "outputs": [
    {
     "data": {
      "text/html": [
       "<style>\n",
       ".list-inline {list-style: none; margin:0; padding: 0}\n",
       ".list-inline>li {display: inline-block}\n",
       ".list-inline>li:not(:last-child)::after {content: \"\\00b7\"; padding: 0 .5ex}\n",
       "</style>\n",
       "<ol class=list-inline><li>13</li><li>5</li></ol>\n"
      ],
      "text/latex": [
       "\\begin{enumerate*}\n",
       "\\item 13\n",
       "\\item 5\n",
       "\\end{enumerate*}\n"
      ],
      "text/markdown": [
       "1. 13\n",
       "2. 5\n",
       "\n",
       "\n"
      ],
      "text/plain": [
       "[1] 13  5"
      ]
     },
     "metadata": {},
     "output_type": "display_data"
    }
   ],
   "source": [
    "dim(disease_toUse_DF)"
   ]
  },
  {
   "cell_type": "code",
   "execution_count": null,
   "id": "335c6bc6-457a-4392-a52f-175ca1b27062",
   "metadata": {},
   "outputs": [],
   "source": [
    "genesets_DF = genesets_DF %>% rbind(disease_toUse_DF)"
   ]
  },
  {
   "cell_type": "code",
   "execution_count": 27,
   "id": "534f0d7b-79c7-42d6-82f2-319914e5ba16",
   "metadata": {},
   "outputs": [
    {
     "data": {
      "text/html": [
       "<style>\n",
       ".list-inline {list-style: none; margin:0; padding: 0}\n",
       ".list-inline>li {display: inline-block}\n",
       ".list-inline>li:not(:last-child)::after {content: \"\\00b7\"; padding: 0 .5ex}\n",
       "</style>\n",
       "<ol class=list-inline><li>13</li><li>5</li></ol>\n"
      ],
      "text/latex": [
       "\\begin{enumerate*}\n",
       "\\item 13\n",
       "\\item 5\n",
       "\\end{enumerate*}\n"
      ],
      "text/markdown": [
       "1. 13\n",
       "2. 5\n",
       "\n",
       "\n"
      ],
      "text/plain": [
       "[1] 13  5"
      ]
     },
     "metadata": {},
     "output_type": "display_data"
    }
   ],
   "source": [
    "dim(disease_toUse_DF)"
   ]
  },
  {
   "cell_type": "code",
   "execution_count": 25,
   "id": "2533f5a5-fc5e-42ff-8517-0193b5cb1d3b",
   "metadata": {},
   "outputs": [
    {
     "data": {
      "text/html": [
       "<style>\n",
       ".list-inline {list-style: none; margin:0; padding: 0}\n",
       ".list-inline>li {display: inline-block}\n",
       ".list-inline>li:not(:last-child)::after {content: \"\\00b7\"; padding: 0 .5ex}\n",
       "</style>\n",
       "<ol class=list-inline><li>0</li><li>5</li></ol>\n"
      ],
      "text/latex": [
       "\\begin{enumerate*}\n",
       "\\item 0\n",
       "\\item 5\n",
       "\\end{enumerate*}\n"
      ],
      "text/markdown": [
       "1. 0\n",
       "2. 5\n",
       "\n",
       "\n"
      ],
      "text/plain": [
       "[1] 0 5"
      ]
     },
     "metadata": {},
     "output_type": "display_data"
    }
   ],
   "source": [
    "dim(genesets_DF)"
   ]
  },
  {
   "cell_type": "code",
   "execution_count": null,
   "id": "a8436818-01c0-485b-92d5-fbf5518af3be",
   "metadata": {},
   "outputs": [],
   "source": [
    "write_delim(x = genesets_DF,file = \"data/omics.txt\" , delim = \"\\t\")"
   ]
  },
  {
   "cell_type": "markdown",
   "id": "d5c40a1a-3a62-4127-a920-bc40ed7052db",
   "metadata": {},
   "source": [
    "## Fixing disease names"
   ]
  },
  {
   "cell_type": "code",
   "execution_count": null,
   "id": "7e79b486-f731-4210-b974-05d3839210cc",
   "metadata": {},
   "outputs": [],
   "source": [
    "genesets_fixed_DF  = read_delim(file = \"data/omics.txt\" , delim = \"\\t\")"
   ]
  },
  {
   "cell_type": "code",
   "execution_count": null,
   "id": "efe9a3ac-fc0c-448d-843a-93ca85de5eef",
   "metadata": {},
   "outputs": [],
   "source": [
    "genesets_fixed_DF = genesets_fixed_DF %>%\n",
    "rowwise() %>%\n",
    "mutate(GeneSetName = ifelse(Source == \"Disease\", diseaseId_All_list_names[GeneSetID], GeneSetName))"
   ]
  },
  {
   "cell_type": "code",
   "execution_count": null,
   "id": "68b98b16-520d-4764-ab60-ac51bf5727d0",
   "metadata": {},
   "outputs": [],
   "source": [
    "write_delim(x = genesets_fixed_DF,file = \"data/omics.txt\" , delim = \"\\t\")"
   ]
  },
  {
   "cell_type": "code",
   "execution_count": null,
   "id": "6d5fcb51-1608-4ec6-87ec-8b1b3c1bb455",
   "metadata": {},
   "outputs": [],
   "source": []
  },
  {
   "cell_type": "code",
   "execution_count": null,
   "id": "c6d45936-c367-40f7-be14-dc6d24f07ffe",
   "metadata": {},
   "outputs": [],
   "source": [
    "genesets_LLM_fixed_DF  = read_delim(file = \"data/omics_LLM_DF.tsv\" , delim = \"\\t\")"
   ]
  },
  {
   "cell_type": "code",
   "execution_count": null,
   "id": "7f287ecc-880e-49b3-92b7-cf448dcc5a4e",
   "metadata": {},
   "outputs": [],
   "source": [
    "genesets_LLM_fixed_DF = genesets_LLM_fixed_DF %>%\n",
    "rowwise() %>%\n",
    "mutate(GeneSetName = ifelse(Source == \"Disease\", diseaseId_All_list_names[GeneSetID], GeneSetName))"
   ]
  },
  {
   "cell_type": "code",
   "execution_count": null,
   "id": "3460f08a-5c13-4410-90bc-ef1de6aa1aba",
   "metadata": {},
   "outputs": [],
   "source": [
    "write_delim(x = genesets_LLM_fixed_DF,file = \"data/omics_LLM_DF.tsv\" , delim = \"\\t\")"
   ]
  },
  {
   "cell_type": "code",
   "execution_count": null,
   "id": "fc91d644-31d7-453d-ae86-f48b29ad2f75",
   "metadata": {},
   "outputs": [],
   "source": []
  },
  {
   "cell_type": "code",
   "execution_count": null,
   "id": "39546409-7385-44a7-941a-bb4862bfbcbf",
   "metadata": {},
   "outputs": [],
   "source": []
  },
  {
   "cell_type": "markdown",
   "id": "2f1576b8-864f-40fd-9913-de02b959e1a9",
   "metadata": {},
   "source": [
    "### Add additional disease gene sets that are from animal models"
   ]
  },
  {
   "cell_type": "code",
   "execution_count": null,
   "id": "cf74820f-b6f8-4d90-9639-69e26006bb28",
   "metadata": {},
   "outputs": [],
   "source": []
  }
 ],
 "metadata": {
  "kernelspec": {
   "display_name": "R",
   "language": "R",
   "name": "ir"
  },
  "language_info": {
   "codemirror_mode": "r",
   "file_extension": ".r",
   "mimetype": "text/x-r-source",
   "name": "R",
   "pygments_lexer": "r",
   "version": "4.3.2"
  }
 },
 "nbformat": 4,
 "nbformat_minor": 5
}

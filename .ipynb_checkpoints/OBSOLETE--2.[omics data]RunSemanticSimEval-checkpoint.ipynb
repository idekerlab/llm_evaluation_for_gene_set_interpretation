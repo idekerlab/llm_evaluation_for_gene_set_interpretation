{
 "cells": [
  {
   "cell_type": "markdown",
   "id": "868ff655-a99c-4ca3-a155-879408026cb6",
   "metadata": {},
   "source": [
    "This notebook takes in a table of GO term, LLM name, and human curated name and obtains a the semantic sentence similarity between each pair\n"
   ]
  },
  {
   "cell_type": "code",
   "execution_count": 1,
   "id": "349f771e-85d4-46d8-bb0d-e52d714ca0be",
   "metadata": {},
   "outputs": [],
   "source": [
    "from transformers import AutoTokenizer, AutoModel\n",
    "from semanticSimFunctions import getSentenceEmbedding, getSentenceSimilarity, getNameSimilarities"
   ]
  },
  {
   "cell_type": "code",
   "execution_count": 2,
   "id": "85b50445-bb50-4468-a17d-2a921a377adb",
   "metadata": {},
   "outputs": [],
   "source": [
    "SapBERT_tokenizer = AutoTokenizer.from_pretrained('cambridgeltl/SapBERT-from-PubMedBERT-fulltext')\n",
    "SapBERT_model = AutoModel.from_pretrained('cambridgeltl/SapBERT-from-PubMedBERT-fulltext')"
   ]
  },
  {
   "cell_type": "code",
   "execution_count": 3,
   "id": "476cd121-98be-40fe-b9ea-fe6ac946a694",
   "metadata": {},
   "outputs": [],
   "source": [
    "import pandas as pd"
   ]
  },
  {
   "cell_type": "code",
   "execution_count": 17,
   "id": "5515ca27-dd01-49c2-b411-11f3caa216ff",
   "metadata": {},
   "outputs": [],
   "source": [
    "import numpy as np"
   ]
  },
  {
   "cell_type": "code",
   "execution_count": 4,
   "id": "b7f2206c-5a53-4647-99a3-f69bad75605d",
   "metadata": {},
   "outputs": [],
   "source": [
    "inputFile = 'data/omics_LLM_Enrichr_reduced_DF.tsv' "
   ]
  },
  {
   "cell_type": "code",
   "execution_count": 5,
   "id": "98bb6798-e581-49cf-a290-6d0a4c56df5d",
   "metadata": {
    "tags": []
   },
   "outputs": [],
   "source": [
    "reduced_LLM_genes_DF = pd.read_csv(inputFile, sep = \"\\t\") "
   ]
  },
  {
   "cell_type": "code",
   "execution_count": 6,
   "id": "20588b21-5c14-42b5-a891-72a0c3cb5fd9",
   "metadata": {
    "tags": []
   },
   "outputs": [
    {
     "data": {
      "text/plain": [
       "(250, 17)"
      ]
     },
     "execution_count": 6,
     "metadata": {},
     "output_type": "execute_result"
    }
   ],
   "source": [
    "reduced_LLM_genes_DF.shape"
   ]
  },
  {
   "cell_type": "code",
   "execution_count": 8,
   "id": "9a418a1f-65b4-442f-97f6-a021dc36e9b0",
   "metadata": {},
   "outputs": [
    {
     "data": {
      "text/plain": [
       "Index(['index', 'Source', 'GeneSetID', 'GeneSetName', 'GeneList', 'n_Genes',\n",
       "       'LLM Name', 'LLM Analysis', 'Score', 'Rank', 'Overlap', 'P-value',\n",
       "       'Adjusted P-value', 'Genes', 'GO term', 'GO ID', 'OriginalIndex'],\n",
       "      dtype='object')"
      ]
     },
     "execution_count": 8,
     "metadata": {},
     "output_type": "execute_result"
    }
   ],
   "source": [
    "reduced_LLM_genes_DF.columns"
   ]
  },
  {
   "cell_type": "code",
   "execution_count": 9,
   "id": "2791b50a-20f9-4788-bc9a-012810685ada",
   "metadata": {},
   "outputs": [],
   "source": [
    "humanNameCol = 'GeneSetName'"
   ]
  },
  {
   "cell_type": "code",
   "execution_count": 18,
   "id": "a34213bb-e612-4b3f-bfb5-36226719984b",
   "metadata": {},
   "outputs": [],
   "source": [
    "reduced_LLM_genes_DF['GO term'] = reduced_LLM_genes_DF['GO term'].replace(np.nan, 'NaN')\n"
   ]
  },
  {
   "cell_type": "code",
   "execution_count": 19,
   "id": "3c5396d9-32e9-4340-b2d4-5a52a3b3ad8e",
   "metadata": {
    "collapsed": true,
    "jupyter": {
     "outputs_hidden": true
    },
    "tags": []
   },
   "outputs": [
    {
     "name": "stdout",
     "output_type": "stream",
     "text": [
      "0\n",
      "1\n",
      "2\n",
      "3\n",
      "4\n",
      "5\n",
      "6\n",
      "7\n",
      "8\n",
      "9\n",
      "10\n",
      "11\n",
      "12\n",
      "13\n",
      "14\n",
      "15\n",
      "16\n",
      "17\n",
      "18\n",
      "19\n",
      "20\n",
      "21\n",
      "22\n",
      "23\n",
      "24\n",
      "25\n",
      "26\n",
      "27\n",
      "28\n",
      "29\n",
      "30\n",
      "31\n",
      "32\n",
      "33\n",
      "34\n",
      "35\n",
      "36\n",
      "37\n",
      "38\n",
      "39\n",
      "40\n",
      "41\n",
      "42\n",
      "43\n",
      "44\n",
      "45\n",
      "46\n",
      "47\n",
      "48\n",
      "49\n",
      "50\n",
      "51\n",
      "52\n",
      "53\n",
      "54\n",
      "55\n",
      "56\n",
      "57\n",
      "58\n",
      "59\n",
      "60\n",
      "61\n",
      "62\n",
      "63\n",
      "64\n",
      "65\n",
      "66\n",
      "67\n",
      "68\n",
      "69\n",
      "70\n",
      "71\n",
      "72\n",
      "73\n",
      "74\n",
      "75\n",
      "76\n",
      "77\n",
      "78\n",
      "79\n",
      "80\n",
      "81\n",
      "82\n",
      "83\n",
      "84\n",
      "85\n",
      "86\n",
      "87\n",
      "88\n",
      "89\n",
      "90\n",
      "91\n",
      "92\n",
      "93\n",
      "94\n",
      "95\n",
      "96\n",
      "97\n",
      "98\n",
      "99\n",
      "100\n",
      "101\n",
      "102\n",
      "103\n",
      "104\n",
      "105\n",
      "106\n",
      "107\n",
      "108\n",
      "109\n",
      "110\n",
      "111\n",
      "112\n",
      "113\n",
      "114\n",
      "115\n",
      "116\n",
      "117\n",
      "118\n",
      "119\n",
      "120\n",
      "121\n",
      "122\n",
      "123\n",
      "124\n",
      "125\n",
      "126\n",
      "127\n",
      "128\n",
      "129\n",
      "130\n",
      "131\n",
      "132\n",
      "133\n",
      "134\n",
      "135\n",
      "136\n",
      "137\n",
      "138\n",
      "139\n",
      "140\n",
      "141\n",
      "142\n",
      "143\n",
      "144\n",
      "145\n",
      "146\n",
      "147\n",
      "148\n",
      "149\n",
      "150\n",
      "151\n",
      "152\n",
      "153\n",
      "154\n",
      "155\n",
      "156\n",
      "157\n",
      "158\n",
      "159\n",
      "160\n",
      "161\n",
      "162\n",
      "163\n",
      "164\n",
      "165\n",
      "166\n",
      "167\n",
      "168\n",
      "169\n",
      "170\n",
      "171\n",
      "172\n",
      "173\n",
      "174\n",
      "175\n",
      "176\n",
      "177\n",
      "178\n",
      "179\n",
      "180\n",
      "181\n",
      "182\n",
      "183\n",
      "184\n",
      "185\n",
      "186\n",
      "187\n",
      "188\n",
      "189\n",
      "190\n",
      "191\n",
      "192\n",
      "193\n",
      "194\n",
      "195\n",
      "196\n",
      "197\n",
      "198\n",
      "199\n",
      "200\n",
      "201\n",
      "202\n",
      "203\n",
      "204\n",
      "205\n",
      "206\n",
      "207\n",
      "208\n",
      "209\n",
      "210\n",
      "211\n",
      "212\n",
      "213\n",
      "214\n",
      "215\n",
      "216\n",
      "217\n",
      "218\n",
      "219\n",
      "220\n",
      "221\n",
      "222\n",
      "223\n",
      "224\n",
      "225\n",
      "226\n",
      "227\n",
      "228\n",
      "229\n",
      "230\n",
      "231\n",
      "232\n",
      "233\n",
      "234\n",
      "235\n",
      "236\n",
      "237\n",
      "238\n",
      "239\n",
      "240\n",
      "241\n",
      "242\n",
      "243\n",
      "244\n",
      "245\n",
      "246\n",
      "247\n",
      "248\n",
      "249\n"
     ]
    }
   ],
   "source": [
    "names_DF = getNameSimilarities(reduced_LLM_genes_DF, 'LLM Name', 'GO term', humanNameCol, SapBERT_tokenizer, SapBERT_model, \"cosine_similarity\")"
   ]
  },
  {
   "cell_type": "code",
   "execution_count": 20,
   "id": "888fbe09-65d8-40c4-b7e5-3efe41bd1955",
   "metadata": {},
   "outputs": [
    {
     "data": {
      "text/plain": [
       "LLM Name       Chromatin Structure and Function\n",
       "GO term                                     NaN\n",
       "GeneSetName                       histone genes\n",
       "Name: 87, dtype: object"
      ]
     },
     "execution_count": 20,
     "metadata": {},
     "output_type": "execute_result"
    }
   ],
   "source": [
    "reduced_LLM_genes_DF.loc[87,['LLM Name', 'GO term', humanNameCol]]"
   ]
  },
  {
   "cell_type": "code",
   "execution_count": 21,
   "id": "b04c2ded-27a4-48f0-bf08-e64385d9b8e0",
   "metadata": {},
   "outputs": [],
   "source": [
    "outputFile = 'data/omics_LLM_Enrichr_simVals_DF.tsv' "
   ]
  },
  {
   "cell_type": "code",
   "execution_count": 25,
   "id": "d8ae376c-0f61-4340-a103-1a929673efe9",
   "metadata": {},
   "outputs": [],
   "source": [
    "names_DF.to_csv(outputFile, sep = \"\\t\")"
   ]
  },
  {
   "cell_type": "markdown",
   "id": "4ce14248-219e-416f-90fe-59338c538eed",
   "metadata": {},
   "source": [
    "## Get performance measure"
   ]
  },
  {
   "cell_type": "code",
   "execution_count": 23,
   "id": "740cd3e5-57df-4a62-b48b-d1c99fc9551f",
   "metadata": {},
   "outputs": [
    {
     "data": {
      "text/plain": [
       "LLM        107\n",
       "Neither     71\n",
       "GO          44\n",
       "Tied        28\n",
       "Name: winner, dtype: int64"
      ]
     },
     "execution_count": 23,
     "metadata": {},
     "output_type": "execute_result"
    }
   ],
   "source": [
    "# What percentage of systems have LLM_name_human_name_sim > GO_term_human_name_sim\n",
    "names_DF.winner.value_counts()"
   ]
  },
  {
   "cell_type": "code",
   "execution_count": 24,
   "id": "147b9ec5-01b9-451f-94e0-984e8386c5cc",
   "metadata": {},
   "outputs": [
    {
     "data": {
      "text/plain": [
       "(250, 20)"
      ]
     },
     "execution_count": 24,
     "metadata": {},
     "output_type": "execute_result"
    }
   ],
   "source": [
    "names_DF.shape"
   ]
  },
  {
   "cell_type": "code",
   "execution_count": null,
   "id": "61b18f66-28a9-4c6f-a975-723189bd501a",
   "metadata": {},
   "outputs": [],
   "source": [
    "93/225"
   ]
  },
  {
   "cell_type": "code",
   "execution_count": null,
   "id": "0490f613-df80-4fda-aabe-09f9b5df66f7",
   "metadata": {},
   "outputs": [],
   "source": [
    "here : start on the reference finder"
   ]
  }
 ],
 "metadata": {
  "kernelspec": {
   "display_name": "llm_go_evaluation",
   "language": "python",
   "name": "llm_go_evaluation"
  },
  "language_info": {
   "codemirror_mode": {
    "name": "ipython",
    "version": 3
   },
   "file_extension": ".py",
   "mimetype": "text/x-python",
   "name": "python",
   "nbconvert_exporter": "python",
   "pygments_lexer": "ipython3",
   "version": "3.11.3"
  }
 },
 "nbformat": 4,
 "nbformat_minor": 5
}

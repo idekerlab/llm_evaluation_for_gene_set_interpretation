{
 "cells": [
  {
   "cell_type": "markdown",
   "id": "1eda43d1-3b3b-4b95-97dc-dcc3adbd8421",
   "metadata": {},
   "source": [
    "Split the MSigDB .json file into multiple .yaml files for each gene set"
   ]
  },
  {
   "cell_type": "code",
   "execution_count": 1,
   "id": "7715c425-ea4c-4b83-b4ef-2c5544adaf4a",
   "metadata": {},
   "outputs": [],
   "source": [
    "import json\n",
    "import os\n",
    "import yaml"
   ]
  },
  {
   "cell_type": "code",
   "execution_count": 6,
   "id": "8851c901-db4c-46d7-b578-d0e010a631a5",
   "metadata": {},
   "outputs": [],
   "source": [
    "if not os.path.exists(\"data/human_geneSets\"):\n",
    "    os.mkdir(\"data/human_geneSets\" )"
   ]
  },
  {
   "cell_type": "code",
   "execution_count": null,
   "id": "79a0dace-ab10-4aa2-b9bd-0a6666838029",
   "metadata": {},
   "outputs": [],
   "source": [
    "# read in the MSigDB .json file\n",
    "MSigDB_Dict = json.load(open(\"data/h.all.v2023.1.Hs.json\"))"
   ]
  },
  {
   "cell_type": "code",
   "execution_count": null,
   "id": "6fb6b1b5-abb9-4e80-8888-3f4ff366b506",
   "metadata": {},
   "outputs": [],
   "source": [
    "MSigDB_geneSets = list(MSigDB_Dict.keys())"
   ]
  },
  {
   "cell_type": "code",
   "execution_count": null,
   "id": "bd1ee1e3-2740-4837-951a-dedb27e06575",
   "metadata": {},
   "outputs": [],
   "source": [
    "# Go through each element in MSigDB_Dict and write\n",
    "for geneSet in MSigDB_geneSets:\n",
    "    \n",
    "    geneList = MSigDB_Dict[geneSet]['geneSymbols']\n",
    "    \n",
    "    geneSetDict = {\"name\": geneSet, 'gene_symbols': geneList}\n",
    "    \n",
    "    yamlFile = open('data/human_geneSets/'+geneSet+'.yaml',\"w\")\n",
    "    yaml.dump(geneSetDict, yamlFile)\n",
    "    yamlFile.close()\n",
    "          \n",
    "    \n"
   ]
  },
  {
   "cell_type": "code",
   "execution_count": null,
   "id": "e34f0acc-069d-4c59-a77c-83116fd0d54e",
   "metadata": {},
   "outputs": [],
   "source": []
  }
 ],
 "metadata": {
  "kernelspec": {
   "display_name": "annotate_hierarchy",
   "language": "python",
   "name": "annotate_hierarchy"
  },
  "language_info": {
   "codemirror_mode": {
    "name": "ipython",
    "version": 3
   },
   "file_extension": ".py",
   "mimetype": "text/x-python",
   "name": "python",
   "nbconvert_exporter": "python",
   "pygments_lexer": "ipython3",
   "version": "3.11.3"
  }
 },
 "nbformat": 4,
 "nbformat_minor": 5
}

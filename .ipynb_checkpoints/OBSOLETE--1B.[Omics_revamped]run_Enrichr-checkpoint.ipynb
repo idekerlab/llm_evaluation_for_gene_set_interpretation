{
 "cells": [
  {
   "cell_type": "raw",
   "id": "c64a0bfd-4de3-44dd-a77c-a72c7b47f645",
   "metadata": {},
   "source": [
    "runs Enrichr for 'omics gene set"
   ]
  },
  {
   "cell_type": "code",
   "execution_count": null,
   "id": "c155029f-b60c-44f3-a7a0-b64253493a2c",
   "metadata": {},
   "outputs": [],
   "source": [
    "# https://gseapy.readthedocs.io/en/latest/gseapy_example.html"
   ]
  },
  {
   "cell_type": "code",
   "execution_count": null,
   "id": "96571de6-823d-4010-9b5c-949615ba060a",
   "metadata": {},
   "outputs": [],
   "source": [
    "%load_ext autoreload\n",
    "%autoreload 2\n",
    "import pandas as pd\n",
    "import gseapy as gp"
   ]
  },
  {
   "cell_type": "code",
   "execution_count": null,
   "id": "5467d3a5-6097-4a81-a0cd-a58b609bf5fb",
   "metadata": {},
   "outputs": [],
   "source": [
    "pd.set_option('display.max_columns', None)"
   ]
  },
  {
   "cell_type": "code",
   "execution_count": null,
   "id": "08f1ef55-04a1-4ba9-9331-34ace90805c1",
   "metadata": {},
   "outputs": [],
   "source": [
    "dbs = gp.get_library_name()\n"
   ]
  },
  {
   "cell_type": "markdown",
   "id": "c4006f12-345b-48b7-8880-4b54e8d9f8b5",
   "metadata": {},
   "source": [
    "## Read in naming file"
   ]
  },
  {
   "cell_type": "code",
   "execution_count": null,
   "id": "7111f86e-d3b5-4424-ab64-926e4a707e5d",
   "metadata": {},
   "outputs": [],
   "source": [
    "inputFile = 'data/omics_revamped_LLM_DF.tsv'"
   ]
  },
  {
   "cell_type": "code",
   "execution_count": null,
   "id": "9bda9e33-1164-4b09-aa44-bb71cee2e30d",
   "metadata": {},
   "outputs": [],
   "source": [
    "outputFile = 'data/omics_test_revamped_LLM_Enrichr_DF.tsv' "
   ]
  },
  {
   "cell_type": "code",
   "execution_count": null,
   "id": "671d9293-4553-4ed4-9799-114961eb5cbf",
   "metadata": {},
   "outputs": [],
   "source": [
    "genesets_LLM = pd.read_csv(inputFile, sep = \"\\t\") "
   ]
  },
  {
   "cell_type": "code",
   "execution_count": null,
   "id": "b0a289a3-3eb3-44db-b8d4-b4bdd281d136",
   "metadata": {
    "tags": []
   },
   "outputs": [],
   "source": [
    "# genesets_LLM.GeneSetID.unique()"
   ]
  },
  {
   "cell_type": "code",
   "execution_count": null,
   "id": "6f4be3c8-0fdc-4b59-895b-d1016ba7db52",
   "metadata": {},
   "outputs": [],
   "source": [
    "# Remove \"HALLMARK_\" prefix for MSigDB gene sets\n",
    "genesets_LLM['GeneSetName'] = genesets_LLM['GeneSetName'].str.removeprefix(\"HALLMARK_\").str.replace('_', ' ')\n"
   ]
  },
  {
   "cell_type": "code",
   "execution_count": null,
   "id": "81f8bf60-6404-49e6-85d0-b92122add457",
   "metadata": {},
   "outputs": [],
   "source": [
    "genesets_LLM.columns"
   ]
  },
  {
   "cell_type": "code",
   "execution_count": null,
   "id": "c5663eb2-4ebe-45ef-8d58-bbf155d8a9e8",
   "metadata": {},
   "outputs": [],
   "source": [
    "columnsToKeep = ['Source', 'GeneSetID', 'GeneSetName', 'GeneList', 'n_Genes', 'LLM Name',\n",
    "       'LLM Analysis', 'Score']\n",
    "geneSeparator = \" \""
   ]
  },
  {
   "cell_type": "code",
   "execution_count": null,
   "id": "44cbc132-9812-4652-a2d4-ad2c313fcfeb",
   "metadata": {},
   "outputs": [],
   "source": [
    "LLM_DF = genesets_LLM"
   ]
  },
  {
   "cell_type": "code",
   "execution_count": null,
   "id": "aaaf87a1-171f-4b94-a7f1-70a75b3cea17",
   "metadata": {},
   "outputs": [],
   "source": [
    "nGeneSets = LLM_DF.shape[0]"
   ]
  },
  {
   "cell_type": "code",
   "execution_count": null,
   "id": "952674b2-20ec-4231-860b-dfd713dad935",
   "metadata": {},
   "outputs": [],
   "source": [
    "nGeneSets"
   ]
  },
  {
   "cell_type": "code",
   "execution_count": null,
   "id": "75409c4f-0bfd-48de-afc1-292a0fce9da1",
   "metadata": {},
   "outputs": [],
   "source": [
    "LLM_repeated_DF = LLM_DF[LLM_DF[['Source', 'GeneSetID', 'GeneSetName', 'GeneList']].duplicated() == True]\n"
   ]
  },
  {
   "cell_type": "code",
   "execution_count": null,
   "id": "54a6e2b2-9aa1-4aae-bba3-e1cae87c5f16",
   "metadata": {
    "tags": []
   },
   "outputs": [],
   "source": [
    "LLM_DF.shape"
   ]
  },
  {
   "cell_type": "markdown",
   "id": "f66485e2-8b7e-4feb-b638-d5c893b92f46",
   "metadata": {
    "tags": []
   },
   "source": [
    "## Go through each system and run Enrichr "
   ]
  },
  {
   "cell_type": "code",
   "execution_count": null,
   "id": "ea2d86be-1de9-4019-8e4f-a5269a4b851f",
   "metadata": {},
   "outputs": [],
   "source": [
    "# Each system will have multiple rows"
   ]
  },
  {
   "cell_type": "code",
   "execution_count": null,
   "id": "4536e230-bab3-433d-a0d1-33969a9d4e3e",
   "metadata": {},
   "outputs": [],
   "source": [
    "additionalCols = ['Rank', 'Overlap', 'P-value', 'Adjusted P-value', 'Genes', 'GO term', 'GO ID' ]"
   ]
  },
  {
   "cell_type": "code",
   "execution_count": null,
   "id": "f8897f4d-be79-401d-826c-63173909dba9",
   "metadata": {},
   "outputs": [],
   "source": [
    "expandedColumnsToKeep =columnsToKeep;\n",
    "expandedColumnsToKeep.extend(additionalCols)"
   ]
  },
  {
   "cell_type": "code",
   "execution_count": null,
   "id": "63805a5e-982a-4ff4-8011-1cec7684452f",
   "metadata": {},
   "outputs": [],
   "source": [
    "expanded_LLM_genes_DF = pd.DataFrame(columns=expandedColumnsToKeep)"
   ]
  },
  {
   "cell_type": "code",
   "execution_count": null,
   "id": "1bcc2bdc-42f9-44fa-bca3-9c39076e1c8f",
   "metadata": {},
   "outputs": [],
   "source": [
    "genesCol = 'GeneList'"
   ]
  },
  {
   "cell_type": "code",
   "execution_count": null,
   "id": "08174844-a012-4bf1-8643-f0a9bf9b7456",
   "metadata": {
    "tags": []
   },
   "outputs": [],
   "source": [
    "?gp.enrichr"
   ]
  },
  {
   "cell_type": "code",
   "execution_count": null,
   "id": "9368f41a-5b50-461a-8f2d-10214e61d92f",
   "metadata": {
    "tags": []
   },
   "outputs": [],
   "source": [
    "for geneSetInd in range(nGeneSets):\n",
    "    print(geneSetInd)\n",
    "    geneSetRow = LLM_DF.iloc[geneSetInd]\n",
    "    geneSetGenes = geneSetRow[genesCol].split(geneSeparator)\n",
    "\n",
    "    # Perform enrichment analysis\n",
    "    enr = gp.enrichr(gene_list=geneSetGenes, # or \"./tests/data/gene_list.txt\",\n",
    "                 gene_sets=['GO_Biological_Process_2023'],\n",
    "                 organism='human', # don't forget to set organism to the one you desired! e.g. Yeast\n",
    "                 outdir=None, # don't write to disk\n",
    "                )\n",
    "    \n",
    "    # threshold\n",
    "    # sigRes_DF =  enr.results.loc[enr.results['Adjusted P-value'] <=0.1]\n",
    "    sigRes_DF = enr.results # remove thresholding, because want a name for each one\n",
    "    sigRes_DF = sigRes_DF.sort_values('Adjusted P-value')\n",
    "    if sigRes_DF.shape[0] == 0:\n",
    "        \n",
    "        print([geneSetInd, ' has not enirchment'])\n",
    "        #continue # skip to next gene set\n",
    "        sigRes_DF.loc[0, ['GO term', 'GO ID', 'nothing']] = 'NaN'\n",
    "        sigRes_DF.loc[0, ['Rank']]  = 1\n",
    "        sigRes_DF.loc[0, ['Overlap']]  = 0\n",
    "        sigRes_DF.loc[0, ['P-value']]  = 1\n",
    "        sigRes_DF.loc[0, ['Adjusted P-value']]  = 1\n",
    "        sigRes_DF.loc[0, ['Genes']]  = ''\n",
    "        \n",
    "    else:\n",
    "        expandedCols = sigRes_DF[\"Term\"].str.split('(', expand = True)\n",
    "        \n",
    "        if expandedCols.shape[1] == 3:\n",
    "            sigRes_DF[['GO term', 'GO ID', 'nothing']] = expandedCols\n",
    "        else: # ==2\n",
    "            sigRes_DF[['GO term', 'GO ID']] = expandedCols\n",
    "\n",
    "        sigRes_DF[['GO ID', 'nothing']] = sigRes_DF[\"GO ID\"].str.split(')', expand = True)\n",
    "\n",
    "        # Get ranking of enriched GO terms\n",
    "        sigRes_DF['Rank'] = sigRes_DF.reset_index().index\n",
    "\n",
    "    \n",
    "    # Doing what should be a simple colbind \n",
    "    geneSetRow_DF = geneSetRow.to_frame().T\n",
    "    geneSetRow_repeated_DF = geneSetRow_DF.loc[geneSetRow_DF.index.repeat(sigRes_DF.shape[0])]\n",
    "    geneSetRow_repeated_DF = geneSetRow_repeated_DF.reset_index()\n",
    "    \n",
    "    # system_Row_sigRes = systemRow_repeated_DF.join(sigRes_DF)\n",
    "    geneSetRowRow_sigRes = pd.concat([geneSetRow_repeated_DF, sigRes_DF],axis=1)\n",
    "    \n",
    "    # Doing what should be a simple  rowbind\n",
    "    if expanded_LLM_genes_DF.shape[0] == 0:\n",
    "        expanded_LLM_genes_DF = geneSetRowRow_sigRes[expandedColumnsToKeep]\n",
    "    else:\n",
    "        expanded_LLM_genes_DF =  pd.concat([expanded_LLM_genes_DF, geneSetRowRow_sigRes[expandedColumnsToKeep]],axis=0)\n",
    "    \n",
    "    if (geneSetInd%10 == 1):\n",
    "        expanded_LLM_genes_DF.to_csv(outputFile, sep = \"\\t\") # Save to not loose work"
   ]
  },
  {
   "cell_type": "code",
   "execution_count": null,
   "id": "191f0505-f379-4bd5-8198-b37de839d12d",
   "metadata": {},
   "outputs": [],
   "source": []
  },
  {
   "cell_type": "code",
   "execution_count": null,
   "id": "0390f34d-f3c1-4957-a556-7c7c4525d616",
   "metadata": {},
   "outputs": [],
   "source": [
    "expanded_LLM_genes_DF.to_csv(outputFile, sep = \"\\t\") # Too large "
   ]
  },
  {
   "cell_type": "code",
   "execution_count": null,
   "id": "207bcd68-2cfd-4c8c-a4e2-6199a6b4cd12",
   "metadata": {},
   "outputs": [],
   "source": [
    "expanded_LLM_genes_DF.shape"
   ]
  },
  {
   "cell_type": "code",
   "execution_count": null,
   "id": "f7868462-e893-482d-9527-fe98e39346c0",
   "metadata": {},
   "outputs": [],
   "source": [
    "expanded_LLM_genes_copy_DF = expanded_LLM_genes_DF;"
   ]
  },
  {
   "cell_type": "code",
   "execution_count": null,
   "id": "2f8651a1-e604-4ff6-bc89-2188e46a2ee4",
   "metadata": {},
   "outputs": [],
   "source": [
    "def select_min_rows(df, group_vars, min_var):\n",
    "    # Convert the target column to numeric, non-numeric values become NaN\n",
    "    df[min_var] = pd.to_numeric(df[min_var], errors='coerce')\n",
    "\n",
    "    # Reset index of the DataFrame\n",
    "    df_reset = df.reset_index()\n",
    "\n",
    "    # Get the indices of the minimum values in the grouped DataFrame\n",
    "    min_indices = df_reset.groupby(group_vars)[min_var].idxmin()\n",
    "\n",
    "    # Use these indices to select rows from the reset DataFrame\n",
    "    return df_reset.loc[min_indices].set_index('index')"
   ]
  },
  {
   "cell_type": "code",
   "execution_count": null,
   "id": "f5661b7c-6fa4-4d06-a047-fdef347b5f09",
   "metadata": {
    "tags": []
   },
   "outputs": [],
   "source": [
    "reduced_LLM_genes_DF = select_min_rows(expanded_LLM_genes_copy_DF, ['Source', 'GeneSetID', 'GeneSetName', 'GeneList'], 'Adjusted P-value')"
   ]
  },
  {
   "cell_type": "code",
   "execution_count": null,
   "id": "6aff59bc-1edc-4090-8c38-b52be195dac6",
   "metadata": {},
   "outputs": [],
   "source": [
    "reduced_LLM_genes_DF.shape"
   ]
  },
  {
   "cell_type": "code",
   "execution_count": null,
   "id": "b93deb58-09c2-4f2e-b123-330c9fa4bbdb",
   "metadata": {},
   "outputs": [],
   "source": []
  },
  {
   "cell_type": "code",
   "execution_count": null,
   "id": "378a746c-44f2-4f6d-885a-4e704251a0e7",
   "metadata": {},
   "outputs": [],
   "source": [
    "reduced_LLM_genes_DF.to_csv('data/omics_test_revamped_LLM_Enrichr_reduced_DF.tsv' , sep = \"\\t\")"
   ]
  },
  {
   "cell_type": "code",
   "execution_count": null,
   "id": "6baac4ca-be7e-405c-ad71-21352906dfe7",
   "metadata": {},
   "outputs": [],
   "source": [
    "set(LLM_DF.GeneSetID.to_list()).difference(set(reduced_LLM_genes_DF.GeneSetID.to_list()))"
   ]
  },
  {
   "cell_type": "code",
   "execution_count": null,
   "id": "59d6b599-2906-4d63-935f-6cf364c38840",
   "metadata": {},
   "outputs": [],
   "source": [
    "reduced_LLM_genes_DF[reduced_LLM_genes_DF[['Source', 'GeneSetID', 'GeneSetName', 'GeneList']].duplicated() == True]\n"
   ]
  },
  {
   "cell_type": "code",
   "execution_count": null,
   "id": "353a7170-61a2-40ef-9dee-c0b20480e930",
   "metadata": {},
   "outputs": [],
   "source": []
  },
  {
   "cell_type": "code",
   "execution_count": null,
   "id": "9c186bb5-db7e-45f7-afda-821153d9fcb7",
   "metadata": {},
   "outputs": [],
   "source": [
    "# reduced_LLM_genes_DF = expanded_LLM_genes_DF.loc[expanded_LLM_genes_DF.reset_index().groupby(['Source', 'GeneSetID', 'GeneSetName', 'GeneList'])['Adjusted P-value'].idxmin()]"
   ]
  },
  {
   "cell_type": "code",
   "execution_count": null,
   "id": "857c2431-b806-4a08-a417-e45edb5658ab",
   "metadata": {
    "tags": []
   },
   "outputs": [],
   "source": [
    "reduced_LLM_genes_DF"
   ]
  },
  {
   "cell_type": "code",
   "execution_count": null,
   "id": "a1567471-ae53-4733-a905-1749aa8805cf",
   "metadata": {},
   "outputs": [],
   "source": []
  }
 ],
 "metadata": {
  "kernelspec": {
   "display_name": "llm_eval",
   "language": "python",
   "name": "llm_eval"
  },
  "language_info": {
   "codemirror_mode": {
    "name": "ipython",
    "version": 3
   },
   "file_extension": ".py",
   "mimetype": "text/x-python",
   "name": "python",
   "nbconvert_exporter": "python",
   "pygments_lexer": "ipython3",
   "version": "3.11.5"
  }
 },
 "nbformat": 4,
 "nbformat_minor": 5
}

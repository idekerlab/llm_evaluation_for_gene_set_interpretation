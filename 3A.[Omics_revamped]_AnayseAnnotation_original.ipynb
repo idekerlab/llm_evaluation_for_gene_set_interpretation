{
 "cells": [
  {
   "cell_type": "code",
   "execution_count": 2,
   "id": "fa27e593-6e05-43b5-af14-5cdcbd477fc7",
   "metadata": {
    "tags": []
   },
   "outputs": [],
   "source": [
    "library(plyr, quietly = TRUE)\n",
    "library(tidyverse, quietly = TRUE)\n",
    "library(ggpubr)"
   ]
  },
  {
   "cell_type": "code",
   "execution_count": 2,
   "id": "ad6b72ff-10d3-4929-ae41-7177f4952a9c",
   "metadata": {},
   "outputs": [],
   "source": [
    "LLM_score_thresh = 0.8\n",
    "enrichr_adj_pval_thresh = 0.05\n",
    "enrichr_JI_thresh = 0.2"
   ]
  },
  {
   "cell_type": "code",
   "execution_count": 3,
   "id": "ca5c0967-332d-4a2a-85c6-a8c93df69014",
   "metadata": {},
   "outputs": [
    {
     "name": "stderr",
     "output_type": "stream",
     "text": [
      "\u001b[1m\u001b[22mNew names:\n",
      "\u001b[36m•\u001b[39m `` -> `...1`\n",
      "\u001b[1mRows: \u001b[22m\u001b[34m11310\u001b[39m \u001b[1mColumns: \u001b[22m\u001b[34m20\u001b[39m\n",
      "\u001b[36m──\u001b[39m \u001b[1mColumn specification\u001b[22m \u001b[36m────────────────────────────────────────────────────────\u001b[39m\n",
      "\u001b[1mDelimiter:\u001b[22m \"\\t\"\n",
      "\u001b[31mchr\u001b[39m (12): Source, GeneSetID, GeneSetName, GeneList, LLM Name, LLM Analysis, ...\n",
      "\u001b[32mdbl\u001b[39m  (8): ...1, Unnamed: 0, n_Genes, Score, Rank, P-value, Adjusted P-value,...\n",
      "\n",
      "\u001b[36mℹ\u001b[39m Use `spec()` to retrieve the full column specification for this data.\n",
      "\u001b[36mℹ\u001b[39m Specify the column types or set `show_col_types = FALSE` to quiet this message.\n"
     ]
    }
   ],
   "source": [
    "LLM_genes_DF = read_delim(file = \"data/omics_revamped_LLM_Enrichr_simVals_DF.tsv\", delim = \"\\t\")"
   ]
  },
  {
   "cell_type": "code",
   "execution_count": 4,
   "id": "de7fa0db-9bd5-4a98-b787-cfcc47c8248b",
   "metadata": {},
   "outputs": [],
   "source": [
    "get_JI = function(GeneList, enrichr_genes){\n",
    "    # assume separation is the same\n",
    "    geneSetGenes = str_split(string = GeneList, pattern = \" \")[[1]]\n",
    "    enrichRGenes = str_split(string = enrichr_genes, pattern = \" \")[[1]]\n",
    "    JI = length(intersect(geneSetGenes, enrichRGenes))/ length(union(geneSetGenes, enrichRGenes))\n",
    "    \n",
    "    return(JI)\n",
    "    }   "
   ]
  },
  {
   "cell_type": "code",
   "execution_count": 5,
   "id": "61077a14-1a29-450f-a3f3-968b63a3806f",
   "metadata": {},
   "outputs": [],
   "source": [
    "LLM_genes_DF = LLM_genes_DF %>%\n",
    "rowwise() %>%\n",
    "mutate(enrichr_JI = get_JI(GeneList, GO_term_genes))"
   ]
  },
  {
   "cell_type": "code",
   "execution_count": 9,
   "id": "ad0f0bad-fe4d-474e-8894-243ecd4a01ed",
   "metadata": {
    "tags": []
   },
   "outputs": [],
   "source": [
    "LLM_genes_reduced_DF = LLM_genes_DF %>%\n",
    "group_by(\"Source\", \"GeneSetID\", \"GeneSetName\")"
   ]
  },
  {
   "cell_type": "code",
   "execution_count": 10,
   "id": "a90881a8-745e-4867-8d24-ddfdbf69626c",
   "metadata": {},
   "outputs": [],
   "source": [
    "reduced_LLM_genes_DF = LLM_genes_DF %>%\n",
    "group_by(Source, GeneSetID, GeneSetName, GeneList) %>%\n",
    "slice(which.max(enrichr_JI))"
   ]
  },
  {
   "cell_type": "code",
   "execution_count": 11,
   "id": "26abcd54-3d54-423b-ae1e-43a538272b32",
   "metadata": {},
   "outputs": [
    {
     "data": {
      "text/html": [
       "<style>\n",
       ".list-inline {list-style: none; margin:0; padding: 0}\n",
       ".list-inline>li {display: inline-block}\n",
       ".list-inline>li:not(:last-child)::after {content: \"\\00b7\"; padding: 0 .5ex}\n",
       "</style>\n",
       "<ol class=list-inline><li>300</li><li>21</li></ol>\n"
      ],
      "text/latex": [
       "\\begin{enumerate*}\n",
       "\\item 300\n",
       "\\item 21\n",
       "\\end{enumerate*}\n"
      ],
      "text/markdown": [
       "1. 300\n",
       "2. 21\n",
       "\n",
       "\n"
      ],
      "text/plain": [
       "[1] 300  21"
      ]
     },
     "metadata": {},
     "output_type": "display_data"
    }
   ],
   "source": [
    "dim(reduced_LLM_genes_DF)"
   ]
  },
  {
   "cell_type": "code",
   "execution_count": 12,
   "id": "37bddf44-5cee-4122-a002-a94cb79cb001",
   "metadata": {},
   "outputs": [],
   "source": [
    "reduced_LLM_genes_DF = reduced_LLM_genes_DF %>%\n",
    "rowwise() %>%\n",
    "mutate(enrichr_JI = get_JI(GeneList, GO_term_genes)) %>%\n",
    "mutate(LLM_success_TF = ifelse(Score < 0.8, FALSE, TRUE),\n",
    "       enrichr_success_TF = ifelse(((`Adjusted P-value` > enrichr_adj_pval_thresh) | (enrichr_JI < enrichr_JI_thresh)), FALSE, TRUE))"
   ]
  },
  {
   "cell_type": "code",
   "execution_count": 16,
   "id": "011933cc-c697-4d8b-a3b4-1dc6a9bd137d",
   "metadata": {},
   "outputs": [],
   "source": [
    "write_delim(x = reduced_LLM_genes_DF, file = \"data/omics_revamped_LLM_Enrichr_simVals_failure_DF.tsv\", delim = \"\\t\")"
   ]
  },
  {
   "cell_type": "code",
   "execution_count": null,
   "id": "26ece7ae-bc33-4f52-a05e-bb9b655c9c78",
   "metadata": {},
   "outputs": [],
   "source": []
  },
  {
   "cell_type": "code",
   "execution_count": 2,
   "id": "fe3511e7-1ab6-4f77-baad-c779155e7cd6",
   "metadata": {},
   "outputs": [
    {
     "name": "stderr",
     "output_type": "stream",
     "text": [
      "\u001b[1mRows: \u001b[22m\u001b[34m300\u001b[39m \u001b[1mColumns: \u001b[22m\u001b[34m23\u001b[39m\n",
      "\u001b[36m──\u001b[39m \u001b[1mColumn specification\u001b[22m \u001b[36m────────────────────────────────────────────────────────\u001b[39m\n",
      "\u001b[1mDelimiter:\u001b[22m \"\\t\"\n",
      "\u001b[31mchr\u001b[39m (12): Source, GeneSetID, GeneSetName, GeneList, LLM Name, LLM Analysis, ...\n",
      "\u001b[32mdbl\u001b[39m  (9): ...1, Unnamed: 0, n_Genes, Score, Rank, P-value, Adjusted P-value,...\n",
      "\u001b[33mlgl\u001b[39m  (2): LLM_success_TF, enrichr_success_TF\n",
      "\n",
      "\u001b[36mℹ\u001b[39m Use `spec()` to retrieve the full column specification for this data.\n",
      "\u001b[36mℹ\u001b[39m Specify the column types or set `show_col_types = FALSE` to quiet this message.\n"
     ]
    }
   ],
   "source": [
    "reduced_LLM_genes_DF = read_delim(file = \"data/omics_revamped_LLM_Enrichr_simVals_failure_DF.tsv\", delim = \"\\t\")"
   ]
  },
  {
   "cell_type": "code",
   "execution_count": 33,
   "id": "86136e20-1647-4d07-b384-9aad2cf5bd8e",
   "metadata": {},
   "outputs": [],
   "source": [
    "reduced_LLM_genes_DF = reduced_LLM_genes_DF %>%\n",
    "mutate(enrichr_adj_pVal = `Adjusted P-value`)"
   ]
  },
  {
   "cell_type": "code",
   "execution_count": null,
   "id": "ba00ce5e",
   "metadata": {},
   "outputs": [],
   "source": [
    "reduced_LLM_genes_DF = LLM_genes_DF %>%\n",
    "group_by(Source, GeneSetID, GeneSetName, GeneList) %>%\n",
    "slice(which.max(enrichr_JI))\n",
    "\n",
    "reduced_LLM_genes_DF = reduced_LLM_genes_DF %>%\n",
    "rowwise() %>%\n",
    "mutate(enrichr_JI = get_JI(GeneList, GO_term_genes)) %>%\n",
    "mutate(LLM_success_TF = ifelse(Score < 0.8, FALSE, TRUE),\n",
    "       enrichr_success_TF = ifelse(((`Adjusted P-value` > enrichr_adj_pval_thresh) | (enrichr_JI < enrichr_JI_thresh)), FALSE, TRUE))"
   ]
  },
  {
   "cell_type": "code",
   "execution_count": 37,
   "id": "eaa28c7a-804f-4408-994f-cad9b04c1f9b",
   "metadata": {},
   "outputs": [
    {
     "data": {
      "text/plain": [
       "              Source\n",
       "LLM_success_TF L1000 NeST Viral_Infections\n",
       "         FALSE    80   46               41\n",
       "         TRUE     46   80                7"
      ]
     },
     "metadata": {},
     "output_type": "display_data"
    }
   ],
   "source": [
    "table(reduced_LLM_genes_DF[,c(\"LLM_success_TF\", \"Source\")])"
   ]
  }
 ],
 "metadata": {
  "kernelspec": {
   "display_name": "base",
   "language": "python",
   "name": "python3"
  },
  "language_info": {
   "codemirror_mode": "r",
   "file_extension": ".r",
   "mimetype": "text/x-r-source",
   "name": "python",
   "pygments_lexer": "r",
   "version": "3.11.7"
  }
 },
 "nbformat": 4,
 "nbformat_minor": 5
}

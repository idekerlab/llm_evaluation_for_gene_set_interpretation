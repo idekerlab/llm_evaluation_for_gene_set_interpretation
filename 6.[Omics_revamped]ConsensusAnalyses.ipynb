{
 "cells": [
  {
   "cell_type": "code",
   "execution_count": 1,
   "id": "d289e0d6-327e-465e-9420-52be0fb498f4",
   "metadata": {
    "tags": [],
    "vscode": {
     "languageId": "r"
    }
   },
   "outputs": [
    {
     "name": "stderr",
     "output_type": "stream",
     "text": [
      "── \u001b[1mAttaching core tidyverse packages\u001b[22m ─────────────────────────────────────────────────── tidyverse 2.0.0 ──\n",
      "\u001b[32m✔\u001b[39m \u001b[34mdplyr    \u001b[39m 1.1.4     \u001b[32m✔\u001b[39m \u001b[34mreadr    \u001b[39m 2.1.5\n",
      "\u001b[32m✔\u001b[39m \u001b[34mforcats  \u001b[39m 1.0.0     \u001b[32m✔\u001b[39m \u001b[34mstringr  \u001b[39m 1.5.1\n",
      "\u001b[32m✔\u001b[39m \u001b[34mggplot2  \u001b[39m 3.4.4     \u001b[32m✔\u001b[39m \u001b[34mtibble   \u001b[39m 3.2.1\n",
      "\u001b[32m✔\u001b[39m \u001b[34mlubridate\u001b[39m 1.9.3     \u001b[32m✔\u001b[39m \u001b[34mtidyr    \u001b[39m 1.3.0\n",
      "\u001b[32m✔\u001b[39m \u001b[34mpurrr    \u001b[39m 1.0.2     \n",
      "── \u001b[1mConflicts\u001b[22m ───────────────────────────────────────────────────────────────────── tidyverse_conflicts() ──\n",
      "\u001b[31m✖\u001b[39m \u001b[34mdplyr\u001b[39m::\u001b[32marrange()\u001b[39m   masks \u001b[34mplyr\u001b[39m::arrange()\n",
      "\u001b[31m✖\u001b[39m \u001b[34mpurrr\u001b[39m::\u001b[32mcompact()\u001b[39m   masks \u001b[34mplyr\u001b[39m::compact()\n",
      "\u001b[31m✖\u001b[39m \u001b[34mdplyr\u001b[39m::\u001b[32mcount()\u001b[39m     masks \u001b[34mplyr\u001b[39m::count()\n",
      "\u001b[31m✖\u001b[39m \u001b[34mdplyr\u001b[39m::\u001b[32mdesc()\u001b[39m      masks \u001b[34mplyr\u001b[39m::desc()\n",
      "\u001b[31m✖\u001b[39m \u001b[34mdplyr\u001b[39m::\u001b[32mfailwith()\u001b[39m  masks \u001b[34mplyr\u001b[39m::failwith()\n",
      "\u001b[31m✖\u001b[39m \u001b[34mdplyr\u001b[39m::\u001b[32mfilter()\u001b[39m    masks \u001b[34mstats\u001b[39m::filter()\n",
      "\u001b[31m✖\u001b[39m \u001b[34mdplyr\u001b[39m::\u001b[32mid()\u001b[39m        masks \u001b[34mplyr\u001b[39m::id()\n",
      "\u001b[31m✖\u001b[39m \u001b[34mdplyr\u001b[39m::\u001b[32mlag()\u001b[39m       masks \u001b[34mstats\u001b[39m::lag()\n",
      "\u001b[31m✖\u001b[39m \u001b[34mdplyr\u001b[39m::\u001b[32mmutate()\u001b[39m    masks \u001b[34mplyr\u001b[39m::mutate()\n",
      "\u001b[31m✖\u001b[39m \u001b[34mdplyr\u001b[39m::\u001b[32mrename()\u001b[39m    masks \u001b[34mplyr\u001b[39m::rename()\n",
      "\u001b[31m✖\u001b[39m \u001b[34mdplyr\u001b[39m::\u001b[32msummarise()\u001b[39m masks \u001b[34mplyr\u001b[39m::summarise()\n",
      "\u001b[31m✖\u001b[39m \u001b[34mdplyr\u001b[39m::\u001b[32msummarize()\u001b[39m masks \u001b[34mplyr\u001b[39m::summarize()\n",
      "\u001b[36mℹ\u001b[39m Use the conflicted package (\u001b[3m\u001b[34m<http://conflicted.r-lib.org/>\u001b[39m\u001b[23m) to force all conflicts to become errors\n"
     ]
    }
   ],
   "source": [
    "library(plyr)\n",
    "library(tidyverse)\n",
    "library(readxl)"
   ]
  },
  {
   "cell_type": "code",
   "execution_count": 2,
   "id": "d1997197-d927-4b57-b5e0-6768425ffa1f",
   "metadata": {},
   "outputs": [],
   "source": [
    "source(\"utils/Task2_helperFunctions.r\")"
   ]
  },
  {
   "cell_type": "code",
   "execution_count": 3,
   "id": "65366a63-4a1b-4faf-972e-daa1f9735ca3",
   "metadata": {},
   "outputs": [
    {
     "data": {
      "text/html": [
       "'/Users/salkhairy/Desktop/projects/llm_evaluation_for_gene_set_interpretation'"
      ],
      "text/latex": [
       "'/Users/salkhairy/Desktop/projects/llm\\_evaluation\\_for\\_gene\\_set\\_interpretation'"
      ],
      "text/markdown": [
       "'/Users/salkhairy/Desktop/projects/llm_evaluation_for_gene_set_interpretation'"
      ],
      "text/plain": [
       "[1] \"/Users/salkhairy/Desktop/projects/llm_evaluation_for_gene_set_interpretation\""
      ]
     },
     "metadata": {},
     "output_type": "display_data"
    }
   ],
   "source": [
    "getwd()"
   ]
  },
  {
   "cell_type": "code",
   "execution_count": 4,
   "id": "126a08b9-4fa5-49cb-9cd9-b4172f0fc0e1",
   "metadata": {},
   "outputs": [],
   "source": [
    "mapToHigher = list(\"LLM\" = \"At least as good\",\n",
    "                   \"Tied\" = \"At least as good\",\n",
    "                   \"GO\" = \"At least as bad\",\n",
    "                   \"Neither\" = \"At least as bad\")"
   ]
  },
  {
   "cell_type": "code",
   "execution_count": 5,
   "id": "40952cc2-6d86-40a0-a135-0d8f599135c3",
   "metadata": {},
   "outputs": [],
   "source": [
    "mapBlinded = list(\"Name B\" = \"LLM\",\n",
    "                  \"Name A\" = \"GO\",\n",
    "                 \"Neither\" = \"Neither\",\n",
    "                 \"Tied\" = \"Tied\")"
   ]
  },
  {
   "cell_type": "markdown",
   "id": "eaeb2552-255b-47c6-9bab-a061d8587df7",
   "metadata": {},
   "source": [
    "### Read in SapBERT determination"
   ]
  },
  {
   "cell_type": "code",
   "execution_count": 6,
   "id": "2bc904b2-0574-41c2-aa25-8a6dba708630",
   "metadata": {},
   "outputs": [
    {
     "name": "stderr",
     "output_type": "stream",
     "text": [
      "\u001b[1mRows: \u001b[22m\u001b[34m250\u001b[39m \u001b[1mColumns: \u001b[22m\u001b[34m28\u001b[39m\n",
      "\u001b[36m──\u001b[39m \u001b[1mColumn specification\u001b[22m \u001b[36m───────────────────────────────────────────────────────────────────────────────────\u001b[39m\n",
      "\u001b[1mDelimiter:\u001b[22m \"\\t\"\n",
      "\u001b[31mchr\u001b[39m (11): Source, GeneSetID, GeneSetName, GeneList, LLM Name, LLM Analysis, ...\n",
      "\u001b[32mdbl\u001b[39m (17): ...1, index, n_Genes, Score, Rank, P-value, Adjusted P-value, Orig...\n",
      "\n",
      "\u001b[36mℹ\u001b[39m Use `spec()` to retrieve the full column specification for this data.\n",
      "\u001b[36mℹ\u001b[39m Specify the column types or set `show_col_types = FALSE` to quiet this message.\n"
     ]
    }
   ],
   "source": [
    "sapbert_DF = read_delim(file = \"data/omics_LLM_Enrichr_simVals_analyses_DF.tsv\", delim = \"\\t\")"
   ]
  },
  {
   "cell_type": "markdown",
   "id": "e5d552eb-7fc4-450f-8f3c-b6c1e1b67c94",
   "metadata": {},
   "source": [
    "### Read in consensus analyses"
   ]
  },
  {
   "cell_type": "code",
   "execution_count": 7,
   "id": "6c4e82f5-0a05-4f04-a4bf-cac509072e86",
   "metadata": {},
   "outputs": [],
   "source": [
    "human_consensus_DF = read_xlsx(path = \"data/Omics - blinded study.xlsx\", sheet =  \"Merged\")"
   ]
  },
  {
   "cell_type": "code",
   "execution_count": 8,
   "id": "76bab5f9-7453-49c2-beb9-a1760c81d803",
   "metadata": {},
   "outputs": [
    {
     "data": {
      "text/html": [
       "<style>\n",
       ".list-inline {list-style: none; margin:0; padding: 0}\n",
       ".list-inline>li {display: inline-block}\n",
       ".list-inline>li:not(:last-child)::after {content: \"\\00b7\"; padding: 0 .5ex}\n",
       "</style>\n",
       "<ol class=list-inline><li>'Source'</li><li>'GeneSetID'</li><li>'GeneSetName'</li><li>'n_Genes'</li><li>'GeneList'</li><li>'Name A'</li><li>'Name B'</li><li>'Winner_human1'</li><li>'Winner_human2'</li><li>'Winner_human3'</li><li>'OverridingDecision'</li></ol>\n"
      ],
      "text/latex": [
       "\\begin{enumerate*}\n",
       "\\item 'Source'\n",
       "\\item 'GeneSetID'\n",
       "\\item 'GeneSetName'\n",
       "\\item 'n\\_Genes'\n",
       "\\item 'GeneList'\n",
       "\\item 'Name A'\n",
       "\\item 'Name B'\n",
       "\\item 'Winner\\_human1'\n",
       "\\item 'Winner\\_human2'\n",
       "\\item 'Winner\\_human3'\n",
       "\\item 'OverridingDecision'\n",
       "\\end{enumerate*}\n"
      ],
      "text/markdown": [
       "1. 'Source'\n",
       "2. 'GeneSetID'\n",
       "3. 'GeneSetName'\n",
       "4. 'n_Genes'\n",
       "5. 'GeneList'\n",
       "6. 'Name A'\n",
       "7. 'Name B'\n",
       "8. 'Winner_human1'\n",
       "9. 'Winner_human2'\n",
       "10. 'Winner_human3'\n",
       "11. 'OverridingDecision'\n",
       "\n",
       "\n"
      ],
      "text/plain": [
       " [1] \"Source\"             \"GeneSetID\"          \"GeneSetName\"       \n",
       " [4] \"n_Genes\"            \"GeneList\"           \"Name A\"            \n",
       " [7] \"Name B\"             \"Winner_human1\"      \"Winner_human2\"     \n",
       "[10] \"Winner_human3\"      \"OverridingDecision\""
      ]
     },
     "metadata": {},
     "output_type": "display_data"
    }
   ],
   "source": [
    "colnames(human_consensus_DF)"
   ]
  },
  {
   "cell_type": "markdown",
   "id": "0673d984-2d14-4f83-96a9-9beac23334b3",
   "metadata": {},
   "source": [
    "### Merge and analyse consensus"
   ]
  },
  {
   "cell_type": "code",
   "execution_count": 9,
   "id": "af682b72-9e5c-4994-aa27-21c00a2d4003",
   "metadata": {},
   "outputs": [],
   "source": [
    "merged_DF = inner_join(x = sapbert_DF, y = human_consensus_DF, by = c(\"Source\", \"GeneSetID\", \"GeneSetName\", \"GeneList\"))"
   ]
  },
  {
   "cell_type": "code",
   "execution_count": 10,
   "id": "394ee343-1479-4faa-a3d6-75889e0bcba6",
   "metadata": {
    "tags": []
   },
   "outputs": [],
   "source": [
    "merged_DF = merged_DF %>% \n",
    "rowwise() %>%\n",
    "mutate(humanConsensusBlinded = getHumanConsensus(Winner_human1,Winner_human2,  Winner_human3, OverridingDecision),\n",
    "       humanConsensus = mapBlinded[as.character(`humanConsensusBlinded`)],\n",
    "        humanConsensus_higherLevel = mapToHigher[as.character(`humanConsensus`)],\n",
    "       winner_higherLevel = mapToHigher[as.character(`winner`)])  %>%\n",
    "select(c(\"Source\", \"GeneSetID\", \"GeneSetName\", \"GeneList\", \"winner\", \"humanConsensus\" , \"OverridingDecision\", \n",
    "        \"humanConsensus_higherLevel\", \"winner_higherLevel\"))\n",
    "\n"
   ]
  },
  {
   "cell_type": "code",
   "execution_count": 12,
   "id": "433bec54-438b-4b1f-a223-4729e311d1fa",
   "metadata": {},
   "outputs": [],
   "source": [
    "merged_DF$winner_higherLevel <- factor(merged_DF$winner_higherLevel, levels=c(\"At least as good\", \"At least as bad\"))\n"
   ]
  },
  {
   "cell_type": "code",
   "execution_count": 13,
   "id": "d6ff510f-1775-4ea2-9882-9502229be452",
   "metadata": {},
   "outputs": [],
   "source": [
    "merged_DF$humanConsensus_higherLevel <- factor(merged_DF$humanConsensus_higherLevel, levels=c(\"At least as good\", \"At least as bad\"))\n"
   ]
  },
  {
   "cell_type": "code",
   "execution_count": 28,
   "id": "fe3bbd89-ec1e-4ebe-ba63-8df5a979b195",
   "metadata": {
    "collapsed": true,
    "jupyter": {
     "outputs_hidden": true
    },
    "tags": []
   },
   "outputs": [
    {
     "data": {
      "text/html": [
       "<table class=\"dataframe\">\n",
       "<caption>A rowwise_df: 50 × 2</caption>\n",
       "<thead>\n",
       "\t<tr><th scope=col>humanConsensus_higherLevel</th><th scope=col>winner_higherLevel</th></tr>\n",
       "\t<tr><th scope=col>&lt;fct&gt;</th><th scope=col>&lt;fct&gt;</th></tr>\n",
       "</thead>\n",
       "<tbody>\n",
       "\t<tr><td>At least as bad </td><td>At least as bad </td></tr>\n",
       "\t<tr><td>At least as good</td><td>At least as bad </td></tr>\n",
       "\t<tr><td>At least as good</td><td>At least as good</td></tr>\n",
       "\t<tr><td>At least as good</td><td>At least as good</td></tr>\n",
       "\t<tr><td>At least as bad </td><td>At least as bad </td></tr>\n",
       "\t<tr><td>At least as good</td><td>At least as bad </td></tr>\n",
       "\t<tr><td>At least as good</td><td>At least as bad </td></tr>\n",
       "\t<tr><td>At least as bad </td><td>At least as good</td></tr>\n",
       "\t<tr><td>At least as bad </td><td>At least as bad </td></tr>\n",
       "\t<tr><td>At least as good</td><td>At least as good</td></tr>\n",
       "\t<tr><td>At least as good</td><td>At least as good</td></tr>\n",
       "\t<tr><td>At least as bad </td><td>At least as good</td></tr>\n",
       "\t<tr><td>At least as good</td><td>At least as bad </td></tr>\n",
       "\t<tr><td>At least as bad </td><td>At least as bad </td></tr>\n",
       "\t<tr><td>At least as good</td><td>At least as bad </td></tr>\n",
       "\t<tr><td>At least as good</td><td>At least as bad </td></tr>\n",
       "\t<tr><td>At least as good</td><td>At least as bad </td></tr>\n",
       "\t<tr><td>At least as good</td><td>At least as bad </td></tr>\n",
       "\t<tr><td>At least as bad </td><td>At least as good</td></tr>\n",
       "\t<tr><td>At least as good</td><td>At least as good</td></tr>\n",
       "\t<tr><td>At least as good</td><td>At least as good</td></tr>\n",
       "\t<tr><td>At least as good</td><td>At least as bad </td></tr>\n",
       "\t<tr><td>At least as good</td><td>At least as bad </td></tr>\n",
       "\t<tr><td>At least as good</td><td>At least as good</td></tr>\n",
       "\t<tr><td>At least as good</td><td>At least as good</td></tr>\n",
       "\t<tr><td>At least as good</td><td>At least as good</td></tr>\n",
       "\t<tr><td>At least as good</td><td>At least as good</td></tr>\n",
       "\t<tr><td>At least as good</td><td>At least as good</td></tr>\n",
       "\t<tr><td>At least as bad </td><td>At least as bad </td></tr>\n",
       "\t<tr><td>At least as good</td><td>At least as good</td></tr>\n",
       "\t<tr><td>At least as bad </td><td>At least as bad </td></tr>\n",
       "\t<tr><td>At least as bad </td><td>At least as good</td></tr>\n",
       "\t<tr><td>At least as good</td><td>At least as good</td></tr>\n",
       "\t<tr><td>At least as good</td><td>At least as good</td></tr>\n",
       "\t<tr><td>At least as good</td><td>At least as good</td></tr>\n",
       "\t<tr><td>At least as good</td><td>At least as good</td></tr>\n",
       "\t<tr><td>At least as good</td><td>At least as bad </td></tr>\n",
       "\t<tr><td>At least as good</td><td>At least as good</td></tr>\n",
       "\t<tr><td>At least as bad </td><td>At least as bad </td></tr>\n",
       "\t<tr><td>At least as bad </td><td>At least as bad </td></tr>\n",
       "\t<tr><td>At least as bad </td><td>At least as bad </td></tr>\n",
       "\t<tr><td>At least as bad </td><td>At least as good</td></tr>\n",
       "\t<tr><td>At least as good</td><td>At least as good</td></tr>\n",
       "\t<tr><td>At least as good</td><td>At least as good</td></tr>\n",
       "\t<tr><td>At least as good</td><td>At least as bad </td></tr>\n",
       "\t<tr><td>At least as good</td><td>At least as good</td></tr>\n",
       "\t<tr><td>At least as good</td><td>At least as good</td></tr>\n",
       "\t<tr><td>At least as good</td><td>At least as bad </td></tr>\n",
       "\t<tr><td>At least as good</td><td>At least as good</td></tr>\n",
       "\t<tr><td>At least as good</td><td>At least as bad </td></tr>\n",
       "</tbody>\n",
       "</table>\n"
      ],
      "text/latex": [
       "A rowwise\\_df: 50 × 2\n",
       "\\begin{tabular}{ll}\n",
       " humanConsensus\\_higherLevel & winner\\_higherLevel\\\\\n",
       " <fct> & <fct>\\\\\n",
       "\\hline\n",
       "\t At least as bad  & At least as bad \\\\\n",
       "\t At least as good & At least as bad \\\\\n",
       "\t At least as good & At least as good\\\\\n",
       "\t At least as good & At least as good\\\\\n",
       "\t At least as bad  & At least as bad \\\\\n",
       "\t At least as good & At least as bad \\\\\n",
       "\t At least as good & At least as bad \\\\\n",
       "\t At least as bad  & At least as good\\\\\n",
       "\t At least as bad  & At least as bad \\\\\n",
       "\t At least as good & At least as good\\\\\n",
       "\t At least as good & At least as good\\\\\n",
       "\t At least as bad  & At least as good\\\\\n",
       "\t At least as good & At least as bad \\\\\n",
       "\t At least as bad  & At least as bad \\\\\n",
       "\t At least as good & At least as bad \\\\\n",
       "\t At least as good & At least as bad \\\\\n",
       "\t At least as good & At least as bad \\\\\n",
       "\t At least as good & At least as bad \\\\\n",
       "\t At least as bad  & At least as good\\\\\n",
       "\t At least as good & At least as good\\\\\n",
       "\t At least as good & At least as good\\\\\n",
       "\t At least as good & At least as bad \\\\\n",
       "\t At least as good & At least as bad \\\\\n",
       "\t At least as good & At least as good\\\\\n",
       "\t At least as good & At least as good\\\\\n",
       "\t At least as good & At least as good\\\\\n",
       "\t At least as good & At least as good\\\\\n",
       "\t At least as good & At least as good\\\\\n",
       "\t At least as bad  & At least as bad \\\\\n",
       "\t At least as good & At least as good\\\\\n",
       "\t At least as bad  & At least as bad \\\\\n",
       "\t At least as bad  & At least as good\\\\\n",
       "\t At least as good & At least as good\\\\\n",
       "\t At least as good & At least as good\\\\\n",
       "\t At least as good & At least as good\\\\\n",
       "\t At least as good & At least as good\\\\\n",
       "\t At least as good & At least as bad \\\\\n",
       "\t At least as good & At least as good\\\\\n",
       "\t At least as bad  & At least as bad \\\\\n",
       "\t At least as bad  & At least as bad \\\\\n",
       "\t At least as bad  & At least as bad \\\\\n",
       "\t At least as bad  & At least as good\\\\\n",
       "\t At least as good & At least as good\\\\\n",
       "\t At least as good & At least as good\\\\\n",
       "\t At least as good & At least as bad \\\\\n",
       "\t At least as good & At least as good\\\\\n",
       "\t At least as good & At least as good\\\\\n",
       "\t At least as good & At least as bad \\\\\n",
       "\t At least as good & At least as good\\\\\n",
       "\t At least as good & At least as bad \\\\\n",
       "\\end{tabular}\n"
      ],
      "text/markdown": [
       "\n",
       "A rowwise_df: 50 × 2\n",
       "\n",
       "| humanConsensus_higherLevel &lt;fct&gt; | winner_higherLevel &lt;fct&gt; |\n",
       "|---|---|\n",
       "| At least as bad  | At least as bad  |\n",
       "| At least as good | At least as bad  |\n",
       "| At least as good | At least as good |\n",
       "| At least as good | At least as good |\n",
       "| At least as bad  | At least as bad  |\n",
       "| At least as good | At least as bad  |\n",
       "| At least as good | At least as bad  |\n",
       "| At least as bad  | At least as good |\n",
       "| At least as bad  | At least as bad  |\n",
       "| At least as good | At least as good |\n",
       "| At least as good | At least as good |\n",
       "| At least as bad  | At least as good |\n",
       "| At least as good | At least as bad  |\n",
       "| At least as bad  | At least as bad  |\n",
       "| At least as good | At least as bad  |\n",
       "| At least as good | At least as bad  |\n",
       "| At least as good | At least as bad  |\n",
       "| At least as good | At least as bad  |\n",
       "| At least as bad  | At least as good |\n",
       "| At least as good | At least as good |\n",
       "| At least as good | At least as good |\n",
       "| At least as good | At least as bad  |\n",
       "| At least as good | At least as bad  |\n",
       "| At least as good | At least as good |\n",
       "| At least as good | At least as good |\n",
       "| At least as good | At least as good |\n",
       "| At least as good | At least as good |\n",
       "| At least as good | At least as good |\n",
       "| At least as bad  | At least as bad  |\n",
       "| At least as good | At least as good |\n",
       "| At least as bad  | At least as bad  |\n",
       "| At least as bad  | At least as good |\n",
       "| At least as good | At least as good |\n",
       "| At least as good | At least as good |\n",
       "| At least as good | At least as good |\n",
       "| At least as good | At least as good |\n",
       "| At least as good | At least as bad  |\n",
       "| At least as good | At least as good |\n",
       "| At least as bad  | At least as bad  |\n",
       "| At least as bad  | At least as bad  |\n",
       "| At least as bad  | At least as bad  |\n",
       "| At least as bad  | At least as good |\n",
       "| At least as good | At least as good |\n",
       "| At least as good | At least as good |\n",
       "| At least as good | At least as bad  |\n",
       "| At least as good | At least as good |\n",
       "| At least as good | At least as good |\n",
       "| At least as good | At least as bad  |\n",
       "| At least as good | At least as good |\n",
       "| At least as good | At least as bad  |\n",
       "\n"
      ],
      "text/plain": [
       "   humanConsensus_higherLevel winner_higherLevel\n",
       "1  At least as bad            At least as bad   \n",
       "2  At least as good           At least as bad   \n",
       "3  At least as good           At least as good  \n",
       "4  At least as good           At least as good  \n",
       "5  At least as bad            At least as bad   \n",
       "6  At least as good           At least as bad   \n",
       "7  At least as good           At least as bad   \n",
       "8  At least as bad            At least as good  \n",
       "9  At least as bad            At least as bad   \n",
       "10 At least as good           At least as good  \n",
       "11 At least as good           At least as good  \n",
       "12 At least as bad            At least as good  \n",
       "13 At least as good           At least as bad   \n",
       "14 At least as bad            At least as bad   \n",
       "15 At least as good           At least as bad   \n",
       "16 At least as good           At least as bad   \n",
       "17 At least as good           At least as bad   \n",
       "18 At least as good           At least as bad   \n",
       "19 At least as bad            At least as good  \n",
       "20 At least as good           At least as good  \n",
       "21 At least as good           At least as good  \n",
       "22 At least as good           At least as bad   \n",
       "23 At least as good           At least as bad   \n",
       "24 At least as good           At least as good  \n",
       "25 At least as good           At least as good  \n",
       "26 At least as good           At least as good  \n",
       "27 At least as good           At least as good  \n",
       "28 At least as good           At least as good  \n",
       "29 At least as bad            At least as bad   \n",
       "30 At least as good           At least as good  \n",
       "31 At least as bad            At least as bad   \n",
       "32 At least as bad            At least as good  \n",
       "33 At least as good           At least as good  \n",
       "34 At least as good           At least as good  \n",
       "35 At least as good           At least as good  \n",
       "36 At least as good           At least as good  \n",
       "37 At least as good           At least as bad   \n",
       "38 At least as good           At least as good  \n",
       "39 At least as bad            At least as bad   \n",
       "40 At least as bad            At least as bad   \n",
       "41 At least as bad            At least as bad   \n",
       "42 At least as bad            At least as good  \n",
       "43 At least as good           At least as good  \n",
       "44 At least as good           At least as good  \n",
       "45 At least as good           At least as bad   \n",
       "46 At least as good           At least as good  \n",
       "47 At least as good           At least as good  \n",
       "48 At least as good           At least as bad   \n",
       "49 At least as good           At least as good  \n",
       "50 At least as good           At least as bad   "
      ]
     },
     "metadata": {},
     "output_type": "display_data"
    }
   ],
   "source": [
    "merged_DF[,c(\"humanConsensus_higherLevel\", \"winner_higherLevel\")]"
   ]
  },
  {
   "cell_type": "code",
   "execution_count": 21,
   "id": "87e1b90a-aaf7-4d95-94f3-a4948417d345",
   "metadata": {},
   "outputs": [],
   "source": [
    " higherLevel_contingencyTable  = table(merged_DF[,c(\"humanConsensus_higherLevel\", \"winner_higherLevel\")])"
   ]
  },
  {
   "cell_type": "code",
   "execution_count": 22,
   "id": "0306a943-7fad-427b-bbeb-b94db1c587a8",
   "metadata": {},
   "outputs": [
    {
     "data": {
      "text/plain": [
       "                          winner_higherLevel\n",
       "humanConsensus_higherLevel At least as good At least as bad\n",
       "          At least as good               22              14\n",
       "          At least as bad                 5               9"
      ]
     },
     "metadata": {},
     "output_type": "display_data"
    }
   ],
   "source": [
    "higherLevel_contingencyTable"
   ]
  },
  {
   "cell_type": "code",
   "execution_count": 25,
   "id": "00746335-0a83-48a0-bec7-f46a950c06b5",
   "metadata": {},
   "outputs": [
    {
     "data": {
      "text/html": [
       "0.62"
      ],
      "text/latex": [
       "0.62"
      ],
      "text/markdown": [
       "0.62"
      ],
      "text/plain": [
       "[1] 0.62"
      ]
     },
     "metadata": {},
     "output_type": "display_data"
    }
   ],
   "source": [
    "(higherLevel_contingencyTable[1,1] + higherLevel_contingencyTable[2,2]) /sum(higherLevel_contingencyTable)"
   ]
  },
  {
   "cell_type": "code",
   "execution_count": 27,
   "id": "d44b29bd-14e3-42c4-bee3-ba943421b1ee",
   "metadata": {
    "vscode": {
     "languageId": "r"
    }
   },
   "outputs": [
    {
     "data": {
      "text/html": [
       "31"
      ],
      "text/latex": [
       "31"
      ],
      "text/markdown": [
       "31"
      ],
      "text/plain": [
       "[1] 31"
      ]
     },
     "metadata": {},
     "output_type": "display_data"
    }
   ],
   "source": [
    "(higherLevel_contingencyTable[1,1] + higherLevel_contingencyTable[2,2]) "
   ]
  },
  {
   "cell_type": "code",
   "execution_count": null,
   "id": "0c0362d3-0d8c-4f73-a1b6-bcc23684e40d",
   "metadata": {
    "vscode": {
     "languageId": "r"
    }
   },
   "outputs": [],
   "source": []
  }
 ],
 "metadata": {
  "kernelspec": {
   "display_name": "R",
   "language": "R",
   "name": "ir"
  },
  "language_info": {
   "codemirror_mode": "r",
   "file_extension": ".r",
   "mimetype": "text/x-r-source",
   "name": "R",
   "pygments_lexer": "r",
   "version": "4.3.2"
  }
 },
 "nbformat": 4,
 "nbformat_minor": 5
}

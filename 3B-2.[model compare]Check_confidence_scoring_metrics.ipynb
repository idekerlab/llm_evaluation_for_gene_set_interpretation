{
 "cells": [
  {
   "cell_type": "markdown",
   "metadata": {},
   "source": [
    "## Plots to compare the scoreing metrics "
   ]
  },
  {
   "cell_type": "code",
   "execution_count": 2,
   "metadata": {},
   "outputs": [],
   "source": [
    "import pandas as pd\n",
    "import numpy as np\n",
    "import matplotlib.pyplot as plt\n",
    "import matplotlib as mpl\n",
    "import seaborn as sns\n",
    "from glob import glob\n",
    "import re\n",
    "from scipy.stats import mannwhitneyu\n",
    "\n",
    "# Set default configuration for all plots\n",
    "plt.rcParams['svg.fonttype'] = 'none'\n",
    "plt.rcParams.update({'font.size': 7, 'font.family': 'sans-serif'})\n",
    "plt.rcParams['xtick.labelsize'] = 7\n",
    "plt.rcParams['ytick.labelsize'] = 7\n",
    "plt.rcParams['axes.labelsize'] = 7\n",
    "plt.rcParams['axes.titlesize'] = 7\n",
    "plt.rcParams['axes.linewidth'] = 0.5\n",
    "plt.rcParams['hatch.linewidth'] = 0.5\n",
    "plt.rcParams['xtick.major.width'] = 0.4\n",
    "plt.rcParams['ytick.major.width'] = 0.4\n",
    "plt.rcParams['xtick.minor.width'] = 0.3\n",
    "plt.rcParams['ytick.minor.width'] = 0.3\n",
    "plt.rcParams['legend.frameon'] = False\n",
    "plt.rcParams['xtick.major.size'] = 3\n",
    "plt.rcParams['ytick.major.size'] = 3\n",
    "plt.rcParams['xtick.minor.size'] = 2\n",
    "plt.rcParams['ytick.minor.size'] = 2\n",
    "plt.rcParams['xtick.major.pad'] = 1\n",
    "plt.rcParams['ytick.major.pad'] = 1\n",
    "plt.rcParams['axes.labelpad'] = 1\n",
    "plt.rcParams['patch.linewidth'] = 0.25\n",
    "plt.figsize = (2,2)    \n",
    "\n",
    "%load_ext autoreload\n",
    "%autoreload 2\n",
    "%matplotlib inline"
   ]
  },
  {
   "cell_type": "code",
   "execution_count": 6,
   "metadata": {},
   "outputs": [],
   "source": [
    "def melt_score_df(score_df, id_vars=['GO', 'Gene_Count']):\n",
    "    columns_score = [col for col in score_df.columns if col.endswith('Score')]\n",
    "    filtered_score_df = score_df[id_vars + columns_score]\n",
    "    long_scores = filtered_score_df.melt(id_vars=id_vars, var_name='Score Type', value_name='Score')\n",
    "    \n",
    "    # Map the original score type names to the desired ones\n",
    "    def map_score_type(score_type):\n",
    "        if 'default Score' in score_type:\n",
    "            return 'Real'\n",
    "        elif '50perc_contaminated Score' in score_type:\n",
    "            return '50/50 Mix'\n",
    "        elif '100perc_contaminated Score' in score_type:\n",
    "            return 'Random'\n",
    "        else:\n",
    "            return score_type\n",
    "    \n",
    "    # Apply the mapping\n",
    "    long_scores['Score Type'] = long_scores['Score Type'].apply(map_score_type)\n",
    "    \n",
    "    # Remove unwanted symbols and return float\n",
    "    long_scores.Score = long_scores.Score.apply(lambda x: float(re.sub(\"[^0-9.-]\", \"\", x)) if isinstance(x, str) else x)\n",
    "    \n",
    "    return long_scores\n"
   ]
  },
  {
   "cell_type": "code",
   "execution_count": 16,
   "metadata": {},
   "outputs": [],
   "source": [
    "\n",
    "def plot_score_swamp(score_data, save_fig=None):\n",
    "    plt.figure(figsize=(3,3))\n",
    "    # plt.rcParams['pdf.fonttype'] = 42\n",
    "    sns.swarmplot(x='Score Type', y='Score', data=score_data, size=3, hue='Gene_Count', palette='viridis', edgecolor='none', legend=False, alpha=1, zorder = 1)\n",
    "\n",
    "    # # Draw lines between points with the same 'GO'\n",
    "    # for name, group in long_scores.groupby('GO'):\n",
    "    #     if len(group) > 1:\n",
    "    #         plt.plot(group['Score Type'], group['Score'], marker='', color='grey', linewidth=1, alpha=0.5)\n",
    "    \n",
    "    # Calculate and draw median lines\n",
    "    score_types = score_data['Score Type'].unique()\n",
    "    for i, score_type in enumerate(score_types):\n",
    "        # median_score = score_data[score_data['Score Type'] == score_type]['Score'].median()\n",
    "        avg_score = score_data[score_data['Score Type'] == score_type]['Score'].mean()\n",
    "        plt.hlines(y=avg_score, xmin=i-0.2, xmax=i+0.2, color='r', linewidth=0.75, zorder=2, linestyle='--', label='Median' if i == 0 else \"\")\n",
    "        \n",
    "    plt.xticks(ticks=np.arange(len(score_data['Score Type'].unique())),labels=['Real', 'Contaminated', 'Random'], rotation=45)\n",
    "\n",
    "    plt.xlabel('')\n",
    "    plt.ylabel('Confidence score')\n",
    "\n",
    "    # Create a colorbar for the continuous hue\n",
    "    norm = plt.Normalize(score_data['Gene_Count'].min(), score_data['Gene_Count'].max())\n",
    "    sm = plt.cm.ScalarMappable(cmap=\"viridis\", norm=norm)\n",
    "    sm.set_array([])\n",
    "\n",
    "    # Add the colorbar to the plot\n",
    "    plt.colorbar(sm, label='Gene Count')\n",
    "    plt.ylim(-0.02,1)\n",
    "    if 'Median' in locals():\n",
    "        plt.legend()\n",
    "    if save_fig:\n",
    "        plt.savefig(f'{save_fig}.svg', bbox_inches='tight')\n",
    "        \n",
    "    plt.show()"
   ]
  },
  {
   "cell_type": "code",
   "execution_count": 17,
   "metadata": {},
   "outputs": [
    {
     "name": "stdout",
     "output_type": "stream",
     "text": [
      "gemini_pro\n"
     ]
    },
    {
     "name": "stderr",
     "output_type": "stream",
     "text": [
      "/tmp/ipykernel_240884/2778009627.py:29: MatplotlibDeprecationWarning: Unable to determine Axes to steal space for Colorbar. Using gca(), but will raise in the future. Either provide the *cax* argument to use as the Axes for the Colorbar, provide the *ax* argument to steal space from it, or add *mappable* to an Axes.\n",
      "  plt.colorbar(sm, label='Gene Count')\n"
     ]
    },
    {
     "data": {
      "text/plain": [
       "<Figure size 300x300 with 0 Axes>"
      ]
     },
     "metadata": {},
     "output_type": "display_data"
    },
    {
     "data": {
      "image/png": "[encoded data removed]",
      "text/plain": [
       "<Figure size 300x300 with 2 Axes>"
      ]
     },
     "metadata": {},
     "output_type": "display_data"
    },
    {
     "name": "stdout",
     "output_type": "stream",
     "text": [
      "mixtral_instruct\n"
     ]
    },
    {
     "name": "stderr",
     "output_type": "stream",
     "text": [
      "/tmp/ipykernel_240884/2778009627.py:29: MatplotlibDeprecationWarning: Unable to determine Axes to steal space for Colorbar. Using gca(), but will raise in the future. Either provide the *cax* argument to use as the Axes for the Colorbar, provide the *ax* argument to steal space from it, or add *mappable* to an Axes.\n",
      "  plt.colorbar(sm, label='Gene Count')\n"
     ]
    },
    {
     "data": {
      "text/plain": [
       "<Figure size 300x300 with 0 Axes>"
      ]
     },
     "metadata": {},
     "output_type": "display_data"
    },
    {
     "data": {
      "image/png": "[encoded data removed]",
      "text/plain": [
       "<Figure size 300x300 with 2 Axes>"
      ]
     },
     "metadata": {},
     "output_type": "display_data"
    },
    {
     "name": "stdout",
     "output_type": "stream",
     "text": [
      "gpt_4\n"
     ]
    },
    {
     "name": "stderr",
     "output_type": "stream",
     "text": [
      "/tmp/ipykernel_240884/2778009627.py:29: MatplotlibDeprecationWarning: Unable to determine Axes to steal space for Colorbar. Using gca(), but will raise in the future. Either provide the *cax* argument to use as the Axes for the Colorbar, provide the *ax* argument to steal space from it, or add *mappable* to an Axes.\n",
      "  plt.colorbar(sm, label='Gene Count')\n"
     ]
    },
    {
     "data": {
      "text/plain": [
       "<Figure size 300x300 with 0 Axes>"
      ]
     },
     "metadata": {},
     "output_type": "display_data"
    },
    {
     "data": {
      "image/png": "[encoded data removed]",
      "text/plain": [
       "<Figure size 300x300 with 2 Axes>"
      ]
     },
     "metadata": {},
     "output_type": "display_data"
    },
    {
     "name": "stdout",
     "output_type": "stream",
     "text": [
      "mistral_7b\n"
     ]
    },
    {
     "name": "stderr",
     "output_type": "stream",
     "text": [
      "/tmp/ipykernel_240884/2778009627.py:29: MatplotlibDeprecationWarning: Unable to determine Axes to steal space for Colorbar. Using gca(), but will raise in the future. Either provide the *cax* argument to use as the Axes for the Colorbar, provide the *ax* argument to steal space from it, or add *mappable* to an Axes.\n",
      "  plt.colorbar(sm, label='Gene Count')\n"
     ]
    },
    {
     "data": {
      "text/plain": [
       "<Figure size 300x300 with 0 Axes>"
      ]
     },
     "metadata": {},
     "output_type": "display_data"
    },
    {
     "data": {
      "image/png": "[encoded data removed]",
      "text/plain": [
       "<Figure size 300x300 with 2 Axes>"
      ]
     },
     "metadata": {},
     "output_type": "display_data"
    },
    {
     "name": "stdout",
     "output_type": "stream",
     "text": [
      "llama2_70b\n"
     ]
    },
    {
     "name": "stderr",
     "output_type": "stream",
     "text": [
      "/tmp/ipykernel_240884/2778009627.py:29: MatplotlibDeprecationWarning: Unable to determine Axes to steal space for Colorbar. Using gca(), but will raise in the future. Either provide the *cax* argument to use as the Axes for the Colorbar, provide the *ax* argument to steal space from it, or add *mappable* to an Axes.\n",
      "  plt.colorbar(sm, label='Gene Count')\n"
     ]
    },
    {
     "data": {
      "text/plain": [
       "<Figure size 300x300 with 0 Axes>"
      ]
     },
     "metadata": {},
     "output_type": "display_data"
    },
    {
     "data": {
      "image/png": "[encoded data removed]",
      "text/plain": [
       "<Figure size 300x300 with 2 Axes>"
      ]
     },
     "metadata": {},
     "output_type": "display_data"
    },
    {
     "name": "stdout",
     "output_type": "stream",
     "text": [
      "gpt_35\n"
     ]
    },
    {
     "name": "stderr",
     "output_type": "stream",
     "text": [
      "/tmp/ipykernel_240884/2778009627.py:29: MatplotlibDeprecationWarning: Unable to determine Axes to steal space for Colorbar. Using gca(), but will raise in the future. Either provide the *cax* argument to use as the Axes for the Colorbar, provide the *ax* argument to steal space from it, or add *mappable* to an Axes.\n",
      "  plt.colorbar(sm, label='Gene Count')\n"
     ]
    },
    {
     "data": {
      "text/plain": [
       "<Figure size 300x300 with 0 Axes>"
      ]
     },
     "metadata": {},
     "output_type": "display_data"
    },
    {
     "data": {
      "image/png": "[encoded data removed]",
      "text/plain": [
       "<Figure size 300x300 with 2 Axes>"
      ]
     },
     "metadata": {},
     "output_type": "display_data"
    },
    {
     "name": "stdout",
     "output_type": "stream",
     "text": [
      "mixtral_latest\n"
     ]
    },
    {
     "name": "stderr",
     "output_type": "stream",
     "text": [
      "/tmp/ipykernel_240884/2778009627.py:29: MatplotlibDeprecationWarning: Unable to determine Axes to steal space for Colorbar. Using gca(), but will raise in the future. Either provide the *cax* argument to use as the Axes for the Colorbar, provide the *ax* argument to steal space from it, or add *mappable* to an Axes.\n",
      "  plt.colorbar(sm, label='Gene Count')\n"
     ]
    },
    {
     "data": {
      "text/plain": [
       "<Figure size 300x300 with 0 Axes>"
      ]
     },
     "metadata": {},
     "output_type": "display_data"
    },
    {
     "data": {
      "image/png": "[encoded data removed]",
      "text/plain": [
       "<Figure size 300x300 with 2 Axes>"
      ]
     },
     "metadata": {},
     "output_type": "display_data"
    }
   ],
   "source": [
    "toyexample_files = glob('./data/GO_term_analysis/LLM_processed_toy_example*.tsv')   \n",
    "toyexample_files.remove('./data/GO_term_analysis/LLM_processed_toy_example_w_contamination_llama2_7b.tsv')\n",
    "for file in toyexample_files:\n",
    "   \n",
    "    plt.figure(figsize=(3,3))\n",
    "    df = pd.read_csv(file, sep='\\t')\n",
    "    long_scores = melt_score_df(df)\n",
    "    model_name = '_'.join(file.split('/')[-1].split('.')[0].split('_')[-2:])\n",
    "    print(model_name)\n",
    "    \n",
    "    plot_score_swamp(long_scores)"
   ]
  },
  {
   "cell_type": "code",
   "execution_count": 4,
   "metadata": {},
   "outputs": [
    {
     "name": "stdout",
     "output_type": "stream",
     "text": [
      "['./data/GO_term_analysis/model_compare/LLM_processed_model_compare_100set_gpt_4.tsv', './data/GO_term_analysis/model_compare/LLM_processed_model_compare_100set_gemini_pro.tsv', './data/GO_term_analysis/model_compare/LLM_processed_model_compare_100set_mixtral_instruct.tsv', './data/GO_term_analysis/model_compare/LLM_processed_model_compare_100set_llama2_70b.tsv', './data/GO_term_analysis/model_compare/LLM_processed_model_compare_100set_gpt_35.tsv']\n"
     ]
    }
   ],
   "source": [
    "\n",
    "result_files = glob('./data/GO_term_analysis/model_compare/LLM_processed*100set*.tsv')\n",
    "# add on data to the LLM processed data based on column names \n",
    "print(result_files)"
   ]
  },
  {
   "cell_type": "code",
   "execution_count": 30,
   "metadata": {},
   "outputs": [],
   "source": [
    "\n",
    "# Define the color scheme for different score types\n",
    "score_type_colors = {\n",
    "    'Real': 'steelblue',\n",
    "    '50/50 Mix': 'orange',\n",
    "    'Random': 'green'\n",
    "}\n",
    "\n",
    "def plot_score_histogram(score_data, ax, show_legend=False):\n",
    "    sns.histplot(data=score_data, x='Score', hue='Score Type', common_norm=False, bins=20, palette=score_type_colors, ax=ax)\n",
    "    \n",
    "    score_types = score_data['Score Type'].unique()\n",
    "\n",
    "    for score_type in score_types:\n",
    "        color = score_type_colors.get(score_type, 'black')\n",
    "        median_score = score_data[score_data['Score Type'] == score_type]['Score'].median()\n",
    "        # calculate std after removing 0 values\n",
    "        # remove 0 values\n",
    "        no_zero_score = score_data[score_data['Score Type'] == score_type]['Score'][score_data[score_data['Score Type'] == score_type]['Score'] != 0]\n",
    "        std_score = no_zero_score.std()\n",
    "\n",
    "    \n",
    "        print(median_score)\n",
    "        print(median_score - std_score, median_score + std_score)\n",
    "        # Add vertical lines for median\n",
    "        ax.axvline(median_score, color=color, linestyle='--', linewidth=1)\n",
    "    ax.set_xlim(-0.05, 1)\n",
    "    ax.set_xlabel('Raw Confidence Score')\n",
    "    ax.set_ylabel('Number of gene sets')\n",
    "    \n",
    "    if show_legend:\n",
    "         ax.legend(title='Gene sets', loc='upper left', labels=['Real', '50/50 Mix', 'Random'], bbox_to_anchor=(0.1, 1))\n",
    "    else:\n",
    "        ax.get_legend().remove()\n",
    "       \n",
    "\n",
    "\n",
    "def plot_all_models_histogram(models_data, save_fig=None):\n",
    "    fig, axs = plt.subplots(1, len(models_data), figsize=(7.5, 2.5), sharey=True)\n",
    "    for i, (model_name, score_data) in enumerate(models_data.items()):\n",
    "        plot_score_histogram(score_data, axs[i], show_legend=(i == 0))\n",
    "        axs[i].set_title(model_name)\n",
    "        if i == 0:\n",
    "            sns.despine(ax=axs[i])\n",
    "        else:\n",
    "            sns.despine(ax=axs[i], left=True)\n",
    "            axs[i].set_ylabel('')\n",
    "            axs[i].yaxis.set_visible(False)\n",
    "\n",
    "    plt.tight_layout()\n",
    "\n",
    "    if save_fig:\n",
    "        plt.savefig(f'{save_fig}.svg', bbox_inches='tight')\n",
    "    \n",
    "    plt.show()\n",
    "\n"
   ]
  },
  {
   "cell_type": "code",
   "execution_count": 32,
   "metadata": {},
   "outputs": [
    {
     "name": "stdout",
     "output_type": "stream",
     "text": [
      "gpt_4\n",
      "gemini_pro\n",
      "mixtral_instruct\n",
      "llama2_70b\n",
      "gpt_35\n",
      "0.92\n",
      "0.879076585220769 0.960923414779231\n",
      "0.85\n",
      "0.8098791438452324 0.8901208561547675\n",
      "0.0\n",
      "-0.16813456149534145 0.16813456149534145\n",
      "0.92\n",
      "0.8671102472177541 0.972889752782246\n",
      "0.85\n",
      "0.7930130183947927 0.9069869816052073\n",
      "0.0\n",
      "-0.060411192631183434 0.060411192631183434\n",
      "0.92\n",
      "0.852645667840843 0.9873543321591571\n",
      "0.87\n",
      "0.6883889437353118 1.0516110562646883\n",
      "0.85\n",
      "0.6476287290321787 1.0523712709678212\n",
      "0.87\n",
      "0.8611831199544638 0.8788168800455362\n",
      "0.87\n",
      "0.8607886762705632 0.8792113237294368\n",
      "0.87\n",
      "0.8607035360257653 0.8792964639742347\n",
      "0.92\n",
      "0.8876604192227469 0.9523395807772532\n",
      "0.85\n",
      "0.8130829485620982 0.8869170514379018\n",
      "0.85\n",
      "0.8195934948480501 0.8804065051519498\n"
     ]
    },
    {
     "data": {
      "image/png": "[encoded data removed]",
      "text/plain": [
       "<Figure size 750x250 with 5 Axes>"
      ]
     },
     "metadata": {},
     "output_type": "display_data"
    }
   ],
   "source": [
    "%matplotlib inline\n",
    "models_data = {}\n",
    "for file in result_files:\n",
    "    df = pd.read_csv(file, sep='\\t')\n",
    "    long_scores = melt_score_df(df)\n",
    "    model_name = '_'.join(file.split('/')[-1].split('.')[0].split('_')[-2:])\n",
    "    print(model_name)\n",
    "    # Define model name mappings for consistent naming\n",
    "    model_name_map = {\n",
    "        'gpt_4': 'GPT-4',\n",
    "        'gemini_pro': 'Gemini Pro',\n",
    "        'gpt_35': 'GPT-3.5',\n",
    "        'mixtral_instruct': 'Mixtral Instruct',\n",
    "        'llama2_70b': 'Llama2 70b'\n",
    "    }\n",
    "    model_name = model_name_map.get(model_name, model_name)\n",
    "    models_data[model_name] = long_scores\n",
    "\n",
    "    save_figure_name = f'./figures/model_compare/all_model_confidence_score_histogram'\n",
    "\n",
    "plot_all_models_histogram(models_data, save_fig=save_figure_name)\n"
   ]
  },
  {
   "cell_type": "code",
   "execution_count": 20,
   "metadata": {},
   "outputs": [
    {
     "name": "stdout",
     "output_type": "stream",
     "text": [
      "gpt_4\n",
      "('gpt_4_default Score', 'gpt_4_50perc_contaminated Score'): 5.3924506335776666e-17\n",
      "\n",
      "\n",
      "('gpt_4_default Score', 'gpt_4_100perc_contaminated Score'): 4.0645256150005274e-33\n",
      "\n",
      "\n",
      "('gpt_4_50perc_contaminated Score', 'gpt_4_100perc_contaminated Score'): 1.9556902597674126e-17\n",
      "\n",
      "\n",
      "gemini_pro\n",
      "('gemini_pro_default Score', 'gemini_pro_50perc_contaminated Score'): 4.909641283668245e-05\n",
      "\n",
      "\n",
      "('gemini_pro_default Score', 'gemini_pro_100perc_contaminated Score'): 2.293603421717474e-12\n",
      "\n",
      "\n",
      "('gemini_pro_50perc_contaminated Score', 'gemini_pro_100perc_contaminated Score'): 0.0014306058120140488\n",
      "\n",
      "\n",
      "mixtral_instruct\n",
      "('mixtral_instruct_default Score', 'mixtral_instruct_50perc_contaminated Score'): 1.4310985041880264e-10\n",
      "\n",
      "\n",
      "('mixtral_instruct_default Score', 'mixtral_instruct_100perc_contaminated Score'): 9.384948239661787e-17\n",
      "\n",
      "\n",
      "('mixtral_instruct_50perc_contaminated Score', 'mixtral_instruct_100perc_contaminated Score'): 0.006555972015323734\n",
      "\n",
      "\n",
      "llama2_70b\n",
      "('llama2_70b_default Score', 'llama2_70b_50perc_contaminated Score'): 0.5307948978898048\n",
      "\n",
      "\n",
      "('llama2_70b_default Score', 'llama2_70b_100perc_contaminated Score'): 0.4355737118843426\n",
      "\n",
      "\n",
      "('llama2_70b_50perc_contaminated Score', 'llama2_70b_100perc_contaminated Score'): 0.8794500493095139\n",
      "\n",
      "\n",
      "gpt_35\n",
      "('gpt_3.5_default Score', 'gpt_3.5_50perc_contaminated Score'): 1.592925372967747e-08\n",
      "\n",
      "\n",
      "('gpt_3.5_default Score', 'gpt_3.5_100perc_contaminated Score'): 4.6230546208614035e-17\n",
      "\n",
      "\n",
      "('gpt_3.5_50perc_contaminated Score', 'gpt_3.5_100perc_contaminated Score'): 0.0008732507198026127\n",
      "\n",
      "\n"
     ]
    }
   ],
   "source": [
    "# for each score distribution, calculate the p value between the distributions\n",
    "\n",
    "for file in result_files:\n",
    "    df = pd.read_csv(file, sep='\\t')\n",
    "    long_scores = melt_score_df(df)\n",
    "    model_name = '_'.join(file.split('/')[-1].split('.')[0].split('_')[-2:])\n",
    "    print(model_name)\n",
    "    p_dict = calculate_p_values(long_scores)\n",
    "    for key, value in p_dict.items():\n",
    "        print(f'{key}: {value}')\n",
    "        print('\\n')"
   ]
  },
  {
   "cell_type": "code",
   "execution_count": 21,
   "metadata": {},
   "outputs": [
    {
     "name": "stdout",
     "output_type": "stream",
     "text": [
      "['./data/GO_term_analysis/model_compare/LLM_processed_model_compare_100set_gpt_4.tsv', './data/GO_term_analysis/model_compare/LLM_processed_model_compare_100set_gemini_pro.tsv', './data/GO_term_analysis/model_compare/LLM_processed_model_compare_100set_mixtral_instruct.tsv', './data/GO_term_analysis/model_compare/LLM_processed_model_compare_100set_llama2_70b.tsv', './data/GO_term_analysis/model_compare/LLM_processed_model_compare_100set_gpt_35.tsv']\n"
     ]
    }
   ],
   "source": [
    "\n",
    "result_files = glob('./data/GO_term_analysis/model_compare/LLM_processed*100set*.tsv')\n",
    "# add on data to the LLM processed data based on column names \n",
    "print(result_files)\n"
   ]
  },
  {
   "cell_type": "code",
   "execution_count": 23,
   "metadata": {},
   "outputs": [
    {
     "name": "stdout",
     "output_type": "stream",
     "text": [
      "gpt_4\n",
      "gpt_4_default Score:\n",
      "count    100.000000\n",
      "mean       0.870500\n",
      "std        0.183029\n",
      "min        0.000000\n",
      "10%        0.850000\n",
      "25%        0.850000\n",
      "50%        0.920000\n",
      "75%        0.920000\n",
      "90%        0.950000\n",
      "max        0.980000\n",
      "Name: Score, dtype: float64\n",
      "\n",
      "\n",
      "gpt_4_50perc_contaminated Score:\n",
      "count    100.000000\n",
      "mean       0.614700\n",
      "std        0.386759\n",
      "min        0.000000\n",
      "10%        0.000000\n",
      "25%        0.000000\n",
      "50%        0.850000\n",
      "75%        0.850000\n",
      "90%        0.902000\n",
      "max        0.920000\n",
      "Name: Score, dtype: float64\n",
      "\n",
      "\n",
      "gpt_4_100perc_contaminated Score:\n",
      "count    100.000000\n",
      "mean       0.103000\n",
      "std        0.274121\n",
      "min        0.000000\n",
      "10%        0.000000\n",
      "25%        0.000000\n",
      "50%        0.000000\n",
      "75%        0.000000\n",
      "90%        0.850000\n",
      "max        0.850000\n",
      "Name: Score, dtype: float64\n",
      "\n",
      "\n",
      "gemini_pro\n",
      "gemini_pro_default Score:\n",
      "count    100.000000\n",
      "mean       0.732300\n",
      "std        0.371015\n",
      "min        0.000000\n",
      "10%        0.000000\n",
      "25%        0.850000\n",
      "50%        0.920000\n",
      "75%        0.920000\n",
      "90%        0.980000\n",
      "max        0.980000\n",
      "Name: Score, dtype: float64\n",
      "\n",
      "\n",
      "gemini_pro_50perc_contaminated Score:\n",
      "count    100.000000\n",
      "mean       0.526300\n",
      "std        0.443094\n",
      "min        0.000000\n",
      "10%        0.000000\n",
      "25%        0.000000\n",
      "50%        0.850000\n",
      "75%        0.920000\n",
      "90%        0.926000\n",
      "max        0.980000\n",
      "Name: Score, dtype: float64\n",
      "\n",
      "\n",
      "gemini_pro_100perc_contaminated Score:\n",
      "count    100.000000\n",
      "mean       0.353300\n",
      "std        0.427679\n",
      "min        0.000000\n",
      "10%        0.000000\n",
      "25%        0.000000\n",
      "50%        0.000000\n",
      "75%        0.850000\n",
      "90%        0.920000\n",
      "max        0.960000\n",
      "Name: Score, dtype: float64\n",
      "\n",
      "\n",
      "mixtral_instruct\n",
      "mixtral_instruct_default Score:\n",
      "count    100.000000\n",
      "mean       0.907400\n",
      "std        0.067354\n",
      "min        0.350000\n",
      "10%        0.868000\n",
      "25%        0.907500\n",
      "50%        0.920000\n",
      "75%        0.920000\n",
      "90%        0.980000\n",
      "max        0.980000\n",
      "Name: Score, dtype: float64\n",
      "\n",
      "\n",
      "mixtral_instruct_50perc_contaminated Score:\n",
      "count    100.000000\n",
      "mean       0.810500\n",
      "std        0.181611\n",
      "min        0.350000\n",
      "10%        0.350000\n",
      "25%        0.850000\n",
      "50%        0.870000\n",
      "75%        0.920000\n",
      "90%        0.920000\n",
      "max        0.920000\n",
      "Name: Score, dtype: float64\n",
      "\n",
      "\n",
      "mixtral_instruct_100perc_contaminated Score:\n",
      "count    100.000000\n",
      "mean       0.767100\n",
      "std        0.202371\n",
      "min        0.350000\n",
      "10%        0.350000\n",
      "25%        0.820000\n",
      "50%        0.850000\n",
      "75%        0.870000\n",
      "90%        0.920000\n",
      "max        0.920000\n",
      "Name: Score, dtype: float64\n",
      "\n",
      "\n",
      "llama2_70b\n",
      "llama2_70b_default Score:\n",
      "count    100.000000\n",
      "mean       0.864800\n",
      "std        0.008817\n",
      "min        0.850000\n",
      "10%        0.850000\n",
      "25%        0.850000\n",
      "50%        0.870000\n",
      "75%        0.870000\n",
      "90%        0.870000\n",
      "max        0.870000\n",
      "Name: Score, dtype: float64\n",
      "\n",
      "\n",
      "llama2_70b_50perc_contaminated Score:\n",
      "count    100.000000\n",
      "mean       0.864000\n",
      "std        0.009211\n",
      "min        0.850000\n",
      "10%        0.850000\n",
      "25%        0.850000\n",
      "50%        0.870000\n",
      "75%        0.870000\n",
      "90%        0.870000\n",
      "max        0.870000\n",
      "Name: Score, dtype: float64\n",
      "\n",
      "\n",
      "llama2_70b_100perc_contaminated Score:\n",
      "count    100.000000\n",
      "mean       0.863800\n",
      "std        0.009296\n",
      "min        0.850000\n",
      "10%        0.850000\n",
      "25%        0.850000\n",
      "50%        0.870000\n",
      "75%        0.870000\n",
      "90%        0.870000\n",
      "max        0.870000\n",
      "Name: Score, dtype: float64\n",
      "\n",
      "\n",
      "gpt_35\n",
      "gpt_3.5_default Score:\n",
      "count    100.00000\n",
      "mean       0.91310\n",
      "std        0.03234\n",
      "min        0.85000\n",
      "10%        0.85000\n",
      "25%        0.92000\n",
      "50%        0.92000\n",
      "75%        0.92000\n",
      "90%        0.95000\n",
      "max        0.95000\n",
      "Name: Score, dtype: float64\n",
      "\n",
      "\n",
      "gpt_3.5_50perc_contaminated Score:\n",
      "count    100.000000\n",
      "mean       0.882600\n",
      "std        0.036917\n",
      "min        0.850000\n",
      "10%        0.850000\n",
      "25%        0.850000\n",
      "50%        0.850000\n",
      "75%        0.920000\n",
      "90%        0.920000\n",
      "max        0.950000\n",
      "Name: Score, dtype: float64\n",
      "\n",
      "\n",
      "gpt_3.5_100perc_contaminated Score:\n",
      "count    100.000000\n",
      "mean       0.866300\n",
      "std        0.030407\n",
      "min        0.850000\n",
      "10%        0.850000\n",
      "25%        0.850000\n",
      "50%        0.850000\n",
      "75%        0.850000\n",
      "90%        0.920000\n",
      "max        0.950000\n",
      "Name: Score, dtype: float64\n",
      "\n",
      "\n"
     ]
    },
    {
     "name": "stderr",
     "output_type": "stream",
     "text": [
      "/tmp/ipykernel_240884/198758486.py:17: UserWarning: \n",
      "\n",
      "`distplot` is a deprecated function and will be removed in seaborn v0.14.0.\n",
      "\n",
      "Please adapt your code to use either `displot` (a figure-level function with\n",
      "similar flexibility) or `histplot` (an axes-level function for histograms).\n",
      "\n",
      "For a guide to updating your code to use the new functions, please see\n",
      "https://gist.github.com/mwaskom/de44147ed2974457ad6372750bbe5751\n",
      "\n",
      "  sns.distplot(all_scores)\n"
     ]
    },
    {
     "data": {
      "image/png": "[encoded data removed]",
      "text/plain": [
       "<Figure size 300x300 with 1 Axes>"
      ]
     },
     "metadata": {},
     "output_type": "display_data"
    }
   ],
   "source": [
    "# for each score distribution, print the percentiles\n",
    "all_scores = []\n",
    "for file in result_files:\n",
    "    df = pd.read_csv(file, sep='\\t')\n",
    "    long_scores = melt_score_df(df)\n",
    "    model_name = '_'.join(file.split('/')[-1].split('.')[0].split('_')[-2:])\n",
    "    print(model_name)\n",
    "    for score_type in long_scores['Score Type'].unique():\n",
    "        print(f'{score_type}:')\n",
    "        print(long_scores[long_scores['Score Type'] == score_type]['Score'].describe(percentiles=[.1, .25, .5, .75, .9]))\n",
    "        print('\\n')\n",
    "        # collect all scores together\n",
    "        all_scores.extend(long_scores[long_scores['Score Type'] == score_type]['Score'].values)\n",
    "\n",
    "# plot the distribution of all scores\n",
    "fig, ax = plt.subplots(figsize=(3,3))\n",
    "sns.distplot(all_scores)\n",
    "sns.despine()   \n",
    "plt.show()\n",
    "        "
   ]
  },
  {
   "cell_type": "code",
   "execution_count": 24,
   "metadata": {},
   "outputs": [
    {
     "name": "stdout",
     "output_type": "stream",
     "text": [
      "{'gpt_4_default': 4, 'gpt_4_50perc_contaminated': 28, 'gpt_4_100perc_contaminated': 87, 'gemini_pro_default': 20, 'gemini_pro_50perc_contaminated': 41, 'gemini_pro_100perc_contaminated': 59, 'mixtral_instruct_default': 0, 'mixtral_instruct_50perc_contaminated': 0, 'mixtral_instruct_100perc_contaminated': 0, 'llama2_70b_default': 0, 'llama2_70b_50perc_contaminated': 0, 'llama2_70b_100perc_contaminated': 0, 'gpt_3.5_default': 0, 'gpt_3.5_50perc_contaminated': 0, 'gpt_3.5_100perc_contaminated': 0}\n",
      "{}\n"
     ]
    }
   ],
   "source": [
    "# check if all zero scores are systems named 'systems of unrelated proteins'\n",
    "zeros_are_unrelated = {}\n",
    "zeros_with_names = {}\n",
    "for file in result_files:\n",
    "    df = pd.read_csv(file, sep='\\t')\n",
    "    score_cols = [col for col in df.columns if col.endswith('Score')]\n",
    "    \n",
    "    for score_col in score_cols:\n",
    "        prefix = score_col.split(' ')[0]\n",
    "        zeros_are_unrelated[prefix] = 0\n",
    "        for i, r in df[df[score_col] == 0].iterrows():\n",
    "            if 'unrelated proteins' in r[f'{prefix} Name']:\n",
    "                zeros_are_unrelated[prefix] += 1\n",
    "            else:\n",
    "                zeros_with_names[prefix] = r['GO']\n",
    "print(zeros_are_unrelated)\n",
    "print(zeros_with_names)\n",
    "    \n",
    "## everything that is zero score is a system of unrelated proteins\n",
    "    "
   ]
  },
  {
   "cell_type": "markdown",
   "metadata": {},
   "source": [
    "### Combine all the model confidence scores and bin them "
   ]
  },
  {
   "cell_type": "code",
   "execution_count": 25,
   "metadata": {},
   "outputs": [
    {
     "name": "stdout",
     "output_type": "stream",
     "text": [
      "gpt_4\n",
      "gemini_pro\n",
      "mixtral_instruct\n",
      "llama2_70b\n",
      "gpt_35\n",
      "             GO  Gene_Count    Score Type  Score       Model        Score Bin\n",
      "166  GO:0045069          85  Contaminated   0.87       GPT-4  High Confidence\n",
      "78   GO:1902966           9          Real   0.87  Gemini Pro  High Confidence\n",
      "79   GO:0035754           8          Real   0.87  Gemini Pro  High Confidence\n",
      "81   GO:1905668          12          Real   0.87  Gemini Pro  High Confidence\n",
      "124  GO:0003357          11  Contaminated   0.87  Gemini Pro  High Confidence\n",
      "..          ...         ...           ...    ...         ...              ...\n",
      "293  GO:1990874          61        Random   0.87  Llama2 70b  High Confidence\n",
      "294  GO:0002792          46        Random   0.87  Llama2 70b  High Confidence\n",
      "295  GO:1900368          25        Random   0.87  Llama2 70b  High Confidence\n",
      "297  GO:2000556           8        Random   0.87  Llama2 70b  High Confidence\n",
      "299  GO:0090100         100        Random   0.87  Llama2 70b  High Confidence\n",
      "\n",
      "[279 rows x 6 columns]\n"
     ]
    }
   ],
   "source": [
    "combine_df = pd.DataFrame()\n",
    "for file in result_files:\n",
    "    df = pd.read_csv(file, sep='\\t')\n",
    "    long_scores = melt_score_df(df)\n",
    "    \n",
    "    model_name = '_'.join(file.split('/')[-1].split('.')[0].split('_')[-2:])\n",
    "    print(model_name)\n",
    "    long_scores['Score Type'] = long_scores['Score Type'].apply(lambda x: 'Real' if 'default' in x else 'Contaminated' if '50' in x else 'Random')\n",
    "    # map the model name to my own choice of names\n",
    "    long_scores['Model'] = model_name\n",
    "    combine_df = pd.concat([combine_df, long_scores])\n",
    "\n",
    "# bin scores into no score, low score, medium score, high score\n",
    "bins = [-np.inf, 0, 0.79, 0.86, np.inf] # 0 is no score (name not assigned), between 0 to 0.79 is low score, between 0.8 to 0.86 is medium score, above 0.86 is high score\n",
    "labels = ['Name not assigned', 'Low Confidence', 'Medium Confidence', 'High Confidence']  # Define the corresponding labels\n",
    "\n",
    "# Apply the binning to the 'Score' column\n",
    "combine_df['Score Bin'] = pd.cut(combine_df['Score'], bins=bins, labels=labels)\n",
    "\n",
    "\n",
    "new_model_name = {'gpt_4': 'GPT-4', 'gemini_pro': 'Gemini Pro','gpt_35':'GPT-3.5', 'mixtral_instruct': 'Mixtral Instruct', 'llama2_70b': 'Llama2 70b'}\n",
    "combine_df['Model'] = combine_df['Model'].map(new_model_name)\n",
    "\n",
    "\n",
    "# And to check for a score of 0.87, which should be in 'High Score':\n",
    "print(combine_df[combine_df['Score'] == 0.87])\n",
    "\n",
    "combine_df.to_csv('./data/GO_term_analysis/model_compare/combined_scores_df.tsv', sep='\\t', index=False)"
   ]
  },
  {
   "cell_type": "code",
   "execution_count": 31,
   "metadata": {},
   "outputs": [
    {
     "name": "stdout",
     "output_type": "stream",
     "text": [
      "['GPT_3.5' 'GPT-4' 'Llama2 70b' 'Mixtral Instruct' 'Gemini Pro']\n"
     ]
    }
   ],
   "source": [
    "print(combine_df['Model'].unique())"
   ]
  },
  {
   "cell_type": "markdown",
   "metadata": {},
   "source": [
    "## Plot the confidence score bins with functional enrichment result "
   ]
  },
  {
   "cell_type": "code",
   "execution_count": 32,
   "metadata": {},
   "outputs": [
    {
     "data": {
      "text/html": [
       "<div>\n",
       "<style scoped>\n",
       "    .dataframe tbody tr th:only-of-type {\n",
       "        vertical-align: middle;\n",
       "    }\n",
       "\n",
       "    .dataframe tbody tr th {\n",
       "        vertical-align: top;\n",
       "    }\n",
       "\n",
       "    .dataframe thead th {\n",
       "        text-align: right;\n",
       "    }\n",
       "</style>\n",
       "<table border=\"1\" class=\"dataframe\">\n",
       "  <thead>\n",
       "    <tr style=\"text-align: right;\">\n",
       "      <th></th>\n",
       "      <th>Gene set type</th>\n",
       "      <th>Unassigned GO terms</th>\n",
       "      <th>Assigned GO terms</th>\n",
       "    </tr>\n",
       "  </thead>\n",
       "  <tbody>\n",
       "    <tr>\n",
       "      <th>0</th>\n",
       "      <td>Genes</td>\n",
       "      <td>0</td>\n",
       "      <td>100</td>\n",
       "    </tr>\n",
       "    <tr>\n",
       "      <th>1</th>\n",
       "      <td>50perc_contaminated_Genes</td>\n",
       "      <td>3</td>\n",
       "      <td>97</td>\n",
       "    </tr>\n",
       "    <tr>\n",
       "      <th>2</th>\n",
       "      <td>100perc_contaminated_Genes</td>\n",
       "      <td>85</td>\n",
       "      <td>15</td>\n",
       "    </tr>\n",
       "  </tbody>\n",
       "</table>\n",
       "</div>"
      ],
      "text/plain": [
       "                Gene set type Unassigned GO terms Assigned GO terms\n",
       "0                       Genes                   0               100\n",
       "1   50perc_contaminated_Genes                   3                97\n",
       "2  100perc_contaminated_Genes                  85                15"
      ]
     },
     "execution_count": 32,
     "metadata": {},
     "output_type": "execute_result"
    }
   ],
   "source": [
    "## check the go term enrichment analysis result \n",
    "import pandas as pd\n",
    "enrichr_res = pd.read_csv('./data/GO_term_analysis/100_GO_terms_enricher_res.tsv', sep='\\t')\n",
    "genes_col = [col for col in enrichr_res.columns if col.endswith('Genes')]\n",
    "# create the count table\n",
    "\n",
    "p_cutoff = 0.05\n",
    "count_table = pd.DataFrame(columns=['Gene set type','Unassigned GO terms', 'Assigned GO terms'])\n",
    "\n",
    "for col in genes_col: \n",
    "    num_enriched = sum(enrichr_res[f'{col} adj p-value'] <= p_cutoff)\n",
    "    num_unassigned = sum(enrichr_res[f'{col} adj p-value'] > p_cutoff)\n",
    "    count_row = pd.DataFrame({'Gene set type': col, 'Unassigned GO terms': num_unassigned, 'Assigned GO terms': num_enriched}, index=[0])\n",
    "    count_table = pd.concat([count_table, count_row], ignore_index=True)\n",
    "\n",
    "count_table\n"
   ]
  },
  {
   "cell_type": "code",
   "execution_count": 27,
   "metadata": {},
   "outputs": [
    {
     "data": {
      "text/html": [
       "<div>\n",
       "<style scoped>\n",
       "    .dataframe tbody tr th:only-of-type {\n",
       "        vertical-align: middle;\n",
       "    }\n",
       "\n",
       "    .dataframe tbody tr th {\n",
       "        vertical-align: top;\n",
       "    }\n",
       "\n",
       "    .dataframe thead th {\n",
       "        text-align: right;\n",
       "    }\n",
       "</style>\n",
       "<table border=\"1\" class=\"dataframe\">\n",
       "  <thead>\n",
       "    <tr style=\"text-align: right;\">\n",
       "      <th></th>\n",
       "      <th>Gene set type A</th>\n",
       "      <th>Gene set type B</th>\n",
       "      <th>Chi-Square Statistic</th>\n",
       "      <th>Chi-Square p-value</th>\n",
       "    </tr>\n",
       "  </thead>\n",
       "  <tbody>\n",
       "    <tr>\n",
       "      <th>0</th>\n",
       "      <td>Genes</td>\n",
       "      <td>50perc_contaminated_Genes</td>\n",
       "      <td>1.353638</td>\n",
       "      <td>2.446431e-01</td>\n",
       "    </tr>\n",
       "    <tr>\n",
       "      <th>1</th>\n",
       "      <td>Genes</td>\n",
       "      <td>100perc_contaminated_Genes</td>\n",
       "      <td>144.368286</td>\n",
       "      <td>2.951693e-33</td>\n",
       "    </tr>\n",
       "    <tr>\n",
       "      <th>2</th>\n",
       "      <td>50perc_contaminated_Genes</td>\n",
       "      <td>100perc_contaminated_Genes</td>\n",
       "      <td>133.137175</td>\n",
       "      <td>8.437566e-31</td>\n",
       "    </tr>\n",
       "  </tbody>\n",
       "</table>\n",
       "</div>"
      ],
      "text/plain": [
       "             Gene set type A             Gene set type B  \\\n",
       "0                      Genes   50perc_contaminated_Genes   \n",
       "1                      Genes  100perc_contaminated_Genes   \n",
       "2  50perc_contaminated_Genes  100perc_contaminated_Genes   \n",
       "\n",
       "   Chi-Square Statistic  Chi-Square p-value  \n",
       "0              1.353638        2.446431e-01  \n",
       "1            144.368286        2.951693e-33  \n",
       "2            133.137175        8.437566e-31  "
      ]
     },
     "execution_count": 27,
     "metadata": {},
     "output_type": "execute_result"
    }
   ],
   "source": [
    "from scipy.stats import chi2_contingency\n",
    "\n",
    "chi_square_results = pd.DataFrame(columns=['Gene set type A', 'Gene set type B', 'Chi-Square Statistic', 'Chi-Square p-value'])\n",
    "\n",
    "# Perform chi-square tests between each combination of gene set types\n",
    "for i in range(len(count_table)):\n",
    "    for j in range(i+1, len(count_table)):\n",
    "        # Create the contingency table for the current pair of gene set types\n",
    "        contingency_table = count_table.iloc[[i, j], 1:3].values\n",
    "        \n",
    "        # Perform the chi-square test\n",
    "        chi2_stat, p_value, dof, _ = chi2_contingency(contingency_table)\n",
    "        \n",
    "        # Append the results to the results DataFrame\n",
    "        result = pd.DataFrame({\n",
    "            'Gene set type A': [count_table['Gene set type'][i]],\n",
    "            'Gene set type B': [count_table['Gene set type'][j]],\n",
    "            'Chi-Square Statistic': [chi2_stat],\n",
    "            'Chi-Square p-value': [p_value]\n",
    "        }, index=[0]) \n",
    "        chi_square_results = pd.concat([chi_square_results, result], ignore_index=True)\n",
    "\n",
    "chi_square_results"
   ]
  },
  {
   "cell_type": "code",
   "execution_count": 31,
   "metadata": {},
   "outputs": [
    {
     "data": {
      "image/png": "[encoded data removed]",
      "text/plain": [
       "<Figure size 800x300 with 6 Axes>"
      ]
     },
     "metadata": {},
     "output_type": "display_data"
    }
   ],
   "source": [
    "# Defining the custom order for Score Types and Models\n",
    "score_type_order = ['Real', 'Contaminated', 'Random']\n",
    "model_order = ['GPT-4', 'Gemini Pro', 'GPT-3.5', 'Mixtral Instruct', 'Llama2 70b']\n",
    "score_bin_order =[ 'Name not assigned', 'Low Confidence', 'Medium Confidence', 'High Confidence']\n",
    "color_palette = ['#A5AA99','#e39cc5','#af549e', '#6c2167']\n",
    "\n",
    "combine_df = pd.read_csv('./data/GO_term_analysis/model_compare/combined_scores_df.tsv', sep='\\t')\n",
    "# Creating a categorical type for ordering\n",
    "combine_df['Score Type'] = pd.Categorical(combine_df['Score Type'], categories=score_type_order, ordered=True)\n",
    "combine_df['Model'] = pd.Categorical(combine_df['Model'], categories=model_order, ordered=True)\n",
    "combine_df['Score Bin'] = pd.Categorical(combine_df['Score Bin'], categories=score_bin_order, ordered=True)\n",
    "\n",
    "# Grouping and stacking data \n",
    "stacked_bins_data_option2 = combine_df.groupby(['Model', 'Score Type', 'Score Bin']).size().unstack().fillna(0)\n",
    "\n",
    "# Modify the layout to include an additional subplot\n",
    "fig, axes = plt.subplots(1, len(model_order) + 1, figsize=(8,3), sharey=True)\n",
    "\n",
    "# Plotting for each model (existing code)\n",
    "for i, model in enumerate(model_order):\n",
    "    model_data = stacked_bins_data_option2.loc[model]\n",
    "    model_data.plot(kind='bar', stacked=True, ax=axes[i], width=0.8, legend=False, color=color_palette)\n",
    "    axes[i].set_xlabel(model)\n",
    "    axes[i].set_xticklabels(['Real', '50/50 Mix', 'Random'], rotation=45)\n",
    "    if i == 0:\n",
    "        axes[i].set_ylabel('Counts')\n",
    "    else:\n",
    "        axes[i].yaxis.set_visible(False)\n",
    "\n",
    "# Plotting the new stacked bar plot\n",
    "count_table.plot(kind='bar', stacked=True, ax=axes[-1], x='Gene set type',y=['Unassigned GO terms', 'Assigned GO terms'], color=['#A5AA99','#6c2167'], width=0.8, legend=False)\n",
    "axes[-1].set_xticklabels(['Real', '50/50 Mix', 'Random'], rotation=45)\n",
    "axes[-1].set_xlabel('Functional Enrichment')\n",
    "axes[-1].yaxis.set_visible(False)\n",
    "\n",
    "# Adjusting the layout for the new plot\n",
    "for i, ax in enumerate(axes):\n",
    "    if i != 0:\n",
    "        sns.despine(ax=ax, left=True)\n",
    "    else:\n",
    "        sns.despine(ax=ax)\n",
    "        \n",
    "plt.tight_layout()\n",
    "\n",
    "handles, labels = axes[0].get_legend_handles_labels()\n",
    "\n",
    "fig.legend(handles, labels, title='Score Bin', loc='upper left', bbox_to_anchor=(1, 1), fontsize=6)\n",
    "\n",
    "# Saving the figure\n",
    "plt.savefig('./figures/model_compare/combined_scores_bin_counts_by_models_with_enrichr.svg', bbox_inches='tight')\n",
    "plt.show()\n"
   ]
  },
  {
   "cell_type": "code",
   "execution_count": 2,
   "metadata": {},
   "outputs": [],
   "source": [
    "import pandas as pd\n",
    "data = pd.read_csv('./data/GO_term_analysis/model_compare/combined_scores_df.tsv', sep='\\t')"
   ]
  },
  {
   "cell_type": "markdown",
   "metadata": {},
   "source": [
    "### Calculate significance"
   ]
  },
  {
   "cell_type": "code",
   "execution_count": 7,
   "metadata": {},
   "outputs": [
    {
     "data": {
      "text/html": [
       "<div>\n",
       "<style scoped>\n",
       "    .dataframe tbody tr th:only-of-type {\n",
       "        vertical-align: middle;\n",
       "    }\n",
       "\n",
       "    .dataframe tbody tr th {\n",
       "        vertical-align: top;\n",
       "    }\n",
       "\n",
       "    .dataframe thead th {\n",
       "        text-align: right;\n",
       "    }\n",
       "</style>\n",
       "<table border=\"1\" class=\"dataframe\">\n",
       "  <thead>\n",
       "    <tr style=\"text-align: right;\">\n",
       "      <th></th>\n",
       "      <th>Model</th>\n",
       "      <th>Comparison</th>\n",
       "      <th>Chi-Square Statistic</th>\n",
       "      <th>Chi-Square p-value</th>\n",
       "    </tr>\n",
       "  </thead>\n",
       "  <tbody>\n",
       "    <tr>\n",
       "      <th>0</th>\n",
       "      <td>GPT-3.5</td>\n",
       "      <td>Real vs Contaminated</td>\n",
       "      <td>27.958149</td>\n",
       "      <td>1.239678e-07</td>\n",
       "    </tr>\n",
       "    <tr>\n",
       "      <th>1</th>\n",
       "      <td>GPT-3.5</td>\n",
       "      <td>Real vs Random</td>\n",
       "      <td>67.448622</td>\n",
       "      <td>2.162496e-16</td>\n",
       "    </tr>\n",
       "    <tr>\n",
       "      <th>2</th>\n",
       "      <td>GPT-3.5</td>\n",
       "      <td>Contaminated vs Random</td>\n",
       "      <td>9.826203</td>\n",
       "      <td>1.720431e-03</td>\n",
       "    </tr>\n",
       "    <tr>\n",
       "      <th>3</th>\n",
       "      <td>GPT-4</td>\n",
       "      <td>Real vs Contaminated</td>\n",
       "      <td>71.064828</td>\n",
       "      <td>2.524779e-15</td>\n",
       "    </tr>\n",
       "    <tr>\n",
       "      <th>4</th>\n",
       "      <td>GPT-4</td>\n",
       "      <td>Real vs Random</td>\n",
       "      <td>154.531868</td>\n",
       "      <td>2.773728e-33</td>\n",
       "    </tr>\n",
       "    <tr>\n",
       "      <th>5</th>\n",
       "      <td>GPT-4</td>\n",
       "      <td>Contaminated vs Random</td>\n",
       "      <td>73.076017</td>\n",
       "      <td>9.362626e-16</td>\n",
       "    </tr>\n",
       "    <tr>\n",
       "      <th>6</th>\n",
       "      <td>Llama2 70b</td>\n",
       "      <td>Real vs Contaminated</td>\n",
       "      <td>0.223214</td>\n",
       "      <td>6.366016e-01</td>\n",
       "    </tr>\n",
       "    <tr>\n",
       "      <th>7</th>\n",
       "      <td>Llama2 70b</td>\n",
       "      <td>Real vs Random</td>\n",
       "      <td>0.392590</td>\n",
       "      <td>5.309412e-01</td>\n",
       "    </tr>\n",
       "    <tr>\n",
       "      <th>8</th>\n",
       "      <td>Llama2 70b</td>\n",
       "      <td>Contaminated vs Random</td>\n",
       "      <td>0.000000</td>\n",
       "      <td>1.000000e+00</td>\n",
       "    </tr>\n",
       "    <tr>\n",
       "      <th>9</th>\n",
       "      <td>Mixtral Instruct</td>\n",
       "      <td>Real vs Contaminated</td>\n",
       "      <td>24.637718</td>\n",
       "      <td>4.466707e-06</td>\n",
       "    </tr>\n",
       "    <tr>\n",
       "      <th>10</th>\n",
       "      <td>Mixtral Instruct</td>\n",
       "      <td>Real vs Random</td>\n",
       "      <td>54.403679</td>\n",
       "      <td>1.536000e-12</td>\n",
       "    </tr>\n",
       "    <tr>\n",
       "      <th>11</th>\n",
       "      <td>Mixtral Instruct</td>\n",
       "      <td>Contaminated vs Random</td>\n",
       "      <td>8.082859</td>\n",
       "      <td>1.757234e-02</td>\n",
       "    </tr>\n",
       "    <tr>\n",
       "      <th>12</th>\n",
       "      <td>Gemini Pro</td>\n",
       "      <td>Real vs Contaminated</td>\n",
       "      <td>16.983172</td>\n",
       "      <td>7.123966e-04</td>\n",
       "    </tr>\n",
       "    <tr>\n",
       "      <th>13</th>\n",
       "      <td>Gemini Pro</td>\n",
       "      <td>Real vs Random</td>\n",
       "      <td>48.356527</td>\n",
       "      <td>1.788129e-10</td>\n",
       "    </tr>\n",
       "    <tr>\n",
       "      <th>14</th>\n",
       "      <td>Gemini Pro</td>\n",
       "      <td>Contaminated vs Random</td>\n",
       "      <td>10.838693</td>\n",
       "      <td>1.263088e-02</td>\n",
       "    </tr>\n",
       "  </tbody>\n",
       "</table>\n",
       "</div>"
      ],
      "text/plain": [
       "               Model              Comparison  Chi-Square Statistic  \\\n",
       "0            GPT-3.5    Real vs Contaminated             27.958149   \n",
       "1            GPT-3.5          Real vs Random             67.448622   \n",
       "2            GPT-3.5  Contaminated vs Random              9.826203   \n",
       "3              GPT-4    Real vs Contaminated             71.064828   \n",
       "4              GPT-4          Real vs Random            154.531868   \n",
       "5              GPT-4  Contaminated vs Random             73.076017   \n",
       "6         Llama2 70b    Real vs Contaminated              0.223214   \n",
       "7         Llama2 70b          Real vs Random              0.392590   \n",
       "8         Llama2 70b  Contaminated vs Random              0.000000   \n",
       "9   Mixtral Instruct    Real vs Contaminated             24.637718   \n",
       "10  Mixtral Instruct          Real vs Random             54.403679   \n",
       "11  Mixtral Instruct  Contaminated vs Random              8.082859   \n",
       "12        Gemini Pro    Real vs Contaminated             16.983172   \n",
       "13        Gemini Pro          Real vs Random             48.356527   \n",
       "14        Gemini Pro  Contaminated vs Random             10.838693   \n",
       "\n",
       "    Chi-Square p-value  \n",
       "0         1.239678e-07  \n",
       "1         2.162496e-16  \n",
       "2         1.720431e-03  \n",
       "3         2.524779e-15  \n",
       "4         2.773728e-33  \n",
       "5         9.362626e-16  \n",
       "6         6.366016e-01  \n",
       "7         5.309412e-01  \n",
       "8         1.000000e+00  \n",
       "9         4.466707e-06  \n",
       "10        1.536000e-12  \n",
       "11        1.757234e-02  \n",
       "12        7.123966e-04  \n",
       "13        1.788129e-10  \n",
       "14        1.263088e-02  "
      ]
     },
     "execution_count": 7,
     "metadata": {},
     "output_type": "execute_result"
    }
   ],
   "source": [
    "import numpy as np\n",
    "from scipy.stats import chi2_contingency\n",
    "\n",
    "\n",
    "# Initialize a new results list to store the pairwise chi-square test results\n",
    "pairwise_results = []\n",
    "\n",
    "# Iterate over each model\n",
    "for model in data['Model'].unique():\n",
    "    model_data = data[data['Model'] == model]\n",
    "    \n",
    "    # Define the pairs for comparison\n",
    "    comparison_pairs = [\n",
    "        ('Real', 'Contaminated'),  # Real vs contaminated\n",
    "        ('Real', 'Random'),     # Real vs Random\n",
    "        ('Contaminated', 'Random') # contaminated vs Random\n",
    "    ]\n",
    "\n",
    "    # Perform chi-square test for each pair\n",
    "    for pair in comparison_pairs:\n",
    "        # Creating a subset of data for the two score types being compared\n",
    "        pair_data = model_data[model_data['Score Type'].isin(pair)]\n",
    "        \n",
    "        # Constructing the contingency table for 'Score Bin' across the selected 'Score Type'\n",
    "        score_bin_table = pd.crosstab(pair_data['Score Bin'], pair_data['Score Type'])\n",
    "        \n",
    "        # If the table is valid, perform chi-square test, else skip\n",
    "        if score_bin_table.shape[1] == 2:  # Ensure table is correct shape for comparison\n",
    "            chi2, p, dof, expected = chi2_contingency(score_bin_table)\n",
    "            pairwise_results.append({\n",
    "                'Model': model,\n",
    "                'Comparison': f\"{pair[0]} vs {pair[1]}\",\n",
    "                'Chi-Square Statistic': chi2,\n",
    "                'Chi-Square p-value': p\n",
    "            })\n",
    "        else:\n",
    "            # Handle cases where the contingency table is not suitable for chi-square test\n",
    "            pairwise_results.append({\n",
    "                'Model': model,\n",
    "                'Comparison': f\"{pair[0]} vs {pair[1]}\",\n",
    "                'Chi-Square Statistic': np.nan,\n",
    "                'Chi-Square p-value': np.nan\n",
    "            })\n",
    "\n",
    "# Convert the results to a DataFrame for better presentation\n",
    "pairwise_results_df = pd.DataFrame(pairwise_results)\n",
    "pairwise_results_df\n"
   ]
  },
  {
   "cell_type": "code",
   "execution_count": null,
   "metadata": {},
   "outputs": [],
   "source": []
  },
  {
   "cell_type": "code",
   "execution_count": 4,
   "metadata": {},
   "outputs": [],
   "source": [
    "from glob import glob\n",
    "import pandas as pd\n",
    "import numpy as np\n",
    "files = glob('./data/GO_term_analysis/model_compare/LLM_processed*100set*.tsv')\n"
   ]
  },
  {
   "cell_type": "code",
   "execution_count": 5,
   "metadata": {},
   "outputs": [
    {
     "name": "stdout",
     "output_type": "stream",
     "text": [
      "gpt_4\n",
      "gpt_4_default\n",
      "gpt_4_50perc_contaminated\n",
      "gpt_4_100perc_contaminated\n",
      "gemini_pro\n",
      "gemini_pro_default\n",
      "gemini_pro_50perc_contaminated\n",
      "gemini_pro_100perc_contaminated\n",
      "mixtral_instruct\n",
      "mixtral_instruct_default\n",
      "mixtral_instruct_50perc_contaminated\n",
      "mixtral_instruct_100perc_contaminated\n",
      "llama2_70b\n",
      "llama2_70b_default\n",
      "llama2_70b_50perc_contaminated\n",
      "llama2_70b_100perc_contaminated\n",
      "gpt_35\n",
      "gpt_3.5_default\n",
      "gpt_3.5_50perc_contaminated\n",
      "gpt_3.5_100perc_contaminated\n"
     ]
    }
   ],
   "source": [
    "def bin_scores(df, score_col, prefix):\n",
    "    # bin scores into no score, low score, medium score, high score\n",
    "    bins = [-np.inf, 0, 0.79, 0.86, np.inf] # 0 is no score (name not assigned), between 0 to 0.79 is low score, between 0.8 to 0.86 is medium score, above 0.86 is high score\n",
    "    labels = ['Name not assigned', 'Low Confidence', 'Medium Confidence', 'High Confidence']  # Define the corresponding labels\n",
    "\n",
    "    # Apply the binning to the 'Score' column\n",
    "    df[f'{prefix} Score Bin'] = pd.cut(df[score_col], bins=bins, labels=labels)\n",
    "\n",
    "for file in files:\n",
    "    model = '_'.join(file.split('/')[-1].split('.')[0].split('_')[-2:])\n",
    "    print(model)\n",
    "    df = pd.read_csv(file, sep='\\t')\n",
    "    model_name = '_'.join(file.split('/')[-1].split('.')[0].split('_')[-2:])\n",
    "    # print(model_name)\n",
    "    if model_name == 'gpt_35':\n",
    "        prefix = 'gpt_3.5'\n",
    "    else:\n",
    "        prefix = model_name\n",
    "    \n",
    "    score_cols = [col for col in df.columns if col.endswith('Score')]\n",
    "    for col in score_cols:\n",
    "        long_prefix = col.split(' ')[0]\n",
    "        print(long_prefix)\n",
    "        bin_scores(df, col, long_prefix)\n",
    "    df.to_csv(file, sep='\\t', index=False)\n"
   ]
  },
  {
   "cell_type": "code",
   "execution_count": null,
   "metadata": {},
   "outputs": [],
   "source": []
  }
 ],
 "metadata": {
  "kernelspec": {
   "display_name": "llm_eval",
   "language": "python",
   "name": "python3"
  },
  "language_info": {
   "codemirror_mode": {
    "name": "ipython",
    "version": 3
   },
   "file_extension": ".py",
   "mimetype": "text/x-python",
   "name": "python",
   "nbconvert_exporter": "python",
   "pygments_lexer": "ipython3",
   "version": "3.11.5"
  }
 },
 "nbformat": 4,
 "nbformat_minor": 2
}

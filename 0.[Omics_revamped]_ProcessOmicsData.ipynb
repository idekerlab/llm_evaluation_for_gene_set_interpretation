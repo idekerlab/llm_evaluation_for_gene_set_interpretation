{
 "cells": [
  {
   "cell_type": "code",
   "execution_count": 2,
   "id": "9fa86f76-d230-4ce8-a385-ab8dfcc07406",
   "metadata": {
    "tags": [],
    "vscode": {
     "languageId": "r"
    }
   },
   "outputs": [],
   "source": [
    "library(plyr, verbose  = FALSE)\n",
    "library(tidyverse, verbose  = FALSE)\n",
    "library(tidyjson, verbose  = FALSE)\n",
    "library(readxl, verbose  = FALSE)\n",
    "#library(disgenet2r, verbose  = FALSE)\n",
    "#library(getPass, verbose  = FALSE)"
   ]
  },
  {
   "cell_type": "code",
   "execution_count": 2,
   "id": "bd1e70fa-775a-4805-a6c3-5d2e00115c1c",
   "metadata": {
    "vscode": {
     "languageId": "r"
    }
   },
   "outputs": [],
   "source": [
    "`%ni%` <- Negate(`%in%`)"
   ]
  },
  {
   "cell_type": "raw",
   "id": "e650834f-e251-45ec-9171-a3afd835d069",
   "metadata": {},
   "source": [
    "NeST - 100\n",
    "L1000 - 100 \n",
    "Viral infections - 100\n",
    "Disease  - 100"
   ]
  },
  {
   "cell_type": "raw",
   "id": "e1da7447-f350-4d52-bc1e-2713bdd330fd",
   "metadata": {},
   "source": [
    "Process all\n",
    "Keep only homo sapiens\n",
    "For perturbations keep same cell line and time for consitency and fairness\n",
    "3-100 genes\n",
    "get 100 from each \n",
    "get test data 10 from each "
   ]
  },
  {
   "cell_type": "code",
   "execution_count": 3,
   "id": "535a585b-21fe-4ee3-a49f-631eb8962c50",
   "metadata": {
    "vscode": {
     "languageId": "r"
    }
   },
   "outputs": [],
   "source": [
    "genesets_colnames = c(\"Source\", \"GeneSetID\", \"GeneSetName\", \"GeneList\", \"n_Genes\")\n",
    "genesets_MAT = matrix(nrow = 0, ncol = length(genesets_colnames))\n",
    "colnames(genesets_MAT) = genesets_colnames\n",
    "genesets_DF = as_tibble(genesets_MAT) %>%\n",
    "  mutate(across(everything(), as.character))\n",
    "genesets_DF$n_Genes = as.integer(genesets_DF$n_Genes)\n",
    "genesets_empty_DF = genesets_DF"
   ]
  },
  {
   "cell_type": "markdown",
   "id": "f2609059-197f-4524-a9c0-e5f9a5cd55c4",
   "metadata": {},
   "source": [
    "### NeST"
   ]
  },
  {
   "cell_type": "code",
   "execution_count": 4,
   "id": "c89062e1-9aa0-4de6-9f35-86330f080be1",
   "metadata": {
    "tags": [],
    "vscode": {
     "languageId": "r"
    }
   },
   "outputs": [
    {
     "name": "stderr",
     "output_type": "stream",
     "text": [
      "\u001b[1mRows: \u001b[22m\u001b[34m39463\u001b[39m \u001b[1mColumns: \u001b[22m\u001b[34m3\u001b[39m\n",
      "\u001b[36m──\u001b[39m \u001b[1mColumn specification\u001b[22m \u001b[36m────────────────────────────────────────────────────────\u001b[39m\n",
      "\u001b[1mDelimiter:\u001b[22m \"\\t\"\n",
      "\u001b[31mchr\u001b[39m (3): X1, X2, X3\n",
      "\n",
      "\u001b[36mℹ\u001b[39m Use `spec()` to retrieve the full column specification for this data.\n",
      "\u001b[36mℹ\u001b[39m Specify the column types or set `show_col_types = FALSE` to quiet this message.\n",
      "Warning message:\n",
      "“\u001b[1m\u001b[22mUsing an external vector in selections was deprecated in tidyselect 1.1.0.\n",
      "\u001b[36mℹ\u001b[39m Please use `all_of()` or `any_of()` instead.\n",
      "  # Was:\n",
      "  data %>% select(genesets_colnames)\n",
      "\n",
      "  # Now:\n",
      "  data %>% select(all_of(genesets_colnames))\n",
      "\n",
      "See <https://tidyselect.r-lib.org/reference/faq-external-vector.html>.”\n"
     ]
    }
   ],
   "source": [
    "NeST_DF = read_delim(\"data/Omics_data/NeST__IAS_clixo_hidef_Nov17.edges\", delim = \"\\t\", col_names = FALSE)  %>%\n",
    "subset(X3 == \"gene\") %>%\n",
    "group_by(X1) %>% \n",
    "summarize(GeneList = paste0(X2, collapse = \" \")) %>%\n",
    "rowwise() %>%\n",
    "mutate(n_Genes = length(str_split(string = GeneList, pattern = \" \")[[1]])) %>%\n",
    "subset(between(x = n_Genes, left = 3, right = 100)) %>%\n",
    "mutate(Source = \"NeST\",\n",
    "      GeneSetID = X1,\n",
    "      GeneSetName = X1) %>%\n",
    "select(-X1) %>%\n",
    "select(genesets_colnames)"
   ]
  },
  {
   "cell_type": "markdown",
   "id": "0ba66810-2078-43a8-a584-092f69c5efaf",
   "metadata": {
    "tags": []
   },
   "source": [
    "### L1000"
   ]
  },
  {
   "cell_type": "raw",
   "id": "ea9a9027-803b-42fc-b5d0-599253d6bb85",
   "metadata": {},
   "source": [
    "https://maayanlab.cloud/Harmonizome/dataset/LINCS+L1000+CMAP+Signatures+of+Differentially+Expressed+Genes+for+Small+Molecules"
   ]
  },
  {
   "cell_type": "code",
   "execution_count": 5,
   "id": "f85c33aa-5e63-4a8b-aae6-b4155293b78b",
   "metadata": {
    "tags": [],
    "vscode": {
     "languageId": "r"
    }
   },
   "outputs": [
    {
     "name": "stderr",
     "output_type": "stream",
     "text": [
      "\u001b[1m\u001b[22mNew names:\n",
      "\u001b[36m•\u001b[39m `NA` -> `NA...2`\n",
      "\u001b[36m•\u001b[39m `NA` -> `NA...5`\n",
      "\u001b[36m•\u001b[39m `NA` -> `NA...6`\n",
      "\u001b[1mRows: \u001b[22m\u001b[34m4189677\u001b[39m \u001b[1mColumns: \u001b[22m\u001b[34m7\u001b[39m\n",
      "\u001b[36m──\u001b[39m \u001b[1mColumn specification\u001b[22m \u001b[36m────────────────────────────────────────────────────────\u001b[39m\n",
      "\u001b[1mDelimiter:\u001b[22m \"\\t\"\n",
      "\u001b[31mchr\u001b[39m (4): GeneSym, NA...2, Perturbation ID_Perturbagen_Cell Line_Time_Time Un...\n",
      "\u001b[32mdbl\u001b[39m (3): GeneID, NA...6, weight\n",
      "\n",
      "\u001b[36mℹ\u001b[39m Use `spec()` to retrieve the full column specification for this data.\n",
      "\u001b[36mℹ\u001b[39m Specify the column types or set `show_col_types = FALSE` to quiet this message.\n",
      "Warning message:\n",
      "“\u001b[1m\u001b[22mExpected 7 pieces. Additional pieces discarded in 85 rows [2543, 2544, 2545,\n",
      "2546, 2547, 2548, 2549, 2550, 2551, 2552, 3579, 3580, 3581, 3582, 3583, 3584,\n",
      "3585, 3586, 4223, 4224, ...].”\n"
     ]
    }
   ],
   "source": [
    "L1000_all_DF = read_delim(\"data/Omics_data/L1000__gene_attribute_edges.txt\", delim = \"\\t\", skip = 1) %>%\n",
    "group_by(`Perturbation ID_Perturbagen_Cell Line_Time_Time Unit_Dose_Dose Unit`) %>%\n",
    "summarize(GeneList = paste0(GeneSym, collapse = \" \")) %>%\n",
    "rowwise() %>%\n",
    "mutate(n_Genes = length(str_split(string = GeneList, pattern = \" \")[[1]]))  %>%\n",
    "subset(between(x = n_Genes, left = 3, right = 100)) %>%\n",
    "mutate(Source = \"L1000\",\n",
    "       GeneSetID = `Perturbation ID_Perturbagen_Cell Line_Time_Time Unit_Dose_Dose Unit`,\n",
    "       GeneSetName = `Perturbation ID_Perturbagen_Cell Line_Time_Time Unit_Dose_Dose Unit`) %>%\n",
    "select(-\"Perturbation ID_Perturbagen_Cell Line_Time_Time Unit_Dose_Dose Unit\") %>%\n",
    "separate(col =  \"GeneSetName\",\n",
    "         into = c(\"Drug\", \"Reagent\", \"Cellline\", \"duration\", \"duration_unit\", \"dosage\", \"dosage_unit\"),\n",
    "         sep = \"_\",\n",
    "        remove = FALSE) "
   ]
  },
  {
   "cell_type": "code",
   "execution_count": 6,
   "id": "1cbe6d6f-a138-4b55-8da0-b75dffa3133f",
   "metadata": {
    "vscode": {
     "languageId": "r"
    }
   },
   "outputs": [
    {
     "data": {
      "text/html": [
       "<style>\n",
       ".list-inline {list-style: none; margin:0; padding: 0}\n",
       ".list-inline>li {display: inline-block}\n",
       ".list-inline>li:not(:last-child)::after {content: \"\\00b7\"; padding: 0 .5ex}\n",
       "</style>\n",
       "<ol class=list-inline><li>13408</li><li>12</li></ol>\n"
      ],
      "text/latex": [
       "\\begin{enumerate*}\n",
       "\\item 13408\n",
       "\\item 12\n",
       "\\end{enumerate*}\n"
      ],
      "text/markdown": [
       "1. 13408\n",
       "2. 12\n",
       "\n",
       "\n"
      ],
      "text/plain": [
       "[1] 13408    12"
      ]
     },
     "metadata": {},
     "output_type": "display_data"
    }
   ],
   "source": [
    "dim(L1000_all_DF)"
   ]
  },
  {
   "cell_type": "code",
   "execution_count": 7,
   "id": "4dcf4e07-6862-4d04-9831-8237cdca33c7",
   "metadata": {
    "vscode": {
     "languageId": "r"
    }
   },
   "outputs": [
    {
     "name": "stderr",
     "output_type": "stream",
     "text": [
      "\u001b[1m\u001b[22m`summarise()` has grouped output by 'Reagent', 'Cellline', 'duration',\n",
      "'duration_unit', 'dosage'. You can override using the `.groups` argument.\n"
     ]
    }
   ],
   "source": [
    "L1000_sep_count_DF = L1000_all_DF %>%\n",
    "group_by(Reagent, Cellline, duration,duration_unit, dosage, dosage_unit) %>%\n",
    "summarise(n_genesets = n()) %>%\n",
    "arrange(desc(n_genesets))"
   ]
  },
  {
   "cell_type": "code",
   "execution_count": 9,
   "id": "bfcf2dc5-f2a8-4f3c-bae5-f47283271f2a",
   "metadata": {
    "vscode": {
     "languageId": "r"
    }
   },
   "outputs": [],
   "source": [
    "write_delim(x = L1000_sep_count_DF, file = \"data/L1000_sep_count_DF.txt\", delim = \"\\t\")"
   ]
  },
  {
   "cell_type": "code",
   "execution_count": 10,
   "id": "db18a131-75b7-4b9e-af5b-c5550165804a",
   "metadata": {
    "tags": [],
    "vscode": {
     "languageId": "r"
    }
   },
   "outputs": [
    {
     "data": {
      "text/html": [
       "<style>\n",
       ".list-inline {list-style: none; margin:0; padding: 0}\n",
       ".list-inline>li {display: inline-block}\n",
       ".list-inline>li:not(:last-child)::after {content: \"\\00b7\"; padding: 0 .5ex}\n",
       "</style>\n",
       "<ol class=list-inline><li>9916</li><li>7</li></ol>\n"
      ],
      "text/latex": [
       "\\begin{enumerate*}\n",
       "\\item 9916\n",
       "\\item 7\n",
       "\\end{enumerate*}\n"
      ],
      "text/markdown": [
       "1. 9916\n",
       "2. 7\n",
       "\n",
       "\n"
      ],
      "text/plain": [
       "[1] 9916    7"
      ]
     },
     "metadata": {},
     "output_type": "display_data"
    }
   ],
   "source": [
    "dim(L1000_sep_count_DF)"
   ]
  },
  {
   "cell_type": "code",
   "execution_count": 11,
   "id": "10f67e28-ae9e-41eb-8206-eca18a79cac0",
   "metadata": {
    "vscode": {
     "languageId": "r"
    }
   },
   "outputs": [],
   "source": [
    "L1000_DF = L1000_all_DF %>% \n",
    "subset(Cellline == \"MCF7\"& duration == \"6.0\"& dosage == \"10.0\")  %>%\n",
    "select(genesets_colnames)"
   ]
  },
  {
   "cell_type": "code",
   "execution_count": 12,
   "id": "49dfaedb-c8d7-4206-9623-f780188413c9",
   "metadata": {
    "tags": [],
    "vscode": {
     "languageId": "r"
    }
   },
   "outputs": [
    {
     "data": {
      "text/html": [
       "<style>\n",
       ".list-inline {list-style: none; margin:0; padding: 0}\n",
       ".list-inline>li {display: inline-block}\n",
       ".list-inline>li:not(:last-child)::after {content: \"\\00b7\"; padding: 0 .5ex}\n",
       "</style>\n",
       "<ol class=list-inline><li>994</li><li>5</li></ol>\n"
      ],
      "text/latex": [
       "\\begin{enumerate*}\n",
       "\\item 994\n",
       "\\item 5\n",
       "\\end{enumerate*}\n"
      ],
      "text/markdown": [
       "1. 994\n",
       "2. 5\n",
       "\n",
       "\n"
      ],
      "text/plain": [
       "[1] 994   5"
      ]
     },
     "metadata": {},
     "output_type": "display_data"
    }
   ],
   "source": [
    "dim(L1000_DF)"
   ]
  },
  {
   "cell_type": "markdown",
   "id": "8489f5ae-99db-47b0-8817-375b5ab0681b",
   "metadata": {},
   "source": [
    "### Viral Infections"
   ]
  },
  {
   "cell_type": "raw",
   "id": "083256c6-d879-4692-a860-db92f87fe1cc",
   "metadata": {},
   "source": [
    "https://maayanlab.cloud/Harmonizome/dataset/GEO+Signatures+of+Differentially+Expressed+Genes+for+Viral+Infections"
   ]
  },
  {
   "cell_type": "code",
   "execution_count": 14,
   "id": "7e092dc0-882c-46d7-81ad-1a74babe3764",
   "metadata": {
    "collapsed": true,
    "jupyter": {
     "outputs_hidden": true
    },
    "tags": [],
    "vscode": {
     "languageId": "r"
    }
   },
   "outputs": [
    {
     "name": "stderr",
     "output_type": "stream",
     "text": [
      "\u001b[1m\u001b[22mNew names:\n",
      "\u001b[36m•\u001b[39m `#` -> `#...1`\n",
      "\u001b[36m•\u001b[39m `#` -> `#...2`\n",
      "\u001b[36m•\u001b[39m `icSARS CoV_24Hour` -> `icSARS CoV_24Hour...11`\n",
      "\u001b[36m•\u001b[39m `icSARS CoV_60Hour` -> `icSARS CoV_60Hour...12`\n",
      "\u001b[36m•\u001b[39m `icSARS CoV_54Hour` -> `icSARS CoV_54Hour...13`\n",
      "\u001b[36m•\u001b[39m `icSARS CoV_48Hour` -> `icSARS CoV_48Hour...14`\n",
      "\u001b[36m•\u001b[39m `icSARS CoV_72Hour` -> `icSARS CoV_72Hour...15`\n",
      "\u001b[36m•\u001b[39m `icSARS CoV_36Hour` -> `icSARS CoV_36Hour...16`\n",
      "\u001b[36m•\u001b[39m `icSARS CoV_30Hour` -> `icSARS CoV_30Hour...17`\n",
      "\u001b[36m•\u001b[39m `icSARS CoV_12Hour` -> `icSARS CoV_12Hour...19`\n",
      "\u001b[36m•\u001b[39m `icSARS CoV_7Hour` -> `icSARS CoV_7Hour...21`\n",
      "\u001b[36m•\u001b[39m `SARS-CoV MA15_Day2-PFU-10^4` -> `SARS-CoV MA15_Day2-PFU-10^4...29`\n",
      "\u001b[36m•\u001b[39m `SARS-CoV MA15_Day2` -> `SARS-CoV MA15_Day2...31`\n",
      "\u001b[36m•\u001b[39m `SARS-CoV MA15_Day2` -> `SARS-CoV MA15_Day2...32`\n",
      "\u001b[36m•\u001b[39m `SARS-CoV MA15_Day7-C57BL6` -> `SARS-CoV MA15_Day7-C57BL6...34`\n",
      "\u001b[36m•\u001b[39m `SARS-CoV MA15_Day7-PFU-10^5` -> `SARS-CoV MA15_Day7-PFU-10^5...36`\n",
      "\u001b[36m•\u001b[39m `SARS-CoV MA15_Day7-C57BL6` -> `SARS-CoV MA15_Day7-C57BL6...38`\n",
      "\u001b[36m•\u001b[39m `SARS-CoV MA15_Day4` -> `SARS-CoV MA15_Day4...51`\n",
      "\u001b[36m•\u001b[39m `SARS-CoV MA15_Day4` -> `SARS-CoV MA15_Day4...52`\n",
      "\u001b[36m•\u001b[39m `SARS-CoV MA15_Day1-PFU-10^4` -> `SARS-CoV MA15_Day1-PFU-10^4...74`\n",
      "\u001b[36m•\u001b[39m `SARS-CoV MA15_Day1-PFU-10^5` -> `SARS-CoV MA15_Day1-PFU-10^5...75`\n",
      "\u001b[36m•\u001b[39m `SARS-CoV MA15_Day7-PFU-10^4` -> `SARS-CoV MA15_Day7-PFU-10^4...90`\n",
      "\u001b[36m•\u001b[39m `SARS-CoV MA15_Day2-PFU-10^5` -> `SARS-CoV MA15_Day2-PFU-10^5...93`\n",
      "\u001b[36m•\u001b[39m `A-CA-04-2009(H1N1)_12Hour` -> `A-CA-04-2009(H1N1)_12Hour...94`\n",
      "\u001b[36m•\u001b[39m `A-CA-04-2009(H1N1)_18Hour` -> `A-CA-04-2009(H1N1)_18Hour...95`\n",
      "\u001b[36m•\u001b[39m `A-CA-04-2009(H1N1)_24Hour` -> `A-CA-04-2009(H1N1)_24Hour...96`\n",
      "\u001b[36m•\u001b[39m `A-CA-04-2009(H1N1)_6Hour` -> `A-CA-04-2009(H1N1)_6Hour...97`\n",
      "\u001b[36m•\u001b[39m `A-CA-04-2009(H1N1)_12Hour` -> `A-CA-04-2009(H1N1)_12Hour...98`\n",
      "\u001b[36m•\u001b[39m `A-CA-04-2009(H1N1)_12Hour` -> `A-CA-04-2009(H1N1)_12Hour...99`\n",
      "\u001b[36m•\u001b[39m `A-CA-04-2009(H1N1)_24Hour` -> `A-CA-04-2009(H1N1)_24Hour...100`\n",
      "\u001b[36m•\u001b[39m `A-CA-04-2009(H1N1)_24Hour` -> `A-CA-04-2009(H1N1)_24Hour...101`\n",
      "\u001b[36m•\u001b[39m `A-CA-04-2009(H1N1)_36Hour` -> `A-CA-04-2009(H1N1)_36Hour...103`\n",
      "\u001b[36m•\u001b[39m `A-CA-04-2009(H1N1)_36Hour` -> `A-CA-04-2009(H1N1)_36Hour...104`\n",
      "\u001b[36m•\u001b[39m `A-CA-04-2009(H1N1)_48Hour` -> `A-CA-04-2009(H1N1)_48Hour...105`\n",
      "\u001b[36m•\u001b[39m `A-CA-04-2009(H1N1)_48Hour` -> `A-CA-04-2009(H1N1)_48Hour...106`\n",
      "\u001b[36m•\u001b[39m `A-CA-04-2009(H1N1)_36Hour` -> `A-CA-04-2009(H1N1)_36Hour...107`\n",
      "\u001b[36m•\u001b[39m `A-CA-04-2009(H1N1)_48Hour` -> `A-CA-04-2009(H1N1)_48Hour...108`\n",
      "\u001b[36m•\u001b[39m `A-CA-04-2009(H1N1)_6Hour` -> `A-CA-04-2009(H1N1)_6Hour...110`\n",
      "\u001b[36m•\u001b[39m `A-CA-04-2009(H1N1)_6Hour` -> `A-CA-04-2009(H1N1)_6Hour...111`\n",
      "\u001b[36m•\u001b[39m `SARS-BatSRBD_72Hour` -> `SARS-BatSRBD_72Hour...112`\n",
      "\u001b[36m•\u001b[39m `SARS-CoV_72Hour` -> `SARS-CoV_72Hour...113`\n",
      "\u001b[36m•\u001b[39m `SARS-dORF6_72Hour` -> `SARS-dORF6_72Hour...115`\n",
      "\u001b[36m•\u001b[39m `SARS-CoV_84Hour` -> `SARS-CoV_84Hour...116`\n",
      "\u001b[36m•\u001b[39m `SARS-dORF6_84Hour` -> `SARS-dORF6_84Hour...117`\n",
      "\u001b[36m•\u001b[39m `SARS-BatSRBD_72Hour` -> `SARS-BatSRBD_72Hour...118`\n",
      "\u001b[36m•\u001b[39m `SARS-CoV_72Hour` -> `SARS-CoV_72Hour...119`\n",
      "\u001b[36m•\u001b[39m `SARS-BatSRBD_96Hour` -> `SARS-BatSRBD_96Hour...120`\n",
      "\u001b[36m•\u001b[39m `SARS-CoV_96Hour` -> `SARS-CoV_96Hour...121`\n",
      "\u001b[36m•\u001b[39m `SARS-dORF6_96Hour` -> `SARS-dORF6_96Hour...122`\n",
      "\u001b[36m•\u001b[39m `SARS-BatSRBD_60Hour` -> `SARS-BatSRBD_60Hour...123`\n",
      "\u001b[36m•\u001b[39m `SARS-CoV_60Hour` -> `SARS-CoV_60Hour...124`\n",
      "\u001b[36m•\u001b[39m `SARS-BatSRBD_84Hour` -> `SARS-BatSRBD_84Hour...126`\n",
      "\u001b[36m•\u001b[39m `SARS-CoV_84Hour` -> `SARS-CoV_84Hour...127`\n",
      "\u001b[36m•\u001b[39m `SARS-CoV_96Hour` -> `SARS-CoV_96Hour...129`\n",
      "\u001b[36m•\u001b[39m `SARS-BatSRBD_96Hour` -> `SARS-BatSRBD_96Hour...131`\n",
      "\u001b[36m•\u001b[39m `SARS-BatSRBD_72Hour` -> `SARS-BatSRBD_72Hour...132`\n",
      "\u001b[36m•\u001b[39m `SARS-BatSRBD_84Hour` -> `SARS-BatSRBD_84Hour...133`\n",
      "\u001b[36m•\u001b[39m `SARS-CoV_72Hour` -> `SARS-CoV_72Hour...134`\n",
      "\u001b[36m•\u001b[39m `SARS-dORF6_72Hour` -> `SARS-dORF6_72Hour...135`\n",
      "\u001b[36m•\u001b[39m `SARS-CoV_84Hour` -> `SARS-CoV_84Hour...136`\n",
      "\u001b[36m•\u001b[39m `SARS-dORF6_84Hour` -> `SARS-dORF6_84Hour...137`\n",
      "\u001b[36m•\u001b[39m `icSARS CoV_30Hour` -> `icSARS CoV_30Hour...141`\n",
      "\u001b[36m•\u001b[39m `icSARS CoV_36Hour` -> `icSARS CoV_36Hour...142`\n",
      "\u001b[36m•\u001b[39m `icSARS CoV_48Hour` -> `icSARS CoV_48Hour...143`\n",
      "\u001b[36m•\u001b[39m `icSARS CoV_54Hour` -> `icSARS CoV_54Hour...144`\n",
      "\u001b[36m•\u001b[39m `icSARS CoV_60Hour` -> `icSARS CoV_60Hour...145`\n",
      "\u001b[36m•\u001b[39m `icSARS CoV_72Hour` -> `icSARS CoV_72Hour...146`\n",
      "\u001b[36m•\u001b[39m `A-CA-04-2009(H1N1)_12Hour` -> `A-CA-04-2009(H1N1)_12Hour...147`\n",
      "\u001b[36m•\u001b[39m `A-CA-04-2009(H1N1)_18Hour` -> `A-CA-04-2009(H1N1)_18Hour...148`\n",
      "\u001b[36m•\u001b[39m `A-CA-04-2009(H1N1)_24Hour` -> `A-CA-04-2009(H1N1)_24Hour...149`\n",
      "\u001b[36m•\u001b[39m `A-CA-04-2009(H1N1)_24Hour` -> `A-CA-04-2009(H1N1)_24Hour...153`\n",
      "\u001b[36m•\u001b[39m `A-CA-04-2009(H1N1)_36Hour` -> `A-CA-04-2009(H1N1)_36Hour...155`\n",
      "\u001b[36m•\u001b[39m `A-CA-04-2009(H1N1)_48Hour` -> `A-CA-04-2009(H1N1)_48Hour...156`\n",
      "\u001b[36m•\u001b[39m `A-CA-04-2009(H1N1)_48Hour` -> `A-CA-04-2009(H1N1)_48Hour...158`\n",
      "\u001b[36m•\u001b[39m `SARS-CoV_48Hour` -> `SARS-CoV_48Hour...164`\n",
      "\u001b[36m•\u001b[39m `SARS-CoV_24Hour` -> `SARS-CoV_24Hour...166`\n",
      "\u001b[36m•\u001b[39m `SARS-BatSRBD_48Hour` -> `SARS-BatSRBD_48Hour...172`\n",
      "\u001b[36m•\u001b[39m `SARS-dORF6_48Hour` -> `SARS-dORF6_48Hour...173`\n",
      "\u001b[36m•\u001b[39m `SARS-CoV_48Hour` -> `SARS-CoV_48Hour...174`\n",
      "\u001b[36m•\u001b[39m `SARS-BatSRBD_84Hour` -> `SARS-BatSRBD_84Hour...175`\n",
      "\u001b[36m•\u001b[39m `SARS-CoV_60Hour` -> `SARS-CoV_60Hour...176`\n",
      "\u001b[36m•\u001b[39m `SARS-CoV_24Hour` -> `SARS-CoV_24Hour...178`\n",
      "\u001b[36m•\u001b[39m `SARS-dORF6_24Hour` -> `SARS-dORF6_24Hour...179`\n",
      "\u001b[36m•\u001b[39m `SARS-BatSRBD_36Hour` -> `SARS-BatSRBD_36Hour...180`\n",
      "\u001b[36m•\u001b[39m `SARS-BatSRBD_96Hour` -> `SARS-BatSRBD_96Hour...181`\n",
      "\u001b[36m•\u001b[39m `SARS-dORF6_96Hour` -> `SARS-dORF6_96Hour...182`\n",
      "\u001b[36m•\u001b[39m `SARS-CoV_96Hour` -> `SARS-CoV_96Hour...183`\n",
      "\u001b[36m•\u001b[39m `SARS-BatSRBD_48Hour` -> `SARS-BatSRBD_48Hour...184`\n",
      "\u001b[36m•\u001b[39m `SARS-dORF6_48Hour` -> `SARS-dORF6_48Hour...185`\n",
      "\u001b[36m•\u001b[39m `SARS-CoV_48Hour` -> `SARS-CoV_48Hour...186`\n",
      "\u001b[36m•\u001b[39m `SARS-BatSRBD_60Hour` -> `SARS-BatSRBD_60Hour...187`\n",
      "\u001b[36m•\u001b[39m `SARS-dORF6_60Hour` -> `SARS-dORF6_60Hour...188`\n",
      "\u001b[36m•\u001b[39m `SARS-BatSRBD_36Hour` -> `SARS-BatSRBD_36Hour...189`\n",
      "\u001b[36m•\u001b[39m `SARS-dORF6_36Hour` -> `SARS-dORF6_36Hour...191`\n",
      "\u001b[36m•\u001b[39m `SARS-BatSRBD_60Hour` -> `SARS-BatSRBD_60Hour...192`\n",
      "\u001b[36m•\u001b[39m `SARS-CoV_60Hour` -> `SARS-CoV_60Hour...193`\n",
      "\u001b[36m•\u001b[39m `SARS-dORF6_60Hour` -> `SARS-dORF6_60Hour...194`\n",
      "\u001b[36m•\u001b[39m `SARS-dORF6_24Hour` -> `SARS-dORF6_24Hour...195`\n",
      "\u001b[36m•\u001b[39m `SARS-BatSRBD_48Hour` -> `SARS-BatSRBD_48Hour...196`\n",
      "\u001b[36m•\u001b[39m `SARS-CoV_48Hour` -> `SARS-CoV_48Hour...197`\n",
      "\u001b[36m•\u001b[39m `SARS-CoV_24Hour` -> `SARS-CoV_24Hour...199`\n",
      "\u001b[36m•\u001b[39m `A-CA-04-2009(H1N1)_0Hour` -> `A-CA-04-2009(H1N1)_0Hour...201`\n",
      "\u001b[36m•\u001b[39m `SARS-BatSRBD_0Hour` -> `SARS-BatSRBD_0Hour...202`\n",
      "\u001b[36m•\u001b[39m `A-CA-04-2009(H1N1)_12Hour` -> `A-CA-04-2009(H1N1)_12Hour...224`\n",
      "\u001b[36m•\u001b[39m `A-Vietnam-1203-2004(H5N1)_24Hour` ->\n",
      "  `A-Vietnam-1203-2004(H5N1)_24Hour...228`\n",
      "\u001b[36m•\u001b[39m `A-Vietnam-1203-2004(H5N1)_24Hour` ->\n",
      "  `A-Vietnam-1203-2004(H5N1)_24Hour...229`\n",
      "\u001b[36m•\u001b[39m `A-Vietnam-1203-2004(H5N1)_7Hour` -> `A-Vietnam-1203-2004(H5N1)_7Hour...235`\n",
      "\u001b[36m•\u001b[39m `A-Vietnam-1203-2004(H5N1)_7Hour` -> `A-Vietnam-1203-2004(H5N1)_7Hour...236`\n",
      "\u001b[36m•\u001b[39m `A-CA-04-2009(H1N1)_0Hour` -> `A-CA-04-2009(H1N1)_0Hour...246`\n",
      "\u001b[36m•\u001b[39m `SARS-BatSRBD_0Hour` -> `SARS-BatSRBD_0Hour...247`\n",
      "\u001b[36m•\u001b[39m `SARS-CoV_0Hour` -> `SARS-CoV_0Hour...248`\n",
      "\u001b[36m•\u001b[39m `SARS-dORF6_0Hour` -> `SARS-dORF6_0Hour...249`\n",
      "\u001b[36m•\u001b[39m `SARS-BatSRBD_12Hour` -> `SARS-BatSRBD_12Hour...255`\n",
      "\u001b[36m•\u001b[39m `SARS-CoV_12Hour` -> `SARS-CoV_12Hour...256`\n",
      "\u001b[36m•\u001b[39m `SARS-dORF6_12Hour` -> `SARS-dORF6_12Hour...257`\n",
      "\u001b[36m•\u001b[39m `SARS-CoV_24Hour` -> `SARS-CoV_24Hour...258`\n",
      "\u001b[36m•\u001b[39m `SARS-CoV_0Hour` -> `SARS-CoV_0Hour...259`\n",
      "\u001b[36m•\u001b[39m `SARS-dORF6_0Hour` -> `SARS-dORF6_0Hour...260`\n",
      "\u001b[36m•\u001b[39m `SARS-CoV MA15_Day4-PFU-10^5` -> `SARS-CoV MA15_Day4-PFU-10^5...275`\n",
      "\u001b[36m•\u001b[39m `SARS-CoV MA15_Day4-PFU-10^4` -> `SARS-CoV MA15_Day4-PFU-10^4...278`\n",
      "\u001b[36m•\u001b[39m `SARS-CoV MA15_Day2-PFU-10^4` -> `SARS-CoV MA15_Day2-PFU-10^4...283`\n",
      "\u001b[36m•\u001b[39m `SARS-CoV MA15_Day2-PFU-10^5` -> `SARS-CoV MA15_Day2-PFU-10^5...284`\n",
      "\u001b[36m•\u001b[39m `SARS-CoV MA15_Day7-PFU-10^4` -> `SARS-CoV MA15_Day7-PFU-10^4...287`\n",
      "\u001b[36m•\u001b[39m `SARS-CoV MA15_Day7-PFU-10^5` -> `SARS-CoV MA15_Day7-PFU-10^5...288`\n",
      "\u001b[36m•\u001b[39m `SARS-CoV MA15_Day1-PFU-10^4` -> `SARS-CoV MA15_Day1-PFU-10^4...291`\n",
      "\u001b[36m•\u001b[39m `SARS-CoV MA15_Day1-PFU-10^5` -> `SARS-CoV MA15_Day1-PFU-10^5...292`\n",
      "\u001b[36m•\u001b[39m `SARS-CoV_12Hour` -> `SARS-CoV_12Hour...312`\n",
      "\u001b[36m•\u001b[39m `icSARS CoV_0Hour` -> `icSARS CoV_0Hour...318`\n",
      "\u001b[36m•\u001b[39m `icSARS CoV_7Hour` -> `icSARS CoV_7Hour...320`\n",
      "\u001b[36m•\u001b[39m `icSARS CoV_12Hour` -> `icSARS CoV_12Hour...321`\n",
      "\u001b[36m•\u001b[39m `icSARS CoV_24Hour` -> `icSARS CoV_24Hour...323`\n",
      "\u001b[36m•\u001b[39m `SARS-CoV MA15_Day4-PFU-10^4` -> `SARS-CoV MA15_Day4-PFU-10^4...327`\n",
      "\u001b[36m•\u001b[39m `SARS-CoV MA15_Day4-PFU-10^5` -> `SARS-CoV MA15_Day4-PFU-10^5...328`\n",
      "\u001b[36m•\u001b[39m `A-CA-04-2009(H1N1)_0Hour` -> `A-CA-04-2009(H1N1)_0Hour...332`\n",
      "\u001b[36m•\u001b[39m `SARS-dORF6_36Hour` -> `SARS-dORF6_36Hour...345`\n",
      "\u001b[36m•\u001b[39m `SARS-BatSRBD_12Hour` -> `SARS-BatSRBD_12Hour...347`\n",
      "\u001b[36m•\u001b[39m `SARS-CoV_12Hour` -> `SARS-CoV_12Hour...348`\n",
      "\u001b[36m•\u001b[39m `SARS-dORF6_12Hour` -> `SARS-dORF6_12Hour...349`\n",
      "\u001b[36m•\u001b[39m `icSARS CoV_0Hour` -> `icSARS CoV_0Hour...351`\n",
      "\u001b[36m•\u001b[39m `A-CA-04-2009(H1N1)_0Hour` -> `A-CA-04-2009(H1N1)_0Hour...363`\n",
      "\u001b[36m•\u001b[39m `SARS-BatSRBD_0Hour` -> `SARS-BatSRBD_0Hour...364`\n",
      "\u001b[36m•\u001b[39m `SARS-CoV_0Hour` -> `SARS-CoV_0Hour...365`\n",
      "\u001b[36m•\u001b[39m `A-CA-04-2009(H1N1)_0Hour` -> `A-CA-04-2009(H1N1)_0Hour...368`\n",
      "\u001b[1mRows: \u001b[22m\u001b[34m21414\u001b[39m \u001b[1mColumns: \u001b[22m\u001b[34m369\u001b[39m\n",
      "\u001b[36m──\u001b[39m \u001b[1mColumn specification\u001b[22m \u001b[36m────────────────────────────────────────────────────────\u001b[39m\n",
      "\u001b[1mDelimiter:\u001b[22m \"\\t\"\n",
      "\u001b[31mchr\u001b[39m   (3): #...1, #...2, Virus Perturbation\n",
      "\u001b[32mdbl\u001b[39m (366): icSARA deltaORF6_30Hour, icSARA deltaORF6_36Hour, icSARA deltaORF...\n",
      "\n",
      "\u001b[36mℹ\u001b[39m Use `spec()` to retrieve the full column specification for this data.\n",
      "\u001b[36mℹ\u001b[39m Specify the column types or set `show_col_types = FALSE` to quiet this message.\n",
      "Warning message:\n",
      "“\u001b[1m\u001b[22mExpected 2 pieces. Additional pieces discarded in 15 rows [10, 11, 12, 13, 14,\n",
      "15, 16, 17, 18, 19, 22, 23, 24, 25, 27].”\n"
     ]
    }
   ],
   "source": [
    "viral_Infections_all_long_DF = read_delim(file = \"data/Omics_data/Viral_Infections_gene_attribute_matrix_standardized.txt\", delim = \"\\t\", skip = 1) %>%\n",
    "rename(GeneSym  = `#...1`) %>%\n",
    "select(c(-2, -3)) %>%\n",
    "slice(-1) %>%\n",
    "pivot_longer(c(2:ncol(.))) %>%\n",
    "subset(abs(value) >= 2) %>%\n",
    "group_by(name) %>%\n",
    "summarize(GeneList = paste0(GeneSym, collapse = \" \")) %>%\n",
    "rowwise() %>% \n",
    "mutate(n_Genes = length(str_split(string = GeneList, pattern = \" \")[[1]]))  %>%\n",
    "subset(between(x = n_Genes, left = 3, right = 100)) %>%\n",
    "mutate(Source = \"Viral_Infections\",\n",
    "       GeneSetID = name,\n",
    "       GeneSetName = name) %>%\n",
    "select(-name) %>%\n",
    "separate(col = GeneSetID,\n",
    "         into = c(\"virus\", \"duration\"),\n",
    "        sep = \"_\",\n",
    "        remove = FALSE) %>%\n",
    "select(genesets_colnames)"
   ]
  },
  {
   "cell_type": "code",
   "execution_count": 15,
   "id": "3eb1b9a3-54de-4add-b9bb-5301cc23cf44",
   "metadata": {
    "vscode": {
     "languageId": "r"
    }
   },
   "outputs": [],
   "source": [
    "# viral_Infections_all_count_DF = viral_Infections_all_long_DF %>%\n",
    "# group_by(duration) %>%\n",
    "# summarise(n_genesets = n()) %>%\n",
    "# arrange(desc(n_genesets))\n",
    "\n",
    "# viral_Infections_all_count_DF"
   ]
  },
  {
   "cell_type": "code",
   "execution_count": 18,
   "id": "ef1bdb62-ed25-48d9-83b1-eb53be622ed0",
   "metadata": {
    "vscode": {
     "languageId": "r"
    }
   },
   "outputs": [],
   "source": [
    "genesets_DF = genesets_empty_DF %>%\n",
    "rbind(head(NeST_DF, 126)) %>%\n",
    "rbind(head(L1000_DF, 126)) %>%\n",
    "rbind(head(viral_Infections_all_long_DF, 48)) "
   ]
  },
  {
   "cell_type": "code",
   "execution_count": 19,
   "id": "125a0558-c27e-424b-96e5-84288aace962",
   "metadata": {
    "tags": [],
    "vscode": {
     "languageId": "r"
    }
   },
   "outputs": [
    {
     "data": {
      "text/plain": [
       ".\n",
       "           L1000             NeST Viral_Infections \n",
       "             126              126               48 "
      ]
     },
     "metadata": {},
     "output_type": "display_data"
    }
   ],
   "source": [
    "genesets_DF %>% pull(Source) %>% table()"
   ]
  },
  {
   "cell_type": "code",
   "execution_count": 20,
   "id": "848233ef-b650-4478-9e55-1ce04ff7b0b4",
   "metadata": {
    "vscode": {
     "languageId": "r"
    }
   },
   "outputs": [],
   "source": [
    "write_delim(x = genesets_DF,file = \"data/omics_revamped.txt\" , delim = \"\\t\")"
   ]
  },
  {
   "cell_type": "code",
   "execution_count": null,
   "id": "4e40ddfa-da07-41e6-883a-f4ecf875fc8e",
   "metadata": {
    "vscode": {
     "languageId": "r"
    }
   },
   "outputs": [],
   "source": []
  },
  {
   "cell_type": "code",
   "execution_count": null,
   "id": "76f70a0f-c7cd-4e5b-b49c-512c6263da06",
   "metadata": {
    "vscode": {
     "languageId": "r"
    }
   },
   "outputs": [],
   "source": []
  },
  {
   "cell_type": "code",
   "execution_count": null,
   "id": "3c4fc5c8-72d4-4d31-b031-cdcf3d0515ae",
   "metadata": {
    "vscode": {
     "languageId": "r"
    }
   },
   "outputs": [],
   "source": []
  }
 ],
 "metadata": {
  "kernelspec": {
   "display_name": "R",
   "language": "R",
   "name": "ir"
  },
  "language_info": {
   "codemirror_mode": "r",
   "file_extension": ".r",
   "mimetype": "text/x-r-source",
   "name": "R",
   "pygments_lexer": "r",
   "version": "4.3.2"
  }
 },
 "nbformat": 4,
 "nbformat_minor": 5
}

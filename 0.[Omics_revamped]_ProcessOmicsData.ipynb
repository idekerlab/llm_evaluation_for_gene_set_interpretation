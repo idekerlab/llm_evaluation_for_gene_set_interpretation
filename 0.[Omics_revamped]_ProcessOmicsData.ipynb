{
 "cells": [
  {
   "cell_type": "code",
   "execution_count": 1,
   "id": "9fa86f76-d230-4ce8-a385-ab8dfcc07406",
   "metadata": {
    "tags": []
   },
   "outputs": [
    {
     "name": "stderr",
     "output_type": "stream",
     "text": [
      "── \u001b[1mAttaching core tidyverse packages\u001b[22m ──────────────────────── tidyverse 2.0.0 ──\n",
      "\u001b[32m✔\u001b[39m \u001b[34mdplyr    \u001b[39m 1.1.4     \u001b[32m✔\u001b[39m \u001b[34mreadr    \u001b[39m 2.1.5\n",
      "\u001b[32m✔\u001b[39m \u001b[34mforcats  \u001b[39m 1.0.0     \u001b[32m✔\u001b[39m \u001b[34mstringr  \u001b[39m 1.5.1\n",
      "\u001b[32m✔\u001b[39m \u001b[34mggplot2  \u001b[39m 3.4.4     \u001b[32m✔\u001b[39m \u001b[34mtibble   \u001b[39m 3.2.1\n",
      "\u001b[32m✔\u001b[39m \u001b[34mlubridate\u001b[39m 1.9.3     \u001b[32m✔\u001b[39m \u001b[34mtidyr    \u001b[39m 1.3.0\n",
      "\u001b[32m✔\u001b[39m \u001b[34mpurrr    \u001b[39m 1.0.2     \n",
      "── \u001b[1mConflicts\u001b[22m ────────────────────────────────────────── tidyverse_conflicts() ──\n",
      "\u001b[31m✖\u001b[39m \u001b[34mdplyr\u001b[39m::\u001b[32marrange()\u001b[39m   masks \u001b[34mplyr\u001b[39m::arrange()\n",
      "\u001b[31m✖\u001b[39m \u001b[34mpurrr\u001b[39m::\u001b[32mcompact()\u001b[39m   masks \u001b[34mplyr\u001b[39m::compact()\n",
      "\u001b[31m✖\u001b[39m \u001b[34mdplyr\u001b[39m::\u001b[32mcount()\u001b[39m     masks \u001b[34mplyr\u001b[39m::count()\n",
      "\u001b[31m✖\u001b[39m \u001b[34mdplyr\u001b[39m::\u001b[32mdesc()\u001b[39m      masks \u001b[34mplyr\u001b[39m::desc()\n",
      "\u001b[31m✖\u001b[39m \u001b[34mdplyr\u001b[39m::\u001b[32mfailwith()\u001b[39m  masks \u001b[34mplyr\u001b[39m::failwith()\n",
      "\u001b[31m✖\u001b[39m \u001b[34mdplyr\u001b[39m::\u001b[32mfilter()\u001b[39m    masks \u001b[34mstats\u001b[39m::filter()\n",
      "\u001b[31m✖\u001b[39m \u001b[34mdplyr\u001b[39m::\u001b[32mid()\u001b[39m        masks \u001b[34mplyr\u001b[39m::id()\n",
      "\u001b[31m✖\u001b[39m \u001b[34mdplyr\u001b[39m::\u001b[32mlag()\u001b[39m       masks \u001b[34mstats\u001b[39m::lag()\n",
      "\u001b[31m✖\u001b[39m \u001b[34mdplyr\u001b[39m::\u001b[32mmutate()\u001b[39m    masks \u001b[34mplyr\u001b[39m::mutate()\n",
      "\u001b[31m✖\u001b[39m \u001b[34mdplyr\u001b[39m::\u001b[32mrename()\u001b[39m    masks \u001b[34mplyr\u001b[39m::rename()\n",
      "\u001b[31m✖\u001b[39m \u001b[34mdplyr\u001b[39m::\u001b[32msummarise()\u001b[39m masks \u001b[34mplyr\u001b[39m::summarise()\n",
      "\u001b[31m✖\u001b[39m \u001b[34mdplyr\u001b[39m::\u001b[32msummarize()\u001b[39m masks \u001b[34mplyr\u001b[39m::summarize()\n",
      "\u001b[36mℹ\u001b[39m Use the conflicted package (\u001b[3m\u001b[34m<http://conflicted.r-lib.org/>\u001b[39m\u001b[23m) to force all conflicts to become errors\n",
      "\n",
      "Attaching package: ‘tidyjson’\n",
      "\n",
      "\n",
      "The following object is masked from ‘package:stats’:\n",
      "\n",
      "    filter\n",
      "\n",
      "\n"
     ]
    }
   ],
   "source": [
    "library(plyr, verbose  = FALSE)\n",
    "library(tidyverse, verbose  = FALSE)\n",
    "library(tidyjson, verbose  = FALSE)\n",
    "library(readxl, verbose  = FALSE)\n",
    "#library(disgenet2r, verbose  = FALSE)\n",
    "#library(getPass, verbose  = FALSE)"
   ]
  },
  {
   "cell_type": "code",
   "execution_count": 2,
   "id": "bd1e70fa-775a-4805-a6c3-5d2e00115c1c",
   "metadata": {},
   "outputs": [],
   "source": [
    "`%ni%` <- Negate(`%in%`)"
   ]
  },
  {
   "cell_type": "raw",
   "id": "e650834f-e251-45ec-9171-a3afd835d069",
   "metadata": {},
   "source": [
    "NeST - 100\n",
    "L1000 - 100 \n",
    "Viral infections - 100\n",
    "Disease  - 100"
   ]
  },
  {
   "cell_type": "raw",
   "id": "e1da7447-f350-4d52-bc1e-2713bdd330fd",
   "metadata": {},
   "source": [
    "Process all\n",
    "Keep only homo sapiens\n",
    "For perturbations keep same cell line and time for consitency and fairness\n",
    "3-100 genes\n",
    "get 100 from each \n",
    "get test data 10 from each "
   ]
  },
  {
   "cell_type": "code",
   "execution_count": 3,
   "id": "535a585b-21fe-4ee3-a49f-631eb8962c50",
   "metadata": {},
   "outputs": [],
   "source": [
    "genesets_colnames = c(\"Source\", \"GeneSetID\", \"GeneSetName\", \"GeneList\", \"n_Genes\")\n",
    "genesets_MAT = matrix(nrow = 0, ncol = length(genesets_colnames))\n",
    "colnames(genesets_MAT) = genesets_colnames\n",
    "genesets_DF = as_tibble(genesets_MAT) %>%\n",
    "  mutate(across(everything(), as.character))\n",
    "genesets_DF$n_Genes = as.integer(genesets_DF$n_Genes)\n",
    "genesets_empty_DF = genesets_DF"
   ]
  },
  {
   "cell_type": "markdown",
   "id": "f2609059-197f-4524-a9c0-e5f9a5cd55c4",
   "metadata": {},
   "source": [
    "### NeST"
   ]
  },
  {
   "cell_type": "code",
   "execution_count": 4,
   "id": "c89062e1-9aa0-4de6-9f35-86330f080be1",
   "metadata": {
    "tags": []
   },
   "outputs": [
    {
     "name": "stderr",
     "output_type": "stream",
     "text": [
      "\u001b[1mRows: \u001b[22m\u001b[34m39463\u001b[39m \u001b[1mColumns: \u001b[22m\u001b[34m3\u001b[39m\n",
      "\u001b[36m──\u001b[39m \u001b[1mColumn specification\u001b[22m \u001b[36m────────────────────────────────────────────────────────\u001b[39m\n",
      "\u001b[1mDelimiter:\u001b[22m \"\\t\"\n",
      "\u001b[31mchr\u001b[39m (3): X1, X2, X3\n",
      "\n",
      "\u001b[36mℹ\u001b[39m Use `spec()` to retrieve the full column specification for this data.\n",
      "\u001b[36mℹ\u001b[39m Specify the column types or set `show_col_types = FALSE` to quiet this message.\n",
      "Warning message:\n",
      "“\u001b[1m\u001b[22mUsing an external vector in selections was deprecated in tidyselect 1.1.0.\n",
      "\u001b[36mℹ\u001b[39m Please use `all_of()` or `any_of()` instead.\n",
      "  # Was:\n",
      "  data %>% select(genesets_colnames)\n",
      "\n",
      "  # Now:\n",
      "  data %>% select(all_of(genesets_colnames))\n",
      "\n",
      "See <https://tidyselect.r-lib.org/reference/faq-external-vector.html>.”\n"
     ]
    }
   ],
   "source": [
    "NeST_DF = read_delim(\"data/Omics_data/NeST__IAS_clixo_hidef_Nov17.edges\", delim = \"\\t\", col_names = FALSE)  %>%\n",
    "subset(X3 == \"gene\") %>%\n",
    "group_by(X1) %>% \n",
    "summarize(GeneList = paste0(X2, collapse = \" \")) %>%\n",
    "rowwise() %>%\n",
    "mutate(n_Genes = length(str_split(string = GeneList, pattern = \" \")[[1]])) %>%\n",
    "subset(between(x = n_Genes, left = 3, right = 100)) %>%\n",
    "mutate(Source = \"NeST\",\n",
    "      GeneSetID = X1,\n",
    "      GeneSetName = X1) %>%\n",
    "select(-X1) %>%\n",
    "select(genesets_colnames)"
   ]
  },
  {
   "cell_type": "markdown",
   "id": "0ba66810-2078-43a8-a584-092f69c5efaf",
   "metadata": {
    "tags": []
   },
   "source": [
    "### L1000"
   ]
  },
  {
   "cell_type": "raw",
   "id": "ea9a9027-803b-42fc-b5d0-599253d6bb85",
   "metadata": {},
   "source": [
    "https://maayanlab.cloud/Harmonizome/dataset/LINCS+L1000+CMAP+Signatures+of+Differentially+Expressed+Genes+for+Small+Molecules"
   ]
  },
  {
   "cell_type": "code",
   "execution_count": 5,
   "id": "f85c33aa-5e63-4a8b-aae6-b4155293b78b",
   "metadata": {
    "tags": []
   },
   "outputs": [
    {
     "name": "stderr",
     "output_type": "stream",
     "text": [
      "\u001b[1m\u001b[22mNew names:\n",
      "\u001b[36m•\u001b[39m `NA` -> `NA...2`\n",
      "\u001b[36m•\u001b[39m `NA` -> `NA...5`\n",
      "\u001b[36m•\u001b[39m `NA` -> `NA...6`\n",
      "\u001b[1mRows: \u001b[22m\u001b[34m4189677\u001b[39m \u001b[1mColumns: \u001b[22m\u001b[34m7\u001b[39m\n",
      "\u001b[36m──\u001b[39m \u001b[1mColumn specification\u001b[22m \u001b[36m────────────────────────────────────────────────────────\u001b[39m\n",
      "\u001b[1mDelimiter:\u001b[22m \"\\t\"\n",
      "\u001b[31mchr\u001b[39m (4): GeneSym, NA...2, Perturbation ID_Perturbagen_Cell Line_Time_Time Un...\n",
      "\u001b[32mdbl\u001b[39m (3): GeneID, NA...6, weight\n",
      "\n",
      "\u001b[36mℹ\u001b[39m Use `spec()` to retrieve the full column specification for this data.\n",
      "\u001b[36mℹ\u001b[39m Specify the column types or set `show_col_types = FALSE` to quiet this message.\n",
      "Warning message:\n",
      "“\u001b[1m\u001b[22mExpected 7 pieces. Additional pieces discarded in 85 rows [2543, 2544, 2545,\n",
      "2546, 2547, 2548, 2549, 2550, 2551, 2552, 3579, 3580, 3581, 3582, 3583, 3584,\n",
      "3585, 3586, 4223, 4224, ...].”\n"
     ]
    }
   ],
   "source": [
    "L1000_all_DF = read_delim(\"data/Omics_data/L1000__gene_attribute_edges.txt\", delim = \"\\t\", skip = 1) %>%\n",
    "group_by(`Perturbation ID_Perturbagen_Cell Line_Time_Time Unit_Dose_Dose Unit`) %>%\n",
    "summarize(GeneList = paste0(GeneSym, collapse = \" \")) %>%\n",
    "rowwise() %>%\n",
    "mutate(n_Genes = length(str_split(string = GeneList, pattern = \" \")[[1]]))  %>%\n",
    "subset(between(x = n_Genes, left = 3, right = 100)) %>%\n",
    "mutate(Source = \"L1000\",\n",
    "       GeneSetID = `Perturbation ID_Perturbagen_Cell Line_Time_Time Unit_Dose_Dose Unit`,\n",
    "       GeneSetName = `Perturbation ID_Perturbagen_Cell Line_Time_Time Unit_Dose_Dose Unit`) %>%\n",
    "select(-\"Perturbation ID_Perturbagen_Cell Line_Time_Time Unit_Dose_Dose Unit\") %>%\n",
    "separate(col =  \"GeneSetName\",\n",
    "         into = c(\"Drug\", \"Reagent\", \"Cellline\", \"duration\", \"duration_unit\", \"dosage\", \"dosage_unit\"),\n",
    "         sep = \"_\",\n",
    "        remove = FALSE) "
   ]
  },
  {
   "cell_type": "code",
   "execution_count": 6,
   "id": "1cbe6d6f-a138-4b55-8da0-b75dffa3133f",
   "metadata": {},
   "outputs": [
    {
     "data": {
      "text/html": [
       "<style>\n",
       ".list-inline {list-style: none; margin:0; padding: 0}\n",
       ".list-inline>li {display: inline-block}\n",
       ".list-inline>li:not(:last-child)::after {content: \"\\00b7\"; padding: 0 .5ex}\n",
       "</style>\n",
       "<ol class=list-inline><li>13408</li><li>12</li></ol>\n"
      ],
      "text/latex": [
       "\\begin{enumerate*}\n",
       "\\item 13408\n",
       "\\item 12\n",
       "\\end{enumerate*}\n"
      ],
      "text/markdown": [
       "1. 13408\n",
       "2. 12\n",
       "\n",
       "\n"
      ],
      "text/plain": [
       "[1] 13408    12"
      ]
     },
     "metadata": {},
     "output_type": "display_data"
    }
   ],
   "source": [
    "dim(L1000_all_DF)"
   ]
  },
  {
   "cell_type": "code",
   "execution_count": 7,
   "id": "4dcf4e07-6862-4d04-9831-8237cdca33c7",
   "metadata": {},
   "outputs": [
    {
     "name": "stderr",
     "output_type": "stream",
     "text": [
      "\u001b[1m\u001b[22m`summarise()` has grouped output by 'Reagent', 'Cellline', 'duration',\n",
      "'duration_unit', 'dosage'. You can override using the `.groups` argument.\n"
     ]
    }
   ],
   "source": [
    "L1000_sep_count_DF = L1000_all_DF %>%\n",
    "group_by(Reagent, Cellline, duration,duration_unit, dosage, dosage_unit) %>%\n",
    "summarise(n_genesets = n()) %>%\n",
    "arrange(desc(n_genesets))"
   ]
  },
  {
   "cell_type": "code",
   "execution_count": 8,
   "id": "a414e430-ed2e-40cd-9846-09182103800d",
   "metadata": {
    "tags": []
   },
   "outputs": [
    {
     "data": {
      "text/html": [
       "<table class=\"dataframe\">\n",
       "<caption>A grouped_df: 9916 × 7</caption>\n",
       "<thead>\n",
       "\t<tr><th scope=col>Reagent</th><th scope=col>Cellline</th><th scope=col>duration</th><th scope=col>duration_unit</th><th scope=col>dosage</th><th scope=col>dosage_unit</th><th scope=col>n_genesets</th></tr>\n",
       "\t<tr><th scope=col>&lt;chr&gt;</th><th scope=col>&lt;chr&gt;</th><th scope=col>&lt;chr&gt;</th><th scope=col>&lt;chr&gt;</th><th scope=col>&lt;chr&gt;</th><th scope=col>&lt;chr&gt;</th><th scope=col>&lt;int&gt;</th></tr>\n",
       "</thead>\n",
       "<tbody>\n",
       "\t<tr><td>-666</td><td>MCF7  </td><td>6.0 </td><td>h</td><td>10.0</td><td>um</td><td>439</td></tr>\n",
       "\t<tr><td>-666</td><td>A375  </td><td>6.0 </td><td>h</td><td>10.0</td><td>um</td><td>347</td></tr>\n",
       "\t<tr><td>-666</td><td>MCF7  </td><td>24.0</td><td>h</td><td>10.0</td><td>um</td><td>336</td></tr>\n",
       "\t<tr><td>-666</td><td>HT29  </td><td>6.0 </td><td>h</td><td>10.0</td><td>um</td><td>324</td></tr>\n",
       "\t<tr><td>-666</td><td>PC3   </td><td>6.0 </td><td>h</td><td>10.0</td><td>um</td><td>239</td></tr>\n",
       "\t<tr><td>-666</td><td>VCAP  </td><td>6.0 </td><td>h</td><td>10.0</td><td>um</td><td>232</td></tr>\n",
       "\t<tr><td>-666</td><td>PC3   </td><td>24.0</td><td>h</td><td>10.0</td><td>um</td><td>227</td></tr>\n",
       "\t<tr><td>-666</td><td>HEPG2 </td><td>6.0 </td><td>h</td><td>10.0</td><td>um</td><td>212</td></tr>\n",
       "\t<tr><td>-666</td><td>VCAP  </td><td>24.0</td><td>h</td><td>10.0</td><td>um</td><td>207</td></tr>\n",
       "\t<tr><td>-666</td><td>ASC   </td><td>24.0</td><td>h</td><td>10.0</td><td>um</td><td>139</td></tr>\n",
       "\t<tr><td>-666</td><td>HA1E  </td><td>6.0 </td><td>h</td><td>10.0</td><td>um</td><td>131</td></tr>\n",
       "\t<tr><td>-666</td><td>NPC   </td><td>24.0</td><td>h</td><td>10.0</td><td>um</td><td>131</td></tr>\n",
       "\t<tr><td>-666</td><td>HCC515</td><td>6.0 </td><td>h</td><td>10.0</td><td>um</td><td>105</td></tr>\n",
       "\t<tr><td>-666</td><td>A549  </td><td>24.0</td><td>h</td><td>10.0</td><td>um</td><td>101</td></tr>\n",
       "\t<tr><td>-666</td><td>A549  </td><td>6.0 </td><td>h</td><td>10.0</td><td>um</td><td> 96</td></tr>\n",
       "\t<tr><td>-666</td><td>SKB   </td><td>24.0</td><td>h</td><td>10.0</td><td>um</td><td> 84</td></tr>\n",
       "\t<tr><td>-666</td><td>PHH   </td><td>24.0</td><td>h</td><td>10.0</td><td>um</td><td> 30</td></tr>\n",
       "\t<tr><td>-666</td><td>HA1E  </td><td>24.0</td><td>h</td><td>10.0</td><td>um</td><td> 15</td></tr>\n",
       "\t<tr><td>-666</td><td>NEU   </td><td>24.0</td><td>h</td><td>10.0</td><td>um</td><td> 12</td></tr>\n",
       "\t<tr><td>-666</td><td>SW620 </td><td>6.0 </td><td>h</td><td>10.0</td><td>um</td><td> 11</td></tr>\n",
       "\t<tr><td>-666</td><td>A375  </td><td>24.0</td><td>h</td><td>10.0</td><td>um</td><td> 10</td></tr>\n",
       "\t<tr><td>-666</td><td>HCC515</td><td>24.0</td><td>h</td><td>10.0</td><td>um</td><td>  9</td></tr>\n",
       "\t<tr><td>-666</td><td>HT29  </td><td>24.0</td><td>h</td><td>10.0</td><td>um</td><td>  7</td></tr>\n",
       "\t<tr><td>-666</td><td>HEC108</td><td>6.0 </td><td>h</td><td>10.0</td><td>um</td><td>  5</td></tr>\n",
       "\t<tr><td>-666</td><td>HA1E  </td><td>6.0 </td><td>h</td><td>20.0</td><td>um</td><td>  3</td></tr>\n",
       "\t<tr><td>-666</td><td>HCC515</td><td>6.0 </td><td>h</td><td>40.0</td><td>um</td><td>  3</td></tr>\n",
       "\t<tr><td>-666</td><td>HEPG2 </td><td>6.0 </td><td>h</td><td>20.0</td><td>um</td><td>  3</td></tr>\n",
       "\t<tr><td>-666</td><td>HT29  </td><td>6.0 </td><td>h</td><td>20.0</td><td>um</td><td>  3</td></tr>\n",
       "\t<tr><td>-666</td><td>RMUGS </td><td>6.0 </td><td>h</td><td>10.0</td><td>um</td><td>  3</td></tr>\n",
       "\t<tr><td>-666</td><td>SW620 </td><td>6.0 </td><td>h</td><td>20.0</td><td>um</td><td>  3</td></tr>\n",
       "\t<tr><td>⋮</td><td>⋮</td><td>⋮</td><td>⋮</td><td>⋮</td><td>⋮</td><td>⋮</td></tr>\n",
       "\t<tr><td>wiskostatin </td><td>HCC515  </td><td>6.0 </td><td>h</td><td>10.0</td><td>um</td><td>1</td></tr>\n",
       "\t<tr><td>wiskostatin </td><td>PC3     </td><td>24.0</td><td>h</td><td>10.0</td><td>um</td><td>1</td></tr>\n",
       "\t<tr><td>wiskostatin </td><td>VCAP    </td><td>24.0</td><td>h</td><td>10.0</td><td>um</td><td>1</td></tr>\n",
       "\t<tr><td>withaferin-a</td><td>BT20    </td><td>24  </td><td>h</td><td>0.37</td><td>um</td><td>1</td></tr>\n",
       "\t<tr><td>withaferin-a</td><td>BT20    </td><td>3   </td><td>h</td><td>1.11</td><td>um</td><td>1</td></tr>\n",
       "\t<tr><td>withaferin-a</td><td>BT20    </td><td>3   </td><td>h</td><td>10  </td><td>um</td><td>1</td></tr>\n",
       "\t<tr><td>withaferin-a</td><td>HS578T  </td><td>3   </td><td>h</td><td>3.33</td><td>um</td><td>1</td></tr>\n",
       "\t<tr><td>withaferin-a</td><td>LNCAP   </td><td>3   </td><td>h</td><td>1.11</td><td>um</td><td>1</td></tr>\n",
       "\t<tr><td>withaferin-a</td><td>LNCAP   </td><td>3   </td><td>h</td><td>3.33</td><td>um</td><td>1</td></tr>\n",
       "\t<tr><td>withaferin-a</td><td>MCF10A  </td><td>3   </td><td>h</td><td>0.04</td><td>um</td><td>1</td></tr>\n",
       "\t<tr><td>withaferin-a</td><td>MCF7    </td><td>3   </td><td>h</td><td>1.11</td><td>um</td><td>1</td></tr>\n",
       "\t<tr><td>withaferin-a</td><td>MDAMB231</td><td>3   </td><td>h</td><td>3.33</td><td>um</td><td>1</td></tr>\n",
       "\t<tr><td>withaferin-a</td><td>SKBR3   </td><td>24  </td><td>h</td><td>0.12</td><td>um</td><td>1</td></tr>\n",
       "\t<tr><td>withaferin-a</td><td>SKBR3   </td><td>24  </td><td>h</td><td>0.37</td><td>um</td><td>1</td></tr>\n",
       "\t<tr><td>withaferin-a</td><td>SKBR3   </td><td>3   </td><td>h</td><td>0.37</td><td>um</td><td>1</td></tr>\n",
       "\t<tr><td>wortmannin  </td><td>HCC515  </td><td>6.0 </td><td>h</td><td>10.0</td><td>um</td><td>1</td></tr>\n",
       "\t<tr><td>wortmannin  </td><td>HT29    </td><td>6.0 </td><td>h</td><td>10.0</td><td>um</td><td>1</td></tr>\n",
       "\t<tr><td>wortmannin  </td><td>MCF7    </td><td>6.0 </td><td>h</td><td>10.0</td><td>um</td><td>1</td></tr>\n",
       "\t<tr><td>wortmannin  </td><td>NPC     </td><td>24.0</td><td>h</td><td>10.0</td><td>um</td><td>1</td></tr>\n",
       "\t<tr><td>wortmannin  </td><td>PC3     </td><td>24.0</td><td>h</td><td>10.0</td><td>um</td><td>1</td></tr>\n",
       "\t<tr><td>wortmannin  </td><td>RMUGS   </td><td>6.0 </td><td>h</td><td>10.0</td><td>um</td><td>1</td></tr>\n",
       "\t<tr><td>wortmannin  </td><td>SKB     </td><td>24.0</td><td>h</td><td>10.0</td><td>um</td><td>1</td></tr>\n",
       "\t<tr><td>wortmannin  </td><td>VCAP    </td><td>24.0</td><td>h</td><td>10.0</td><td>um</td><td>1</td></tr>\n",
       "\t<tr><td>wortmannin  </td><td>VCAP    </td><td>6.0 </td><td>h</td><td>10.0</td><td>um</td><td>1</td></tr>\n",
       "\t<tr><td>zafirlukast </td><td>PC3     </td><td>24.0</td><td>h</td><td>10.0</td><td>um</td><td>1</td></tr>\n",
       "\t<tr><td>zafirlukast </td><td>PC3     </td><td>6.0 </td><td>h</td><td>10.0</td><td>um</td><td>1</td></tr>\n",
       "\t<tr><td>zafirlukast </td><td>VCAP    </td><td>24.0</td><td>h</td><td>10.0</td><td>um</td><td>1</td></tr>\n",
       "\t<tr><td>zeranol     </td><td>VCAP    </td><td>24.0</td><td>h</td><td>10.0</td><td>um</td><td>1</td></tr>\n",
       "\t<tr><td>zeranol     </td><td>VCAP    </td><td>6.0 </td><td>h</td><td>10.0</td><td>um</td><td>1</td></tr>\n",
       "\t<tr><td>zileuton    </td><td>VCAP    </td><td>6.0 </td><td>h</td><td>10.0</td><td>um</td><td>1</td></tr>\n",
       "</tbody>\n",
       "</table>\n"
      ],
      "text/latex": [
       "A grouped\\_df: 9916 × 7\n",
       "\\begin{tabular}{lllllll}\n",
       " Reagent & Cellline & duration & duration\\_unit & dosage & dosage\\_unit & n\\_genesets\\\\\n",
       " <chr> & <chr> & <chr> & <chr> & <chr> & <chr> & <int>\\\\\n",
       "\\hline\n",
       "\t -666 & MCF7   & 6.0  & h & 10.0 & um & 439\\\\\n",
       "\t -666 & A375   & 6.0  & h & 10.0 & um & 347\\\\\n",
       "\t -666 & MCF7   & 24.0 & h & 10.0 & um & 336\\\\\n",
       "\t -666 & HT29   & 6.0  & h & 10.0 & um & 324\\\\\n",
       "\t -666 & PC3    & 6.0  & h & 10.0 & um & 239\\\\\n",
       "\t -666 & VCAP   & 6.0  & h & 10.0 & um & 232\\\\\n",
       "\t -666 & PC3    & 24.0 & h & 10.0 & um & 227\\\\\n",
       "\t -666 & HEPG2  & 6.0  & h & 10.0 & um & 212\\\\\n",
       "\t -666 & VCAP   & 24.0 & h & 10.0 & um & 207\\\\\n",
       "\t -666 & ASC    & 24.0 & h & 10.0 & um & 139\\\\\n",
       "\t -666 & HA1E   & 6.0  & h & 10.0 & um & 131\\\\\n",
       "\t -666 & NPC    & 24.0 & h & 10.0 & um & 131\\\\\n",
       "\t -666 & HCC515 & 6.0  & h & 10.0 & um & 105\\\\\n",
       "\t -666 & A549   & 24.0 & h & 10.0 & um & 101\\\\\n",
       "\t -666 & A549   & 6.0  & h & 10.0 & um &  96\\\\\n",
       "\t -666 & SKB    & 24.0 & h & 10.0 & um &  84\\\\\n",
       "\t -666 & PHH    & 24.0 & h & 10.0 & um &  30\\\\\n",
       "\t -666 & HA1E   & 24.0 & h & 10.0 & um &  15\\\\\n",
       "\t -666 & NEU    & 24.0 & h & 10.0 & um &  12\\\\\n",
       "\t -666 & SW620  & 6.0  & h & 10.0 & um &  11\\\\\n",
       "\t -666 & A375   & 24.0 & h & 10.0 & um &  10\\\\\n",
       "\t -666 & HCC515 & 24.0 & h & 10.0 & um &   9\\\\\n",
       "\t -666 & HT29   & 24.0 & h & 10.0 & um &   7\\\\\n",
       "\t -666 & HEC108 & 6.0  & h & 10.0 & um &   5\\\\\n",
       "\t -666 & HA1E   & 6.0  & h & 20.0 & um &   3\\\\\n",
       "\t -666 & HCC515 & 6.0  & h & 40.0 & um &   3\\\\\n",
       "\t -666 & HEPG2  & 6.0  & h & 20.0 & um &   3\\\\\n",
       "\t -666 & HT29   & 6.0  & h & 20.0 & um &   3\\\\\n",
       "\t -666 & RMUGS  & 6.0  & h & 10.0 & um &   3\\\\\n",
       "\t -666 & SW620  & 6.0  & h & 20.0 & um &   3\\\\\n",
       "\t ⋮ & ⋮ & ⋮ & ⋮ & ⋮ & ⋮ & ⋮\\\\\n",
       "\t wiskostatin  & HCC515   & 6.0  & h & 10.0 & um & 1\\\\\n",
       "\t wiskostatin  & PC3      & 24.0 & h & 10.0 & um & 1\\\\\n",
       "\t wiskostatin  & VCAP     & 24.0 & h & 10.0 & um & 1\\\\\n",
       "\t withaferin-a & BT20     & 24   & h & 0.37 & um & 1\\\\\n",
       "\t withaferin-a & BT20     & 3    & h & 1.11 & um & 1\\\\\n",
       "\t withaferin-a & BT20     & 3    & h & 10   & um & 1\\\\\n",
       "\t withaferin-a & HS578T   & 3    & h & 3.33 & um & 1\\\\\n",
       "\t withaferin-a & LNCAP    & 3    & h & 1.11 & um & 1\\\\\n",
       "\t withaferin-a & LNCAP    & 3    & h & 3.33 & um & 1\\\\\n",
       "\t withaferin-a & MCF10A   & 3    & h & 0.04 & um & 1\\\\\n",
       "\t withaferin-a & MCF7     & 3    & h & 1.11 & um & 1\\\\\n",
       "\t withaferin-a & MDAMB231 & 3    & h & 3.33 & um & 1\\\\\n",
       "\t withaferin-a & SKBR3    & 24   & h & 0.12 & um & 1\\\\\n",
       "\t withaferin-a & SKBR3    & 24   & h & 0.37 & um & 1\\\\\n",
       "\t withaferin-a & SKBR3    & 3    & h & 0.37 & um & 1\\\\\n",
       "\t wortmannin   & HCC515   & 6.0  & h & 10.0 & um & 1\\\\\n",
       "\t wortmannin   & HT29     & 6.0  & h & 10.0 & um & 1\\\\\n",
       "\t wortmannin   & MCF7     & 6.0  & h & 10.0 & um & 1\\\\\n",
       "\t wortmannin   & NPC      & 24.0 & h & 10.0 & um & 1\\\\\n",
       "\t wortmannin   & PC3      & 24.0 & h & 10.0 & um & 1\\\\\n",
       "\t wortmannin   & RMUGS    & 6.0  & h & 10.0 & um & 1\\\\\n",
       "\t wortmannin   & SKB      & 24.0 & h & 10.0 & um & 1\\\\\n",
       "\t wortmannin   & VCAP     & 24.0 & h & 10.0 & um & 1\\\\\n",
       "\t wortmannin   & VCAP     & 6.0  & h & 10.0 & um & 1\\\\\n",
       "\t zafirlukast  & PC3      & 24.0 & h & 10.0 & um & 1\\\\\n",
       "\t zafirlukast  & PC3      & 6.0  & h & 10.0 & um & 1\\\\\n",
       "\t zafirlukast  & VCAP     & 24.0 & h & 10.0 & um & 1\\\\\n",
       "\t zeranol      & VCAP     & 24.0 & h & 10.0 & um & 1\\\\\n",
       "\t zeranol      & VCAP     & 6.0  & h & 10.0 & um & 1\\\\\n",
       "\t zileuton     & VCAP     & 6.0  & h & 10.0 & um & 1\\\\\n",
       "\\end{tabular}\n"
      ],
      "text/markdown": [
       "\n",
       "A grouped_df: 9916 × 7\n",
       "\n",
       "| Reagent &lt;chr&gt; | Cellline &lt;chr&gt; | duration &lt;chr&gt; | duration_unit &lt;chr&gt; | dosage &lt;chr&gt; | dosage_unit &lt;chr&gt; | n_genesets &lt;int&gt; |\n",
       "|---|---|---|---|---|---|---|\n",
       "| -666 | MCF7   | 6.0  | h | 10.0 | um | 439 |\n",
       "| -666 | A375   | 6.0  | h | 10.0 | um | 347 |\n",
       "| -666 | MCF7   | 24.0 | h | 10.0 | um | 336 |\n",
       "| -666 | HT29   | 6.0  | h | 10.0 | um | 324 |\n",
       "| -666 | PC3    | 6.0  | h | 10.0 | um | 239 |\n",
       "| -666 | VCAP   | 6.0  | h | 10.0 | um | 232 |\n",
       "| -666 | PC3    | 24.0 | h | 10.0 | um | 227 |\n",
       "| -666 | HEPG2  | 6.0  | h | 10.0 | um | 212 |\n",
       "| -666 | VCAP   | 24.0 | h | 10.0 | um | 207 |\n",
       "| -666 | ASC    | 24.0 | h | 10.0 | um | 139 |\n",
       "| -666 | HA1E   | 6.0  | h | 10.0 | um | 131 |\n",
       "| -666 | NPC    | 24.0 | h | 10.0 | um | 131 |\n",
       "| -666 | HCC515 | 6.0  | h | 10.0 | um | 105 |\n",
       "| -666 | A549   | 24.0 | h | 10.0 | um | 101 |\n",
       "| -666 | A549   | 6.0  | h | 10.0 | um |  96 |\n",
       "| -666 | SKB    | 24.0 | h | 10.0 | um |  84 |\n",
       "| -666 | PHH    | 24.0 | h | 10.0 | um |  30 |\n",
       "| -666 | HA1E   | 24.0 | h | 10.0 | um |  15 |\n",
       "| -666 | NEU    | 24.0 | h | 10.0 | um |  12 |\n",
       "| -666 | SW620  | 6.0  | h | 10.0 | um |  11 |\n",
       "| -666 | A375   | 24.0 | h | 10.0 | um |  10 |\n",
       "| -666 | HCC515 | 24.0 | h | 10.0 | um |   9 |\n",
       "| -666 | HT29   | 24.0 | h | 10.0 | um |   7 |\n",
       "| -666 | HEC108 | 6.0  | h | 10.0 | um |   5 |\n",
       "| -666 | HA1E   | 6.0  | h | 20.0 | um |   3 |\n",
       "| -666 | HCC515 | 6.0  | h | 40.0 | um |   3 |\n",
       "| -666 | HEPG2  | 6.0  | h | 20.0 | um |   3 |\n",
       "| -666 | HT29   | 6.0  | h | 20.0 | um |   3 |\n",
       "| -666 | RMUGS  | 6.0  | h | 10.0 | um |   3 |\n",
       "| -666 | SW620  | 6.0  | h | 20.0 | um |   3 |\n",
       "| ⋮ | ⋮ | ⋮ | ⋮ | ⋮ | ⋮ | ⋮ |\n",
       "| wiskostatin  | HCC515   | 6.0  | h | 10.0 | um | 1 |\n",
       "| wiskostatin  | PC3      | 24.0 | h | 10.0 | um | 1 |\n",
       "| wiskostatin  | VCAP     | 24.0 | h | 10.0 | um | 1 |\n",
       "| withaferin-a | BT20     | 24   | h | 0.37 | um | 1 |\n",
       "| withaferin-a | BT20     | 3    | h | 1.11 | um | 1 |\n",
       "| withaferin-a | BT20     | 3    | h | 10   | um | 1 |\n",
       "| withaferin-a | HS578T   | 3    | h | 3.33 | um | 1 |\n",
       "| withaferin-a | LNCAP    | 3    | h | 1.11 | um | 1 |\n",
       "| withaferin-a | LNCAP    | 3    | h | 3.33 | um | 1 |\n",
       "| withaferin-a | MCF10A   | 3    | h | 0.04 | um | 1 |\n",
       "| withaferin-a | MCF7     | 3    | h | 1.11 | um | 1 |\n",
       "| withaferin-a | MDAMB231 | 3    | h | 3.33 | um | 1 |\n",
       "| withaferin-a | SKBR3    | 24   | h | 0.12 | um | 1 |\n",
       "| withaferin-a | SKBR3    | 24   | h | 0.37 | um | 1 |\n",
       "| withaferin-a | SKBR3    | 3    | h | 0.37 | um | 1 |\n",
       "| wortmannin   | HCC515   | 6.0  | h | 10.0 | um | 1 |\n",
       "| wortmannin   | HT29     | 6.0  | h | 10.0 | um | 1 |\n",
       "| wortmannin   | MCF7     | 6.0  | h | 10.0 | um | 1 |\n",
       "| wortmannin   | NPC      | 24.0 | h | 10.0 | um | 1 |\n",
       "| wortmannin   | PC3      | 24.0 | h | 10.0 | um | 1 |\n",
       "| wortmannin   | RMUGS    | 6.0  | h | 10.0 | um | 1 |\n",
       "| wortmannin   | SKB      | 24.0 | h | 10.0 | um | 1 |\n",
       "| wortmannin   | VCAP     | 24.0 | h | 10.0 | um | 1 |\n",
       "| wortmannin   | VCAP     | 6.0  | h | 10.0 | um | 1 |\n",
       "| zafirlukast  | PC3      | 24.0 | h | 10.0 | um | 1 |\n",
       "| zafirlukast  | PC3      | 6.0  | h | 10.0 | um | 1 |\n",
       "| zafirlukast  | VCAP     | 24.0 | h | 10.0 | um | 1 |\n",
       "| zeranol      | VCAP     | 24.0 | h | 10.0 | um | 1 |\n",
       "| zeranol      | VCAP     | 6.0  | h | 10.0 | um | 1 |\n",
       "| zileuton     | VCAP     | 6.0  | h | 10.0 | um | 1 |\n",
       "\n"
      ],
      "text/plain": [
       "     Reagent      Cellline duration duration_unit dosage dosage_unit n_genesets\n",
       "1    -666         MCF7     6.0      h             10.0   um          439       \n",
       "2    -666         A375     6.0      h             10.0   um          347       \n",
       "3    -666         MCF7     24.0     h             10.0   um          336       \n",
       "4    -666         HT29     6.0      h             10.0   um          324       \n",
       "5    -666         PC3      6.0      h             10.0   um          239       \n",
       "6    -666         VCAP     6.0      h             10.0   um          232       \n",
       "7    -666         PC3      24.0     h             10.0   um          227       \n",
       "8    -666         HEPG2    6.0      h             10.0   um          212       \n",
       "9    -666         VCAP     24.0     h             10.0   um          207       \n",
       "10   -666         ASC      24.0     h             10.0   um          139       \n",
       "11   -666         HA1E     6.0      h             10.0   um          131       \n",
       "12   -666         NPC      24.0     h             10.0   um          131       \n",
       "13   -666         HCC515   6.0      h             10.0   um          105       \n",
       "14   -666         A549     24.0     h             10.0   um          101       \n",
       "15   -666         A549     6.0      h             10.0   um           96       \n",
       "16   -666         SKB      24.0     h             10.0   um           84       \n",
       "17   -666         PHH      24.0     h             10.0   um           30       \n",
       "18   -666         HA1E     24.0     h             10.0   um           15       \n",
       "19   -666         NEU      24.0     h             10.0   um           12       \n",
       "20   -666         SW620    6.0      h             10.0   um           11       \n",
       "21   -666         A375     24.0     h             10.0   um           10       \n",
       "22   -666         HCC515   24.0     h             10.0   um            9       \n",
       "23   -666         HT29     24.0     h             10.0   um            7       \n",
       "24   -666         HEC108   6.0      h             10.0   um            5       \n",
       "25   -666         HA1E     6.0      h             20.0   um            3       \n",
       "26   -666         HCC515   6.0      h             40.0   um            3       \n",
       "27   -666         HEPG2    6.0      h             20.0   um            3       \n",
       "28   -666         HT29     6.0      h             20.0   um            3       \n",
       "29   -666         RMUGS    6.0      h             10.0   um            3       \n",
       "30   -666         SW620    6.0      h             20.0   um            3       \n",
       "⋮    ⋮            ⋮        ⋮        ⋮             ⋮      ⋮           ⋮         \n",
       "9887 wiskostatin  HCC515   6.0      h             10.0   um          1         \n",
       "9888 wiskostatin  PC3      24.0     h             10.0   um          1         \n",
       "9889 wiskostatin  VCAP     24.0     h             10.0   um          1         \n",
       "9890 withaferin-a BT20     24       h             0.37   um          1         \n",
       "9891 withaferin-a BT20     3        h             1.11   um          1         \n",
       "9892 withaferin-a BT20     3        h             10     um          1         \n",
       "9893 withaferin-a HS578T   3        h             3.33   um          1         \n",
       "9894 withaferin-a LNCAP    3        h             1.11   um          1         \n",
       "9895 withaferin-a LNCAP    3        h             3.33   um          1         \n",
       "9896 withaferin-a MCF10A   3        h             0.04   um          1         \n",
       "9897 withaferin-a MCF7     3        h             1.11   um          1         \n",
       "9898 withaferin-a MDAMB231 3        h             3.33   um          1         \n",
       "9899 withaferin-a SKBR3    24       h             0.12   um          1         \n",
       "9900 withaferin-a SKBR3    24       h             0.37   um          1         \n",
       "9901 withaferin-a SKBR3    3        h             0.37   um          1         \n",
       "9902 wortmannin   HCC515   6.0      h             10.0   um          1         \n",
       "9903 wortmannin   HT29     6.0      h             10.0   um          1         \n",
       "9904 wortmannin   MCF7     6.0      h             10.0   um          1         \n",
       "9905 wortmannin   NPC      24.0     h             10.0   um          1         \n",
       "9906 wortmannin   PC3      24.0     h             10.0   um          1         \n",
       "9907 wortmannin   RMUGS    6.0      h             10.0   um          1         \n",
       "9908 wortmannin   SKB      24.0     h             10.0   um          1         \n",
       "9909 wortmannin   VCAP     24.0     h             10.0   um          1         \n",
       "9910 wortmannin   VCAP     6.0      h             10.0   um          1         \n",
       "9911 zafirlukast  PC3      24.0     h             10.0   um          1         \n",
       "9912 zafirlukast  PC3      6.0      h             10.0   um          1         \n",
       "9913 zafirlukast  VCAP     24.0     h             10.0   um          1         \n",
       "9914 zeranol      VCAP     24.0     h             10.0   um          1         \n",
       "9915 zeranol      VCAP     6.0      h             10.0   um          1         \n",
       "9916 zileuton     VCAP     6.0      h             10.0   um          1         "
      ]
     },
     "metadata": {},
     "output_type": "display_data"
    }
   ],
   "source": [
    "L1000_sep_count_DF"
   ]
  },
  {
   "cell_type": "code",
   "execution_count": 9,
   "id": "bfcf2dc5-f2a8-4f3c-bae5-f47283271f2a",
   "metadata": {},
   "outputs": [],
   "source": [
    "write_delim(x = L1000_sep_count_DF, file = \"data/L1000_sep_count_DF.txt\", delim = \"\\t\")"
   ]
  },
  {
   "cell_type": "code",
   "execution_count": 10,
   "id": "db18a131-75b7-4b9e-af5b-c5550165804a",
   "metadata": {
    "tags": []
   },
   "outputs": [
    {
     "data": {
      "text/html": [
       "<style>\n",
       ".list-inline {list-style: none; margin:0; padding: 0}\n",
       ".list-inline>li {display: inline-block}\n",
       ".list-inline>li:not(:last-child)::after {content: \"\\00b7\"; padding: 0 .5ex}\n",
       "</style>\n",
       "<ol class=list-inline><li>9916</li><li>7</li></ol>\n"
      ],
      "text/latex": [
       "\\begin{enumerate*}\n",
       "\\item 9916\n",
       "\\item 7\n",
       "\\end{enumerate*}\n"
      ],
      "text/markdown": [
       "1. 9916\n",
       "2. 7\n",
       "\n",
       "\n"
      ],
      "text/plain": [
       "[1] 9916    7"
      ]
     },
     "metadata": {},
     "output_type": "display_data"
    }
   ],
   "source": [
    "dim(L1000_sep_count_DF)"
   ]
  },
  {
   "cell_type": "code",
   "execution_count": 11,
   "id": "10f67e28-ae9e-41eb-8206-eca18a79cac0",
   "metadata": {},
   "outputs": [],
   "source": [
    "L1000_DF = L1000_all_DF %>% \n",
    "subset(Cellline == \"MCF7\"& duration == \"6.0\"& dosage == \"10.0\")  %>%\n",
    "select(genesets_colnames)"
   ]
  },
  {
   "cell_type": "code",
   "execution_count": 12,
   "id": "49dfaedb-c8d7-4206-9623-f780188413c9",
   "metadata": {
    "tags": []
   },
   "outputs": [
    {
     "data": {
      "text/html": [
       "<style>\n",
       ".list-inline {list-style: none; margin:0; padding: 0}\n",
       ".list-inline>li {display: inline-block}\n",
       ".list-inline>li:not(:last-child)::after {content: \"\\00b7\"; padding: 0 .5ex}\n",
       "</style>\n",
       "<ol class=list-inline><li>994</li><li>5</li></ol>\n"
      ],
      "text/latex": [
       "\\begin{enumerate*}\n",
       "\\item 994\n",
       "\\item 5\n",
       "\\end{enumerate*}\n"
      ],
      "text/markdown": [
       "1. 994\n",
       "2. 5\n",
       "\n",
       "\n"
      ],
      "text/plain": [
       "[1] 994   5"
      ]
     },
     "metadata": {},
     "output_type": "display_data"
    }
   ],
   "source": [
    "dim(L1000_DF)"
   ]
  },
  {
   "cell_type": "code",
   "execution_count": 13,
   "id": "4b8d9402-16b7-4755-9e20-63e983dad6f1",
   "metadata": {
    "collapsed": true,
    "jupyter": {
     "outputs_hidden": true
    },
    "tags": []
   },
   "outputs": [
    {
     "data": {
      "text/html": [
       "<table class=\"dataframe\">\n",
       "<caption>A tibble: 6 × 5</caption>\n",
       "<thead>\n",
       "\t<tr><th scope=col>Source</th><th scope=col>GeneSetID</th><th scope=col>GeneSetName</th><th scope=col>GeneList</th><th scope=col>n_Genes</th></tr>\n",
       "\t<tr><th scope=col>&lt;chr&gt;</th><th scope=col>&lt;chr&gt;</th><th scope=col>&lt;chr&gt;</th><th scope=col>&lt;chr&gt;</th><th scope=col>&lt;int&gt;</th></tr>\n",
       "</thead>\n",
       "<tbody>\n",
       "\t<tr><td>L1000</td><td>BRD-A00546892_-666_MCF7_6.0_h_10.0_um                    </td><td>BRD-A00546892_-666_MCF7_6.0_h_10.0_um                    </td><td>CITED2 COL5A1 CRABP2 KCTD12 MDFIC MMP2 NRP1 ORC1 PEG10 RCBTB2 S100A8 TMEM45A TWIST1 VIM CLU COCH CST3 DNAJB1 FAM46A LMO2 MAOB NRN1 SLC27A2 ZBTB20                                                                                                                                                                                                                </td><td>24</td></tr>\n",
       "\t<tr><td>L1000</td><td>BRD-A00993607_ALPRENOLOL_MCF7_6.0_h_10.0_um              </td><td>BRD-A00993607_ALPRENOLOL_MCF7_6.0_h_10.0_um              </td><td>1060P11.3 ADM AHR AMIGO2 ARL4C ATP10D CAV2 CD44 CDC42EP3 CHST1 COLEC12 DENND1B EMP1 EXT1 FAM129A FZD6 GLIPR1 IER5 IGF2BP3 KLRB1 LPAR6 NT5E PLIN2 PLXNA1 POSTN PPP1R3C QPCT SLC5A3 SPON2 TMEM158 TNFSF10 TRIB2 AGR2 CCL19 COMP CRK CXCL13 FAM46A GOLGA8A GRN GSTM3 HPRT1 MYO5C NGFRAP1 PLA2G16 SERPINA3 SLC5A6                                                    </td><td>47</td></tr>\n",
       "\t<tr><td>L1000</td><td>BRD-A00993607_Alprenolol hydrochloride_MCF7_6.0_h_10.0_um</td><td>BRD-A00993607_Alprenolol hydrochloride_MCF7_6.0_h_10.0_um</td><td>ABAT ASS1 CHI3L1 CHST2 CLDN3 EIF5B FRZB GAL HEBP2 MAN2A1 NELL2 PDE8B TBC1D1 TRD TRDV3 TYMP VAMP8 1060P11.3 AKR1B1 ARMCX1 ATF1 CAPN3 CAV1 CAV2 CNN3 CSTA DKK1 DLD EIF4A1 EPB41L2 FADS1 G3BP1 HLA-DPA1 HPRT1 LGALS3BP LHFP LYPLA1 MARCKS MN1 MTUS1 MYH10 NRIP1 OPN3 PIK3R1 PLLP POLR2K PTGER4 RBBP4 RDX THBS1 TMEM255A TNS1 TNS3 TOP2A TRAM1 TSPYL5 UFM1 WFDC2 WSB1</td><td>59</td></tr>\n",
       "\t<tr><td>L1000</td><td>BRD-A01320529_Salmeterol_MCF7_6.0_h_10.0_um              </td><td>BRD-A01320529_Salmeterol_MCF7_6.0_h_10.0_um              </td><td>AMIGO2 AREG GAS6 GPR37 IFT57 PELI1 SQLE AKAP12 EXOSC4                                                                                                                                                                                                                                                                                                            </td><td> 9</td></tr>\n",
       "\t<tr><td>L1000</td><td>BRD-A01346607_FLUMETHASONE_MCF7_6.0_h_10.0_um            </td><td>BRD-A01346607_FLUMETHASONE_MCF7_6.0_h_10.0_um            </td><td>1060P11.3 CPE EFNB2 HIST1H2AC IL1R2 INHBB LYPD1 NUP93 SOX9 AKAP12 ALCAM CDH3 CTSH GDF15 SUMO2                                                                                                                                                                                                                                                                    </td><td>15</td></tr>\n",
       "\t<tr><td>L1000</td><td>BRD-A01593789_CHLORMADINONE ACETATE_MCF7_6.0_h_10.0_um   </td><td>BRD-A01593789_CHLORMADINONE ACETATE_MCF7_6.0_h_10.0_um   </td><td>1060P11.3 ADH5 ADM ATF3 CASP1 CLEC2B CPA3 CRIM1 DKK3 FEZ1 MECOM MKNK1 NXN PCK1 RGCC S100A8 SPON1 SST TMEM41B CYP1B1 DNAJC12 ETFB FOLR1 GPX3 IGFBP4 MAN1C1 OXA1L PIK3R1 RAD23B RARRES1 RNF167 SORD SPDEF TACSTD2 TBC1D4 TFF1 TNC TSPYL5                                                                                                                           </td><td>38</td></tr>\n",
       "</tbody>\n",
       "</table>\n"
      ],
      "text/latex": [
       "A tibble: 6 × 5\n",
       "\\begin{tabular}{lllll}\n",
       " Source & GeneSetID & GeneSetName & GeneList & n\\_Genes\\\\\n",
       " <chr> & <chr> & <chr> & <chr> & <int>\\\\\n",
       "\\hline\n",
       "\t L1000 & BRD-A00546892\\_-666\\_MCF7\\_6.0\\_h\\_10.0\\_um                     & BRD-A00546892\\_-666\\_MCF7\\_6.0\\_h\\_10.0\\_um                     & CITED2 COL5A1 CRABP2 KCTD12 MDFIC MMP2 NRP1 ORC1 PEG10 RCBTB2 S100A8 TMEM45A TWIST1 VIM CLU COCH CST3 DNAJB1 FAM46A LMO2 MAOB NRN1 SLC27A2 ZBTB20                                                                                                                                                                                                                 & 24\\\\\n",
       "\t L1000 & BRD-A00993607\\_ALPRENOLOL\\_MCF7\\_6.0\\_h\\_10.0\\_um               & BRD-A00993607\\_ALPRENOLOL\\_MCF7\\_6.0\\_h\\_10.0\\_um               & 1060P11.3 ADM AHR AMIGO2 ARL4C ATP10D CAV2 CD44 CDC42EP3 CHST1 COLEC12 DENND1B EMP1 EXT1 FAM129A FZD6 GLIPR1 IER5 IGF2BP3 KLRB1 LPAR6 NT5E PLIN2 PLXNA1 POSTN PPP1R3C QPCT SLC5A3 SPON2 TMEM158 TNFSF10 TRIB2 AGR2 CCL19 COMP CRK CXCL13 FAM46A GOLGA8A GRN GSTM3 HPRT1 MYO5C NGFRAP1 PLA2G16 SERPINA3 SLC5A6                                                     & 47\\\\\n",
       "\t L1000 & BRD-A00993607\\_Alprenolol hydrochloride\\_MCF7\\_6.0\\_h\\_10.0\\_um & BRD-A00993607\\_Alprenolol hydrochloride\\_MCF7\\_6.0\\_h\\_10.0\\_um & ABAT ASS1 CHI3L1 CHST2 CLDN3 EIF5B FRZB GAL HEBP2 MAN2A1 NELL2 PDE8B TBC1D1 TRD TRDV3 TYMP VAMP8 1060P11.3 AKR1B1 ARMCX1 ATF1 CAPN3 CAV1 CAV2 CNN3 CSTA DKK1 DLD EIF4A1 EPB41L2 FADS1 G3BP1 HLA-DPA1 HPRT1 LGALS3BP LHFP LYPLA1 MARCKS MN1 MTUS1 MYH10 NRIP1 OPN3 PIK3R1 PLLP POLR2K PTGER4 RBBP4 RDX THBS1 TMEM255A TNS1 TNS3 TOP2A TRAM1 TSPYL5 UFM1 WFDC2 WSB1 & 59\\\\\n",
       "\t L1000 & BRD-A01320529\\_Salmeterol\\_MCF7\\_6.0\\_h\\_10.0\\_um               & BRD-A01320529\\_Salmeterol\\_MCF7\\_6.0\\_h\\_10.0\\_um               & AMIGO2 AREG GAS6 GPR37 IFT57 PELI1 SQLE AKAP12 EXOSC4                                                                                                                                                                                                                                                                                                             &  9\\\\\n",
       "\t L1000 & BRD-A01346607\\_FLUMETHASONE\\_MCF7\\_6.0\\_h\\_10.0\\_um             & BRD-A01346607\\_FLUMETHASONE\\_MCF7\\_6.0\\_h\\_10.0\\_um             & 1060P11.3 CPE EFNB2 HIST1H2AC IL1R2 INHBB LYPD1 NUP93 SOX9 AKAP12 ALCAM CDH3 CTSH GDF15 SUMO2                                                                                                                                                                                                                                                                     & 15\\\\\n",
       "\t L1000 & BRD-A01593789\\_CHLORMADINONE ACETATE\\_MCF7\\_6.0\\_h\\_10.0\\_um    & BRD-A01593789\\_CHLORMADINONE ACETATE\\_MCF7\\_6.0\\_h\\_10.0\\_um    & 1060P11.3 ADH5 ADM ATF3 CASP1 CLEC2B CPA3 CRIM1 DKK3 FEZ1 MECOM MKNK1 NXN PCK1 RGCC S100A8 SPON1 SST TMEM41B CYP1B1 DNAJC12 ETFB FOLR1 GPX3 IGFBP4 MAN1C1 OXA1L PIK3R1 RAD23B RARRES1 RNF167 SORD SPDEF TACSTD2 TBC1D4 TFF1 TNC TSPYL5                                                                                                                            & 38\\\\\n",
       "\\end{tabular}\n"
      ],
      "text/markdown": [
       "\n",
       "A tibble: 6 × 5\n",
       "\n",
       "| Source &lt;chr&gt; | GeneSetID &lt;chr&gt; | GeneSetName &lt;chr&gt; | GeneList &lt;chr&gt; | n_Genes &lt;int&gt; |\n",
       "|---|---|---|---|---|\n",
       "| L1000 | BRD-A00546892_-666_MCF7_6.0_h_10.0_um                     | BRD-A00546892_-666_MCF7_6.0_h_10.0_um                     | CITED2 COL5A1 CRABP2 KCTD12 MDFIC MMP2 NRP1 ORC1 PEG10 RCBTB2 S100A8 TMEM45A TWIST1 VIM CLU COCH CST3 DNAJB1 FAM46A LMO2 MAOB NRN1 SLC27A2 ZBTB20                                                                                                                                                                                                                 | 24 |\n",
       "| L1000 | BRD-A00993607_ALPRENOLOL_MCF7_6.0_h_10.0_um               | BRD-A00993607_ALPRENOLOL_MCF7_6.0_h_10.0_um               | 1060P11.3 ADM AHR AMIGO2 ARL4C ATP10D CAV2 CD44 CDC42EP3 CHST1 COLEC12 DENND1B EMP1 EXT1 FAM129A FZD6 GLIPR1 IER5 IGF2BP3 KLRB1 LPAR6 NT5E PLIN2 PLXNA1 POSTN PPP1R3C QPCT SLC5A3 SPON2 TMEM158 TNFSF10 TRIB2 AGR2 CCL19 COMP CRK CXCL13 FAM46A GOLGA8A GRN GSTM3 HPRT1 MYO5C NGFRAP1 PLA2G16 SERPINA3 SLC5A6                                                     | 47 |\n",
       "| L1000 | BRD-A00993607_Alprenolol hydrochloride_MCF7_6.0_h_10.0_um | BRD-A00993607_Alprenolol hydrochloride_MCF7_6.0_h_10.0_um | ABAT ASS1 CHI3L1 CHST2 CLDN3 EIF5B FRZB GAL HEBP2 MAN2A1 NELL2 PDE8B TBC1D1 TRD TRDV3 TYMP VAMP8 1060P11.3 AKR1B1 ARMCX1 ATF1 CAPN3 CAV1 CAV2 CNN3 CSTA DKK1 DLD EIF4A1 EPB41L2 FADS1 G3BP1 HLA-DPA1 HPRT1 LGALS3BP LHFP LYPLA1 MARCKS MN1 MTUS1 MYH10 NRIP1 OPN3 PIK3R1 PLLP POLR2K PTGER4 RBBP4 RDX THBS1 TMEM255A TNS1 TNS3 TOP2A TRAM1 TSPYL5 UFM1 WFDC2 WSB1 | 59 |\n",
       "| L1000 | BRD-A01320529_Salmeterol_MCF7_6.0_h_10.0_um               | BRD-A01320529_Salmeterol_MCF7_6.0_h_10.0_um               | AMIGO2 AREG GAS6 GPR37 IFT57 PELI1 SQLE AKAP12 EXOSC4                                                                                                                                                                                                                                                                                                             |  9 |\n",
       "| L1000 | BRD-A01346607_FLUMETHASONE_MCF7_6.0_h_10.0_um             | BRD-A01346607_FLUMETHASONE_MCF7_6.0_h_10.0_um             | 1060P11.3 CPE EFNB2 HIST1H2AC IL1R2 INHBB LYPD1 NUP93 SOX9 AKAP12 ALCAM CDH3 CTSH GDF15 SUMO2                                                                                                                                                                                                                                                                     | 15 |\n",
       "| L1000 | BRD-A01593789_CHLORMADINONE ACETATE_MCF7_6.0_h_10.0_um    | BRD-A01593789_CHLORMADINONE ACETATE_MCF7_6.0_h_10.0_um    | 1060P11.3 ADH5 ADM ATF3 CASP1 CLEC2B CPA3 CRIM1 DKK3 FEZ1 MECOM MKNK1 NXN PCK1 RGCC S100A8 SPON1 SST TMEM41B CYP1B1 DNAJC12 ETFB FOLR1 GPX3 IGFBP4 MAN1C1 OXA1L PIK3R1 RAD23B RARRES1 RNF167 SORD SPDEF TACSTD2 TBC1D4 TFF1 TNC TSPYL5                                                                                                                            | 38 |\n",
       "\n"
      ],
      "text/plain": [
       "  Source GeneSetID                                                \n",
       "1 L1000  BRD-A00546892_-666_MCF7_6.0_h_10.0_um                    \n",
       "2 L1000  BRD-A00993607_ALPRENOLOL_MCF7_6.0_h_10.0_um              \n",
       "3 L1000  BRD-A00993607_Alprenolol hydrochloride_MCF7_6.0_h_10.0_um\n",
       "4 L1000  BRD-A01320529_Salmeterol_MCF7_6.0_h_10.0_um              \n",
       "5 L1000  BRD-A01346607_FLUMETHASONE_MCF7_6.0_h_10.0_um            \n",
       "6 L1000  BRD-A01593789_CHLORMADINONE ACETATE_MCF7_6.0_h_10.0_um   \n",
       "  GeneSetName                                              \n",
       "1 BRD-A00546892_-666_MCF7_6.0_h_10.0_um                    \n",
       "2 BRD-A00993607_ALPRENOLOL_MCF7_6.0_h_10.0_um              \n",
       "3 BRD-A00993607_Alprenolol hydrochloride_MCF7_6.0_h_10.0_um\n",
       "4 BRD-A01320529_Salmeterol_MCF7_6.0_h_10.0_um              \n",
       "5 BRD-A01346607_FLUMETHASONE_MCF7_6.0_h_10.0_um            \n",
       "6 BRD-A01593789_CHLORMADINONE ACETATE_MCF7_6.0_h_10.0_um   \n",
       "  GeneList                                                                                                                                                                                                                                                                                                                                                         \n",
       "1 CITED2 COL5A1 CRABP2 KCTD12 MDFIC MMP2 NRP1 ORC1 PEG10 RCBTB2 S100A8 TMEM45A TWIST1 VIM CLU COCH CST3 DNAJB1 FAM46A LMO2 MAOB NRN1 SLC27A2 ZBTB20                                                                                                                                                                                                                \n",
       "2 1060P11.3 ADM AHR AMIGO2 ARL4C ATP10D CAV2 CD44 CDC42EP3 CHST1 COLEC12 DENND1B EMP1 EXT1 FAM129A FZD6 GLIPR1 IER5 IGF2BP3 KLRB1 LPAR6 NT5E PLIN2 PLXNA1 POSTN PPP1R3C QPCT SLC5A3 SPON2 TMEM158 TNFSF10 TRIB2 AGR2 CCL19 COMP CRK CXCL13 FAM46A GOLGA8A GRN GSTM3 HPRT1 MYO5C NGFRAP1 PLA2G16 SERPINA3 SLC5A6                                                    \n",
       "3 ABAT ASS1 CHI3L1 CHST2 CLDN3 EIF5B FRZB GAL HEBP2 MAN2A1 NELL2 PDE8B TBC1D1 TRD TRDV3 TYMP VAMP8 1060P11.3 AKR1B1 ARMCX1 ATF1 CAPN3 CAV1 CAV2 CNN3 CSTA DKK1 DLD EIF4A1 EPB41L2 FADS1 G3BP1 HLA-DPA1 HPRT1 LGALS3BP LHFP LYPLA1 MARCKS MN1 MTUS1 MYH10 NRIP1 OPN3 PIK3R1 PLLP POLR2K PTGER4 RBBP4 RDX THBS1 TMEM255A TNS1 TNS3 TOP2A TRAM1 TSPYL5 UFM1 WFDC2 WSB1\n",
       "4 AMIGO2 AREG GAS6 GPR37 IFT57 PELI1 SQLE AKAP12 EXOSC4                                                                                                                                                                                                                                                                                                            \n",
       "5 1060P11.3 CPE EFNB2 HIST1H2AC IL1R2 INHBB LYPD1 NUP93 SOX9 AKAP12 ALCAM CDH3 CTSH GDF15 SUMO2                                                                                                                                                                                                                                                                    \n",
       "6 1060P11.3 ADH5 ADM ATF3 CASP1 CLEC2B CPA3 CRIM1 DKK3 FEZ1 MECOM MKNK1 NXN PCK1 RGCC S100A8 SPON1 SST TMEM41B CYP1B1 DNAJC12 ETFB FOLR1 GPX3 IGFBP4 MAN1C1 OXA1L PIK3R1 RAD23B RARRES1 RNF167 SORD SPDEF TACSTD2 TBC1D4 TFF1 TNC TSPYL5                                                                                                                           \n",
       "  n_Genes\n",
       "1 24     \n",
       "2 47     \n",
       "3 59     \n",
       "4  9     \n",
       "5 15     \n",
       "6 38     "
      ]
     },
     "metadata": {},
     "output_type": "display_data"
    }
   ],
   "source": [
    "head(L1000_DF)"
   ]
  },
  {
   "cell_type": "markdown",
   "id": "8489f5ae-99db-47b0-8817-375b5ab0681b",
   "metadata": {},
   "source": [
    "### Viral Infections"
   ]
  },
  {
   "cell_type": "raw",
   "id": "083256c6-d879-4692-a860-db92f87fe1cc",
   "metadata": {},
   "source": [
    "https://maayanlab.cloud/Harmonizome/dataset/GEO+Signatures+of+Differentially+Expressed+Genes+for+Viral+Infections"
   ]
  },
  {
   "cell_type": "code",
   "execution_count": 14,
   "id": "7e092dc0-882c-46d7-81ad-1a74babe3764",
   "metadata": {
    "collapsed": true,
    "jupyter": {
     "outputs_hidden": true
    },
    "tags": []
   },
   "outputs": [
    {
     "name": "stderr",
     "output_type": "stream",
     "text": [
      "\u001b[1m\u001b[22mNew names:\n",
      "\u001b[36m•\u001b[39m `#` -> `#...1`\n",
      "\u001b[36m•\u001b[39m `#` -> `#...2`\n",
      "\u001b[36m•\u001b[39m `icSARS CoV_24Hour` -> `icSARS CoV_24Hour...11`\n",
      "\u001b[36m•\u001b[39m `icSARS CoV_60Hour` -> `icSARS CoV_60Hour...12`\n",
      "\u001b[36m•\u001b[39m `icSARS CoV_54Hour` -> `icSARS CoV_54Hour...13`\n",
      "\u001b[36m•\u001b[39m `icSARS CoV_48Hour` -> `icSARS CoV_48Hour...14`\n",
      "\u001b[36m•\u001b[39m `icSARS CoV_72Hour` -> `icSARS CoV_72Hour...15`\n",
      "\u001b[36m•\u001b[39m `icSARS CoV_36Hour` -> `icSARS CoV_36Hour...16`\n",
      "\u001b[36m•\u001b[39m `icSARS CoV_30Hour` -> `icSARS CoV_30Hour...17`\n",
      "\u001b[36m•\u001b[39m `icSARS CoV_12Hour` -> `icSARS CoV_12Hour...19`\n",
      "\u001b[36m•\u001b[39m `icSARS CoV_7Hour` -> `icSARS CoV_7Hour...21`\n",
      "\u001b[36m•\u001b[39m `SARS-CoV MA15_Day2-PFU-10^4` -> `SARS-CoV MA15_Day2-PFU-10^4...29`\n",
      "\u001b[36m•\u001b[39m `SARS-CoV MA15_Day2` -> `SARS-CoV MA15_Day2...31`\n",
      "\u001b[36m•\u001b[39m `SARS-CoV MA15_Day2` -> `SARS-CoV MA15_Day2...32`\n",
      "\u001b[36m•\u001b[39m `SARS-CoV MA15_Day7-C57BL6` -> `SARS-CoV MA15_Day7-C57BL6...34`\n",
      "\u001b[36m•\u001b[39m `SARS-CoV MA15_Day7-PFU-10^5` -> `SARS-CoV MA15_Day7-PFU-10^5...36`\n",
      "\u001b[36m•\u001b[39m `SARS-CoV MA15_Day7-C57BL6` -> `SARS-CoV MA15_Day7-C57BL6...38`\n",
      "\u001b[36m•\u001b[39m `SARS-CoV MA15_Day4` -> `SARS-CoV MA15_Day4...51`\n",
      "\u001b[36m•\u001b[39m `SARS-CoV MA15_Day4` -> `SARS-CoV MA15_Day4...52`\n",
      "\u001b[36m•\u001b[39m `SARS-CoV MA15_Day1-PFU-10^4` -> `SARS-CoV MA15_Day1-PFU-10^4...74`\n",
      "\u001b[36m•\u001b[39m `SARS-CoV MA15_Day1-PFU-10^5` -> `SARS-CoV MA15_Day1-PFU-10^5...75`\n",
      "\u001b[36m•\u001b[39m `SARS-CoV MA15_Day7-PFU-10^4` -> `SARS-CoV MA15_Day7-PFU-10^4...90`\n",
      "\u001b[36m•\u001b[39m `SARS-CoV MA15_Day2-PFU-10^5` -> `SARS-CoV MA15_Day2-PFU-10^5...93`\n",
      "\u001b[36m•\u001b[39m `A-CA-04-2009(H1N1)_12Hour` -> `A-CA-04-2009(H1N1)_12Hour...94`\n",
      "\u001b[36m•\u001b[39m `A-CA-04-2009(H1N1)_18Hour` -> `A-CA-04-2009(H1N1)_18Hour...95`\n",
      "\u001b[36m•\u001b[39m `A-CA-04-2009(H1N1)_24Hour` -> `A-CA-04-2009(H1N1)_24Hour...96`\n",
      "\u001b[36m•\u001b[39m `A-CA-04-2009(H1N1)_6Hour` -> `A-CA-04-2009(H1N1)_6Hour...97`\n",
      "\u001b[36m•\u001b[39m `A-CA-04-2009(H1N1)_12Hour` -> `A-CA-04-2009(H1N1)_12Hour...98`\n",
      "\u001b[36m•\u001b[39m `A-CA-04-2009(H1N1)_12Hour` -> `A-CA-04-2009(H1N1)_12Hour...99`\n",
      "\u001b[36m•\u001b[39m `A-CA-04-2009(H1N1)_24Hour` -> `A-CA-04-2009(H1N1)_24Hour...100`\n",
      "\u001b[36m•\u001b[39m `A-CA-04-2009(H1N1)_24Hour` -> `A-CA-04-2009(H1N1)_24Hour...101`\n",
      "\u001b[36m•\u001b[39m `A-CA-04-2009(H1N1)_36Hour` -> `A-CA-04-2009(H1N1)_36Hour...103`\n",
      "\u001b[36m•\u001b[39m `A-CA-04-2009(H1N1)_36Hour` -> `A-CA-04-2009(H1N1)_36Hour...104`\n",
      "\u001b[36m•\u001b[39m `A-CA-04-2009(H1N1)_48Hour` -> `A-CA-04-2009(H1N1)_48Hour...105`\n",
      "\u001b[36m•\u001b[39m `A-CA-04-2009(H1N1)_48Hour` -> `A-CA-04-2009(H1N1)_48Hour...106`\n",
      "\u001b[36m•\u001b[39m `A-CA-04-2009(H1N1)_36Hour` -> `A-CA-04-2009(H1N1)_36Hour...107`\n",
      "\u001b[36m•\u001b[39m `A-CA-04-2009(H1N1)_48Hour` -> `A-CA-04-2009(H1N1)_48Hour...108`\n",
      "\u001b[36m•\u001b[39m `A-CA-04-2009(H1N1)_6Hour` -> `A-CA-04-2009(H1N1)_6Hour...110`\n",
      "\u001b[36m•\u001b[39m `A-CA-04-2009(H1N1)_6Hour` -> `A-CA-04-2009(H1N1)_6Hour...111`\n",
      "\u001b[36m•\u001b[39m `SARS-BatSRBD_72Hour` -> `SARS-BatSRBD_72Hour...112`\n",
      "\u001b[36m•\u001b[39m `SARS-CoV_72Hour` -> `SARS-CoV_72Hour...113`\n",
      "\u001b[36m•\u001b[39m `SARS-dORF6_72Hour` -> `SARS-dORF6_72Hour...115`\n",
      "\u001b[36m•\u001b[39m `SARS-CoV_84Hour` -> `SARS-CoV_84Hour...116`\n",
      "\u001b[36m•\u001b[39m `SARS-dORF6_84Hour` -> `SARS-dORF6_84Hour...117`\n",
      "\u001b[36m•\u001b[39m `SARS-BatSRBD_72Hour` -> `SARS-BatSRBD_72Hour...118`\n",
      "\u001b[36m•\u001b[39m `SARS-CoV_72Hour` -> `SARS-CoV_72Hour...119`\n",
      "\u001b[36m•\u001b[39m `SARS-BatSRBD_96Hour` -> `SARS-BatSRBD_96Hour...120`\n",
      "\u001b[36m•\u001b[39m `SARS-CoV_96Hour` -> `SARS-CoV_96Hour...121`\n",
      "\u001b[36m•\u001b[39m `SARS-dORF6_96Hour` -> `SARS-dORF6_96Hour...122`\n",
      "\u001b[36m•\u001b[39m `SARS-BatSRBD_60Hour` -> `SARS-BatSRBD_60Hour...123`\n",
      "\u001b[36m•\u001b[39m `SARS-CoV_60Hour` -> `SARS-CoV_60Hour...124`\n",
      "\u001b[36m•\u001b[39m `SARS-BatSRBD_84Hour` -> `SARS-BatSRBD_84Hour...126`\n",
      "\u001b[36m•\u001b[39m `SARS-CoV_84Hour` -> `SARS-CoV_84Hour...127`\n",
      "\u001b[36m•\u001b[39m `SARS-CoV_96Hour` -> `SARS-CoV_96Hour...129`\n",
      "\u001b[36m•\u001b[39m `SARS-BatSRBD_96Hour` -> `SARS-BatSRBD_96Hour...131`\n",
      "\u001b[36m•\u001b[39m `SARS-BatSRBD_72Hour` -> `SARS-BatSRBD_72Hour...132`\n",
      "\u001b[36m•\u001b[39m `SARS-BatSRBD_84Hour` -> `SARS-BatSRBD_84Hour...133`\n",
      "\u001b[36m•\u001b[39m `SARS-CoV_72Hour` -> `SARS-CoV_72Hour...134`\n",
      "\u001b[36m•\u001b[39m `SARS-dORF6_72Hour` -> `SARS-dORF6_72Hour...135`\n",
      "\u001b[36m•\u001b[39m `SARS-CoV_84Hour` -> `SARS-CoV_84Hour...136`\n",
      "\u001b[36m•\u001b[39m `SARS-dORF6_84Hour` -> `SARS-dORF6_84Hour...137`\n",
      "\u001b[36m•\u001b[39m `icSARS CoV_30Hour` -> `icSARS CoV_30Hour...141`\n",
      "\u001b[36m•\u001b[39m `icSARS CoV_36Hour` -> `icSARS CoV_36Hour...142`\n",
      "\u001b[36m•\u001b[39m `icSARS CoV_48Hour` -> `icSARS CoV_48Hour...143`\n",
      "\u001b[36m•\u001b[39m `icSARS CoV_54Hour` -> `icSARS CoV_54Hour...144`\n",
      "\u001b[36m•\u001b[39m `icSARS CoV_60Hour` -> `icSARS CoV_60Hour...145`\n",
      "\u001b[36m•\u001b[39m `icSARS CoV_72Hour` -> `icSARS CoV_72Hour...146`\n",
      "\u001b[36m•\u001b[39m `A-CA-04-2009(H1N1)_12Hour` -> `A-CA-04-2009(H1N1)_12Hour...147`\n",
      "\u001b[36m•\u001b[39m `A-CA-04-2009(H1N1)_18Hour` -> `A-CA-04-2009(H1N1)_18Hour...148`\n",
      "\u001b[36m•\u001b[39m `A-CA-04-2009(H1N1)_24Hour` -> `A-CA-04-2009(H1N1)_24Hour...149`\n",
      "\u001b[36m•\u001b[39m `A-CA-04-2009(H1N1)_24Hour` -> `A-CA-04-2009(H1N1)_24Hour...153`\n",
      "\u001b[36m•\u001b[39m `A-CA-04-2009(H1N1)_36Hour` -> `A-CA-04-2009(H1N1)_36Hour...155`\n",
      "\u001b[36m•\u001b[39m `A-CA-04-2009(H1N1)_48Hour` -> `A-CA-04-2009(H1N1)_48Hour...156`\n",
      "\u001b[36m•\u001b[39m `A-CA-04-2009(H1N1)_48Hour` -> `A-CA-04-2009(H1N1)_48Hour...158`\n",
      "\u001b[36m•\u001b[39m `SARS-CoV_48Hour` -> `SARS-CoV_48Hour...164`\n",
      "\u001b[36m•\u001b[39m `SARS-CoV_24Hour` -> `SARS-CoV_24Hour...166`\n",
      "\u001b[36m•\u001b[39m `SARS-BatSRBD_48Hour` -> `SARS-BatSRBD_48Hour...172`\n",
      "\u001b[36m•\u001b[39m `SARS-dORF6_48Hour` -> `SARS-dORF6_48Hour...173`\n",
      "\u001b[36m•\u001b[39m `SARS-CoV_48Hour` -> `SARS-CoV_48Hour...174`\n",
      "\u001b[36m•\u001b[39m `SARS-BatSRBD_84Hour` -> `SARS-BatSRBD_84Hour...175`\n",
      "\u001b[36m•\u001b[39m `SARS-CoV_60Hour` -> `SARS-CoV_60Hour...176`\n",
      "\u001b[36m•\u001b[39m `SARS-CoV_24Hour` -> `SARS-CoV_24Hour...178`\n",
      "\u001b[36m•\u001b[39m `SARS-dORF6_24Hour` -> `SARS-dORF6_24Hour...179`\n",
      "\u001b[36m•\u001b[39m `SARS-BatSRBD_36Hour` -> `SARS-BatSRBD_36Hour...180`\n",
      "\u001b[36m•\u001b[39m `SARS-BatSRBD_96Hour` -> `SARS-BatSRBD_96Hour...181`\n",
      "\u001b[36m•\u001b[39m `SARS-dORF6_96Hour` -> `SARS-dORF6_96Hour...182`\n",
      "\u001b[36m•\u001b[39m `SARS-CoV_96Hour` -> `SARS-CoV_96Hour...183`\n",
      "\u001b[36m•\u001b[39m `SARS-BatSRBD_48Hour` -> `SARS-BatSRBD_48Hour...184`\n",
      "\u001b[36m•\u001b[39m `SARS-dORF6_48Hour` -> `SARS-dORF6_48Hour...185`\n",
      "\u001b[36m•\u001b[39m `SARS-CoV_48Hour` -> `SARS-CoV_48Hour...186`\n",
      "\u001b[36m•\u001b[39m `SARS-BatSRBD_60Hour` -> `SARS-BatSRBD_60Hour...187`\n",
      "\u001b[36m•\u001b[39m `SARS-dORF6_60Hour` -> `SARS-dORF6_60Hour...188`\n",
      "\u001b[36m•\u001b[39m `SARS-BatSRBD_36Hour` -> `SARS-BatSRBD_36Hour...189`\n",
      "\u001b[36m•\u001b[39m `SARS-dORF6_36Hour` -> `SARS-dORF6_36Hour...191`\n",
      "\u001b[36m•\u001b[39m `SARS-BatSRBD_60Hour` -> `SARS-BatSRBD_60Hour...192`\n",
      "\u001b[36m•\u001b[39m `SARS-CoV_60Hour` -> `SARS-CoV_60Hour...193`\n",
      "\u001b[36m•\u001b[39m `SARS-dORF6_60Hour` -> `SARS-dORF6_60Hour...194`\n",
      "\u001b[36m•\u001b[39m `SARS-dORF6_24Hour` -> `SARS-dORF6_24Hour...195`\n",
      "\u001b[36m•\u001b[39m `SARS-BatSRBD_48Hour` -> `SARS-BatSRBD_48Hour...196`\n",
      "\u001b[36m•\u001b[39m `SARS-CoV_48Hour` -> `SARS-CoV_48Hour...197`\n",
      "\u001b[36m•\u001b[39m `SARS-CoV_24Hour` -> `SARS-CoV_24Hour...199`\n",
      "\u001b[36m•\u001b[39m `A-CA-04-2009(H1N1)_0Hour` -> `A-CA-04-2009(H1N1)_0Hour...201`\n",
      "\u001b[36m•\u001b[39m `SARS-BatSRBD_0Hour` -> `SARS-BatSRBD_0Hour...202`\n",
      "\u001b[36m•\u001b[39m `A-CA-04-2009(H1N1)_12Hour` -> `A-CA-04-2009(H1N1)_12Hour...224`\n",
      "\u001b[36m•\u001b[39m `A-Vietnam-1203-2004(H5N1)_24Hour` ->\n",
      "  `A-Vietnam-1203-2004(H5N1)_24Hour...228`\n",
      "\u001b[36m•\u001b[39m `A-Vietnam-1203-2004(H5N1)_24Hour` ->\n",
      "  `A-Vietnam-1203-2004(H5N1)_24Hour...229`\n",
      "\u001b[36m•\u001b[39m `A-Vietnam-1203-2004(H5N1)_7Hour` -> `A-Vietnam-1203-2004(H5N1)_7Hour...235`\n",
      "\u001b[36m•\u001b[39m `A-Vietnam-1203-2004(H5N1)_7Hour` -> `A-Vietnam-1203-2004(H5N1)_7Hour...236`\n",
      "\u001b[36m•\u001b[39m `A-CA-04-2009(H1N1)_0Hour` -> `A-CA-04-2009(H1N1)_0Hour...246`\n",
      "\u001b[36m•\u001b[39m `SARS-BatSRBD_0Hour` -> `SARS-BatSRBD_0Hour...247`\n",
      "\u001b[36m•\u001b[39m `SARS-CoV_0Hour` -> `SARS-CoV_0Hour...248`\n",
      "\u001b[36m•\u001b[39m `SARS-dORF6_0Hour` -> `SARS-dORF6_0Hour...249`\n",
      "\u001b[36m•\u001b[39m `SARS-BatSRBD_12Hour` -> `SARS-BatSRBD_12Hour...255`\n",
      "\u001b[36m•\u001b[39m `SARS-CoV_12Hour` -> `SARS-CoV_12Hour...256`\n",
      "\u001b[36m•\u001b[39m `SARS-dORF6_12Hour` -> `SARS-dORF6_12Hour...257`\n",
      "\u001b[36m•\u001b[39m `SARS-CoV_24Hour` -> `SARS-CoV_24Hour...258`\n",
      "\u001b[36m•\u001b[39m `SARS-CoV_0Hour` -> `SARS-CoV_0Hour...259`\n",
      "\u001b[36m•\u001b[39m `SARS-dORF6_0Hour` -> `SARS-dORF6_0Hour...260`\n",
      "\u001b[36m•\u001b[39m `SARS-CoV MA15_Day4-PFU-10^5` -> `SARS-CoV MA15_Day4-PFU-10^5...275`\n",
      "\u001b[36m•\u001b[39m `SARS-CoV MA15_Day4-PFU-10^4` -> `SARS-CoV MA15_Day4-PFU-10^4...278`\n",
      "\u001b[36m•\u001b[39m `SARS-CoV MA15_Day2-PFU-10^4` -> `SARS-CoV MA15_Day2-PFU-10^4...283`\n",
      "\u001b[36m•\u001b[39m `SARS-CoV MA15_Day2-PFU-10^5` -> `SARS-CoV MA15_Day2-PFU-10^5...284`\n",
      "\u001b[36m•\u001b[39m `SARS-CoV MA15_Day7-PFU-10^4` -> `SARS-CoV MA15_Day7-PFU-10^4...287`\n",
      "\u001b[36m•\u001b[39m `SARS-CoV MA15_Day7-PFU-10^5` -> `SARS-CoV MA15_Day7-PFU-10^5...288`\n",
      "\u001b[36m•\u001b[39m `SARS-CoV MA15_Day1-PFU-10^4` -> `SARS-CoV MA15_Day1-PFU-10^4...291`\n",
      "\u001b[36m•\u001b[39m `SARS-CoV MA15_Day1-PFU-10^5` -> `SARS-CoV MA15_Day1-PFU-10^5...292`\n",
      "\u001b[36m•\u001b[39m `SARS-CoV_12Hour` -> `SARS-CoV_12Hour...312`\n",
      "\u001b[36m•\u001b[39m `icSARS CoV_0Hour` -> `icSARS CoV_0Hour...318`\n",
      "\u001b[36m•\u001b[39m `icSARS CoV_7Hour` -> `icSARS CoV_7Hour...320`\n",
      "\u001b[36m•\u001b[39m `icSARS CoV_12Hour` -> `icSARS CoV_12Hour...321`\n",
      "\u001b[36m•\u001b[39m `icSARS CoV_24Hour` -> `icSARS CoV_24Hour...323`\n",
      "\u001b[36m•\u001b[39m `SARS-CoV MA15_Day4-PFU-10^4` -> `SARS-CoV MA15_Day4-PFU-10^4...327`\n",
      "\u001b[36m•\u001b[39m `SARS-CoV MA15_Day4-PFU-10^5` -> `SARS-CoV MA15_Day4-PFU-10^5...328`\n",
      "\u001b[36m•\u001b[39m `A-CA-04-2009(H1N1)_0Hour` -> `A-CA-04-2009(H1N1)_0Hour...332`\n",
      "\u001b[36m•\u001b[39m `SARS-dORF6_36Hour` -> `SARS-dORF6_36Hour...345`\n",
      "\u001b[36m•\u001b[39m `SARS-BatSRBD_12Hour` -> `SARS-BatSRBD_12Hour...347`\n",
      "\u001b[36m•\u001b[39m `SARS-CoV_12Hour` -> `SARS-CoV_12Hour...348`\n",
      "\u001b[36m•\u001b[39m `SARS-dORF6_12Hour` -> `SARS-dORF6_12Hour...349`\n",
      "\u001b[36m•\u001b[39m `icSARS CoV_0Hour` -> `icSARS CoV_0Hour...351`\n",
      "\u001b[36m•\u001b[39m `A-CA-04-2009(H1N1)_0Hour` -> `A-CA-04-2009(H1N1)_0Hour...363`\n",
      "\u001b[36m•\u001b[39m `SARS-BatSRBD_0Hour` -> `SARS-BatSRBD_0Hour...364`\n",
      "\u001b[36m•\u001b[39m `SARS-CoV_0Hour` -> `SARS-CoV_0Hour...365`\n",
      "\u001b[36m•\u001b[39m `A-CA-04-2009(H1N1)_0Hour` -> `A-CA-04-2009(H1N1)_0Hour...368`\n",
      "\u001b[1mRows: \u001b[22m\u001b[34m21414\u001b[39m \u001b[1mColumns: \u001b[22m\u001b[34m369\u001b[39m\n",
      "\u001b[36m──\u001b[39m \u001b[1mColumn specification\u001b[22m \u001b[36m────────────────────────────────────────────────────────\u001b[39m\n",
      "\u001b[1mDelimiter:\u001b[22m \"\\t\"\n",
      "\u001b[31mchr\u001b[39m   (3): #...1, #...2, Virus Perturbation\n",
      "\u001b[32mdbl\u001b[39m (366): icSARA deltaORF6_30Hour, icSARA deltaORF6_36Hour, icSARA deltaORF...\n",
      "\n",
      "\u001b[36mℹ\u001b[39m Use `spec()` to retrieve the full column specification for this data.\n",
      "\u001b[36mℹ\u001b[39m Specify the column types or set `show_col_types = FALSE` to quiet this message.\n",
      "Warning message:\n",
      "“\u001b[1m\u001b[22mExpected 2 pieces. Additional pieces discarded in 15 rows [10, 11, 12, 13, 14,\n",
      "15, 16, 17, 18, 19, 22, 23, 24, 25, 27].”\n"
     ]
    }
   ],
   "source": [
    "viral_Infections_all_long_DF = read_delim(file = \"data//Viral_Infections_gene_attribute_matrix_standardized.txt\", delim = \"\\t\", skip = 1) %>%\n",
    "rename(GeneSym  = `#...1`) %>%\n",
    "select(c(-2, -3)) %>%\n",
    "slice(-1) %>%\n",
    "pivot_longer(c(2:ncol(.))) %>%\n",
    "subset(abs(value) >= 2) %>%\n",
    "group_by(name) %>%\n",
    "summarize(GeneList = paste0(GeneSym, collapse = \" \")) %>%\n",
    "rowwise() %>% \n",
    "mutate(n_Genes = length(str_split(string = GeneList, pattern = \" \")[[1]]))  %>%\n",
    "subset(between(x = n_Genes, left = 3, right = 100)) %>%\n",
    "mutate(Source = \"Viral_Infections\",\n",
    "       GeneSetID = name,\n",
    "       GeneSetName = name) %>%\n",
    "select(-name) %>%\n",
    "separate(col = GeneSetID,\n",
    "         into = c(\"virus\", \"duration\"),\n",
    "        sep = \"_\",\n",
    "        remove = FALSE) %>%\n",
    "select(genesets_colnames)"
   ]
  },
  {
   "cell_type": "code",
   "execution_count": 15,
   "id": "3eb1b9a3-54de-4add-b9bb-5301cc23cf44",
   "metadata": {},
   "outputs": [],
   "source": [
    "# viral_Infections_all_count_DF = viral_Infections_all_long_DF %>%\n",
    "# group_by(duration) %>%\n",
    "# summarise(n_genesets = n()) %>%\n",
    "# arrange(desc(n_genesets))\n",
    "\n",
    "# viral_Infections_all_count_DF"
   ]
  },
  {
   "cell_type": "code",
   "execution_count": 16,
   "id": "753a09aa-920e-4a36-ae19-ac15dfb56b81",
   "metadata": {},
   "outputs": [
    {
     "data": {
      "text/html": [
       "<style>\n",
       ".list-inline {list-style: none; margin:0; padding: 0}\n",
       ".list-inline>li {display: inline-block}\n",
       ".list-inline>li:not(:last-child)::after {content: \"\\00b7\"; padding: 0 .5ex}\n",
       "</style>\n",
       "<ol class=list-inline><li>48</li><li>5</li></ol>\n"
      ],
      "text/latex": [
       "\\begin{enumerate*}\n",
       "\\item 48\n",
       "\\item 5\n",
       "\\end{enumerate*}\n"
      ],
      "text/markdown": [
       "1. 48\n",
       "2. 5\n",
       "\n",
       "\n"
      ],
      "text/plain": [
       "[1] 48  5"
      ]
     },
     "metadata": {},
     "output_type": "display_data"
    }
   ],
   "source": [
    "dim(viral_Infections_all_long_DF)"
   ]
  },
  {
   "cell_type": "code",
   "execution_count": 17,
   "id": "e29ae848-533b-43a8-8aea-bee2ab3e6da1",
   "metadata": {},
   "outputs": [
    {
     "data": {
      "text/html": [
       "300"
      ],
      "text/latex": [
       "300"
      ],
      "text/markdown": [
       "300"
      ],
      "text/plain": [
       "[1] 300"
      ]
     },
     "metadata": {},
     "output_type": "display_data"
    }
   ],
   "source": [
    "(126 + 126 + 48)"
   ]
  },
  {
   "cell_type": "code",
   "execution_count": 18,
   "id": "ef1bdb62-ed25-48d9-83b1-eb53be622ed0",
   "metadata": {},
   "outputs": [],
   "source": [
    "genesets_DF = genesets_empty_DF %>%\n",
    "rbind(head(NeST_DF, 126)) %>%\n",
    "rbind(head(L1000_DF, 126)) %>%\n",
    "rbind(head(viral_Infections_all_long_DF, 48)) "
   ]
  },
  {
   "cell_type": "code",
   "execution_count": 19,
   "id": "125a0558-c27e-424b-96e5-84288aace962",
   "metadata": {
    "tags": []
   },
   "outputs": [
    {
     "data": {
      "text/plain": [
       ".\n",
       "           L1000             NeST Viral_Infections \n",
       "             126              126               48 "
      ]
     },
     "metadata": {},
     "output_type": "display_data"
    }
   ],
   "source": [
    "genesets_DF %>% pull(Source) %>% table()"
   ]
  },
  {
   "cell_type": "code",
   "execution_count": 20,
   "id": "848233ef-b650-4478-9e55-1ce04ff7b0b4",
   "metadata": {},
   "outputs": [],
   "source": [
    "write_delim(x = genesets_DF,file = \"data/omics_revamped.txt\" , delim = \"\\t\")"
   ]
  },
  {
   "cell_type": "code",
   "execution_count": null,
   "id": "4e40ddfa-da07-41e6-883a-f4ecf875fc8e",
   "metadata": {},
   "outputs": [],
   "source": []
  },
  {
   "cell_type": "code",
   "execution_count": null,
   "id": "76f70a0f-c7cd-4e5b-b49c-512c6263da06",
   "metadata": {},
   "outputs": [],
   "source": []
  },
  {
   "cell_type": "code",
   "execution_count": null,
   "id": "3c4fc5c8-72d4-4d31-b031-cdcf3d0515ae",
   "metadata": {},
   "outputs": [],
   "source": []
  }
 ],
 "metadata": {
  "kernelspec": {
   "display_name": "R",
   "language": "R",
   "name": "ir"
  },
  "language_info": {
   "codemirror_mode": "r",
   "file_extension": ".r",
   "mimetype": "text/x-r-source",
   "name": "R",
   "pygments_lexer": "r",
   "version": "4.3.2"
  }
 },
 "nbformat": 4,
 "nbformat_minor": 5
}
